{
  "nbformat": 4,
  "nbformat_minor": 0,
  "metadata": {
    "accelerator": "GPU",
    "colab": {
      "name": "Chinese News Story Classifier.ipynb",
      "provenance": [],
      "collapsed_sections": [],
      "toc_visible": true,
      "include_colab_link": true
    },
    "kernelspec": {
      "display_name": "Python 3",
      "name": "python3"
    }
  },
  "cells": [
    {
      "cell_type": "markdown",
      "metadata": {
        "id": "view-in-github",
        "colab_type": "text"
      },
      "source": [
        "<a href=\"https://colab.research.google.com/github/Bryan6aero/New-Chinese-Classifier/blob/main/Chinese_News_Story_Classifier.ipynb\" target=\"_parent\"><img src=\"https://colab.research.google.com/assets/colab-badge.svg\" alt=\"Open In Colab\"/></a>"
      ]
    },
    {
      "cell_type": "markdown",
      "metadata": {
        "id": "go7yIzKo-Qdr"
      },
      "source": [
        ""
      ]
    },
    {
      "cell_type": "markdown",
      "metadata": {
        "id": "5yH9Jc-p-SkH"
      },
      "source": [
        "#Introduction\n",
        "Hello. This is an example of a classifier that utilizes BERT (Bidirectional Encoder Representations from Transformers) to classify Chinese text.  \n",
        "\n",
        "To demonstrate this task, I acquired a dataset from Kaggle consisting of thousands of news articles in Chinese.  These articles fall into three broad classes, domestic, international, and other news.  \n",
        "\n",
        "\n",
        "The following sections of code \n",
        "   1. Install the necessary environment and libraries to run classifier.\n",
        "   2. Download the data the model will be trained on and tested against.\n",
        "   3. Format the training data into a format BERT can understand and split of 10% of the training data to create a validation dataset that the model can be tested against when it is training.\n",
        "   4. Train the model and evaluate its accuracy against the validation dataset.\n",
        "   5. Use the trained model to classify new data and evaluate its accuracy. "
      ]
    },
    {
      "cell_type": "markdown",
      "metadata": {
        "id": "qDBN0xh_WZF0"
      },
      "source": [
        "## 1 Install Environment and Libraries"
      ]
    },
    {
      "cell_type": "markdown",
      "metadata": {
        "id": "2ElsnSNUridI"
      },
      "source": [
        "### 1.1 Install the Hugging Face Library\n"
      ]
    },
    {
      "cell_type": "code",
      "metadata": {
        "colab": {
          "base_uri": "https://localhost:8080/"
        },
        "id": "0NmMdkZO8R6q",
        "outputId": "3741c48b-eafe-4ba5-8490-705e12c96bc5"
      },
      "source": [
        "!pip install transformers"
      ],
      "execution_count": 1,
      "outputs": [
        {
          "output_type": "stream",
          "name": "stdout",
          "text": [
            "Looking in indexes: https://pypi.org/simple, https://us-python.pkg.dev/colab-wheels/public/simple/\n",
            "Requirement already satisfied: transformers in /usr/local/lib/python3.7/dist-packages (4.20.1)\n",
            "Requirement already satisfied: numpy>=1.17 in /usr/local/lib/python3.7/dist-packages (from transformers) (1.21.6)\n",
            "Requirement already satisfied: requests in /usr/local/lib/python3.7/dist-packages (from transformers) (2.23.0)\n",
            "Requirement already satisfied: huggingface-hub<1.0,>=0.1.0 in /usr/local/lib/python3.7/dist-packages (from transformers) (0.8.1)\n",
            "Requirement already satisfied: pyyaml>=5.1 in /usr/local/lib/python3.7/dist-packages (from transformers) (6.0)\n",
            "Requirement already satisfied: tqdm>=4.27 in /usr/local/lib/python3.7/dist-packages (from transformers) (4.64.0)\n",
            "Requirement already satisfied: importlib-metadata in /usr/local/lib/python3.7/dist-packages (from transformers) (4.11.4)\n",
            "Requirement already satisfied: filelock in /usr/local/lib/python3.7/dist-packages (from transformers) (3.7.1)\n",
            "Requirement already satisfied: regex!=2019.12.17 in /usr/local/lib/python3.7/dist-packages (from transformers) (2022.6.2)\n",
            "Requirement already satisfied: tokenizers!=0.11.3,<0.13,>=0.11.1 in /usr/local/lib/python3.7/dist-packages (from transformers) (0.12.1)\n",
            "Requirement already satisfied: packaging>=20.0 in /usr/local/lib/python3.7/dist-packages (from transformers) (21.3)\n",
            "Requirement already satisfied: typing-extensions>=3.7.4.3 in /usr/local/lib/python3.7/dist-packages (from huggingface-hub<1.0,>=0.1.0->transformers) (4.1.1)\n",
            "Requirement already satisfied: pyparsing!=3.0.5,>=2.0.2 in /usr/local/lib/python3.7/dist-packages (from packaging>=20.0->transformers) (3.0.9)\n",
            "Requirement already satisfied: zipp>=0.5 in /usr/local/lib/python3.7/dist-packages (from importlib-metadata->transformers) (3.8.0)\n",
            "Requirement already satisfied: certifi>=2017.4.17 in /usr/local/lib/python3.7/dist-packages (from requests->transformers) (2022.6.15)\n",
            "Requirement already satisfied: urllib3!=1.25.0,!=1.25.1,<1.26,>=1.21.1 in /usr/local/lib/python3.7/dist-packages (from requests->transformers) (1.24.3)\n",
            "Requirement already satisfied: idna<3,>=2.5 in /usr/local/lib/python3.7/dist-packages (from requests->transformers) (2.10)\n",
            "Requirement already satisfied: chardet<4,>=3.0.2 in /usr/local/lib/python3.7/dist-packages (from requests->transformers) (3.0.4)\n"
          ]
        }
      ]
    },
    {
      "cell_type": "markdown",
      "metadata": {
        "id": "o9kg0ojhpaDv"
      },
      "source": [
        "### 1.2 BERT For**Multi-Class**SequenceClassification"
      ]
    },
    {
      "cell_type": "code",
      "metadata": {
        "id": "SomcsvX5bi1U"
      },
      "source": [
        "from torch import nn\n",
        "from torch.nn import BCEWithLogitsLoss\n",
        "from transformers import BertPreTrainedModel, BertModel\n",
        "\n",
        "class BertForSequenceClassification(BertPreTrainedModel):\n",
        "\n",
        "    def __init__(self, config):\n",
        "        '''\n",
        "        Class initializer, called when we create a new instance of this class.\n",
        "        '''\n",
        "\n",
        "        # Call the init function of the parent class (BertPreTrainedModel)        \n",
        "        super().__init__(config)\n",
        "       \n",
        "        # Store the number of labels.\n",
        "        self.num_labels = config.num_labels\n",
        "        \n",
        "        # Create a `BertModel`--this implements all of BERT except for the final\n",
        "        # task-specific output layer (which is what we'll do here in `forward`). \n",
        "        self.bert = BertModel(config)\n",
        "\n",
        "        # Setup dropout object (note: I'm not familiar enough to speak to this).\n",
        "        self.dropout = nn.Dropout(config.hidden_dropout_prob)\n",
        "\n",
        "        # Create a [768 x 6] weight matrix to use as our classifier.\n",
        "        self.classifier = nn.Linear(config.hidden_size, config.num_labels)\n",
        "\n",
        "        # Initialize model weights (inherited function).\n",
        "        self.init_weights()\n",
        "\n",
        "    def forward(\n",
        "        self,\n",
        "        input_ids=None,\n",
        "        attention_mask=None,\n",
        "        token_type_ids=None,\n",
        "        position_ids=None,\n",
        "        head_mask=None,\n",
        "        inputs_embeds=None,\n",
        "        labels=None,\n",
        "        output_attentions=None,\n",
        "        output_hidden_states=None,\n",
        "    ):\n",
        "        '''\n",
        "        This function defines what happens on a forward pass of our model, both\n",
        "        for training and evaluation. For example, when we call \n",
        "            `model(b_input_ids, ...)`\n",
        "        during our training loop, it results in a call to this `forward`\n",
        "        function.\n",
        "        '''\n",
        "\n",
        "        # ====================\n",
        "        #   Run Through BERT\n",
        "        # ====================\n",
        "\n",
        "        # All of BERT's (non-task-specific) architecture is implemented by the\n",
        "        # BertModel class. Here we pass all of the inputs through our BertModel\n",
        "        # instance. \n",
        "        outputs = self.bert(\n",
        "            input_ids,                      # The input sequence\n",
        "            attention_mask=attention_mask,  # Mask out any [PAD] tokens.\n",
        "            token_type_ids=token_type_ids,  # Identify segment A vs. B\n",
        "            position_ids=position_ids,      # TODO...\n",
        "            head_mask=head_mask,            # TODO...\n",
        "            inputs_embeds=inputs_embeds,    # Presumably the initial embeddings\n",
        "                                            # for the tokens in our sequence.\n",
        "            output_attentions=output_attentions, # Boolean, whether to return\n",
        "                                                 # all of the attention scores.\n",
        "            output_hidden_states=output_hidden_states, # Whether to return\n",
        "                                                       # embeddings from all 12\n",
        "                                                       # layers.\n",
        "        )\n",
        "\n",
        "        # Side note: It confused me to see us *invoking* an instance of a class\n",
        "        # (calling self.bert(...)) as if it were a function! I learned that in \n",
        "        # Python, an instance of a class can be callable if the class defines a \n",
        "        # `__call__` method! \n",
        "        # BertModel ultimately inherits from torch.nn.Module, which I imagine \n",
        "        # implements a `__call__` method that allows PyTorch to work its magic.\n",
        "\n",
        "        # The forward pass of 'BertModel' (the call to `self.bert`) returns two\n",
        "        # items.\n",
        "\n",
        "        # The first output is the final embeddings taken from the output of \n",
        "        # the final BERT encoder layer.\n",
        "        #\n",
        "        # `final_embeddings` has dimensions:\n",
        "        #    [ batch size  x  sequence length  x  768]\n",
        "        #      (768 is the length of the embeddings in BERT-base)\n",
        "        #\n",
        "        # I've included this here for informational purposes, but we won't \n",
        "        # actually use the `final_embeddings` anywhere here!\n",
        "        final_embeddings = outputs[0]\n",
        "\n",
        "        # ===========================\n",
        "        #   Apply Output Classifier\n",
        "        # ===========================\n",
        "\n",
        "        # The second output is the activated form of the final [CLS] embedding. \n",
        "        # This comes from the so-called \"pooling layer\" that BERT has on its \n",
        "        # output which is only applied to the [CLS] token and none of the\n",
        "        # others.\n",
        "        #\n",
        "        # You can see the definition of BertPooler.forward here:\n",
        "        # https://github.com/huggingface/transformers/blob/0735def8e1200ed45a2c33a075bc1595b12ef56a/src/transformers/modeling_bert.py#L506\n",
        "        #\n",
        "        # It takes the final embedding for the [CLS] token (and *only* that\n",
        "        # token), multiplies it with a [768 x 768] weight matrix, and then\n",
        "        # applies tanh activation to each of the 768 features in the embedding.\n",
        "        activated_cls = outputs[1]\n",
        "\n",
        "        # Apply dropout (note: I'm not familiar enough with dropout to speak to\n",
        "        # it, but I believe it is applied during training only, and is turned \n",
        "        # off during evaluation mode when we call `model.eval()`).\n",
        "        activated_cls = self.dropout(activated_cls)\n",
        "        \n",
        "        # Send it through our linear \"classifier\". The \"classifier\" is actually\n",
        "        # just a [768 x 6] weight matrix, with *no activation function*. \n",
        "        # Multiplying the activated CLS embedding with this matrix results in\n",
        "        # a vector with 6 values, which are the scores for each of our classes.\n",
        "        # Because we have not applied the activation function, these output \n",
        "        # values are referred to as \"logits\". \n",
        "        # When performing evaluation (not training), the logits are adequate for\n",
        "        # making a classification, since the activation function does not change\n",
        "        # the ranking of the results.\n",
        "        # So, in evaluation mode, we are done here!\n",
        "        logits = self.classifier(activated_cls)\n",
        "        \n",
        "        # ===================\n",
        "        #   Training Mode\n",
        "        # ===================\n",
        "\n",
        "        # If labels for the inputs have been provided, we take that to mean that\n",
        "        # we are in training mode, and we need to calculate the loss function.\n",
        "        if labels is not None:\n",
        "            \n",
        "            # The Binary Cross-Entropy Loss function is defined for us in \n",
        "            # PyTorch by the `BCEWithLogitsLoss` class.\n",
        "            #\n",
        "            # This loss function will:\n",
        "            #   1. Apply the sigmoid activation to each of our 6 logit values.\n",
        "            #   2. Feed those outputs, along with the correct labels, through \n",
        "            #      the binary cross entropy loss function to calculate a \n",
        "            #      (single?) loss value for the sample.\n",
        "            loss_fct = BCEWithLogitsLoss()\n",
        "\n",
        "            # Call the loss function, giving it the `logits` and the correct\n",
        "            # `labels`.\n",
        "            loss = loss_fct(logits.view(-1, self.num_labels), # The logits\n",
        "                            labels.view(-1, self.num_labels)) # The labels\n",
        "\n",
        "            # What's view(-1, ...)?\n",
        "            # The `view` function is used to reshape tensors. `-1` tells PyTorch\n",
        "            # to infer that dimension by dividing the total number of elements\n",
        "            # by the other dimensions.\n",
        "            # For batched input, this call to view is not necessary. Both\n",
        "            # `logits` and `labels` are already [16 x 6] here.\n",
        "            # Perhaps it's there to re-shape the tensors if you're only\n",
        "            # evaluating on a single input instead of a batch?\n",
        "\n",
        "            # Output is (loss, logits, <bonus returns>)\n",
        "            # The 'bonus return' values are the attentions and the hidden states\n",
        "            # from all 12 layers, but these are only returned by `BertModel` if\n",
        "            # the appropriate flags are set. \n",
        "            return ((loss, logits) + outputs[2:])\n",
        "\n",
        "        # ===================\n",
        "        #   Evaluation Mode\n",
        "        # ===================\n",
        "\n",
        "        # Otherwise, in evaluation mode...\n",
        "        else:\n",
        "        \n",
        "            # Output is (logits, <bonus returns>)\n",
        "            # Again, the logits are adequate for classification, so we don't\n",
        "            # bother applying the (sigmoid) activation function here.\n",
        "            return ((logits,) + outputs[2:])"
      ],
      "execution_count": 2,
      "outputs": []
    },
    {
      "cell_type": "markdown",
      "metadata": {
        "id": "5eFNZ1k9W4nU"
      },
      "source": [
        "## 2 Import Data"
      ]
    },
    {
      "cell_type": "markdown",
      "metadata": {
        "id": "HAjyraFG4Abp"
      },
      "source": [
        "### 2.1 Download\n",
        "--------------------------------------\n",
        "The full dataset comes from Kaggle.  It is over 20,000 Chinese news stories in 3 categories, international, domestic, and other.  The training set is the full text of the first 15,000 articles and the test set is the last 1,000 articles."
      ]
    },
    {
      "cell_type": "code",
      "metadata": {
        "colab": {
          "base_uri": "https://localhost:8080/"
        },
        "id": "Q-LF9NXd4Abp",
        "outputId": "d10e8478-809f-488d-8062-99253f6ed9ca"
      },
      "source": [
        "import gdown\n",
        "import os\n",
        "\n",
        "# Model files and their Google Drive IDs.\n",
        "# These are tuples of the form (local_file_name, drive_id).\n",
        "\n",
        "files = [\n",
        "\n",
        "     ('./data/train.csv',     '170MpjGO_Rm4nElLqr5MQUm7daSHvOaMC'), \n",
        "     ('./data/test.csv',     '1V9tc9C6Om7S8IrhzVYvAWXnJ29nEVudB'),    \n",
        "     ('./data/sample_submission.csv', '1mncwmJa9sJ7cMPxYA9vNH-L2lv7QC5la'),\n",
        "     ('./data/test_labels.csv', '1s65N0GvnwG9e9gWdqbLs3_MAjJ-uwR1o'),\n",
        "]\n",
        "'''\n",
        "Links to the files\n",
        "https://drive.google.com/file/d/170MpjGO_Rm4nElLqr5MQUm7daSHvOaMC/view?usp=sharing Train\n",
        "https://drive.google.com/file/d/1V9tc9C6Om7S8IrhzVYvAWXnJ29nEVudB/view?usp=sharing Test\n",
        "https://drive.google.com/file/d/1mncwmJa9sJ7cMPxYA9vNH-L2lv7QC5la/view?usp=sharing Sample Submission\n",
        "https://drive.google.com/file/d/1s65N0GvnwG9e9gWdqbLs3_MAjJ-uwR1o/view?usp=sharing Test Labels\n",
        "\n",
        "'''\n",
        "# Make the '/data/' subdirectory.\n",
        "if not os.path.exists('./data/'):\n",
        "    os.mkdir('./data/')\n",
        "\n",
        "print('Downloading dataset files...')\n",
        "\n",
        "# For each of the files...\n",
        "for pair in files:\n",
        "    # Get the local filename.\n",
        "    output = pair[0]\n",
        "    \n",
        "    # Get the ID of the file on Google Drive.\n",
        "    file_id = pair[1]\n",
        "    \n",
        "    # Download the file.\n",
        "    gdown.download('https://drive.google.com/uc?id=' + file_id, output, \n",
        "                   quiet=False)\n",
        "    \n",
        "print('DONE.')"
      ],
      "execution_count": 3,
      "outputs": [
        {
          "output_type": "stream",
          "name": "stdout",
          "text": [
            "Downloading dataset files...\n"
          ]
        },
        {
          "output_type": "stream",
          "name": "stderr",
          "text": [
            "Downloading...\n",
            "From: https://drive.google.com/uc?id=170MpjGO_Rm4nElLqr5MQUm7daSHvOaMC\n",
            "To: /content/data/train.csv\n",
            "100%|██████████| 14.9M/14.9M [00:00<00:00, 174MB/s]\n",
            "Downloading...\n",
            "From: https://drive.google.com/uc?id=1V9tc9C6Om7S8IrhzVYvAWXnJ29nEVudB\n",
            "To: /content/data/test.csv\n",
            "100%|██████████| 976k/976k [00:00<00:00, 114MB/s]\n",
            "Downloading...\n",
            "From: https://drive.google.com/uc?id=1mncwmJa9sJ7cMPxYA9vNH-L2lv7QC5la\n",
            "To: /content/data/sample_submission.csv\n",
            "100%|██████████| 16.9k/16.9k [00:00<00:00, 15.2MB/s]\n",
            "Downloading...\n",
            "From: https://drive.google.com/uc?id=1s65N0GvnwG9e9gWdqbLs3_MAjJ-uwR1o\n",
            "To: /content/data/test_labels.csv\n",
            "100%|██████████| 10.9k/10.9k [00:00<00:00, 10.4MB/s]"
          ]
        },
        {
          "output_type": "stream",
          "name": "stdout",
          "text": [
            "DONE.\n"
          ]
        },
        {
          "output_type": "stream",
          "name": "stderr",
          "text": [
            "\n"
          ]
        }
      ]
    },
    {
      "cell_type": "markdown",
      "metadata": {
        "id": "02NmUilP4Abs"
      },
      "source": [
        "### 2.2 Parse & Inspect\n",
        "-------------------\n"
      ]
    },
    {
      "cell_type": "code",
      "metadata": {
        "id": "FYvXA4_3FcbY"
      },
      "source": [
        "import pandas as pd\n",
        "train = pd.read_csv('./data/train.csv')\n",
        "test = pd.read_csv('./data/test.csv')\n",
        "sample = pd.read_csv('./data/sample_submission.csv')\n",
        "test_label = pd.read_csv('./data/test_labels.csv')"
      ],
      "execution_count": 4,
      "outputs": []
    },
    {
      "cell_type": "code",
      "metadata": {
        "colab": {
          "base_uri": "https://localhost:8080/",
          "height": 206
        },
        "id": "oAtBnY9CFcbb",
        "scrolled": true,
        "outputId": "025d07c7-0931-47df-96d1-7f73788620e7"
      },
      "source": [
        "train.head()"
      ],
      "execution_count": 5,
      "outputs": [
        {
          "output_type": "execute_result",
          "data": {
            "text/plain": [
              "   id                                       comment_text  class1  class2  \\\n",
              "0   1  中国人民解放军陆军领导机构、中国人民解放军火箭军、中国人民解放军战略支援部队成立大会2015...       1       0   \n",
              "1   2  经中央军委主席习近平批准，中央军委近日印发了《关于深化国防和军队改革的意见》。\\n《意见》强...       1       0   \n",
              "2   3  由中共中央纪律检查委员会、中共中央文献研究室编辑的《习近平关于严明党的纪律和规矩论述摘编》一...       1       0   \n",
              "3   4  广大党员干部正在积极学习习近平总书记在中央政治局专题民主生活会上的重要讲话。大家纷纷表示要把...       1       0   \n",
              "4   5  刚刚过去的2015年，是全面深化改革的关键之年。改革集中发力在制约经济社会发展的深层次矛盾，...       1       0   \n",
              "\n",
              "   class3  \n",
              "0       0  \n",
              "1       0  \n",
              "2       0  \n",
              "3       0  \n",
              "4       0  "
            ],
            "text/html": [
              "\n",
              "  <div id=\"df-8ba8867b-b1b9-476e-835e-65dd533872ce\">\n",
              "    <div class=\"colab-df-container\">\n",
              "      <div>\n",
              "<style scoped>\n",
              "    .dataframe tbody tr th:only-of-type {\n",
              "        vertical-align: middle;\n",
              "    }\n",
              "\n",
              "    .dataframe tbody tr th {\n",
              "        vertical-align: top;\n",
              "    }\n",
              "\n",
              "    .dataframe thead th {\n",
              "        text-align: right;\n",
              "    }\n",
              "</style>\n",
              "<table border=\"1\" class=\"dataframe\">\n",
              "  <thead>\n",
              "    <tr style=\"text-align: right;\">\n",
              "      <th></th>\n",
              "      <th>id</th>\n",
              "      <th>comment_text</th>\n",
              "      <th>class1</th>\n",
              "      <th>class2</th>\n",
              "      <th>class3</th>\n",
              "    </tr>\n",
              "  </thead>\n",
              "  <tbody>\n",
              "    <tr>\n",
              "      <th>0</th>\n",
              "      <td>1</td>\n",
              "      <td>中国人民解放军陆军领导机构、中国人民解放军火箭军、中国人民解放军战略支援部队成立大会2015...</td>\n",
              "      <td>1</td>\n",
              "      <td>0</td>\n",
              "      <td>0</td>\n",
              "    </tr>\n",
              "    <tr>\n",
              "      <th>1</th>\n",
              "      <td>2</td>\n",
              "      <td>经中央军委主席习近平批准，中央军委近日印发了《关于深化国防和军队改革的意见》。\\n《意见》强...</td>\n",
              "      <td>1</td>\n",
              "      <td>0</td>\n",
              "      <td>0</td>\n",
              "    </tr>\n",
              "    <tr>\n",
              "      <th>2</th>\n",
              "      <td>3</td>\n",
              "      <td>由中共中央纪律检查委员会、中共中央文献研究室编辑的《习近平关于严明党的纪律和规矩论述摘编》一...</td>\n",
              "      <td>1</td>\n",
              "      <td>0</td>\n",
              "      <td>0</td>\n",
              "    </tr>\n",
              "    <tr>\n",
              "      <th>3</th>\n",
              "      <td>4</td>\n",
              "      <td>广大党员干部正在积极学习习近平总书记在中央政治局专题民主生活会上的重要讲话。大家纷纷表示要把...</td>\n",
              "      <td>1</td>\n",
              "      <td>0</td>\n",
              "      <td>0</td>\n",
              "    </tr>\n",
              "    <tr>\n",
              "      <th>4</th>\n",
              "      <td>5</td>\n",
              "      <td>刚刚过去的2015年，是全面深化改革的关键之年。改革集中发力在制约经济社会发展的深层次矛盾，...</td>\n",
              "      <td>1</td>\n",
              "      <td>0</td>\n",
              "      <td>0</td>\n",
              "    </tr>\n",
              "  </tbody>\n",
              "</table>\n",
              "</div>\n",
              "      <button class=\"colab-df-convert\" onclick=\"convertToInteractive('df-8ba8867b-b1b9-476e-835e-65dd533872ce')\"\n",
              "              title=\"Convert this dataframe to an interactive table.\"\n",
              "              style=\"display:none;\">\n",
              "        \n",
              "  <svg xmlns=\"http://www.w3.org/2000/svg\" height=\"24px\"viewBox=\"0 0 24 24\"\n",
              "       width=\"24px\">\n",
              "    <path d=\"M0 0h24v24H0V0z\" fill=\"none\"/>\n",
              "    <path d=\"M18.56 5.44l.94 2.06.94-2.06 2.06-.94-2.06-.94-.94-2.06-.94 2.06-2.06.94zm-11 1L8.5 8.5l.94-2.06 2.06-.94-2.06-.94L8.5 2.5l-.94 2.06-2.06.94zm10 10l.94 2.06.94-2.06 2.06-.94-2.06-.94-.94-2.06-.94 2.06-2.06.94z\"/><path d=\"M17.41 7.96l-1.37-1.37c-.4-.4-.92-.59-1.43-.59-.52 0-1.04.2-1.43.59L10.3 9.45l-7.72 7.72c-.78.78-.78 2.05 0 2.83L4 21.41c.39.39.9.59 1.41.59.51 0 1.02-.2 1.41-.59l7.78-7.78 2.81-2.81c.8-.78.8-2.07 0-2.86zM5.41 20L4 18.59l7.72-7.72 1.47 1.35L5.41 20z\"/>\n",
              "  </svg>\n",
              "      </button>\n",
              "      \n",
              "  <style>\n",
              "    .colab-df-container {\n",
              "      display:flex;\n",
              "      flex-wrap:wrap;\n",
              "      gap: 12px;\n",
              "    }\n",
              "\n",
              "    .colab-df-convert {\n",
              "      background-color: #E8F0FE;\n",
              "      border: none;\n",
              "      border-radius: 50%;\n",
              "      cursor: pointer;\n",
              "      display: none;\n",
              "      fill: #1967D2;\n",
              "      height: 32px;\n",
              "      padding: 0 0 0 0;\n",
              "      width: 32px;\n",
              "    }\n",
              "\n",
              "    .colab-df-convert:hover {\n",
              "      background-color: #E2EBFA;\n",
              "      box-shadow: 0px 1px 2px rgba(60, 64, 67, 0.3), 0px 1px 3px 1px rgba(60, 64, 67, 0.15);\n",
              "      fill: #174EA6;\n",
              "    }\n",
              "\n",
              "    [theme=dark] .colab-df-convert {\n",
              "      background-color: #3B4455;\n",
              "      fill: #D2E3FC;\n",
              "    }\n",
              "\n",
              "    [theme=dark] .colab-df-convert:hover {\n",
              "      background-color: #434B5C;\n",
              "      box-shadow: 0px 1px 3px 1px rgba(0, 0, 0, 0.15);\n",
              "      filter: drop-shadow(0px 1px 2px rgba(0, 0, 0, 0.3));\n",
              "      fill: #FFFFFF;\n",
              "    }\n",
              "  </style>\n",
              "\n",
              "      <script>\n",
              "        const buttonEl =\n",
              "          document.querySelector('#df-8ba8867b-b1b9-476e-835e-65dd533872ce button.colab-df-convert');\n",
              "        buttonEl.style.display =\n",
              "          google.colab.kernel.accessAllowed ? 'block' : 'none';\n",
              "\n",
              "        async function convertToInteractive(key) {\n",
              "          const element = document.querySelector('#df-8ba8867b-b1b9-476e-835e-65dd533872ce');\n",
              "          const dataTable =\n",
              "            await google.colab.kernel.invokeFunction('convertToInteractive',\n",
              "                                                     [key], {});\n",
              "          if (!dataTable) return;\n",
              "\n",
              "          const docLinkHtml = 'Like what you see? Visit the ' +\n",
              "            '<a target=\"_blank\" href=https://colab.research.google.com/notebooks/data_table.ipynb>data table notebook</a>'\n",
              "            + ' to learn more about interactive tables.';\n",
              "          element.innerHTML = '';\n",
              "          dataTable['output_type'] = 'display_data';\n",
              "          await google.colab.output.renderOutput(dataTable, element);\n",
              "          const docLink = document.createElement('div');\n",
              "          docLink.innerHTML = docLinkHtml;\n",
              "          element.appendChild(docLink);\n",
              "        }\n",
              "      </script>\n",
              "    </div>\n",
              "  </div>\n",
              "  "
            ]
          },
          "metadata": {},
          "execution_count": 5
        }
      ]
    },
    {
      "cell_type": "code",
      "metadata": {
        "colab": {
          "base_uri": "https://localhost:8080/",
          "height": 206
        },
        "id": "W0yVHHBIhJLz",
        "outputId": "2ecce6dc-5703-409d-c50f-a45eaa57feca"
      },
      "source": [
        "test.head()"
      ],
      "execution_count": 6,
      "outputs": [
        {
          "output_type": "execute_result",
          "data": {
            "text/plain": [
              "   id                                       comment_text  Actual Class\n",
              "0   1  中共中央政治局1月12日召开会议，研究修改宪法部分内容的建议。中共中央总书记习近平主持会议。...             0\n",
              "1   2  当地时间11日上午，柬埔寨首相洪森在金边和平大厦举行仪式，欢迎国务院总理李克强对柬埔寨进行正...             0\n",
              "2   3  欢迎仪式后，双方在金边和平大厦举行会谈。\\n李克强表示，中柬是近邻，传统友谊深厚。中方愿以两...             0\n",
              "3   4  当天中午，李克强在金边王宫会见柬埔寨国王西哈莫尼。\\n李克强首先转达习近平主席对西哈莫尼国王...             0\n",
              "4   5  国务院总理李克强出席在柬埔寨金边举行的澜沧江-湄公河合作第二次领导人会议，并结束对柬埔寨的正...             0"
            ],
            "text/html": [
              "\n",
              "  <div id=\"df-74a67ae3-888e-4f45-9806-a78fb5f1c7af\">\n",
              "    <div class=\"colab-df-container\">\n",
              "      <div>\n",
              "<style scoped>\n",
              "    .dataframe tbody tr th:only-of-type {\n",
              "        vertical-align: middle;\n",
              "    }\n",
              "\n",
              "    .dataframe tbody tr th {\n",
              "        vertical-align: top;\n",
              "    }\n",
              "\n",
              "    .dataframe thead th {\n",
              "        text-align: right;\n",
              "    }\n",
              "</style>\n",
              "<table border=\"1\" class=\"dataframe\">\n",
              "  <thead>\n",
              "    <tr style=\"text-align: right;\">\n",
              "      <th></th>\n",
              "      <th>id</th>\n",
              "      <th>comment_text</th>\n",
              "      <th>Actual Class</th>\n",
              "    </tr>\n",
              "  </thead>\n",
              "  <tbody>\n",
              "    <tr>\n",
              "      <th>0</th>\n",
              "      <td>1</td>\n",
              "      <td>中共中央政治局1月12日召开会议，研究修改宪法部分内容的建议。中共中央总书记习近平主持会议。...</td>\n",
              "      <td>0</td>\n",
              "    </tr>\n",
              "    <tr>\n",
              "      <th>1</th>\n",
              "      <td>2</td>\n",
              "      <td>当地时间11日上午，柬埔寨首相洪森在金边和平大厦举行仪式，欢迎国务院总理李克强对柬埔寨进行正...</td>\n",
              "      <td>0</td>\n",
              "    </tr>\n",
              "    <tr>\n",
              "      <th>2</th>\n",
              "      <td>3</td>\n",
              "      <td>欢迎仪式后，双方在金边和平大厦举行会谈。\\n李克强表示，中柬是近邻，传统友谊深厚。中方愿以两...</td>\n",
              "      <td>0</td>\n",
              "    </tr>\n",
              "    <tr>\n",
              "      <th>3</th>\n",
              "      <td>4</td>\n",
              "      <td>当天中午，李克强在金边王宫会见柬埔寨国王西哈莫尼。\\n李克强首先转达习近平主席对西哈莫尼国王...</td>\n",
              "      <td>0</td>\n",
              "    </tr>\n",
              "    <tr>\n",
              "      <th>4</th>\n",
              "      <td>5</td>\n",
              "      <td>国务院总理李克强出席在柬埔寨金边举行的澜沧江-湄公河合作第二次领导人会议，并结束对柬埔寨的正...</td>\n",
              "      <td>0</td>\n",
              "    </tr>\n",
              "  </tbody>\n",
              "</table>\n",
              "</div>\n",
              "      <button class=\"colab-df-convert\" onclick=\"convertToInteractive('df-74a67ae3-888e-4f45-9806-a78fb5f1c7af')\"\n",
              "              title=\"Convert this dataframe to an interactive table.\"\n",
              "              style=\"display:none;\">\n",
              "        \n",
              "  <svg xmlns=\"http://www.w3.org/2000/svg\" height=\"24px\"viewBox=\"0 0 24 24\"\n",
              "       width=\"24px\">\n",
              "    <path d=\"M0 0h24v24H0V0z\" fill=\"none\"/>\n",
              "    <path d=\"M18.56 5.44l.94 2.06.94-2.06 2.06-.94-2.06-.94-.94-2.06-.94 2.06-2.06.94zm-11 1L8.5 8.5l.94-2.06 2.06-.94-2.06-.94L8.5 2.5l-.94 2.06-2.06.94zm10 10l.94 2.06.94-2.06 2.06-.94-2.06-.94-.94-2.06-.94 2.06-2.06.94z\"/><path d=\"M17.41 7.96l-1.37-1.37c-.4-.4-.92-.59-1.43-.59-.52 0-1.04.2-1.43.59L10.3 9.45l-7.72 7.72c-.78.78-.78 2.05 0 2.83L4 21.41c.39.39.9.59 1.41.59.51 0 1.02-.2 1.41-.59l7.78-7.78 2.81-2.81c.8-.78.8-2.07 0-2.86zM5.41 20L4 18.59l7.72-7.72 1.47 1.35L5.41 20z\"/>\n",
              "  </svg>\n",
              "      </button>\n",
              "      \n",
              "  <style>\n",
              "    .colab-df-container {\n",
              "      display:flex;\n",
              "      flex-wrap:wrap;\n",
              "      gap: 12px;\n",
              "    }\n",
              "\n",
              "    .colab-df-convert {\n",
              "      background-color: #E8F0FE;\n",
              "      border: none;\n",
              "      border-radius: 50%;\n",
              "      cursor: pointer;\n",
              "      display: none;\n",
              "      fill: #1967D2;\n",
              "      height: 32px;\n",
              "      padding: 0 0 0 0;\n",
              "      width: 32px;\n",
              "    }\n",
              "\n",
              "    .colab-df-convert:hover {\n",
              "      background-color: #E2EBFA;\n",
              "      box-shadow: 0px 1px 2px rgba(60, 64, 67, 0.3), 0px 1px 3px 1px rgba(60, 64, 67, 0.15);\n",
              "      fill: #174EA6;\n",
              "    }\n",
              "\n",
              "    [theme=dark] .colab-df-convert {\n",
              "      background-color: #3B4455;\n",
              "      fill: #D2E3FC;\n",
              "    }\n",
              "\n",
              "    [theme=dark] .colab-df-convert:hover {\n",
              "      background-color: #434B5C;\n",
              "      box-shadow: 0px 1px 3px 1px rgba(0, 0, 0, 0.15);\n",
              "      filter: drop-shadow(0px 1px 2px rgba(0, 0, 0, 0.3));\n",
              "      fill: #FFFFFF;\n",
              "    }\n",
              "  </style>\n",
              "\n",
              "      <script>\n",
              "        const buttonEl =\n",
              "          document.querySelector('#df-74a67ae3-888e-4f45-9806-a78fb5f1c7af button.colab-df-convert');\n",
              "        buttonEl.style.display =\n",
              "          google.colab.kernel.accessAllowed ? 'block' : 'none';\n",
              "\n",
              "        async function convertToInteractive(key) {\n",
              "          const element = document.querySelector('#df-74a67ae3-888e-4f45-9806-a78fb5f1c7af');\n",
              "          const dataTable =\n",
              "            await google.colab.kernel.invokeFunction('convertToInteractive',\n",
              "                                                     [key], {});\n",
              "          if (!dataTable) return;\n",
              "\n",
              "          const docLinkHtml = 'Like what you see? Visit the ' +\n",
              "            '<a target=\"_blank\" href=https://colab.research.google.com/notebooks/data_table.ipynb>data table notebook</a>'\n",
              "            + ' to learn more about interactive tables.';\n",
              "          element.innerHTML = '';\n",
              "          dataTable['output_type'] = 'display_data';\n",
              "          await google.colab.output.renderOutput(dataTable, element);\n",
              "          const docLink = document.createElement('div');\n",
              "          docLink.innerHTML = docLinkHtml;\n",
              "          element.appendChild(docLink);\n",
              "        }\n",
              "      </script>\n",
              "    </div>\n",
              "  </div>\n",
              "  "
            ]
          },
          "metadata": {},
          "execution_count": 6
        }
      ]
    },
    {
      "cell_type": "code",
      "metadata": {
        "colab": {
          "base_uri": "https://localhost:8080/"
        },
        "id": "xNORNxYvBTzv",
        "outputId": "74bb7245-4654-46a3-8fe8-fcb86f6f7bc3"
      },
      "source": [
        "print('There are {:,} training examples.'.format(len(train)))"
      ],
      "execution_count": 7,
      "outputs": [
        {
          "output_type": "stream",
          "name": "stdout",
          "text": [
            "There are 14,903 training examples.\n"
          ]
        }
      ]
    },
    {
      "cell_type": "markdown",
      "metadata": {
        "id": "IPc3BM4-tOlZ"
      },
      "source": [
        "### 2.3 Class Distribution"
      ]
    },
    {
      "cell_type": "markdown",
      "metadata": {
        "id": "phUj1ZYwpse6"
      },
      "source": [
        "To analyze the distribution of the labels, let's first explicitly flag the comments which are not toxic (have no labels set to 1)."
      ]
    },
    {
      "cell_type": "code",
      "metadata": {
        "id": "V5O4Oe-mosdC"
      },
      "source": [
        "# These are the six possible labels.\n",
        "### Three\n",
        "label_cols = ['class1', 'class2', 'class3']\n",
        "\n",
        "# Select just the labels (not the text), and for every row, check whether any\n",
        "# of the labels are \"1\".\n",
        "has_labels = train[label_cols].any(axis=1)\n",
        "\n",
        "# Add a new column indicating which samples have no toxic labels.\n",
        "train['none'] = 1 - has_labels\n",
        "\n",
        "# Add the 'none' column to our list of label names.\n",
        "label_cols.append('none')"
      ],
      "execution_count": 8,
      "outputs": []
    },
    {
      "cell_type": "markdown",
      "metadata": {
        "id": "AefD40jnrZQR"
      },
      "source": [
        "Total the number of samples with each label."
      ]
    },
    {
      "cell_type": "code",
      "metadata": {
        "id": "cSVtWB-Op3mW"
      },
      "source": [
        "\n",
        "# Tally up each label separately.\n",
        "label_counts = train[label_cols].sum(axis=0)\n"
      ],
      "execution_count": 9,
      "outputs": []
    },
    {
      "cell_type": "markdown",
      "metadata": {
        "id": "zXbBB1NNv3wj"
      },
      "source": [
        "## 3 Tokenization & Truncation"
      ]
    },
    {
      "cell_type": "markdown",
      "metadata": {
        "id": "OMHzhnmuGrpb"
      },
      "source": [
        "### 3.1 Load BertTokenizer"
      ]
    },
    {
      "cell_type": "code",
      "metadata": {
        "id": "cZiRfpUEv3wl"
      },
      "source": [
        "from transformers import BertTokenizer\n",
        "tokenizer = BertTokenizer.from_pretrained('bert-base-chinese')"
      ],
      "execution_count": 10,
      "outputs": []
    },
    {
      "cell_type": "markdown",
      "metadata": {
        "id": "asqwSCR0zbMc"
      },
      "source": [
        "### 3.2 Set max_len"
      ]
    },
    {
      "cell_type": "code",
      "metadata": {
        "id": "S5E9pERUEKL5"
      },
      "source": [
        "# Set our sequence length to pad or truncate all of our samples to.\n",
        "max_len = 128"
      ],
      "execution_count": 11,
      "outputs": []
    },
    {
      "cell_type": "markdown",
      "metadata": {
        "id": "aRp4O7D295d_"
      },
      "source": [
        "### 3.3 Tokenize Dataset\n"
      ]
    },
    {
      "cell_type": "code",
      "metadata": {
        "id": "8jsHTrZEAV6-"
      },
      "source": [
        "# Optional - You can select a subsample of the dataset to run through the \n",
        "#            Notebook quicker.\n",
        "if False:\n",
        "    # Take just the first 4,000 training samples.\n",
        "    train = train[:40000]"
      ],
      "execution_count": 12,
      "outputs": []
    },
    {
      "cell_type": "code",
      "metadata": {
        "colab": {
          "base_uri": "https://localhost:8080/"
        },
        "id": "ca1rne6DTvLA",
        "outputId": "e2231215-8501-43c2-f17e-332668ae7a1b"
      },
      "source": [
        "import torch\n",
        "import time\n",
        "\n",
        "input_ids = []\n",
        "attn_masks = []\n",
        "labels = []\n",
        "\n",
        "t0 = time.time()\n",
        "\n",
        "# ======== Encoding ========\n",
        "\n",
        "print('Encoding {:,} training examples...'.format(len(train)))\n",
        "\n",
        "# For every training example...\n",
        "for (index, row) in train.iterrows():\n",
        "\n",
        "    # Report progress.\n",
        "    if ((len(input_ids) % 15000) == 0):\n",
        "        print('  Encoded {:,} comments.'.format(len(input_ids)))\n",
        "\n",
        "    # Convert sentence pairs to input IDs, with attention masks.\n",
        "    encoded_dict = tokenizer.encode_plus(row['comment_text'],  # The text to encode.\n",
        "                                        max_length=max_len,    # Pad or truncate to this lenght.\n",
        "                                        pad_to_max_length=True,\n",
        "                                        truncation=True, \n",
        "                                        return_tensors='pt')   # Return objects as PyTorch tensors.\n",
        "\n",
        "    # Add this example to our lists.\n",
        "    input_ids.append(encoded_dict['input_ids'])\n",
        "    attn_masks.append(encoded_dict['attention_mask'])\n",
        "    \n",
        "print('\\nDONE. {:,} examples.'.format(len(input_ids)))\n",
        "\n",
        "# ======== List of Examples --> Tensor ========\n",
        "\n",
        "# Convert each Python list of Tensors into a 2D Tensor matrix.\n",
        "input_ids = torch.cat(input_ids, dim=0)\n",
        "attn_masks = torch.cat(attn_masks, dim=0)\n",
        "\n",
        "# ======== Prepare Labels ========\n",
        "\n",
        "# Select the label columns for all examples.\n",
        "labels = train[['class1', 'class2', 'class3']]\n",
        "\n",
        "# The labels are either 0 or 1. Despite this, we need to cast the values to\n",
        "# floats--otherwise our loss function will throw an error.\n",
        "# https://discuss.pytorch.org/t/nn-bcewithlogitsloss-cant-accept-one-hot-target/59980\n",
        "labels = labels.to_numpy().astype(float)\n",
        "\n",
        "# Cast the labels list to a 2D Tensor.\n",
        "labels = torch.tensor(labels)\n",
        "\n",
        "# ======== Summary ========\n",
        "\n",
        "print('\\nData structure shapes:')\n",
        "print('   input_ids:  {:}'.format(str(input_ids.shape)))\n",
        "print('  attn_masks:  {:}'.format(str(attn_masks.shape)))\n",
        "print('      labels:  {:}'.format(str(labels.shape)))\n",
        "\n",
        "print('\\nEncoding took {:.0f} seconds'.format(time.time() - t0))"
      ],
      "execution_count": 13,
      "outputs": [
        {
          "output_type": "stream",
          "name": "stdout",
          "text": [
            "Encoding 14,903 training examples...\n",
            "  Encoded 0 comments.\n"
          ]
        },
        {
          "output_type": "stream",
          "name": "stderr",
          "text": [
            "/usr/local/lib/python3.7/dist-packages/transformers/tokenization_utils_base.py:2307: FutureWarning: The `pad_to_max_length` argument is deprecated and will be removed in a future version, use `padding=True` or `padding='longest'` to pad to the longest sequence in the batch, or use `padding='max_length'` to pad to a max length. In this case, you can give a specific length with `max_length` (e.g. `max_length=45`) or leave max_length to None to pad to the maximal input size of the model (e.g. 512 for Bert).\n",
            "  FutureWarning,\n"
          ]
        },
        {
          "output_type": "stream",
          "name": "stdout",
          "text": [
            "\n",
            "DONE. 14,903 examples.\n",
            "\n",
            "Data structure shapes:\n",
            "   input_ids:  torch.Size([14903, 128])\n",
            "  attn_masks:  torch.Size([14903, 128])\n",
            "      labels:  torch.Size([14903, 3])\n",
            "\n",
            "Encoding took 51 seconds\n"
          ]
        }
      ]
    },
    {
      "cell_type": "markdown",
      "metadata": {
        "id": "voHe1wQsQ96F"
      },
      "source": [
        "### 3.4 Split-Off a Validation Set"
      ]
    },
    {
      "cell_type": "markdown",
      "metadata": {
        "id": "XjzJmFghC8h8"
      },
      "source": [
        "This dataset already has separate training and test sets, but we're going to further divide up our training set to use 90% for training and 10% for *validation*. This validation set will help us detect over-fitting during the training process."
      ]
    },
    {
      "cell_type": "code",
      "metadata": {
        "id": "N9_K_nOGUzhD"
      },
      "source": [
        "from torch.utils.data import TensorDataset, random_split\n",
        "\n",
        "# Combine the training inputs into a TensorDataset.\n",
        "dataset = TensorDataset(input_ids, attn_masks, labels)\n",
        "\n",
        "# Create a 90-10 train-validation split. Calculate the number of samples to \n",
        "# include in each set.\n",
        "train_size = int(0.9 * len(dataset))\n",
        "val_size = len(dataset) - train_size\n",
        "\n",
        "# Divide the dataset by randomly selecting samples.\n",
        "train_dataset, val_dataset = random_split(dataset, [train_size, val_size])"
      ],
      "execution_count": 14,
      "outputs": []
    },
    {
      "cell_type": "markdown",
      "metadata": {
        "id": "8bwa6Rts-02-"
      },
      "source": [
        "## 4 Train Our Classification Model"
      ]
    },
    {
      "cell_type": "markdown",
      "metadata": {
        "id": "3xYQ3iLO08SX"
      },
      "source": [
        "Now that our input data is properly formatted, it's time to fine tune the BERT model. "
      ]
    },
    {
      "cell_type": "markdown",
      "metadata": {
        "id": "nSU7yERLP_66"
      },
      "source": [
        "### 4.1 Preparation for Training\n"
      ]
    },
    {
      "cell_type": "code",
      "metadata": {
        "colab": {
          "base_uri": "https://localhost:8080/"
        },
        "id": "oYsV4H8fCpZ-",
        "outputId": "85299be7-5183-400d-cbcb-f989e81af549"
      },
      "source": [
        "import torch\n",
        "\n",
        "# If there's a GPU available...\n",
        "if torch.cuda.is_available():    \n",
        "\n",
        "    # Tell PyTorch to use the GPU.    \n",
        "    device = torch.device(\"cuda\")\n",
        "\n",
        "    print('There are %d GPU(s) available.' % torch.cuda.device_count())\n",
        "\n",
        "    print('We will use the GPU:', torch.cuda.get_device_name(0))\n",
        "\n",
        "# If not...\n",
        "else:\n",
        "    print('No GPU available, using the CPU instead.')\n",
        "    device = torch.device(\"cpu\")"
      ],
      "execution_count": 15,
      "outputs": [
        {
          "output_type": "stream",
          "name": "stdout",
          "text": [
            "There are 1 GPU(s) available.\n",
            "We will use the GPU: Tesla P100-PCIE-16GB\n"
          ]
        }
      ]
    },
    {
      "cell_type": "markdown",
      "metadata": {
        "id": "xBehPTA9Nvjf"
      },
      "source": [
        "### 4.2 Initialize Model with Pre-Trained Weights"
      ]
    },
    {
      "cell_type": "code",
      "metadata": {
        "colab": {
          "base_uri": "https://localhost:8080/"
        },
        "id": "gFsCTp_mporB",
        "outputId": "17f4f800-f1be-47aa-ddf5-5644fb78d4cd"
      },
      "source": [
        "from transformers import AdamW, BertConfig\n",
        "\n",
        "# Load BertForSequenceClassification, the pretrained BERT model with a single \n",
        "# linear classification layer on top. \n",
        "model = BertForSequenceClassification.from_pretrained(\n",
        "    \"bert-base-chinese\", # Use the 12-layer BERT model, with an uncased vocab.    \n",
        "\n",
        "    num_labels = 3,   \n",
        " \n",
        "    output_attentions = False, # Whether the model returns attentions weights.\n",
        "    output_hidden_states = False, # Whether the model returns all hidden-states.\n",
        ")\n",
        "\n",
        "# Tell pytorch to run this model on the GPU.\n",
        "desc = model.cuda()\n",
        "\n",
        "print (\"Model loaded.\")"
      ],
      "execution_count": 16,
      "outputs": [
        {
          "output_type": "stream",
          "name": "stderr",
          "text": [
            "Some weights of the model checkpoint at bert-base-chinese were not used when initializing BertForSequenceClassification: ['cls.predictions.transform.LayerNorm.weight', 'cls.seq_relationship.bias', 'cls.seq_relationship.weight', 'cls.predictions.transform.dense.weight', 'cls.predictions.decoder.weight', 'cls.predictions.bias', 'cls.predictions.transform.dense.bias', 'cls.predictions.transform.LayerNorm.bias']\n",
            "- This IS expected if you are initializing BertForSequenceClassification from the checkpoint of a model trained on another task or with another architecture (e.g. initializing a BertForSequenceClassification model from a BertForPreTraining model).\n",
            "- This IS NOT expected if you are initializing BertForSequenceClassification from the checkpoint of a model that you expect to be exactly identical (initializing a BertForSequenceClassification model from a BertForSequenceClassification model).\n",
            "Some weights of BertForSequenceClassification were not initialized from the model checkpoint at bert-base-chinese and are newly initialized: ['classifier.weight', 'classifier.bias']\n",
            "You should probably TRAIN this model on a down-stream task to be able to use it for predictions and inference.\n"
          ]
        },
        {
          "output_type": "stream",
          "name": "stdout",
          "text": [
            "Model loaded.\n"
          ]
        }
      ]
    },
    {
      "cell_type": "markdown",
      "metadata": {
        "id": "4EuV5XkeRENS"
      },
      "source": [
        "### 4.3 Batch Size & DataLoaders"
      ]
    },
    {
      "cell_type": "code",
      "metadata": {
        "id": "xBFuDdywU2DB"
      },
      "source": [
        "from torch.utils.data import DataLoader, RandomSampler, SequentialSampler\n",
        "\n",
        "# Specify our batch size.\n",
        "batch_size = 16\n",
        "\n",
        "# Create the DataLoaders for our training sets.\n",
        "# We'll take training samples in random order. \n",
        "train_dataloader = DataLoader(\n",
        "            train_dataset,  # The training samples.\n",
        "            sampler = RandomSampler(train_dataset), # Select batches randomly\n",
        "            batch_size = batch_size # Trains with this batch size.\n",
        "        )\n",
        "\n",
        "# For validation the order doesn't matter, so we'll just read them sequentially.\n",
        "validation_dataloader = DataLoader(\n",
        "            val_dataset, # The validation samples.\n",
        "            sampler = SequentialSampler(val_dataset), # Pull out batches sequentially.\n",
        "            batch_size = batch_size # Evaluate with this batch size.\n",
        "        )"
      ],
      "execution_count": 17,
      "outputs": []
    },
    {
      "cell_type": "markdown",
      "metadata": {
        "id": "qmgT0TDKULHr"
      },
      "source": [
        "### 4.4 Optimizer"
      ]
    },
    {
      "cell_type": "code",
      "metadata": {
        "id": "GLs72DuMODJO",
        "colab": {
          "base_uri": "https://localhost:8080/"
        },
        "outputId": "630e8acb-1122-4840-f6dd-f59596a64294"
      },
      "source": [
        "# Note: AdamW is a class from the huggingface library (as opposed to pytorch) \n",
        "# I believe the 'W' stands for 'Weight Decay fix\"\n",
        "optimizer = AdamW(model.parameters(),\n",
        "                  lr = 2e-5, # args.learning_rate - default is 5e-5,\n",
        "                  eps = 1e-8 # args.adam_epsilon  - default is 1e-8.\n",
        "                )"
      ],
      "execution_count": 18,
      "outputs": [
        {
          "output_type": "stream",
          "name": "stderr",
          "text": [
            "/usr/local/lib/python3.7/dist-packages/transformers/optimization.py:310: FutureWarning: This implementation of AdamW is deprecated and will be removed in a future version. Use the PyTorch implementation torch.optim.AdamW instead, or set `no_deprecation_warning=True` to disable this warning\n",
            "  FutureWarning,\n"
          ]
        }
      ]
    },
    {
      "cell_type": "markdown",
      "metadata": {
        "id": "_iaG0A5quuqz"
      },
      "source": [
        "### 4.5 Epochs & Learning Rate Scheduler"
      ]
    },
    {
      "cell_type": "code",
      "metadata": {
        "id": "ZoSUMnW1U4Mu"
      },
      "source": [
        "from transformers import get_linear_schedule_with_warmup\n",
        "\n",
        "# Number of training epochs (BERT authors recommend between 2 and 4)\n",
        "epochs = 3\n",
        "\n",
        "# Total number of training steps is number of batches * number of epochs.\n",
        "total_steps = len(train_dataloader) * epochs\n",
        "\n",
        "# Create the learning rate scheduler.\n",
        "scheduler = get_linear_schedule_with_warmup(optimizer, \n",
        "                                            num_warmup_steps = 0, # Default value in run_glue.py\n",
        "                                            num_training_steps = total_steps)"
      ],
      "execution_count": 19,
      "outputs": []
    },
    {
      "cell_type": "markdown",
      "metadata": {
        "id": "GF2REdBeVJsp"
      },
      "source": [
        "###4.6 Helper Functions###"
      ]
    },
    {
      "cell_type": "code",
      "metadata": {
        "id": "qWBru237exn4"
      },
      "source": [
        "import time\n",
        "import datetime\n",
        "\n",
        "def format_time(elapsed):\n",
        "    \n",
        "    # Round to the nearest second.\n",
        "    elapsed_rounded = int(round((elapsed)))\n",
        "    \n",
        "    # Format as hh:mm:ss\n",
        "    return str(datetime.timedelta(seconds=elapsed_rounded))  \n"
      ],
      "execution_count": 20,
      "outputs": []
    },
    {
      "cell_type": "code",
      "metadata": {
        "id": "Do7r4TRjexrc"
      },
      "source": [
        "def good_update_interval(total_iters, num_desired_updates):\n",
        " \n",
        "    # Divide the total iterations by the desired number of updates. Most likely\n",
        "    # this will be some ugly number.\n",
        "    exact_interval = total_iters / num_desired_updates\n",
        "\n",
        "    # The `round` function has the ability to round down a number to, e.g., the\n",
        "    # nearest thousandth: round(exact_interval, -3)\n",
        "    #\n",
        "    # To determine the magnitude to round to, find the magnitude of the total,\n",
        "    # and then go one magnitude below that.\n",
        "\n",
        "    # Get the order of magnitude of the total.\n",
        "    order_of_mag = len(str(total_iters)) - 1\n",
        "\n",
        "    # Our update interval should be rounded to an order of magnitude smaller. \n",
        "    round_mag = order_of_mag - 1\n",
        "\n",
        "    # Round down and cast to an int.\n",
        "    update_interval = int(round(exact_interval, -round_mag))\n",
        "\n",
        "    # Don't allow the interval to be zero!\n",
        "    if update_interval == 0:\n",
        "        update_interval = 1\n",
        "\n",
        "    return update_interval"
      ],
      "execution_count": 21,
      "outputs": []
    },
    {
      "cell_type": "code",
      "metadata": {
        "id": "3tchEi_k2UAA"
      },
      "source": [
        "\n",
        "from sklearn.metrics import roc_auc_score\n"
      ],
      "execution_count": 22,
      "outputs": []
    },
    {
      "cell_type": "markdown",
      "metadata": {
        "id": "P5-THlhKepL5"
      },
      "source": [
        "### 4.7 Training loop\n",
        "\n"
      ]
    },
    {
      "cell_type": "code",
      "metadata": {
        "colab": {
          "base_uri": "https://localhost:8080/"
        },
        "id": "XB06aBGEev3e",
        "outputId": "957a7b9c-2edd-4a09-9ab9-f3d82480661e"
      },
      "source": [
        "import random\n",
        "import numpy as np\n",
        "\n",
        "# This training code is based on the `run_glue.py` script here:\n",
        "# https://github.com/huggingface/transformers/blob/5bfcd0485ece086ebcbed2d008813037968a9e58/examples/run_glue.py#L128\n",
        "\n",
        "# Set the seed value all over the place to make this reproducible.\n",
        "seed_val = 42\n",
        "\n",
        "random.seed(seed_val)\n",
        "np.random.seed(seed_val)\n",
        "torch.manual_seed(seed_val)\n",
        "torch.cuda.manual_seed_all(seed_val)\n",
        "\n",
        "# We'll store a number of quantities such as training and validation loss, \n",
        "# validation accuracy, and timings.\n",
        "training_stats = []\n",
        "\n",
        "# Measure the total training time for the whole run.\n",
        "total_t0 = time.time()\n",
        "\n",
        "# For each epoch...\n",
        "for epoch_i in range(0, epochs):\n",
        "    \n",
        "    # ========================================\n",
        "    #               Training\n",
        "    # ========================================\n",
        "    \n",
        "    # Perform one full pass over the training set.\n",
        "\n",
        "    print(\"\")\n",
        "    print('======== Epoch {:} / {:} ========'.format(epoch_i + 1, epochs))\n",
        "    print('Training...')\n",
        "\n",
        "    # Measure how long the training epoch takes.\n",
        "    t0 = time.time()\n",
        "\n",
        "    # Reset the total loss for this epoch.\n",
        "    total_train_loss = 0\n",
        "\n",
        "    # Put the model into training mode. Don't be mislead--the call to \n",
        "    # `train` just changes the *mode*, it doesn't *perform* the training.\n",
        "    # `dropout` and `batchnorm` layers behave differently during training\n",
        "    # vs. test (source: https://stackoverflow.com/questions/51433378/what-does-model-train-do-in-pytorch)\n",
        "    model.train()\n",
        "\n",
        "    # Pick an interval on which to print progress updates.\n",
        "    update_interval = good_update_interval(\n",
        "                total_iters = len(train_dataloader), \n",
        "                num_desired_updates = 10\n",
        "            )\n",
        "\n",
        "    # For each batch of training data...\n",
        "    for step, batch in enumerate(train_dataloader):\n",
        "\n",
        "        # Progress update.\n",
        "        if (step % update_interval) == 0 and not step == 0:\n",
        "            # Calculate elapsed time in minutes.\n",
        "            elapsed = format_time(time.time() - t0)\n",
        "            \n",
        "            # Report progress.\n",
        "            print('  Batch {:>5,}  of  {:>5,}.    Elapsed: {:}.'.format(step, len(train_dataloader), elapsed))\n",
        "\n",
        "        # Unpack this training batch from our dataloader. \n",
        "        #\n",
        "        # As we unpack the batch, we'll also copy each tensor to the GPU using \n",
        "        # the `to` method.\n",
        "        #\n",
        "        # `batch` contains three pytorch tensors:\n",
        "        #   [0]: input ids \n",
        "        #   [1]: attention masks\n",
        "        #   [2]: labels \n",
        "        b_input_ids = batch[0].to(device)\n",
        "        b_input_mask = batch[1].to(device)\n",
        "        b_labels = batch[2].to(device)\n",
        "\n",
        "        # Always clear any previously calculated gradients before performing a\n",
        "        # backward pass. PyTorch doesn't do this automatically because \n",
        "        # accumulating the gradients is \"convenient while training RNNs\". \n",
        "        # (source: https://stackoverflow.com/questions/48001598/why-do-we-need-to-call-zero-grad-in-pytorch)\n",
        "        model.zero_grad()        \n",
        "\n",
        "        # Perform a forward pass (evaluate the model on this training batch).\n",
        "        # This call returns the loss (because we provided labels) and the \n",
        "        # \"logits\"--the model outputs prior to activation.\n",
        "        loss, logits = model(b_input_ids, \n",
        "                             token_type_ids=None, \n",
        "                             attention_mask=b_input_mask, \n",
        "                             labels=b_labels)\n",
        "\n",
        "        # Accumulate the training loss over all of the batches so that we can\n",
        "        # calculate the average loss at the end. `loss` is a Tensor containing a\n",
        "        # single value; the `.item()` function just returns the Python value \n",
        "        # from the tensor.\n",
        "        total_train_loss += loss.item()\n",
        "\n",
        "        # Perform a backward pass to calculate the gradients.\n",
        "        loss.backward()\n",
        "\n",
        "        # Clip the norm of the gradients to 1.0.\n",
        "        # This is to help prevent the \"exploding gradients\" problem.\n",
        "        torch.nn.utils.clip_grad_norm_(model.parameters(), 1.0)\n",
        "\n",
        "        # Update parameters and take a step using the computed gradient.\n",
        "        # The optimizer dictates the \"update rule\"--how the parameters are\n",
        "        # modified based on their gradients, the learning rate, etc.\n",
        "        optimizer.step()\n",
        "\n",
        "        # Update the learning rate.\n",
        "        scheduler.step()\n",
        "\n",
        "    # Calculate the average loss over all of the batches.\n",
        "    avg_train_loss = total_train_loss / len(train_dataloader)            \n",
        "    \n",
        "    # Measure how long this epoch took.\n",
        "    training_time = format_time(time.time() - t0)\n",
        "\n",
        "    print(\"\")\n",
        "    print(\"  Average training loss: {0:.2f}\".format(avg_train_loss))\n",
        "    print(\"  Training epcoh took: {:}\".format(training_time))\n",
        "        \n",
        " \n",
        "    # ========================================\n",
        "    #               Validation\n",
        "    # ========================================\n",
        "    # After the completion of each training epoch, measure our performance on\n",
        "    # our validation set.\n",
        "\n",
        "    print(\"\")\n",
        "    print(\"Running Validation...\")\n",
        "\n",
        "    t0 = time.time()\n",
        "\n",
        "    # Put the model in evaluation mode--the dropout layers behave differently\n",
        "    # during evaluation.\n",
        "    model.eval()\n",
        "\n",
        "    # Tracking variables \n",
        "    total_eval_loss = 0\n",
        "\n",
        "    predictions, true_labels = [], []\n",
        "\n",
        "    # Evaluate data for one epoch\n",
        "    for batch in validation_dataloader:\n",
        "        \n",
        "        # Unpack this training batch from our dataloader. \n",
        "        #\n",
        "        # As we unpack the batch, we'll also copy each tensor to the GPU using \n",
        "        # the `to` method.\n",
        "        #\n",
        "        # `batch` contains three pytorch tensors:\n",
        "        #   [0]: input ids \n",
        "        #   [1]: attention masks\n",
        "        #   [2]: labels \n",
        "        b_input_ids = batch[0].to(device)\n",
        "        b_input_mask = batch[1].to(device)\n",
        "        b_labels = batch[2].to(device)\n",
        "        \n",
        "        # Tell pytorch not to bother with constructing the compute graph during\n",
        "        # the forward pass, since this is only needed for backprop (training).\n",
        "        with torch.no_grad():   \n",
        "   \n",
        "\n",
        "            # Forward pass, calculate logit predictions.\n",
        "            # token_type_ids is the same as the \"segment ids\", which \n",
        "            # differentiates sentence 1 and 2 in 2-sentence tasks.\n",
        "            # The documentation for this `model` function is here: \n",
        "            # https://huggingface.co/transformers/v2.2.0/model_doc/bert.html#transformers.BertForSequenceClassification\n",
        "            # Get the \"logits\" output by the model. The \"logits\" are the output\n",
        "            # values prior to applying an activation function like the softmax.\n",
        "            (loss, logits) = model(b_input_ids, \n",
        "                                   token_type_ids=None, \n",
        "                                   attention_mask=b_input_mask,\n",
        "                                   labels=b_labels)\n",
        "\n",
        "        # Accumulate the validation loss.\n",
        "        total_eval_loss += loss.item()\n",
        "\n",
        "        # Calculate the accuracy for this batch of test sentences.\n",
        "\n",
        "        # Move logits and labels to CPU\n",
        "        logits = logits.detach().cpu().numpy()\n",
        "        label_ids = b_labels.to('cpu').numpy()\n",
        "\n",
        "        # Store predictions and true labels\n",
        "        predictions.append(logits)\n",
        "        true_labels.append(label_ids)\n",
        "\n",
        "    # Measure validation accuracy...\n",
        "\n",
        "    # Combine the results across all batches. \n",
        "    flat_predictions = np.concatenate(predictions, axis=0)\n",
        "    flat_true_labels = np.concatenate(true_labels, axis=0)\n",
        "\n",
        "    # Calculate the validation accuracy.\n",
        "    val_accuracy = roc_auc_score(flat_true_labels, flat_predictions, average='macro')\n",
        "\n",
        "    # Report the final accuracy for this validation run.\n",
        "    print(\"  Accuracy: {0:.2f}\".format(val_accuracy))\n",
        "\n",
        "    # Calculate the average loss over all of the batches.\n",
        "    avg_val_loss = total_eval_loss / len(validation_dataloader)\n",
        "    \n",
        "    # Measure how long the validation run took.\n",
        "    validation_time = format_time(time.time() - t0)\n",
        "    \n",
        "    print(\"  Validation Loss: {0:.2f}\".format(avg_val_loss))\n",
        "    print(\"  Validation took: {:}\".format(validation_time))\n",
        "\n",
        "    # Record all statistics from this epoch.\n",
        "    training_stats.append(\n",
        "        {\n",
        "            'epoch': epoch_i + 1,\n",
        "            'Training Loss': avg_train_loss,\n",
        "            'Valid. Loss': avg_val_loss,\n",
        "            'Valid. Accur.': val_accuracy,\n",
        "            'Training Time': training_time,\n",
        "            'Validation Time': validation_time\n",
        "        }\n",
        "    )\n",
        "\n",
        "print(\"\")\n",
        "print(\"Training complete!\")\n",
        "\n",
        "print(\"Total training took {:} (h:mm:ss)\".format(format_time(time.time()-total_t0)))"
      ],
      "execution_count": 23,
      "outputs": [
        {
          "output_type": "stream",
          "name": "stdout",
          "text": [
            "\n",
            "======== Epoch 1 / 3 ========\n",
            "Training...\n",
            "  Batch    80  of    839.    Elapsed: 0:00:16.\n",
            "  Batch   160  of    839.    Elapsed: 0:00:32.\n",
            "  Batch   240  of    839.    Elapsed: 0:00:48.\n",
            "  Batch   320  of    839.    Elapsed: 0:01:04.\n",
            "  Batch   400  of    839.    Elapsed: 0:01:21.\n",
            "  Batch   480  of    839.    Elapsed: 0:01:37.\n",
            "  Batch   560  of    839.    Elapsed: 0:01:53.\n",
            "  Batch   640  of    839.    Elapsed: 0:02:09.\n",
            "  Batch   720  of    839.    Elapsed: 0:02:25.\n",
            "  Batch   800  of    839.    Elapsed: 0:02:41.\n",
            "\n",
            "  Average training loss: 0.25\n",
            "  Training epcoh took: 0:02:49\n",
            "\n",
            "Running Validation...\n",
            "  Accuracy: 0.96\n",
            "  Validation Loss: 0.20\n",
            "  Validation took: 0:00:06\n",
            "\n",
            "======== Epoch 2 / 3 ========\n",
            "Training...\n",
            "  Batch    80  of    839.    Elapsed: 0:00:16.\n",
            "  Batch   160  of    839.    Elapsed: 0:00:32.\n",
            "  Batch   240  of    839.    Elapsed: 0:00:48.\n",
            "  Batch   320  of    839.    Elapsed: 0:01:04.\n",
            "  Batch   400  of    839.    Elapsed: 0:01:21.\n",
            "  Batch   480  of    839.    Elapsed: 0:01:37.\n",
            "  Batch   560  of    839.    Elapsed: 0:01:53.\n",
            "  Batch   640  of    839.    Elapsed: 0:02:09.\n",
            "  Batch   720  of    839.    Elapsed: 0:02:25.\n",
            "  Batch   800  of    839.    Elapsed: 0:02:41.\n",
            "\n",
            "  Average training loss: 0.18\n",
            "  Training epcoh took: 0:02:49\n",
            "\n",
            "Running Validation...\n",
            "  Accuracy: 0.97\n",
            "  Validation Loss: 0.21\n",
            "  Validation took: 0:00:06\n",
            "\n",
            "======== Epoch 3 / 3 ========\n",
            "Training...\n",
            "  Batch    80  of    839.    Elapsed: 0:00:16.\n",
            "  Batch   160  of    839.    Elapsed: 0:00:32.\n",
            "  Batch   240  of    839.    Elapsed: 0:00:48.\n",
            "  Batch   320  of    839.    Elapsed: 0:01:04.\n",
            "  Batch   400  of    839.    Elapsed: 0:01:20.\n",
            "  Batch   480  of    839.    Elapsed: 0:01:37.\n",
            "  Batch   560  of    839.    Elapsed: 0:01:53.\n",
            "  Batch   640  of    839.    Elapsed: 0:02:09.\n",
            "  Batch   720  of    839.    Elapsed: 0:02:25.\n",
            "  Batch   800  of    839.    Elapsed: 0:02:41.\n",
            "\n",
            "  Average training loss: 0.14\n",
            "  Training epcoh took: 0:02:49\n",
            "\n",
            "Running Validation...\n",
            "  Accuracy: 0.97\n",
            "  Validation Loss: 0.19\n",
            "  Validation took: 0:00:06\n",
            "\n",
            "Training complete!\n",
            "Total training took 0:08:43 (h:mm:ss)\n"
          ]
        }
      ]
    },
    {
      "cell_type": "code",
      "metadata": {
        "id": "IUPsbPzlM_9a"
      },
      "source": [
        "## Retain the predictions and labels of the validation set for the Precision Recall Plot\n",
        "fp2 = flat_predictions\n",
        "ftl2 = flat_true_labels"
      ],
      "execution_count": 24,
      "outputs": []
    },
    {
      "cell_type": "markdown",
      "metadata": {
        "id": "xNuteN1Fmju0"
      },
      "source": [
        "### 4.8 Training Results"
      ]
    },
    {
      "cell_type": "markdown",
      "metadata": {
        "id": "VQTvJ1vRP7u4"
      },
      "source": [
        "Let's view the summary of the training process."
      ]
    },
    {
      "cell_type": "code",
      "metadata": {
        "id": "6O_NbXFGMukX",
        "colab": {
          "base_uri": "https://localhost:8080/",
          "height": 175
        },
        "outputId": "457a0555-3a52-47e6-83c8-a1cf68bad245"
      },
      "source": [
        "import pandas as pd\n",
        "\n",
        "# Display floats with two decimal places.\n",
        "pd.set_option('precision', 2)\n",
        "\n",
        "# Create a DataFrame from our training statistics.\n",
        "df_stats = pd.DataFrame(data=training_stats)\n",
        "\n",
        "# Use the 'epoch' as the row index.\n",
        "df_stats = df_stats.set_index('epoch')\n",
        "\n",
        "# Display the table.\n",
        "df_stats"
      ],
      "execution_count": 25,
      "outputs": [
        {
          "output_type": "execute_result",
          "data": {
            "text/plain": [
              "       Training Loss  Valid. Loss  Valid. Accur. Training Time Validation Time\n",
              "epoch                                                                         \n",
              "1               0.25         0.20           0.96       0:02:49         0:00:06\n",
              "2               0.18         0.21           0.97       0:02:49         0:00:06\n",
              "3               0.14         0.19           0.97       0:02:49         0:00:06"
            ],
            "text/html": [
              "\n",
              "  <div id=\"df-45083051-2fe1-49d4-9b7c-2dfc718d2f85\">\n",
              "    <div class=\"colab-df-container\">\n",
              "      <div>\n",
              "<style scoped>\n",
              "    .dataframe tbody tr th:only-of-type {\n",
              "        vertical-align: middle;\n",
              "    }\n",
              "\n",
              "    .dataframe tbody tr th {\n",
              "        vertical-align: top;\n",
              "    }\n",
              "\n",
              "    .dataframe thead th {\n",
              "        text-align: right;\n",
              "    }\n",
              "</style>\n",
              "<table border=\"1\" class=\"dataframe\">\n",
              "  <thead>\n",
              "    <tr style=\"text-align: right;\">\n",
              "      <th></th>\n",
              "      <th>Training Loss</th>\n",
              "      <th>Valid. Loss</th>\n",
              "      <th>Valid. Accur.</th>\n",
              "      <th>Training Time</th>\n",
              "      <th>Validation Time</th>\n",
              "    </tr>\n",
              "    <tr>\n",
              "      <th>epoch</th>\n",
              "      <th></th>\n",
              "      <th></th>\n",
              "      <th></th>\n",
              "      <th></th>\n",
              "      <th></th>\n",
              "    </tr>\n",
              "  </thead>\n",
              "  <tbody>\n",
              "    <tr>\n",
              "      <th>1</th>\n",
              "      <td>0.25</td>\n",
              "      <td>0.20</td>\n",
              "      <td>0.96</td>\n",
              "      <td>0:02:49</td>\n",
              "      <td>0:00:06</td>\n",
              "    </tr>\n",
              "    <tr>\n",
              "      <th>2</th>\n",
              "      <td>0.18</td>\n",
              "      <td>0.21</td>\n",
              "      <td>0.97</td>\n",
              "      <td>0:02:49</td>\n",
              "      <td>0:00:06</td>\n",
              "    </tr>\n",
              "    <tr>\n",
              "      <th>3</th>\n",
              "      <td>0.14</td>\n",
              "      <td>0.19</td>\n",
              "      <td>0.97</td>\n",
              "      <td>0:02:49</td>\n",
              "      <td>0:00:06</td>\n",
              "    </tr>\n",
              "  </tbody>\n",
              "</table>\n",
              "</div>\n",
              "      <button class=\"colab-df-convert\" onclick=\"convertToInteractive('df-45083051-2fe1-49d4-9b7c-2dfc718d2f85')\"\n",
              "              title=\"Convert this dataframe to an interactive table.\"\n",
              "              style=\"display:none;\">\n",
              "        \n",
              "  <svg xmlns=\"http://www.w3.org/2000/svg\" height=\"24px\"viewBox=\"0 0 24 24\"\n",
              "       width=\"24px\">\n",
              "    <path d=\"M0 0h24v24H0V0z\" fill=\"none\"/>\n",
              "    <path d=\"M18.56 5.44l.94 2.06.94-2.06 2.06-.94-2.06-.94-.94-2.06-.94 2.06-2.06.94zm-11 1L8.5 8.5l.94-2.06 2.06-.94-2.06-.94L8.5 2.5l-.94 2.06-2.06.94zm10 10l.94 2.06.94-2.06 2.06-.94-2.06-.94-.94-2.06-.94 2.06-2.06.94z\"/><path d=\"M17.41 7.96l-1.37-1.37c-.4-.4-.92-.59-1.43-.59-.52 0-1.04.2-1.43.59L10.3 9.45l-7.72 7.72c-.78.78-.78 2.05 0 2.83L4 21.41c.39.39.9.59 1.41.59.51 0 1.02-.2 1.41-.59l7.78-7.78 2.81-2.81c.8-.78.8-2.07 0-2.86zM5.41 20L4 18.59l7.72-7.72 1.47 1.35L5.41 20z\"/>\n",
              "  </svg>\n",
              "      </button>\n",
              "      \n",
              "  <style>\n",
              "    .colab-df-container {\n",
              "      display:flex;\n",
              "      flex-wrap:wrap;\n",
              "      gap: 12px;\n",
              "    }\n",
              "\n",
              "    .colab-df-convert {\n",
              "      background-color: #E8F0FE;\n",
              "      border: none;\n",
              "      border-radius: 50%;\n",
              "      cursor: pointer;\n",
              "      display: none;\n",
              "      fill: #1967D2;\n",
              "      height: 32px;\n",
              "      padding: 0 0 0 0;\n",
              "      width: 32px;\n",
              "    }\n",
              "\n",
              "    .colab-df-convert:hover {\n",
              "      background-color: #E2EBFA;\n",
              "      box-shadow: 0px 1px 2px rgba(60, 64, 67, 0.3), 0px 1px 3px 1px rgba(60, 64, 67, 0.15);\n",
              "      fill: #174EA6;\n",
              "    }\n",
              "\n",
              "    [theme=dark] .colab-df-convert {\n",
              "      background-color: #3B4455;\n",
              "      fill: #D2E3FC;\n",
              "    }\n",
              "\n",
              "    [theme=dark] .colab-df-convert:hover {\n",
              "      background-color: #434B5C;\n",
              "      box-shadow: 0px 1px 3px 1px rgba(0, 0, 0, 0.15);\n",
              "      filter: drop-shadow(0px 1px 2px rgba(0, 0, 0, 0.3));\n",
              "      fill: #FFFFFF;\n",
              "    }\n",
              "  </style>\n",
              "\n",
              "      <script>\n",
              "        const buttonEl =\n",
              "          document.querySelector('#df-45083051-2fe1-49d4-9b7c-2dfc718d2f85 button.colab-df-convert');\n",
              "        buttonEl.style.display =\n",
              "          google.colab.kernel.accessAllowed ? 'block' : 'none';\n",
              "\n",
              "        async function convertToInteractive(key) {\n",
              "          const element = document.querySelector('#df-45083051-2fe1-49d4-9b7c-2dfc718d2f85');\n",
              "          const dataTable =\n",
              "            await google.colab.kernel.invokeFunction('convertToInteractive',\n",
              "                                                     [key], {});\n",
              "          if (!dataTable) return;\n",
              "\n",
              "          const docLinkHtml = 'Like what you see? Visit the ' +\n",
              "            '<a target=\"_blank\" href=https://colab.research.google.com/notebooks/data_table.ipynb>data table notebook</a>'\n",
              "            + ' to learn more about interactive tables.';\n",
              "          element.innerHTML = '';\n",
              "          dataTable['output_type'] = 'display_data';\n",
              "          await google.colab.output.renderOutput(dataTable, element);\n",
              "          const docLink = document.createElement('div');\n",
              "          docLink.innerHTML = docLinkHtml;\n",
              "          element.appendChild(docLink);\n",
              "        }\n",
              "      </script>\n",
              "    </div>\n",
              "  </div>\n",
              "  "
            ]
          },
          "metadata": {},
          "execution_count": 25
        }
      ]
    },
    {
      "cell_type": "code",
      "metadata": {
        "id": "68xreA9JAmG5",
        "colab": {
          "base_uri": "https://localhost:8080/",
          "height": 427
        },
        "outputId": "83a06670-6f57-40f8-c0de-27f97d201862"
      },
      "source": [
        "#'''\n",
        "import matplotlib.pyplot as plt\n",
        "% matplotlib inline\n",
        "\n",
        "import seaborn as sns\n",
        "\n",
        "# Use plot styling from seaborn.\n",
        "sns.set(style='darkgrid')\n",
        "\n",
        "# Increase the plot size and font size.\n",
        "sns.set(font_scale=1.5)\n",
        "plt.rcParams[\"figure.figsize\"] = (12,6)\n",
        "\n",
        "# Plot the learning curve.\n",
        "plt.plot(df_stats['Training Loss'], 'b-o', label=\"Training\")\n",
        "plt.plot(df_stats['Valid. Loss'], 'g-o', label=\"Validation\")\n",
        "\n",
        "# Label the plot.\n",
        "plt.title(\"Training & Validation Loss\")\n",
        "plt.xlabel(\"Epoch\")\n",
        "plt.ylabel(\"Loss\")\n",
        "plt.legend()\n",
        "plt.xticks([1, 2, 3, 4])\n",
        "\n",
        "plt.show()\n",
        "#'''"
      ],
      "execution_count": 26,
      "outputs": [
        {
          "output_type": "display_data",
          "data": {
            "text/plain": [
              "<Figure size 864x432 with 1 Axes>"
            ],
            "image/png": "[encoded data removed]"
          },
          "metadata": {}
        }
      ]
    },
    {
      "cell_type": "markdown",
      "metadata": {
        "id": "_qlsr1wiYHQP"
      },
      "source": [
        "#### 4.8.1 Validation ROC AUC"
      ]
    },
    {
      "cell_type": "code",
      "metadata": {
        "colab": {
          "base_uri": "https://localhost:8080/"
        },
        "id": "vg5Al5OcQGV4",
        "outputId": "87df1898-6365-43a4-dc78-5c08c1c15c68"
      },
      "source": [
        "# Calcualte the ROC AUC score for our model's predictions.\n",
        "score = roc_auc_score(flat_true_labels, flat_predictions)\n",
        "\n",
        "print('ROC AUC: {:.4f}'.format(score))"
      ],
      "execution_count": 27,
      "outputs": [
        {
          "output_type": "stream",
          "name": "stdout",
          "text": [
            "ROC AUC: 0.9703\n"
          ]
        }
      ]
    },
    {
      "cell_type": "markdown",
      "metadata": {
        "id": "MdJNnPQHn8SL"
      },
      "source": [
        "#### 4.8.2 Validation Precision/Recall Plot"
      ]
    },
    {
      "cell_type": "code",
      "metadata": {
        "id": "XneMsM-iRjJz"
      },
      "source": [
        "from sklearn.metrics import precision_recall_curve\n",
        "from sklearn.metrics import average_precision_score\n",
        "\n",
        "n_classes = 3\n",
        "\n",
        "# For each class\n",
        "precision = dict()\n",
        "recall = dict()\n",
        "average_precision = dict()\n",
        "for i in range(n_classes): \n",
        "    precision[i], recall[i], _ = precision_recall_curve(ftl2[:, i], fp2[:, i]) \n",
        "    average_precision[i] = average_precision_score(ftl2[:, i], fp2[:, i])\n",
        "\n",
        "# A \"micro-average\": quantifying score on all classes jointly\n",
        "precision[\"micro\"], recall[\"micro\"], _ = precision_recall_curve(\n",
        "    ftl2.ravel(), fp2.ravel()\n",
        ")\n",
        "average_precision[\"micro\"] = average_precision_score(ftl2, fp2, average=\"micro\")"
      ],
      "execution_count": 28,
      "outputs": []
    },
    {
      "cell_type": "code",
      "metadata": {
        "colab": {
          "base_uri": "https://localhost:8080/",
          "height": 427
        },
        "id": "oo0oYFM3NBFS",
        "outputId": "f6d096f3-335e-4c03-f5b3-9ae0d446320c"
      },
      "source": [
        "from sklearn.metrics import PrecisionRecallDisplay\n",
        "\n",
        "display = PrecisionRecallDisplay(\n",
        "    recall=recall[\"micro\"],\n",
        "    precision=precision[\"micro\"],\n",
        "    average_precision=average_precision[\"micro\"],\n",
        ")\n",
        "display.plot()\n",
        "_ = display.ax_.set_title(\"Micro-averaged over all classes\")"
      ],
      "execution_count": 29,
      "outputs": [
        {
          "output_type": "display_data",
          "data": {
            "text/plain": [
              "<Figure size 864x432 with 1 Axes>"
            ],
            "image/png": "[encoded data removed]"
          },
          "metadata": {}
        }
      ]
    },
    {
      "cell_type": "code",
      "metadata": {
        "colab": {
          "base_uri": "https://localhost:8080/",
          "height": 753
        },
        "id": "9wJYFRAfR0bi",
        "outputId": "9e511a23-cc03-40b7-8306-72d407b7b4d2"
      },
      "source": [
        "import matplotlib.pyplot as plt\n",
        "from itertools import cycle\n",
        "\n",
        "from sklearn.metrics import PrecisionRecallDisplay\n",
        "\n",
        "# setup plot details\n",
        "colors = cycle([\"navy\", \"turquoise\", \"darkorange\", \"cornflowerblue\", \"teal\"])\n",
        "\n",
        "#_, ax = plt.subplots(figsize=(8, 7))\n",
        "_, ax = plt.subplots(figsize=(14, 12))\n",
        "\n",
        "f_scores = np.linspace(0.2, 0.8, num=4)\n",
        "lines, labels = [], []\n",
        "for f_score in f_scores:\n",
        "    x = np.linspace(0.01, 1)\n",
        "    y = f_score * x / (2 * x - f_score)\n",
        "    (l,) = plt.plot(x[y >= 0], y[y >= 0], color=\"gray\", alpha=0.2)\n",
        "    plt.annotate(\"f1={0:0.1f}\".format(f_score), xy=(0.9, y[45] + 0.02))\n",
        "\n",
        "display = PrecisionRecallDisplay(\n",
        "    recall=recall[\"micro\"],\n",
        "    precision=precision[\"micro\"],\n",
        "    average_precision=average_precision[\"micro\"],\n",
        ")\n",
        "display.plot(ax=ax, name=\"Micro-average precision-recall\", color=\"gold\")\n",
        "\n",
        "for i, color in zip(range(n_classes), colors):\n",
        "    display = PrecisionRecallDisplay(\n",
        "        recall=recall[i],\n",
        "        precision=precision[i],\n",
        "        average_precision=average_precision[i],\n",
        "    )\n",
        "    display.plot(ax=ax, name=f\"Precision-recall for class {i}\", color=color)\n",
        "\n",
        "# add the legend for the iso-f1 curves\n",
        "handles, labels = display.ax_.get_legend_handles_labels()\n",
        "handles.extend([l])\n",
        "labels.extend([\"iso-f1 curves\"])\n",
        "# set the legend and the axes\n",
        "ax.set_xlim([0.0, 1.0])\n",
        "ax.set_ylim([0.0, 1.05])\n",
        "ax.legend(handles=handles, labels=labels, loc=\"best\")\n",
        "#ax.set_title(\"Extension of Precision-Recall curve to multi-class\")\n",
        "ax.set_title(\"Multi-class Precision-Recall curve\")\n",
        "plt.show()"
      ],
      "execution_count": 30,
      "outputs": [
        {
          "output_type": "display_data",
          "data": {
            "text/plain": [
              "<Figure size 1008x864 with 1 Axes>"
            ],
            "image/png": "[encoded data removed]"
          },
          "metadata": {}
        }
      ]
    },
    {
      "cell_type": "markdown",
      "metadata": {
        "id": "b-M5ABsu6KX6"
      },
      "source": [
        "## 5 Performance On Test Set"
      ]
    },
    {
      "cell_type": "markdown",
      "metadata": {
        "id": "fiIjg4LEpPfe"
      },
      "source": [
        "### 5.1 Prepare Test Set"
      ]
    },
    {
      "cell_type": "code",
      "metadata": {
        "id": "DSRCJtKPAz3W",
        "colab": {
          "base_uri": "https://localhost:8080/"
        },
        "outputId": "0d8bb924-d420-4957-c743-e10014e8b6c1"
      },
      "source": [
        "# Load the test set files.\n",
        "test = pd.read_csv('./data/test.csv')\n",
        "test_labels = pd.read_csv('./data/test_labels.csv')\n",
        "\n",
        "print('There are {:,} total test examples.'.format(len(test)))\n",
        "\n",
        "# The unlabeled test samples are indicated by all of the label values being\n",
        "# \"-1\" for that sample.\n",
        "\n",
        "# Select only the labeled test samples.\n",
        "\n",
        "test = test[test_labels.class1 != - 1]\n",
        "test_labels = test_labels.loc[test_labels.class1 != -1]\n",
        "\n",
        "print('There are {:,} labeled test examples.'.format(len(test)))"
      ],
      "execution_count": 31,
      "outputs": [
        {
          "output_type": "stream",
          "name": "stdout",
          "text": [
            "There are 1,000 total test examples.\n",
            "There are 1,000 labeled test examples.\n"
          ]
        }
      ]
    },
    {
      "cell_type": "markdown",
      "metadata": {
        "id": "C1lcxgaTpQRl"
      },
      "source": [
        "**Tokenize & Encode** \n",
        "\n",
        "Encode the test set, using the same code from 3.4."
      ]
    },
    {
      "cell_type": "code",
      "metadata": {
        "id": "2xzNcsKapQRo",
        "colab": {
          "base_uri": "https://localhost:8080/"
        },
        "outputId": "79b57c30-c42c-408f-f992-ab36673c1862"
      },
      "source": [
        "import torch\n",
        "\n",
        "input_ids = []\n",
        "attn_masks = []\n",
        "labels = []\n",
        "\n",
        "# ======== Encoding ========\n",
        "\n",
        "print('Encoding all {:,} test samples...'.format(len(test)))\n",
        "\n",
        "# For every test sample...\n",
        "for (index, row) in test.iterrows():\n",
        "\n",
        "    # Report progress.\n",
        "    if ((len(input_ids) % 5000) == 0):\n",
        "        print('  Tokenized {:,} comments.'.format(len(input_ids)))\n",
        "\n",
        "    # Convert sentence pairs to input IDs, with attention masks.\n",
        "    encoded_dict = tokenizer.encode_plus(row['comment_text'],  # The text to encode.\n",
        "                                        max_length=max_len,    # Pad or truncate to this lenght.\n",
        "                                        pad_to_max_length=True,\n",
        "                                        truncation=True, \n",
        "                                        return_tensors='pt')   # Return objects as PyTorch tensors.\n",
        "\n",
        "    # Add this example to our lists.\n",
        "    input_ids.append(encoded_dict['input_ids'])\n",
        "    attn_masks.append(encoded_dict['attention_mask'])\n",
        "    \n",
        "print('\\nDONE. {:,} examples.'.format(len(input_ids)))\n",
        "\n",
        "# ======== List of Examples --> Tensor ========\n",
        "\n",
        "# Convert each Python list of Tensors into a 2D Tensor matrix.\n",
        "input_ids = torch.cat(input_ids, dim=0)\n",
        "attn_masks = torch.cat(attn_masks, dim=0)\n"
      ],
      "execution_count": 32,
      "outputs": [
        {
          "output_type": "stream",
          "name": "stdout",
          "text": [
            "Encoding all 1,000 test samples...\n",
            "  Tokenized 0 comments.\n"
          ]
        },
        {
          "output_type": "stream",
          "name": "stderr",
          "text": [
            "/usr/local/lib/python3.7/dist-packages/transformers/tokenization_utils_base.py:2307: FutureWarning: The `pad_to_max_length` argument is deprecated and will be removed in a future version, use `padding=True` or `padding='longest'` to pad to the longest sequence in the batch, or use `padding='max_length'` to pad to a max length. In this case, you can give a specific length with `max_length` (e.g. `max_length=45`) or leave max_length to None to pad to the maximal input size of the model (e.g. 512 for Bert).\n",
            "  FutureWarning,\n"
          ]
        },
        {
          "output_type": "stream",
          "name": "stdout",
          "text": [
            "\n",
            "DONE. 1,000 examples.\n"
          ]
        }
      ]
    },
    {
      "cell_type": "code",
      "metadata": {
        "id": "Jow8BTudpl56",
        "colab": {
          "base_uri": "https://localhost:8080/"
        },
        "outputId": "815570b7-8be9-4bd7-c094-d8281149d25c"
      },
      "source": [
        "\n",
        "# ======== Prepare Labels ========\n",
        "\n",
        "# Remove the 'id' column.\n",
        "#test_labels = test_labels[['class1', 'class2', 'class3']]\n",
        "del test_labels['id']\n",
        "\n",
        "# The labels are either 0 or 1. Despite this, we need to cast the values to\n",
        "# floats--otherwise our loss function will throw an error.\n",
        "# https://discuss.pytorch.org/t/nn-bcewithlogitsloss-cant-accept-one-hot-target/59980\n",
        "labels = test_labels.to_numpy().astype(float)\n",
        "\n",
        "# Cast the labels list to a 2D Tensor.\n",
        "labels = torch.tensor(labels)\n",
        "\n",
        "# ======== Summary ========\n",
        "\n",
        "print('\\nData structure shapes:')\n",
        "print('   input_ids:  {:}'.format(str(input_ids.shape)))\n",
        "print('  attn_masks:  {:}'.format(str(attn_masks.shape)))\n",
        "print('      labels:  {:}'.format(str(labels.shape)))"
      ],
      "execution_count": 33,
      "outputs": [
        {
          "output_type": "stream",
          "name": "stdout",
          "text": [
            "\n",
            "Data structure shapes:\n",
            "   input_ids:  torch.Size([1000, 128])\n",
            "  attn_masks:  torch.Size([1000, 128])\n",
            "      labels:  torch.Size([1000, 3])\n"
          ]
        }
      ]
    },
    {
      "cell_type": "markdown",
      "metadata": {
        "id": "JNrE5s6pqGVu"
      },
      "source": [
        "**DataLoader**\n",
        "\n",
        "Create a DataLoader to batch our test samples for us."
      ]
    },
    {
      "cell_type": "code",
      "metadata": {
        "id": "3ndz4YWSqHyV"
      },
      "source": [
        "from torch.utils.data import TensorDataset, DataLoader, SequentialSampler\n",
        "\n",
        "# Combine the training inputs into a TensorDataset.\n",
        "test_dataset = TensorDataset(input_ids, attn_masks, labels)\n",
        "\n",
        "# Specify our batch size.\n",
        "batch_size = 16\n",
        "\n",
        "# Create the DataLoader, which will select batches for us. For testing, the\n",
        "# order we evaluate the samples in doesn't matter, so we'll just use the \n",
        "# \"SequentialSampler\" to read them in order.\n",
        "test_dataloader = DataLoader(\n",
        "            test_dataset,  # The training samples.\n",
        "            sampler = SequentialSampler(test_dataset), # Select batches randomly\n",
        "            batch_size = batch_size # Trains with this batch size.\n",
        "        )\n"
      ],
      "execution_count": 34,
      "outputs": []
    },
    {
      "cell_type": "markdown",
      "metadata": {
        "id": "RJJVmwstqzEn"
      },
      "source": [
        "### 5.2 Evaluate On Test Set"
      ]
    },
    {
      "cell_type": "code",
      "metadata": {
        "id": "xqNzZkUx6KYL",
        "colab": {
          "base_uri": "https://localhost:8080/"
        },
        "outputId": "8071dde7-e7cd-47ff-f52b-ff452a44377c"
      },
      "source": [
        "import time\n",
        "\n",
        "# Prediction on test set\n",
        "\n",
        "# Put model in evaluation mode\n",
        "model.eval()\n",
        "\n",
        "t0 = time.time()\n",
        "\n",
        "# Tracking variables \n",
        "predictions , true_labels = [], []\n",
        "\n",
        "print('Evaluating on {:,} test set batches...'.format(len(test_dataloader)))\n",
        "\n",
        "# Predict \n",
        "for batch in test_dataloader:\n",
        "    \n",
        "    # Report progress.\n",
        "    if ((len(predictions) % 500) == 0):\n",
        "        print('  Batch {:>5,}  of  {:>5,}.'.format(len(predictions), len(test_dataloader)))\n",
        "\n",
        "    # Add batch to GPU\n",
        "    batch = tuple(t.to(device) for t in batch)\n",
        "    \n",
        "    # Unpack the inputs from our dataloader\n",
        "    b_input_ids, b_input_mask, b_labels = batch\n",
        "    \n",
        "    # Telling the model not to compute or store the compute graph, saving memory \n",
        "    # and speeding up prediction\n",
        "    with torch.no_grad():\n",
        "        \n",
        "        # Forward pass, calculate logit predictions\n",
        "        outputs = model(b_input_ids, \n",
        "                        token_type_ids=None, \n",
        "                        attention_mask=b_input_mask)\n",
        "\n",
        "    logits = outputs[0]\n",
        "\n",
        "    # Move logits and labels to CPU\n",
        "    logits = logits.detach().cpu().numpy()\n",
        "    label_ids = b_labels.to('cpu').numpy()\n",
        "    \n",
        "    # Store predictions and true labels\n",
        "    predictions.append(logits)\n",
        "    true_labels.append(label_ids)\n",
        "\n",
        "print('    DONE.')\n",
        "\n",
        "print('Evaluation took {:.0f} seconds.'.format(time.time() - t0))"
      ],
      "execution_count": 35,
      "outputs": [
        {
          "output_type": "stream",
          "name": "stdout",
          "text": [
            "Evaluating on 63 test set batches...\n",
            "  Batch     0  of     63.\n",
            "    DONE.\n",
            "Evaluation took 4 seconds.\n"
          ]
        }
      ]
    },
    {
      "cell_type": "code",
      "metadata": {
        "colab": {
          "base_uri": "https://localhost:8080/"
        },
        "id": "Ly-jTX7kZtzA",
        "outputId": "91fd4b72-30d6-4c7c-dcdb-c1be14d30dbb"
      },
      "source": [
        "b_labels"
      ],
      "execution_count": 36,
      "outputs": [
        {
          "output_type": "execute_result",
          "data": {
            "text/plain": [
              "tensor([[1., 0., 0.],\n",
              "        [1., 0., 0.],\n",
              "        [1., 0., 0.],\n",
              "        [1., 0., 0.],\n",
              "        [1., 0., 0.],\n",
              "        [1., 0., 0.],\n",
              "        [1., 0., 0.],\n",
              "        [1., 0., 0.]], device='cuda:0', dtype=torch.float64)"
            ]
          },
          "metadata": {},
          "execution_count": 36
        }
      ]
    },
    {
      "cell_type": "markdown",
      "metadata": {
        "id": "iJoh2shgrVx0"
      },
      "source": [
        "We collected the predictions in batches, so now we just need to recombine them."
      ]
    },
    {
      "cell_type": "code",
      "metadata": {
        "id": "DFcP525n6KYN"
      },
      "source": [
        "# Combine the results across all batches. \n",
        "flat_predictions = np.concatenate(predictions, axis=0)\n",
        "flat_true_labels = np.concatenate(true_labels, axis=0)\n"
      ],
      "execution_count": 37,
      "outputs": []
    },
    {
      "cell_type": "code",
      "metadata": {
        "colab": {
          "base_uri": "https://localhost:8080/"
        },
        "id": "TNFjv492ccmr",
        "outputId": "610aae07-0a87-4345-bcaf-0f8aeb376df2"
      },
      "source": [
        "import sys\n",
        "import numpy\n",
        "numpy.set_printoptions(threshold=sys.maxsize)\n",
        "testflat = np.asarray(test)\n",
        "\n",
        "xr = len(flat_predictions)\n",
        "classifications = ['BERT class, actual, confidence, test_text']\n",
        "accutotal = 0\n",
        "\n",
        "for x in range(xr):\n",
        "  testtext = testflat[x,1]\n",
        "  testcorrect = testflat[x,2]\n",
        "  logits = flat_predictions[x]\n",
        "  out = np.exp(logits) / np.sum(np.exp(logits))\n",
        "  #print(out)\n",
        "  #print(np.argmax(out))\n",
        "  entry = [np.argmax(out), testcorrect, max(out), testtext]\n",
        "  classifications.append(entry)\n",
        "  # calculating accuracy\n",
        "  if testcorrect == np.argmax(out):\n",
        "    accutotal += 1\n",
        "\n",
        "\n",
        "test3 = np.asarray(classifications)"
      ],
      "execution_count": 38,
      "outputs": [
        {
          "output_type": "stream",
          "name": "stderr",
          "text": [
            "/usr/local/lib/python3.7/dist-packages/ipykernel_launcher.py:24: VisibleDeprecationWarning: Creating an ndarray from ragged nested sequences (which is a list-or-tuple of lists-or-tuples-or ndarrays with different lengths or shapes) is deprecated. If you meant to do this, you must specify 'dtype=object' when creating the ndarray.\n"
          ]
        }
      ]
    },
    {
      "cell_type": "markdown",
      "metadata": {
        "id": "I5zp9DnVroQU"
      },
      "source": [
        "### 5.3 Score Results"
      ]
    },
    {
      "cell_type": "markdown",
      "metadata": {
        "id": "sYA3FMFIKJjL"
      },
      "source": [
        "Here BERT's predictions on the test set are compared to the actual classifications."
      ]
    },
    {
      "cell_type": "code",
      "metadata": {
        "colab": {
          "base_uri": "https://localhost:8080/"
        },
        "id": "cRft1q7Qph_a",
        "outputId": "0d4b5fe5-73b6-4f0d-a764-c8dd901de631"
      },
      "source": [
        "accuracy = format(accutotal / xr * 100, '.2f')\n",
        "correct = str(accutotal)\n",
        "grandtotal = str(xr)\n",
        "print('The model predicted the classification of ' + correct + ' of the ' + grandtotal + ' articles correctly.')"
      ],
      "execution_count": 39,
      "outputs": [
        {
          "output_type": "stream",
          "name": "stdout",
          "text": [
            "The model predicted the classification of 894 of the 1000 articles correctly.\n"
          ]
        }
      ]
    },
    {
      "cell_type": "markdown",
      "metadata": {
        "id": "vqziKHN0ynMO"
      },
      "source": [
        "#### 5.3.1 Test ROC AUC"
      ]
    },
    {
      "cell_type": "code",
      "metadata": {
        "id": "pzdDHGZU6KYV",
        "colab": {
          "base_uri": "https://localhost:8080/"
        },
        "outputId": "caac0e3f-7629-4f4c-ecd0-aebef15110a3"
      },
      "source": [
        "# Calcualte the ROC AUC score for our model's predictions.\n",
        "score = roc_auc_score(flat_true_labels, flat_predictions)\n",
        "\n",
        "print('ROC AUC: {:.4f}'.format(score))"
      ],
      "execution_count": 40,
      "outputs": [
        {
          "output_type": "stream",
          "name": "stdout",
          "text": [
            "ROC AUC: 0.9718\n"
          ]
        }
      ]
    },
    {
      "cell_type": "markdown",
      "metadata": {
        "id": "CFXlpvf9rYjb"
      },
      "source": [
        "#### 5.3.2 Test Precision/Recall Plot"
      ]
    },
    {
      "cell_type": "code",
      "metadata": {
        "id": "qYJdGg3Qnwd5"
      },
      "source": [
        "from sklearn.metrics import precision_recall_curve\n",
        "from sklearn.metrics import average_precision_score\n",
        "\n",
        "n_classes = 3\n",
        "\n",
        "# For each class\n",
        "precision = dict()\n",
        "recall = dict()\n",
        "average_precision = dict()\n",
        "for i in range(n_classes): \n",
        "    precision[i], recall[i], _ = precision_recall_curve(flat_true_labels[:, i], flat_predictions[:, i]) \n",
        "    average_precision[i] = average_precision_score(flat_true_labels[:, i], flat_predictions[:, i])\n",
        "\n",
        "# A \"micro-average\": quantifying score on all classes jointly\n",
        "precision[\"micro\"], recall[\"micro\"], _ = precision_recall_curve(\n",
        "    flat_true_labels.ravel(), flat_predictions.ravel()\n",
        ")\n",
        "average_precision[\"micro\"] = average_precision_score(flat_true_labels, flat_predictions, average=\"micro\")"
      ],
      "execution_count": 41,
      "outputs": []
    },
    {
      "cell_type": "code",
      "metadata": {
        "colab": {
          "base_uri": "https://localhost:8080/",
          "height": 427
        },
        "id": "Y_gn73Fen5hY",
        "outputId": "d02d3cc1-997a-4b36-db20-2af7b831c3d7"
      },
      "source": [
        "from sklearn.metrics import PrecisionRecallDisplay\n",
        "\n",
        "display = PrecisionRecallDisplay(\n",
        "    recall=recall[\"micro\"],\n",
        "    precision=precision[\"micro\"],\n",
        "    average_precision=average_precision[\"micro\"],\n",
        ")\n",
        "display.plot()\n",
        "_ = display.ax_.set_title(\"Micro-averaged over all classes\")"
      ],
      "execution_count": 42,
      "outputs": [
        {
          "output_type": "display_data",
          "data": {
            "text/plain": [
              "<Figure size 864x432 with 1 Axes>"
            ],
            "image/png": "[encoded data removed]"
          },
          "metadata": {}
        }
      ]
    },
    {
      "cell_type": "code",
      "metadata": {
        "colab": {
          "base_uri": "https://localhost:8080/",
          "height": 753
        },
        "id": "eaRIUzGVoHZU",
        "outputId": "1947741b-a56f-4e7b-f789-91230eb0f0df"
      },
      "source": [
        "import matplotlib.pyplot as plt\n",
        "from itertools import cycle\n",
        "\n",
        "from sklearn.metrics import PrecisionRecallDisplay\n",
        "\n",
        "# setup plot details\n",
        "colors = cycle([\"navy\", \"turquoise\", \"darkorange\", \"cornflowerblue\", \"teal\"])\n",
        "\n",
        "#_, ax = plt.subplots(figsize=(8, 7))\n",
        "_, ax = plt.subplots(figsize=(14, 12))\n",
        "\n",
        "f_scores = np.linspace(0.2, 0.8, num=4)\n",
        "lines, labels = [], []\n",
        "for f_score in f_scores:\n",
        "    x = np.linspace(0.01, 1)\n",
        "    y = f_score * x / (2 * x - f_score)\n",
        "    (l,) = plt.plot(x[y >= 0], y[y >= 0], color=\"gray\", alpha=0.2)\n",
        "    plt.annotate(\"f1={0:0.1f}\".format(f_score), xy=(0.9, y[45] + 0.02))\n",
        "\n",
        "display = PrecisionRecallDisplay(\n",
        "    recall=recall[\"micro\"],\n",
        "    precision=precision[\"micro\"],\n",
        "    average_precision=average_precision[\"micro\"],\n",
        ")\n",
        "display.plot(ax=ax, name=\"Micro-average precision-recall\", color=\"gold\")\n",
        "\n",
        "for i, color in zip(range(n_classes), colors):\n",
        "    display = PrecisionRecallDisplay(\n",
        "        recall=recall[i],\n",
        "        precision=precision[i],\n",
        "        average_precision=average_precision[i],\n",
        "    )\n",
        "    display.plot(ax=ax, name=f\"Precision-recall for class {i}\", color=color)\n",
        "\n",
        "# add the legend for the iso-f1 curves\n",
        "handles, labels = display.ax_.get_legend_handles_labels()\n",
        "handles.extend([l])\n",
        "labels.extend([\"iso-f1 curves\"])\n",
        "# set the legend and the axes\n",
        "ax.set_xlim([0.0, 1.0])\n",
        "ax.set_ylim([0.0, 1.05])\n",
        "ax.legend(handles=handles, labels=labels, loc=\"best\")\n",
        "#ax.set_title(\"Extension of Precision-Recall curve to multi-class\")\n",
        "ax.set_title(\"Multi-class Precision-Recall curve\")\n",
        "plt.show()"
      ],
      "execution_count": 43,
      "outputs": [
        {
          "output_type": "display_data",
          "data": {
            "text/plain": [
              "<Figure size 1008x864 with 1 Axes>"
            ],
            "image/png": "[encoded data removed]"
          },
          "metadata": {}
        }
      ]
    },
    {
      "cell_type": "markdown",
      "metadata": {
        "id": "z7QhhBVkPOua"
      },
      "source": [
        "###5.4 Test Output"
      ]
    },
    {
      "cell_type": "markdown",
      "metadata": {
        "id": "VV3ve_E_KyKi"
      },
      "source": [
        "Here the results are output.  First is BERT's prediction, next are the actual classifications for comparison, then the score which represents the degree to which the model was certain of he classification, and finalls the actual text tested."
      ]
    },
    {
      "cell_type": "code",
      "source": [
        "# output to dataframe\n",
        "output = pd.DataFrame({'Prediction':[],'Actual':[],'Score':[],'Text Tested':[]})\n",
        "\n",
        "for i in range(1000):\n",
        "  output_entry = pd.DataFrame({'Prediction':[test3[i+1][0]],'Actual':[test3[i+1][1]],'Score':[test3[i+1][2]],'Text Tested':[test3[i+1][3]]})\n",
        "  output = pd.concat([output, output_entry])"
      ],
      "metadata": {
        "id": "Y_Iaf57JO2NC"
      },
      "execution_count": 44,
      "outputs": []
    },
    {
      "cell_type": "code",
      "source": [
        "# preview output\n",
        "output"
      ],
      "metadata": {
        "colab": {
          "base_uri": "https://localhost:8080/",
          "height": 424
        },
        "id": "six6iCV-RzqA",
        "outputId": "80c13dcb-67ab-46f8-fdcd-c8539d8471c0"
      },
      "execution_count": 45,
      "outputs": [
        {
          "output_type": "execute_result",
          "data": {
            "text/plain": [
              "    Prediction  Actual  Score  \\\n",
              "0          0.0     0.0    1.0   \n",
              "0          0.0     0.0    1.0   \n",
              "0          0.0     0.0    1.0   \n",
              "0          0.0     0.0    1.0   \n",
              "0          0.0     0.0    1.0   \n",
              "..         ...     ...    ...   \n",
              "0          0.0     0.0    1.0   \n",
              "0          0.0     0.0    1.0   \n",
              "0          0.0     0.0    1.0   \n",
              "0          0.0     0.0    1.0   \n",
              "0          0.0     0.0    1.0   \n",
              "\n",
              "                                          Text Tested  \n",
              "0   中共中央政治局1月12日召开会议，研究修改宪法部分内容的建议。中共中央总书记习近平主持会议。...  \n",
              "0   当地时间11日上午，柬埔寨首相洪森在金边和平大厦举行仪式，欢迎国务院总理李克强对柬埔寨进行正...  \n",
              "0   欢迎仪式后，双方在金边和平大厦举行会谈。\\n李克强表示，中柬是近邻，传统友谊深厚。中方愿以两...  \n",
              "0   当天中午，李克强在金边王宫会见柬埔寨国王西哈莫尼。\\n李克强首先转达习近平主席对西哈莫尼国王...  \n",
              "0   国务院总理李克强出席在柬埔寨金边举行的澜沧江-湄公河合作第二次领导人会议，并结束对柬埔寨的正...  \n",
              "..                                                ...  \n",
              "0   《人民日报》今天发表文章《习近平同志在福建宁德工作时反腐倡廉的生动实践——回忆1990年我的...  \n",
              "0   “在党的统一领导下协调行动、增强合力，全面提高国家治理能力和治理水平”。《中国共产党第十九届...  \n",
              "0   两会首场新闻发布会今天举行，政协大会新闻发言人王国庆介绍了全国政协十三届一次会议的主要安排。...  \n",
              "0    明天出版的人民日报将发表社论《不负新时代的光荣使命——热烈祝贺全国政协十三届一次会议开幕》。\\n  \n",
              "0   全国政协十三届一次会议将于3月3日下午3点在北京开幕，全国政协主席俞正声将作十二届全国政协常...  \n",
              "\n",
              "[1000 rows x 4 columns]"
            ],
            "text/html": [
              "\n",
              "  <div id=\"df-bfe0e00a-23a0-45f6-8c3c-eb318975f978\">\n",
              "    <div class=\"colab-df-container\">\n",
              "      <div>\n",
              "<style scoped>\n",
              "    .dataframe tbody tr th:only-of-type {\n",
              "        vertical-align: middle;\n",
              "    }\n",
              "\n",
              "    .dataframe tbody tr th {\n",
              "        vertical-align: top;\n",
              "    }\n",
              "\n",
              "    .dataframe thead th {\n",
              "        text-align: right;\n",
              "    }\n",
              "</style>\n",
              "<table border=\"1\" class=\"dataframe\">\n",
              "  <thead>\n",
              "    <tr style=\"text-align: right;\">\n",
              "      <th></th>\n",
              "      <th>Prediction</th>\n",
              "      <th>Actual</th>\n",
              "      <th>Score</th>\n",
              "      <th>Text Tested</th>\n",
              "    </tr>\n",
              "  </thead>\n",
              "  <tbody>\n",
              "    <tr>\n",
              "      <th>0</th>\n",
              "      <td>0.0</td>\n",
              "      <td>0.0</td>\n",
              "      <td>1.0</td>\n",
              "      <td>中共中央政治局1月12日召开会议，研究修改宪法部分内容的建议。中共中央总书记习近平主持会议。...</td>\n",
              "    </tr>\n",
              "    <tr>\n",
              "      <th>0</th>\n",
              "      <td>0.0</td>\n",
              "      <td>0.0</td>\n",
              "      <td>1.0</td>\n",
              "      <td>当地时间11日上午，柬埔寨首相洪森在金边和平大厦举行仪式，欢迎国务院总理李克强对柬埔寨进行正...</td>\n",
              "    </tr>\n",
              "    <tr>\n",
              "      <th>0</th>\n",
              "      <td>0.0</td>\n",
              "      <td>0.0</td>\n",
              "      <td>1.0</td>\n",
              "      <td>欢迎仪式后，双方在金边和平大厦举行会谈。\\n李克强表示，中柬是近邻，传统友谊深厚。中方愿以两...</td>\n",
              "    </tr>\n",
              "    <tr>\n",
              "      <th>0</th>\n",
              "      <td>0.0</td>\n",
              "      <td>0.0</td>\n",
              "      <td>1.0</td>\n",
              "      <td>当天中午，李克强在金边王宫会见柬埔寨国王西哈莫尼。\\n李克强首先转达习近平主席对西哈莫尼国王...</td>\n",
              "    </tr>\n",
              "    <tr>\n",
              "      <th>0</th>\n",
              "      <td>0.0</td>\n",
              "      <td>0.0</td>\n",
              "      <td>1.0</td>\n",
              "      <td>国务院总理李克强出席在柬埔寨金边举行的澜沧江-湄公河合作第二次领导人会议，并结束对柬埔寨的正...</td>\n",
              "    </tr>\n",
              "    <tr>\n",
              "      <th>...</th>\n",
              "      <td>...</td>\n",
              "      <td>...</td>\n",
              "      <td>...</td>\n",
              "      <td>...</td>\n",
              "    </tr>\n",
              "    <tr>\n",
              "      <th>0</th>\n",
              "      <td>0.0</td>\n",
              "      <td>0.0</td>\n",
              "      <td>1.0</td>\n",
              "      <td>《人民日报》今天发表文章《习近平同志在福建宁德工作时反腐倡廉的生动实践——回忆1990年我的...</td>\n",
              "    </tr>\n",
              "    <tr>\n",
              "      <th>0</th>\n",
              "      <td>0.0</td>\n",
              "      <td>0.0</td>\n",
              "      <td>1.0</td>\n",
              "      <td>“在党的统一领导下协调行动、增强合力，全面提高国家治理能力和治理水平”。《中国共产党第十九届...</td>\n",
              "    </tr>\n",
              "    <tr>\n",
              "      <th>0</th>\n",
              "      <td>0.0</td>\n",
              "      <td>0.0</td>\n",
              "      <td>1.0</td>\n",
              "      <td>两会首场新闻发布会今天举行，政协大会新闻发言人王国庆介绍了全国政协十三届一次会议的主要安排。...</td>\n",
              "    </tr>\n",
              "    <tr>\n",
              "      <th>0</th>\n",
              "      <td>0.0</td>\n",
              "      <td>0.0</td>\n",
              "      <td>1.0</td>\n",
              "      <td>明天出版的人民日报将发表社论《不负新时代的光荣使命——热烈祝贺全国政协十三届一次会议开幕》。\\n</td>\n",
              "    </tr>\n",
              "    <tr>\n",
              "      <th>0</th>\n",
              "      <td>0.0</td>\n",
              "      <td>0.0</td>\n",
              "      <td>1.0</td>\n",
              "      <td>全国政协十三届一次会议将于3月3日下午3点在北京开幕，全国政协主席俞正声将作十二届全国政协常...</td>\n",
              "    </tr>\n",
              "  </tbody>\n",
              "</table>\n",
              "<p>1000 rows × 4 columns</p>\n",
              "</div>\n",
              "      <button class=\"colab-df-convert\" onclick=\"convertToInteractive('df-bfe0e00a-23a0-45f6-8c3c-eb318975f978')\"\n",
              "              title=\"Convert this dataframe to an interactive table.\"\n",
              "              style=\"display:none;\">\n",
              "        \n",
              "  <svg xmlns=\"http://www.w3.org/2000/svg\" height=\"24px\"viewBox=\"0 0 24 24\"\n",
              "       width=\"24px\">\n",
              "    <path d=\"M0 0h24v24H0V0z\" fill=\"none\"/>\n",
              "    <path d=\"M18.56 5.44l.94 2.06.94-2.06 2.06-.94-2.06-.94-.94-2.06-.94 2.06-2.06.94zm-11 1L8.5 8.5l.94-2.06 2.06-.94-2.06-.94L8.5 2.5l-.94 2.06-2.06.94zm10 10l.94 2.06.94-2.06 2.06-.94-2.06-.94-.94-2.06-.94 2.06-2.06.94z\"/><path d=\"M17.41 7.96l-1.37-1.37c-.4-.4-.92-.59-1.43-.59-.52 0-1.04.2-1.43.59L10.3 9.45l-7.72 7.72c-.78.78-.78 2.05 0 2.83L4 21.41c.39.39.9.59 1.41.59.51 0 1.02-.2 1.41-.59l7.78-7.78 2.81-2.81c.8-.78.8-2.07 0-2.86zM5.41 20L4 18.59l7.72-7.72 1.47 1.35L5.41 20z\"/>\n",
              "  </svg>\n",
              "      </button>\n",
              "      \n",
              "  <style>\n",
              "    .colab-df-container {\n",
              "      display:flex;\n",
              "      flex-wrap:wrap;\n",
              "      gap: 12px;\n",
              "    }\n",
              "\n",
              "    .colab-df-convert {\n",
              "      background-color: #E8F0FE;\n",
              "      border: none;\n",
              "      border-radius: 50%;\n",
              "      cursor: pointer;\n",
              "      display: none;\n",
              "      fill: #1967D2;\n",
              "      height: 32px;\n",
              "      padding: 0 0 0 0;\n",
              "      width: 32px;\n",
              "    }\n",
              "\n",
              "    .colab-df-convert:hover {\n",
              "      background-color: #E2EBFA;\n",
              "      box-shadow: 0px 1px 2px rgba(60, 64, 67, 0.3), 0px 1px 3px 1px rgba(60, 64, 67, 0.15);\n",
              "      fill: #174EA6;\n",
              "    }\n",
              "\n",
              "    [theme=dark] .colab-df-convert {\n",
              "      background-color: #3B4455;\n",
              "      fill: #D2E3FC;\n",
              "    }\n",
              "\n",
              "    [theme=dark] .colab-df-convert:hover {\n",
              "      background-color: #434B5C;\n",
              "      box-shadow: 0px 1px 3px 1px rgba(0, 0, 0, 0.15);\n",
              "      filter: drop-shadow(0px 1px 2px rgba(0, 0, 0, 0.3));\n",
              "      fill: #FFFFFF;\n",
              "    }\n",
              "  </style>\n",
              "\n",
              "      <script>\n",
              "        const buttonEl =\n",
              "          document.querySelector('#df-bfe0e00a-23a0-45f6-8c3c-eb318975f978 button.colab-df-convert');\n",
              "        buttonEl.style.display =\n",
              "          google.colab.kernel.accessAllowed ? 'block' : 'none';\n",
              "\n",
              "        async function convertToInteractive(key) {\n",
              "          const element = document.querySelector('#df-bfe0e00a-23a0-45f6-8c3c-eb318975f978');\n",
              "          const dataTable =\n",
              "            await google.colab.kernel.invokeFunction('convertToInteractive',\n",
              "                                                     [key], {});\n",
              "          if (!dataTable) return;\n",
              "\n",
              "          const docLinkHtml = 'Like what you see? Visit the ' +\n",
              "            '<a target=\"_blank\" href=https://colab.research.google.com/notebooks/data_table.ipynb>data table notebook</a>'\n",
              "            + ' to learn more about interactive tables.';\n",
              "          element.innerHTML = '';\n",
              "          dataTable['output_type'] = 'display_data';\n",
              "          await google.colab.output.renderOutput(dataTable, element);\n",
              "          const docLink = document.createElement('div');\n",
              "          docLink.innerHTML = docLinkHtml;\n",
              "          element.appendChild(docLink);\n",
              "        }\n",
              "      </script>\n",
              "    </div>\n",
              "  </div>\n",
              "  "
            ]
          },
          "metadata": {},
          "execution_count": 45
        }
      ]
    },
    {
      "cell_type": "code",
      "source": [
        "# output to .csv\n",
        "output.to_csv('Chinese_Classifier_Output.csv', index=False, encoding='utf-8-sig')\n",
        "from google.colab import files\n",
        "files.download(\"Chinese_Classifier_Output.csv\")"
      ],
      "metadata": {
        "colab": {
          "base_uri": "https://localhost:8080/",
          "height": 17
        },
        "id": "Y0DxSmZYP85B",
        "outputId": "a2e92ab7-9687-4111-c3af-1d1f588c93ea"
      },
      "execution_count": 46,
      "outputs": [
        {
          "output_type": "display_data",
          "data": {
            "text/plain": [
              "<IPython.core.display.Javascript object>"
            ],
            "application/javascript": [
              "\n",
              "    async function download(id, filename, size) {\n",
              "      if (!google.colab.kernel.accessAllowed) {\n",
              "        return;\n",
              "      }\n",
              "      const div = document.createElement('div');\n",
              "      const label = document.createElement('label');\n",
              "      label.textContent = `Downloading \"${filename}\": `;\n",
              "      div.appendChild(label);\n",
              "      const progress = document.createElement('progress');\n",
              "      progress.max = size;\n",
              "      div.appendChild(progress);\n",
              "      document.body.appendChild(div);\n",
              "\n",
              "      const buffers = [];\n",
              "      let downloaded = 0;\n",
              "\n",
              "      const channel = await google.colab.kernel.comms.open(id);\n",
              "      // Send a message to notify the kernel that we're ready.\n",
              "      channel.send({})\n",
              "\n",
              "      for await (const message of channel.messages) {\n",
              "        // Send a message to notify the kernel that we're ready.\n",
              "        channel.send({})\n",
              "        if (message.buffers) {\n",
              "          for (const buffer of message.buffers) {\n",
              "            buffers.push(buffer);\n",
              "            downloaded += buffer.byteLength;\n",
              "            progress.value = downloaded;\n",
              "          }\n",
              "        }\n",
              "      }\n",
              "      const blob = new Blob(buffers, {type: 'application/binary'});\n",
              "      const a = document.createElement('a');\n",
              "      a.href = window.URL.createObjectURL(blob);\n",
              "      a.download = filename;\n",
              "      div.appendChild(a);\n",
              "      a.click();\n",
              "      div.remove();\n",
              "    }\n",
              "  "
            ]
          },
          "metadata": {}
        },
        {
          "output_type": "display_data",
          "data": {
            "text/plain": [
              "<IPython.core.display.Javascript object>"
            ],
            "application/javascript": [
              "download(\"download_5352fe13-9b12-4ff1-95f1-c244fe37fa12\", \"Chinese_Classifier_Output.csv\", 987523)"
            ]
          },
          "metadata": {}
        }
      ]
    }
  ]
}