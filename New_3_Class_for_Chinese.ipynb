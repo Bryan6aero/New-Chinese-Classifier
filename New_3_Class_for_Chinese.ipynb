{
  "nbformat": 4,
  "nbformat_minor": 0,
  "metadata": {
    "accelerator": "GPU",
    "colab": {
      "name": "New 3 Class for Chinese.ipynb",
      "provenance": [],
      "collapsed_sections": [],
      "toc_visible": true,
      "include_colab_link": true
    },
    "kernelspec": {
      "display_name": "Python 3",
      "name": "python3"
    }
  },
  "cells": [
    {
      "cell_type": "markdown",
      "metadata": {
        "id": "view-in-github",
        "colab_type": "text"
      },
      "source": [
        "<a href=\"https://colab.research.google.com/github/Bryan6aero/New-Chinese-Classifier/blob/main/New_3_Class_for_Chinese.ipynb\" target=\"_parent\"><img src=\"https://colab.research.google.com/assets/colab-badge.svg\" alt=\"Open In Colab\"/></a>"
      ]
    },
    {
      "cell_type": "markdown",
      "metadata": {
        "id": "2ElsnSNUridI"
      },
      "source": [
        "### 1 Install the Hugging Face Library\n"
      ]
    },
    {
      "cell_type": "code",
      "metadata": {
        "colab": {
          "base_uri": "https://localhost:8080/"
        },
        "id": "0NmMdkZO8R6q",
        "outputId": "5a78c501-7501-4de1-9520-38801677f502"
      },
      "source": [
        "!pip install transformers"
      ],
      "execution_count": 1,
      "outputs": [
        {
          "output_type": "stream",
          "name": "stdout",
          "text": [
            "Requirement already satisfied: transformers in /usr/local/lib/python3.7/dist-packages (4.12.5)\n",
            "Requirement already satisfied: importlib-metadata in /usr/local/lib/python3.7/dist-packages (from transformers) (4.8.2)\n",
            "Requirement already satisfied: pyyaml>=5.1 in /usr/local/lib/python3.7/dist-packages (from transformers) (6.0)\n",
            "Requirement already satisfied: packaging>=20.0 in /usr/local/lib/python3.7/dist-packages (from transformers) (21.3)\n",
            "Requirement already satisfied: regex!=2019.12.17 in /usr/local/lib/python3.7/dist-packages (from transformers) (2019.12.20)\n",
            "Requirement already satisfied: filelock in /usr/local/lib/python3.7/dist-packages (from transformers) (3.4.0)\n",
            "Requirement already satisfied: requests in /usr/local/lib/python3.7/dist-packages (from transformers) (2.23.0)\n",
            "Requirement already satisfied: huggingface-hub<1.0,>=0.1.0 in /usr/local/lib/python3.7/dist-packages (from transformers) (0.2.0)\n",
            "Requirement already satisfied: tqdm>=4.27 in /usr/local/lib/python3.7/dist-packages (from transformers) (4.62.3)\n",
            "Requirement already satisfied: tokenizers<0.11,>=0.10.1 in /usr/local/lib/python3.7/dist-packages (from transformers) (0.10.3)\n",
            "Requirement already satisfied: numpy>=1.17 in /usr/local/lib/python3.7/dist-packages (from transformers) (1.19.5)\n",
            "Requirement already satisfied: sacremoses in /usr/local/lib/python3.7/dist-packages (from transformers) (0.0.46)\n",
            "Requirement already satisfied: typing-extensions>=3.7.4.3 in /usr/local/lib/python3.7/dist-packages (from huggingface-hub<1.0,>=0.1.0->transformers) (3.10.0.2)\n",
            "Requirement already satisfied: pyparsing!=3.0.5,>=2.0.2 in /usr/local/lib/python3.7/dist-packages (from packaging>=20.0->transformers) (3.0.6)\n",
            "Requirement already satisfied: zipp>=0.5 in /usr/local/lib/python3.7/dist-packages (from importlib-metadata->transformers) (3.6.0)\n",
            "Requirement already satisfied: chardet<4,>=3.0.2 in /usr/local/lib/python3.7/dist-packages (from requests->transformers) (3.0.4)\n",
            "Requirement already satisfied: urllib3!=1.25.0,!=1.25.1,<1.26,>=1.21.1 in /usr/local/lib/python3.7/dist-packages (from requests->transformers) (1.24.3)\n",
            "Requirement already satisfied: certifi>=2017.4.17 in /usr/local/lib/python3.7/dist-packages (from requests->transformers) (2021.10.8)\n",
            "Requirement already satisfied: idna<3,>=2.5 in /usr/local/lib/python3.7/dist-packages (from requests->transformers) (2.10)\n",
            "Requirement already satisfied: joblib in /usr/local/lib/python3.7/dist-packages (from sacremoses->transformers) (1.1.0)\n",
            "Requirement already satisfied: click in /usr/local/lib/python3.7/dist-packages (from sacremoses->transformers) (7.1.2)\n",
            "Requirement already satisfied: six in /usr/local/lib/python3.7/dist-packages (from sacremoses->transformers) (1.15.0)\n"
          ]
        }
      ]
    },
    {
      "cell_type": "markdown",
      "metadata": {
        "id": "o9kg0ojhpaDv"
      },
      "source": [
        "BertFor**MultiLabel**SequenceClassification"
      ]
    },
    {
      "cell_type": "code",
      "metadata": {
        "id": "SomcsvX5bi1U"
      },
      "source": [
        "from torch import nn\n",
        "from torch.nn import BCEWithLogitsLoss\n",
        "from transformers import BertPreTrainedModel, BertModel\n",
        "\n",
        "class BertForMultiLabelSequenceClassification(BertPreTrainedModel):\n",
        "    '''\n",
        "    This custom class closely resembles BertForSequenceClassification, which\n",
        "    supports multiclass classification, but not multi-label.\n",
        "    This modified version supports data points with multiple labels.\n",
        "    '''\n",
        "\n",
        "    def __init__(self, config):\n",
        "        '''\n",
        "        Class initializer, called when we create a new instance of this class.\n",
        "        '''\n",
        "\n",
        "        # Call the init function of the parent class (BertPreTrainedModel)        \n",
        "        super().__init__(config)\n",
        "       \n",
        "        # Store the number of labels.\n",
        "        self.num_labels = config.num_labels\n",
        "        \n",
        "        # Create a `BertModel`--this implements all of BERT except for the final\n",
        "        # task-specific output layer (which is what we'll do here in `forward`). \n",
        "        self.bert = BertModel(config)\n",
        "\n",
        "        # Setup dropout object (note: I'm not familiar enough to speak to this).\n",
        "        self.dropout = nn.Dropout(config.hidden_dropout_prob)\n",
        "\n",
        "        # Create a [768 x 6] weight matrix to use as our classifier.\n",
        "        self.classifier = nn.Linear(config.hidden_size, config.num_labels)\n",
        "\n",
        "        # Initialize model weights (inherited function).\n",
        "        self.init_weights()\n",
        "\n",
        "    def forward(\n",
        "        self,\n",
        "        input_ids=None,\n",
        "        attention_mask=None,\n",
        "        token_type_ids=None,\n",
        "        position_ids=None,\n",
        "        head_mask=None,\n",
        "        inputs_embeds=None,\n",
        "        labels=None,\n",
        "        output_attentions=None,\n",
        "        output_hidden_states=None,\n",
        "    ):\n",
        "        '''\n",
        "        This function defines what happens on a forward pass of our model, both\n",
        "        for training and evaluation. For example, when we call \n",
        "            `model(b_input_ids, ...)`\n",
        "        during our training loop, it results in a call to this `forward`\n",
        "        function.\n",
        "        '''\n",
        "\n",
        "        # ====================\n",
        "        #   Run Through BERT\n",
        "        # ====================\n",
        "\n",
        "        # All of BERT's (non-task-specific) architecture is implemented by the\n",
        "        # BertModel class. Here we pass all of the inputs through our BertModel\n",
        "        # instance. \n",
        "        outputs = self.bert(\n",
        "            input_ids,                      # The input sequence\n",
        "            attention_mask=attention_mask,  # Mask out any [PAD] tokens.\n",
        "            token_type_ids=token_type_ids,  # Identify segment A vs. B\n",
        "            position_ids=position_ids,      # TODO...\n",
        "            head_mask=head_mask,            # TODO...\n",
        "            inputs_embeds=inputs_embeds,    # Presumably the initial embeddings\n",
        "                                            # for the tokens in our sequence.\n",
        "            output_attentions=output_attentions, # Boolean, whether to return\n",
        "                                                 # all of the attention scores.\n",
        "            output_hidden_states=output_hidden_states, # Whether to return\n",
        "                                                       # embeddings from all 12\n",
        "                                                       # layers.\n",
        "        )\n",
        "\n",
        "        # Side note: It confused me to see us *invoking* an instance of a class\n",
        "        # (calling self.bert(...)) as if it were a function! I learned that in \n",
        "        # Python, an instance of a class can be callable if the class defines a \n",
        "        # `__call__` method! \n",
        "        # BertModel ultimately inherits from torch.nn.Module, which I imagine \n",
        "        # implements a `__call__` method that allows PyTorch to work its magic.\n",
        "\n",
        "        # The forward pass of 'BertModel' (the call to `self.bert`) returns two\n",
        "        # items.\n",
        "\n",
        "        # The first output is the final embeddings taken from the output of \n",
        "        # the final BERT encoder layer.\n",
        "        #\n",
        "        # `final_embeddings` has dimensions:\n",
        "        #    [ batch size  x  sequence length  x  768]\n",
        "        #      (768 is the length of the embeddings in BERT-base)\n",
        "        #\n",
        "        # I've included this here for informational purposes, but we won't \n",
        "        # actually use the `final_embeddings` anywhere here!\n",
        "        final_embeddings = outputs[0]\n",
        "\n",
        "        # ===========================\n",
        "        #   Apply Output Classifier\n",
        "        # ===========================\n",
        "\n",
        "        # The second output is the activated form of the final [CLS] embedding. \n",
        "        # This comes from the so-called \"pooling layer\" that BERT has on its \n",
        "        # output which is only applied to the [CLS] token and none of the\n",
        "        # others.\n",
        "        #\n",
        "        # You can see the definition of BertPooler.forward here:\n",
        "        # https://github.com/huggingface/transformers/blob/0735def8e1200ed45a2c33a075bc1595b12ef56a/src/transformers/modeling_bert.py#L506\n",
        "        #\n",
        "        # It takes the final embedding for the [CLS] token (and *only* that\n",
        "        # token), multiplies it with a [768 x 768] weight matrix, and then\n",
        "        # applies tanh activation to each of the 768 features in the embedding.\n",
        "        activated_cls = outputs[1]\n",
        "\n",
        "        # Apply dropout (note: I'm not familiar enough with dropout to speak to\n",
        "        # it, but I believe it is applied during training only, and is turned \n",
        "        # off during evaluation mode when we call `model.eval()`).\n",
        "        activated_cls = self.dropout(activated_cls)\n",
        "        \n",
        "        # Send it through our linear \"classifier\". The \"classifier\" is actually\n",
        "        # just a [768 x 6] weight matrix, with *no activation function*. \n",
        "        # Multiplying the activated CLS embedding with this matrix results in\n",
        "        # a vector with 6 values, which are the scores for each of our classes.\n",
        "        # Because we have not applied the activation function, these output \n",
        "        # values are referred to as \"logits\". \n",
        "        # When performing evaluation (not training), the logits are adequate for\n",
        "        # making a classification, since the activation function does not change\n",
        "        # the ranking of the results.\n",
        "        # So, in evaluation mode, we are done here!\n",
        "        logits = self.classifier(activated_cls)\n",
        "        \n",
        "        # ===================\n",
        "        #   Training Mode\n",
        "        # ===================\n",
        "\n",
        "        # If labels for the inputs have been provided, we take that to mean that\n",
        "        # we are in training mode, and we need to calculate the loss function.\n",
        "        if labels is not None:\n",
        "            \n",
        "            # The Binary Cross-Entropy Loss function is defined for us in \n",
        "            # PyTorch by the `BCEWithLogitsLoss` class.\n",
        "            #\n",
        "            # This loss function will:\n",
        "            #   1. Apply the sigmoid activation to each of our 6 logit values.\n",
        "            #   2. Feed those outputs, along with the correct labels, through \n",
        "            #      the binary cross entropy loss function to calculate a \n",
        "            #      (single?) loss value for the sample.\n",
        "            loss_fct = BCEWithLogitsLoss()\n",
        "\n",
        "            # Call the loss function, giving it the `logits` and the correct\n",
        "            # `labels`.\n",
        "            loss = loss_fct(logits.view(-1, self.num_labels), # The logits\n",
        "                            labels.view(-1, self.num_labels)) # The labels\n",
        "\n",
        "            # What's view(-1, ...)?\n",
        "            # The `view` function is used to reshape tensors. `-1` tells PyTorch\n",
        "            # to infer that dimension by dividing the total number of elements\n",
        "            # by the other dimensions.\n",
        "            # For batched input, this call to view is not necessary. Both\n",
        "            # `logits` and `labels` are already [16 x 6] here.\n",
        "            # Perhaps it's there to re-shape the tensors if you're only\n",
        "            # evaluating on a single input instead of a batch?\n",
        "\n",
        "            # Output is (loss, logits, <bonus returns>)\n",
        "            # The 'bonus return' values are the attentions and the hidden states\n",
        "            # from all 12 layers, but these are only returned by `BertModel` if\n",
        "            # the appropriate flags are set. \n",
        "            return ((loss, logits) + outputs[2:])\n",
        "\n",
        "        # ===================\n",
        "        #   Evaluation Mode\n",
        "        # ===================\n",
        "\n",
        "        # Otherwise, in evaluation mode...\n",
        "        else:\n",
        "        \n",
        "            # Output is (logits, <bonus returns>)\n",
        "            # Again, the logits are adequate for classification, so we don't\n",
        "            # bother applying the (sigmoid) activation function here.\n",
        "            return ((logits,) + outputs[2:])"
      ],
      "execution_count": 2,
      "outputs": []
    },
    {
      "cell_type": "markdown",
      "metadata": {
        "id": "HAjyraFG4Abp"
      },
      "source": [
        "### 2.1. Download\n",
        "--------------------------------------\n",
        "The full dataset comes from Kaggle.  It is over 20,000 Chinese news stories in 3 categories, international, domestic, and other.  The training set is the full text of the first 15,000 articles and the test set is the last 1,000 articles."
      ]
    },
    {
      "cell_type": "code",
      "metadata": {
        "colab": {
          "base_uri": "https://localhost:8080/"
        },
        "id": "Q-LF9NXd4Abp",
        "outputId": "e61c8023-cb04-47ba-d3cd-f82fac798e92"
      },
      "source": [
        "import gdown\n",
        "import os\n",
        "\n",
        "# Model files and their Google Drive IDs.\n",
        "# These are tuples of the form (local_file_name, drive_id).\n",
        "\n",
        "files = [\n",
        "\n",
        "     ('./data/train.csv',     '170MpjGO_Rm4nElLqr5MQUm7daSHvOaMC'), \n",
        "     ('./data/test.csv',     '1V9tc9C6Om7S8IrhzVYvAWXnJ29nEVudB'),    \n",
        "     ('./data/sample_submission.csv', '1mncwmJa9sJ7cMPxYA9vNH-L2lv7QC5la'),\n",
        "     ('./data/test_labels.csv', '1Xemv4f_xpF-ZumrC3DdRJ1Y8JYvlH_69'),\n",
        "]\n",
        "'''\n",
        "Files\n",
        "https://drive.google.com/file/d/170MpjGO_Rm4nElLqr5MQUm7daSHvOaMC/view?usp=sharing train no blanks\n",
        "https://drive.google.com/file/d/1ON6jsRqbTOzup7JthTsXrKiMN_uIYI_P/view?usp=sharing short train\n",
        "\n",
        "https://drive.google.com/file/d/1yzfIBRcKdCQgsWWaJUlgnvTCGtAd0DNK/view?usp=sharing test\n",
        "https://drive.google.com/file/d/1V9tc9C6Om7S8IrhzVYvAWXnJ29nEVudB/view?usp=sharing test with confirmation\n",
        "https://drive.google.com/file/d/1mncwmJa9sJ7cMPxYA9vNH-L2lv7QC5la/view?usp=sharing Sample Submission\n",
        "https://drive.google.com/file/d/1Xemv4f_xpF-ZumrC3DdRJ1Y8JYvlH_69/view?usp=sharing Test Labels\n",
        "\n",
        "'''\n",
        "# Make the '/data/' subdirectory.\n",
        "if not os.path.exists('./data/'):\n",
        "    os.mkdir('./data/')\n",
        "\n",
        "print('Downloading dataset files...')\n",
        "\n",
        "# For each of the files...\n",
        "for pair in files:\n",
        "    # Get the local filename.\n",
        "    output = pair[0]\n",
        "    \n",
        "    # Get the ID of the file on Google Drive.\n",
        "    file_id = pair[1]\n",
        "    \n",
        "    # Download the file.\n",
        "    gdown.download('https://drive.google.com/uc?id=' + file_id, output, \n",
        "                   quiet=False)\n",
        "    \n",
        "print('DONE.')"
      ],
      "execution_count": 3,
      "outputs": [
        {
          "output_type": "stream",
          "name": "stdout",
          "text": [
            "Downloading dataset files...\n"
          ]
        },
        {
          "output_type": "stream",
          "name": "stderr",
          "text": [
            "Downloading...\n",
            "From: https://drive.google.com/uc?id=170MpjGO_Rm4nElLqr5MQUm7daSHvOaMC\n",
            "To: /content/data/train.csv\n",
            "100%|██████████| 14.9M/14.9M [00:00<00:00, 204MB/s]\n",
            "Downloading...\n",
            "From: https://drive.google.com/uc?id=1V9tc9C6Om7S8IrhzVYvAWXnJ29nEVudB\n",
            "To: /content/data/test.csv\n",
            "100%|██████████| 976k/976k [00:00<00:00, 78.5MB/s]\n",
            "Downloading...\n",
            "From: https://drive.google.com/uc?id=1mncwmJa9sJ7cMPxYA9vNH-L2lv7QC5la\n",
            "To: /content/data/sample_submission.csv\n",
            "100%|██████████| 16.9k/16.9k [00:00<00:00, 16.6MB/s]\n",
            "Downloading...\n",
            "From: https://drive.google.com/uc?id=1Xemv4f_xpF-ZumrC3DdRJ1Y8JYvlH_69\n",
            "To: /content/data/test_labels.csv\n",
            "100%|██████████| 10.9k/10.9k [00:00<00:00, 3.44MB/s]"
          ]
        },
        {
          "output_type": "stream",
          "name": "stdout",
          "text": [
            "DONE.\n"
          ]
        },
        {
          "output_type": "stream",
          "name": "stderr",
          "text": [
            "\n"
          ]
        }
      ]
    },
    {
      "cell_type": "markdown",
      "metadata": {
        "id": "02NmUilP4Abs"
      },
      "source": [
        "### 2.2. Parse & Inspect\n",
        "-------------------\n"
      ]
    },
    {
      "cell_type": "code",
      "metadata": {
        "id": "FYvXA4_3FcbY"
      },
      "source": [
        "import pandas as pd\n",
        "train = pd.read_csv('./data/train.csv')\n",
        "test = pd.read_csv('./data/test.csv')\n",
        "sample = pd.read_csv('./data/sample_submission.csv')\n",
        "test_label = pd.read_csv('./data/test_labels.csv')"
      ],
      "execution_count": 4,
      "outputs": []
    },
    {
      "cell_type": "code",
      "metadata": {
        "colab": {
          "base_uri": "https://localhost:8080/",
          "height": 206
        },
        "id": "oAtBnY9CFcbb",
        "scrolled": true,
        "outputId": "92ed909e-6029-4046-9ac2-7522ad80aca4"
      },
      "source": [
        "train.head()"
      ],
      "execution_count": 5,
      "outputs": [
        {
          "output_type": "execute_result",
          "data": {
            "text/html": [
              "<div>\n",
              "<style scoped>\n",
              "    .dataframe tbody tr th:only-of-type {\n",
              "        vertical-align: middle;\n",
              "    }\n",
              "\n",
              "    .dataframe tbody tr th {\n",
              "        vertical-align: top;\n",
              "    }\n",
              "\n",
              "    .dataframe thead th {\n",
              "        text-align: right;\n",
              "    }\n",
              "</style>\n",
              "<table border=\"1\" class=\"dataframe\">\n",
              "  <thead>\n",
              "    <tr style=\"text-align: right;\">\n",
              "      <th></th>\n",
              "      <th>id</th>\n",
              "      <th>comment_text</th>\n",
              "      <th>class1</th>\n",
              "      <th>class2</th>\n",
              "      <th>class3</th>\n",
              "    </tr>\n",
              "  </thead>\n",
              "  <tbody>\n",
              "    <tr>\n",
              "      <th>0</th>\n",
              "      <td>1</td>\n",
              "      <td>中国人民解放军陆军领导机构、中国人民解放军火箭军、中国人民解放军战略支援部队成立大会2015...</td>\n",
              "      <td>1</td>\n",
              "      <td>0</td>\n",
              "      <td>0</td>\n",
              "    </tr>\n",
              "    <tr>\n",
              "      <th>1</th>\n",
              "      <td>2</td>\n",
              "      <td>经中央军委主席习近平批准，中央军委近日印发了《关于深化国防和军队改革的意见》。\\n《意见》强...</td>\n",
              "      <td>1</td>\n",
              "      <td>0</td>\n",
              "      <td>0</td>\n",
              "    </tr>\n",
              "    <tr>\n",
              "      <th>2</th>\n",
              "      <td>3</td>\n",
              "      <td>由中共中央纪律检查委员会、中共中央文献研究室编辑的《习近平关于严明党的纪律和规矩论述摘编》一...</td>\n",
              "      <td>1</td>\n",
              "      <td>0</td>\n",
              "      <td>0</td>\n",
              "    </tr>\n",
              "    <tr>\n",
              "      <th>3</th>\n",
              "      <td>4</td>\n",
              "      <td>广大党员干部正在积极学习习近平总书记在中央政治局专题民主生活会上的重要讲话。大家纷纷表示要把...</td>\n",
              "      <td>1</td>\n",
              "      <td>0</td>\n",
              "      <td>0</td>\n",
              "    </tr>\n",
              "    <tr>\n",
              "      <th>4</th>\n",
              "      <td>5</td>\n",
              "      <td>刚刚过去的2015年，是全面深化改革的关键之年。改革集中发力在制约经济社会发展的深层次矛盾，...</td>\n",
              "      <td>1</td>\n",
              "      <td>0</td>\n",
              "      <td>0</td>\n",
              "    </tr>\n",
              "  </tbody>\n",
              "</table>\n",
              "</div>"
            ],
            "text/plain": [
              "   id                                       comment_text  ...  class2  class3\n",
              "0   1  中国人民解放军陆军领导机构、中国人民解放军火箭军、中国人民解放军战略支援部队成立大会2015...  ...       0       0\n",
              "1   2  经中央军委主席习近平批准，中央军委近日印发了《关于深化国防和军队改革的意见》。\\n《意见》强...  ...       0       0\n",
              "2   3  由中共中央纪律检查委员会、中共中央文献研究室编辑的《习近平关于严明党的纪律和规矩论述摘编》一...  ...       0       0\n",
              "3   4  广大党员干部正在积极学习习近平总书记在中央政治局专题民主生活会上的重要讲话。大家纷纷表示要把...  ...       0       0\n",
              "4   5  刚刚过去的2015年，是全面深化改革的关键之年。改革集中发力在制约经济社会发展的深层次矛盾，...  ...       0       0\n",
              "\n",
              "[5 rows x 5 columns]"
            ]
          },
          "metadata": {},
          "execution_count": 5
        }
      ]
    },
    {
      "cell_type": "code",
      "metadata": {
        "colab": {
          "base_uri": "https://localhost:8080/",
          "height": 206
        },
        "id": "W0yVHHBIhJLz",
        "outputId": "ec7add79-ac9a-4954-cd13-1cbe03408110"
      },
      "source": [
        "test.head()"
      ],
      "execution_count": 6,
      "outputs": [
        {
          "output_type": "execute_result",
          "data": {
            "text/html": [
              "<div>\n",
              "<style scoped>\n",
              "    .dataframe tbody tr th:only-of-type {\n",
              "        vertical-align: middle;\n",
              "    }\n",
              "\n",
              "    .dataframe tbody tr th {\n",
              "        vertical-align: top;\n",
              "    }\n",
              "\n",
              "    .dataframe thead th {\n",
              "        text-align: right;\n",
              "    }\n",
              "</style>\n",
              "<table border=\"1\" class=\"dataframe\">\n",
              "  <thead>\n",
              "    <tr style=\"text-align: right;\">\n",
              "      <th></th>\n",
              "      <th>id</th>\n",
              "      <th>comment_text</th>\n",
              "      <th>Actual Class</th>\n",
              "    </tr>\n",
              "  </thead>\n",
              "  <tbody>\n",
              "    <tr>\n",
              "      <th>0</th>\n",
              "      <td>1</td>\n",
              "      <td>中共中央政治局1月12日召开会议，研究修改宪法部分内容的建议。中共中央总书记习近平主持会议。...</td>\n",
              "      <td>0</td>\n",
              "    </tr>\n",
              "    <tr>\n",
              "      <th>1</th>\n",
              "      <td>2</td>\n",
              "      <td>当地时间11日上午，柬埔寨首相洪森在金边和平大厦举行仪式，欢迎国务院总理李克强对柬埔寨进行正...</td>\n",
              "      <td>0</td>\n",
              "    </tr>\n",
              "    <tr>\n",
              "      <th>2</th>\n",
              "      <td>3</td>\n",
              "      <td>欢迎仪式后，双方在金边和平大厦举行会谈。\\n李克强表示，中柬是近邻，传统友谊深厚。中方愿以两...</td>\n",
              "      <td>0</td>\n",
              "    </tr>\n",
              "    <tr>\n",
              "      <th>3</th>\n",
              "      <td>4</td>\n",
              "      <td>当天中午，李克强在金边王宫会见柬埔寨国王西哈莫尼。\\n李克强首先转达习近平主席对西哈莫尼国王...</td>\n",
              "      <td>0</td>\n",
              "    </tr>\n",
              "    <tr>\n",
              "      <th>4</th>\n",
              "      <td>5</td>\n",
              "      <td>国务院总理李克强出席在柬埔寨金边举行的澜沧江-湄公河合作第二次领导人会议，并结束对柬埔寨的正...</td>\n",
              "      <td>0</td>\n",
              "    </tr>\n",
              "  </tbody>\n",
              "</table>\n",
              "</div>"
            ],
            "text/plain": [
              "   id                                       comment_text  Actual Class\n",
              "0   1  中共中央政治局1月12日召开会议，研究修改宪法部分内容的建议。中共中央总书记习近平主持会议。...             0\n",
              "1   2  当地时间11日上午，柬埔寨首相洪森在金边和平大厦举行仪式，欢迎国务院总理李克强对柬埔寨进行正...             0\n",
              "2   3  欢迎仪式后，双方在金边和平大厦举行会谈。\\n李克强表示，中柬是近邻，传统友谊深厚。中方愿以两...             0\n",
              "3   4  当天中午，李克强在金边王宫会见柬埔寨国王西哈莫尼。\\n李克强首先转达习近平主席对西哈莫尼国王...             0\n",
              "4   5  国务院总理李克强出席在柬埔寨金边举行的澜沧江-湄公河合作第二次领导人会议，并结束对柬埔寨的正...             0"
            ]
          },
          "metadata": {},
          "execution_count": 6
        }
      ]
    },
    {
      "cell_type": "code",
      "metadata": {
        "colab": {
          "base_uri": "https://localhost:8080/"
        },
        "id": "xNORNxYvBTzv",
        "outputId": "f8f967f5-212d-46f0-a8d5-7c49b060faec"
      },
      "source": [
        "print('There are {:,} training examples.'.format(len(train)))"
      ],
      "execution_count": 7,
      "outputs": [
        {
          "output_type": "stream",
          "name": "stdout",
          "text": [
            "There are 14,903 training examples.\n"
          ]
        }
      ]
    },
    {
      "cell_type": "markdown",
      "metadata": {
        "id": "IPc3BM4-tOlZ"
      },
      "source": [
        "### 2.3. Class Distribution"
      ]
    },
    {
      "cell_type": "markdown",
      "metadata": {
        "id": "phUj1ZYwpse6"
      },
      "source": [
        "To analyze the distribution of the labels, let's first explicitly flag the comments which are not toxic (have no labels set to 1)."
      ]
    },
    {
      "cell_type": "code",
      "metadata": {
        "id": "V5O4Oe-mosdC"
      },
      "source": [
        "# These are the six possible labels.\n",
        "### Three\n",
        "label_cols = ['class1', 'class2', 'class3']\n",
        "\n",
        "# Select just the labels (not the text), and for every row, check whether any\n",
        "# of the labels are \"1\".\n",
        "has_labels = train[label_cols].any(axis=1)\n",
        "\n",
        "# Add a new column indicating which samples have no toxic labels.\n",
        "train['none'] = 1 - has_labels\n",
        "\n",
        "# Add the 'none' column to our list of label names.\n",
        "label_cols.append('none')"
      ],
      "execution_count": 8,
      "outputs": []
    },
    {
      "cell_type": "markdown",
      "metadata": {
        "id": "AefD40jnrZQR"
      },
      "source": [
        "Total the number of samples with each label."
      ]
    },
    {
      "cell_type": "code",
      "metadata": {
        "id": "cSVtWB-Op3mW"
      },
      "source": [
        "\n",
        "# Tally up each label separately.\n",
        "label_counts = train[label_cols].sum(axis=0)\n"
      ],
      "execution_count": 9,
      "outputs": []
    },
    {
      "cell_type": "markdown",
      "metadata": {
        "id": "zXbBB1NNv3wj"
      },
      "source": [
        "## S3. Tokenization & Truncation"
      ]
    },
    {
      "cell_type": "markdown",
      "metadata": {
        "id": "OMHzhnmuGrpb"
      },
      "source": [
        "### 3.1. Load BertTokenizer"
      ]
    },
    {
      "cell_type": "code",
      "metadata": {
        "id": "cZiRfpUEv3wl"
      },
      "source": [
        "from transformers import BertTokenizer\n",
        "tokenizer = BertTokenizer.from_pretrained('bert-base-chinese')"
      ],
      "execution_count": 10,
      "outputs": []
    },
    {
      "cell_type": "markdown",
      "metadata": {
        "id": "asqwSCR0zbMc"
      },
      "source": [
        "### 3.2. Set max_len"
      ]
    },
    {
      "cell_type": "code",
      "metadata": {
        "id": "S5E9pERUEKL5"
      },
      "source": [
        "# Set our sequence length to pad or truncate all of our samples to.\n",
        "max_len = 128"
      ],
      "execution_count": 11,
      "outputs": []
    },
    {
      "cell_type": "markdown",
      "metadata": {
        "id": "aRp4O7D295d_"
      },
      "source": [
        "### 3.3. Tokenize Dataset\n"
      ]
    },
    {
      "cell_type": "code",
      "metadata": {
        "id": "8jsHTrZEAV6-"
      },
      "source": [
        "# Optional - You can select a subsample of the dataset to run through the \n",
        "#            Notebook quicker.\n",
        "if False:\n",
        "    # Take just the first 4,000 training samples.\n",
        "    train = train[:40000]"
      ],
      "execution_count": 12,
      "outputs": []
    },
    {
      "cell_type": "code",
      "metadata": {
        "colab": {
          "base_uri": "https://localhost:8080/"
        },
        "id": "ca1rne6DTvLA",
        "outputId": "0d56d002-4835-4940-8997-820c7224b514"
      },
      "source": [
        "import torch\n",
        "import time\n",
        "\n",
        "input_ids = []\n",
        "attn_masks = []\n",
        "labels = []\n",
        "\n",
        "t0 = time.time()\n",
        "\n",
        "# ======== Encoding ========\n",
        "\n",
        "print('Encoding {:,} training examples...'.format(len(train)))\n",
        "\n",
        "# For every training example...\n",
        "for (index, row) in train.iterrows():\n",
        "\n",
        "    # Report progress.\n",
        "    if ((len(input_ids) % 15000) == 0):\n",
        "        print('  Encoded {:,} comments.'.format(len(input_ids)))\n",
        "\n",
        "    # Convert sentence pairs to input IDs, with attention masks.\n",
        "    encoded_dict = tokenizer.encode_plus(row['comment_text'],  # The text to encode.\n",
        "                                        max_length=max_len,    # Pad or truncate to this lenght.\n",
        "                                        pad_to_max_length=True,\n",
        "                                        truncation=True, \n",
        "                                        return_tensors='pt')   # Return objects as PyTorch tensors.\n",
        "\n",
        "    # Add this example to our lists.\n",
        "    input_ids.append(encoded_dict['input_ids'])\n",
        "    attn_masks.append(encoded_dict['attention_mask'])\n",
        "    \n",
        "print('\\nDONE. {:,} examples.'.format(len(input_ids)))\n",
        "\n",
        "# ======== List of Examples --> Tensor ========\n",
        "\n",
        "# Convert each Python list of Tensors into a 2D Tensor matrix.\n",
        "input_ids = torch.cat(input_ids, dim=0)\n",
        "attn_masks = torch.cat(attn_masks, dim=0)\n",
        "\n",
        "# ======== Prepare Labels ========\n",
        "\n",
        "# Select the label columns for all examples.\n",
        "labels = train[['class1', 'class2', 'class3']]\n",
        "\n",
        "# The labels are either 0 or 1. Despite this, we need to cast the values to\n",
        "# floats--otherwise our loss function will throw an error.\n",
        "# https://discuss.pytorch.org/t/nn-bcewithlogitsloss-cant-accept-one-hot-target/59980\n",
        "labels = labels.to_numpy().astype(float)\n",
        "\n",
        "# Cast the labels list to a 2D Tensor.\n",
        "labels = torch.tensor(labels)\n",
        "\n",
        "# ======== Summary ========\n",
        "\n",
        "print('\\nData structure shapes:')\n",
        "print('   input_ids:  {:}'.format(str(input_ids.shape)))\n",
        "print('  attn_masks:  {:}'.format(str(attn_masks.shape)))\n",
        "print('      labels:  {:}'.format(str(labels.shape)))\n",
        "\n",
        "print('\\nEncoding took {:.0f} seconds'.format(time.time() - t0))"
      ],
      "execution_count": 13,
      "outputs": [
        {
          "output_type": "stream",
          "name": "stdout",
          "text": [
            "Encoding 14,903 training examples...\n",
            "  Encoded 0 comments.\n"
          ]
        },
        {
          "output_type": "stream",
          "name": "stderr",
          "text": [
            "/usr/local/lib/python3.7/dist-packages/transformers/tokenization_utils_base.py:2218: FutureWarning: The `pad_to_max_length` argument is deprecated and will be removed in a future version, use `padding=True` or `padding='longest'` to pad to the longest sequence in the batch, or use `padding='max_length'` to pad to a max length. In this case, you can give a specific length with `max_length` (e.g. `max_length=45`) or leave max_length to None to pad to the maximal input size of the model (e.g. 512 for Bert).\n",
            "  FutureWarning,\n"
          ]
        },
        {
          "output_type": "stream",
          "name": "stdout",
          "text": [
            "\n",
            "DONE. 14,903 examples.\n",
            "\n",
            "Data structure shapes:\n",
            "   input_ids:  torch.Size([14903, 128])\n",
            "  attn_masks:  torch.Size([14903, 128])\n",
            "      labels:  torch.Size([14903, 3])\n",
            "\n",
            "Encoding took 44 seconds\n"
          ]
        }
      ]
    },
    {
      "cell_type": "markdown",
      "metadata": {
        "id": "voHe1wQsQ96F"
      },
      "source": [
        "### 3.4. Split-Off a Validation Set"
      ]
    },
    {
      "cell_type": "markdown",
      "metadata": {
        "id": "XjzJmFghC8h8"
      },
      "source": [
        "This dataset already has separate training and test sets, but we're going to further divide up our training set to use 90% for training and 10% for *validation*. This validation set will help us detect over-fitting during the training process."
      ]
    },
    {
      "cell_type": "code",
      "metadata": {
        "id": "N9_K_nOGUzhD"
      },
      "source": [
        "from torch.utils.data import TensorDataset, random_split\n",
        "\n",
        "# Combine the training inputs into a TensorDataset.\n",
        "dataset = TensorDataset(input_ids, attn_masks, labels)\n",
        "\n",
        "# Create a 90-10 train-validation split. Calculate the number of samples to \n",
        "# include in each set.\n",
        "train_size = int(0.9 * len(dataset))\n",
        "val_size = len(dataset) - train_size\n",
        "\n",
        "# Divide the dataset by randomly selecting samples.\n",
        "train_dataset, val_dataset = random_split(dataset, [train_size, val_size])"
      ],
      "execution_count": 14,
      "outputs": []
    },
    {
      "cell_type": "markdown",
      "metadata": {
        "id": "8bwa6Rts-02-"
      },
      "source": [
        "## S4. Train Our Classification Model"
      ]
    },
    {
      "cell_type": "markdown",
      "metadata": {
        "id": "3xYQ3iLO08SX"
      },
      "source": [
        "Now that our input data is properly formatted, it's time to fine tune the BERT model. "
      ]
    },
    {
      "cell_type": "markdown",
      "metadata": {
        "id": "nSU7yERLP_66"
      },
      "source": [
        "### 4.1. Preparation for Training\n"
      ]
    },
    {
      "cell_type": "code",
      "metadata": {
        "colab": {
          "base_uri": "https://localhost:8080/"
        },
        "id": "oYsV4H8fCpZ-",
        "outputId": "61320633-46d2-4679-cdc8-5251f0833df5"
      },
      "source": [
        "import torch\n",
        "\n",
        "# If there's a GPU available...\n",
        "if torch.cuda.is_available():    \n",
        "\n",
        "    # Tell PyTorch to use the GPU.    \n",
        "    device = torch.device(\"cuda\")\n",
        "\n",
        "    print('There are %d GPU(s) available.' % torch.cuda.device_count())\n",
        "\n",
        "    print('We will use the GPU:', torch.cuda.get_device_name(0))\n",
        "\n",
        "# If not...\n",
        "else:\n",
        "    print('No GPU available, using the CPU instead.')\n",
        "    device = torch.device(\"cpu\")"
      ],
      "execution_count": 15,
      "outputs": [
        {
          "output_type": "stream",
          "name": "stdout",
          "text": [
            "There are 1 GPU(s) available.\n",
            "We will use the GPU: Tesla P100-PCIE-16GB\n"
          ]
        }
      ]
    },
    {
      "cell_type": "markdown",
      "metadata": {
        "id": "xBehPTA9Nvjf"
      },
      "source": [
        "### 4.2. Initialize Model with Pre-Trained Weights"
      ]
    },
    {
      "cell_type": "code",
      "metadata": {
        "colab": {
          "base_uri": "https://localhost:8080/"
        },
        "id": "gFsCTp_mporB",
        "outputId": "ffa19731-37ad-423f-f30f-f970e0f43dea"
      },
      "source": [
        "from transformers import AdamW, BertConfig\n",
        "\n",
        "# Load BertForSequenceClassification, the pretrained BERT model with a single \n",
        "# linear classification layer on top. \n",
        "model = BertForMultiLabelSequenceClassification.from_pretrained(\n",
        "    \"bert-base-chinese\", # Use the 12-layer BERT model, with an uncased vocab.    \n",
        "\n",
        "    num_labels = 3,   \n",
        " \n",
        "    output_attentions = False, # Whether the model returns attentions weights.\n",
        "    output_hidden_states = False, # Whether the model returns all hidden-states.\n",
        ")\n",
        "\n",
        "# Tell pytorch to run this model on the GPU.\n",
        "desc = model.cuda()\n",
        "\n",
        "print (\"Model loaded.\")"
      ],
      "execution_count": 16,
      "outputs": [
        {
          "output_type": "stream",
          "name": "stderr",
          "text": [
            "Some weights of the model checkpoint at bert-base-chinese were not used when initializing BertForMultiLabelSequenceClassification: ['cls.seq_relationship.weight', 'cls.predictions.decoder.weight', 'cls.predictions.transform.LayerNorm.weight', 'cls.predictions.transform.LayerNorm.bias', 'cls.predictions.transform.dense.bias', 'cls.seq_relationship.bias', 'cls.predictions.transform.dense.weight', 'cls.predictions.bias']\n",
            "- This IS expected if you are initializing BertForMultiLabelSequenceClassification from the checkpoint of a model trained on another task or with another architecture (e.g. initializing a BertForSequenceClassification model from a BertForPreTraining model).\n",
            "- This IS NOT expected if you are initializing BertForMultiLabelSequenceClassification from the checkpoint of a model that you expect to be exactly identical (initializing a BertForSequenceClassification model from a BertForSequenceClassification model).\n",
            "Some weights of BertForMultiLabelSequenceClassification were not initialized from the model checkpoint at bert-base-chinese and are newly initialized: ['classifier.weight', 'classifier.bias']\n",
            "You should probably TRAIN this model on a down-stream task to be able to use it for predictions and inference.\n"
          ]
        },
        {
          "output_type": "stream",
          "name": "stdout",
          "text": [
            "Model loaded.\n"
          ]
        }
      ]
    },
    {
      "cell_type": "markdown",
      "metadata": {
        "id": "4EuV5XkeRENS"
      },
      "source": [
        "### 4.3. Batch Size & DataLoaders"
      ]
    },
    {
      "cell_type": "code",
      "metadata": {
        "id": "xBFuDdywU2DB"
      },
      "source": [
        "from torch.utils.data import DataLoader, RandomSampler, SequentialSampler\n",
        "\n",
        "# Specify our batch size.\n",
        "batch_size = 16\n",
        "\n",
        "# Create the DataLoaders for our training sets.\n",
        "# We'll take training samples in random order. \n",
        "train_dataloader = DataLoader(\n",
        "            train_dataset,  # The training samples.\n",
        "            sampler = RandomSampler(train_dataset), # Select batches randomly\n",
        "            batch_size = batch_size # Trains with this batch size.\n",
        "        )\n",
        "\n",
        "# For validation the order doesn't matter, so we'll just read them sequentially.\n",
        "validation_dataloader = DataLoader(\n",
        "            val_dataset, # The validation samples.\n",
        "            sampler = SequentialSampler(val_dataset), # Pull out batches sequentially.\n",
        "            batch_size = batch_size # Evaluate with this batch size.\n",
        "        )"
      ],
      "execution_count": 17,
      "outputs": []
    },
    {
      "cell_type": "markdown",
      "metadata": {
        "id": "qmgT0TDKULHr"
      },
      "source": [
        "### 4.4. Optimizer"
      ]
    },
    {
      "cell_type": "code",
      "metadata": {
        "id": "GLs72DuMODJO"
      },
      "source": [
        "# Note: AdamW is a class from the huggingface library (as opposed to pytorch) \n",
        "# I believe the 'W' stands for 'Weight Decay fix\"\n",
        "optimizer = AdamW(model.parameters(),\n",
        "                  lr = 2e-5, # args.learning_rate - default is 5e-5,\n",
        "                  eps = 1e-8 # args.adam_epsilon  - default is 1e-8.\n",
        "                )"
      ],
      "execution_count": 18,
      "outputs": []
    },
    {
      "cell_type": "markdown",
      "metadata": {
        "id": "_iaG0A5quuqz"
      },
      "source": [
        "### 4.5. Epochs & Learning Rate Scheduler"
      ]
    },
    {
      "cell_type": "code",
      "metadata": {
        "id": "ZoSUMnW1U4Mu"
      },
      "source": [
        "from transformers import get_linear_schedule_with_warmup\n",
        "\n",
        "# Number of training epochs (BERT authors recommend between 2 and 4)\n",
        "epochs = 3\n",
        "\n",
        "# Total number of training steps is number of batches * number of epochs.\n",
        "total_steps = len(train_dataloader) * epochs\n",
        "\n",
        "# Create the learning rate scheduler.\n",
        "scheduler = get_linear_schedule_with_warmup(optimizer, \n",
        "                                            num_warmup_steps = 0, # Default value in run_glue.py\n",
        "                                            num_training_steps = total_steps)"
      ],
      "execution_count": 19,
      "outputs": []
    },
    {
      "cell_type": "markdown",
      "metadata": {
        "id": "GF2REdBeVJsp"
      },
      "source": [
        "###4.6. Helper Functions###"
      ]
    },
    {
      "cell_type": "code",
      "metadata": {
        "id": "qWBru237exn4"
      },
      "source": [
        "import time\n",
        "import datetime\n",
        "\n",
        "def format_time(elapsed):\n",
        "    \n",
        "    # Round to the nearest second.\n",
        "    elapsed_rounded = int(round((elapsed)))\n",
        "    \n",
        "    # Format as hh:mm:ss\n",
        "    return str(datetime.timedelta(seconds=elapsed_rounded))  \n"
      ],
      "execution_count": 20,
      "outputs": []
    },
    {
      "cell_type": "code",
      "metadata": {
        "id": "Do7r4TRjexrc"
      },
      "source": [
        "def good_update_interval(total_iters, num_desired_updates):\n",
        " \n",
        "    # Divide the total iterations by the desired number of updates. Most likely\n",
        "    # this will be some ugly number.\n",
        "    exact_interval = total_iters / num_desired_updates\n",
        "\n",
        "    # The `round` function has the ability to round down a number to, e.g., the\n",
        "    # nearest thousandth: round(exact_interval, -3)\n",
        "    #\n",
        "    # To determine the magnitude to round to, find the magnitude of the total,\n",
        "    # and then go one magnitude below that.\n",
        "\n",
        "    # Get the order of magnitude of the total.\n",
        "    order_of_mag = len(str(total_iters)) - 1\n",
        "\n",
        "    # Our update interval should be rounded to an order of magnitude smaller. \n",
        "    round_mag = order_of_mag - 1\n",
        "\n",
        "    # Round down and cast to an int.\n",
        "    update_interval = int(round(exact_interval, -round_mag))\n",
        "\n",
        "    # Don't allow the interval to be zero!\n",
        "    if update_interval == 0:\n",
        "        update_interval = 1\n",
        "\n",
        "    return update_interval"
      ],
      "execution_count": 21,
      "outputs": []
    },
    {
      "cell_type": "code",
      "metadata": {
        "id": "3tchEi_k2UAA"
      },
      "source": [
        "\n",
        "from sklearn.metrics import roc_auc_score\n"
      ],
      "execution_count": 22,
      "outputs": []
    },
    {
      "cell_type": "markdown",
      "metadata": {
        "id": "P5-THlhKepL5"
      },
      "source": [
        "### 4.7. Training loop\n",
        "\n"
      ]
    },
    {
      "cell_type": "code",
      "metadata": {
        "colab": {
          "base_uri": "https://localhost:8080/"
        },
        "id": "XB06aBGEev3e",
        "outputId": "6235b4d8-3a13-4fb5-a6c0-9afd563f7777"
      },
      "source": [
        "import random\n",
        "import numpy as np\n",
        "\n",
        "# This training code is based on the `run_glue.py` script here:\n",
        "# https://github.com/huggingface/transformers/blob/5bfcd0485ece086ebcbed2d008813037968a9e58/examples/run_glue.py#L128\n",
        "\n",
        "# Set the seed value all over the place to make this reproducible.\n",
        "seed_val = 42\n",
        "\n",
        "random.seed(seed_val)\n",
        "np.random.seed(seed_val)\n",
        "torch.manual_seed(seed_val)\n",
        "torch.cuda.manual_seed_all(seed_val)\n",
        "\n",
        "# We'll store a number of quantities such as training and validation loss, \n",
        "# validation accuracy, and timings.\n",
        "training_stats = []\n",
        "\n",
        "# Measure the total training time for the whole run.\n",
        "total_t0 = time.time()\n",
        "\n",
        "# For each epoch...\n",
        "for epoch_i in range(0, epochs):\n",
        "    \n",
        "    # ========================================\n",
        "    #               Training\n",
        "    # ========================================\n",
        "    \n",
        "    # Perform one full pass over the training set.\n",
        "\n",
        "    print(\"\")\n",
        "    print('======== Epoch {:} / {:} ========'.format(epoch_i + 1, epochs))\n",
        "    print('Training...')\n",
        "\n",
        "    # Measure how long the training epoch takes.\n",
        "    t0 = time.time()\n",
        "\n",
        "    # Reset the total loss for this epoch.\n",
        "    total_train_loss = 0\n",
        "\n",
        "    # Put the model into training mode. Don't be mislead--the call to \n",
        "    # `train` just changes the *mode*, it doesn't *perform* the training.\n",
        "    # `dropout` and `batchnorm` layers behave differently during training\n",
        "    # vs. test (source: https://stackoverflow.com/questions/51433378/what-does-model-train-do-in-pytorch)\n",
        "    model.train()\n",
        "\n",
        "    # Pick an interval on which to print progress updates.\n",
        "    update_interval = good_update_interval(\n",
        "                total_iters = len(train_dataloader), \n",
        "                num_desired_updates = 10\n",
        "            )\n",
        "\n",
        "    # For each batch of training data...\n",
        "    for step, batch in enumerate(train_dataloader):\n",
        "\n",
        "        # Progress update.\n",
        "        if (step % update_interval) == 0 and not step == 0:\n",
        "            # Calculate elapsed time in minutes.\n",
        "            elapsed = format_time(time.time() - t0)\n",
        "            \n",
        "            # Report progress.\n",
        "            print('  Batch {:>5,}  of  {:>5,}.    Elapsed: {:}.'.format(step, len(train_dataloader), elapsed))\n",
        "\n",
        "        # Unpack this training batch from our dataloader. \n",
        "        #\n",
        "        # As we unpack the batch, we'll also copy each tensor to the GPU using \n",
        "        # the `to` method.\n",
        "        #\n",
        "        # `batch` contains three pytorch tensors:\n",
        "        #   [0]: input ids \n",
        "        #   [1]: attention masks\n",
        "        #   [2]: labels \n",
        "        b_input_ids = batch[0].to(device)\n",
        "        b_input_mask = batch[1].to(device)\n",
        "        b_labels = batch[2].to(device)\n",
        "\n",
        "        # Always clear any previously calculated gradients before performing a\n",
        "        # backward pass. PyTorch doesn't do this automatically because \n",
        "        # accumulating the gradients is \"convenient while training RNNs\". \n",
        "        # (source: https://stackoverflow.com/questions/48001598/why-do-we-need-to-call-zero-grad-in-pytorch)\n",
        "        model.zero_grad()        \n",
        "\n",
        "        # Perform a forward pass (evaluate the model on this training batch).\n",
        "        # This call returns the loss (because we provided labels) and the \n",
        "        # \"logits\"--the model outputs prior to activation.\n",
        "        loss, logits = model(b_input_ids, \n",
        "                             token_type_ids=None, \n",
        "                             attention_mask=b_input_mask, \n",
        "                             labels=b_labels)\n",
        "\n",
        "        # Accumulate the training loss over all of the batches so that we can\n",
        "        # calculate the average loss at the end. `loss` is a Tensor containing a\n",
        "        # single value; the `.item()` function just returns the Python value \n",
        "        # from the tensor.\n",
        "        total_train_loss += loss.item()\n",
        "\n",
        "        # Perform a backward pass to calculate the gradients.\n",
        "        loss.backward()\n",
        "\n",
        "        # Clip the norm of the gradients to 1.0.\n",
        "        # This is to help prevent the \"exploding gradients\" problem.\n",
        "        torch.nn.utils.clip_grad_norm_(model.parameters(), 1.0)\n",
        "\n",
        "        # Update parameters and take a step using the computed gradient.\n",
        "        # The optimizer dictates the \"update rule\"--how the parameters are\n",
        "        # modified based on their gradients, the learning rate, etc.\n",
        "        optimizer.step()\n",
        "\n",
        "        # Update the learning rate.\n",
        "        scheduler.step()\n",
        "\n",
        "    # Calculate the average loss over all of the batches.\n",
        "    avg_train_loss = total_train_loss / len(train_dataloader)            \n",
        "    \n",
        "    # Measure how long this epoch took.\n",
        "    training_time = format_time(time.time() - t0)\n",
        "\n",
        "    print(\"\")\n",
        "    print(\"  Average training loss: {0:.2f}\".format(avg_train_loss))\n",
        "    print(\"  Training epcoh took: {:}\".format(training_time))\n",
        "        \n",
        " \n",
        "    # ========================================\n",
        "    #               Validation\n",
        "    # ========================================\n",
        "    # After the completion of each training epoch, measure our performance on\n",
        "    # our validation set.\n",
        "\n",
        "    print(\"\")\n",
        "    print(\"Running Validation...\")\n",
        "\n",
        "    t0 = time.time()\n",
        "\n",
        "    # Put the model in evaluation mode--the dropout layers behave differently\n",
        "    # during evaluation.\n",
        "    model.eval()\n",
        "\n",
        "    # Tracking variables \n",
        "    total_eval_loss = 0\n",
        "\n",
        "    predictions, true_labels = [], []\n",
        "\n",
        "    # Evaluate data for one epoch\n",
        "    for batch in validation_dataloader:\n",
        "        \n",
        "        # Unpack this training batch from our dataloader. \n",
        "        #\n",
        "        # As we unpack the batch, we'll also copy each tensor to the GPU using \n",
        "        # the `to` method.\n",
        "        #\n",
        "        # `batch` contains three pytorch tensors:\n",
        "        #   [0]: input ids \n",
        "        #   [1]: attention masks\n",
        "        #   [2]: labels \n",
        "        b_input_ids = batch[0].to(device)\n",
        "        b_input_mask = batch[1].to(device)\n",
        "        b_labels = batch[2].to(device)\n",
        "        \n",
        "        # Tell pytorch not to bother with constructing the compute graph during\n",
        "        # the forward pass, since this is only needed for backprop (training).\n",
        "        with torch.no_grad():   \n",
        "   \n",
        "\n",
        "            # Forward pass, calculate logit predictions.\n",
        "            # token_type_ids is the same as the \"segment ids\", which \n",
        "            # differentiates sentence 1 and 2 in 2-sentence tasks.\n",
        "            # The documentation for this `model` function is here: \n",
        "            # https://huggingface.co/transformers/v2.2.0/model_doc/bert.html#transformers.BertForSequenceClassification\n",
        "            # Get the \"logits\" output by the model. The \"logits\" are the output\n",
        "            # values prior to applying an activation function like the softmax.\n",
        "            (loss, logits) = model(b_input_ids, \n",
        "                                   token_type_ids=None, \n",
        "                                   attention_mask=b_input_mask,\n",
        "                                   labels=b_labels)\n",
        "\n",
        "        # Accumulate the validation loss.\n",
        "        total_eval_loss += loss.item()\n",
        "\n",
        "        # Calculate the accuracy for this batch of test sentences.\n",
        "\n",
        "        # Move logits and labels to CPU\n",
        "        logits = logits.detach().cpu().numpy()\n",
        "        label_ids = b_labels.to('cpu').numpy()\n",
        "\n",
        "        # Store predictions and true labels\n",
        "        predictions.append(logits)\n",
        "        true_labels.append(label_ids)\n",
        "\n",
        "    # Measure validation accuracy...\n",
        "\n",
        "    # Combine the results across all batches. \n",
        "    flat_predictions = np.concatenate(predictions, axis=0)\n",
        "    flat_true_labels = np.concatenate(true_labels, axis=0)\n",
        "\n",
        "    # Calculate the validation accuracy.\n",
        "    val_accuracy = roc_auc_score(flat_true_labels, flat_predictions, average='macro')\n",
        "\n",
        "    # Report the final accuracy for this validation run.\n",
        "    print(\"  Accuracy: {0:.2f}\".format(val_accuracy))\n",
        "\n",
        "    # Calculate the average loss over all of the batches.\n",
        "    avg_val_loss = total_eval_loss / len(validation_dataloader)\n",
        "    \n",
        "    # Measure how long the validation run took.\n",
        "    validation_time = format_time(time.time() - t0)\n",
        "    \n",
        "    print(\"  Validation Loss: {0:.2f}\".format(avg_val_loss))\n",
        "    print(\"  Validation took: {:}\".format(validation_time))\n",
        "\n",
        "    # Record all statistics from this epoch.\n",
        "    training_stats.append(\n",
        "        {\n",
        "            'epoch': epoch_i + 1,\n",
        "            'Training Loss': avg_train_loss,\n",
        "            'Valid. Loss': avg_val_loss,\n",
        "            'Valid. Accur.': val_accuracy,\n",
        "            'Training Time': training_time,\n",
        "            'Validation Time': validation_time\n",
        "        }\n",
        "    )\n",
        "\n",
        "print(\"\")\n",
        "print(\"Training complete!\")\n",
        "\n",
        "print(\"Total training took {:} (h:mm:ss)\".format(format_time(time.time()-total_t0)))"
      ],
      "execution_count": 23,
      "outputs": [
        {
          "output_type": "stream",
          "name": "stdout",
          "text": [
            "\n",
            "======== Epoch 1 / 3 ========\n",
            "Training...\n",
            "  Batch    80  of    839.    Elapsed: 0:00:17.\n",
            "  Batch   160  of    839.    Elapsed: 0:00:34.\n",
            "  Batch   240  of    839.    Elapsed: 0:00:51.\n",
            "  Batch   320  of    839.    Elapsed: 0:01:08.\n",
            "  Batch   400  of    839.    Elapsed: 0:01:24.\n",
            "  Batch   480  of    839.    Elapsed: 0:01:41.\n",
            "  Batch   560  of    839.    Elapsed: 0:01:58.\n",
            "  Batch   640  of    839.    Elapsed: 0:02:15.\n",
            "  Batch   720  of    839.    Elapsed: 0:02:32.\n",
            "  Batch   800  of    839.    Elapsed: 0:02:49.\n",
            "\n",
            "  Average training loss: 0.24\n",
            "  Training epcoh took: 0:02:57\n",
            "\n",
            "Running Validation...\n",
            "  Accuracy: 0.96\n",
            "  Validation Loss: 0.21\n",
            "  Validation took: 0:00:06\n",
            "\n",
            "======== Epoch 2 / 3 ========\n",
            "Training...\n",
            "  Batch    80  of    839.    Elapsed: 0:00:17.\n",
            "  Batch   160  of    839.    Elapsed: 0:00:34.\n",
            "  Batch   240  of    839.    Elapsed: 0:00:51.\n",
            "  Batch   320  of    839.    Elapsed: 0:01:08.\n",
            "  Batch   400  of    839.    Elapsed: 0:01:24.\n",
            "  Batch   480  of    839.    Elapsed: 0:01:41.\n",
            "  Batch   560  of    839.    Elapsed: 0:01:58.\n",
            "  Batch   640  of    839.    Elapsed: 0:02:15.\n",
            "  Batch   720  of    839.    Elapsed: 0:02:32.\n",
            "  Batch   800  of    839.    Elapsed: 0:02:49.\n",
            "\n",
            "  Average training loss: 0.17\n",
            "  Training epcoh took: 0:02:57\n",
            "\n",
            "Running Validation...\n",
            "  Accuracy: 0.96\n",
            "  Validation Loss: 0.19\n",
            "  Validation took: 0:00:06\n",
            "\n",
            "======== Epoch 3 / 3 ========\n",
            "Training...\n",
            "  Batch    80  of    839.    Elapsed: 0:00:17.\n",
            "  Batch   160  of    839.    Elapsed: 0:00:34.\n",
            "  Batch   240  of    839.    Elapsed: 0:00:51.\n",
            "  Batch   320  of    839.    Elapsed: 0:01:08.\n",
            "  Batch   400  of    839.    Elapsed: 0:01:24.\n",
            "  Batch   480  of    839.    Elapsed: 0:01:41.\n",
            "  Batch   560  of    839.    Elapsed: 0:01:58.\n",
            "  Batch   640  of    839.    Elapsed: 0:02:15.\n",
            "  Batch   720  of    839.    Elapsed: 0:02:32.\n",
            "  Batch   800  of    839.    Elapsed: 0:02:49.\n",
            "\n",
            "  Average training loss: 0.13\n",
            "  Training epcoh took: 0:02:57\n",
            "\n",
            "Running Validation...\n",
            "  Accuracy: 0.96\n",
            "  Validation Loss: 0.21\n",
            "  Validation took: 0:00:06\n",
            "\n",
            "Training complete!\n",
            "Total training took 0:09:09 (h:mm:ss)\n"
          ]
        }
      ]
    },
    {
      "cell_type": "code",
      "metadata": {
        "id": "IUPsbPzlM_9a"
      },
      "source": [
        "## Retain the predictions and labels of the validation set for the Precision Recall Plot\n",
        "fp2 = flat_predictions\n",
        "ftl2 = flat_true_labels"
      ],
      "execution_count": 24,
      "outputs": []
    },
    {
      "cell_type": "markdown",
      "metadata": {
        "id": "xNuteN1Fmju0"
      },
      "source": [
        "### 4.8. Training Results"
      ]
    },
    {
      "cell_type": "markdown",
      "metadata": {
        "id": "VQTvJ1vRP7u4"
      },
      "source": [
        "Let's view the summary of the training process."
      ]
    },
    {
      "cell_type": "code",
      "metadata": {
        "id": "6O_NbXFGMukX",
        "colab": {
          "base_uri": "https://localhost:8080/",
          "height": 175
        },
        "outputId": "4559ca3a-6754-4839-9a24-6d809d8a85f0"
      },
      "source": [
        "import pandas as pd\n",
        "\n",
        "# Display floats with two decimal places.\n",
        "pd.set_option('precision', 2)\n",
        "\n",
        "# Create a DataFrame from our training statistics.\n",
        "df_stats = pd.DataFrame(data=training_stats)\n",
        "\n",
        "# Use the 'epoch' as the row index.\n",
        "df_stats = df_stats.set_index('epoch')\n",
        "\n",
        "# Display the table.\n",
        "df_stats"
      ],
      "execution_count": 25,
      "outputs": [
        {
          "output_type": "execute_result",
          "data": {
            "text/html": [
              "<div>\n",
              "<style scoped>\n",
              "    .dataframe tbody tr th:only-of-type {\n",
              "        vertical-align: middle;\n",
              "    }\n",
              "\n",
              "    .dataframe tbody tr th {\n",
              "        vertical-align: top;\n",
              "    }\n",
              "\n",
              "    .dataframe thead th {\n",
              "        text-align: right;\n",
              "    }\n",
              "</style>\n",
              "<table border=\"1\" class=\"dataframe\">\n",
              "  <thead>\n",
              "    <tr style=\"text-align: right;\">\n",
              "      <th></th>\n",
              "      <th>Training Loss</th>\n",
              "      <th>Valid. Loss</th>\n",
              "      <th>Valid. Accur.</th>\n",
              "      <th>Training Time</th>\n",
              "      <th>Validation Time</th>\n",
              "    </tr>\n",
              "    <tr>\n",
              "      <th>epoch</th>\n",
              "      <th></th>\n",
              "      <th></th>\n",
              "      <th></th>\n",
              "      <th></th>\n",
              "      <th></th>\n",
              "    </tr>\n",
              "  </thead>\n",
              "  <tbody>\n",
              "    <tr>\n",
              "      <th>1</th>\n",
              "      <td>0.24</td>\n",
              "      <td>0.21</td>\n",
              "      <td>0.96</td>\n",
              "      <td>0:02:57</td>\n",
              "      <td>0:00:06</td>\n",
              "    </tr>\n",
              "    <tr>\n",
              "      <th>2</th>\n",
              "      <td>0.17</td>\n",
              "      <td>0.19</td>\n",
              "      <td>0.96</td>\n",
              "      <td>0:02:57</td>\n",
              "      <td>0:00:06</td>\n",
              "    </tr>\n",
              "    <tr>\n",
              "      <th>3</th>\n",
              "      <td>0.13</td>\n",
              "      <td>0.21</td>\n",
              "      <td>0.96</td>\n",
              "      <td>0:02:57</td>\n",
              "      <td>0:00:06</td>\n",
              "    </tr>\n",
              "  </tbody>\n",
              "</table>\n",
              "</div>"
            ],
            "text/plain": [
              "       Training Loss  Valid. Loss  Valid. Accur. Training Time Validation Time\n",
              "epoch                                                                         \n",
              "1               0.24         0.21           0.96       0:02:57         0:00:06\n",
              "2               0.17         0.19           0.96       0:02:57         0:00:06\n",
              "3               0.13         0.21           0.96       0:02:57         0:00:06"
            ]
          },
          "metadata": {},
          "execution_count": 25
        }
      ]
    },
    {
      "cell_type": "code",
      "metadata": {
        "id": "68xreA9JAmG5",
        "colab": {
          "base_uri": "https://localhost:8080/",
          "height": 427
        },
        "outputId": "36ade743-5d0f-4200-b38a-f032706d8bd7"
      },
      "source": [
        "#'''\n",
        "import matplotlib.pyplot as plt\n",
        "% matplotlib inline\n",
        "\n",
        "import seaborn as sns\n",
        "\n",
        "# Use plot styling from seaborn.\n",
        "sns.set(style='darkgrid')\n",
        "\n",
        "# Increase the plot size and font size.\n",
        "sns.set(font_scale=1.5)\n",
        "plt.rcParams[\"figure.figsize\"] = (12,6)\n",
        "\n",
        "# Plot the learning curve.\n",
        "plt.plot(df_stats['Training Loss'], 'b-o', label=\"Training\")\n",
        "plt.plot(df_stats['Valid. Loss'], 'g-o', label=\"Validation\")\n",
        "\n",
        "# Label the plot.\n",
        "plt.title(\"Training & Validation Loss\")\n",
        "plt.xlabel(\"Epoch\")\n",
        "plt.ylabel(\"Loss\")\n",
        "plt.legend()\n",
        "plt.xticks([1, 2, 3, 4])\n",
        "\n",
        "plt.show()\n",
        "#'''"
      ],
      "execution_count": 26,
      "outputs": [
        {
          "output_type": "display_data",
          "data": {
            "image/png": "[encoded data removed]",
            "text/plain": [
              "<Figure size 864x432 with 1 Axes>"
            ]
          },
          "metadata": {}
        }
      ]
    },
    {
      "cell_type": "markdown",
      "metadata": {
        "id": "MdJNnPQHn8SL"
      },
      "source": [
        "####Precision/Recall Plot"
      ]
    },
    {
      "cell_type": "code",
      "metadata": {
        "id": "XneMsM-iRjJz"
      },
      "source": [
        "from sklearn.metrics import precision_recall_curve\n",
        "from sklearn.metrics import average_precision_score\n",
        "\n",
        "n_classes = 3\n",
        "\n",
        "# For each class\n",
        "precision = dict()\n",
        "recall = dict()\n",
        "average_precision = dict()\n",
        "for i in range(n_classes): \n",
        "    precision[i], recall[i], _ = precision_recall_curve(ftl2[:, i], fp2[:, i]) \n",
        "    average_precision[i] = average_precision_score(ftl2[:, i], fp2[:, i])\n",
        "\n",
        "# A \"micro-average\": quantifying score on all classes jointly\n",
        "precision[\"micro\"], recall[\"micro\"], _ = precision_recall_curve(\n",
        "    ftl2.ravel(), fp2.ravel()\n",
        ")\n",
        "average_precision[\"micro\"] = average_precision_score(ftl2, fp2, average=\"micro\")"
      ],
      "execution_count": 27,
      "outputs": []
    },
    {
      "cell_type": "code",
      "metadata": {
        "colab": {
          "base_uri": "https://localhost:8080/",
          "height": 535
        },
        "id": "9wJYFRAfR0bi",
        "outputId": "89dea3be-e736-443b-c168-d9b19693cae7"
      },
      "source": [
        "import matplotlib.pyplot as plt\n",
        "from itertools import cycle\n",
        "\n",
        "from sklearn.metrics import PrecisionRecallDisplay\n",
        "\n",
        "# setup plot details\n",
        "colors = cycle([\"navy\", \"turquoise\", \"darkorange\", \"cornflowerblue\", \"teal\"])\n",
        "\n",
        "_, ax = plt.subplots(figsize=(7, 8))\n",
        "\n",
        "f_scores = np.linspace(0.2, 0.8, num=4)\n",
        "lines, labels = [], []\n",
        "for f_score in f_scores:\n",
        "    x = np.linspace(0.01, 1)\n",
        "    y = f_score * x / (2 * x - f_score)\n",
        "    (l,) = plt.plot(x[y >= 0], y[y >= 0], color=\"gray\", alpha=0.2)\n",
        "    plt.annotate(\"f1={0:0.1f}\".format(f_score), xy=(0.9, y[45] + 0.02))\n",
        "\n",
        "display = PrecisionRecallDisplay(\n",
        "    recall=recall[\"micro\"],\n",
        "    precision=precision[\"micro\"],\n",
        "    average_precision=average_precision[\"micro\"],\n",
        ")\n",
        "display.plot(ax=ax, name=\"Micro-average precision-recall\", color=\"gold\")\n",
        "\n",
        "for i, color in zip(range(n_classes), colors):\n",
        "    display = PrecisionRecallDisplay(\n",
        "        recall=recall[i],\n",
        "        precision=precision[i],\n",
        "        average_precision=average_precision[i],\n",
        "    )\n",
        "    display.plot(ax=ax, name=f\"Precision-recall for class {i}\", color=color)\n",
        "\n",
        "# add the legend for the iso-f1 curves\n",
        "handles, labels = display.ax_.get_legend_handles_labels()\n",
        "handles.extend([l])\n",
        "labels.extend([\"iso-f1 curves\"])\n",
        "# set the legend and the axes\n",
        "ax.set_xlim([0.0, 1.0])\n",
        "ax.set_ylim([0.0, 1.05])\n",
        "ax.legend(handles=handles, labels=labels, loc=\"best\")\n",
        "#ax.set_title(\"Extension of Precision-Recall curve to multi-class\")\n",
        "ax.set_title(\"Multi-class Precision-Recall curve\")\n",
        "plt.show()"
      ],
      "execution_count": 28,
      "outputs": [
        {
          "output_type": "display_data",
          "data": {
            "image/png": "[encoded data removed]",
            "text/plain": [
              "<Figure size 504x576 with 1 Axes>"
            ]
          },
          "metadata": {}
        }
      ]
    },
    {
      "cell_type": "markdown",
      "metadata": {
        "id": "b-M5ABsu6KX6"
      },
      "source": [
        "## S5. Performance On Test Set"
      ]
    },
    {
      "cell_type": "markdown",
      "metadata": {
        "id": "fiIjg4LEpPfe"
      },
      "source": [
        "### 5.1. Prepare Test Set"
      ]
    },
    {
      "cell_type": "code",
      "metadata": {
        "id": "DSRCJtKPAz3W",
        "colab": {
          "base_uri": "https://localhost:8080/"
        },
        "outputId": "7a6a112c-2141-4c8c-e509-e909680afba0"
      },
      "source": [
        "# Load the test set files.\n",
        "test = pd.read_csv('./data/test.csv')\n",
        "test_labels = pd.read_csv('./data/test_labels.csv')\n",
        "\n",
        "print('There are {:,} total test examples.'.format(len(test)))\n",
        "\n",
        "# The unlabeled test samples are indicated by all of the label values being\n",
        "# \"-1\" for that sample.\n",
        "\n",
        "# Select only the labeled test samples.\n",
        "\n",
        "test = test[test_labels.class1 != - 1]\n",
        "test_labels = test_labels.loc[test_labels.class1 != -1]\n",
        "\n",
        "print('There are {:,} labeled test examples.'.format(len(test)))"
      ],
      "execution_count": 29,
      "outputs": [
        {
          "output_type": "stream",
          "name": "stdout",
          "text": [
            "There are 1,000 total test examples.\n",
            "There are 1,000 labeled test examples.\n"
          ]
        }
      ]
    },
    {
      "cell_type": "markdown",
      "metadata": {
        "id": "C1lcxgaTpQRl"
      },
      "source": [
        "**Tokenize & Encode** \n",
        "\n",
        "Encode the test set, using the same code from 3.4."
      ]
    },
    {
      "cell_type": "code",
      "metadata": {
        "id": "2xzNcsKapQRo",
        "colab": {
          "base_uri": "https://localhost:8080/"
        },
        "outputId": "37dabf7d-c052-49a2-bbeb-5b003ed73ca6"
      },
      "source": [
        "import torch\n",
        "\n",
        "input_ids = []\n",
        "attn_masks = []\n",
        "labels = []\n",
        "\n",
        "# ======== Encoding ========\n",
        "\n",
        "print('Encoding all {:,} test samples...'.format(len(test)))\n",
        "\n",
        "# For every test sample...\n",
        "for (index, row) in test.iterrows():\n",
        "\n",
        "    # Report progress.\n",
        "    if ((len(input_ids) % 5000) == 0):\n",
        "        print('  Tokenized {:,} comments.'.format(len(input_ids)))\n",
        "\n",
        "    # Convert sentence pairs to input IDs, with attention masks.\n",
        "    encoded_dict = tokenizer.encode_plus(row['comment_text'],  # The text to encode.\n",
        "                                        max_length=max_len,    # Pad or truncate to this lenght.\n",
        "                                        pad_to_max_length=True,\n",
        "                                        truncation=True, \n",
        "                                        return_tensors='pt')   # Return objects as PyTorch tensors.\n",
        "\n",
        "    # Add this example to our lists.\n",
        "    input_ids.append(encoded_dict['input_ids'])\n",
        "    attn_masks.append(encoded_dict['attention_mask'])\n",
        "    \n",
        "print('\\nDONE. {:,} examples.'.format(len(input_ids)))\n",
        "\n",
        "# ======== List of Examples --> Tensor ========\n",
        "\n",
        "# Convert each Python list of Tensors into a 2D Tensor matrix.\n",
        "input_ids = torch.cat(input_ids, dim=0)\n",
        "attn_masks = torch.cat(attn_masks, dim=0)\n"
      ],
      "execution_count": 30,
      "outputs": [
        {
          "output_type": "stream",
          "name": "stdout",
          "text": [
            "Encoding all 1,000 test samples...\n",
            "  Tokenized 0 comments.\n"
          ]
        },
        {
          "output_type": "stream",
          "name": "stderr",
          "text": [
            "/usr/local/lib/python3.7/dist-packages/transformers/tokenization_utils_base.py:2218: FutureWarning: The `pad_to_max_length` argument is deprecated and will be removed in a future version, use `padding=True` or `padding='longest'` to pad to the longest sequence in the batch, or use `padding='max_length'` to pad to a max length. In this case, you can give a specific length with `max_length` (e.g. `max_length=45`) or leave max_length to None to pad to the maximal input size of the model (e.g. 512 for Bert).\n",
            "  FutureWarning,\n"
          ]
        },
        {
          "output_type": "stream",
          "name": "stdout",
          "text": [
            "\n",
            "DONE. 1,000 examples.\n"
          ]
        }
      ]
    },
    {
      "cell_type": "code",
      "metadata": {
        "id": "Jow8BTudpl56",
        "colab": {
          "base_uri": "https://localhost:8080/"
        },
        "outputId": "6c49ab3a-6cce-493b-ae55-8c9e1fe40f45"
      },
      "source": [
        "\n",
        "# ======== Prepare Labels ========\n",
        "\n",
        "# Remove the 'id' column.\n",
        "#test_labels = test_labels[['class1', 'class2', 'class3']]\n",
        "del test_labels['id']\n",
        "\n",
        "# The labels are either 0 or 1. Despite this, we need to cast the values to\n",
        "# floats--otherwise our loss function will throw an error.\n",
        "# https://discuss.pytorch.org/t/nn-bcewithlogitsloss-cant-accept-one-hot-target/59980\n",
        "labels = test_labels.to_numpy().astype(float)\n",
        "\n",
        "# Cast the labels list to a 2D Tensor.\n",
        "labels = torch.tensor(labels)\n",
        "\n",
        "# ======== Summary ========\n",
        "\n",
        "print('\\nData structure shapes:')\n",
        "print('   input_ids:  {:}'.format(str(input_ids.shape)))\n",
        "print('  attn_masks:  {:}'.format(str(attn_masks.shape)))\n",
        "print('      labels:  {:}'.format(str(labels.shape)))"
      ],
      "execution_count": 31,
      "outputs": [
        {
          "output_type": "stream",
          "name": "stdout",
          "text": [
            "\n",
            "Data structure shapes:\n",
            "   input_ids:  torch.Size([1000, 128])\n",
            "  attn_masks:  torch.Size([1000, 128])\n",
            "      labels:  torch.Size([1000, 3])\n"
          ]
        }
      ]
    },
    {
      "cell_type": "markdown",
      "metadata": {
        "id": "JNrE5s6pqGVu"
      },
      "source": [
        "**DataLoader**\n",
        "\n",
        "Create a DataLoader to batch our test samples for us."
      ]
    },
    {
      "cell_type": "code",
      "metadata": {
        "id": "3ndz4YWSqHyV"
      },
      "source": [
        "from torch.utils.data import TensorDataset, DataLoader, SequentialSampler\n",
        "\n",
        "# Combine the training inputs into a TensorDataset.\n",
        "test_dataset = TensorDataset(input_ids, attn_masks, labels)\n",
        "\n",
        "# Specify our batch size.\n",
        "batch_size = 16\n",
        "\n",
        "# Create the DataLoader, which will select batches for us. For testing, the\n",
        "# order we evaluate the samples in doesn't matter, so we'll just use the \n",
        "# \"SequentialSampler\" to read them in order.\n",
        "test_dataloader = DataLoader(\n",
        "            test_dataset,  # The training samples.\n",
        "            sampler = SequentialSampler(test_dataset), # Select batches randomly\n",
        "            batch_size = batch_size # Trains with this batch size.\n",
        "        )\n"
      ],
      "execution_count": 32,
      "outputs": []
    },
    {
      "cell_type": "markdown",
      "metadata": {
        "id": "RJJVmwstqzEn"
      },
      "source": [
        "### 5.2. Evaluate On Test Set"
      ]
    },
    {
      "cell_type": "code",
      "metadata": {
        "id": "xqNzZkUx6KYL",
        "colab": {
          "base_uri": "https://localhost:8080/"
        },
        "outputId": "93b6063c-5feb-4685-af1d-eeb25dbc0ab2"
      },
      "source": [
        "import time\n",
        "\n",
        "# Prediction on test set\n",
        "\n",
        "# Put model in evaluation mode\n",
        "model.eval()\n",
        "\n",
        "t0 = time.time()\n",
        "\n",
        "# Tracking variables \n",
        "predictions , true_labels = [], []\n",
        "\n",
        "print('Evaluating on {:,} test set batches...'.format(len(test_dataloader)))\n",
        "\n",
        "# Predict \n",
        "for batch in test_dataloader:\n",
        "    \n",
        "    # Report progress.\n",
        "    if ((len(predictions) % 500) == 0):\n",
        "        print('  Batch {:>5,}  of  {:>5,}.'.format(len(predictions), len(test_dataloader)))\n",
        "\n",
        "    # Add batch to GPU\n",
        "    batch = tuple(t.to(device) for t in batch)\n",
        "    \n",
        "    # Unpack the inputs from our dataloader\n",
        "    b_input_ids, b_input_mask, b_labels = batch\n",
        "    \n",
        "    # Telling the model not to compute or store the compute graph, saving memory \n",
        "    # and speeding up prediction\n",
        "    with torch.no_grad():\n",
        "        \n",
        "        # Forward pass, calculate logit predictions\n",
        "        outputs = model(b_input_ids, \n",
        "                        token_type_ids=None, \n",
        "                        attention_mask=b_input_mask)\n",
        "\n",
        "    logits = outputs[0]\n",
        "\n",
        "    # Move logits and labels to CPU\n",
        "    logits = logits.detach().cpu().numpy()\n",
        "    label_ids = b_labels.to('cpu').numpy()\n",
        "    \n",
        "    # Store predictions and true labels\n",
        "    predictions.append(logits)\n",
        "    true_labels.append(label_ids)\n",
        "\n",
        "print('    DONE.')\n",
        "\n",
        "print('Evaluation took {:.0f} seconds.'.format(time.time() - t0))"
      ],
      "execution_count": 33,
      "outputs": [
        {
          "output_type": "stream",
          "name": "stdout",
          "text": [
            "Evaluating on 63 test set batches...\n",
            "  Batch     0  of     63.\n",
            "    DONE.\n",
            "Evaluation took 4 seconds.\n"
          ]
        }
      ]
    },
    {
      "cell_type": "markdown",
      "metadata": {
        "id": "iJoh2shgrVx0"
      },
      "source": [
        "We collected the predictions in batches, so now we just need to recombine them."
      ]
    },
    {
      "cell_type": "code",
      "metadata": {
        "id": "DFcP525n6KYN"
      },
      "source": [
        "# Combine the results across all batches. \n",
        "flat_predictions = np.concatenate(predictions, axis=0)\n",
        "flat_true_labels = np.concatenate(true_labels, axis=0)\n"
      ],
      "execution_count": 34,
      "outputs": []
    },
    {
      "cell_type": "code",
      "metadata": {
        "colab": {
          "base_uri": "https://localhost:8080/"
        },
        "id": "TNFjv492ccmr",
        "outputId": "3fd2866d-82ef-4ac9-9de8-333f2ea62106"
      },
      "source": [
        "import sys\n",
        "import numpy\n",
        "numpy.set_printoptions(threshold=sys.maxsize)\n",
        "testflat = np.asarray(test)\n",
        "\n",
        "xr = len(flat_predictions)\n",
        "classifications = ['BERT class, actual, confidence, test_text']\n",
        "accutotal = 0\n",
        "\n",
        "for x in range(xr):\n",
        "  testtext = testflat[x,1]\n",
        "  testcorrect = testflat[x,2]\n",
        "  logits = flat_predictions[x]\n",
        "  out = np.exp(logits) / np.sum(np.exp(logits))\n",
        "  #print(out)\n",
        "  #print(np.argmax(out))\n",
        "  entry = [np.argmax(out), testcorrect, max(out), testtext]\n",
        "  classifications.append(entry)\n",
        "  # calculating accuracy\n",
        "  if testcorrect == np.argmax(out):\n",
        "    accutotal += 1\n",
        "\n",
        "\n",
        "test3 = np.asarray(classifications)"
      ],
      "execution_count": 35,
      "outputs": [
        {
          "output_type": "stream",
          "name": "stderr",
          "text": [
            "/usr/local/lib/python3.7/dist-packages/numpy/core/_asarray.py:83: VisibleDeprecationWarning: Creating an ndarray from ragged nested sequences (which is a list-or-tuple of lists-or-tuples-or ndarrays with different lengths or shapes) is deprecated. If you meant to do this, you must specify 'dtype=object' when creating the ndarray\n",
            "  return array(a, dtype, copy=False, order=order)\n"
          ]
        }
      ]
    },
    {
      "cell_type": "markdown",
      "metadata": {
        "id": "I5zp9DnVroQU"
      },
      "source": [
        "### 5.3. Score Results"
      ]
    },
    {
      "cell_type": "markdown",
      "metadata": {
        "id": "bI4uAn7UPFFI"
      },
      "source": [
        "####Accuracy"
      ]
    },
    {
      "cell_type": "markdown",
      "metadata": {
        "id": "sYA3FMFIKJjL"
      },
      "source": [
        "Here BERT's predictions on the test set are compared to the actual classifications."
      ]
    },
    {
      "cell_type": "code",
      "metadata": {
        "colab": {
          "base_uri": "https://localhost:8080/"
        },
        "id": "cRft1q7Qph_a",
        "outputId": "eaabc551-c6e9-4bbe-e32a-9e18998adf3f"
      },
      "source": [
        "accuracy = format(accutotal / xr * 100, '.2f')\n",
        "print('The model predicted the classifications with an accuracy of ' + accuracy + '%')"
      ],
      "execution_count": 36,
      "outputs": [
        {
          "output_type": "stream",
          "name": "stdout",
          "text": [
            "The model predicted the classifications with an accuracy of 89.30%\n"
          ]
        }
      ]
    },
    {
      "cell_type": "markdown",
      "metadata": {
        "id": "z7QhhBVkPOua"
      },
      "source": [
        "####Test Output"
      ]
    },
    {
      "cell_type": "markdown",
      "metadata": {
        "id": "VV3ve_E_KyKi"
      },
      "source": [
        "Here the results are output.  First is BERT's prediction, next are the actual classifications for comparison, then the confidence of the prediction, and then the actual text it was tested on."
      ]
    },
    {
      "cell_type": "code",
      "metadata": {
        "colab": {
          "base_uri": "https://localhost:8080/"
        },
        "id": "_8xzeo-aZAo6",
        "outputId": "a17ecf5f-a4f5-4f01-f341-ea9d5ae66d57"
      },
      "source": [
        "for x in range(0, xr):\n",
        "  print(test3[x])"
      ],
      "execution_count": 37,
      "outputs": [
        {
          "output_type": "stream",
          "name": "stdout",
          "text": [
            "BERT class, actual, confidence, test_text\n",
            "[0, 0, 0.99998903, '中共中央政治局1月12日召开会议，研究修改宪法部分内容的建议。中共中央总书记习近平主持会议。\\n会议决定，中国共产党第十九届中央委员会第二次全体会议于1月18日至19日在北京召开。\\n中共中央政治局听取了《中共中央关于修改宪法部分内容的建议》稿在党内外一定范围征求意见的情况报告，决定根据这次会议讨论的意见进行修改后将文件稿提请十九届二中全会审议。\\n会议认为，宪法是国家的根本法，是治国安邦的总章程，是党和人民意志的集中体现。现行宪法颁布以来，在改革开放和社会主义现代化建设的历史进程中、在我们党治国理政实践中发挥了十分重要的作用。实践证明，我国现行宪法是符合国情、符合实际、符合时代发展要求的好宪法。\\n会议指出，我们党高度重视宪法在治国理政中的重要地位和作用，明确坚持依法治国首先要坚持依宪治国，坚持依法执政首先要坚持依宪执政，把实施宪法摆在全面依法治国的突出位置，采取一系列有力措施加强宪法实施和监督工作，为保证宪法实施提供了强有力的政治和制度保障。\\n会议认为，我国宪法以国家根本法的形式，确认了中国共产党领导中国人民进行革命、建设、改革的伟大斗争和根本成就，确立了工人阶级领导的、以工农联盟为基础的人民民主专政的社会主义国家的国体和人民代表大会制度的政体，确定了国家的根本任务、领导核心、指导思想、发展道路、奋斗目标，规定了中国共产党领导的多党合作和政治协商制度，规定了社会主义法治原则、民主集中制原则、尊重和保障人权原则等等，反映了我国各族人民共同意志和根本利益。我国宪法确立的一系列制度、原则和规则，确定的一系列大政方针，具有显著优势、坚实基础、强大生命力，必须长期坚持、全面贯彻。\\n会议指出，宪法修改是国家政治生活中的一件大事，是党中央从新时代坚持和发展中国特色社会主义全局和战略高度作出的重大决策，也是推进全面依法治国、推进国家治理体系和治理能力现代化的重大举措。为更好发挥宪法在新时代坚持和发展中国特色社会主义中的重要作用，需要对宪法作出适当修改，把党和人民在实践中取得的重大理论创新、实践创新、制度创新成果上升为宪法规定。党中央决定用一次全会专门讨论宪法修改问题，充分表明党中央对这次宪法修改的高度重视。\\n会议认为，这次宪法修改要高举中国特色社会主义伟大旗帜，全面贯彻党的十九大精神，坚持以马克思列宁主义、毛泽东思想、邓小平理论、“三个代表”重要思想、科学发展观、习近平新时代中国特色社会主义思想为指导，坚持党的领导、人民当家作主、依法治国有机统一，体现党和国家事业发展的新成就新经验新要求，推动宪法与时俱进、完善发展，为新时代坚持和发展中国特色社会主义、实现“两个一百年”奋斗目标和中华民族伟大复兴的中国梦提供有力宪法保障。\\n会议强调，宪法修改必须贯彻以下原则：坚持党的领导，坚持中国特色社会主义法治道路，坚持正确政治方向；严格依法按照程序进行；充分发扬民主、广泛凝聚共识，确保反映人民意志、得到人民拥护；坚持对宪法作部分修改、不作大改的原则，做到既顺应党和人民事业发展要求，又遵循宪法法律发展规律，保持宪法连续性、稳定性、权威性。\\n会议还研究了其他事项。\\n']\n",
            "[0, 0, 0.9999873, '当地时间11日上午，柬埔寨首相洪森在金边和平大厦举行仪式，欢迎国务院总理李克强对柬埔寨进行正式访问。\\n李克强抵达时，洪森在下车处迎接。\\n军乐队奏中、柬两国国歌。\\n随后，李克强在洪森的陪同下检阅了柬埔寨仪仗队。\\n']\n",
            "[0, 0, 0.9999851, '欢迎仪式后，双方在金边和平大厦举行会谈。\\n李克强表示，中柬是近邻，传统友谊深厚。中方愿以两国建交60周年为契机，继续同柬方密切高层交往，深化各领域务实合作，密切人文等领域的交流，同时为柬埔寨发展经济，尤其是改善民生提供力所能及的帮助，携手打造中柬具有战略意义的命运共同体。\\n李克强强调，中方愿同柬方更好对接发展战略，以共建“一带一路”为契机，抓好产能与投资合作重点项目。加强经济特区、交通基础设施建设、农业及农产品深加工、旅游等合作，扩大科教文卫及地方等合作，共同办好中柬建交60周年系列庆祝活动，让中柬友好的民意基础更加牢固。\\n李克强祝贺柬埔寨成功主办澜沧江-湄公河合作第二次领导人会议。指出中柬友好合作造福两国人民，也惠及地区。中方愿同柬方继续密切在澜湄合作机制和中国-东盟合作框架内的协调沟通，继续为地区的发展繁荣作出贡献。\\n洪森表示，李总理此访必将进一步巩固柬中传统友谊，推动两国全面战略合作伙伴关系和澜湄合作更上一层楼。柬方感谢中方长期以来对柬的坚定支持和帮助，祝愿中国人民早日实现“两个百年”的奋斗目标。\\n会谈后，李克强和洪森共同见证了两国政治、经贸、卫生、林业、农业、人文等领域19项双边合作文件的签署。双方还发表了中柬联合公报。\\n']\n",
            "[0, 0, 0.9999885, '当天中午，李克强在金边王宫会见柬埔寨国王西哈莫尼。\\n李克强首先转达习近平主席对西哈莫尼国王的亲切问候，以及中方对莫尼列太后的良好祝愿。李克强表示，中柬友好源远流长，人民之间情谊深厚。两国老一辈领导人为中柬关系发展作出了历史性贡献，值得铭记。习近平主席2016年成功访柬，推动中柬全面战略合作伙伴关系迈上新台阶。中方愿在今年中柬建交60周年的新起点上，推动中柬关系不断向前发展。相信中柬全面战略合作伙伴关系的发展将更好造福两国人民。\\n西哈莫尼表示，柬中传统友谊深厚。柬埔寨人民永远不会忘记中国人民的情谊，永远和中国人民站在一起。\\n会见后，西哈莫尼同李克强亲切话别，并目送车队驶离。\\n当天上午，李克强向柬埔寨独立纪念碑和西哈努克太皇雕像献花圈。\\n离开金边时，柬埔寨副首相贺南洪以及柬方陪同团团长、国务大臣占浦拉西等政府高级官员和中国驻柬埔寨大使熊波前往机场送行。\\n']\n",
            "[0, 0, 0.99998814, '国务院总理李克强出席在柬埔寨金边举行的澜沧江-湄公河合作第二次领导人会议，并结束对柬埔寨的正式访问后，于1月11日晚乘专机回到北京。\\n李克强总理在金边停留不到24小时，出席20余场双、多边活动。在出席澜湄合作会议期间，李克强提出“3+5+X合作框架”，希望各方弘扬“平等、包容、务实”的澜湄精神。打造澜湄流域经济发展带，建设澜湄国家命运共同体。会议发表了澜湄合作五年行动计划，在新的起点上谋划了合作的未来。\\n在访柬期间，李克强表示，愿继续为柬发展经济、改善民生，提供力所能及的帮助。以共建“一带一路”为契机深化各领域合作，更好实现互利共赢。双方达成19项合作文件，并发表了联合公报，宣布携手打造中柬具有战略意义的命运共同体。\\n']\n",
            "[0, 0, 0.9999885, '明天出版的人民日报将发表评论员文章，题目是《乘势而上，开创全面从严治党新局面—— 一论学习贯彻习近平总书记十九届中央纪委二次全会讲话精神》。\\n']\n",
            "[0, 0, 0.9999865, '四川省推进交通精准扶贫，加快高原山区公路建设，为打赢脱贫攻坚战打下坚实基础。\\n新年伊始，在四川藏区，雅康高速泸康段、汶马高速、九绵高速，三条交通动脉正开足马力，加紧施工。地处深山的康定、马尔康等地，今年有望结束不通高速的历史。\\n与此同时，毛细血管，近千个大小农村公路项目也在进行建设冲刺。全长近80公里的理章路，作为四川省在建海拔最高的通乡路工程之一，这两天已经进入收尾阶段，海拔4000多米的理塘县将实现通乡道路全覆盖，而全县的通村路也已经完成了96%。\\n就在去年初，理塘24个乡镇中，有一半的通乡油路还没修好。现如今，公路修到了偏远山村，从通乡到通村，交通的改善让贫困群众搭上了脱贫致富的快车。\\n道路开通，激活了物流。就在上个月，村上收获的三十万斤紫皮土豆，五分之一都通过互联网销售。现在理塘不仅建成了甘孜州最大的电子商务公共服务中心，还入选全国电商扶贫示范县，今年还将有近一半的贫困村设立电商服务站。\\n今年，四川交通扶贫专项建设投资将超过535亿元，100万人将从中受益。\\n']\n",
            "[0, 0, 0.9999081, '中国人民银行今天公布，12月末，广义货币供应量M2余额为167.68万亿元，同比增长8.2%，增速比上年同期低3.1个百分点。而央行表示随着去杠杆的深化和金融进一步回归为实体经济服务，比过去低的M2增速可能成为新常态。\\n初步统计，2017年社会融资规模存量为174.64万亿元，同比增长12%。其中，对实体经济发放的人民币贷款余额为119.03万亿元，同比增长13.2%。\\n央行表示，2017货币政策在金融服务实体经济、金融支持经济结构调整和转型升级方面取得积极成效。下一步，央行将坚持稳健中性的货币政策，维护流动性基本稳定，实现货币信贷和社会融资规模平稳增长。\\n']\n",
            "[0, 0, 0.999987, '国务院新闻办今天召开新闻发布会，海关总署公布2017年世界经济温和复苏、国内经济稳中向好，我国进出口总值27.79万亿元，实现两位数增长，延续了2016年下半年以来回稳向好的走势。\\n最近，一款中国制造的马桶盖在欧美成了抢手货，订单从2017年排到了今年下半年，产品就地取材由贵州常见的竹子、秸秆制成，个性化图案设计超过5000种。一款成人与儿童共同使用的马桶盖一推出就创造了3000万元的纯利润。\\n创意创新带来产品附加值的不断增加，“一带一路”的好政策，也打开了通向国际市场的大门。前不久，由中、俄、法共同开发的液化天然气项目在北极投产运营，青岛一家企业攻克了极寒环境下管道、设备保温的世界性难题，拿下了101亿元的超级订单。\\n据海关统计，2017年我国货物贸易进出口总值27.79万亿元，比2016年同期增长14.2%，结束了连续两年负增长态势，实现两位数的恢复性增长。\\n海关统计显示：2017年我国对主要贸易伙伴进出口继续保持增长，与“一带一路”沿线国家贸易增长明显，同比增长17.8%，高于同期我国整体外贸增速3.6个百分点。\\n与此同时，2017年我国实现海关通关一体化，压缩通关时间三分之一，外贸发展新动能不断聚集，高附加值产品出口保持良好增势，民营企业进出口同比增长15.3%，自主创新能力不断增强。\\n']\n",
            "[0, 0, 0.9999856, '从SARS来袭时的谈“非”色变，到人类首次成功干预大流感，2017年度国家最高科学技术奖获得者侯云德院士，终其一生都在随时可能暴发的烈性病毒“火山口”上做抉择，为突发传染病的防控构建了一座坚固的堡垒。\\n现年88岁的侯云德，依然执着地做着一件很多人看似不解的事情，每天上网把国际上病毒研究、药物研发的最新动态翻译出来，写上自己的建议措施，编辑成上万字的《生物技术》，免费发给所有省级以上的卫生官员。\\n作为我国传染病防治科技重大专项的专职技术总师，2009年，在甲流防控中，侯云德吸取SARS防控教训，带领项目团队，迅速构筑起我国现代传染病防控的技术体系，成功干预了流感大流行。\\n第三方评估表明，我国甲流的应对措施减少了2.5亿发病和7万人住院，病死率比国际低约5倍以上。“早期诊断、早期处理”，侯云德提出的这八个字看似简单，却需要承受巨大的压力。防控的前沿战线推到多早？处理隔离的时间多长？每一个抉择都可能关乎上亿人的生命安危。\\n敢于在“火山口”上抉择，守护百姓健康，侯老的魄力其实来自于多年的知识积淀。围绕疾病防治的需要，侯云德在分子病毒学领域取得了系列原创性成果，开创了我国基因工程创新药物研发的先河。\\n如今，已到耄耋之年的侯老虽然忍受着自身癌症的巨大痛苦，却依然站在传染病防控的第一线，领导专家组设计了2008至2020年应对重大突发疫情的总体规划，全面提升了我国新发突发传染病的防控能力。\\n']\n",
            "[0, 0, 0.99990964, '造船业被称为是建设“海洋强国”的重要基石。近日全球最权威的航运造船机构公布的数据显示，2017年，中国在全球造船三大指标上全面领先，位居世界第一位。\\n随着这一艘矿砂船的成功交付，中国造船完工量从2016年世界排名第二上升到世界第一。此外，2017年中国造船业新接订单量和手持订单量也是稳居世界第一。\\n在这张全球造船业新成绩单上记者发现了 这样一个变化，含金量最大的新接订单量增幅最大，2017年比2016年增长53%。其中，我国承接的22000箱双燃料超大型集装箱船是目前全球最大的订单。而此前，这一船型几乎被韩国造船企业独占。\\n从设计之初就和市场同步，中国造船业正逐步从低附加值转向高技术含量、高附加值。2017年，许多全球第一就来自中国。这是全球首艘通过国际船级社认证的3.88万吨智能船舶，这是全球最先进6000吨抛石船，这是全球最大的3.8万立方米乙烯运输船，目前这些高端船型都已经成功交付。\\n今天的中国，正在从海洋大国向海洋强国迈进，一个个海洋装备接连入水。\\n这是我国最先进的“海洋地质十号”综合地质调查船，它可用于南海可燃冰的钻探。\\n这是被称为“造船业皇冠上明珠”的液化天然气船，目前只有中国、日本、韩国少数几个国家能够建造。\\n这是全球最大、钻井深度最深的海上钻井平台“蓝鲸2号”，它将在2018年迎来首航。\\n今天，中国船舶业在腾挪转换中实现了质的飞跃。世界上已有船只类型95%以上中国人都能造。我国已形成以上海长三角地区为龙头的三大造船基地。中国已经从一个单纯接单的造船厂开始向世界海洋装备基地迈进。\\n']\n",
            "[1, 1, 0.9766445, '今天7时18分，我国在西昌卫星发射中心用长征三号乙运载火箭，以“一箭双星”方式成功发射第二十六、二十七颗北斗导航卫星。按照计划，北斗卫星导航系统将于今年底服务“一带一路”沿线国家。\\n']\n",
            "[1, 1, 0.9987022, '今天，随着两架中国民航包机分别降落在河南郑州国际机场和陕西西安国际机场，104名电信网络诈骗犯罪嫌疑人被我公安机关从老挝押解回国，涉及全国多地的300多起电信网络诈骗案件成功告破，涉案金额3000多万元人民币。\\n']\n",
            "[1, 1, 0.99563164, '《山东新旧动能转换综合试验区建设总体方案》日前获国务院批复。目前，山东已建立600个项目的新旧动能转换项目储备库，与10家投资机构、10家银行机构签署了4000亿元规模的合作协议。\\n']\n",
            "[1, 1, 0.9986556, '来自黄河防汛抗旱总指挥部的消息，随着黄河下游山东境内的河口河段首次出现流凌，至此，黄河上中下游均进入凌汛期，目前全线凌情平稳。截至目前，黄河封河长度800公里，全线流凌1200多公里。\\n']\n",
            "[1, 1, 0.9942793, '近日，中共代表团相继访问了印度、泰国和菲律宾，会见当地政党领导人，出席中共十九大精神专题介绍会，广泛宣介十九大精神。\\n当地各界代表高度评价中共十九大的重大意义和习近平新时代中国特色社会主义思想的世界影响，表示希望进一步学习借鉴中共治国理政经验，积极探索更加符合本国国情的发展道路。\\n']\n",
            "[1, 1, 0.99531615, '欧盟外交和安全政策高级代表莫盖里尼和法、德、英三国外长11日在布鲁塞尔重申，欧盟及其成员国坚决维护和履行伊朗核问题全面协议。\\n11日，伊朗外长扎里夫到访布鲁塞尔，与欧盟外交与安全政策高级代表莫盖里尼以及法国外长勒德里安、德国外长加布里尔和英国外交大臣约翰逊举行会晤。随后莫盖里尼与德、法、英三国外长共同举行发布会。\\n莫盖里尼说，伊核协议正在实现其主要目标，也就是密切监督伊朗的核计划。国际原子能机构已经在9份报告中确认，伊朗完全遵守了其在协议中所作的承诺。她强调，伊核协议是联合国安理会通过决议批准的多边协议，是核不扩散全球体系的关键一环，对于地区安全和欧洲安全都至关重要，因此欧盟及其成员国坚决维护该协议。\\n伊朗外长扎里夫在会谈后通过社交媒体发文表示，伊朗一直在严格履行伊核协议，有权享受由此带来的经济利益。他强调，欧盟方面的表态证明了这是国际社会普遍共识，任何破坏伊核协议的企图都是不可接受的。\\n10日，扎里夫曾到访俄罗斯，也获得了俄方对该协议的支持。\\n2015年7月，伊朗与伊核问题六国达成伊核问题全面协议。根据协议，伊朗承诺限制其核计划，国际社会将解除对伊制裁。但美国总统特朗普去年10月宣布，拒绝向国会证实伊朗遵守伊核协议，据悉特朗普将于当地时间12日宣布是否对伊朗重启制裁。\\n美国媒体报道援引知情人士消息报道称，特朗普已基本同意“再维持120天现状、暂不恢复对伊朗的经济制裁”。不过，美国财政部长姆努钦11日表示，美国将在伊核协议之外对伊朗实施更多制裁。\\n']\n",
            "[2, 1, 0.9342906, '俄罗斯国防部11日召开新闻发布会，公布本月5日叙利亚境内武装分子利用无人机袭击俄驻叙基地事件的初步调查情况。\\n俄国防部称，武装分子共使用了13架小型攻击型无人机，每架无人机携带了10枚炸弹，袭击了俄军位于叙利亚的赫梅米姆和塔尔图斯军事基地，全部遭到俄军的摧毁和拦截。\\n俄军总参谋部无人机开发与应用的负责人诺维科夫表示，俄专家在对俘获的无人机详细勘验后发现，它们的组装方式、电子装备、弹药投放都非常专业；其实施空袭任务所依据的坐标也非常精确，不太可能是从互联网等渠道获得的公开数据。\\n俄国防部发言人科纳申科夫当天也表示，全球有多个国家能生产这批无人机所携带的炸药，其中包括乌克兰的绍斯特卡化学反应剂生产厂。俄方正详查炸药的来源。另据塔斯社报道，乌克兰国防部发言人否认乌方与这次袭击有关。\\n针对有传闻说此次袭击的无人机是从叙西北部伊德利卜市附近起飞，而该区域受土耳其管控，俄罗斯总统普京11日表示，土耳其政府与此事没有任何关联，无人机起飞地区局势复杂，土方尚未有效管控这一地区。\\n普京表示，俄方已掌握了袭击背后的支持者是谁、为此叙武装分子支付了多少报酬以及多少架无人机在何时何地转交给了武装分子等信息。\\n普京还指出，这是一次挑衅性的袭击，旨在阻碍叙利亚问题有关各方履行已经达成的协议，破坏俄与土耳其、伊朗等伙伴国家的关系。俄将继续与伙伴国家团结一致解决叙利亚问题。\\n']\n",
            "[1, 2, 0.9879322, '德国总理默克尔领导的联盟党的党内人士今天称，联盟党与联邦议院第二大党社会民主党的“组阁试探性谈判”已经达成一致，为下一步双方将进行的正式组阁谈判搭建出了基本框架。联盟党和社民党从7日开始这一谈判，最终形成一个28页的框架文件，双方在财政、能源、移民政策等多个方面达成了共识。按照相关程序，两党的正式组阁谈判如果顺利举行，将达成联合组阁协议，而这一协议还需获得两党党内同意，最终才能正式组建大联合政府。\\n']\n",
            "[2, 2, 0.99418265, '巴勒斯坦卫生部11日说，当天在约旦河西岸和加沙地带，一些巴勒斯坦人与以色列士兵发生冲突，两名16岁巴勒斯坦少年被以军士兵打死，另有数人受伤。以色列方面称，由于9日一名犹太定居者在纳布卢斯遭枪击身亡，以军10日起封锁了纳布卢斯的出入口，并在约旦河西岸实施搜捕行动。\\n']\n",
            "[0, 0, 0.9999884, '中国共产党第十九届中央纪律检查委员会第二次全体会议，今天（1月13日）在北京闭幕。现在播送全会公报。\\n中国共产党第十九届中央纪律检查委员会第二次全体会议，于2018年1月11日至13日在北京举行。出席这次全会的有中央纪委委员133人，列席177人。\\n中共中央总书记、国家主席、中央军委主席习近平出席全会并发表重要讲话。栗战书、汪洋、王沪宁、赵乐际、韩正等党和国家领导人出席会议。\\n全会由中央纪律检查委员会常务委员会主持。全会以习近平新时代中国特色社会主义思想为指导，全面贯彻落实党的十九大精神，研究部署2018年纪检监察工作，审议通过了赵乐际同志代表中央纪委常委会所作的《以习近平新时代中国特色社会主义思想为指导\\u3000坚定不移落实党的十九大全面从严治党战略部署》工作报告。\\n全会认真学习、深刻领会习近平总书记重要讲话。一致认为，讲话站在新时代党和国家事业发展全局的高度，深刻阐述党的十九大关于全面从严治党的战略部署，进一步总结5年来全面从严治党的重要经验，科学分析党面临的风险和挑战，强调在中国特色社会主义新时代，完成伟大事业必须靠党的领导，党一定要有新气象新作为，要全面贯彻党的十九大精神，以永远在路上的执着把全面从严治党引向深入。讲话登高望远、居安思危，内涵丰富、切中要害，展现出坚定信仰信念、鲜明人民立场、顽强意志品质、强烈历史担当，诠释了新时代中国共产党人初心不改、矢志不渝、自我革命、砥砺奋进的政治品格和革命精神。习近平总书记对纪检监察机关和纪检监察干部寄予殷切期望，提出新的要求。学习贯彻习近平总书记重要讲话精神是全党的重要政治任务，要同学习贯彻党的十九大精神结合起来，学懂弄通做实，把握精神实质，统一思想认识，强化责任担当，把党中央的决策部署一项一项抓实抓好。\\n全会指出，全面贯彻落实党的十九大精神，关键在于坚决维护习近平总书记在党中央和全党的核心地位，坚决维护党中央权威和集中统一领导；关键在于自觉用习近平新时代中国特色社会主义思想武装头脑、指导实践、推动工作；关键在于坚定不移推动全面从严治党向纵深发展。各级纪检监察机关要清醒认识到，当前反腐败斗争形势依然严峻复杂，全面从严治党决不能半途而废，必须以永远在路上的韧劲和执着，把“严”字长期坚持下去，一以贯之、坚定不移。要坚持问题导向，保持战略定力，排除错误思想干扰，不松劲、不停步、再出发，在坚持中深化、在深化中发展，努力夺取全面从严治党更大战略性成果。\\n全会强调，2018年是贯彻党的十九大精神的开局之年，是改革开放40周年，是决胜全面建成小康社会、实施“十三五”规划承上启下的关键一年，做好纪检监察工作责任重大。要以习近平新时代中国特色社会主义思想为指导，贯彻落实党的十九大战略部署，不忘初心，牢记使命，增强“四个意识”，坚定“四个自信”，忠实履行党章和宪法赋予的职责，紧紧围绕坚持和加强党的全面领导，紧紧围绕维护习近平总书记在党中央和全党的核心地位，紧紧围绕维护党中央权威和集中统一领导，坚持党要管党、全面从严治党，坚持稳中求进工作总基调，监督检查党章执行和党的十九大精神贯彻落实情况，以党的政治建设为统领，全面推进党的各项建设，深化国家监察体制改革，持之以恒正风肃纪，深入推进反腐败斗争，营造风清气正的良好政治生态，强化自我监督、自觉接受监督，建设忠诚干净担当的纪检监察干部队伍，为决胜全面建成小康社会提供坚强保证。\\n第一，把党的政治建设摆在首位。严明政治纪律和政治规矩，加强对党内政治生活状况、党的路线方针政策和民主集中制等制度执行情况的监督检查，对“七个有之”问题高度警觉，坚决清除对党不忠诚不老实、阳奉阴违的两面人、两面派。聚焦政治立场、政治原则、政治担当和政治纪律，强化监督执纪问责，严把选人用人政治关、廉洁关、形象关，全面净化党内政治生态。\\n第二，全面推进国家监察体制改革。加强党对反腐败工作的统一领导，构建党统一指挥、全面覆盖、权威高效的监督体系，实现对所有行使公权力的公职人员监察全覆盖。认真履行监督、调查、处置职责，探索形成高效顺畅的监察工作运行机制，实现执纪审查与依法调查有效统一，加强监察机关与审判机关、检察机关、执法部门的工作衔接，把制度优势转化为治理效能。\\n第三，巩固拓展落实中央八项规定精神成果。领导干部要带头转变作风，经常摆摆表现、找找差距，坚持身体力行、以上率下，形成“头雁效应”。发扬钉钉子精神，一个节点一个节点坚守，关注“四风”问题新表现新动向，在反对形式主义、官僚主义上下更大功夫，对表态多调门高、行动少落实差的严肃问责。坚决反对特权思想和特权现象，教育引导党员领导干部增强群众感情，严格约束自己，严格家教家风。\\n第四，让巡视利剑作用更加彰显。制定中央巡视工作规划，贯彻巡视工作方针，以政治建设为统领深化政治巡视，统筹安排常规巡视，深化专项巡视，强化机动式巡视，综合运用巡视成果，狠抓整改落实，提升全覆盖质量。深入开展巡察工作，建立巡视巡察上下联动的监督网。\\n第五，全面加强党的纪律建设。开展经常性纪律教育，发挥先进典型引领示范和反面典型警示教育作用。坚持惩前毖后、治病救人方针，深化运用监督执纪“四种形态”，强化日常监督执纪，有针对性地建章立制，把制度的篱笆扎得更紧。\\n第六，巩固发展反腐败斗争压倒性态势。坚持无禁区、全覆盖、零容忍，坚持重遏制、强高压、长震慑，坚持受贿行贿一起查，坚定不移、精准有序，聚焦党的十八大以来不收敛、不收手的领导干部，重点查处政治问题和经济问题相互交织形成利益集团的腐败案件，着力解决选人用人、审批监管、资源开发、金融信贷等重点领域和关键环节的腐败问题，加强反腐败国际合作，深化标本兼治，构建不敢腐、不能腐、不想腐的体制机制。\\n第七，坚决整治群众身边腐败问题。围绕打赢脱贫攻坚战，开展扶贫领域腐败和作风问题专项治理。把惩治基层腐败同扫黑除恶结合起来，坚决查处涉黑“保护伞”。紧盯群众反映的突出问题，加大集中整治和督查督办力度，把全面从严治党覆盖到“最后一公里”。\\n第八，推动全面从严治党责任落到实处。加强对所辖地区和部门党组织履行全面从严治党责任情况的监督检查，用好问责利器，做到失责必问、问责必严。加强上级纪委对下级纪委的领导，完善地方纪委派驻体制机制，强化监督职责，推动管党治党责任全面覆盖、层层传导。\\n全会要求，打铁必须自身硬。各级纪检监察机关和广大纪检监察干部要始终做到忠诚坚定、担当尽责、遵纪守法、清正廉洁，始终坚持人民立场、秉持高尚情怀，始终坚持实事求是、求真务实、忠于职守、认真履职。要增强居安思危的忧患意识、许党许国的担当精神，提高履职能力，强化自我监督和自我约束，保持做好新时代纪检监察工作的定力、耐力、活力，保持工作、政策、措施的连续性、稳定性、前瞻性，认真履行好党和人民赋予的光荣使命，确保党和人民赋予的权力不被滥用、惩恶扬善的利剑永不蒙尘。\\n全会号召，要紧密团结在以习近平同志为核心的党中央周围，无私无畏、奋发有为，不断取得全面从严治党、党风廉政建设和反腐败斗争新成效，为落实党的十九大战略部署，决胜全面建成小康社会、夺取新时代中国特色社会主义伟大胜利作出新的更大贡献！\\n']\n",
            "[0, 0, 0.999987, '中央宣传部（国务院新闻办公室）会同中央文献研究室、中国外文局编辑的《习近平谈治国理政》第二卷，2017年11月7日由外文出版社以中英文版出版，面向海内外发行。截至2018年1月12日，该书全球发行超过1000万册，为全党全社会深入学习领会习近平新时代中国特色社会主义思想和党的十九大精神提供了权威教材，为国际社会增进对当代中国和中国共产党的了解提供了最佳读本。\\n《习近平谈治国理政》第二卷收入了习近平总书记在2014年8月18日至2017年9月29日期间的讲话、谈话、演讲、批示、贺电等99篇，分为17个专题，生动记录了以习近平同志为核心的党中央团结带领全党全国各族人民在新时代坚持和发展中国特色社会主义的伟大实践，集中反映了习近平新时代中国特色社会主义思想的发展脉络和主要内容，充分体现了中国共产党为推动构建人类命运共同体、促进人类和平与发展事业贡献的中国智慧和中国方案。\\n除已经出版的中、英文版，该书还将面向各国读者陆续推出更多语种版本。\\n']\n",
            "[0, 0, 0.9999889, '“重整行装再出发，以永远在路上的执着把全面从严治党引向深入”。在十九届中央纪委二次全会上，习近平总书记发表重要讲话，站在新时代党和国家事业发展全局的高度，明确提出当前和今后一个时期全面从严治党的总体要求和主要任务，振奋人心。与会的代表和全国各地党员干部纷纷表示，将认真学习贯彻习近平总书记讲话精神，做好新时代全面从严治党的各项工作。\\n在此次全会上，习近平总书记系统总结了十八大以来全面从严治党的重要经验，强调“成绩来之不易，经验弥足珍贵”，全面从严治党必须持之以恒、毫不动摇，以“越是艰险越向前”的英雄气概和“狭路相逢勇者胜”的斗争精神，坚定不移抓下去。\\n习近平总书记在讲话中强调，“老虎”要露头就打、“苍蝇”乱飞也要拍。如何加大力度整治群众身边的不正之风和腐败问题，尤其是脱贫攻坚领域的形式主义，官僚主义等问题，是与会代表们讨论的焦点之一。\\n各地党员干部在收看了习近平总书记的讲话后表示，总书记的论述指明了方向，在今后的工作中，要重心下移，扑下身子深入群众中去，着力解决群众反映强烈的突出问题。\\n']\n",
            "[0, 0, 0.9999885, '明天出版的人民日报将发表评论员文章，题目是《继往开来 把握全面从严治党好经验——二论学习贯彻习近平总书记十九届中央纪委二次全会讲话精神》。\\n']\n",
            "[0, 0, 0.99998873, '全国总工会、共青团中央、全国妇联、中国科协、中国侨联5家群团组织班子成员会议13日在京召开，中共中央政治局常委、中央书记处书记王沪宁出席会议并讲话。他表示，要坚持以习近平新时代中国特色社会主义思想为指导，紧紧围绕保持和增强政治性、先进性、群众性，深入推进群团改革，扎实做好党的群团工作，团结动员广大群众奋力建功新时代，为实现党的十九大确定的目标任务而奋斗。\\n会上，5家群团组织负责同志作了发言，交流了工作情况，并对做好今年工作提出了意见和建议。\\n王沪宁表示，党的十八大以来，党的群团工作之所以开创新的局面，根本在于以习近平同志为核心的党中央坚强领导，在于习近平新时代中国特色社会主义思想科学指引。习近平总书记对推进群团改革、加强党的群团工作作出一系列重要论述，深刻回答了党的群团事业发展许多重大理论和实践问题，丰富和发展了党的群团工作理论，为做好党的群团工作提供了根本遵循，我们一定要深入学习领会、抓好贯彻落实。\\n王沪宁表示，做好新时代党的群团工作，重中之重是深入学习宣传贯彻党的十九大精神和习近平新时代中国特色社会主义思想。要按照学懂弄通做实的要求，在把握主线、融会贯通上深入，在突出群团特色、增强针对性实效性上深入，在推动落实党中央决策部署上深入，增强“四个意识”，坚定“四个自信”，增强拥护核心、维护核心的自觉性和坚定性，坚定不移听党话、跟党走。要着力加强群团组织建设，毫不动摇坚持党的领导，紧紧围绕党中央关心的大事难事急事来行动，找准工作的切入点、结合点、着力点，动员和引导群众为打赢防范化解重大风险、精准脱贫、污染防治三大攻坚战，实现高质量发展作出贡献。要深入推进群团改革，创新群众工作方式方法，加强基层基础建设，加大服务群众工作力度，健全帮扶困难群众长效机制。要加强群团组织党的建设，落实全面从严治党主体责任，把党的政治建设摆在首位，抓好群团干部队伍建设，营造良好政治生态。各级党委要加强对群团组织的领导，积极为群团组织开展工作创造条件。\\n李建国、沈跃跃、万钢出席会议。\\n']\n",
            "[0, 0, 0.9999781, '今年我国流感流行强度高于过去几年，各地医疗机构采取多项措施积极应对，国家卫计委发布新版的流感诊疗方案，目前一些地区流感流行的上升趋势已经减缓，专家预计随着寒假来临，流感的季节性高峰将出现回落。\\n入冬以来，受气候异常等综合因素叠加影响，我国南北方流感活动水平都上升很快。北大医院的儿科门诊量增加1倍多，医院启动应急预案，增派儿科人手，老专家主动上岗，保证24小时接诊。目前北京140多家医院都可以提供儿科诊疗服务。\\n为了避免一些轻症流感患者频繁跑医院，山西等地的大医院请相关专家借助网络直播，向基层医院和社区居民普及流感防控知识。\\n儿童是流感防控的重点人群，尤其是学校和幼儿园，今年集中暴发的起数也明显高于往年，甘肃等地对这些机构都加大了防控力度。\\n国家卫计委近日发布最新的《流行性感冒诊疗方案》，明确推荐一批抗流感病毒药物，包括西药奥司他韦、成人使用的中成药连花清瘟胶囊、专门用于儿童的中成药小儿肺热咳喘口服液等。目前，抗病毒药物在多地脱销，国家卫计委已要求全国医疗机构紧急采购，北京已紧急配送4万盒抗流感药物调往各医疗机构。\\n流感发病原因和症状、治疗都和普通感冒不同，流感起病急，症状包括发热、头痛、全身肌肉酸痛等，体温一般都高达39至40℃，高热往往持续3至4天。普通感冒起病不急，以嗓子干痒、喷嚏、流鼻涕为主要表现，一般没有发热和全身症状。流感通过飞沫传染，因此隔离防护很重要，家庭护理病人和到医院就诊都应佩戴口罩，避免交叉感染。\\n']\n",
            "[1, 1, 0.99392563, '今天15时10分，我国在酒泉卫星发射中心用长征二号丁运载火箭，成功将陆地勘查卫星三号发射升空，卫星进入预定轨道。该卫星主要用于开展陆地资源遥感勘查。\\n']\n",
            "[1, 1, 0.995262, '随着冷空气逐渐远去，从昨天起我国北方地区气温陆续回升，华北、东北普遍升温4到8℃，局地达到10℃以上。中央气象台预计，到明天，全国大部地区气温将由前期偏低回升到正常或略偏高的水平。\\n']\n",
            "[1, 1, 0.9981866, '第32届中国·哈尔滨国际雪雕比赛今天落幕，来自中国、英国、美国等17个国家及地区的100位选手在规格统一的雪坯上展开创意和技巧的比拼。比赛最终产生25个优秀雪雕作品，将在雪博会现场供游客参观。\\n']\n",
            "[1, 1, 0.99296117, '美国总统特朗普12日发表声明称，最后一次延长针对伊朗核问题的制裁豁免期。这意味着美国暂时没有选择退出伊核问题全面协议。\\n特朗普发表的声明称，伊核协议有“灾难性的缺陷”，他要求美国国会和欧洲国家同意修改协议条款，增加限制伊朗导弹项目等内容。特朗普强调说，此次延长针对伊朗核问题的制裁豁免期，是给欧洲国家同意修改伊核协议的“最后一个机会”。如果没有达成美国期待的协议，美国将“立即退出协议”。\\n同一天，美国财政部宣布以“侵犯人权”等名义对伊朗实施新的制裁，其中包括14个个体和企业。\\n根据相关规定，每隔120天，美国总统都要确定是否延长针对伊朗核问题的制裁豁免期。去年10月，特朗普曾表示拒绝向国会证实伊朗遵守伊核协议。\\n12日，伊朗外长扎里夫通过社交媒体回应说，特朗普的政策和最新表态违反了伊核协议中的条款，伊核协议不可重新谈判，美国应像伊朗一样，全面履行其作出的承诺。\\n欧盟方面发表声明说，已经注意到了特朗普的表态，将进一步对此进行评估。此前，欧盟方面一直重申，坚决维护和履行伊朗核问题全面协议。\\n2015年7月，伊朗与伊核问题六国达成全面协议。根据协议，伊朗承诺限制其核计划，国际社会将解除对伊制裁。国际原子能机构负责督查伊朗履行协议情况，已多次出台报告确认伊朗履行了协议。\\n']\n",
            "[2, 2, 0.9894938, '俄罗斯国防部12日宣布，俄军在叙利亚西北部伊德利卜省发射激光制导炮弹，消灭了曾对俄罗斯驻叙基地发动过袭击的武装分子，还摧毁了此前侦测到的无人机库房。但俄军方没有透露实施此次行动的具体日期。\\n本月5日，俄罗斯驻赫梅米姆和塔尔图斯的军事基地遭到载有爆炸物的无人机袭击，去年12月31日，赫梅米姆空军基地还遭到炮击。\\n']\n",
            "[1, 2, 0.9930239, '韩国统一部12日说，韩国政府当天向朝方提议15日在板门店韩方一侧的“和平之家”举行有关朝方代表团参加平昌冬奥会的实务会谈。13日，韩国统一部再次发表声明说，接到朝鲜方面的建议，称希望15日在板门店朝方一侧的“统一阁”举行工作会谈，讨论朝方派艺术团参加平昌冬奥会表演的事宜。而有关朝鲜派选手和拉拉队参加冬奥会等事宜，朝方建议另行选定时间商讨。\\n']\n",
            "[1, 2, 0.9929368, '美国媒体报道称，美国总统特朗普11日在讨论移民问题时，使用“粪坑”一词来形容海地和一些非洲国家。特朗普12日在社交媒体上予以否认，只是承认确实使用了粗暴的语言。\\n联合国人权事务高级专员办公室发言人科尔维尔12日说，特朗普的言论“令人震惊”。非盟要求特朗普就相关言论道歉。海地政府发表声明，对相关“种族主义”言论“深表震惊和愤怒”。\\n']\n",
            "[2, 2, 0.99652934, '日本经济产业省12日发布公报说，日本有色金属巨头三菱综合材料公司的子公司“三菱铝业公司富士制作所”因对部分产品未按照日本工业标准规定的方法实施检验，已被认证机构吊销工业标准认证。\\n去年11月，三菱综合材料公司承认下属两家子公司三菱电线工业和三菱伸铜存在篡改产品数据的造假行为。\\n']\n",
            "[2, 2, 0.9945892, '12日，沙特阿拉伯西部城市吉达的焦哈拉体育场迎来女性观众。她们与男性观众一起观看沙特足球职业联赛的一场比赛。这是沙特体育场历史上首次对女性开放。\\n去年10月，沙特宣布从2018年初起允许女性进入沙特利雅得等三座城市的体育场观看比赛。\\n']\n",
            "[0, 0, 0.99998873, '近日中共中央印发了《关于建立国务院向全国人大常委会报告国有资产管理情况制度的意见》。\\n意见指出：建立国务院向全国人大常委会报告国有资产管理情况制度，是党中央加强人大国有资产监督职能的重要决策部署，是党和国家加强国有资产管理和治理的重要基础工作，符合宪法和法律有关规定，符合人民群众期待，对于增加国有资产管理公开透明度、提升国有资产管理公信力，对于巩固和发展中国特色社会主义基本经济制度、管好人民共同财富、加强人大依法履职等，具有重要意义。\\n意见还就指导思想和基本原则、报告方式和重点、审议程序和重点、组织保障等作了具体部署。\\n']\n",
            "[0, 0, 0.99998903, '明天出版的人民日报将刊发“宣言”署名文章：《紧紧抓住大有可为的历史机遇期》。\\n文章指出，习近平总书记1月5日在学习贯彻党的十九大精神研讨班开班式上讲话中指出，当前我国正处于一个大有可为的历史机遇期。这是习近平总书记纵观过去、当下与未来的历史演进，通览国家、政党、民族的沉浮兴衰，作出的重大战略判断。\\n文章指出，这个历史机遇，是中华民族强起来、实现伟大复兴的机遇，是中国特色社会主义道路理论制度文化更加成熟、更具引领力感召力的机遇，是中国人民创造美好生活、走向共同富裕的机遇，是中国共产党从建党百年迈向执政百年、进而铸就千秋伟业的机遇。\\n文章指出，这个“历史机遇期”的出现和形成，是中国历史演进的必然、社会主义在中国发展的必然、世界百年大变局的必然。这是中国特色社会主义事业乘风破浪的“飞跃期”，中国特色社会主义制度精进臻善的“成熟期”，中华民族迎来伟大复兴的“关键期”，世界格局剧烈变动的“重塑期”，也是中国共产党带领人民而今迈步从头越的又一个“创业期”。\\n文章强调，历史的契机，正等待坚定者、奋进者、搏击者。紧紧抓住机遇，需要我们“快干”“实干”“会干”。让我们坚定拥戴核心、忠诚紧跟领袖，拿出勇气、鼓足干劲，奋力创造出无愧于历史、无愧于时代的新业绩，大踏步走向更加美好的未来。\\n']\n",
            "[0, 0, 0.99998796, '打赢脱贫攻坚战，陕西省继续推进精准扶贫。十九大后，陕西围绕产业扶贫这个主攻方向，出台一系列新政策、新措施，推进产业扶持入村、入户、入企业，确保贫困户真脱贫、不返贫。\\n这两天，陕西富平的一条条柿饼加工生产线正开足马力，全力完成订单需求，将有很多困难群众从这项产业受益。脱贫工作中，陕西省要求每个贫困村有一个扶贫产业项目，每个贫困户有一个短平快增收项目，脱贫户有长效致富产业。在太白村，有270多个贫困户都享受到了这样的政策扶持。\\n十九大后，富平县推出《产业扶贫扶持办法》，在扶贫效益突出的柿子、花椒、中药材等特色产业上，由企业和贫困村、贫困户签订农产品购销协议，实现“订单脱贫”。新政策出来后，企业也看重了贫困户异地搬迁后劳动力集中的优势，纷纷扩大投资，提高产能，打造地方优质品牌。\\n围绕贯彻落实十九大精神，今年，陕西将健全完善责任制和责任追究制，聚焦深度贫困，从帮扶力量调配、项目资金安排、政策支持等各方面发力，将脱贫攻坚与实施乡村振兴战略有机结合，全面提升贫困地区和贫困户持续发展能力。\\n']\n",
            "[0, 0, 0.9999885, '明天出版的人民日报将发表评论员文章，题目是《持之以恒，坚持全面从严治党不动摇——三论学习贯彻习近平总书记十九届中央纪委二次全会讲话精神》。\\n']\n",
            "[0, 0, 0.99997914, '记者从国家统计局了解到，2018年，我国将建立以旅游、养老、健康等为主的幸福产业统计监测制度,研究建立反映数字经济、共享经济、现代供应链的统计制度；完善全面建成小康社会指标体系，进而建立起新时代现代化统计调查体系。\\n2018年，我国将进一步完善国民经济核算体系，通过完善地区生产总值统一核算实施方案，为正式实施地区生产总值统一核算改革奠定基础。\\n']\n",
            "[0, 0, 0.99998575, '浙江高校不断创新思政教学模式，将思想政治教育融入教书育人全过程，打出了一套思政工作“组合拳”。\\n这是浙江理工大学的一堂思政课，学生利用手机将观点、疑惑弹幕到PPT，老师即时答疑解惑，时尚好玩的形式，不单为了夺回学生的注意力，更重要的是让弹幕成为了解学生思想的媒介。\\n除了紧抓“互联网+”这根教鞭，在浙江，思政教学形式也在创新，专题式、调研式、互动式教学模块，融合了演讲、辩论、情景剧等多种课堂形式，目的只有一个：增强参与感、让学生走心。\\n在课堂之外，当地的红色资源也成为思政教育的活教材。在杭州市小营巷社区，大学生们把假期寻访的红色景点绘成地图、做成模型，带到社区进行宣讲，真实的历史在实践中变得深刻起来。在南湖之畔的嘉兴学院，中国共产党在红船中的诞生历程，被同学们搬上了舞台。\\n从课内到课外，浙江省从课程改革、绩效引导、社会实践等各个环节构建起思政教育大机制。\\n']\n",
            "[0, 0, 0.99998754, '河南在产业扶贫上下绣花功夫，因地制宜引导各地发展特色产业，增添脱贫新动能。\\n塘上发电、塘下养鱼。在河南太康县刘寨村，原来废弃的水塘不仅重新养上了鱼，还又建了光伏太阳能发电设备。贫困户刘宗林告诉记者，现在不仅用电不花钱，每年还有一定的分红。\\n太康县很多村庄遍布着废弃的坑塘，针对这个实际，太康实施了“渔光互补”的产业扶贫模式，财政拿出一部分资金，对167个贫困村的1500多个废旧坑塘进行改造，塘下继续养鱼，塘上建光伏发电设备。这样一来，既改善了环境，又有长期收益。\\n在脱贫攻坚中，河南省按照投资少、风险小、带动大的原则，引导各地培育特色产业，通过引进龙头企业、发展合作社等办法，带动贫困户入股、就业，增加收入。\\n目前，河南各地已形成了林果业、养殖业、农产品加工等6大类特色脱贫产业。2017年，全省特色产业扶贫项目覆盖贫困人口71.3万人。\\n']\n",
            "[0, 0, 0.9999877, '黑龙江加快国有企业改革步伐，通过对“劳动、人事、分配”制度三项改革，让一批沉寂多年的老字号国企重新焕发生机。\\n最近，中国一重正针对企业管理层级多，人浮于事等问题进行整改。围绕企业发展中的相关问题，着手制定深化用人制度等方面的改革规划。\\n在这次改革中，一重将公司管理部门压缩了三分之一。干部能上能下得到落实，不再是一句口号。\\n改革中，中国一重还拿出100万元作为奖金，奖励在完成急难险重生产任务中表现突出的班组和个人。现在在中国一重的车间，到处都能看到劳动竞赛的火热场面。同时，企业还给高科技研发人员建立了“基本薪酬+项目研发计提+成果转让计提”薪酬体系，有效激发了员工的创新积极性。\\n今年，黑龙江还将继续推进国有企业改革，加快20户省属国有企业及其子公司的混合所有制改革，推动企业转变机制，激发内生动力。\\n']\n",
            "[1, 1, 0.9986599, '公安部、工信部等部门和相关企业今天表示,将采取联合治理模式，在区域犯罪治理、系统性对抗、生态化治理等方面加大打击网络黑色产业链力度。同时，进一步提升公众的反诈骗意识，共同构建“网络安全共同体”。\\n']\n",
            "[1, 1, 0.9989459, '天津公安部门日前推出电子证件信息服务，居民通过下载“天津公安”手机应用，实名注册就能绑定身份证、户口本、居住证、驾驶证和行驶证。每次使用时，验证机构利用管理端软件，就可以对用户信息进行核验。\\n']\n",
            "[1, 1, 0.99863464, '春运进入售票高峰期，全国铁路公安机关组织开展了“猎鹰-2018战役”，重点打击非法抢票和倒票行为，共破获倒票案件638起，捣毁倒票窝点138个，缴获车票5.3万多张。\\n']\n",
            "[1, 1, 0.99869984, '这两天，北国江城——吉林省吉林市松花江畔出现雾凇美景。百里江岸雾气缭绕，沿岸树枝凝霜挂雪，在白雪和蓝天映衬下，“寒江雪柳，玉树琼花”，宛若人间仙境。\\n']\n",
            "[2, 1, 0.9758008, '13日，土耳其武装部队对叙利亚西北部阿勒颇省阿夫林地区的多个库尔德武装目标进行炮击。\\n据土耳其媒体报道，土军分别从本国和叙利亚境内的两处阵地发射炮弹，打击对象为库尔德民主联盟党和库尔德工人党目标，炮击至少进行了36次。土耳其军方称，炮击是为了回应库尔德武装的挑衅。不过库尔德武装方面表示，此前并没有采取任何行动，土方炮击没有造成人员伤亡。\\n就在炮击后不久，土耳其总统埃尔多安在土东部埃拉泽省的集会上表示，如果盘踞在阿夫林地区的库尔德武装不立即投降，在叙利亚的土军会将其击溃。埃尔多安说，即使美国继续支持叙利亚境内的库尔德武装，土耳其也会单独开展军事行动以保护自身安全。\\n土耳其认为库尔德民主联盟党及其下属武装组织“人民保护部队”是库尔德工人党在叙利亚的分支，而库尔德工人党被土耳其政府列为恐怖组织。\\n2017年10月，土耳其军方以建立冲突降级区和打击极端组织为名，越境进入叙利亚并开始建造数个观察点，其中一些观察点可以瞭望库尔德民主联盟党控制的阿夫林地区。而阿夫林与叙利亚东北部的库尔德武装主要控制区不相连，目前已基本被土耳其武装部队及其支持的叙利亚反政府武装包围。\\n叙利亚政府方面则多次强调，土耳其在叙利亚的军事存在不合法，任何未与叙政府协商而在叙境内展开的行动都被认定为侵略行为，要求土耳其军队无条件撤出。\\n']\n",
            "[2, 1, 0.62553763, '据俄罗斯媒体报道，俄罗斯在克里米亚地区部署的第二部S－400防空导弹系统13日进入战斗值班，主要用于管控俄乌边境领空。\\n俄罗斯媒体援引俄罗斯空军将领的话报道说，新部署的S－400防空导弹系统能在不到五分钟的时间内进入战斗模式。\\n俄罗斯国家杜马（议会下院）议员别利克此前曾表示，此次部署在塞瓦斯托波尔市的这部S－400防空导弹系统，加上2017年初在克里米亚地区部署的第一部，可以对试图进入克里米亚境内的飞行目标实施交替射击。别利克说，两部S－400防空导弹系统的部署意味着俄军在克里米亚地区已经构建起克里米亚防空圈。\\nS－400“凯旋”防空导弹系统为俄新一代中远程防空导弹系统，可应对各类侦察机、中程弹道导弹、空中预警机等。每套系统可同时制导72枚导弹，打击36个目标。\\n2017年12月22日，美国宣布向乌克兰提供军事装备，增强其防御能力。一天后，俄罗斯回应称，美国直接向乌克兰出售杀伤性武器“越过红线”，俄方不会无动于衷。\\n']\n",
            "[2, 2, 0.9978093, '13日，美国夏威夷居民通过多种途径收到警报，称“夏威夷面临弹道导弹威胁，应立即进入避难所”。不过夏威夷应急管理办公室随后表示，这是一个错误警报。夏威夷州政府已经为此道歉，称警报是应急管理办公室的一名工作人员误发的。不过，由于应急管理办公室没有自动撤销错误警报的程序，错误警报发出后用了半个多小时才最终正式取消，这期间引发不少当地民众恐慌。\\n']\n",
            "[2, 2, 0.99617815, '根据捷克国家统计局13日公布的计票结果，现任总统泽曼和捷克科学院前院长德拉霍什在首轮总统大选中分别位列第一和第二，但由于无人获得超过50%的选票，俩人将在两周后举行的第二轮投票中决出胜负。\\n虽然泽曼在首轮投票中领先，但选前民调显示他将在第二轮遭遇强大挑战。本次大选共有9位候选人，其中有4位在首轮投票中共获得约32.5%选票的候选人目前都已经表示支持德拉霍什。\\n']\n",
            "[2, 2, 0.9966037, '受强烈寒流影响，日本中部地区一些地方13日普降大雪，多地的积雪深度可以达数十厘米，大雪已造成至少4人死亡，多人受伤。\\n大雪还造成日本局部地区交通运输出现混乱。13日，从新潟市开往东京的新干线受积雪影响临时停运。连接名古屋、米原、金泽等地区的部分列车被迫取消。石川县和富山县多个航班因大雪停飞。13日开始的“大学入学考试”也受到了一定的影响。\\n']\n",
            "[2, 2, 0.99743706, '13日，首只在法国出生的大熊猫宝宝“圆梦”在圣艾尼昂市博瓦勒野生动物园正式和公众见面。一大早,“圆梦”就在妈妈“欢欢”的带领下来到熊猫馆室内活动区，吸引了众多“粉丝”。\\n“圆梦”的妈妈“欢欢”和爸爸“圆仔”2012年从中国来法开展为期10年的中法大熊猫繁育合作计划，是目前生活在法国的唯一一对大熊猫。“圆梦”去年8月4日出生，当时体重为142克，目前已超过11公斤。\\n']\n",
            "[2, 2, 0.997908, '美国太空探索技术公司的“龙”货运飞船13日从国际空间站返回地球，带回了超过1800千克的货物和科学样品。被“龙”飞船送回地球的科学实验包括微重力条件下的光纤拉伸实验，拉伸后的重金属氟化物玻璃表现出比多数光纤中的二氧化硅更好的光学特性。\\n这艘“龙”飞船于2017年12月15日升空，向国际空间站运送补给并带去了科学样品。这是该飞船第二次为空间站运送物资并成功返回。\\n']\n",
            "[2, 2, 0.9336941, '近日，在印度建军节阅兵彩排期间发生了惊险的一幕。在进行直升机速降项目演练时，直升机上的绳索突然断开，3名依靠绳索速降的士兵瞬间坠落，最高处的一名士兵离地大概15米高。幸运的是，这三个人只受了轻伤。事故原因仍在调查中。\\n']\n",
            "[2, 2, 0.9903946, '当地时间13日晚，土耳其东北部特拉布宗省一个机场发生飞机冲出跑道事故，好在没有造成人员伤亡。据报道，飞机上载有162名乘客和机组人员，当时飞机在降落时，意外冲出跑道。飞机冲出跑道后顺着跑道边的陡坡滑下，险些坠入海中。特拉布宗省官员说，冲出跑道的飞机机型是波音737-800型客机，当天从土耳其安卡拉起飞。事发机场一度紧急关闭，目前已恢复运行。而飞机冲出跑道的原因还在调查中。\\n']\n",
            "[0, 0, 0.9999889, '中共中央政治局常务委员会1月15日全天召开会议，听取全国人大常委会、国务院、全国政协、最高人民法院、最高人民检察院党组工作汇报，听取中央书记处工作报告。中共中央总书记习近平主持会议并发表重要讲话。\\n会议指出，党的领导是中国特色社会主义最本质的特征，是中国特色社会主义制度的最大优势，是决胜全面建成小康社会、夺取新时代中国特色社会主义伟大胜利的根本保证。事在四方，要在中央。坚持党的领导首先是坚持党中央集中统一领导。全党要牢固树立政治意识、大局意识、核心意识、看齐意识，把维护党中央权威和集中统一领导作为最高政治原则和根本政治规矩来执行。\\n会议强调，党的十八大以来，中央政治局常委会、中央政治局连续3年听取全国人大常委会、国务院、全国政协、最高人民法院、最高人民检察院党组工作汇报和中央书记处工作报告，并将这项工作写入《关于新形势下党内政治生活的若干准则》和《中共中央政治局关于加强和维护党中央集中统一领导的若干规定》。实践证明，这是坚持党中央权威和集中统一领导的重要制度安排，十分必要、很有意义，必须坚持下去。\\n会议认为，过去的一年，全国人大常委会、国务院、全国政协、最高人民法院、最高人民检察院党组自觉坚持党中央集中统一领导，认真贯彻党中央决策部署，围绕党和国家工作全局履职尽责，保证了党中央重大决策部署贯彻落实，推动各项工作取得了新进展新成效，为实现党和国家事业新发展作出积极贡献。同时，充分发挥党组的领导作用，严格贯彻民主集中制，自觉履行管党治党主体责任，加强党组自身建设，坚持不懈正风肃纪，在全面从严治党上发挥了表率作用。\\n会议认为，过去的一年，中央书记处认真贯彻党中央决策部署，协助党中央推进全面从严治党部署要求贯彻落实，指导做好群团工作，推动党内法规完善实施，配合办好一系列重要会议和重大纪念活动，各方面工作取得了新成绩。\\n会议强调，今年是贯彻党的十九大精神的开局之年，是改革开放40周年，是决胜全面建成小康社会、实施“十三五”规划承上启下的关键一年。全国人大常委会、国务院、全国政协、最高人民法院、最高人民检察院党组要增强“四个意识”，自觉同以习近平同志为核心的党中央保持高度一致，认真学习贯彻习近平新时代中国特色社会主义思想和党的十九大精神，把党的政治建设摆在首位，坚持正确的政治立场、政治方向、政治原则、政治道路，确保令行禁止、政令畅通。要坚持稳中求进工作总基调，大兴调查研究之风，提高决策和执行的科学性和有效性，以锐意进取、奋发有为的精神状态推动党中央大政方针和决策部署落地生根。要带头贯彻党章和《中共中央政治局关于加强和维护党中央集中统一领导的若干规定》，带头执行中央八项规定及其实施细则，严守政治纪律和政治规矩，抓好党组自身建设，推动全面从严治党向纵深发展。\\n会议强调，在新的一年里，中央书记处要增强“四个意识”，自觉在中央政治局、中央政治局常委会领导下开展工作，自觉维护习近平总书记党中央的核心、全党的核心地位，把握学习宣传贯彻习近平新时代中国特色社会主义思想和党的十九大精神这条工作主线，观大势、谋全局、议大事，自觉服务大局，突出工作重点，推动党中央重要任务落实见效。\\n']\n",
            "[0, 0, 0.99998814, '经党中央批准，中央纪委13日至15日在京举办十九届中央纪委委员学习贯彻习近平新时代中国特色社会主义思想和党的十九大精神研讨班。中共中央政治局常委、中央纪委书记赵乐际在开班式上强调，要深入学习贯彻习近平新时代中国特色社会主义思想和党的十九大精神，贯彻落实习近平总书记在中央纪委二次全会上的重要讲话精神，努力把十九届中央纪律检查委员会建设成为对党忠诚、敢于担当、本领高强、清正廉洁的坚强战斗集体。\\n赵乐际指出，做好当前和今后一个时期纪检监察工作，要以习近平新时代中国特色社会主义思想为指导，站在新时代历史方位，切实担负起协助党委推进全面从严治党的重大政治责任。准确把握党章赋予纪委的职责定位，强化监督执纪问责，坚决维护习近平总书记在党中央和全党的核心地位，坚决维护党中央权威和集中统一领导。坚持以政治建设为统领，聚焦解决“七个有之”问题，着力解决群众身边的腐败和作风问题，深化运用“四种形态”，坚定不移、精准有效惩治腐败，深化国家监察体制改革，推动反腐败斗争从压倒性态势向压倒性胜利转化。中央纪委委员要带头坚定理想信念、带头对党忠诚、带头担当作为、带头提高本领、带头锤炼作风，用铁的纪律打造让党放心、人民信赖的纪检监察干部队伍。\\n中共中央政治局委员、中央纪委副书记杨晓渡在总结讲话中指出，要坚决维护习近平总书记在党中央和全党的核心地位，以钉钉子精神抓好落实，一刻不停歇地把全面从严治党引向深入，确保新一届中央纪委工作开好局、起好步。\\n']\n",
            "[0, 0, 0.99998844, '十九大闭幕后，贵州省按照习总书记的要求，守好发展和生态两条底线，实施大扶贫、大数据、大生态三大战略，团结奋进、拼搏创新、苦干实干、后发赶超，推出一系列新举措，呈现新气象。\\n前不久，贵州省委主要负责人分别率六个观摩组，对全省九个市州的13390家企业的大数据与实体经济深度融合项目，进行了打分评估，推动企业运用大数据理念和技术，从全领域向数字化、网络化、智能化转型。\\n贵州结合自身实际，形成了新的发展共识：一个是要推动大数据与实体经济深度融合；另一个是要打赢决战农村公路、易地搬迁、产业扶贫、教育医疗住房三保障共四场脱贫攻坚“硬仗”。\\n十九大报告指出：要推动互联网、大数据、人工智能与实体经济深度融合。作为我国首个获批建设国家大数据综合试验区的省份，在新的一年里，贵州加大了推进大数据与实体经济深度融合的力度。\\n在这家航天电器企业，这个直径只有0.2毫米的“麻花针”，是航天电器供不应求的“明星产品”。过去，一直采用生产效率不高的传统手工制作，最近，企业研发的数字化生产系统，使原来100人的生产线，只需10个人就能完成。\\n眼下，贵州正在推动更多领域的产品与大数据进行深度融合。与此同时，作为脱贫攻坚主战场的贵州，脱贫的产业能不能找准，贫困群众能不能赚钱，是新的一年里，贵州脱贫攻坚关注的重点。\\n地处乌蒙山区的黔西县属于贵州66个贫困县之一，营脚村在黔西县是省级一类贫困村，眼前这片千亩大葱基地是营脚村新找准的脱贫产业。\\n营脚村的大葱产业合作社新制定了贫困户与合作社的利益联结机制，有劳力的村民可以种，让合作社代卖；没劳力的贫困户可以拿扶贫资金入股分红。\\n目前，贵州的66个贫困县，都按照有龙头企业带动、创品牌、带农户、产销结合的理念，找到了脱贫产业。除产业扶贫外，贵州省细分致贫原因，对于那些一方水土养不起一方人的地区，贵州重点实施易地扶贫搬迁，计划到2019年要搬迁200万人，2019年底全面完成51.38万户农村危房改造任务。\\n']\n",
            "[0, 0, 0.999974, '中宣部在15日在京召开学习宣传贯彻习近平新时代中国特色社会主义思想系列研讨会首场研讨会，这次会议的主题是“深入学习贯彻习近平新时代中国特色社会主义思想”。来自中央有关部门、社科研究单位、中央媒体、部分地方负责同志以及高校学生代表，围绕会议主题作了交流发言。中央有关部门和单位负责同志、各省区市和新疆生产建设兵团党委宣传部主管理论工作的副部长、习近平新时代中国特色社会主义思想研究中心研究院和思想理论工作“四大平台”部分专家学者共120多人参加了研讨会。\\n会议提出，习近平新时代中国特色社会主义思想是新时代中国共产党人的思想旗帜，是指导我们党推进社会革命和自我革命胜利的强大武器，为发展马克思主义作出了中国的原创性贡献，对中华民族发展和人类文明进步具有深远影响。必须深刻把握这一思想的政治意义、历史意义、理论意义、实践意义，切实增强学习宣传贯彻的政治自觉、思想自觉、行动自觉。\\n']\n",
            "[0, 0, 0.9999854, '去年11月底以来，中宣部组织开展“新时代新气象新作为”主题采访活动，中央及地方媒体推出各类原创稿件4500多篇。为继续深入学习宣传贯彻党的十九大精神，今天，第二场“新时代新气象新作为”大型主题采访活动在陕西延安举行。\\n来自中宣部、中央网信办、国家新闻出版广电总局、中国记协、各省区市宣传部有关负责同志，以及30家中央和地方媒体的编辑记者，专家学者等约150人，参加了今天的座谈会及采访活动。\\n去年11月底，“新时代新气象新作为”主题采访活动在上海中共一大会址纪念馆启动。一个多月来，各媒体推出各类原创稿件4500多篇。广大编辑记者在讲故事、挖细节上花心思，在“时、度、效”上下功夫，推动新思想深入人心，倾情呈现新时代的万千气象。\\n各媒体还充分应用新技术新手段，制作推出有影响、有特色的融媒体产品，提升新闻报道的吸引力、感染力、影响力。\\n']\n",
            "[0, 0, 0.99998856, '明天出版的人民日报将发表评论员文章，题目是《引向纵深，推动全面从严治党再出发——四论学习贯彻习近平总书记十九届中央纪委二次全会讲话精神》。\\n']\n",
            "[0, 0, 0.9985965, '天津面向外籍人士展开全英文十九大精神宣介，增进他们对中国未来发展的信心，也为世界了解新时代的中国搭建桥梁。\\n在天津大学，来自不同国家的外籍教授，聚在一块儿，围绕十九大报告中关于高等教育建设的内容，以及“一带一路带来的机遇和发展”这个主题，全英文学习交流十九大精神。\\n截至目前，天津已举办了20多场面向留学生、外籍教师、外企负责人等外籍人士的全英文宣介会，参与人数近3000人。\\n']\n",
            "[0, 0, 0.9999824, '如何让大学里的思政课不再抽象枯燥，各地高校正在不断丰富课程形式、创新内容载体，努力引导学生成为这门课的主角。\\n在华北电力大学，孙芳老师的每节思政课，都要通过公众号提前征集学生关注的话题，并依此在课堂上设置各种互动环节，比如这堂课，请你晒一张全家福，一下子触动了同学们的真情实感，有幸福的分享，也有歉疚和反思。\\n现在的思政课堂，老师的单向灌输越来越少，在北京科技大学，辩论赛、情景剧、微调查，请学生亮明观点，自己寻找答案。在江苏师范大学、宁波大学、西北农林科技大学，思政课堂延伸到实践中，从淮海战役旧址，到民营经济发展、小城镇和新农村建设，由学生自主申报课题，亲身感受历史和变化。\\n而今，各种适合90后、00后的新媒介载体也成为思政课的助力。中南大学的同学们，把从辛亥革命到解放战争的历史分解为七部微电影，自编自导自演。而江西理工大学的学生则依据本地的历史文化资源，自主开发了一款名为红色记忆的app。对他们来说，无论是革命先烈的角色扮演，还是搜集整理红色故事，都会获得与课本不一样的体会。\\n去年，教育部还组织各高校开展了多个系列的思政课创新活动，包括微电影展映、学生自讲公开课评选、思政课艺术作品展等，让学生成为思政课的主动参与者和创作者。\\n']\n",
            "[0, 0, 0.9999854, '浙江宣传文化部门组织开展“放歌新时代 文化进万家”活动，一大批文化文艺小分队深入基层农村，送去文化大餐。\\n上午十点，气温接近零度，来自浙江省歌舞剧院等文艺团体的演员们刚抵达安吉余村，就开始走台、换装，对每一个细节都格外讲究。\\n舞台上，歌曲、舞蹈、杂技、魔术等轮番上演，更让村民高兴的是，家乡的绿水青山也被文艺小分队搬上了舞台。\\n在文化进万家活动中，文化文艺小分队依托覆盖乡村的文化礼堂，开展了文艺演出、文化讲坛、诗歌书画摄影比赛等活动，仅元旦期间，全省有近8000个农村文化礼堂举办了各类文化活动，参与群众近700万人次。到春节，浙江省有近500支文化文艺服务小分队，将开展近2000项下基层活动。\\n']\n",
            "[0, 0, 0.9999853, '湖南省通过加强对基础数据的运用和分析，提升政府公共服务和管理能力。\\n日前，在长沙，一家家政企业正在进行专场招聘。数十名应聘者的个人信息将同步到当地公安部门，自动完成与全国联网的犯罪记录筛查系统的数据比对。\\n去年以来，长沙已对近百万人次进行了背景筛查，成功检索出3名负案在逃人员。大数据应用也让乡村建设更加高效。这条位于湖南汝城县沙界村的乡村公路，这两年机动车通行量翻了三倍。当地交通部门，对这条近百米长的急转弯路段通行状况、安全事故发生概率等数据进行综合分析后，将其列入今年全省改造项目。\\n目前，湖南已对全省3.8万公里农村公路建立数据。下一步，湖南将全面推进大数据的政务应用。\\n']\n",
            "[0, 0, 0.999986, '全军部队新年开训，聚焦强军备战，强化实战化练兵。\\n空军开训就组织新型战机展开高难课目训练，歼-20进行超视距空战，运-20转战高原机场远程投送，轰-6K夜间紧急出动张弓搭箭，歼-11B大机群远程机动、体系对抗，歼-10C等多型战机驻训高原砺剑雪域。\\n午夜时分，火箭军某旅以一场无预告、无准备的紧急拉动开启了新年训练大幕。途中穿越500米染毒地带、躲避无人机、规避卫星侦察等课目不断。这次夜训难度大、特情多，真正让官兵感受到了浓浓的战场味。\\n海军东海舰队某护卫舰支队连日来把舰艇拉到深海大洋，进行连续72小时对抗训练。他们结合装备陆续更新换代的实际，深挖各型舰艇作战效能，趟出新年度实战练兵、体系用兵新路。\\n武警新疆总队组织近万名官兵到高原雪山、大漠戈壁等复杂地域，进行5天4夜野营拉练。重点完成交通工具反劫持、山地搜剿、通过染毒区、追逃追捕等10个训练课题，在复杂困难条件下检验首长机关组织指挥和部队遂行任务能力。\\n']\n",
            "[1, 1, 0.9982764, '人民银行、银监会等四部门联合印发《关于金融支持深度贫困地区脱贫攻坚的意见》。要求金融部门坚持新增金融资金优先满足深度贫困地区、新增金融服务优先布设深度贫困地区，力争2020年以前深度贫困地区贷款增速每年高于所在省(区、市)贷款平均增速。\\n']\n",
            "[1, 1, 0.99853265, '来自铁路总公司的消息，自1月3日启动春运售票以来，累计发售车票1.3亿张，平稳度过春运首轮售票高峰。其中，12306网站单日最高售票量达到1029.7万张，创历史新高。\\n']\n",
            "[1, 1, 0.99787986, '广东红色文艺轻骑兵新春走基层今天启动。广东省民族乐团等多个文艺团体，近400名文艺工作者将分赴各地市演出，活动将持续到春节。\\n']\n",
            "[1, 1, 0.99908006, '这两天，内蒙古锡林郭勒盟苏尼特右旗与蒙古国边界附近，出现了成群蒙古野驴，它们是国家一级重点保护动物，属世界濒危物种。随着近几年野生动物生存环境的改善，这片区域还发现过黄羊、鹅喉羚、盘羊等国家重点保护动物。\\n']\n",
            "[2, 1, 0.9692963, '一艘载有27名中国游客的快艇14日在泰国南部甲米府皮皮岛海域起火爆炸，导致船上5名中国游客受重伤。目前伤者仍在医院救治，都没有生命危险。\\n根据中国驻宋卡总领馆提供的消息，5名受重伤的中国游客，在皮皮岛医院初步治疗后被送往甲米及普吉的医院，已没有生命危险。大部分受轻伤的游客，已在皮皮岛包扎处理。\\n事发后，中国驻宋卡总领馆紧急部署，派遣工作人员赴事发地看望伤员，敦促医院全力救治，并敦促当地警方和游客协助中心派人赴现场提供协助。\\n事故发生时，艇上还有1名泰国导游和3名泰国籍船员，三名船员都受重伤，目前正在医院接受治疗。此前曾有报道称有一人死亡，但经央视记者核实，事故并未造成人员死亡。泰国媒体报道称，爆炸原因很可能是快艇漏油。\\n皮皮岛位于泰国普吉岛东南约20公里处，1983年被定为泰国国家公园，是近年来热门旅游度假胜地之一。\\n']\n",
            "[1, 1, 0.99490714, '朝鲜和韩国今天在朝韩边境板门店朝方一侧的统一阁举行工作会谈，就朝鲜在平昌冬奥会期间派遣140余人的艺术团赴韩演出达成一致。\\n朝鲜和韩国今天各派出4人参加会谈。双方先后举行了全体会谈和代表会谈，就朝鲜艺术团演出时间、地点、舞台环境等技术问题进行磋商。\\n据韩国统一部的消息，朝鲜方面在会谈中提出本月17日在板门店再次举行工作会谈，商讨朝鲜选手参加平昌冬奥会事宜。韩国方面随后同意接受朝方提议。双方将于17日上午在板门店韩方一侧“和平之家”再次举行工作会谈。\\n']\n",
            "[2, 1, 0.7883927, '由美国主导的国际反恐联盟方面14号表示，将在叙利亚与土耳其、伊拉克边境交界处，建立一支约3万人的“边境安全力量”。土耳其、叙利亚强烈反对。\\n据报道，这一力量将位于幼发拉底河河谷沿岸，以及由库尔德武装控制的叙利亚与伊拉克和土耳其边境地区。这里大体就是美国支持的库尔德武装力量和叙利亚政府军的分界线。\\n在这支约3万人的所谓“边境安全力量”中，有一半由库尔德武装组成，另一半正在招募中。\\n土耳其总统埃尔多安的新闻秘书14日表示，美国的这一计划是不可接受的。美国采取的措施正使恐怖组织合法化，土耳其保留同恐怖主义进行斗争的权利，并将采取一切措施保障国家安全。\\n叙利亚外交部15日谴责美国此举是对叙利亚主权的公然侵犯。\\n']\n",
            "[1, 2, 0.97241473, '当地时间今天上午，伊拉克首都巴格达市中心发生两起自杀式爆炸袭击，目前已造成38人死亡，另外有一百多人受伤。目前尚无任何组织宣称制造了这两起袭击，但极端组织过去经常在伊拉克境内发动类似袭击。这是巴格达近3天内发生的第二起炸弹袭击事件。尽管伊拉克于去年底宣布取得打击极端组织的历史性胜利，但是目前仍有部分极端分子藏身于伊拉克偏远地区，伺机发动袭击，伊拉克安全形势仍不容乐观。\\n']\n",
            "[2, 2, 0.8239328, '以色列国防军14日说，当天凌晨炸毁了巴勒斯坦伊斯兰抵抗运动哈马斯挖掘的一条从加沙地带南部进入以色列，并延伸至埃及境内的地道。\\n这是近两个月以来以色列国防军摧毁的第三条巴方地道。由于加沙地带持续遭到封锁，哈马斯多年来不断挖掘通往埃及或以色列的地道。\\n']\n",
            "[1, 2, 0.9756404, '印度尼西亚首都雅加达证券交易所大楼的二楼平台今天上午出现建筑墙体坍塌。目前已经导致72人受伤，伤者全部被送往附近的医院接受救治。据目击者称，事发时，大楼内人员以为是消防演习，直到看见有人受伤，才知道发生了墙体坍塌事故。事发后，证交所大楼内的人员被紧急疏散，周边地区也被临时封锁。工作人员表示，坍塌事件并未影响到证券交易系统，证交所随后也重新开放。警方排除了爆炸的可能，并已对事故原因展开调查。\\n']\n",
            "[2, 2, 0.97907054, '过去两天里马荣火山活动频繁，今天上午再次出现小规模喷发，菲律宾火山地震研究所已将马荣火山的喷发警戒级别从1级调高至3级，并称有可能在数日内发生大规模喷发。火山周围半径6公里的范围划为危险区域。此外，山体南侧还有一个7公里的延长危险区严禁人员靠近。有报道称火山附近的近万人已被疏散，途径马荣火山附近的部分航班也被取消。马荣火山海拔约2400米，是菲律宾境内最活跃的火山之一。\\n']\n",
            "[0, 0, 0.9999889, '国家主席习近平16日应约同美国总统特朗普通电话。\\n习近平指出，过去的一年，中美关系总体保持稳定并取得重要进展。保持中美关系健康稳定发展，符合两国和两国人民利益，也是国际社会共同期待。双方要保持高层及各级别交往，充分发挥4个高级别对话机制作用并适时举办第二轮对话。中美经贸合作给两国人民带来许多实实在在的利益。双方应该采取建设性方式，通过对彼此开放市场、做大合作蛋糕，妥善解决双方关切的经贸问题。要积极推进两军、执法、禁毒、人文、地方等合作，就重大国际和地区问题保持密切沟通协调。双方要相向而行、相互尊重、聚焦合作，以建设性方式处理敏感问题，尊重彼此核心利益和重大关切，维护中美关系健康稳定发展势头。\\n特朗普表示，美方高度重视对华关系和美中合作，愿同中方一道，加强高层及各级别交往，拓展务实领域合作，处理好两国经贸中的问题，推动双边关系取得更大发展。\\n习近平应询介绍了对当前朝鲜半岛局势的看法，指出朝鲜半岛形势出现一些积极变化。各方应该共同努力把来之不易的缓和势头延续下去，为重启对话谈判创造条件。实现朝鲜半岛无核化，维护朝鲜半岛和平稳定符合各方共同利益，维护国际社会在这个问题上的团结十分重要。中方愿继续同包括美方在内的国际社会一道，密切沟通、相互信任、相互尊重、加强合作，推动朝鲜半岛问题朝着妥善解决的方向不断取得进展。\\n特朗普表示，美方重视中方在朝鲜半岛问题上的重要作用，愿继续加强同中方的沟通协调。\\n']\n",
            "[0, 0, 0.9999889, '国务院总理李克强日前签署国务院令，公布《国务院关于修改<行政法规制定程序条例>的决定》和《国务院关于修改<规章制定程序条例>的决定》，自2018年5月1日起施行。\\n修改的主要内容有：一是把党的领导贯彻落实到政府立法工作的全过程和各方面。二是将“放管服”等方面改革的成熟经验上升为制度规定。三是深入推进科学立法、民主立法、依法立法。四是进一步完善解释和废止程序。\\n']\n",
            "[0, 0, 0.9999888, '全国政协主席俞正声16日在北京与加蓬参议长米勒布举行会谈。\\n俞正声说，中加传统友谊深厚。当前，中加关系呈现加速发展的良好势头，各领域交流合作日益密切。双方保持着高水平的政治互信，经贸等领域务实合作富有成果，文化、教育、卫生等人文领域合作亮点纷呈。2016年，习近平主席和邦戈总统共同决定把中加关系提升为全面合作伙伴关系，为两国关系发展指明了方向。\\n俞正声表示，中方愿同加方加强政治交往，继续在涉及彼此核心利益和重大关切问题上相互理解和支持，不断夯实两国关系的政治基础。中共十九大强调，中国将秉持正确义利观和真实亲诚理念，加强同发展中国家的团结合作，这将为中国同加蓬合作以及包括加蓬在内的非洲国家发展带来新的机遇。中方愿助力加方实现新的发展，并欢迎加方来华出席将于今年举行的新一届中非合作论坛峰会。\\n俞正声说，中国全国政协和加蓬参议院的友好往来为增进中加人民友谊与两国合作发挥了重要作用。在中加关系快速发展的大背景下，双方应增进治国理政、发展经济、改善民生、维护稳定、民族团结等经验交流，为深化中加互利合作和增进两国人民福祉作出更大贡献。\\n米勒布表示，中国对非合作政策富有活力，加蓬非常重视发展与中国的关系，加蓬参议院愿继续加强与中国全国政协之间的友好往来，进一步深化加中全面合作伙伴关系，更好造福两国和两国人民。\\n全国政协副主席兼秘书长张庆黎参加会谈。\\n']\n",
            "[0, 0, 0.9999891, '推进“一带一路”建设工作会议16日在北京召开。国务院副总理张高丽主持会议并讲话。会议深入学习贯彻党的十九大和中央经济工作会议精神，贯彻落实习近平总书记重要讲话和指示精神，总结推进“一带一路”建设工作进展情况，讨论有关文件，研究部署下一步重点工作。\\n中共中央政治局常委、中央书记处书记王沪宁出席会议。\\n张高丽表示，党中央、国务院高度重视“一带一路”建设。习近平总书记在党的十九大报告中强调，积极促进“一带一路”国际合作，努力实现政策沟通、设施联通、贸易畅通、资金融通、民心相通，打造国际合作新平台，增添共同发展新动力。李克强总理也提出工作要求。我们要认真贯彻党的十九大和中央经济工作会议精神，以习近平新时代中国特色社会主义思想为指导，坚持稳中求进工作总基调，推动“一带一路”建设取得新的更大进展。\\n张高丽强调，要凝聚更加广泛的合作共识，增强共建“一带一路”的国际感召力。加强互联互通合作，推进基础设施“硬联通”和政策规则标准“软联通”。提升经贸投资合作水平，深化国际产能合作。创新金融产品，提高金融服务水平。拓展人文交流合作，夯实民意基础。积极履行社会责任，加强生态环境保护。做好风险评估和应急处置等工作，强化“一带一路”建设安全保障。\\n张高丽表示，要牢固树立“四个意识”，坚定“四个自信”，抓好统筹协调，强化督促检查，加强宣传引导，进一步把“一带一路”建设各项工作抓实抓好抓出成效。\\n刘鹤、杨洁篪、杨晶参加会议。\\n']\n",
            "[0, 0, 0.99998915, '全国统战部长会议16日在京召开。中共中央政治局常委、国务院副总理汪洋出席会议并讲话。他强调，要深入学习贯彻习近平新时代中国特色社会主义思想和党的十九大精神，研究谋划新时代统一战线工作，继续抓好以习近平同志为核心的党中央关于统一战线决策部署的贯彻落实，推动统战工作有新气象新作为，为决胜全面建成小康社会、夺取新时代中国特色社会主义伟大胜利作出新贡献。\\n汪洋指出，党的十八大以来，统一战线呈现出团结、奋进、开拓、活跃的良好局面，在凝心聚力、服务大局上取得了重要的历史性成就，为党和国家事业的历史性变革作出了重要贡献。\\n汪洋强调，要把学习贯彻党的十九大精神作为统战工作的核心任务和工作主线，着力在学懂弄通做实上下功夫，以知促行、以行促知。学懂弄通，必须把学习党的十九大精神与学习领会党的十八大以来习近平总书记关于统一战线工作的新理念新思想新战略结合起来，与把握新时代对统一战线的新要求结合起来，与立足统战工作实际结合起来，把学习的成效转化为高度的政治觉悟，转化为科学的思想方法，转化为强大的工作动力。学懂弄通的目的在于做实。要以问题为导向大兴调查研究之风，提高调查研究能力，使调查研究成为统战干部的基本功，着力研究破解统一战线重大理论和实践问题。要切实加强自身建设，打造一支对党忠诚、政治过硬的统战干部队伍，引导统一战线广大成员更加紧密地团结在以习近平同志为核心的党中央周围，画出共同团结奋斗的最大同心圆。\\n中共中央书记处书记、中央统战部部长尤权主持会议。\\n']\n",
            "[0, 0, 0.99998826, '江西省按照习近平新时代中国特色社会主义思想的要求，把经济建设与生态保护紧密结合，加快建设国家生态文明试验区步伐，打造美丽中国“江西样板”，坚定不移地走经济建设与生态保护相得益彰的绿色发展新路子。\\n党的十九大闭幕不久，江西省委召开常委扩大会议、省市县乡四级领导干部视频会议、全省市厅级主要领导干部研讨班，传达学习党的十九大精神。力求找到新方向、拿出新规划、明确新任务。\\n按照习近平新时代中国特色社会主义思想的要求，江西省提出：要补短板、扬优势，明思路、定措施，加快“创新引领、绿色崛起、担当实干、兴赣富民”新步伐，建设富裕美丽幸福江西。\\n在石城县，琴江流域生态保护与修复工程正在紧张施工，这是江西山水林田湖生态保护修复工程中的一个项目，要进行生态护岸建设、支流口改造、植被恢复等。\\n十九大报告中明确指出，要建立市场化、多元化的生态补偿机制。江西省计划在2018年修订完善流域生态保护补偿办法，逐步构建覆盖全省、统一规范的全流域生态补偿制度。\\n2018年，是全面贯彻落实党的十九大精神开局之年，是决胜全面建成小康社会的关键一年。江西省对照本省省情，深入开展脱贫攻坚，保证全体人民在共建共享发展中有更多获得感，明确提出：贫困群众要摘掉“穷帽子”，必须吃上“生态饭”。\\n在地处赣江源头的国家级贫困县瑞金市，当地正在通过大力发展绿色特色农业、生态绿色旅游，实现贫困户脱贫摘帽的目标。\\n在实施绿色发展、打造美丽中国“江西样板”的同时，江西也加快了实施创新驱动工程的步伐。2017年11月，首届世界赣商大会，签订投资项目资金达3000多亿元，项目主要集中在绿色生态和科技创新领域，绿色崛起的江西正受到各方青睐，发展跃上了新台阶。预计2018年全省生产总值有望突破2万亿大关，城镇居民人均可支配收入有望跨越3万元台阶。50万老区贫困群众将告别贫困，过上更加幸福的生活。\\xa0\\xa0\\xa0\\xa0\\xa0 \\n']\n",
            "[0, 0, 0.99998707, '中央军委近日印发《中央军委巡视工作条例》，自2018年1月15日起施行。《条例》共7章47条，明确规范了巡视工作的指导思想、巡视机构和人员、巡视范围和内容、工作方式和权限、工作程序以及纪律与责任等，《条例》为当前和今后一个时期，军队开展巡视工作提供了基本制度遵循。\\n']\n",
            "[0, 0, 0.9999813, '国家税务总局最新数据显示，2017年，我国高新技术企业享受的所得税等税收优惠超过了2400亿元。税收优惠政策的精准落地，减轻了企业压力，更激活了经济增长的内生动力。\\n就在不久前，巴基斯坦迎来了首列“中国造”高端地铁列车。这种列车最特别的，就是能在当地60摄氏度的特高温环境下，持续提供空调、照明和牵引动力。为了完成车辆技术攻关，作为这种地铁列车的生产商，这几年，中车株机的研发经费都超过了销售收入的5%。而企业持续加大研发投入的一个重要原因，就是来自于减税红利。2017年，中车株机通过营改增、支持企业创新的税收优惠等政策，全年收到的税收礼包就超过6亿元。\\n为了确保国家减税政策加速落实，两年多来，我国深化国税地税征管体制改革，税务部门转变税收服务管理方式，持续加大对实体经济的支持力度。\\n数据显示，2017年，高新技术企业减按15%税率缴纳所得税等税收优惠政策，共减税2400多亿元；在支持小微企业发展方面，减半征收企业所得税、免征增值税等税收优惠政策，共减税超过1600亿元，惠及3600多万户纳税人。\\n']\n",
            "[0, 0, 0.99998724, '中央宣传部、中央文明办等15部委联合下发通知，要求深入学习贯彻党的十九大精神，充分发挥文化科技卫生“三下乡”活动的品牌效应和示范作用，进一步动员社会各方力量，大力组织开展“三下乡”活动，深入实施乡村振兴战略，助力精准扶贫，补齐“精神短板”。\\n通知强调，各地各部门要紧密团结在以习近平同志为核心的党中央周围，把开展“三下乡”活动作为重要民生工程，加大投入力度，出台扶持政策，更好地服务基层、服务农民。\\n']\n",
            "[0, 0, 0.9999634, '教育部今天发布了新修订的普通高中课程方案和标准。新课程方案和标准将于2018年秋季学期开始执行。\\n新修订的普通高中课程方案对课程结构进行优化，将课程类别调整为必修课程、选修性必修课程和选修课程，既保证基础性，又兼顾选择性。\\n在课程标准方面，各学科结合自身特点，加强了中华优秀传统文化教育和革命传统教育。其中，语文课标的变化最为突出，要求学生广泛阅读从先秦至清末各个时期的优秀古诗文，并将原标准中的14篇诵读推荐篇目提高到72篇背诵推荐篇目。\\n新的课程标准还首次凝练了各个学科的核心素养，并新增学业质量要求，同时明确强调突出实践环节，注重课程内容的与时俱进。\\n身边的感动\\n寒冷的冬天，总有一种力量在温暖着我们。在浙江杭州，一位年轻女子爬上楼顶欲轻生；在广西南宁，一位老人突发心梗，生命垂危。危急关头，众人挺身而出。\\n浙江杭州：年轻女子欲跳楼 众人合力营救\\n1月12日下午2点，杭州市下城区某小区的楼顶上，一年轻女子爬到16楼顶楼平台外欲轻生。这一幕幸好被住在顶楼的一对夫妻看见。两人报警之后立即跑上楼顶，并在女子跳楼的瞬间死死抓住她的手和衣领。\\n民警赶到现场后发现，由于墙体的落差较大，且轻生女子一直挣扎，仅仅从上方拽住无法将其拖回。情急之下，民警汪豪斌当机立断，从侧面徒手翻出护墙，踩在仅半米左右宽的平台上，沿着边缘挪到女子身边，托举轻生女子近一分钟，就这样你托我拽，最终成功救下女子。\\n广西南宁：老人心梗倒地 乘客心肺复苏抢救\\n在广西南宁，609路公交车上，一名老人突发心梗，晕倒在地，同行的家属赶紧搀扶，公交车司机立即停车上前询问情况。\\n公交司机立即启动车辆赶往下一站广西民族医院，然而晕倒的老人已经不省人事。千钧一发之际，坐在后排的一名女子挺身而出，跪着给老人开始进行心肺复苏。另一名热心乘客也赶紧帮忙找急救药品，并跑下车呼唤医护人员，2分钟后，医生赶到了现场，老人被送往医院。由于及时进行了心肺复苏，经过医院抢救，目前老人已经脱离了生命危险。\\n']\n",
            "[1, 1, 0.9981721, '今天，国家版权局、国家网信办、工信部和公安部联合通报“剑网2017”专项行动成果。专项行动开展以来，共关闭侵权盗版网站2554个，收缴侵权盗版制品276万件，查办刑事案件57件、涉案金额1.07亿元。\\n']\n",
            "[1, 1, 0.99859357, '记者从国家认监委获悉，截至2017年底，全国有2620家出口食品农产品企业的9866种产品达到“同线同标同质”要求。“同线同标同质”指的是内外销产品在同一生产线、按照相同的标准生产，从而达到相同的质量水平。\\n']\n",
            "[1, 1, 0.99825245, '我国拥有自主知识产权的新型综合科考船“东方红3”号今天在上海下水，该船长103.8米，宽18米，可连续航行15000海里，是同级别中容纳科考人员最多，搭载科考设备最全的综合科考船。\\n']\n",
            "[1, 1, 0.99786127, '我国沿海高铁通道的收官之作——盐城至南通高铁今天开工建设，沿海高铁通道是我国“八纵八横”高速铁路网的重要一纵。盐城至南通高铁正线长156.6公里，设计时速350公里。建成后苏北地区将纳入全国高铁网。\\n']\n",
            "[1, 1, 0.9978198, '国家标准委发布消息，今年将抓紧推进第三方支付信息安全、污染物排放等领域标准制修订。开展航空航天装备、智能制造等领域标准研制，全面提升我国标准化管理水平。\\n']\n",
            "[1, 1, 0.99854857, '全国“扫黄打非”办公室今天公布5起涉儿童色情信息典型案件。2017年以来，“扫黄打非”部门严打各类网上传播儿童色情信息行为，并严惩向未成年人传播淫秽色情信息或制作传播儿童色情信息的互联网企业和个人。\\n']\n",
            "[1, 1, 0.66718, '日前，曾某因以危险方法危害公共安全罪被判处有期徒刑十年。去年1月21日，司机曾某驾驶货车在高速公路上发生碰撞，在货车完全可以移动情况下，曾某将车停在主道上，离开了现场。之后一辆载有5人的越野车撞上货车，造成两人死亡，一人重伤。这是全国首个因高速公路违法停车而以危险方法危害公共安全罪判处的案列。\\n']\n",
            "[1, 1, 0.9986436, '受冷空气影响，新疆、内蒙古部分地区迎来强降雪。在乌苏市，积雪深度达到10厘米，当地出动大型设备清扫道路。今天，上海、浙江、江苏局地出现大雾天气，导致多条高速公路封闭，轮渡停航。\\n']\n",
            "[1, 1, 0.9417808, '针对美国主导的国际联盟试图在叙利亚东北部组建所谓的“边境安全力量”，俄罗斯、土耳其等多国谴责美国企图分裂叙利亚。\\n俄罗斯外交部长拉夫罗夫15日表示，美国的这一做法无助于解决叙利亚危机，可能将会导致叙利亚分裂。\\n同一天，俄罗斯联邦委员会信息委员会主席普什科夫在社交媒体发表评论说，美国表面上主张维护叙利亚领土完整，但实际上是在试图分裂叙利亚，这是对叙利亚主权的粗暴践踏，违反了联合国宪章和国际法。有分析称，美国此举实质上是为了维持美国在叙东北部的长期军事存在。\\n根据美国主导的国际联盟公布计划，这支建立在叙利亚东北部的武装最终将达到3万人，其中一半人员将来自当地主要反政府武装“叙利亚民主军”。受到美国支持的“叙利亚民主军”中很大一部分是库尔德武装，而土耳其政府将库尔德武装视为恐怖组织。\\n土耳其总统埃尔多安15日表示，美国是在组建一支“恐怖部队”，土耳其将会在这一武装还未组建完成之前，将其“扼杀”在摇篮中。\\n埃尔多安还警告说，土耳其军队已做好准备，随时可以在叙利亚西北部地区发起行动，打击当地的库尔德武装。\\n']\n",
            "[1, 1, 0.99258846, '巴勒斯坦解放组织中央委员会15日宣布，巴方将暂停承认以色列国，双方之前达成的和平协议不再有效。同时，巴方不再接受美国作为巴以和平进程的调解方。\\n巴解组织中央委员会当天发表公报说，巴方将暂停承认以色列，直至以方接受巴勒斯坦以1967年边界为基础建立国家，结束对东耶路撒冷的占领并停止在约旦河西岸建设犹太人定居点。巴方近期目标是实现巴勒斯坦国独立。\\n根据公报，巴方不再承认巴以双方在实现和平过程中于奥斯陆、开罗、华盛顿等地签署的一系列和平协议的有效性。巴方敦促联合国担负起促进巴以和平的责任。\\n巴解组织在公报中说，巴方拒绝接受美国总统特朗普承认耶路撒冷为以色列首都并将启动“迁馆”进程的决定，在特朗普收回相关决定之前，巴方不再承认美国作为和平进程调解方的身份，也不再视美国为和平进程伙伴。 \\u3000\\n1993年，巴解组织曾宣布承认以色列国，以色列则承认巴解组织为巴勒斯坦人民合法代表。双方在美国担任主要调解方的和平进程中曾达成包括“奥斯陆协议”在内的多项和平协议。然而，由于双方在耶路撒冷地位、犹太人定居点等核心问题上分歧严重，谈判多年，始终难有实质进展。\\n']\n",
            "[1, 2, 0.9852508, '据英国国防部发言人表示，当地时间15日上午，英国皇家空军两架“台风”战斗机从苏格兰一个空军基地升空，拦截两架飞临英国领空的俄罗斯军机。该发言人表示，当时这两架俄罗斯军机飞临英国领空，并且在英国空管部门向他们提出问话时，这两架俄军机飞行员并未作答，因此，英方认为这两架俄罗斯战机有“威胁”，从而派出两架“台风”战斗机伴飞，直到驱离俄军机为止。不过，英国国防部承认，俄罗斯军机并未进入英国领空。\\n']\n",
            "[2, 2, 0.996703, '希腊议会15日通过新的一揽子紧缩和改革法案，以便及时获得下一笔救助贷款。新法案包括减少家庭补助、提高工会发动罢工的难度等内容。法案遭到了希腊主要工会组织的抗议。\\n根据希腊政府2015年与国际债权人达成的第三轮救助协议，债权人同意向希腊提供860亿欧元救助资金，但希腊需要实施一系列改革和紧缩措施才能得到这些资金。\\n']\n",
            "[2, 2, 0.9970729, '15日，利比亚海岸警卫队对被困利比亚海域的多艘偷渡船展开营救，共救起约400名非法移民，没有人员伤亡。本月9日，利比亚海岸警卫队曾从三艘偷渡船中救起近300名非法移民。\\n2011年以来，利比亚安全局势持续恶化，政府无法对海岸边界实施有效管理。一些非法移民以利比亚为中转站，穿越地中海偷渡至欧洲国家，其中不少人葬身大海。\\n']\n",
            "[2, 2, 0.9966884, '15日，哥伦比亚中部一座在建桥梁发生坍塌，造成了至少10人死亡，多人受伤。这座大桥是连接哥伦比亚首都波哥大和比亚维森西奥城之间高速路网的一部分。事故发生时，桥梁还没有投入运营，有20名建筑工人正在桥上作业，事故原因正在调查之中。\\n']\n",
            "[2, 2, 0.99737936, '菲律宾马荣火山活动日渐加剧，15日火山口有多股岩浆溢出，顺着山体缓慢流下。当地政府已将火山周边超过1.2万居民紧急疏散，可能受影响的学校全部停课，部分学校被用作疏散中心。\\n据菲律宾官方监测结果，马荣火山于13日开始出现频繁活动迹象，目前火山喷发的警戒级别从5级中的2级升至3级，这预示着马荣火山有可能在数天内大规模喷发。\\n']\n",
            "[2, 2, 0.9947179, '比利时安特卫普的一栋楼房15日发生爆炸，导致楼房完全坍塌，20人受伤。爆炸还波及到周边多栋房屋，导致出现不同程度的损坏。救援人员在现场展开搜救行动。\\n根据警方的初步调查，这次爆炸事件与恐怖袭击无关，目前怀疑是由于楼房一层餐厅发生燃气泄漏引起的爆炸。\\n']\n",
            "[2, 2, 0.9974616, '澳大利亚日前发起了一项创新性研究项目，面向全球各界人士征集拯救大堡礁的方案，获胜者最高可以获得200万澳元（约合1025万元人民币）的经费。大堡礁是世界上最大的珊瑚礁生态系统。近年来，大堡礁因珊瑚礁内珊瑚虫逐渐死亡出现大规模白化现象。其中，气候变化引起的海洋温度上升是大堡礁面临的最大威胁。\\n']\n",
            "[0, 0, 0.9999889, '中共中央政治局常委、国务院总理、党组书记李克强，16日主持召开国务院党组会议，学习贯彻习近平总书记在十九届中央纪委二次全会上的重要讲话精神，部署在新起点上深入推进政府系统全面从严治党工作。\\n会议指出，本届政府以来，国务院党组和各部门党组（党委）坚决贯彻党中央部署，推进依法行政，严政纪、转政风、强监管、肃贪腐，政府系统全面从严治党迈上新台阶。要深入贯彻党的十九大精神，以习近平新时代中国特色社会主义思想为指导，落实管党治党政治责任，深入推进全面从严治党。\\n会议强调，要落实习近平总书记重要讲话和部署，增强“四个意识”，坚定“四个自信”，以党的政治建设为统领，坚决维护习近平总书记党中央的核心、全党的核心地位，维护党中央权威和集中统一领导，把党中央决策部署不折不扣贯彻到政府工作方方面面，持之以恒正风肃纪，推动全面从严治党取得新成效。\\n一要严格落实全面从严治党主体责任。更加紧密团结在以习近平同志为核心的党中央周围，坚持和加强党的全面领导。\\n二要坚定不移执行中央八项规定及其实施细则，反对特权，纠正形式主义、官僚主义等“四风”突出问题。大兴调查研究之风，为疏解群众难点堵点痛点多做实事。\\n三要坚持以深化改革铲除滋生腐败土壤。深化“放管服”改革，推进简政减税减费，从源头遏制腐败。\\n四要严防严惩重点领域腐败问题。管好用好财政资金，强化公共资源交易、配置监督。\\n张高丽、刘延东、汪洋、马凯、杨晶、常万全、杨洁篪、郭声琨、王勇出席。\\n']\n",
            "[0, 0, 0.99998915, '国务院总理李克强1月17日主持召开国务院常务会议，决定扩大“证照分离”改革试点事项，探索形成可复制经验，进一步改善营商环境；确定进一步支持返乡下乡创业的措施，激活农村资源要素促进乡村振兴。\\n会议指出，深化“放管服”改革，从实施“先照后证”“多证合一”到推进“证照分离”，是落实党的十九大精神和中央经济工作会议部署、进一步降低市场准入门槛、破解准入不准营顽疾、更大释放创业创新活力的重要举措。会议决定，在前期已对116项审批事项开展“证照分离”试点基础上，由上海市进一步在浦东新区对商事制度、医疗、建设工程等10个领域47项审批进行改革试点，推进“照后减证”。一是凡不涉及产品质量安全和产业政策的生产许可前置条件一律取消。企业申请并作出质量安全承诺后，可先领取生产许可证开展生产。二是取消社会办医疗机构乙类大型医用设备配置许可证核发等审批。对港口经营许可、外商投资建筑业企业资质许可等16项审批改为实行告知承诺制。缩短药品、医疗器械准入周期。三是推行网上办税。全面推行跨区域、跨层级、跨部门综合执法和“双随机一公开”监管。上述改革通过一年试点，形成更多可复制的经验，向上海全市和全国更大范围推广。国务院将按法定程序正式修改有关行政法规。各地都要积极探索，使政府把更多精力放到事中事后监管上，推动形成公平公正竞争环境，让市场主体提供更多高质量的产品和服务。\\n会议指出，进一步支持农民工、高校毕业生和退役士兵等返乡下乡创业，有利于促进实施乡村振兴战略，开辟就业新渠道、培育发展新动能。会议确定，强化县级政府主体责任，一是返乡下乡创业人员可享受当地同等的创业扶持政策。将首次创业、正常经营1年以上的返乡创业农民工纳入一次性创业补贴范围。二是将“政府+银行+保险”融资模式推广到返乡下乡创业企业。村庄建设用地整治复垦腾退的指标优先用于返乡下乡创业。三是实施返乡下乡创业培训行动，使有意愿的创业者都能接受一次财政补贴的创业培训。四是实施引才回乡工程，吸引专家学者、技能人才、工商资本参与扶持返乡下乡创业。五是按规定将返乡下乡创业人员纳入就业援助、社会保险和救助体系。\\n会议还研究了其他事项。\\n']\n",
            "[0, 0, 0.99998885, '中共十二届全国人大常委会党组16日召开会议，认真学习领会习近平总书记在十九届中央纪委二次全会上的重要讲话和全会精神，研究部署贯彻落实工作。全国人大常委会委员长、常委会党组书记张德江主持会议并讲话。\\n会议指出，习近平总书记的重要讲话，着眼中国特色社会主义新时代，发出全面从严治党新号令，充分展现了坚定信仰信念、鲜明人民立场、顽强意志品质、强烈历史担当，为新时代开创全面从严治党新局面提供了重要遵循和前进方向。全国人大常委会党组要深入学习贯彻习近平总书记重要讲话精神，全面贯彻落实党的十九大和十九届中央纪委二次全会精神，以永远在路上的执着在全国人大及其常委会把全面从严治党引向深入。\\n会议强调，全国人大常委会党组要始终把党的政治建设摆在首位、作为统领，坚定自觉地维护习近平总书记在党中央和全党的核心地位，维护以习近平同志为核心的党中央权威和集中统一领导，在政治立场、政治方向、政治原则、政治道路上同以习近平同志为核心的党中央保持高度一致，确保党中央集中统一领导贯穿于人大工作各方面和全过程。要严守政治纪律和政治规矩，全面担负起全面从严治党政治责任，营造风清气正的良好政治生态。\\n会议要求，全国人大常委会党组要坚持以人民为中心，贯彻党的群众路线，密切同人大代表、人民群众的联系，保持对人民的赤子之心。要广泛深入开展调查研究，到人大代表中去，到人民群众中去，虚心听意见，认真察实情，切实把党中央的决策部署不折不扣地一项一项抓好贯彻落实。\\n']\n",
            "[0, 0, 0.99998826, '全国人大常委会委员长张德江17日在人民大会堂会见了加蓬参议长米勒布。\\n张德江说，加蓬是中国在非洲的传统友好国家和重要合作伙伴，两国各领域合作成果显著。双方要落实好两国元首达成的重要共识，进一步丰富中加全面合作伙伴关系内涵，推动两国关系取得更多实实在在的成果，更好造福两国和两国人民。中国全国人大重视发展与加蓬参议院和国民议会的友好关系，愿进一步密切交往，增进政治互信，推动经贸合作，促进人文交流，加强立法监督、治国理政等交流互鉴，为深化中加全面合作伙伴关系作出更大贡献。\\n米勒布说，加方高度重视发展对华关系，愿同中国全国人大加强交流合作，推动两国友好关系和务实合作迈上新台阶。\\n张平参加会见。\\n']\n",
            "[0, 0, 0.99998873, '中共政协第十二届全国委员会党组17日上午在京召开会议，传达学习贯彻习近平总书记在十九届中央纪委二次全会上的重要讲话和全会精神。全国政协主席、党组书记俞正声主持会议并讲话。\\n会议认为，习近平总书记的重要讲话，站在新时代党和国家事业发展全局的高度，深刻阐述了党的十九大关于全面从严治党的战略部署，进一步总结了党的十八大以来全面从严治党的重要经验，深入分析了党面临的风险和挑战，明确提出了当前和今后一个时期全面从严治党的总体要求和主要任务，体现了党中央坚持全面从严治党的政治自信和责任担当，再次表明了我们党持续改进作风、惩治腐败的坚强意志和坚定决心。\\n会议强调，全国政协党组一要把学习贯彻党的十九大精神和习近平总书记在十九届中央纪委二次全会上的重要讲话精神，作为当前和今后一个时期人民政协的首要政治任务，在学懂弄通做实上下功夫。二要坚决维护习近平总书记在党中央和全党的核心地位，坚决维护党中央权威和集中统一领导，始终在政治立场、政治方向、政治原则、政治道路上同党中央保持高度一致。三要带头落实中央八项规定精神，坚决防止“四风”反弹回潮。四要切实担负管党治党主体责任。认真贯彻习近平总书记提出的“六个相统一”的要求，严格执行党的政治纪律和政治规矩，加强对机关党组和专委会分党组的领导，从严要求政协委员和政协机关干部；积极支持中央纪委驻全国政协机关纪检组的工作，严肃执纪；找准工作中的薄弱环节，针对突出问题，切实加以改进。\\n']\n",
            "[0, 0, 0.99998766, '十九大后，重庆抓住老百姓最关心、最直接、最现实的利益问题，盯住民生做实事，让群众的生活更有质量。\\n不久前，重庆曾家路桥次费收费站被正式拆除。从那一刻起，重庆正式取消征收主城区路桥通行费，全市18个收费站全部退出历史。\\n重庆征收主城区路桥通行费是从2002年7月开始的，由于当时大量路桥建设采用“贷款建设、收费还贷”的模式，所以主城区小汽车路桥通行费每年征收2000元，2004年这个费用又上调15%。而外来车辆进入主城区每天则要缴费25元。\\n今年，主城区路桥通行费取消后，重庆市政府将筹措资金，偿还回购路桥隧贷款费用。这是重庆在十九大后，经过广泛调研，推出的十几项民生实事之一。\\n在重庆这批民生实事中，公共绿地、公共厕所的建设都包含其中，件件与百姓生活相关。\\n在重庆渝中区，15个公共停车场正在建设中，主要分布在重点商圈、学校医院、老旧小区等地，将新增停车位3500个；在渝北区，当地将公共直饮水设置和新建改造市政园林设施结合起来，市民们大冷天也能喝到免费的热水。\\n下一步，重庆还将梳理更多的民生实事，逐步实施。\\n']\n",
            "[0, 0, 0.99998355, '国资委今天在国新办发布2017年中央企业经济运行情况。2017年，中央企业供给侧结构性改革成效显著，全年实现营业收入26.4万亿元，同比增长13.3%；实现利润总额14230.8亿元，首次突破1.4万亿，同比增长15.2%。\\n2017年央企共化解钢铁过剩产能595万吨、煤炭过剩产能2703万吨，提前超额完成全年目标任务。\\n']\n",
            "[0, 0, 0.9998179, '商务部数据显示，2017年我国新设外商投资企业35652家，实际使用外资8775.6亿元人民币，同比增长了7.9%，利用外资规模创历史新高。高技术产业实际吸收外资占比达28.6%，高技术服务业实际使用外资同比增长93.2%；中部地区实际使用外资增速领跑全国。\\n数据还显示，2017年我国新增非金融类对外直接投资1200.8亿美元，其中对“一带一路”沿线59个国家新增投资143.6亿美元。对外投资主要流向租赁和商务服务业、制造业等领域。房地产业、体育和娱乐业没有新增项目，非理性对外投资得到有效遏制。\\n']\n",
            "[0, 0, 0.9951302, '最高人民法院今天发布关于审理涉及夫妻债务纠纷案件适用法律有关问题的解释，就当前司法实践中争议较大的夫妻共同债务认定问题作出明确规定。\\n司法解释明确规定，夫妻双方共同签字或者夫妻一方事后追认等共同意思表示所负的债务，应当认定为夫妻共同债务。\\n夫妻一方在婚姻关系存续期间以个人名义为家庭日常生活需要所负的债务，债权人以属于夫妻共同债务为由主张权利的，人民法院应予支持。\\n夫妻一方在婚姻关系存续期间以个人名义超出家庭日常生活需要所负的债务，债权人以属于夫妻共同债务为由主张权利的，人民法院不予支持，但债权人能够证明该债务用于夫妻共同生活、共同生产经营或者基于夫妻双方共同意思表示的除外。\\n最高法有关负责人表示，在形成大额债务时要求夫妻双方签字，体现夫妻双方的意思表示，一方面可避免举证困难，另一方面也可以避免纷争。\\n该司法解释明天起施行。\\n']\n",
            "[0, 0, 0.99992204, '国家海洋局今天出台13项措施，来加强今后全国围填海管控。\\n新措施包括：违法且严重破坏海洋生态环境的围海，分期分批一律拆除；非法设置且严重破坏海洋生态环境的排污口，分期分批一律关闭；围填海形成的、长期闲置的土地，一律依法收归国有；审批监管不作为、乱作为，一律问责等。\\n2017年国家海洋督察组对辽宁、河北、江苏、福建、广西、海南6省区进行了围填海专项督察，发现部分地区存在盲目填海，填而未用、长期空置；违规改变围填海用途，损害生态环境；违法审批，监管失位以及近岸海域污染防治不力等突出问题。\\n']\n",
            "[1, 1, 0.99836135, '《电动自行车安全技术规范》日前向社会公示。新标准由原来的部分条款强制改为全文强制，要求电动自行车必须具有脚踏骑行功能，最高车速不能超过每小时25公里。\\n']\n",
            "[1, 1, 0.9983125, '记者从民航局了解到，今年春运期间，民航将运输旅客6500万人次，比去年春运增长10%左右。截至1月16日，国内外航空公司共计划安排春运期间加班、包机近12500班。\\n']\n",
            "[1, 1, 0.99864376, '全国首个通关信用平台近日在厦门海关启动，中小微进出口企业可以凭借良好的海关信用，无需提供其他资产证明即可获得银行贷款。下一步，海关通关信用平台将陆续在全国推广。\\n']\n",
            "[1, 1, 0.9985349, '今天，川藏铁路拉萨到林芝段桑珠岭隧道全线贯通，隧道全长16449米，是拉林段首座贯通的超长隧道。预计2021年拉林段通车后，从拉萨到林芝坐火车只需要3个小时。\\n']\n",
            "[1, 1, 0.9981234, '市场调查机构欧睿国际发布的2017年全球大型家用电器调查数据报告显示，中国海尔以10.5%的市场份额，位列全球第一，这也是海尔连续第9年蝉联全球第一。\\n']\n",
            "[1, 1, 0.9987268, '我国两只大熊猫“金宝宝”和“华豹”今天启程前往芬兰，进行为期15年的国际交流项目。两只大熊猫抵达芬兰后，在进行约一个月的隔离检疫后，预计在二月中旬与当地民众见面。\\n']\n",
            "[1, 1, 0.9988081, '这几天，新疆北部不少地方迎来降雪天气。霍尔果斯最低温度降至零下12摄氏度。在奎屯，降雪给车辆出行带来困难，当地立即进行除雪保障道路畅通。\\n']\n",
            "[1, 1, 0.9954807, '针对近日美国宣称将在叙利亚东北部边境地区打造一支所谓“边境安全力量”，伊朗外交部16日指责说，美国此举是干涉叙利亚内政。\\n伊朗外交部发言人加塞米16日说，美国企图联合叙利亚库尔德武装主导的“叙民主军”建立所谓“边境安全力量”，是对叙利亚内政的公然干涉，美国的作法只会使叙利亚局势复杂化，导致局势不稳定，甚至引发冲突。美国应改变其对中东的“破坏性”政策。\\n同一天，土耳其总统埃尔多安重申土耳其军方已经准备好，随时攻打叙利亚北部城镇阿夫林，他还表示这一计划得到了叙利亚一些反对派武装的支持。埃尔多安说，土耳其是在帮助叙利亚人保护自己的领土，如果不这么做，阿夫林很可能会成为恐怖主义的通道，会给叙利亚和土耳其都带来威胁。埃尔多安此前把美国宣布要主导建立的“边境安全力量”称作“恐怖部队”。\\n阿夫林位于叙利亚西北部阿勒颇省，目前处于叙利亚库尔德武装的控制之下。从2016年开始，土耳其军方曾多次对叙利亚北部的库尔德目标进行打击。\\n此外，叙利亚政府军16日继续对伊德利卜省内的多处反政府武装和恐怖分子据点进行空袭。据报道，当天政府军主要袭击的是该省东南部的多个恐怖分子据点，摧毁了多个目标。叙政府军称，近期攻打的主要目标是该省军事要地阿布杜胡尔机场。伊德利卜省2015年被叙反政府武装完全控制，目前仍是反政府武装的大本营。\\n']\n",
            "[2, 1, 0.7825723, '美国国务院16日表示，已冻结6500万美元、约合4.16亿元人民币通过联合国近东救济工程处向巴勒斯坦难民提供的援助资金，同时要求该机构进行改革。美国国务院发言人说，这笔资金何时解冻要视情况而定，美国国务院将调查该机构运作以及资金使用情况。美国今年原本计划向近东救济工程处提供至少1.25亿美元资助，约合8亿元人民币。\\n同一天近东救济工程处发表公报说，虽然面临美国的压力，他们仍将继续向590万巴勒斯坦难民提供服务。美国是近东救济工程处最主要的资助方，2015年美国提供的资金约占该机构总预算的三分之一。 \\n去年12月，美国总统特朗普宣布承认耶路撒冷为以色列首都，遭到巴勒斯坦方面强烈抗议并称将抵制巴以和谈。特朗普随后威胁说将冻结难民救济资金。\\n']\n",
            "[1, 1, 0.98897415, '韩朝副部长级冬奥工作会谈今天在韩朝边境板门店韩方一侧“和平之家”举行。\\n在此次会谈上，韩方派出了以韩国统一部次官千海成为首席代表的3人代表团出席，而朝方派出了以朝鲜祖国和平统一委员会副委员长田钟秀为首席代表的3人代表团出席。\\n会谈中，双方就朝鲜访问团的规模、入境路线、开幕式共同入场、女子冰球联合组队、朝韩联合文艺表演、以及朝鲜参加平昌残奥会等事宜深入交换意见。 \\n韩国统一部说，朝方在工作会谈上提出，将派遣230人规模的拉拉队参加平昌冬奥会。朝方还提出，朝鲜奥林匹克委员会代表团、体育代表团、拉拉队、跆拳道示范团、记者团经由陆路越过板门店访韩的方案。\\n韩朝双方均希望，以平昌冬奥会为契机，改善韩朝关系，建立一个和平的朝鲜半岛。\\n据悉，韩朝20日将据此磋商结果与国际奥委会在瑞士洛桑协商，并最终确定朝鲜参赛项目及运动员人数。\\n']\n",
            "[2, 2, 0.99783236, '16日，美国驻英国大使馆新馆在伦敦正式启用，新使馆坐落在泰晤士南岸的一片新区内, 历经10年的筹划和建设，耗资约12亿美元，约合76.8亿元人民币。不过，美国总统特朗普没有出席新使馆开馆仪式，引发各界关注。\\n英国舆论认为，去年1月特朗普接受了英国首相的邀请同意年底前访英，但迟迟未能成行，体现两国关系陷入尴尬期。此外，两国还在是否退出气候变化协定、伊核问题全面协议等很多问题上立场差异巨大。\\n']\n",
            "[2, 2, 0.99702483, '德国内政部16日公布的数据显示，德国接收难民数量连续下降，2017年接收难民约18.66万人，比2016年减少约10万人。2015年欧洲难民危机爆发，德国一年接收了约89万难民的登记。随着德国政府收紧接收条件，新增难民人数显著下降。\\n根据德国联盟党和社民党在试探性组阁谈判达成的协议，双方同意每年德国接收难民人数限制在18万到22万人。\\n']\n",
            "[2, 2, 0.9978123, '菲律宾马荣火山所在的阿尔拜省16日宣布进入灾难状态，以便启动应急基金，用来支付因火山喷发疏散约25000名居民产生的费用。菲律宾相关机构称，15日到16日马荣火山共发生9次微震、4次短时的熔岩喷出以及75次熔岩坍塌。目前，马荣火山的预警等级仍然为3级。中国驻菲律宾使馆已提醒中国公民暂勿前往马荣火山景区。\\n']\n",
            "[2, 2, 0.9971577, '世界卫生组织16日发布公告说，根据近期黄热病疫情的发展情况，决定将巴西圣保罗州列入黄热病风险地区。巴西卫生部称，从去年7月至本月14日，巴西共确诊黄热病病例35例，死亡20例。35个病例中，20例在圣保罗州确诊。不过，巴西卫生部称，该州黄热病风险地区仅限于部分地区，不包括圣保罗等大城市。圣保罗州是巴西经济最发达的一个州，下月巴西将迎来狂欢节，预计将有不少国际旅行者入境。\\n']\n",
            "[0, 0, 0.9999881, '习近平总书记在2018年的新年贺词中，曾提到“西安交大西迁的老教授”这个群体。62年前，他们响应国家在大西北部署一所高水平工业大学的号召，从上海将交通大学的主体搬迁到西安。几十年献身大西北建设，他们凝铸起“胸怀大局、无私奉献、弘扬传统、艰苦创业”的“西迁精神”，用奋斗写就“奉献青春为家国”的感人故事。\\n在西安交通大学职工之家，部分西迁老教授在2018年第一次相聚。大家仍念念不忘总书记在新年贺词中对他们的牵挂。\\n史维祥老人说的“西迁精神”，就发生在62年前。1956年，党中央为适应国防形势和国家建设布局的需要，将交通大学大部分由上海迁至西安。当年24岁的卢烈英是第一批随校西迁的教师。\\n为国家建设冲锋在前，1400多名教工把实验器材装上火车向西行进。被誉为“中国电机之父”的钟兆琳先生，妻子卧病在床。同事劝他留在上海，但他还是带头迁校，只身来到西安。\\n老教授率先垂范，更多师生也义无反顾。今年81岁的老教授金志浩，当年是第一批报考的学生。他仍记得那西行列车的乘车证，印着“向科学进军，建设大西北”的字样。\\n走！去西部！西迁开拓者们让大西北拥有了国家重点大学和一批新兴学科。西迁以来，西安交大的毕业生已近25万人，其中40%以上在西部奋斗。部分西迁教授们商量，想给习近平总书记写一封信，讲讲这奋斗几十年的心里话。\\n让部分西迁教授没有想到的是，几天之后，在2017年12月，他们收到了习近平总书记的回信。信中的殷殷叮嘱和新年贺词中的牵挂，让老教授们感到十分温暖。\\n']\n",
            "[0, 0, 0.99998873, '习近平总书记在十九大报告中指出：要推动经济发展质量变革、效率变革、动力变革。十九大后，作为拥有长江岸线最长的省份，湖北通过一系列新举措，把党中央的新要求落实到发展当中，盘活沿江资源，加快结构调整、转型升级和动能转化。\\n眼下，在长江湖北段，一场“清零”行动正在展开，岸线一公里内所有化工企业全部退出，腾挪后的岸线区域，将用来发展旅游等产业。这是湖北在十九大后经济新布局的重要一环。在化工产业年产值过千亿的宜昌市，这次有100多家沿江化工企业将退出。\\n2018年，湖北确立了“加快转型升级，建设现代化经济体系”的战略目标。围绕长江经济带建设，近岸地带以保护长江为抓手，清退低端污染企业，做好面子工作；远离长江的腹地则在布局高端产业上发力。\\n旧产能加速淘汰，新动能如何产生？十九大后，湖北省出台《全省高新技术产业园区创新驱动发展综合评价办法》，从制度上为创新驱动、结构优化保驾护航。创新之城武汉市，上个月相继获批光电国家研究中心、国家信息光电子创新中心，进一步集聚创新要素。\\n在武汉光谷生物城，上个月诺贝尔化学奖得主——哈特穆特的工作站正式成立，他将与本地企业联合进行膜蛋白的研发应用。\\n瞄准技术前沿，完善创新链条，光谷生物城新动能不断。一个月前，在加拿大、美国举办的招才引智活动，签约十多个项目。预计到2020年，这里的生物产业总收入将突破3000亿元。\\n在湖北，以长江黄金水道建设为中心，一系列物流大通道也正在加紧建设。刚动工的湖北国际物流核心枢纽项目，将联动沿江地市鄂州、黄石、黄冈，形成水、陆、空多式联运的综合交通体系，为新兴产业的壮大打好物流基础。\\n2018年，湖北省力争新兴产业占到全省工业企业新增亿元增长点的三分之一。同时，探索沿江和跨江中小城市组团发展，以城市群为主体构建大中小城市和小城镇协调发展的城镇格局，全面推动长江经济带高质量发展。\\n']\n",
            "[0, 0, 0.9999871, '国家统计局今天公布国民经济运行数据显示，2017年，我国以供给侧结构性改革为主线，推动结构优化、动力转换和质量提升，国民经济稳中向好、好于预期，中国经济正在迈向高质量发展阶段。\\n速度稳，堪称全球发展“火车头”。2017年，国内生产总值达到827122亿元，同比增长6.9%，这一速度不仅远高于欧美日等发达经济体，也超过了金砖国家。\\n贡献大，犹如世界经济“压舱石”。2017年，中国经济对世界的贡献率超过30%，联合国日前发布的《2018年世界经济形势与展望》认为，2017年全球经济增长的1/3依仗中国。\\n就业稳，“好饭碗”越端越牢。2017年，全国城镇新增就业超过1300万人，全国城镇调查失业率保持在4.1%左右，创下近期低水平。\\n物价稳，“获得感”越来越强。2017年，居民消费价格同比上涨1.6%。人均可支配收入同比实际增长7.3%，比上年加快了1个百分点，居民收入再次跑赢经济增速。\\n稳中向好的同时，中国经济正在向高质量发展迈进。\\n从发展方式看，2017年，高技术制造业、装备制造业投资比上年分别增长17.0%和8.6%，分别加快2.8和4.2个百分点；而高耗能制造业投资比上年下降1.8%。2017年，全年工业产能利用率达到77.0%，创5年来新高。\\n从结构优化看，全年第三产业增加值对国内生产总值增长的贡献率为58.8%，比上年提高1.3个百分点。\\n从动力转换看，2017年，全国新登记企业607.4万户，比上年增长9.9%，日均新登记企业1.66万户。\\n航空航天、人工智能、深海探测、生物医药等领域涌现出一批重大科技成果的同时，新产业新产品蓬勃发展，工业战略性新兴产业增加值比上年增长11.0%，增速比规模以上工业快4.4个百分点。\\n']\n",
            "[0, 0, 0.9999869, '国务院新闻办今天上午举行新闻发布会，国家外汇管理局新闻发言人表示，2017年我国外汇市场供求趋向基本平衡。具体来看，去年前两个季度银行结售汇逆差分别是409亿和530亿美元，三季度逆差减少到190亿美元，四季度转为顺差12亿美元。\\n王春英还表示，2017年前三季度，我国经常账户顺差与国内生产总值之比是1.3%，说明当前我国经常账户收支更趋平衡，这也是对全球经济再平衡的贡献。今年，国家外汇管理局将进一步加强跨境资金流动统计监测，促进贸易投资便利化，服务实体经济，同时也要防范跨境资本流动风险，维护国家经济金融安全。\\n']\n",
            "[0, 0, 0.9992503, '继教育部考试中心正式公布了2018年普通高等学校招生全国统一考试大纲后，近日北京、江苏等省市也都陆续公布了高考考试说明。\\n在北京公布的考试说明中，语文经典阅读考查篇目中新增了《论语》，从过去的6部增加至7部，以弘扬中华优秀传统文化，体现立德树人思想，凸显育人导向。江苏省则在“古代诗文阅读”部分增加了“了解并掌握常见的古代文化知识”的考查内容，并且还对个别表述进行了调整，例如在“正确使用词语（包括成语）”中，将“成语”改为“熟语”。今年北京高考英语听力将首次实施机考，并且在笔试考试中不再包含听力理解内容。\\n除此之外，在各省市公布的考试说明中，历史、地理、政治也都进行了调整，北京特别在历史考试科目中，在综合题中有较高分值的开放性设问，重在考查考生阐释论证的逻辑思维和创新能力，以及对历史的独到见解。而调整后的政治学科参考样题更关注社会生活，引导考生参与社会实践。随后其他各省市还将会相继出台2018高考考试说明。\\n']\n",
            "[0, 0, 0.9999867, '陕西省在开展思政课质量提升专项工作中，建立了教委、高校、院（系）三级负责人听课制度，通过随机听课，查摆问题，研究对策，提高思政课的教学质量。\\n这是西北大学的一堂中国近现代史纲要课，除了老师和学生，课堂上还多了一位点评者。\\n在陕西，去年起实行了一项由教委、学校、院系三级负责人旁听思政课的新制度，不仅是听课，还要参与互动，直接了解课程进展和学生动态。\\n针对在听课中发现的问题，西北大学实行了集体备课，研究如何提高学生参与度，学校推出思想者之家公众号，吸引全校80%的学生成为粉丝。延安大学、西安邮电大学打造了数百节网络微课，适应学生快节奏学习。西安交通大学则通过小班讨论、实践教学、网络教学等手段，积极推行思政课创新工程，增强思政课的吸引力。西安美术学院设计出“一画一课”模式，用美术作品讲述时代变迁。\\n三级听课制度还要求高校的负责人每人联系一个思政教研室，在西北工业大学，思政课教师反映论文发表难、评职称吃亏，学校很快改革相关政策，更加侧重课堂质量，并将报刊文章、优秀网文等纳入思政课成果认定，解除思政课老师的后顾之忧。\\n目前陕西各高校已累计听课3000余节次，在省教育部门负责人的听课过程中，许多有关资金扶持、人才引进的问题也及时得到解决。全省高校新增思政课建设经费1000余万元，新增思政课教师171人，新增马克思主义学院19所。思政主阵地不断加强。\\n身边的感动\\n来看今天的《身边的感动》。爱心，有时是危难时刻的挺身而出，有时是日积月累的默默奉献。今天我们要为大家讲述两个点滴之爱汇聚成河的小故事。\\n']\n",
            "[0, 0, 0.9999801, '在浙江宁海隔洋塘村，小学老师张翎飞的去世让全村人伤心。隔洋塘村地处海岛，在2002年的时候，村里的孩子们被统一安排到镇里上学。从村里到镇上，要坐20多分钟的船，而村里的孩子，有一半是留守儿童，另一半的父母在岛上务农，如何保障孩子路上的安全，成了家长心中最牵挂的事。\\n为了让家长安心，学校提出，会想办法解决孩子们的出行难题。就在这个时候，小学老师张翎飞站了出来，主动提出自己可以义务，每周五护送孩子们坐渡轮，把他们安全送到家，周日，再去把他们接回学校。而张翎飞这一干，就是15年。\\n几天前，56岁的张翎飞因病去世，那个风里雨里坚持了15年的身影离大家远去。\\n现在，学校里的13位年轻教师接过了张翎飞的接力棒，他们组成“摆渡人”团队，每周轮流护送村里的孩子们上学。\\n']\n",
            "[0, 0, 0.99998474, '风雨无阻的，还有河北廊坊的四名出租车司机。福利院残疾女孩牛民政一直有个画画梦，但每周出去学画却是最大的困难。几名司机偶然知道这个消息后，开始轮流免费接送女孩去学画，这一接就是两年。\\n每周一次，往返20多公里，两年来，这段路四名“的哥”从未间断。宁可少赚点钱，他们也不会耽误小姑娘学画画。\\n']\n",
            "[1, 1, 0.99825704, '中国5G推进组日前发布5G技术研发试验第三阶段规范。5G第三阶段测试将于今年一季度启动，预计2018年底产业链主要环节基本达到预商用水平，2019年启动5G网络实际建设。\\n']\n",
            "[1, 1, 0.9983177, '国家知识产权局今天公布，2017年我国发明专利申请量为138.2万件，同比增长14.2%，共授权发明专利42万件，在信息通信、航空航天等领域形成了一批拥有自主知识产权的核心技术。\\n']\n",
            "[1, 1, 0.99733317, '从1980年我国恢复商标统一注册制度开始，截至2017年底，我国商标累计申请量2784.2万件，累计注册量1730.1万件，有效注册商标量1492.0万件，连续17年位居世界第一。\\n']\n",
            "[1, 1, 0.99859315, '2017年工商和市场监管部门共受理消费者投诉240万件，查处网络交易违法案件2.2万件，同比增长106.8%，案件数量为近五年之最。其中，网店占比最大，达66%。\\n']\n",
            "[1, 1, 0.998296, '全国总工会完成第8次全国职工队伍状况调查，全国职工总数已达3.91亿人，其中“90后”职工大幅增加，占职工队伍的16.6%。职工平均受教育年限达到13.6年，农民工文化素质明显提升。\\n']\n",
            "[1, 1, 0.99864364, '近日，教育部、中国文联分别走进江西革命老区安远县和弋阳县，为群众写“福”字、送“春联”、演出歌舞剧等，来自文联、农业等部门的专家、志愿者还为当地百姓进行义诊、法律咨询等。\\n']\n",
            "[1, 1, 0.9970491, '今晨，辽宁、江西、河南、安徽等地被大雾笼罩，部分地区能见度不足200米，造成多条高速公路临时封闭。中央气象台继续发布大雾黄色预警，预计今夜到明晨，部分地区仍有大雾。\\n']\n",
            "[1, 1, 0.95001817, '美国国务卿蒂勒森17日称，美国将继续保留在叙利亚的军事存在，以避免极端组织卷土重来。\\n蒂勒森当天阐述了极端组织溃败后美国对叙利亚的战略。他说，美国不会再重蹈伊拉克战争的覆辙，在条件不成熟的情况下匆匆撤军。美军将留在叙利亚，直到“全面和彻底”地摧毁极端组织，而未来美军在叙利亚的具体任务则将“视情况而定”。\\n蒂勒森还说，目前叙利亚仍有可能对美国产生“严重的战略威胁”和外交挑战。如果美军从叙利亚撤军，将给伊朗提供扩大势力范围的机会。他同时表达了美国对叙利亚巴沙尔政权的不满。\\u3000\\n目前，美军在叙东北部派驻有一支2000多人的部队，主要负责训练当地反政府武装，并参与打击极端组织。此前俄罗斯方面指责说，美军在叙利亚的身份已经接近占领军。其行动没有得到叙利亚政府允许。\\n此外，蒂勒森17日赞扬了土耳其在打击极端组织过程中的作用。同一天美国国防部也发表声明说，美军将继续在叙利亚训练当地安全力量，以确保极端组织不会死灰复燃，而美方在叙境内打击极端组织的一切行动都将对土耳其“透明化”。\\n不过，土耳其副总理博兹达17日说，土方将采取一切措施，阻止美国在叙利亚成立以库尔德人为主体的“边境安全部队”。一旦土耳其的国家安全受到威胁，土方将毫不犹豫地在土叙边境发起军事行动。\\n14日，美国方面称正在和库尔德人主导的“叙利亚民主军”共同组建边境安全部队，土耳其反应强烈。土耳其一直指责美国支持叙利亚库尔德武装，认为这些库尔德武装是库尔德工人党在叙利亚的分支。\\n']\n",
            "[2, 1, 0.9930956, '17日，韩朝双方代表在板门店韩方一侧和平之家举行的工作会谈就11个事项达成共识。双方商定将在平昌冬奥会开幕式上举“朝鲜半岛旗”共同入场，并将在女子冰球项目上共同组队参赛。\\n韩方代表团团长、韩国统一部次官千海成表示，这将向全世界展示韩朝和解团结的面貌，有助于维护半岛和平、改善两国关系。这两项协议目前只是韩朝两国间达成，还需要经过国际奥委会和单项体育联合会的协商批准。\\n韩朝双方在17日的会谈中还商定，朝方将派出230余人组成的拉拉队和30余人组成的跆拳道示范团访问韩国。韩国媒体表示，加上此前已商定的140人的朝方艺术团，朝鲜冬奥访问团的规模已经超过400人。\\n']\n",
            "[2, 2, 0.99386317, '在伊朗核问题全面协议实施两周年之际，联合国秘书长古特雷斯17日通过发言人发表声明说，坚信伊核协议是确保伊朗核计划仅限于和平目的的最佳途径，是核不扩散和外交领域的重大成果，为地区和国际和平与安全作出了贡献，呼吁维护伊核协议。\\n美国总统特朗普12日宣布，将最后一次延长针对伊朗核问题的制裁豁免期，并要求修改协议条款。\\n']\n",
            "[2, 2, 0.98699605, '联合国近东巴勒斯坦难民救济和工程处17日说，在美国宣布冻结部分援助资金后，该机构发起了一项国际筹资活动，以获得更多捐助者支持，向巴勒斯坦难民提供服务和保护。\\n美国总统特朗普宣布承认耶路撒冷为以色列首都的行为引发巴方强烈不满。对此，特朗普表示，如果巴方拒绝和谈，美方将取消对巴经济援助。美国国务院16日宣布，已冻结6500万美元通过近东救济工程处向巴勒斯坦难民提供的援助资金。\\n']\n",
            "[2, 2, 0.7020462, '17日，英国议会下院三读通过《退出欧盟法案》，法案将于月底交付上院表决。这份法案旨在将现有欧盟法律转换为英国国内法，为英国“脱欧”后的法律承接做准备。英国脱欧事务大臣戴维斯在法案通过后表示，通过这项法案对确保英国最后顺利脱离欧盟至关重要。由于通过的法案文本彻底否决了反对党的所有意见，也遭到了反对党的一致抨击。\\n《退出欧盟法案》也称《大废除法案》，它将废除英国议会在1972年制定的《欧洲共同体法案》。\\n']\n",
            "[2, 2, 0.9976225, '美国海军方面16日发表声明说，美海军第七舰队去年两起撞船事故中的数名指挥官将面临过失杀人、渎职等罪名在内的多项指控。指控涉及“约翰·麦凯恩”号导弹驱逐舰的指挥官和“菲茨杰拉德”号驱逐舰的指挥官以及该舰其他三名官员。\\n2017年6月，“菲茨杰拉德”号与一艘货船在日本海域相撞，造成美军士兵7人死亡。8月，“约翰·麦凯恩”号在新加坡东部海域与商船相撞，造成10名士兵死亡。美海军调查后宣布，这两起事故主要原因是执勤人员“多处操作不当”。\\n']\n",
            "[2, 2, 0.9962323, '哈萨克斯坦内政部18日说，在该国西部阿克托别州，一辆行驶中的大巴车当天起火，造成52人死亡。遇难者全部是邻国乌兹别克斯坦的务工人员。当时大巴车上共有57人，包括2名司机和55名乘客。事故发生后仅有5人逃生，目前已被送往附近医院接受治疗。大巴起火的原因目前还不清楚，哈萨克斯坦已成立临时指挥部，负责此次事故的处理及善后工作。乌兹别克斯坦外交部也已派人赶往出事地点。\\n']\n",
            "[2, 2, 0.9979072, '17日，利比亚海军巡逻队在的黎波里以西海域展开两次救援行动，共营救了234名非法移民。这些非法移民乘坐的两艘橡皮艇出了故障，停在海上，巡逻队将艇上人员救回。他们随后被转移到的黎波里一个海军基地内。\\n2011年以来，利比亚安全局势持续恶化，当地政府对边境掌控力有限。一些非法移民以利比亚为中转站，穿越地中海偷渡至欧洲国家。国际移民组织估计，过去四年内，有超过2万人在穿越地中海的过程中死亡。\\n']\n",
            "[2, 2, 0.99385756, '捷克紧急情况部门17日说，由于雪天路滑，加上能见度降低，连接首都布拉格和第二大城市布尔诺一条高速公路16日发生严重交通事故，数十辆汽车和卡车连环追尾，造成至少10人受伤。事故发生后，这条高速公路关闭了19个小时，17日恢复通车。\\n']\n",
            "[2, 2, 0.9968808, '近日，美国科学家在《科学》杂志上发表文章说，他们通过对火星勘测轨道飞行器拍摄的图像进行分析，发现了8处因土壤侵蚀而暴露出来的火星地下水冰，厚度可能超过100米。最新发现的水冰距离火星地表只有一两米的距离，可以直接获取。研究人员提出，这些地下水冰是在相对较近的时期形成的。此外，它们还提供了关于火星气候历史的线索。\\n']\n",
            "[0, 0, 0.99998677, '中国共产党第十九届中央委员会第二次全体会议于2018年1月18日至19日在北京举行。现在全文播送《中国共产党第十九届中央委员会第二次全体会议公报》。\\n中国共产党第十九届中央委员会第二次全体会议公报，2018年1月19日中国共产党第十九届中央委员会第二次全体会议通过。\\n中国共产党第十九届中央委员会第二次全体会议，于2018年1月18日至19日在北京举行。\\n出席这次全会的有，中央委员203人，候补中央委员172人。中央纪律检查委员会常务委员会委员和有关方面负责同志列席会议。党的十九大代表中部分基层同志和专家学者也列席会议。\\n全会由中央政治局主持。中央委员会总书记习近平作了重要讲话。\\n全会审议通过了《中共中央关于修改宪法部分内容的建议》，张德江就《建议(草案)》向全会作了说明。\\n全会一致认为，党的十九大和十九届一中全会以来，在以习近平同志为核心的党中央坚强领导下，全党全国把学习宣传贯彻党的十九大精神作为首要政治任务，深入开展多种形式的学习宣传活动，兴起了学习贯彻党的十九大精神、习近平新时代中国特色社会主义思想热潮，为贯彻落实党的十九大提出的各项战略决策和工作部署提供了强大精神动力，全党全国各族人民思想更加统一、信心更加坚定、行动更加有力，党和国家各项事业呈现欣欣向荣的发展局面。\\n全会认为，宪法是国家的根本法，是治国安邦的总章程，是党和人民意志的集中体现。现行宪法颁布以来，在改革开放和社会主义现代化建设的历史进程中、在我们党治国理政实践中发挥了十分重要的作用，有力坚持了中国共产党领导，有力保障了人民当家作主，有力促进了改革开放和社会主义现代化建设，有力推动了社会主义法治国家建设进程，有力维护了国家统一、民族团结、社会稳定。实践证明，我国现行宪法是符合国情、符合实际、符合时代发展要求的好宪法，是充分体现人民共同意志、充分保障人民民主权利、充分维护人民根本利益的好宪法，是推动国家发展进步、保证人民创造幸福生活、保障中华民族实现伟大复兴的好宪法，是我们国家和人民经受住各种困难和风险考验、始终沿着中国特色社会主义道路前进的根本法治保障。维护宪法尊严和权威，是维护国家法制统一、尊严、权威的前提，也是维护最广大人民根本利益、确保国家长治久安的重要保障。\\n全会高度评价全面依法治国取得的成就。党的十八大以来，以习近平同志为核心的党中央以前所未有的力度推进全面依法治国进程，坚持依法治国、依法执政、依法行政共同推进，坚持法治国家、法治政府、法治社会一体建设，坚持依法治国和以德治国相结合，坚持依法治国和依规治党有机统一，抓住科学立法、严格执法、公正司法、全民守法关键环节，加快推进中国特色社会主义法治体系建设，法律规范体系、法治实施体系、法治监督体系、法治保障体系和党内法规体系建设相互促进、共同发展，社会主义法治国家建设取得了历史性成就。\\n全会认为，我们党高度重视宪法在治国理政中的重要地位和作用，明确坚持依法治国首先要坚持依宪治国，坚持依法执政首先要坚持依宪执政，把实施宪法摆在全面依法治国的突出位置，采取一系列有力措施加强宪法实施和监督工作，为保证宪法实施提供了强有力的政治和制度保障。\\n全会认为，我国宪法必须随着党领导人民建设中国特色社会主义实践的发展而不断完善发展。这是我国宪法发展的一个显著特点，也是一条基本规律。从1954年我国第一部宪法诞生至今，我国宪法一直处在探索实践和不断完善过程中。1982年宪法公布施行后，根据我国改革开放和社会主义现代化建设的实践和发展，分别于1988年、1993年、1999年、2004年进行了4次修改。实践表明，我国宪法是同党团结带领人民进行的实践探索紧密联系在一起的，随着时代进步、党和人民事业发展而不断完善。\\n全会强调，由宪法及时确认党和人民创造的伟大成就和宝贵经验，以更好发挥宪法的规范、引领、推动、保障作用，是实践发展的必然要求。中国特色社会主义进入新时代，这是我国发展新的历史方位。根据新时代坚持和发展中国特色社会主义的新形势新任务，有必要对我国宪法作出适当的修改。自2004年修改宪法以来，党和国家事业又有了许多重要发展变化。特别是党的十八大以来，以习近平同志为核心的党中央团结带领全党全国各族人民毫不动摇坚持和发展中国特色社会主义，创立了习近平新时代中国特色社会主义思想，统筹推进“五位一体”总体布局、协调推进“四个全面”战略布局，推进党的建设新的伟大工程，推动党和国家事业取得历史性成就、发生历史性变革。党的十九大对新时代坚持和发展中国特色社会主义作出重大战略部署，确定了新的奋斗目标。为更好发挥宪法在新时代坚持和发展中国特色社会主义中的重大作用，需要对宪法作出适当修改，把党和人民在实践中取得的重大理论创新、实践创新、制度创新成果上升为宪法规定。\\n全会认为，宪法修改是国家政治生活中的一件大事，是党中央从新时代坚持和发展中国特色社会主义全局和战略高度作出的重大决策，也是推进全面依法治国、推进国家治理体系和治理能力现代化的重大举措。这次宪法修改的总体要求是，高举中国特色社会主义伟大旗帜，全面贯彻党的十九大精神，坚持以马克思列宁主义、毛泽东思想、邓小平理论、“三个代表”重要思想、科学发展观、习近平新时代中国特色社会主义思想为指导，坚持党的领导、人民当家作主、依法治国有机统一，把党的十九大确定的重大理论观点和重大方针政策特别是习近平新时代中国特色社会主义思想载入国家根本法，体现党和国家事业发展的新成就新经验新要求，在总体保持我国宪法连续性、稳定性、权威性的基础上推动宪法与时俱进、完善发展，为新时代坚持和发展中国特色社会主义、实现“两个一百年”奋斗目标和中华民族伟大复兴的中国梦提供有力宪法保障。\\n全会提出，这次宪法修改必须贯彻以下原则：坚持党的领导，坚持中国特色社会主义法治道路，坚持正确政治方向；严格依法按程序进行；充分发扬民主、广泛凝聚共识，确保反映人民意志、得到人民拥护；坚持对宪法作部分修改、不作大改的原则，做到既顺应党和人民事业发展要求，又遵循宪法法律发展规律，保持宪法连续性、稳定性、权威性。\\n全会认为，宪法修改关系全局，影响广泛而深远。要贯彻科学立法、民主立法、依法立法的要求，注重从政治上、大局上、战略上分析问题，注重从宪法发展的客观规律和内在要求上思考问题，维护宪法权威性。\\n全会强调，习近平新时代中国特色社会主义思想是马克思主义中国化最新成果，是当代中国马克思主义、21世纪马克思主义，是党和国家必须长期坚持的指导思想。中国共产党领导是中国特色社会主义最本质的特征，是中国特色社会主义制度最大的优势，必须坚持和加强党对一切工作的领导。经济建设、政治建设、文化建设、社会建设、生态文明建设“五位一体”总体布局，创新、协调、绿色、开放、共享的新发展理念，到2020年全面建成小康社会、到2035年基本实现社会主义现代化、到本世纪中叶建成社会主义现代化强国的奋斗目标，实现中华民族伟大复兴，对激励和引导全党全国各族人民团结奋斗具有重大引领意义。坚持和平发展道路，坚持互利共赢开放战略，推动构建人类命运共同体，对促进人类和平发展的崇高事业具有重大意义。国家监察体制改革是事关全局的重大政治体制改革，是强化党和国家自我监督的重大决策部署，要依法建立党统一领导的反腐败工作机构，构建集中统一、权威高效的国家监察体系，实现对所有行使公权力的公职人员监察全覆盖。宪法是国家各项制度和法律法规的总依据，充实宪法的重大制度规定，对完善和发展中国特色社会主义制度具有重要作用。\\n全会强调，宪法的生命在于实施，宪法的权威也在于实施。维护宪法权威，就是维护党和人民共同意志的权威；捍卫宪法尊严，就是捍卫党和人民共同意志的尊严；保证宪法实施，就是保证人民根本利益的实现。要以这次宪法修改为契机，深入推进科学立法、严格执法、公正司法、全民守法，坚持有法可依、有法必依、执法必严、违法必究，把依法治国、依宪治国工作提高到一个新水平。要在全党全社会深入开展尊崇宪法、学习宪法、遵守宪法、维护宪法、运用宪法的宣传教育活动，大力弘扬宪法精神，大力弘扬社会主义法治精神，不断增强人民群众宪法意识。要加强对宪法法律实施情况的监督检查，坚决纠正违宪违法行为。各级国家工作人员特别是领导干部要增强宪法观念，依照宪法法律行使职权、履行职责、开展工作，恪尽职守，廉洁奉公，自觉接受人民监督，通过自己的努力为宪法法律实施作出贡献，绝不允许以言代法、以权压法、逐利违法、徇私枉法。全国各族人民、一切国家机关和武装力量、各政党和各社会团体、各企业事业组织，都必须以宪法为根本的活动准则，都负有维护宪法尊严、保证宪法实施的职责，任何组织和个人都不得有超越宪法法律的特权，一切违反宪法法律的行为都必须予以追究。\\n全会号召，全党同志要更加紧密地团结在以习近平同志为核心的党中央周围，以习近平新时代中国特色社会主义思想为指导，全面深入贯彻党的十九大精神和本次全会精神，牢固树立政治意识、大局意识、核心意识、看齐意识，坚定不移走中国特色社会主义法治道路，自觉维护宪法权威、保证宪法实施，为新时代推进全面依法治国、建设社会主义法治国家而努力奋斗。\\n']\n",
            "[0, 0, 0.9999875, '2018年“中国—欧盟旅游年”开幕式1月19日在意大利威尼斯举行。国务院总理李克强和欧盟委员会主席容克分别向开幕式致贺词。\\n李克强在贺词中表示，中欧分处古丝绸之路两端，文明对话源远流长。当前，中欧正努力打造和平、增长、改革、文明四大伙伴关系，全面落实《中欧合作2020战略规划》，携手推动中方“一带一路”倡议与欧方发展战略有效对接，双方关系面临新的发展机遇。\\n李克强指出，旅游既是开展文明交流、促进民间友好的重要桥梁，也是拉动经济增长的新兴产业。中欧旅游资源丰富，合作前景广阔。希望双方以举办“中国—欧盟旅游年”为契机，积极扩大中欧旅游合作和人员往来，促进文明对话和民心相通，推动共同发展和互利共赢，为新时期中欧全面战略伙伴关系发展注入新动力。\\n']\n",
            "[0, 0, 0.99998885, '习近平总书记在十九大报告中指出：让贫困人口和贫困地区同全国一道进入全面小康社会是我们党的庄严承诺。\\n要坚决打赢这场脱贫攻坚战，地处西北的宁夏，坚持精准扶贫、精准脱贫，重点攻克深度贫困地区脱贫任务。确保到2020年全区贫困人口实现脱贫、贫困县全部摘帽。\\n扶贫要精准，就必须摸清家底。最近一段时间，宁夏从自治区党委、政府主要负责人，到市县乡各级干部，纷纷走村入户、驻村调研，大家找问题，听需求，理措施，下功夫摸清每位贫困群众的真实家底。\\n目前。宁夏全区共有贫困人口41.8万人，其中深度贫困人口占到77.5%。找准致贫原因的同时，宁夏还召开了深度贫困地区脱贫攻坚座谈会，一个重要议题就是完善政策举措，向最难处发力，不断推进脱贫攻坚。\\n眼下，涵盖了健康扶贫、残疾人扶贫、养老保障、饮水安全、危窑危房改造、整村推进、产业扶贫、培训就业、易地搬迁、社保兜底深度贫困地区脱贫攻坚的十大工程已经出台。围绕产业、教育、社保等六方面的脱贫富民政策，也已在宁夏全区推开。\\n按照最新的扶贫政策，深度贫困村同心县的三山井村，最近就解决了贷款上的大难题。三山井村产业薄弱，建档立卡贫困户无物抵押导致贷款困难，一直制约着村里贫困户脱贫。按照新政策，现在，三山井村获得了比普通贫困村多一半的财政专项扶贫资金，还有门槛更低的银行信贷政策，用于发展黑毛驴养殖产业。\\n根据最新出台的《宁夏2018年脱贫攻坚计划》，今年，宁夏9个贫困县中将有3个县实现摘帽，140个贫困村脱贫出列，10万贫困人口脱贫退出。\\n']\n",
            "[0, 0, 0.99984014, '今天交通运输部召开新闻发布会介绍“桑吉”轮碰撞燃爆事故应急处置的有关情况。\\n1月6日，巴拿马籍油船“桑吉”轮与中国香港籍散货船“长峰水晶”轮在长江口以东约160海里处发生碰撞，载有11.13万吨凝析油的“桑吉”轮货舱起火，32名外籍船员失踪。交通运输部以人命搜救为首要任务，全力组织搜救。事故发生后，“桑吉”轮持续发生燃爆并于14日沉没。\\n目前，交通运输部已成立事故调查小组，并对沉船海域开展常态化搜寻和清污作业。3具“桑吉”轮遇难船员遗体已按相关协议移交给伊朗和孟加拉国政府。\\n']\n",
            "[2, 0, 0.97670865, '17日，伊朗劳动、合作和社会福利部部长拉比伊就“桑吉”号油船事故向我驻伊大使发来亲笔签名的感谢信。拉比伊在信中表示：伊朗国家油轮公司所属“桑吉”号油船事故造成伊朗籍船员遇难令人遗憾。这起事故不仅对遇难者家属和伊朗人民，也对全世界人民的心灵造成了严重伤痛。\\n中方为搜救船员和扑灭火势作出了巨大努力，我作为伊总统代表和伊方“桑吉”号油船事故调查委员会主席，谨代表伊朗政府和人民，向中国政府和人民致以最诚挚的谢意，特别要感谢那些冒着巨大生命危险、不顾毒气和爆炸威胁竭尽全力参与救援的中方人员。中国政府和人民在事故中给予伊方的支持和人道主义援助，将永远被全体伊朗人民铭记。祝中国繁荣昌盛，中国人民生活幸福。\\n']\n",
            "[0, 0, 0.9999809, '今天上午，由中宣部、中央文明办举办的2018年全国文化科技卫生“三下乡”集中示范活动，在甘肃省陇南市两当县启动。来自文化、科技、卫生等领域的专家和志愿者来到现场，开展义诊、法律咨询等服务。\\n十九大相关内容也被融入文艺节目中，宣讲给当地群众。\\n这次活动还向两当县群众捐赠总价超过7000万元的物资和项目资金。\\n']\n",
            "[0, 1, 0.9997975, '今天，我国在酒泉卫星发射中心用长征十一号运载火箭，成功将吉林一号视频07星又称德清一号、08星又称林业二号卫星送入预定轨道，该组卫星将与此前发射的8颗吉林一号卫星组网，为政府部门、行业用户等提供遥感数据和产品服务。这也是酒泉卫星发射中心执行的第100次航天发射任务。\\n']\n",
            "[1, 1, 0.998161, '记者今天了解到，国家将进一步支持农民工等各类人员返乡下乡创业。政策将首次创业、正常经营1年以上的返乡创业农民工纳入一次性创业补贴支持范围；将“政府+银行+保险”融资模式推广到返乡下乡创业企业。\\n']\n",
            "[1, 1, 0.9988848, '今年春运期间，铁路部门对部分增开列车回程方向进行票价折扣试点，在现行票价基础上实行8至9折优惠，其中节前有32趟列车打折。\\n']\n",
            "[1, 1, 0.99818975, '我国首个海上清洁能源综合供给平台及泳池式低温供热堆项目今天在山东烟台启动。该项目由烟台市与中核集团等单位共同建设，建成后将提供安全有效的能源供给。\\n']\n",
            "[1, 1, 0.99845105, '这两天，《牡丹亭》巡演分别走进北京大学和清华大学，吸引了近6000名高校学子观看。此次乡音版《牡丹亭》用盱河高腔演绎。盱河高腔是江西抚州的古老唱腔，为国家级“非遗”项目。\\n']\n",
            "[1, 1, 0.99816656, '青海唐卡绘画艺术精品展亮相中国美术馆，展出了老、中、青三代31位中国工艺美术大师、省级工艺美术大师手绘精品48幅，展示了青海唐卡绘画艺术的高水平和生命力。\\n']\n",
            "[2, 1, 0.99372345, '18日，强风暴“弗里德里克”袭击欧洲多国，9人因风暴引起的树木倾倒或车辆失控等事故死亡。在荷兰，部分地区风速达到每小时140公里。荷兰铁路系统暂时停运。阿姆斯特丹的机场一度中止航班起降。在鹿特丹，一栋楼房屋顶瞬间被强风掀起。\\n德国大部分地区也受到风暴影响，部分地区风速一度达每小时200公里，达飓风级别。德国全国范围内暂停长途铁路交通运营，多所学校停课。在比利时，由于强风吹倒树木，多条道路被迫封锁。\\n']\n",
            "[2, 2, 0.944609, '叙利亚外交部18日发表声明说，美国在叙利亚的军事存在是违反国际法和侵犯他国主权的行为，其意图并不是消灭极端组织，而是向美国一手扶持起来的极端组织提供庇护。声明说，叙利亚问题的任何政治解决方案都必须回应叙利亚人民的诉求，而非为了实现外部势力的图谋和利益。\\n美国国务卿蒂勒森17日说，美国将继续保留在叙利亚的军事存在，以避免极端组织卷土重来，并同时表达了美国对叙利亚巴沙尔政权的不满。\\n']\n",
            "[2, 2, 0.99160975, '俄罗斯中央银行行长纳比乌琳娜近日在莫斯科表示，俄经济衰退期于2017年底结束，目前处于转折阶段，预计2018年俄罗斯经济将增长1.5%到2%。\\n2014年以来，受西方对俄制裁和国际油价大幅波动影响，俄经济面临较大下行压力。2015年俄经济较前一年萎缩3.7%。\\n']\n",
            "[2, 2, 0.9973077, '装载着来自中国的雄性大熊猫“华豹”和雌性大熊猫“金宝宝”的专机18日抵达芬兰首都赫尔辛基万塔国际机场，芬方在机场举行隆重的欢迎仪式。两只大熊猫在机场与众人短暂见面后被运往位于赫尔辛基以北约300公里的艾赫泰里动物园。\\n根据中芬两国去年4月签署的文件，中国向芬兰提供一对健康的大熊猫，用于实施为期15年的合作研究项目。预计今年中国春节期间，这对大熊猫将与公众见面。\\n']\n",
            "[0, 0, 0.9999891, '中共中央2017年12月15日在中南海召开党外人士座谈会，就中共中央关于修改宪法部分内容的建议听取各民主党派中央、全国工商联负责人和无党派人士代表的意见和建议。中共中央总书记习近平主持会议并发表重要讲话。\\n张德江、俞正声、栗战书、汪洋、王沪宁出席座谈会。\\n座谈会上，民革中央主席万鄂湘、民盟中央主席丁仲礼、民建中央主席陈昌智、民进中央主席蔡达峰、农工党中央主席陈竺、致公党中央主席万钢、九三学社中央主席武维华、台盟中央主席苏辉、全国工商联主席高云龙、无党派人士代表郝如玉先后发言。他们赞成中共中央提出修改宪法的建议，赞同本次宪法修改的总体要求和原则，并就加强宪法实施和监督、维护宪法权威、推进依宪治国和依法治国提出意见和建议。\\n在认真听取了大家发言后，习近平作了重要讲话。他表示，今天，我们召开党外人士座谈会，目的是就宪法修改听取大家意见和建议。中共中央坚持协商于决策之前，重视在重要会议召开之前、重要文件颁发之前、重大决策决定之前，听取各民主党派中央、全国工商联和无党派人士意见和建议。大家各抒己见，很多建议都非常中肯，我们将认真研究吸纳。\\n习近平指出，宪法是国家的根本法，是治国安邦的总章程，是党和人民意志的集中体现。新中国成立以来特别是改革开放近40年来，宪法在我们党治国理政实践中发挥了十分重要的作用。中共十八大以来，中共中央多次强调，坚持依法治国首先要坚持依宪治国，坚持依法执政首先要坚持依宪执政。修改宪法，是党和国家政治生活中的一件大事，是中共中央从新时代坚持和发展中国特色社会主义的全局和战略高度作出的重大政治决策，也是推进全面依法治国、推进国家治理体系和治理能力现代化的重大举措。\\n习近平强调，我国宪法是一部好宪法。各民主党派和统一战线为我国宪法制度的形成和发展作出了重要贡献。宪法只有不断适应新形势才能具有持久生命力。中共中央决定对宪法进行适当修改，是经过反复考虑、综合方方面面情况作出的，目的是通过修改使我国宪法更好体现人民意志，更好体现中国特色社会主义制度的优势，更好适应提高中国共产党长期执政能力、推进全面依法治国、推进国家治理体系和治理能力现代化的要求。宪法修改，既要顺应党和人民事业发展要求，又要遵循宪法法律发展规律。\\n习近平指出，宪法是党和人民意志的集中体现，是通过科学民主程序形成的国家根本法。修改宪法，是事关全局的重大政治活动和重大立法活动，必须在中共中央集中统一领导下进行，坚持党的领导、人民当家作主、依法治国有机统一，坚定中国特色社会主义道路自信、理论自信、制度自信、文化自信，坚定不移走中国特色社会主义政治发展道路和中国特色社会主义法治道路，确保修宪工作正确政治方向。\\n习近平强调，宪法是人民的宪法，宪法修改要广察民情、广纳民意、广聚民智，充分体现人民的意志。希望大家深入思考，提出意见和建议。希望大家增强法治意识、强化法治观念，尊崇并带头遵守宪法法律，带动广大成员成为宪法的忠实崇尚者、自觉遵守者、坚定捍卫者。希望大家善用法治思维想问题、作判断、出措施，以法治凝聚共识、规范发展、化解矛盾、保障和谐，为实现中华民族伟大复兴凝聚人心、汇聚力量。\\n丁薛祥、王晨、许其亮、李建国、杨晓渡、陈希、黄坤明、尤权、周强、曹建明，中央有关部门负责同志出席座谈会。\\n出席座谈会的党外人士还有齐续春、陈晓光、马培华和郝明金、刘新成、何维、蒋作君、邵鸿、李钺锋、谢经荣、甄贞等。\\n']\n",
            "[0, 0, 0.99998885, '明天(1月21日)出版的人民日报将发表评论员文章，题目是《我国现行宪法是一部好宪法——一论学习贯彻党的十九届二中全会精神》。\\n文章指出,我国现行宪法是一部好宪法，好就好在符合国情、符合实际、符合时代发展要求，好就好在充分体现人民共同意志、充分保障人民民主权利、充分维护人民根本利益，好就好在推动国家发展进步、保证人民创造幸福生活、保障中华民族实现伟大复兴，好就好在为我们国家和人民经受住各种困难和风险考验、始终沿着中国特色社会主义道路前进提供了根本法治保障。\\n文章强调,维护宪法尊严和权威，是维护国家法制统一、尊严、权威的前提，也是维护最广大人民根本利益、确保国家长治久安的重要保障。我国现行宪法具有显著优势、坚实基础、强大生命力，必须坚决维护、长期坚持、全面贯彻。\\n']\n",
            "[0, 0, 0.99998873, '习近平总书记在十九大报告中指出，要重点攻克深度贫困地区脱贫任务，确保到2020年我国现行标准下农村贫困人口实现脱贫。我国贫困县最多的云南省，在习近平新时代中国特色社会主义思想指引下，打响十大脱贫攻坚战，确保各族群众如期摆脱贫困，实现共同富裕。\\n新年刚过，云南省提出必须牢牢把握高质量发展的要求，突出抓重点补短板强弱项，坚决打赢新时代第一场硬仗——精准脱贫攻坚战。\\n落实习近平新时代中国特色社会主义思想，对云南来说，重中之重就是脱贫攻坚，让全省人民共同富裕。目前云南仍有88个贫困县，贫困人口447万人，贫困发生率高达13.64％，是全国平均水平的3倍。怎样与全国同步建成全面小康，云南首先对自然条件极端恶劣地区的100万人口实施易地扶贫搬迁。维西县东山村，就属于典型的一方水土养不了一方人的贫困地区，村民原来居住的木板房简陋透风，条件十分艰苦。\\n去年底，村里易地搬迁，李向刚一家搬进了敞亮的砖瓦房，现在，他种植药材，今年有望摆脱贫困。包括易地扶贫搬迁在内，云南省出台十大攻坚战，从就业、产业、社会保障、素质提升等各方面，加大对贫困地区的扶持力度。另外，云南27名省级干部还与27个贫困发生率超过20%的深度贫困县直接挂钩，定点帮扶。\\n云南是全国少数民族最多的省份，在447万建档立卡贫困户中，少数民族占四成以上，他们能否按时脱贫，是关系到共同发展的大事。2015年1月，习近平总书记在云南考察时提出，云南要建设全国民族团结示范区。为此，云南正通过大力发展高原特色农业、乡村旅游等产业，带动少数民族贫困群众脱贫致富。在红河州蒙自市草坝镇，新成立的碧色寨旅游合作社，带动村里87户贫困家庭发展起特色民族旅游。\\n用发展促进民族团结。针对人口较少民族聚集区贫困人口比重大的实际，云南采取“一个民族一个行动计划”的攻坚模式，动员三峡集团、华能集团等5家大型国企对口帮扶，实现脱贫。\\n']\n",
            "[0, 0, 0.9999507, '党的十九大报告提出“创新是引领发展的第一动力”。天津在大气污染防治上创新方法，打响蓝天保卫战；南京致力于占领人才高地，构建创新生态“温床”。\\n']\n",
            "[0, 0, 0.9999227, '十九大后，天津施行的《天津市大气污染防治条例》规定，学校、商场、医院等不影响车辆正常行驶的地段，燃油机动车驾驶人停车三分钟以上的，应当熄灭发动机。\\n在源头治理上，天津对重点企业派驻专人全时段监督生产；同时筛选出393家高耗能企业，实施错峰生产、限产。在天津，越来越多的生产企业开始绿色转型。\\n']\n",
            "[0, 0, 0.99997973, '天津创新方法治理生态环境，南京则创新构建人才的生态“温床”。近日，中科院计算技术研究所将研发移动通信5G前沿技术的“智库”搬到南京。\\n南京拥有53所高校、130多家科研院所。十九大后，南京拿出真金白银，对入选省级顶尖人才顶级支持计划的，给予引才企业最高1亿元配套资助。与此同时，南京市还出台了加强人才安居的配套措施，大幅度放宽落户门槛。\\n十九大闭幕至今，已有65家新型研发机构在南京“落地生根”。南京计划到2025年，拥有1-2个世界知名的创新企业和世界级产业创新集群。\\n']\n",
            "[0, 0, 0.99998766, '山东探索长效机制，将财政专项扶贫资金、涉农资金统筹使用，提高资金使用效益，带动贫困户稳定增收。\\n这几天，山东临沂沙沟镇的713个贫困户陆续领到了镇上38个蔬菜大棚的分红。\\n蔬菜大棚是由镇里整合15个村的650万元财政专项扶贫资金建设的，然而最初，不少村的扶贫理事会对这一计划却并不赞成。\\n为打消顾虑，县里出台政策，扶贫资金形成固定资产，所有权归村集体，收益权归贫困户，经营权归承包户，并明确要求，承包户每年要拿出不低于扶贫资金投入的10%用于分红。\\n而在菏泽，当地加大整合力度，将农业、建设、公路等30多个部门的涉农资金统一使用。\\n今年起，山东还将实施财政专项扶贫资金绩效评价办法，进一步规范和加强扶贫资金管理。\\n']\n",
            "[0, 0, 0.99998754, '“因病致贫，因病返贫”是脱贫攻坚的重要难题。江西省通过推行家庭医生入村入户等措施，牢牢抓住贫困人口的医疗保障，精准施策、拔除“穷根”。\\n这两天，江西萍乡王家源村的63户贫困户正忙着一件大事儿，就是和村卫生服务室的医生签约。\\n王家源村有建档立卡贫困户63户，其中因病致贫和因病返贫的有42户。67岁的赖荷英患有高血压、冠心病，“大病”“重症”使一个还算富裕的家庭，一下成了贫困户。\\n现在，老人不仅可以享受医生上门服务，还能得到医药费减免。在江西，像赖荷英这样的贫困户有12.6万户。十九大后，江西施行“健康扶贫再提升工程”，设立城乡居民医疗保险、重大疾病保险、大病救助、重大疾病商业补充保险四道防线；同时，采取先治疗后付费、一站式结算等措施，解决“因病致贫、因病返贫”的难题。\\n2017年底，江西省建档立卡贫困患者住院自付医疗费用比例为6.79%，力争在2020年实现贫困人口全覆盖。\\n']\n",
            "[0, 0, 0.9999865, '黑龙江佳木斯市通过项目建设、技术引进等多种手段，利用秸秆资源，打造了一条绿色循环产业链，实现变废为宝。\\n新年伊始，黑龙江东部地区最大的秸秆回收利用企业就实现了收储秸秆60万吨的年目标，很快，这些秸秆将经过加工变成可降解本色生活用纸、黄腐酸有机肥等产品。\\n泉林所在的佳木斯市地处三江平原，作为传统农业大市，这里每年产生秸秆420万吨，以往秸秆的处理是秋收后最头疼的事儿。\\n为了实实在在解决秸秆处理难题，佳木斯把目光瞄准了秸秆造纸项目度。\\n而随着秸秆清洁制浆及其废液肥料资源化利用技术的研发，现在，造纸废液中的主要污染成分有机质木质素，可以直接转化为有机质黄腐酸，制造有机肥，既延伸了佳木斯的秸秆产业链，还保证了废水的环保排放。\\n产业结构的调整还给农民增收开辟了新道路，过去大伙都不要的秸秆，现在能以每吨500元的价格被回收。\\n下一步，佳木斯还将加快推进秸秆工业化利用率和利用水平，向可持续发展产业链强市转型。\\n']\n",
            "[0, 0, 0.99996436, '这个季节，数千只黑颈鹤从千里之外飞到雅鲁藏布江中游的西藏麦地卡湿地，在这里安然过冬。\\n目前西藏已有各类自然保护区47个，面积占到全区的三分之一。不仅是黑颈鹤，赤麻鸭、藏羚羊、藏野驴等其他野生动物的数量也持续增长。\\n保护生态的同时，西藏还严格实行矿产资源开发一支笔审批制度，坚决把高污染、高耗能、高耗水企业拒之门外。2013年以来未批一个开发项目。\\n前不久，中科院发布的《西藏生态建设与环境保护》监测报告显示，西藏高原生态质量稳定向好，大部分区域仍属于原生状态。\\n']\n",
            "[0, 0, 0.99998474, '为了更好地弘扬中华优秀传统文化，湖北通过推进“戏曲进校园”“传统经典进校园”等活动，让学生体悟传统、接触经典。\\n在湖北省戏曲艺术剧院，每天都有一群11到15岁的孩子在这里苦练戏曲。这156名戏曲苗子，是从湖北20多万名中小学生中层层选拔出来的。\\n湖北是中国戏曲的重要发源地，汇集京剧、汉剧、楚剧、黄梅戏、花鼓戏等32个剧种。为了将戏曲这一传统文化传承好，湖北还把戏曲作为一门课程，在武汉市的所有大中小学进行普及。\\n近几年，湖北还在中小学校开展经典诵读活动，不仅要求学生每天利用早读时间阅读散文诗歌、唐诗宋词，每两周还会用一节课时间评析经典著作。从今年起，湖北每年将投入3000多万元用于戏曲和传统文化的传承发展。\\n']\n",
            "[1, 1, 0.9978569, '2017年，我国空域环境持续优化，沪兰大通道正式贯通，陕甘青、京津冀、黔桂地区空域优化圆满完成。全年累计新辟航线78条，新增航路里程1万余公里，空管保障能力大幅增强，满足了航班起降年均增长10%的发展需求。\\n']\n",
            "[1, 1, 0.92173785, '连续5天遭遇大雾侵袭的安徽省，今天部分地区能见度不足100米，省内19条高速入口采取临时封闭措施。河南多地今天也出现了大雾天气，部分地区能见度小于50米，多条高速公路实施了临时管制。受冰凌淤堵影响，新疆新源县则克台镇昨天凌晨涌入大量洪水，218国道一度中断，经当地干部群众积极自救，疏导交通，洪水基本得到控制。\\n']\n",
            "[1, 1, 0.96241355, '由中央电视台和中国科学院等八大部委共同主办的2017年度CCTV科技创新人物日前揭晓，颁奖典礼将于明天上午10:20在央视综合频道、晚上7:48分在我台科教频道播出。颁奖典礼以“科技铸就中国梦”为主题，表彰了2017年度为国家科技事业做出突出贡献的创新人物和创新团队。\\n']\n",
            "[2, 1, 0.9497387, '土耳其近日多次对叙利亚西北部阿夫林地区发动猛烈炮击，打击受美国支持的叙利亚库尔德武装“人民保护部队”。“人民保护部队”19日表示将予以还击，叙利亚政府也警告土方不要挑起战事。\\n土耳其国防部长贾尼克利19号在接受媒体采访时证实，土军在阿夫林地区的军事行动已经开始，未来还将采取进一步行动。\\n据土耳其媒体报道，当天，土耳其从与叙利亚接壤的哈塔伊省向叙利亚阿勒颇省阿夫林地区的多个目标发动猛烈炮击。13日，土军也曾多次炮击该地区的库尔德武装。此前，土耳其已在哈塔伊省部署大量坦克，随时准备进入阿夫林地区。\\n19日，叙利亚库尔德武装“人民保护部队”发表声明称，土军的炮击造成当地居民财产损失，他们将进行还击。\\n叙利亚副外长梅克达德18日曾表示，倘若土耳其对叙利亚实施任何侵略行为或发起军事行动，叙利亚将作出相应反击。如果土方无视国际法，主动挑起战事，将被视为对叙利亚领土主权的侵犯。\\n分析认为，美国对库尔德武装不断提供军事支持是引发土军此轮行动的重要原因。土耳其把“人民保护部队”视为恐怖组织库尔德工人党在叙利亚的分支，而美国则将其视为打击极端组织的有效地面力量，日前还宣布将联合库尔德武装在叙东北部组建一支边境安全部队，遭到叙利亚、土耳其等国的强烈谴责。\\n']\n",
            "[1, 1, 0.9827613, '由于美国国会参议院当地时间19日深夜未能通过一项联邦政府临时拨款法案，美国联邦政府的非核心部门从20日零点开始被迫暂时关闭。\\n美国国会众议院18日通过一项为期四周的临时拨款法案，给予联邦政府资金继续运营至2月16日。但参议院在19日晚的投票中，没能达到推进此法案所需的60票门槛。美国联邦政府自2013年10月以来再次出现“停摆”风波。联邦政府非核心部门停止运行，部分联邦雇员被迫无薪休假，部分公立医院暂停接诊，博物馆、国家公园等暂时关门。白宫19日晚发表声明指责参议院民主党领袖舒默人为制造政府“停摆”风波。\\n美国联邦政府预算向来是两党政治博弈的焦点和筹码。此次，两党是因移民改革、军费开支等问题争执不下。美国联邦政府历史上曾多次“停摆”，但大部分都是在白宫和国会被两党分别控制的情况下发生的。这次则是出现在白宫、国会两院均为共和党控制之际。这也凸显出共和、民主两党对立分歧加剧，共和党内部分歧也在扩大，多名共和党议员公开反对本党支持的拨款法案。美国行政部门因为党争周而复始地陷入“停摆”窘境，则是对美国政治信用的严重透支。\\n']\n",
            "[2, 2, 0.99631757, '埃及总统塞西19日宣布，他将参加新一届总统选举。塞西说，他将确保选举过程透明，并呼吁选民踊跃投票。总统选举投票将于3月26日至28日举行。埃及武装部队前总参谋长萨米·阿南、律师哈立德·阿里等均表示了参加总统选举的意向。在2014年的总统选举中，塞西以96.91%的得票率当选总统。埃及总统任期4年，可连任一次。\\n']\n",
            "[2, 2, 0.97961354, '19日，一场沙尘暴袭击了土耳其东南部省份迪亚巴克尔和马尔丁。在强风的裹挟下，来势凶猛的沙尘已经把天空“染成”了黄色，室外能见度非常差，部分航班也因能见度太差而被迫取消。土耳其媒体报道称，沙尘来自叙利亚和伊拉克。\\n']\n",
            "[2, 2, 0.9967663, '马来西亚方面20日宣布，经确认，中国旅马大熊猫“靓靓”14日产下的宝宝为雌性。此前，由于“靓靓”一直拒绝外人靠近，无法确认大熊猫宝宝的性别。“靓靓”和大熊猫宝宝均情况良好，目前处于隔离中，要过一段时间才会与公众见面。马方将在合适的时候为大熊猫宝宝举行命名仪式。“靓靓”和雄性大熊猫“兴兴”2014年租借给马来西亚，他们的第一个孩子“暖暖”也是雌性，出生于2015年，已于去年11月返回中国。\\n']\n",
            "[2, 2, 0.98208016, '美国今年冬天流感疫情进一步恶化。美国疾病控制和预防中心19日说，该中心监测流感13年来，美国本土首次全部达到“广泛传播”级别。\\n加州卫生部门19日通报称，该州过去一周新增32名死亡病例，使得从去年十月开始的流感季节死亡人数升至74人，这些死者的年龄都在65岁以下。美国疾控中心此前认为，今年冬季美国流感暴发时间早，将达到“严重”水平。数据显示，最常见的流感病毒类型是甲型流感病毒。\\n']\n",
            "[0, 0, 0.999989, '习近平总书记在十九大报告中提出，贯彻新发展理念，建设现代化经济体系，发挥优势推动中部地区崛起。\\n不临海不沿边的河南省，在习近平新时代中国特色社会主义思想指引下，不断推进空中、陆上丝绸之路建设，打造内陆开放高地，一个全面开放的新格局正在形成。\\n新年伊始，河南“空中丝绸之路”建设好消息不断，首单飞机租赁业务完成；郑州新郑机场已经开通全货机航线34条，货邮吞吐量首次跻身全球50强，仅郑州到卢森堡的货运量就达到14.7万吨。\\n十九大报告从统筹国内国际两个大局的角度、从理论与实践两个维度，系统回答了新时代要不要开放、要什么样的开放、如何更好地推动开放等重大命题。\\n围绕党中央的要求，河南一直在思考，如何面对地处内陆这个短板搞好开放，怎样在看似不利的区位条件下，融入“一带一路”，以开放带动全省发展。十九大后，全省干部群众迅速展开学习落实。\\n现在，围绕建设内陆开放高地这个战略目标，河南全省干部群众正铆足劲加油干。天上，“空中丝绸之路”建设加快推进，全面提升郑州机场货运能力；地上，让铁路、公路、航空多种运输方式融合互通。这些通道建设，既服务国家开放整体战略，也为河南发展开拓新空间。\\n十九大提出，“发展更高层次的开放型经济”。在河南省，党中央的新精神正得到全面体现。运输体系的不断完善带动河南产业不断升级，航空物流、高端制造、现代服务业三大主导产业呈现协同并进态势。在距离郑州机场20公里的郑州航空港区智能终端产业园第四园区，首家入驻企业刚刚投产。它们的目标是2018年生产智能手机150万部，产值突破30亿元。\\n依托交通枢纽优势，这个园区已经汇聚了49家投产企业，现在全球每七部手机里就有一部来自河南，很快还有一批知名手机生产企业将在园区落地。\\n2018年，河南将继续发力对外开放，加快建设郑州航空港经济综合实验区、中国河南自由贸易试验区、中国郑州跨境电子商务综合试验区，进一步提升中欧班列运输和运营能力。\\n']\n",
            "[0, 0, 0.9999887, '刚刚闭幕的党的十九届二中全会审议通过了《中共中央关于修改宪法部分内容的建议》。社会各界表示，根据新时代坚持和发展中国特色社会主义的新形势、新任务，对我国宪法作出适当的修改，具有重大现实意义和深远历史意义。\\n宪法是国家的根本法，是治国安邦的总章程，是党和人民意志的集中体现。广大干部群众表示，宪法修改是国家政治生活中的一件大事，是党中央从新时代坚持和发展中国特色社会主义全局和战略高度作出的重大决策，也是推进全面依法治国、推进国家治理体系和治理能力现代化的重大举措。\\n各界人士认为，宪法必须随着党领导人民建设中国特色社会主义实践的发展而不断完善发展，才能具有持久生命力。为更好发挥宪法在新时代坚持和发展中国特色社会主义中的重大作用，需要对宪法作出适当修改，把党和人民在实践中取得的重大理论创新、实践创新、制度创新成果上升为宪法规定。\\n中国特色社会主义进入新时代，这是我国发展新的历史方位。大家表示，这次修改宪法将为新时代坚持和发展中国特色社会主义、实现“两个一百年”奋斗目标和中华民族伟大复兴的中国梦提供有力宪法保障。\\n']\n",
            "[0, 0, 0.999989, '明天出版的人民日报将发表评论员文章，题目是《宪法必须随着实践发展而不断发展——二论学习贯彻党的十九届二中全会精神》。\\n文章指出，宪法必须随着党和国家事业的发展而不断发展，这是我国宪法发展的一个显著特点，也是一条基本规律。对宪法进行适当修改，是党中央从新时代坚持和发展中国特色社会主义全局和战略高度作出的重大决策，是推进全面依法治国、推进国家治理体系和治理能力现代化的重大举措。\\n文章强调，我国宪法应该坚持与时俱进，更好体现党和国家事业发展的新成就新经验新要求，成为全国各族人民的共同遵循，成为国家各项事业、各方面工作的活动准则。\\n']\n",
            "[0, 0, 0.99998933, '全国政协主席俞正声21日下午主持召开政协第十二届全国委员会第六十九次主席会议。\\n会议传达学习了习近平总书记近期关于人民政协工作的重要讲话精神。会议强调，习近平总书记的重要讲话，充分肯定了十二届全国政协五年来的工作，对做好政协下一步工作提出了殷切希望，对修改好政协章程、开好政协十三届一次会议提出了具体要求。全国政协要认真学习贯彻习近平总书记的重要讲话精神，尽职尽责，全力以赴把全国政协十三届一次会议筹备工作做好，把人民政协事业的接力棒传递好。全国政协办公厅要谋划好今年工作，为新一届政协开好局当好参谋助手。\\n会议原则通过了政协第十三届全国委员会参加单位、委员名额和委员人选名单（草案）。会议决定，将上述草案提请政协十二届常委会第二十四次会议审议。\\n中央书记处书记、中央统战部部长尤权，全国政协副主席杜青林，全国政协副主席兼秘书长张庆黎，分别就有关议题作了说明和传达。\\n']\n",
            "[0, 0, 0.9999041, '四川成都双流乡村振兴既要“面子”也要“里子”；内蒙古阿尔山通过“旅游+扶贫”叩响村民致富门。今天的《新时代新气象新作为》，来看看这两个地方的乡村振兴新思路。\\n']\n",
            "[0, 0, 0.9999881, '刚进腊月，廖长成老两口就开始忙着迎接春节了。这是他们搬进新房的第一个年。\\n在双流区，居住条件不好的村民还有6900户。十九大报告里提出，要按照生态宜居、乡村文明、生活富裕的总要求，加快推进农村现代化。\\n提高村民生活水平，先从改善居住条件开始。怎么改善，村民共同商量着来。\\n是否参与自主选、资金安排自主定、实施方案自主议、建设质量自主控、建好新村自主管，用这种“村民做主”模式，双流区把民生工程做到了百姓的心坎上。到2018年年底，将建成17个美丽新村，改善6900户村民的居住条件。\\n']\n",
            "[0, 0, 0.99998474, '同样是乡村振兴，内蒙古阿尔山依托冰雪资源带领村民发展产业。这几天，很多游客到阿尔山体验冰雪世界。\\n阿尔山是国家级集中连片特困地区。尽管当地依托草原、森林发展旅游。但夏季火爆、冬季冷淡一直制约着旅游发展。十九大报告中提出，要提供更多优质生态产品。这两个月，阿尔山在“全域旅游”上做起了文章。\\n十九大后，阿尔山将过去单一观赏型景区向观光、休闲、度假的复合型景区转变；投入近2000万元帮助农牧民发展旅游产业项目。现在，已经有550户村民依托“全域游”“四季游”摆脱贫困。\\n']\n",
            "[0, 0, 0.99998814, '山东临沂代村党支部书记王传喜，19年来带领村民苦干实干，让一个昔日“脏乱穷差”的落后村庄，发展成生活富裕的“模范新农村”。\\n来到代村，眼前的景象让人很难相信，这里曾经是一个村集体负债380万，环境乱、治安乱的穷村子。\\n1999年，在外面干“包工头”的王传喜临危受命，回村当上了支部书记。\\n上任不久，王传喜就带领村干部梳理出人地不均、环境脏乱等80多个关键难题。村民小组之间人均土地相差近十倍，2000年初，王传喜下决心进行土地调整。\\n王传喜大胆提出人均保留0.7亩地的流转方案，多余土地由村集体统一规模化经营，到年底村民按人头分红。可分地的木桩砸下去第二天，就被全部推倒了。\\n王传喜挨家挨户做群众思想工作，土地流转顺利完成。为了让村民靠流转的土地赚钱，王传喜瞅准现代农业这块市场，用两年时间建起一座国家级农业公园。\\n村民的心稳住了，王传喜又带领大家开展治安整治、环境整治，代村的面貌一天天在变好。每年还吸引来100多万游客到代村游览观光，村民人均年收入6.5万元，村集体总产值达20多亿元。\\n']\n",
            "[0, 0, 0.9999873, '乡村基层干部是否懂农业、爱农村、爱农民，就体现在他们的工作方法和工作成效里。王传喜把村子里的土地集中起来，也把大家的民心和干劲凝聚了起来，落实了党的改革政策，让土地焕发出新的活力，也让村民们的钱包鼓了起来。乡村振兴要驶上快车道，就需要更多像王传喜这样肯干、会干的基层干部。\\n']\n",
            "[0, 0, 0.9999864, '62年前，一群师生响应国家号召，从上海将交通大学的大部分搬迁到西安，用“胸怀大局、无私奉献、弘扬传统、艰苦创业”的“西迁精神”建设祖国大西北。62年发展巨变，这份精神仍在薪火相传，激励西安交大人在新时代为西部发展、国家建设奉献智慧和力量。\\n临近期末，西安交大教学督导组专家胡奈赛正忙着为年轻教师总结一学期的教学情况。她是1956年随校从上海西迁而来，如今已83岁。但她仍然“退而不休”，就希望多培养点“强国”的“好苗子”。\\n发挥光与热，是老一辈教师对学生的指引。在不久前的2017年国家科学技术奖励大会上，西安交大的一项“特种传感器”成果获国家技术发明二等奖。研究团队传承“西迁教师”的坚守精神，从最初对国际前沿的跟踪、追赶，用20年的研究达到了今天的国际领先。\\n国家之需，乃我辈之责。西安交大工商管理专业的博士研究生林舒进去年来到偏远的正阳镇挂职扶贫工作。他用专业知识帮农民找销路、动员社会力量资助贫困学生。现在即将博士毕业，他却希望能把青春留给山区。\\n如今，“西迁精神”正在新时代催人奋进。西安交大承建的“中国西部科技创新港”将在今年建成，一批大数据、人工智能科技研发中心，将为国家西部发展提供新的智慧引擎。\\n']\n",
            "[0, 0, 0.9999871, '新华社今天发表评论员文章《胸怀凌云志 共筑航天梦》。文章说，发展航天事业，建设航天强国，是我们不懈追求的航天梦。中国人民解放军航天员大队，就是一个伴随我国航天事业发展壮大的英雄群体。20年来，他们取得了六战六捷、次次圆满的飞天奇迹，被誉为“航天强国征途上的时代先锋”。他们的事迹启示我们，心有大我、不懈奋斗，把个人奋斗融入时代发展的大潮，才能使个人价值得到升华。\\n']\n",
            "[1, 1, 0.99838805, '目前，全国30%的近岸海域和35%的大陆岸线已纳入海洋生态保护红线管控范围。海洋保护区面积占管辖海域面积达4.1%。累计修复海岸带、沙滩、湿地9800多公顷。\\n']\n",
            "[1, 1, 0.9979437, '第十届全国德艺双馨电视艺术工作者表彰大会今天在京举行，共有47人获得“全国德艺双馨电视艺术工作者”荣誉称号，获奖者都是活跃在基层及一线的电视艺术工作者。\\n']\n",
            "[1, 1, 0.9990156, '日前，南宁海关联合福州海关以及公安部门共同开展打击“洋垃圾”走私行动，抓获犯罪嫌疑人11人，打掉2个洋垃圾走私团伙。从2017年5月至今，走私团伙偷运入境“洋垃圾”5000余吨。\\n']\n",
            "[1, 1, 0.99816996, '今晨，我国最北端的黑龙江漠河迎来入冬最低温，达零下41.5度，同时出现冰雾天气。\\n']\n",
            "[2, 1, 0.6313606, '土耳其总统埃尔多安20日宣布，土耳其军队已经开始发起针对叙利亚北部阿夫林地区库尔德武装的军事行动。\\n埃尔多安表示，目前在叙利亚阿夫林的地面行动“实际上已经开始 ”。他说，土耳其有决心维护国家安全，清除边境地区的恐怖分子。土耳其总参谋部当天也发表声明，宣布相关军事行动正式开始，声明称土耳其“尊重叙利亚的领土完整”。\\n当天，土耳其空军出动战机越境空袭了叙利亚库尔德武装“人民保护部队”的军事观察点和燃料库等目标。同时，在土耳其炮火支持下，叙利亚反对派武装“叙利亚自由军”进入阿夫林地区，展开针对“人民保护部队”的地面军事行动。\\n叙利亚外交部20日发表声明强烈谴责土耳其对阿夫林发起军事行动是对叙利亚主权的再一次“野蛮侵犯”。声明还坚决否认土方事先向叙方通报了此次军事行动。\\n同一天，俄罗斯国防部发布消息说，出于安全考虑，驻扎在阿夫林地区的俄罗斯军队已经撤离。\\n近年来，叙利亚库尔德武装在打击极端组织行动中实力不断壮大，得到美国的军事支持。美国主导的国际联盟又在近日宣布，将联合库尔德武装在叙利亚东北部组建一支边境安全部队。对此土耳其反应强烈，因为土耳其认为叙利亚库尔德武装——“人民保护部队”是库尔德工人党在叙利亚的分支，库尔德工人党在土耳其被列为恐怖组织。土耳其政府担心这两种势力联合，威胁到土耳其的安全。\\n']\n",
            "[1, 1, 0.97908074, '国际奥委会20日在瑞士洛桑总部宣布，朝鲜和韩国两国代表团将在平昌冬奥会开幕式上举“朝鲜半岛旗”共同入场，同时还将在女子冰球项目上联合组队参赛。\\n当天，由国际奥委会、朝韩两国奥委会以及平昌冬奥会组委会代表参加的四方会议在洛桑举行，各方共同签署了《朝鲜半岛奥运宣言》，就朝鲜参加平昌冬奥会的具体事项作出明确规定。\\n国际奥委会批准由两国代表团各派一名运动员举“朝鲜半岛旗”，在开幕式上以“朝鲜半岛”的名义共同入场，同时代表团成员着特殊队服。宣言称，朝鲜将派出22名运动员赴韩国参加平昌冬奥会三个大项、五个分项的比赛。在女子冰球比赛中，两国奥运史上还将首次联合组队参赛。颁奖时，朝韩联合女子冰球队将打“朝鲜半岛旗”，奏歌曲《阿里郎》。\\n此外，朝鲜艺术团先遣队21日由陆路抵达韩国，为平昌冬奥会期间举行的文艺演出进行为期两天的事先考察，先遣队一行由朝鲜三池渊管弦乐团团长玄松月率领，也是文在寅政府成立后访韩的首批朝方人士。\\n']\n",
            "[1, 1, 0.80096805, '阿富汗首都喀布尔洲际酒店20日遭4名武装分子袭击。北京时间今天傍晚，阿富汗安全人员的清剿行动结束，4名袭击者均被击毙。根据阿富汗内政部公布的信息，袭击还造成至少5人遇害，6人受伤。酒店内包括41名外国人在内的153人撤离。阿富汗塔利班已宣称对袭击负责。\\n当地时间20日晚，武装分子冲入洲际酒店实施了一系列爆炸，并劫持人质。随后，阿富汗安全人员赶到现场进行清剿，与武装分子展开交火。酒店大楼内部还发生火灾。\\n事发后，为躲避火情及袭击，酒店内有人员将窗帘和床单结成绳索试图从阳台逃生。\\n此前，美国使馆曾发布安全警告称，情报显示有极端分子策划近期对喀布尔市内的酒店发动袭击。\\n遭袭的喀布尔洲际酒店位于当地一座山坡之上，平时戒备森严。作为当地为数不多的高级酒店，经常有外国公民以及阿富汗政府官员进出这家酒店，在酒店中举办会议或其他活动。\\n']\n",
            "[2, 2, 0.9145164, '叙利亚国家电视台报道说，20日，叙利亚政府军恢复了在伊德利卜前线的军事行动，并于当天收复了位于伊德利卜省东部的阿布杜胡尔空军基地。\\n阿布杜胡尔空军基地位于伊德利卜省和阿勒颇省交界处，战略位置重要，曾遭到叙利亚反政府武装包围长达两年，收复这一空军基地有利于叙利亚政府军进一步推进在伊德利卜省的军事行动。\\n']\n",
            "[2, 2, 0.98932666, '美国副总统彭斯20日访问埃及，在谈到巴以问题时，彭斯表示，美国仍旧支持 “两国方案”。所谓“两国方案”，是指巴勒斯坦和以色列分别建国，两国和平共存。国际社会普遍支持这一方案，认为它是实现巴以持久和平的唯一办法。\\n彭斯此次访问埃及、约旦、以色列三国，原定于去年12月进行，但因美国总统特朗普宣布承认耶路撒冷为以色列首都而延期。有观点认为，彭斯此行意在安抚美国在中东的盟友国家。\\n']\n",
            "[2, 2, 0.99580634, '印度首都新德里一个烟花仓库20日突发大火，已造成至少17人丧生、多人受伤。21日，新德里警方逮捕了涉事男子马诺杰·贾殷。据报道，贾殷是起火仓库的承租人，他还涉嫌在这个仓库内非法制造和储存烟花。目前，起火的具体原因仍在进一步的调查中。\\n']\n",
            "[2, 2, 0.9920802, '日本东京电力公司19日公布了对福岛第一核电站2号机组内部的最新调查结果，首次发现了该机组反应堆堆芯熔化后的核残渣。\\n']\n",
            "[0, 0, 0.9999891, '中共中央总书记、国家主席、中央军委主席习近平近日就政法工作作出重要指示，对党的十八大以来政法战线取得的成绩给予充分肯定，对新时代政法工作提出明确要求。\\n习近平指出，党的十八以来，政法战线认真贯彻党中央决策部署，坚持一手抓当前、一手谋长远，为维护改革发展稳定大局作出了重要贡献。\\n习近平强调，希望全国政法战线深入学习贯彻党的十九大精神，强化“四个意识”，坚持党对政法工作的绝对领导，坚持以人民为中心的发展思想，增强工作预见性、主动性，深化司法体制改革，推进平安中国、法治中国建设，加强过硬队伍建设，深化智能化建设，严格执法、公正司法，履行好维护国家政治安全、确保社会大局稳定、促进社会公平正义、保障人民安居乐业的主要任务，努力创造安全的政治环境、稳定的社会环境、公正的法治环境、优质的服务环境，增强人民群众获得感、幸福感、安全感。\\n习近平要求，各级党委要坚持抓发展、抓稳定两手都要硬，选好配强政法机关领导班子，支持政法各单位依法履行职责，积极研究解决制约政法工作的体制机制问题，为做好新时代政法工作提供有力保障。\\n']\n",
            "[0, 0, 0.9999888, '中央政法工作会议22日在北京召开。中共中央政治局委员、中央政法委书记郭声琨在会上传达习近平重要指示并讲话。\\n会议强调，全国政法机关要高举习近平新时代中国特色社会主义思想伟大旗帜，深入学习贯彻党的十九大和中央经济工作会议精神，增强“四个意识”，坚定“四个自信”，坚持“三个一以贯之”，坚持党对政法工作的绝对领导，坚持以人民为中心的发展思想，坚持稳中求进工作总基调，紧紧围绕打好三大攻坚战，以加强人权司法保障、产权司法保护为切入点，以防控好各类风险为着力点，以全面深化改革、现代科技应用为动力，深入推进平安中国、法治中国和过硬队伍、智能化建设。紧扣新时代新使命，适应新矛盾新要求，推动新时代政法工作有新气象新作为，确保国家政治安全和社会大局稳定的局面进一步巩固，服务和保障经济社会发展大局的能力进一步提高，维护社会公平正义的水平进一步提升，人民群众获得感、幸福感、安全感进一步增强。\\n']\n",
            "[0, 0, 0.9999889, '在全国个体劳动者第五次代表大会开幕之际，中共中央总书记、国家主席、中央军委主席习近平致信大会，代表党中央，向全体与会代表及全国广大个体私营企业经营者致以诚挚的问候。\\n习近平在信中指出，我国个体私营经济是改革开放的产物。40年来，在党和国家鼓励、支持、引导方针政策指引下，个体私营经济在稳定增长、促进创新、增加就业、改善民生等方面发挥了重要作用。当前，中国特色社会主义进入新时代。深化供给侧结构性改革，实施区域协调发展战略，发展实体经济，推进精准扶贫，对个体私营经济发展提出了新的更高的要求。广大个体私营企业经营者要认真学习贯彻党的十九大精神，弘扬企业家精神，发挥企业家作用，坚守实体经济，落实高质量发展，在全面建成小康社会、全面建设社会主义现代化国家新征程中作出新的更大贡献。\\n习近平强调，个体劳动者私营企业协会要发挥好桥梁纽带作用，当好政策法规的普及者、深化改革的推动者、能力素质的提升者、党的建设的组织者，为个体私营企业搭建发展平台、创造发展环境，切实做好各项工作。\\n']\n",
            "[0, 0, 0.99998903, '中共中央政治局常委、国务院总理李克强在批示中指出，希望广大个体私营企业经营者深入学习贯彻党的十九大精神，以习近平新时代中国特色社会主义思想为指导，爱国敬业，守法诚信，按照高质量发展要求，大力弘扬企业家精神和工匠精神，积极投身大众创业万众创新，在培育发展新动能、推动实体经济加快升级中发挥更大作用，在全面建成小康社会、全面建设社会主义现代化国家新征程中作出更大贡献！各相关部门、各地区和个体私营企业协会要牢牢坚持“两个毫不动摇”，持续深化简政放权、放管结合、优化服务改革，积极为个体私营企业排忧解难，落实好减税降费等各项政策，依法保护产权等企业各项合法权益，以更有力的举措打造良好营商环境。\\n']\n",
            "[0, 0, 0.9999893, '22日上午，全国个体劳动者第五次代表大会在京开幕，国务委员王勇在会上宣读了习近平的贺信和李克强的批示并讲话。他强调，要深入学习贯彻党的十九大精神和习近平总书记贺信的要求，以习近平新时代中国特色社会主义思想为指导，坚持新发展理念，加快推动个体私营经济转变发展方式、优化经济结构、转换增长动力，努力开创个体私营经济高质量发展新局面。\\n个体私营经济作为我国社会主义市场经济的重要组成部分，在推动经济发展、服务社会民生等方面发挥了重要作用。从上世纪80年代初开始，各地相继成立了个体劳动者协会和私营企业协会。截至2017年底，全国个体工商户达6579.4万户，私营企业2726.3万户,从业人员合计3.41亿人。\\n']\n",
            "[0, 0, 0.99998903, '1月22日，中共中央政治局常委、国务院总理、党组书记李克强主持召开国务院党组会议，深入学习贯彻党的十九届二中全会精神。\\n会议指出，十九届二中全会是在全党全国全面贯彻党的十九大精神、中国特色社会主义进入新时代大背景下召开的一次重要会议。习近平总书记在会上作了重要讲话。全会审议通过了《中共中央关于修改宪法部分内容的建议》，把党的十九大确定的重大理论观点和重大方针政策特别是习近平新时代中国特色社会主义思想载入国家根本法，强调中国共产党领导是中国特色社会主义最本质的特征。这是党中央从新时代坚持和发展中国特色社会主义全局和战略高度作出的重大决策，也是推进全面依法治国、推进国家治理体系和治理能力现代化的重大举措。国务院党组完全拥护。\\n会议强调，各级政府要坚持用习近平新时代中国特色社会主义思想指导各项工作，牢固树立“四个意识”，坚决维护习近平同志党中央的核心、全党的核心地位，维护党中央权威和集中统一领导，坚持依宪施政、依法行政，坚持权由法定、权依法使，深化“放管服”改革，制定政府权责清单，克服和纠正不作为、乱作为。加强行政法规规章立改废释。推进严格规范公正文明执法。\\n会议要求，要全面深入贯彻党的十九大和十九届二中全会精神。宪法修正案经全国人大通过后，各级政府要加强宪法宣传教育，增强宪法意识，为新时代推进全面依法治国、建设社会主义法治国家努力奋斗。\\n张高丽、刘延东、汪洋、马凯、杨晶、常万全、杨洁篪、王勇出席。\\n']\n",
            "[0, 0, 0.9999892, '22日上午，国务院总理李克强主持召开国务院第八次全体会议，讨论拟提请十三届全国人大一次会议审议的政府工作报告，决定将《政府工作报告（征求意见稿）》发往各省（区、市）和中央国家机关有关部门、单位征求意见。\\n李克强说，向全国人民代表大会报告工作，是国务院的法定职责。要广泛听取各方意见，了解基层群众期盼，使政府工作报告充分体现推动高质量发展、深化改革开放、破解重大难题、更好造福人民的要求，促进政府工作改进提高。\\n李克强说，党的十八大以来，在以习近平同志为核心的党中央坚强领导下，面对极其严峻复杂的国内外形势，全国上下坚持稳中求进，攻坚克难，经济社会发展取得历史性成就、发生历史性变革，经济实力又上一个大台阶，经济结构和增长格局更加优化，全面深化改革取得重大突破，就业、脱贫攻坚等成为民生改善的突出亮点，成绩来之不易。尤其是去年，经济增长、财政收入、企业效益、新动能成长等很多方面都取得超出预期的好成绩，实现了五年圆满收官，为下步发展打下良好基础。\\n李克强说，确保今年发展继续保持向好态势，政府工作艰巨繁重。必须全面深入贯彻党的十九大精神，以习近平新时代中国特色社会主义思想为指导，落实新发展理念，以供给侧结构性改革为主线，紧抓机遇，直面挑战，统筹做好稳增长、促改革、调结构、惠民生、防风险各项工作，坚决打好防范化解重大风险、精准脱贫、污染防治三大攻坚战，在推动高质量发展中不断增强经济创新力和竞争力，在深化改革开放中不断增强市场活力和社会创造力，把教育、医疗、养老、住房、环保等民生工作做得更好，增强人民获得感、幸福感、安全感。\\n李克强说，各地区各部门要保持良好精神状态，围绕党和国家中心工作尽心履职。跟踪分析经济形势变化，重视苗头性倾向性问题，加强政策研究和储备。大力推改革促创新、出实招干实事，下好“先手棋”，努力在新的一年干出新的业绩。要抓紧做好一季度各项工作，确保良好开局，同时加强农民工工资清欠，保障群众温暖过冬，做好节日市场供应，强化食品药品、生产和运输安全管理，切实安排好困难群众生活。\\n国务院副总理张高丽、刘延东、汪洋、马凯和国务委员杨晶、常万全、杨洁篪、郭声琨、王勇等国务院全体会议组成人员出席会议。\\n']\n",
            "[0, 0, 0.999989, '中共十二届全国人大常委会党组22日召开会议，认真学习领会习近平总书记在党的十九届二中全会上的重要讲话精神，研究全国人大常委会贯彻落实全会精神、做好宪法修改相关工作。全国人大常委会委员长、常委会党组书记张德江主持会议并讲话。\\n会议认为，党的十八大以来，以习近平同志为核心的党中央以前所未有的力度推进全面依法治国进程，社会主义法治国家建设取得历史性成就。党中央把实施宪法摆在全面依法治国的突出位置，采取一系列有力措施加强宪法实施和监督工作，为保证宪法实施提供了强有力的政治和制度保障。全国人大及其常委会认真贯彻落实党中央决策部署，完善以宪法为核心的中国特色社会主义法律体系，作出设立国家宪法日的决定，实施宪法宣誓制度，加强法规备案审查工作，有效履行了监督宪法实施职责。\\n会议指出，党的十九届二中全会通过关于修改宪法部分内容的建议，把党的十九大确定的重大理论观点和重大方针政策特别是习近平新时代中国特色社会主义思想载入国家根本法，体现了党和国家事业发展的新成就新经验新要求。全国人大及其常委会在修改宪法工作中负有重大职责。要以习近平新时代中国特色社会主义思想为指导，坚持党的领导、人民当家作主、依法治国有机统一，牢固树立“四个意识”，坚决贯彻落实党中央关于宪法修改的总体要求和原则，坚定不移把党中央集中统一领导贯穿于宪法修改工作全过程，推动依法治国、依宪治国工作提高到一个新水平。\\n']\n",
            "[0, 0, 0.99998844, '十二届全国人大常委会第一百零八次委员长会议22日下午在北京人民大会堂举行。会议决定，十二届全国人大常委会第三十二次会议1月29日至30日在京举行。张德江委员长主持会议。\\n委员长会议建议，常委会第三十二次会议讨论中共中央关于修改宪法部分内容的建议、审议中华人民共和国宪法修正案草案，审议全国人大常委会委员长会议关于提请审议全国人大常委会关于召开第十三届全国人大一次会议的决定草案的议案，审议任免案。\\n委员长会议上，全国人大常委会副委员长兼秘书长王晨就常委会第三十二次会议议程草案、日程安排作了汇报；全国人大常委会有关副秘书长、法制工作委员会负责人就常委会第三十二次会议有关议题作了汇报。\\n']\n",
            "[0, 0, 0.999989, '中共政协第十二届全国委员会党组21日下午在京召开会议，传达学习贯彻习近平总书记在党的十九届二中全会上的重要讲话和全会精神。全国政协主席、党组书记俞正声主持会议并讲话。\\n会议认为，我国现行宪法是一部好宪法，为改革开放和社会主义现代化建设提供了根本法治保障，必须坚决维护、长期坚持、全面贯彻。\\n会议强调，要更加紧密地团结在以习近平同志为核心的党中央周围，坚持以习近平新时代中国特色社会主义思想为指导，全面深入贯彻党的十九大精神和二中全会精神，牢固树立“四个意识”，坚定不移走中国特色社会主义法治道路，自觉维护宪法权威、保证宪法实施，为新时代推进全面依法治国、建设社会主义法治国家而努力奋斗。\\n会议要求，全国政协要认真学习领会习近平总书记在党的十九届二中全会上的重要讲话和全会精神，并贯彻落实到人民政协履行职能的全过程。一是坚持党的领导，增强法治意识，尊崇并带头遵守宪法法律，做宪法的忠实崇尚者、自觉遵守者、坚定捍卫者。二是做好政协章程修改工作。三是组织政协委员就修改宪法提出建设性意见建议。四是确保人民政协在宪法框架内履职尽责。组织政协委员开展学习宪法、践行宪法的实践活动，依照宪法推进协商民主建设，开展民主监督工作。\\n']\n",
            "[0, 0, 0.99998903, '政协第十二届全国委员会常务委员会第二十四次会议22日上午在京开幕。全国政协主席俞正声出席开幕会。\\n本次常委会议主要是为召开全国政协十三届一次会议作准备，主要议程有：审议通过关于召开政协第十三届全国委员会第一次会议的决定，协商决定政协第十三届全国委员会参加单位、委员名额和委员人选名单，审议通过提交政协第十三届全国委员会第一次会议审议的政协全国委员会常务委员会工作报告、关于提案工作情况的报告、中国人民政治协商会议章程修正案（草案），审议通过政协第十三届全国委员会第一次会议议程（草案）和日程（草案），审议通过关于授权主席会议审议政协第十二届全国委员会常务委员会第二十四次会议未尽事宜的决定，听取政协第十二届全国委员会专门委员会主任关于本委员会工作情况的汇报，审议政协全国委员会2018年协商计划、有关工作总结、反映社情民意信息工作情况、视察考察和外事出访的书面报告。\\n开幕会听取了全国政协常务副秘书长潘立刚关于政协全国委员会常务委员会工作报告（草案）起草情况的说明、全国政协提案委员会主任孙淦关于政协全国委员会常务委员会提案工作情况的报告（草案）起草情况的说明。\\n全国政协经济委员会主任周伯华、人口资源环境委员会主任贾治邦、教科文卫体委员会主任张玉台、社会和法制委员会主任孟学农、民族和宗教委员会主任朱维群、港澳台侨委员会主任杨衍银、外事委员会主任潘云鹤、文史和学习委员会主任王太华，分别汇报了本委员会五年工作情况。\\n杜青林主持开幕会。\\n']\n",
            "[0, 0, 0.99998873, '党的十九届二中全会审议通过的《中共中央关于修改宪法部分内容的建议》，在社会各界引起热烈反响。社会各界表示，推动宪法与时俱进、完善发展，是维护最广大人民根本利益、确保国家长治久安的重要保障。\\n党的十八大以来，以习近平同志为核心的党中央以前所未有的力度推进全面依法治国进程，社会主义法治国家建设取得了历史性成就。坚持依法治国首先要坚持依宪治国，广大干部群众表示，由宪法及时确认党和人民创造的伟大成就和宝贵经验，以更好发挥宪法的规范、引领、推动、保障作用，是实践发展的必然要求。\\n宪法修改关系全局，影响广泛而深远。大家认为，党的十九大对新时代坚持和发展中国特色社会主义作出重大战略部署，确定了新的奋斗目标，宪法要随着时代进步、党和人民事业发展而不断完善。\\n宪法是国家各项制度和法律法规的总依据，充实宪法的重大制度规定，对完善和发展中国特色社会主义制度具有重要作用。各界人士表示，要以这次宪法修改为契机，把依法治国、依宪治国工作提高到一个新水平。\\n']\n",
            "[0, 0, 0.99998903, '明天出版的人民日报将发表评论员文章，题目是《准确把握修改宪法必须遵循的原则——三论学习贯彻党的十九届二中全会精神》。\\n文章指出，宪法修改，是国家政治生活中的一件大事，是事关全局的重大立法活动。党的十九届二中全会明确提出了这次宪法修改的总体要求和必须贯彻的“四个原则”，是我们党在新时代依宪执政、依宪治国、领导立法的生动实践，充分彰显了以习近平同志为核心的党中央治国理政的政治智慧和历史担当。\\n文章强调，顺应党和人民事业发展要求，遵循宪法法律发展规律，准确把握修改宪法必须遵循的原则，这次宪法修改就一定能充分体现党的领导、人民当家做主、依法治国有机统一，充分体现党的主张与人民意志有机统一，使我国宪法更好发挥对新时代坚持和发展中国特色社会主义的重大作用。\\n联播快讯\\n']\n",
            "[1, 0, 0.9982332, '记者从国家发改委了解到，2017年全社会用电量达6.3万亿千瓦时，同比增长6.6%。其中，以信息传输、计算机服务和软件为主的三产用电量实现两位数增长，从用电数据可以看出我国经济运行平稳。\\n']\n",
            "[1, 0, 0.9986274, '从今年2月1日起公安部推出八项新的出入境便利措施。涉及省内居民就近办证；户籍居民配偶、子女、父母就近办证；外籍华人签证放宽至5年多次有效，边检自助通关等多个方面。\\n']\n",
            "[1, 0, 0.99829054, '审计署今天公布新修订的《关于内部审计工作的规定》。与过去相比，增加了贯彻落实国家重大政策措施情况审计，发展规划、战略决策等执行情况审计。国有企业应按有关规定建立总审计师制度。此规定3月1日起施行。\\n']\n",
            "[1, 0, 0.9983209, '从昨天开始，北方出现大范围降雪。在大连，降雪导致机场部分航班延误或取消。中央气象台预计，随着冷空气的深入，本周中东部地区气温将明显下滑，局地降幅可达10℃以上。\\n']\n",
            "[1, 0, 0.9850639, '6集大型纪录片《创新中国》今晚八点将在我台纪录频道播出，该片关注最前沿的科学突破、最新潮的科技热点，聚焦信息技术、新型能源、航空航天与海洋探索等领域，用鲜活的故事记录当下中国伟大的创新实践。\\n']\n",
            "[2, 0, 0.9731065, '土耳其总理耶尔德勒姆21日宣布，土耳其军队与叙利亚反对派武装“叙利亚自由军”当天进入叙利亚边境，标志着在叙利亚阿夫林的地面军事行动全面开始。土耳其军方称，土空军和炮兵部队当天对阿夫林地区共153个属于叙库尔德武装和极端组织的军事目标实施了打击。\\n土耳其方面还说，此次军事打击将分四个阶段，以速战速决的方式进行，其目的是在阿夫林地区建立一个纵深30公里的安全区。\\n']\n",
            "[2, 0, 0.99475515, '德国议会第二大党社民党21日召开特别党代会，表决同意了该党与德国总理默克尔领导的联盟党进行正式组阁谈判，投赞成票的比率为56.4%。当天晚些时候，默克尔发表讲话，对社民党的决定表示欢迎。\\n本月12日，联盟党与社民党就组阁问题展开的试探性对话达成原则一致，双方在移民和难民政策、财政政策等问题上都作出了较大让步。\\n']\n",
            "[2, 0, 0.9934182, '澳大利亚最大城市悉尼附近今天发生火车碰撞事故，造成16人受伤。当地警方说，事故发生在悉尼西北部的里士满车站，当时火车在减速停车时撞上了轨道末端的止冲器，车上所有乘客之后很快被救出。\\n悉尼铁路部门主管说，止冲器成功阻止了火车脱轨。国家铁路安全管理局等部门将立即对这起事故展开调查。发生事故的站台已经关闭，预计将在23日恢复通车。\\n']\n",
            "[2, 0, 0.9940598, '位于菲律宾吕宋岛东南部的马荣火山当地时间今天中午突然再度猛烈喷发，喷出熔岩，大量火山灰笼罩天空。菲律宾火山地震研究所将喷发警戒级别提升为4级，最高级为5级。马荣火山是菲律宾境内最活跃的火山之一，本月13日，马荣火山开始喷发火山灰，并伴有岩浆溢出。目前附近居民已在有序撤离，火山半径7公里内不允许人员进入。\\n']\n",
            "[2, 0, 0.9927802, '国际乒联巡回赛匈牙利公开赛21日进行了男女单打和双打决赛，中国队包揽全部四项冠军。\\n樊振东和王曼昱分别夺得男子和女子单打冠军，樊振东/于子洋获得男子双打冠军，陈幸同/孙颖莎斩获女子双打冠军。\\n匈牙利公开赛16日开赛，共有来自53个国家和地区的400多名选手参赛。\\n']\n",
            "[0, 0, 0.999989, '中共中央总书记、国家主席、中央军委主席、中央全面深化改革领导小组组长习近平1月23日下午主持召开中央全面深化改革领导小组第二次会议并发表重要讲话。他强调，2018年是贯彻党的十九大精神的开局之年，也是改革开放40周年，做好改革工作意义重大。要弘扬改革创新精神，推动思想再解放改革再深入工作再抓实，凝聚起全面深化改革的强大力量，在新起点上实现新突破。\\n李克强、张高丽、汪洋、王沪宁出席会议。\\n会议审议通过了《中央有关部门贯彻实施党的十九大〈报告〉重要改革举措分工方案》、《中央全面深化改革领导小组2018年工作要点》、《中央全面深化改革领导小组2017年工作总结报告》。\\n会议审议通过了《关于推进社会公益事业建设领域政府信息公开的意见》、《关于提高技术工人待遇的意见》、《关于建立城乡居民基本养老保险待遇确定和基础养老金正常调整机制的指导意见》、《积极牵头组织国际大科学计划和大科学工程方案》、《关于推进孔子学院改革发展的指导意见》、《关于建立“一带一路”争端解决机制和机构的意见》、《关于改革完善仿制药供应保障及使用政策的若干意见》、《科学数据管理办法》、《知识产权对外转让有关工作办法（试行）》、《地方党政领导干部安全生产责任制规定》。会议还审议了《浙江省“最多跑一次”改革调研报告》。\\n会议指出，推进社会公益事业建设领域政府信息公开，要准确把握社会公益事业建设规律和特点，加大信息公开力度，明确公开重点，细化公开内容，增强公开实效，提升社会公益事业透明度，推动社会公益资源配置更加公平公正，确保社会公益事业公益属性，维护社会公益事业公信力。\\n会议强调，提高技术工人待遇，要坚持全心全意依靠工人阶级的方针，发挥政府、企业、社会协同作用，完善技术工人培养、评价、使用、激励、保障等措施，实现技高者多得、多劳者多得，增强技术工人职业荣誉感、自豪感、获得感，激发技术工人积极性、主动性、创造性。\\n会议指出，建立城乡居民基本养老保险待遇确定和基础养老金正常调整机制，要按照兜底线、织密网、建机制的要求，建立激励约束有效、筹资权责清晰、保障水平适度的待遇确定和基础养老金正常调整机制，推动城乡居民基本养老保险待遇水平随经济发展逐步提高，确保参保居民共享经济社会发展成果。\\n会议强调，牵头组织国际大科学计划和大科学工程，要按照国家创新驱动发展战略要求，以全球视野谋划科技开放合作，聚焦国际科技界普遍关注、对人类社会发展和科技进步影响深远的研究领域，集聚国内外优秀科技力量，量力而行、分步推进，形成一批具有国际影响力的标志性科研成果，提升我国战略前沿领域创新能力和国际影响力。\\n会议指出，推进孔子学院改革发展，要围绕建设中国特色社会主义文化强国，服务中国特色大国外交，深化改革创新，完善体制机制，优化分布结构，加强力量建设，提高办学质量，使之成为中外人文交流的重要力量。\\n会议强调，建立“一带一路”争端解决机制和机构，要坚持共商共建共享原则，依托我国现有司法、仲裁和调解机构，吸收、整合国内外法律服务资源，建立诉讼、调解、仲裁有效衔接的多元化纠纷解决机制，依法妥善化解“一带一路”商贸和投资争端，平等保护中外当事人合法权益，营造稳定、公平、透明的法治化营商环境。\\n会议指出，改革完善仿制药供应保障及使用政策，要从群众需求出发，把临床必需、疗效确切、供应短缺、防治重大传染病和罕见病、处置突发公共卫生事件、儿童用药等作为重点，促进仿制药研发创新，提升质量疗效，提高药品供应保障能力，更好保障广大人民群众用药需求。\\n会议强调，加强和规范科学数据管理，要适应大数据发展形势，积极推进科学数据资源开发利用和开放共享，加强重要数据基础设施安全保护，依法确定数据安全等级和开放条件，建立数据共享和对外交流的安全审查机制，为政府决策、公共安全、国防建设、科学研究提供有力支撑。\\n会议指出，知识产权对外转让，要坚持总体国家安全观，依据现有法律法规和工作机制，对单位或者个人将其境内知识产权转让给外国企业、个人或者其他组织，严格审查范围、审查内容、审查机制，加强对涉及国家安全的知识产权对外转让行为的严格管理。\\n会议强调，实行地方党政领导干部安全生产责任制，要坚持党政同责、一岗双责、齐抓共管、失职追责，牢固树立发展决不能以牺牲安全为代价的红线意识，明确地方党政领导干部主要安全生产职责，综合运用巡查督查、考核考察、激励惩戒等措施，强化地方各级党政领导干部“促一方发展、保一方平安”的政治责任。\\n会议指出，党的十八大以来，浙江等地针对群众反映突出的办事难、投诉举报难等问题，从优化审批流程入手，推动实施“最多跑一次”改革，取得积极成效。各地区要结合实际，善于从基层和群众关心的问题上找出路、找办法，加大体制机制创新，以实际行动增强群众对改革的获得感。\\n会议强调，2018年是站在新的历史起点上接力探索、接续奋进的关键之年，要全面贯彻党的十九大精神，以习近平新时代中国特色社会主义思想为指导，统筹推进党的十八大以来部署的改革举措和党的十九大部署的改革任务，更加注重改革的系统性、整体性、协同性，着力补齐重大制度短板，着力抓好改革任务落实，着力巩固拓展改革成果，着力提升人民群众获得感，不断将改革推深做实，推进基础性关键领域改革取得实质性成果。\\n改革要突出重点，攻克难点，在破除各方面体制机制弊端、调整深层次利益格局上再拿下一些硬任务，重点推进国企国资、垄断行业、产权保护、财税金融、乡村振兴、社会保障、对外开放、生态文明等关键领域改革。要提高政治站位，勇于推进改革，敢于自我革命。要结合实际，实事求是，多从基层和群众关心的问题上找突破口，多推有地方特点的改革。要鼓励基层创新，继续发扬敢闯敢试、敢为人先的精神，推动形成更加浓厚、更有活力的改革创新氛围。\\n要拿出实实在在的举措克服形式主义问题。主要负责同志要带好头，把责任和工作抓实，越是难度大、见效慢的越要抓在手上，不弃微末，不舍寸功。要把调查研究突出出来，把存在的矛盾和困难摸清摸透，把工作做实做深做好。改革督察要扩点拓面、究根探底，既要听其言，也要观其行、查其果。对不作为的，要抓住典型，严肃问责。\\n中央全面深化改革领导小组成员出席，有关中央领导同志以及中央和国家机关有关部门负责同志列席会议。\\n']\n",
            "[0, 0, 0.99998635, '2018年1月22日，中国－拉美和加勒比国家共同体论坛第二届部长级会议在智利开幕。国家主席习近平致贺信，对会议的召开表示热烈祝贺。\\n习近平在贺信中指出，自2015年1月首届部长级会议召开以来，在中拉双方共同努力下，中拉论坛已成为中拉整体合作的主渠道，带动各领域合作取得丰硕成果。\\n习近平指出，当今世界正处于大发展大变革大调整时期，各国相互联系和依存日益加深，人类面临许多共同挑战。中国同拉美和加勒比国家地理相距虽然遥远，但同属发展中国家，世界和平、发展繁荣和人民幸福是我们共同追求的梦想。中国人民愿同拉美和加勒比各国人民携手并进，为推动构建人类命运共同体作出更大贡献。\\n习近平强调，历史上，中拉开辟了“太平洋海上丝绸之路”。今天，双方要描绘共建“一带一路”新蓝图，打造一条跨越太平洋的合作之路，把中国和拉美两块富饶的土地更加紧密地联通起来，开启中拉关系崭新时代。\\n来自中国和拉共体各成员国以及有关国际和地区组织的代表共同出席中拉论坛第二届部长级会议开幕式。\\n']\n",
            "[0, 0, 0.9999888, '中共中央政治局常委、国务院总理李克强22日下午主持召开座谈会，听取专家学者和企业界人士对《政府工作报告（征求意见稿）》的意见建议。\\n国务院副总理张高丽，中共中央政治局常委、国务院副总理汪洋出席。\\n会上，国务院参事刘燕华、北京大学周其仁、北京市检察院甄贞、摩根士丹利邢自强、一汽集团徐留平、盒马鲜生侯毅、魏桥集团张士平围绕推动创新、社会治理、推进改革、新型城镇化等发了言。\\n李克强说，去年中国经济稳中向好、好于预期，不仅总量有大的增加，更表现在结构优化和质量效益提升。当前困难挑战仍然较多，要全面贯彻党的十九大精神，以习近平新时代中国特色社会主义思想为指导，坚持稳中求进，深化改革创新，努力推动高质量发展。\\n李克强说，随着总量扩大和与全球经济融合加深，中国经济运行呈现许多新特点，复杂性增加，推动高质量发展、建设现代化经济体系等对我们提出全新要求，必须更好把握规律，更好精准施策，更好发挥微观主体作用。各级政府要加强调研，贴近市场，倾听企业群众呼声，继续简政减税降费，依托“互联网+”打造创新服务平台，提高国有企业竞争力，营造激励企业特别是民营企业干事创业氛围，不断优化营商环境。践行以人民为中心的发展思想，推进新型城镇化，推动农民工在城市落户成为新市民。围绕增进社会公平正义，完善社会治理。\\n李克强希望大家多谋良策，多献诤言，让更多“金点子”变成政府解决难题、改进工作的“金钥匙”。\\n刘延东、马凯、杨晶、王勇参加。\\n']\n",
            "[0, 0, 0.9999886, '全国人大常委会委员长张德江23日在人民大会堂与阿拉伯议会议长苏莱米举行会谈。\\n张德江说，中国同阿拉伯国家友谊源远流长，是好朋友、好伙伴、好兄弟。双方政治上相互尊重、经济上互利合作、文化上交流互鉴，在涉及彼此核心利益问题上相互支持。2016年1月，习近平主席成功访问阿盟总部，提出中阿共建“一带一路”，共同实施促进稳定、创新合作、产能对接、增进友好四大行动，揭开了中阿关系的新篇章。中方愿与阿拉伯国家共同努力，推动中阿传统友谊取得更加丰硕的成果。\\n张德江说，去年7月，习近平主席在巴勒斯坦总统阿巴斯访华期间提出了中方推动解决巴勒斯坦问题的四点主张。中方坚定支持巴人民恢复民族合法权利的正义事业，理解阿拉伯国家在耶路撒冷地位问题上的关切和诉求，支持阿拉伯国家为推动和平解决巴勒斯坦问题所做的一切努力。中方愿同阿拉伯国家保持沟通与协调，共同致力于推动巴勒斯坦问题早日得到全面、公正、持久解决，维护地区和平稳定。\\n张德江说，议长先生此访是中国全国人大与阿拉伯议会的首次正式交往，对于丰富中阿关系内涵具有重要意义。希望双方以此为契机，开展形式多样的交流合作，为促进中阿战略合作关系深入发展作出积极贡献。\\n苏莱米说，阿拉伯国家赞赏中方在推动中东和平进程方面发挥的重要作用，赞同并积极响应中方为推动解决巴勒斯坦问题提出的四点主张。阿拉伯议会愿加强与中国全国人大的友好交往，积极推动阿中政治、经济、人文等各领域合作深入发展。\\n王晨参加会谈。\\n']\n",
            "[0, 0, 0.9999889, '习近平总书记在十九大报告中指出：实施区域协调发展战略，强化举措推进西部大开发形成新格局。\\n地处西部的陕西省，在习近平新时代中国特色社会主义思想指引下，把追赶超越作为全省发展的鲜明主题，在创新驱动、生态建设等领域全面发力，加快补齐短板、做强优势。\\n时值寒冬，陕西呈现的却是一片火热的奋进场景。省委召开十三届二次会议，各级干部在基层展开大范围调研，各部门推出一系列发展新举措，确定了深化供给侧结构性改革、加快创新驱动发展、建设美丽陕西等八项重点任务。所有这些，都是为了把十九大精神落到实处。\\n瞄准追赶超越，岁末年初陕西大动作不断。在科技创新领域，出台30项财税措施，支持实体经济发展，一方面为企业减负，一方面为创新供能，新增专项资金20亿元。与此同时，“千人计划”、高层次人才特殊支持计划、“三秦学者”创新团队支持计划相继出台，重点聚焦西部省份难以吸引人才这个短板，加强落户、医疗、就学等方面的政策支持。\\n“核心技术靠化缘是要不来的，必须靠自力更生”，这是习近平总书记在陕西考察时的殷切嘱托。\\n2018年，拥有一千多家科研机构的陕西，将充分利用科技、教育、军工资源优势，在深入推进国家创新试点示范建设，加快创新驱动发展等方面持续发力。\\n陕西地质条件复杂，生态资源丰富。北有黄土高原，中有关中平原，南有秦巴山区。围绕十九大报告提出的建设美丽中国的战略决策，聚焦追赶超越的陕西，把生态建设作为推动高质量发展的重要抓手。进入冬季，提高秦岭森林质量的修复工作仍在抓紧进行；陕北绿化、汉江保护、渭河综合治理等一系列生态保护重大工程，也在加快推进。美丽陕西的画卷正在徐徐铺开。\\n加大力度支持革命老区、民族地区、边疆地区、贫困地区加快发展，这是党中央从党和国家事业战略全局出发提出的发展思路。2018年陕西还将向脱贫攻坚发力，全省将有20个贫困县摘帽，近100万人口脱贫；融入“一带一路”建设也将加快，利用综合交通重要枢纽和对外开放重要门户的优势，打造枢纽经济、门户经济，努力在西部开发的新格局中实现追赶超越的新作为。\\n']\n",
            "[0, 0, 0.99998873, '明天出版的人民日报将发表评论员文章，题目是《为新时代中国特色社会主义发展提供宪法保障——四论学习贯彻党的十九届二中全会精神》。\\n文章指出，党的十九届二中全会审议通过《中共中央关于修改宪法部分内容的建议》，把党的十九大确定的重大理论观点和重大方针政策载入国家根本法，体现党和国家事业发展的新成就新经验新要求，为的就是更好发挥宪法的规范、引领、推动、保障作用，为新时代中国特色社会主义发展提供有力宪法保障。\\n文章强调，充实宪法的重大制度规定，对完善和发展中国特色社会主义制度具有重要作用。把党和人民在实践中取得的重大理论创新、实践创新、制度创新成果通过国家根本法确认下来，全党全国各族人民在新时代坚持和发展中国特色社会主义，为实现“两个一百年”奋斗目标和中华民族伟大复兴的中国梦而奋勇前进，就有了法治上的共同遵循和活动准则。\\n']\n",
            "[0, 0, 0.9972718, '从2016年开始，一款叫做“龙港麻将”的手机游戏在浙江苍南地区很流行，注册人数超过了10万人。浙江警方近日端掉了这个网络赌场。\\n这种游戏分为普通模式和“钻石”模式，进入“钻石”模式的玩家既能自由邀请朋友又可以自行商量赔率，玩家需要向“钻石”代理商购买钻石才能进入虚拟麻将赌场。每颗钻石1元多，由于价格便宜，吸引了很多玩家。\\n经侦查，犯罪嫌疑人何某、陈某等人以营利为目的，利用浙江剑龙网络科技有限公司推出“龙港麻将”手机APP，开设虚拟赌场，招募代理商组建大量赌博微信群，吸引玩家购买钻石进场赌博，非法获利1440万元。\\n截至目前，警方已抓获犯罪嫌疑人57人。\\n']\n",
            "[0, 0, 0.99995685, '从昨天开始，冷空气强势回归。我国部分地区出现极寒天气。\\n黑龙江省北部大兴安岭地区的呼中区今天出现了-49℃的极寒天气，刷新当地自1981年以来气温最低值。未来几天黑龙江大部地区将降至零下30℃以下。\\n受强冷空气影响，内蒙古多地气温继续下降，根河市区昨天早上气温降至-47℃以下。北京、天津、河北、山西等地，今天早上的气温也不足-10℃。\\n山东北部以及东部地区迎来大范围降雪天气，烟台蓬莱积雪深达9厘米。\\n被大雪笼罩的还有辽宁大连，全市2500多名交警全员上岗。在辽宁旅顺口启新街，一位七旬老人突发心脏病，救护车因积雪无法开到楼下，执勤交警把老人接力抬到救护车上，及时送医。\\n从今天夜间到明天白天，安徽、江苏南部、浙江西北部局地会有大暴雪。\\n']\n",
            "[1, 1, 0.9984432, '财政部今天公布，去年国有企业营业总收入超52.2万亿元，同比增长13.6%；利润总额约为2.9万亿元，同比增长23.5%。从行业看，煤炭、交通、石油石化等行业利润同比增幅较大；电力等行业利润同比降幅较大。\\n']\n",
            "[1, 1, 0.997191, '今天，我国首颗高通量通信卫星“实践十三号”正式交付使用，通信总容量达到20G，超过我国已研制发射的通信卫星容量总和，标志着我国卫星通信进入高通量时代。投入使用后，可为飞机、高铁等交通工具提供上网服务，也可以实现偏远地区的互联网接入服务。\\n']\n",
            "[0, 1, 0.9998715, '国家食品药品监管总局今天公布了2017年食品抽检情况。去年共组织抽检23.33万批次样品，总体合格率为97.6%，比2016和2015年提高0.8个百分点。其中，婴幼儿配方乳粉抽检合格率为99.5%，比2016年提高0.7个百分点；食品抽检中，微生物污染超标、违规使用添加剂等问题仍然存在。\\n']\n",
            "[1, 1, 0.99880314, '今天起，互联网和电话订票可以购买大年初六的火车票。受节后务工、学生返校等客流叠加影响，预计购票压力大于节前。目前，成都、南宁、沈阳、武汉、呼和浩特前往北京、上海、广州等方向的车票十分紧张。\\n']\n",
            "[1, 1, 0.9985035, '陆军特种兵战术行动综合演练近日在南海某地结束，来自陆军各部队的300多名特战队员，围绕海上渗透、侦察引导、狙击爆破等多个特种作战重难点课目，展开带实战背景的水陆两栖战术行动。\\n']\n",
            "[1, 1, 0.9987405, '进入一月份，作为候鸟南飞的重要驿站，广东江门古劳镇、广州南沙湿地、深圳湾湿地等各个湿地，迎来了候鸟集中迁徙期，数十万只候鸟来到广东境内的各个湿地栖息觅食。\\n']\n",
            "[1, 1, 0.90157783, '世界经济论坛2018年年会23日至26日在瑞士达沃斯召开，本届年会的主题为“在分化的世界中打造共同命运”。论坛创始人兼执行主席施瓦布说，这一主题是对中国国家主席习近平去年出席论坛时提到的“构建人类命运共同体”理念的延续。\\n包括70位国家元首或政府首脑以及38位国际组织负责人在内的3000名嘉宾将出席本次年会。\\n世界经济论坛创始人兼执行主席施瓦布教授在接受央视记者专访时对今年论坛的主题进行了解释。他说，一方面，在当今世界，越来越多的国家和经济体基于不同的利益而采取竞争立场；另一方面，在一些国家内部，社会也因遭受不稳定因素影响而产生分化。为了弥合这些分化，决策者应寻找共同的利益，从而应对全球共同的挑战。今年论坛的主题“在分化的世界中打造共同命运”，延续了习近平主席去年出席论坛时提到的“构建人类命运共同体”的理念。\\n']\n",
            "[2, 1, 0.5592126, '22日，土耳其继续在叙利亚阿夫林展开地面军事行动，并称已经控制了多个村庄。\\n据土耳其媒体援引军方人士的消息说，土耳其军队已经控制了阿夫林地区11座村庄，此次军事行动很快就能顺利结束。而当地的库尔德武装否认了这一说法。\\n土耳其总统埃尔多安22日说，对于此次军事行动，土耳其和俄罗斯方面进行了讨论并达成了协议，也将军事行动的计划告知了美国。俄罗斯方面目前没有对埃尔多安的说法作出回应。美国白宫发言人桑德斯22日说，美国敦促土耳其在针对叙利亚的军事行动和言论中保持克制。\\n']\n",
            "[2, 2, 0.9974643, '22日到23日，伊朗陆海空军开始在伊朗南部举行大规模年度例行军事演习。演习地点靠近霍尔木兹海峡。演习发言人穆萨维将军说，当天，两艘美国为首的西方战舰试图接近伊朗演习水域执行侦察任务，被伊朗无人机识别，伊朗随后派出了侦察机飞抵两艘战舰上空警告其离开。\\n']\n",
            "[2, 2, 0.98930603, '22日，美国副总统彭斯在以色列议会发表讲话时说，美国驻以色列使馆从特拉维夫迁至耶路撒冷方案将于几周内正式启动，使馆新址将于2019年年底之前开放。彭斯的这一表态遭到阿拉伯政党议员抗议。\\n去年12月，美国总统特朗普宣布美国承认耶路撒冷为以色列首都，并将启动美国使馆从特拉维夫迁往耶路撒冷进程，引发国际社会的普遍反对。\\n']\n",
            "[2, 2, 0.9970009, '22日，利比里亚新当选总统乔治·维阿在首都蒙罗维亚宣誓就职。51岁的维阿在就职仪式上说，将尽其所能，使政府的所作所为符合利比里亚百姓的期待。\\n维阿曾包揽世界足球先生、欧洲足球先生和非洲足球先生三大荣誉。在去年12月举行的总统选举第二轮投票中，他击败时任副总统博阿凯获胜。\\xa0 \\n']\n",
            "[0, 0, 0.99998903, '习近平总书记在十九大报告中提出：重点攻克深度贫困地区脱贫任务，确保到2020年我国现行标准下农村贫困人口实现脱贫。\\n甘肃省189万建档立卡贫困户，几乎全是深度贫困。在习近平新时代中国特色社会主义思想指引下，甘肃自上而下，省市县乡村精准接力，精准发力，确保脱贫不留死角。\\n目前在甘肃，除了国家确定的甘南州、临夏州和天祝县是“两州一县”深度贫困地区，还有18个省定深度贫困县、3720个深度贫困村。十九大之后，甘肃省出台深度贫困地区脱贫攻坚实施方案，整合全省55个厅局、部门集中发力。\\n现在，产业扶贫、贫困村整体提升、技能提升培训、教育扶贫、健康扶贫、安居扶贫、易地扶贫搬迁、生态扶贫、兜底保障、内源扶贫“十大行动”正在甘肃省展开。各厅局对照十大行动，发挥各自优势，确立扶贫项目。仅农牧部门就确定了牛、羊、蔬菜、水果、马铃薯、中药材六大扶贫产业。\\n层层接力，精准脱贫。为保证上面政策不走样，下面落实有抓手，甘肃省市县乡村逐级落实，无缝对接。市州一级分类施策，建立“一村一品、一户一策”的清单式帮扶机制，量身定制脱贫菜单，按照“缺什么补什么”的原则，拉长短板，补齐弱项。\\n在临洮县，眼下室外冰天雪地，大棚里却满眼春意。县里依托花卉产业，确立的“龙头企业、合作社+基地+贫困户”的扶贫模式，极大地调动起了贫困群众的脱贫愿望。\\n对贫困村，在加强基层党组织力量基础上，鼓励党员带头，培育创业致富带头人。\\n今年甘肃还将出台《打好脱贫攻坚战三年行动实施意见》，一手抓贫困人口脱贫，一手抓已脱贫人口的巩固提高，确保不留“死角”。\\n']\n",
            "[0, 0, 0.99998856, '中共中央、国务院近日发出《关于开展扫黑除恶专项斗争的通知》。\\n《通知》强调，在全国开展扫黑除恶专项斗争，是以习近平同志为核心的党中央作出的重大决策，事关社会大局稳定和国家长治久安，事关人心向背和基层政权巩固，事关进行伟大斗争、建设伟大工程、推进伟大事业、实现伟大梦想。各地区各部门要进一步提高政治站位，切实增强“四个意识”，充分认识开展扫黑除恶专项斗争的重大意义，切实把思想和行动统一到党中央部署上来，科学谋划、精心组织、周密实施，坚决打赢扫黑除恶专项斗争这场攻坚仗。\\n《通知》明确了这次扫黑除恶专项斗争的总体要求，目标任务。强调要聚焦涉黑涉恶问题突出的重点地区、重点行业、重点领域，把打击锋芒始终对准群众反映最强烈、最深恶痛绝的各类黑恶势力违法犯罪。要坚持依法严惩、打早打小、除恶务尽，始终保持对各类黑恶势力违法犯罪的严打高压态势。要把扫黑除恶与反腐败斗争和基层“拍蝇”结合起来，深挖黑恶势力“保护伞”。对涉黑涉恶问题尤其是群众反映强烈的大案要案，要有坚决的态度，无论涉及谁，都要一查到底，特别是要查清其背后的“保护伞”，坚决依法查办，毫不含糊。\\n']\n",
            "[0, 0, 0.99998885, '中共中央政治局常委、国务院总理李克强24日主持召开座谈会，听取各民主党派中央、全国工商联负责人和无党派人士代表对《政府工作报告（征求意见稿）》的意见建议。\\n国务院副总理张高丽，中共中央政治局常委、国务院副总理汪洋出席。\\n李克强说，邀请各民主党派中央、全国工商联负责人和无党派人士代表对政府工作报告提意见建议，是中国特色政治制度安排，也是国务院接受民主监督的重要程序。\\n会上，民革中央主席万鄂湘、民盟中央主席丁仲礼、民建中央主席郝明金、民进中央主席蔡达峰、农工党中央常务副主席何维、致公党中央主席万钢、九三学社中央主席武维华、台盟中央主席苏辉、全国工商联主席高云龙、无党派人士代表孙其信发了言。大家认为，过去五年，在以习近平同志为核心的中共中央领导下，经济社会发展取得历史性成就、发生历史性变革。成绩来之不易、令人鼓舞。大家就做好今年政府工作提出了意见建议。\\n李克强感谢各民主党派、全国工商联、无党派人士长期以来对政府工作的支持，五年来的成就也凝聚了大家的心血、智慧。今年保持经济社会发展继续向好，要贯彻党的十九大精神，以习近平新时代中国特色社会主义思想为指导，坚持新发展理念，着力深化改革开放，着力提高经济创新力和竞争力，着力打好三大攻坚战，着力保障和改善民生。希望大家积极建言资政和协商监督，我们同舟共济，共同完成全年主要目标任务。\\n国务院副总理刘延东、马凯和国务委员杨洁篪、郭声琨、王勇，中央统战部部长尤权参加。\\n']\n",
            "[0, 0, 0.99998915, '政协第十二届全国委员会常务委员会第二十四次会议24日下午在京闭幕。全国政协主席俞正声主持会议并讲话。\\n这次会议是本届政协最后一次常委会议。会议审议通过了关于召开政协第十三届全国委员会第一次会议的决定和会议议程（草案）、日程（草案），决定将草案提请全国政协十三届一次会议预备会议审议；协商决定了政协第十三届全国委员会参加单位、委员名额和委员人选名单；审议通过了政协全国委员会常务委员会工作报告、关于提案工作情况的报告、中国人民政治协商会议章程修正案（草案），决定将报告和草案提交全国政协十三届一次会议审议；审议通过了关于授权主席会议审议政协第十二届全国委员会常务委员会第二十四次会议未尽事宜的决定。\\n会议期间，常委会组成人员认真审议会议文件和有关事项，踊跃发言，深入讨论。常委们积极评价常委会工作报告稿，并赞同对政协章程进行部分修改。常委们对十二届全国政协的工作给予充分肯定，一致认为，五年来，政协全国委员会及其常委会全面贯彻中共十八大和十九大精神，深入学习贯彻习近平新时代中国特色社会主义思想，把坚持和发展中国特色社会主义作为巩固共同思想政治基础的主轴，完善协商议政格局，强化民主监督职能，拓展团结联谊工作，加强履职能力建设，推动了人民政协事业在继承中发展，在发展中创新。\\n俞正声在讲话中向各位常委和广大政协委员表示敬意和感谢。他说，五年来的成绩，是以习近平同志为核心的中共中央高度重视、坚强领导的结果，是各级党委和政府及社会各界热情帮助、鼎力支持的结果，是人民政协各参加单位、各级组织和广大委员团结协作、共同奋斗的结果。各位常委和委员不忘初心、牢记使命，诠释了政协委员的担当、风采和情怀。\\n俞正声说，五年来，十二届全国政协在实践探索中积累了一些有益经验，其中最重要的是，坚持中国共产党的领导，坚持人民政协的性质定位，坚持团结和民主两大主题。我们要发扬人民政协的优良传统，认真学习贯彻习近平新时代中国特色社会主义思想，坚决贯彻中共中央的各项决策部署，组织广大委员协商议政，把人民政协工作做得更好。\\n']\n",
            "[0, 0, 0.99998754, '明天出版的《人民日报》将发表长篇述评《让思想之光引领世界前行之路——习近平主席2017年达沃斯、日内瓦主旨演讲的世界意义》。\\n文章指出，2017年年初，习近平主席分别在达沃斯和日内瓦发表的两篇主旨演讲，顺应世界发展大势，反映世界人民心声，在全球范围形成强大感召力。一年来，被誉为“世界经济风向标”的达沃斯论坛，持续释放出“构建人类命运共同体”的话语风向；联合国舞台上，“构建人类命运共同体”理念一次次被写入重要决议之中。令世人同感欣慰的是，在“世界怎么了、我们怎么办”的普遍困惑面前，中国理念之光，照亮人类发展前程。\\n文章强调，人类命运共同体的美好目标，需要一代又一代人接力跑才能实现。推动构建人类命运共同体的伟大进程中，中国将与各国一起接过历史接力棒，在和平与发展的马拉松跑道上奋勇向前。\\n']\n",
            "[0, 0, 0.9999875, '明天出版的人民日报将发表评论员文章，题目是《宪法修改必须依法按程序进行——五论学习贯彻党的十九届二中全会精神》。\\n']\n",
            "[0, 0, 0.9999863, '中国人民解放军航天员大队是一支担负特殊任务的英雄部队，20年来，11名航天员为国出征太空，圆满完成6次载人飞行任务，不断刷新中国进军太空的新高度，为我国载人航天事业作出了卓越贡献。\\n这是航天员进行的模拟失重水槽训练，已经三次飞天的航天员景海鹏身着潜水服和其他航天员一起进行训练，为后续中国空间站任务做准备。\\n新时代，新征程，中国载人航天迈向空间站时代，我国仅用了25年就跨越发达国家近半个世纪的发展历程。1998年1月5日，中国人民解放军航天员大队成立。2003年10月16日，航天员杨利伟驾乘神舟五号飞船遨游太空21小时23分钟后，胜利凯旋。\\n从神舟五号首飞成功到神舟十一号问鼎苍穹的13年间，11名航天员6次出征太空，从舱内实验、试验到出舱活动，从单船飞行到组合体稳定运行，为我国成为世界上第三个独立掌握载人天地往返、空间出舱、交会对接技术的国家建立了卓越功勋。\\n据了解，第三批航天员选拔有望在今年启动。按照规划，我国将在2020年前后把空间站的核心舱和实验舱送到太空，计划两年内完成空间站在轨建造。\\n20年积淀，全体航天员面对建设航天强国和世界科技强国伟大号召，不忘初心，牢记使命，时刻准备再次刷新进军太空的中国高度。\\n']\n",
            "[0, 0, 0.9999882, '山东临沂代村村支部书记王传喜，带领村民实现集体经济的良性运转，让村民兜里有了钱。眼下，他正在制定代村的乡村振兴发展规划，想办法让村民过上更有质量的幸福生活。\\n五十岁的王传喜文化不高，却很跟得上形势，喜欢记日记、愿意追求新事物。这200多本日记记录了他19年来跟上新时代、与代村百姓共同成长的历程。\\n在乡村振兴战略的大背景下，王传喜开始谋划如何提高村民生活质量，为村民统一盖楼房。想上楼的，村里供暖煤气一应俱全，愿意留住老房子的，王传喜则进行集中规划和修缮，启动了代村的乡村记忆工程。\\n留住了乡愁，代村越来越美。王传喜又带领大伙，办代村报，建村史馆，修博物馆，还培训村民到农业公园当起了导游。\\n现在，代村还成立了村剧团、老年门球队，每年定期举办“十星级文明户”、“道德模范”等评选活动。并实行了16项社会保障政策，每年向居民发放住房补贴、支付新型合作医疗资金、60岁以上老人免费入住老年公寓，全村人走上了“离土不离乡、就地城镇化”的道路。\\n']\n",
            "[0, 0, 0.999977, '为生动讲好新发展理念，科技工作者谈科技创新中外记者见面会今天（24号）在国新办召开。来自基层科研一线的五位科技工作者，分别结合各自的科研历程和感受，讲述科技创新故事。\\n大家表示，中国科技工作者要练好内功，面向科技发展前沿和国家战略需求，继续贡献自己的力量。\\n']\n",
            "[0, 0, 0.74283594, '这是芜湖享游公司推出的网络游戏《碧蓝航线》，其中多个女性游戏角色形象暴露低俗；这是北京糖果创世纪公司推出的《街机电玩城》，里面有大量宣扬赌博的内容。近期，以网络游戏含有禁止内容、网络游戏宣传推广含有禁止内容等违规经营活动为监管执法重点。北京、天津、安徽、湖南等地文化执法部门查办宣扬色情、赌博、违背社会公德等禁止内容类网络游戏案件20件。文化部门公布了其中6起典型案件。\\n据统计，各地文化市场综合执法机构共检查网络游戏运营单位7820家次，责令改正363家次。下一步，监管部门将在持续打击的同时，推进网络游戏转型升级，引导网络游戏行业加强自律管理。\\n']\n",
            "[0, 0, 0.99997735, '今天是传统的“腊八节”，各地的人们在粥香中品味好生活，祈求来年丰收吉祥。\\n腊八节派发腊八粥，在杭州河坊街已经延续了18年。今年，他们准备了5万多碗热气腾腾的腊八粥赠送给市民、游客。虽然今天气温接近0度，但是仍然吸引了很多人排队品尝。河南白云禅寺、山东曲阜孔府向游客免费施粥，一同品粥祈福。\\n在甘肃兰州、安徽铜陵、山西长治等地，一碗碗爱心腊八粥送给建筑工人、环卫工人、敬老院老人，给他们带去浓浓暖意。\\n俗话说过了腊八就是年。在江苏无锡桃源村，大伙下河捕鱼，酿米酒，开始置办年货。在浙江德清，竹匾、瓦片被制成年画，狗年大吉、年年有余的寓意，引得街坊四邻纷纷前来讨个好彩头。从腊八起，年越来越近，年味也越来越浓。\\n']\n",
            "[1, 1, 0.99849993, '国家能源局今天发布数据显示，截至2017年底，我国可再生能源发电装机达6.5亿千瓦，同比增长14%。一直困扰可再生能源发展的弃风、弃光问题得到缓解，去年全国弃风、弃光率分别同比下降5.2和4.3个百分点。\\n']\n",
            "[1, 1, 0.99840045, '工信部《关于移动通信转售业务正式商用的通告》今天起面向社会征求意见。通告明确了民营企业、国有企业以及外商投资企业可依法依规申请经营移动通信转售业务，对于实名制落实不到位的企业，暂缓发放正式商用许可。\\n']\n",
            "[1, 1, 0.9985116, '2017年全国海关共立案侦办走私犯罪案件3260起，同比增长24.2%。其中侦办涉税走私犯罪案件1595起，案值359.9亿元；侦办走私固体废物犯罪案件286起，同比增长6.7倍。\\n']\n",
            "[1, 1, 0.99860156, '以在校大学生为主力的文艺下基层慰问演出队伍“校园轻骑兵”小分队近日来到云南勐海、湖北黄石，带来原创歌舞、器乐表演等节目，激励青少年在成长过程中牢记使命，争做时代弄潮儿。\\n']\n",
            "[1, 1, 0.9972094, '中央气象台消息，受新一轮冷空气影响，今明两天，陕西中南部、河南西部和南部、湖北大部、安徽大部、江苏南部、浙江西北部等地有大雪，局地暴雪、大暴雪，新增积雪深度5-12厘米，交通、铁路、电力、通信等部门应做好应急预案。\\xa0\\xa0\\n']\n",
            "[2, 1, 0.9968954, '第48届世界经济论坛年会23日在瑞士小镇达沃斯开幕。瑞士联邦主席阿兰·贝尔塞在开幕式上说，当今世界在气候变化、反恐、和平与安全领域存在意见分化。面对共同危机，应进一步推进全球化、多边主义及自由贸易。2018年应成为国际合作与多边主义之年。\\n本次年会4天内将举办400多场讨论，与中国相关的对话和讨论有上百场之多，内容涵盖经济贸易、一带一路、互联网、人工智能等众多话题。年会的第二天还确定为“中国日”。\\n不少与会嘉宾认为，世界上一些国家向内看的趋势是灾难性的，中国致力于推动全球化这个长远的发展理念才是正确之举。\\n']\n",
            "[2, 2, 0.99582464, '土耳其总统府发言人卡林23日说，土耳其近日在叙利亚北部的军事行动旨在打击恐怖组织，不针对任何民族。土耳其会在行动中将恐怖分子与平民区别开来，军事行动将持续到恐怖组织被彻底清除、土境内约350万叙利亚难民得以重返故土。\\n土耳其军队20日宣布正式开始针对叙利亚库尔德武装“人民保护部队”的军事打击行动。土耳其认为，“人民保护部队”是被土政府列为恐怖组织的库尔德工人党在叙利亚的分支。\\n']\n",
            "[2, 2, 0.99738306, '伊朗海军23日在伊朗南部的阿曼湾北部海域试射一枚国产新型反舰巡航导弹。伊朗方面表示，导弹射程可达300公里，具有命中精度高、毁伤能力强等优势。 伊朗媒体公布的电视画面显示，该型反舰导弹代号“伽迪尔”，此前曾在伊朗军演中展示过。\\n伊朗海、空军及海军陆战队22日起在阿曼湾北部及沿岸地区举行军事演习，23日的试射是演习的一部分，也是“伽迪尔”型导弹首次公开试射。\\n']\n",
            "[2, 2, 0.9788608, '利比亚东部城市班加西23日晚发生两起汽车炸弹爆炸事件，造成至少33人死亡，约50人受伤，是最近几个月来班加西发生的伤亡最惨重的袭击事件。目前尚没有组织宣称制造了袭击。控制班加西，自称为“国民军”特别调查部队指挥官在爆炸中受伤不治身亡。\\n']\n",
            "[2, 2, 0.9970284, '俄罗斯奥委会23日说，三名俄罗斯选手因兴奋剂问题没能出现在国际奥委会有资格参加冬奥会的运动员名单中。俄奥委会表示，包括冬奥会六枚金牌得主、短道速滑名将维克托·安在内的这三人并未涉足任何兴奋剂事件，俄方已要求国际奥委会对此作出解释。\\n国际奥委会2017年以“系统性操纵反兴奋剂工作”为由禁止俄罗斯以代表团形式参加平昌冬奥会，但允许俄罗斯运动员以个人名义参赛。\\n']\n",
            "[2, 2, 0.99693555, '美国国会参议院23日批准杰罗姆·鲍威尔担任下届美国联邦储备委员会主席。1953年出生的鲍威尔曾担任美国财政部副部长，2012年5月成为美联储理事。鲍威尔预计将于2月3日耶伦任期届满后正式担任美联储主席。在去年11月底的提名听证会上，鲍威尔表示将领导美联储继续加息和收缩资产负债表。\\n']\n",
            "[2, 2, 0.9974947, '日本群马县的活火山草津白根山23日喷发，喷出的碎石砸到附近的滑雪场，致使1名正在当地训练的日本陆上自卫队成员死亡，另有11人受伤，81名游客一度被困。日本媒体称，日本气象厅在火山喷发1个多小时后才发出警报，致使大量游客未能及时避难。\\n日本气象厅则表示，当时预测喷发的是草津白根山汤釜火山口，监控摄像机因此都对准了这一火山口，而最终喷发的是靠南2公里处的镜池火山口，因此没能及时发出警报。\\n']\n",
            "[0, 0, 0.9999886, '习近平总书记在十九大报告中指出：“创新是引领发展的第一动力，是建设现代化经济体系的战略支撑。”作为国家系统推进全面创新改革试验区域之一的四川省，在习近平新时代中国特色社会主义思想指引下，以推进军民融合深度发展为抓手，深化创新改革，破解阻碍创新驱动发展的瓶颈制约，激发经济发展内生动力。\\n前不久，四川省委召开第十一届二次全会，会议的主题就是贯彻落实党的十九大精神，这次会议上，四川把全面创新改革确定为引领未来发展的一号工程。\\n新年伊始，四川获批全国首个低空空域管理改革试点，这是十九大之后，四川在全面创新改革领域的又一重要举措。各通航企业现在正忙着制定发展蓝图，增加飞机，同时开展飞行员培训。\\n低空空域就像国土资源一样，需要合理规划利用，改革突破以前的管理体制，迎来新的发展空间，据测算，仅这一项改革，就将带动基础设施建设、飞行器制造等多个行业的大发展。\\n全面创新改革，突破体制瓶颈，更要在核心技术上打破壁垒。十九大报告提出要“深化国防科技工业改革，形成军民融合深度发展格局”。元旦前夕，“复兴号”动车组首次开进西南地区的崇山峻岭，并且跑出了300公里的时速。这背后，是四川创新推进军民融合的一次尝试，原本仅供军工使用的风洞群，融合后成为民用高速动车组的试验场。\\n四川是国家系统推进全面创新改革试验区域之一，承担着30项先行先试改革任务。十九大召开之后，四川建立起“清单制+责任制”的工作思路，制定了全面创新改革九张清单，将改革任务分解细化。\\n今年，四川将确保完成国家部署的三年全面创新改革试验任务，力争全社会研发经费支出占地区生产总值比例超过1.85%，技术合同交易额实现450亿元，高新技术总产值突破1.95万亿元，科技对经济增长贡献率达到56%。\\n']\n",
            "[0, 0, 0.99998903, '国务院1月25日召开全国安全生产电视电话会议。中共中央政治局常委、国务院总理李克强作出重要批示。批示指出，安全生产工作事关经济社会发展大局，不能有丝毫放松。2017年，国务院安全生产委员会认真贯彻党中央、国务院决策部署，推动安全生产工作取得积极成效，实现事故总量、较大事故、重特大事故“三个继续下降”，为保障经济平稳运行和人民生命财产安全作出了积极贡献。谨向全系统的同志们致以诚挚问候！新的一年，望全面深入贯彻党的十九大精神，以习近平新时代中国特色社会主义思想为指导，坚持以人民为中心，牢固树立安全发展理念，统筹推进安全生产领域改革发展，进一步健全完善安全生产责任体系、法治体系、风险防控体系和监管保障体系，抓住重点领域深入排查治理安全隐患，坚决防范遏制重特大事故，为推动经济高质量发展和民生改善作出新的贡献。\\n国务院副总理、国务院安委会主任马凯，国务委员、国务院安委会副主任郭声琨、王勇出席会议。\\n']\n",
            "[0, 0, 0.99998903, '国务院副总理张高丽25日出席在北京召开的京津冀及周边地区大气污染防治协作小组第十一次会议并讲话。\\n张高丽表示，党中央、国务院高度重视大气污染防治工作。党的十九大报告提出，坚持全民共治、源头防治，持续实施大气污染防治行动，打赢蓝天保卫战。习近平总书记在中央经济工作会议上强调，打好污染防治攻坚战，要使主要污染物排放总量大幅减少，生态环境质量总体改善，重点是打赢蓝天保卫战。李克强总理也作出了批示要求。过去五年，大气污染防治行动取得明显成效。下一步，要认真学习贯彻党的十九大和中央经济工作会议精神，以习近平新时代中国特色社会主义思想为指导，坚持稳中求进工作总基调，坚持新发展理念，推动大气污染防治工作取得更大成效。\\n张高丽强调，要以京津冀及周边地区等区域为重点，抓紧制定实施打赢蓝天保卫战三年作战计划。加快优化能源结构，增加清洁能源供应。因地制宜、稳妥推进北方地区清洁供暖，完善配套政策，保障天然气供应，确保群众温暖过冬。推动产业结构调整升级，继续抓好“散乱污”企业综合整治。优化交通运输结构，提高铁路货运比重，加强机动车污染治理。强化区域联防联控和应急联动，实现秋冬季重污染过程缩时降峰。推进大气重污染成因与治理攻关，为改善空气质量提供科技支撑。各地区各部门各单位要切实落实责任，加强政策支持，强化舆论宣传引导，把各项工作抓实抓好抓出成效。\\n蔡奇主持会议。北京、天津、河北、山西、内蒙古、山东、河南等七省区市、53个市区县和有关部门单位负责同志参加会议。\\n']\n",
            "[0, 0, 0.9999743, '中共中央政治局常委、中央纪委书记赵乐际25日在北京会见了由越共中央政治局委员、中央组织部部长范明政率领的越南共产党代表团。\\n赵乐际说，习近平总书记与阮富仲总书记去年实现年内互访，为中越关系发展作出顶层设计。中越两党应加强对双边关系的政治引领，深化战略沟通，增进政治互信，坚定不移地推动构建中越命运共同体。中国共产党愿同越南共产党进一步加强管党治党经验交流，分享中共十九大理论成果，相互学习借鉴，共同提高党的建设质量，为推动中越全面战略合作伙伴关系健康稳定发展作出新贡献。\\n范明政表示，越方再次祝贺中共十九大取得重大成果，愿同中方共同努力，推动两党两国关系健康稳定务实发展。\\n']\n",
            "[0, 0, 0.99998534, '新华社24日播发特稿《指引人类进步与变革的力量——记习近平主席在瑞士发表人类命运共同体演讲一周年》。文章说，一年前，习近平主席在瑞士达沃斯世界经济论坛年会和联合国日内瓦总部发表两场历史性演讲，系统阐释人类命运共同体重要理念。这两场演讲，散发出跨越时空的思想魅力，在国际社会持续引发强烈反响。构建人类命运共同体理念，直面当今世界最重要的问题，将人类共同价值和中华优秀文化弘扬光大，将中国自身发展与世界共同发展融为一体。这种深具开创性、普遍性的价值理念，不仅是中国思想对当代世界的重要启示，更成为引领时代潮流和人类文明进步方向的鲜明旗帜。\\n']\n",
            "[0, 0, 0.9999872, '应国务院总理李克强邀请，大不列颠及北爱尔兰联合王国首相特雷莎·梅将于1月31日至2月2日对中国进行正式访问并举行新一轮中英总理年度会晤。\\n']\n",
            "[0, 0, 0.9999882, '财政部今天公布了2017年财政收支数据。我国收入和支出双双实现“快步走”。\\n7.4%！这是2017年全国一般公共预算收入的奔跑速度，比2016年快了2.9个百分点。这个增速对应的，是2017年我国172567亿元的财政收入，比2016年整整多了1.2万亿元。\\n数字印证着我国结构调整和动能转换的加快。\\n2017年，装备制造业和高技术产业持续快速发展，带动通用设备制造业、专用设备制造业税收增长均超过20%。互联网和相关服务业、软件和信息技术服务业税收分别增长55.1%和36%。\\n2017年，财政支出迈上了20万亿元的大关。推进供给侧结构性改革、兜牢基本民生底线，保障国家重大发展战略实施以及重点领域改革是国家花钱的四大重点方向。特别是民生，全国财政总支出中48%的资金，都用在了脱贫攻坚、教育、医疗卫生与计划生育等和老百姓生活息息相关的领域，夯实了百姓的获得感。\\n']\n",
            "[0, 0, 0.9998039, '连接重庆和贵阳的渝贵铁路今天开通运营，不仅大幅压缩了两地的旅行时间，也为西北、西南地区增添了一条连接华南地区的出海新通道。\\n渝贵铁路自重庆西站引出，经綦江、遵义、息烽，终到贵阳北站，虽然初期运营时速只有200公里，但由于这条线路穿越娄山、横跨长江，一路裁弯取直，开通后重庆到贵阳的旅行时间从9个多小时缩短到了2个小时。\\n渝贵铁路开通初期，计划每天开行列车66对，不仅可以有效缓解广东与成渝地区的春运客流压力，还打开了西北、西南前往华南地区的出海新通道。\\n全长347公里的渝贵铁路，是我国京广高铁以西的第一条南北走向快速铁路大通道，西北方向通过重庆枢纽与兰渝、成渝、渝利铁路对接，连通宝兰、兰新和沪汉蓉高铁大通道，东南方向则通过贵阳枢纽与贵广、沪昆高铁相连，让长江经济带与“一带一路”更紧密对接，支撑起西部大开发和对外开放的新格局。\\n']\n",
            "[0, 0, 0.99998695, '中国人民解放军航天员大队成立20年来，全体航天员坚守初心、忠诚于党、矢志报国、刻苦训练、不畏艰险，在实现航天强国的征程中谱写新的壮丽篇章。\\n航天员系统是载人航天工程的核心组成部分，选拔和训练航天员是一个国家能否独立自主实施载人航天的重要标志之一。从1998年1月5日组建至今，航天员大队共选拔两批21名航天员。\\n从飞行员到航天员，需要经过千锤百炼。其中的超重耐力训练，航天员要在离心机中承受自身重量8倍的压力，持续时间达到40秒钟。\\n经过严格综合评定，先后选拔的2批21名航天员，完成了八大类上百个科目的学习和训练，全部具备独立执行载人航天飞行任务的能力，创造了世界航天员训练零淘汰率的纪录。\\n坚守初心、筑梦九天，祖国利益高于一切，是每个航天员恪守的信条。2008年9月27日16时30分，当神舟七号航天员翟志刚准备太空行走时，轨道舱突然响起火灾语音报警，并不断重复。\\n首批航天员邓清明虽然3次与飞天任务失之交臂，但他初心不改至今还坚持训练。\\n20年来，中国航天员为国出征、六上太空、连战连捷。航天员秉承尊重科学、追求极致的精神和严实作风，一路走到了空间站时代。\\n']\n",
            "[0, 0, 0.99997836, '中央宣传部今天向全社会公开发布航天员群体的先进事迹，授予他们“时代楷模”荣誉称号。中国人民解放军航天员大队组建20年来，先后圆满完成6次载人航天飞行任务，11人被党中央、国务院、中央军委授予“航天英雄”“英雄航天员”荣誉称号，1人被授予“八一勋章”。2017年八一前夕，中央军委主席习近平签署通令给中国人民解放军航天员大队记一等功。\\n']\n",
            "[0, 0, 0.9845298, '这是上海硬通网络科技公司推出的《龙纹战域》等多款网络游戏，这些网游在上网运营之日起30日内未按规定向文化部门备案；这是北京金刚游科技公司的手机游戏《仙剑奇侠传五》，网游公司在没有公示随机抽取概率的情况下，诱导玩家花钱购买游戏装备和服务。\\n近期，针对这些网游市场“乱象”，北京、黑龙江、江苏、浙江、福建、海南等地查办网络游戏重大案件15件，并公布了其中6起典型案件。\\n下一步，扫黄打非和文化部门还将部署各地重点排查未经内容审查备案、未落实实名注册、未实施未成年人家长监护工程、未采取技术手段防止未成年人沉迷网络游戏等违法违规经营行为，保护未成年人健康成长。\\n详细内容请收看今晚焦点访谈《价值观不能游戏》。\\n']\n",
            "[0, 0, 0.9999887, '国务院办公厅近日印发了《关于改革完善全科医生培养与使用激励机制的意见》，明确我国全科医生培养的目标和多项具体改革举措。\\n《意见》提出，到2020年，城乡每万居民拥有2-3名合格的全科医生；到2030年，城乡每万居民拥有5名合格的全科医生，全科医生队伍基本满足健康中国建设需求。《意见》围绕建立适应行业特点的全科医生培养制度等提出了13条重点改革举措。高校面向全体医学类专业学生开展全科医学教育和全科临床见习和实习。提高全科医生薪酬待遇，可设立全科医生津贴，与当地县区级综合医院同等条件临床医师工资水平相衔接。全科医生到基层就业在编制管理、职称晋升等方面都将享受优惠政策。\\n']\n",
            "[0, 0, 0.99983144, '昨天以来，上海迎来今年首场降雪。河南、湖北、安徽、江苏、浙江等地出现大到暴雪，局地降下大暴雪。南京的降雪持续了20多个小时，当地连夜出动专业车辆机械3000多台，城管、环卫等部门7万多人上路扫雪除冰。\\n在江苏溧阳，供电部门加强对重点线路、重点地区的巡护，及时消除安全隐患。\\n安徽境内降雪来势汹汹，到今天下午两点，全省有66个市县出现积雪，最大积雪达到17厘米。多地中小学、幼儿园停课。多条高速公路临时封闭，相关部门加紧清扫积雪，疏导交通。\\n浙江北部的雨雪今天仍在持续。杭州西湖景区实行24小时值班制，在重点路段铺设防滑设施，确保游客安全。\\n受降雪影响，今天，珠三角、长三角等地的京广、沪宁等高铁线路相关列车车票停售。南京、上海、杭州等地机场通行能力明显下降。\\n气象专家表示，这次强降雪区域集中，部分地区暴雪天数可达3天以上，提醒相关地区及时清理农业大棚及简易搭建物上的积雪，以免出现垮塌，人们也要合理安排出行，注意交通安全。\\n']\n",
            "[0, 0, 0.9999845, '1月25日下午，台湾省出席第十三届全国人民代表大会代表协商选举会议，以差额选举和无记名投票的方式，选举产生了台湾省第十三届全国人民代表大会代表13名。\\n13名当选代表大都是在祖国大陆出生的台湾省籍同胞，根据《中华人民共和国全国人民代表大会和地方各级人民代表大会选举法》、全国人大常委会关于《台湾省出席第十三届全国人民代表大会代表协商选举方案》的规定，协商选举会议代表经过认真酝酿、讨论和协商，从16名代表候选人中差额选举产生了13名台湾省全国人大代表。\\n当选代表将由全国人大常委会依法完成资格审查程序后予以确认。\\n']\n",
            "[1, 1, 0.9980217, '商务部今天消息，2017年我国与“一带一路”沿线国家贸易额7.4万亿元人民币，增长17.8%；我国企业对沿线国家直接投资144亿美元，在沿线国家新签承包工程合同额1443亿美元，增长14.5%。\\n']\n",
            "[1, 1, 0.99850035, '国土资源部近日下发通知，明确要求各地继续严控城市新增建设用地规模，组织做好城市用地申报，确保在今年3月底之前完成年度报国务院批准城市建设用地申报工作。\\n']\n",
            "[1, 1, 0.9472892, '今天13时39分，我国在西昌卫星发射中心用长征二号丙运载火箭，成功将遥感三十号04组卫星发射升空，卫星进入预定轨道。遥感三十号04组卫星主要用于开展电磁环境探测及相关技术试验。这次发射同时搭载“微纳-1A”卫星。\\n']\n",
            "[1, 1, 0.99436337, '博鳌亚洲论坛2018年年会将于4月8日到11日在海南博鳌举行，主题是“开放创新的亚洲 繁荣发展的世界”，拟设置“全球化与‘一带一路’”“开放的亚洲”“创新”“改革再出发”四个板块，共60多场正式讨论。\\n']\n",
            "[1, 1, 0.9983218, '记者今天从全国海关关长会议上获悉，2017年我国海关实现通关一体化，货物通关时间在2016年基础上压缩三分之一，进出口通关时间同比分别减少9.2小时和0.7小时，通关时间和成本大幅下降。\\n']\n",
            "[1, 1, 0.99140704, '由中宣部理论局组织撰写的2018年通俗理论读物《新时代面对面》出版发行，该书是“理论热点面对面”系列的最新读本，集中回答干部群众在学习贯彻党的十九大精神过程中遇到的热点难点问题。\\n']\n",
            "[1, 1, 0.9988265, '日前，近万只赤麻鸭聚集到内蒙古乌审旗的萨拉乌苏国家湿地公园，种群之大、数量之多突破往年纪录。\\n']\n",
            "[1, 1, 0.88718265, '24日，正在瑞士达沃斯举行的世界经济论坛年会进入第二天，中国智慧和中国方案成为各方主要关注点。\\n火红的灯笼，喜庆的福字，2018年夏季达沃斯举办地天津举办的文化活动，让会议中心呈现出浓浓的中国味道。\\n当天年会的多场讨论都以中国的各项发展为主题。中方代表在致辞中介绍了中共十九大报告的主要精神以及未来几年中国的经济政策。他表示，去年习近平主席在达沃斯发表著名演讲，受到国际社会的普遍欢迎。一年来，中国积极落实习近平主席倡议，用实际行动推动经济全球化进程。\\n法国总统马克龙也在当天的演讲中特别提到对“一带一路”建设的愿景。巴基斯坦总理阿巴西说，中巴经济走廊对巴基斯坦的经济和发展起到了重要拉动作用。\\n']\n",
            "[1, 1, 0.9930374, '24日，土耳其与叙利亚的边境城市再次遭到来自叙利亚境内的火箭弹袭击。土耳其总统埃尔多安当天称，土军在叙利亚阿夫林的军事行动进展顺利，下一步将继续向东推进。\\n当天，土耳其靠近叙利亚边界的基利斯省省会基利斯市遭到来自叙利亚境内的火箭弹的袭击，造成2人死亡、12人受伤。袭击发生前，埃尔多安曾表示，土耳其军队目前已在阿夫林打死至少268名库尔德武装人员和极端组织成员。下一步，土耳其军队将继续向东攻打库尔德武装控制的叙利亚北部重镇曼比季等地，直到将库尔德武装从土耳其边境地区彻底清除。埃尔多安还呼吁国际社会支持土耳其打击库尔德武装，维护边境安全的做法。\\n目前，曼比季由库尔德人领导的“叙利亚民主军”控制。“叙利亚民主军”是美国在叙利亚打击极端组织的重要盟友。美国总统特朗普当天敦促土耳其保持谨慎，避免任何可能导致美土军队发生冲突的举动。\\n']\n",
            "[2, 2, 0.99678826, '巴西联邦地区法院24日二审维持一审关于巴西前总统卢拉贪腐和洗钱的罪名，并将刑期从9年零6个月增加至12年零1个月。卢拉方面表示，将继续上诉到更高一级法院。巴西今年将举行总统选举，卢拉在目前所有民调中支持率均排在第一，但根据巴西法律，被判有贪腐、洗钱等罪名者不得参加总统选举，理论上卢拉已失去成为今年大选总统候选人的资格。不过，他依然可以参加候选人注册，由高等选举法庭判定其候选人资格是否有效。\\n']\n",
            "[2, 2, 0.996128, '欧盟委员会24日表示，调查显示，在2011年到2016年期间，美国芯片制造商高通公司向其重要客户苹果公司支付数十亿美元，要求苹果公司只能用高通的芯片生产其所有智能手机和平板电脑。欧盟认为高通公司的行为限制了消费者的选择，阻碍了这一领域的技术创新，违反了欧盟的反垄断法。欧盟决定对其罚款9.97亿欧元，约合79亿元人民币。这一数额相当于高通公司2017年营业额的4.9%。\\n']\n",
            "[2, 2, 0.997305, '受持续暴雨影响，流经法国巴黎的塞纳河水位近日不断上涨。24日已上涨到5.25米，预计到27日，可能会上涨到6米左右。主体建筑靠近塞纳河的卢浮宫内将位于地下室的展厅暂时关闭至28日。临河的部分公共交通站点已被关闭。由于河水淹没了码头，巴黎政府还暂停了塞纳河上的航运，并提醒居民和游客远离塞纳河岸。\\n']\n",
            "[2, 2, 0.9861243, '意大利米兰附近今天发生了列车脱轨事故，已经造成至少4人死亡、上百人受伤，部分乘客的伤势严重。据当地媒体报道，发生事故的是一列通勤列车，当时正驶向米兰，在皮奥尔泰洛路段发生脱轨事故，技术人员初步认为是车厢连接处出现问题导致列车脱轨。\\n']\n",
            "[0, 0, 0.9999876, '2017年年初，国家主席习近平在世界经济论坛年会和联合国日内瓦总部发表两场历史性演讲，提出“构建人类命运共同体，实现共赢共享”的中国方案，向世界描绘构建人类命运共同体的壮美蓝图。一年后，2018年世界经济论坛年会以“在分化的世界中打造共同命运”为主题，与构建人类命运共同体的中国理念同频共振。一年来，人类命运共同体理念不但引发全球共鸣，也正在世界上落地生根。\\n2017年伊始，世界经济低迷不振，逆全球化暗流涌动，国际形势动荡多变。2017年1月17日习主席应邀首次出席世界经济论坛年会。他在开幕式上发表《共担时代责任 共促全球发展》的演讲，为世界经济走出迷途“把脉开方”，为处在十字路口的全球化进程指引方向。\\n习主席的演讲拨开了反全球化的迷雾，广获各国认同。在今年的达沃斯论坛上，多国领导人还在回应、延续着这种理念。\\n2017年1月18日，日内瓦万国宫。习主席发表了题为《共同构建人类命运共同体》的主旨演讲，全面阐述人类命运共同体理念，就事关人类前途命运的重大问题提供中国方案，为人类社会发展进步描绘蓝图。\\n习主席的演讲赢得全场30多次热烈掌声。联合国秘书长古特雷斯热情回应：“联合国愿同中国共同推进世界和平与发展事业，实现构建人类命运共同体的伟大理想。”\\n一年来，中国切实推动构建人类命运共同体。中共十九大确定中国未来30多年发展目标，也明确了构建人类命运共同体的中国特色大国外交目标；中国积极推进“一带一路”建设，已同80个国家和组织签署共建合作协议；信守气候变化承诺，落实《巴黎协定》；积极参加联合国维和行动。\\n联合国日内瓦总部总干事穆勒说，中国正在努力践行构建人类命运共同体重要理念，这是对全人类的贡献。\\n在联合国的舞台上，“构建人类命运共同体”理念还一次次被写入重要决议之中。构建人类命运共同体，是“中国为地球村提供的一把发展的钥匙”。\\n“历史是勇敢者创造的”，中国始终是世界和平的建设者、全球发展的贡献者、国际秩序的维护者。复兴中的现代中国在为世界贡献中国智慧的同时也必将和世界一道迈向人类的美好未来。\\n']\n",
            "[0, 0, 0.9999889, '经李克强总理签批，国务院日前印发《关于加强质量认证体系建设促进全面质量管理的意见》，部署推进质量认证体系建设，强化全面质量管理，推动我国经济高质量发展。\\n\\xa0《意见》提出，力争通过3到5年努力，使我国质量认证制度趋于完备，各类企业组织尤其是中小微企业的质量管理能力明显增强，主要产品、工程、服务尤其是消费品、食品农产品的质量水平明显提升，形成一批具有国际竞争力的质量品牌。\\n']\n",
            "[0, 0, 0.99998844, '党的十九大以来，全国政法机关坚持以习近平新时代中国特色社会主义思想为指导，深入贯彻党的十九大精神，创新社会治理，不断增强广大人民群众的获得感、幸福感、安全感。\\n徐从荣和王根荣是江苏省盐城市郑通村的村民，不久前，两家人因为土地转包问题发生了纠纷，王根荣通过村里的“法润民生”微信群向群主反映了自己的苦恼。“法润民生”微信群是江苏省司法系统在全省基层建立的，通过互联网为群众提供法律政策咨询、矛盾调解、法律援助等众多法律服务。王根荣的问题通过调解很快得到了解决。目前江苏全省已有19288个村和社区建成并运行“法润民生”微信群。\\n化解民忧、维护民利，全国各级政法机关构建调解、仲裁、行政裁决，多元解决的社会风险防控体系，从源头上化解矛盾纠纷，筑牢社会稳定新防线。\\n广东省法院系统通过和各级工会组织联合组建劳动争议诉调对接工作室，鼓励通过调解的方式解决劳动争议纠纷。由政府花钱购买法律服务，聘请律师介入矛盾纠纷调解。目前试点地区有接近50%的劳动争议案件通过调解得到解决。\\n十九大以来，各地政法机关大力推进信息化建设，推动现代科技和社会治理的深度融合。\\n上海市公安局漕河泾派出所民警严凌华接到上级指令，急匆匆地去阻止一起电信诈骗案件。\\n市民陈先生一个小时前接到一个诈骗电话要他汇款，幸好警察及时赶到。\\n这起电信诈骗案件的成功堵截得益于上海市公安局反电信诈骗中心信息系统的预警跟踪。目前全国许多地方已经陆续建立起类似的预警防范体系。\\n十九大以来，全国各级政法机关立足本职，大胆创新，积极回应人民群众对美好生活的需要，不断提升社会治理水平，推动新时代政法事业在平安中国、法治中国建设中开辟新境界。\\n']\n",
            "[0, 0, 0.99997103, '今天，人力资源和社会保障部召开新闻发布会，2017年全国城镇新增就业1351万人，同比增加37万人，城镇登记失业率连续四个季度保持在4%以内，四季度为3.9%，是2002年以来最低。\\n同时，社会保险覆盖范围进一步扩大。截至2017年底，基本养老保险人数达到9.15亿人、基本医疗险参保人数达到11.77亿人。企业退休人员基本养老金水平实现“十三连调”，企业和机关事业单位退休人员基本养老金同步调整，1亿多退休人员受益。城乡居民人均月养老金超过120元。提高城乡居民医保补助标准，达到人均450元。\\n']\n",
            "[0, 0, 0.9999857, '冰天雪地也是金山银山，黑龙江、吉林、辽宁三省立足自身优势，积极开发冰雪旅游产品，不断提高服务质量，把“冷资源”变成“热产业”。\\n这个冬天，一批冰雪旅游产品、旅游线路的推出，让来东北游玩的人们有了更多选择。到辽宁，玩冰雪泡温泉，放松身心。\\n到吉林，看雾凇树挂，如诗如画。\\n今年，黑龙江推出专业冰雪运动赛事、冰雪景观、界河体验等十个旅游主题产品，游客人数比去年同期增长30%。位于哈尔滨的冰雪大世界，零下30度的严寒，挡不住人们游玩的热情。\\n今年，东北三省纷纷加强市场监管，提升服务能力。辽宁严查旅游市场不合理低价、强迫消费等违法违规行为。黑龙江通过联合检查、暗访等形式，建立诚信旅游名单，重点查处导游欺客甩团、“黑社、黑导、黑车、黑店”等行为。\\n把冰雪经济做强，不断释放活力，如今正成为东北三省推动高质量发展的有力抓手。吉林出台意见，提出打造冰雪全产业链条，一个集娱乐、文化、休闲、运动为一体的冰雪发展体系正在形成。\\n辽宁围绕旅游强省目标，抓紧补短板，不断扩大冬季旅游产品有效供给。黑龙江推出旅游特色品牌，力争到2022年，全省冰雪旅游人数突破1亿人次，旅游收入突破1200亿元。美丽的冰雪，正给东北带来别样风光！\\n']\n",
            "[0, 0, 0.99998826, '他在村党委书记的岗位上一干就是18年，面对经济转型下滑压力，他敢于创新，带领村民致富。今天的《最美基层干部》，带您认识北京房山区窦店村党委书记仉锁忠。\\n这几天，窦店村的农贸市场刚刚拆完，这里规划成一个休闲公园。从设计到实施，每一个环节仉锁忠都要盯到位。窦店村的发展思路，不是一味追求利益，这几年，他们陆续关停了水泥构件厂、服装厂等10多家低端企业，引进药物研究院、新能源科技企业等一些新兴产业。\\n上世纪80年代，窦店村建起14个农场、32家企业，村民收入颇丰。后来，受到市场等因素影响，村民收入锐减。2000年，仉锁忠上任后，陆续关停了蛋鸡厂等亏损企业；对制药厂等高投入企业向社会招商引资；保留肉联厂等效益较好的企业，实行厂长负责制。通过一轮“手术式”改革，企业很快扭亏为盈。\\n现在，窦店村人均年收入从5000多元，增长到近3万元，村里还建了文化宫、幼儿园、小学等，这个有着四个民族、4400多口人的村子被评为全国文明村镇。\\n']\n",
            "[0, 0, 0.99998367, '国务院新闻办公室今天发表《中国的北极政策》白皮书，这是中国首次就北极政策发表白皮书。\\n白皮书全文约9000字，除前言、结束语外，共包括四个部分，分别为北极的形势与变化、中国与北极的关系、中国的北极政策目标和基本原则、中国参与北极事务的主要政策主张。\\n白皮书说，作为负责任的大国，中国愿本着“尊重、合作、共赢、可持续”的基本原则，与有关各方一道，抓住北极发展的历史性机遇，积极应对北极变化带来的挑战，共同认识北极、保护北极、利用北极和参与治理北极，积极推动共建“一带一路”倡议涉北极合作，积极推动构建人类命运共同体。\\n']\n",
            "[0, 0, 0.99998814, '党的十九大报告指出，要“像对待生命一样对待生态环境”。为落实十九大精神，宁夏确定“生态立区”，以高标准、硬举措，建设美丽宁夏。\\n在2017年的最后几天，宁夏贺兰山矿山关停进入了尾声，自然保护区内25个非法盗采洞口全部被炸封。\\n不仅是贺兰山，宁夏14个自然保护区全部列为禁止勘查开采区。十九大后，宁夏坚决告别黑色增长方式，对老百姓反应强烈的环境问题集中整治。\\n在银川永宁县望远工业园区，有多家生物发酵类企业，排放的废气困扰当地居民多年。\\n从2017年12月初开始，这里三家生物发酵企业被全面停产整治，虽然税收占到永宁县全部税收的48%，但政府下定决心，企业不达标不复产。\\n宁夏对各类污染大气环境行为建立“问题清单”，并督办整治，直至销号，同时一系列铁腕治污举措也在层层推进。\\n']\n",
            "[0, 0, 0.9999879, '江西通过政府出钱、大学出力、农民受益的方式，在全省实施“一村一名大学生工程”，培养和造就了一批扎根农村、服务农民的农村实用人才。\\n这几天，在江西金坪，石玉莲的课吸引了不少附近的村民。\\n把农技知识讲得通俗易懂，这份功夫，石玉莲是从省里的大学学来的。2013年，她听说村里有个机会免费去省里上大学，便报名参加了这个“一村一名大学生工程”。\\n让对土地有感情的农民，变身懂技术、会管理、熟悉市场的“新农民”，江西把“一村一名大学生工程”作为抓手，通过自愿报、择优录的方式，政府出钱、大学出力，将高等教育向农村延伸。通过培训结业的农民，最终能获得国家承认的大学或大专文凭。\\n从农村选人育人，再回流农村，截至目前，江西已培养“农民大学生”40125人。\\n']\n",
            "[0, 0, 0.9999876, '推动实施乡村振兴战略要依靠科技的引领。江苏通过整合科技创新资源，打造农业发展新引擎。\\n新年伊始，“江苏省农科院西蓝花产业研究院”揭牌，江苏省内最大的西蓝花种植地盐城响水县正式与省农科院联手合作，将为这里正在蓬勃兴起的西蓝花产业插上强有力的“科技翅膀”。如今这里的西蓝花不仅供应国内市场，还出口到日韩、欧美。面对激烈的国际竞争，要争得主动权，技术是关键。响水县陆续引进60多个西蓝花新品种。随着西蓝花产业研究院的成立，下一步将在品种创新、品牌创建等方面展开全面合作。\\n目前，当地2680多户农户参与西蓝花种植，200多户低收入农户过上了富裕的日子。\\n十九大召开后，江苏最新发布了《“十三五”后半期农业重大科技需求报告》，鼓励科教企协同创新、鼓励涉农科研院所与家庭农场、合作社、农业企业等开展交流合作，同时推进农业科技进村下田，促使农业科技与产业“大对接”。\\n']\n",
            "[0, 0, 0.79407257, '中东部大范围雨雪天气今天稍有减弱，但低温冰冻积雪给很多地方人们的出行带来影响。全国有14省区的公路铁路通行遭到“冰封雪堵”。在江西南昌，当地气象局发布道路结冰黄色预警，尤其是南昌多座过江桥梁桥面结冰，南昌大桥管理处启动抗冻救灾应急预案。抗冻救灾应急小组24小时待命。\\n在江苏，东部战区投入近万名官兵彻夜奋战，在各交通要道和交通枢纽扫雪除冰。\\n昨夜的一场大雪，让杭州披上了一层银装，为保障市民出行，当地交通运输部门连夜组织人力清扫积雪。在余杭，当地供电部门的党员服务队第一时间深入山区，清理安全隐患，保障居民正常用电。\\n中央气象台发布暴雪橙色预警，从今天夜间开始，湖北、安徽、江苏、浙江等地还将出现大到暴雪、局部大暴雪，人们仍需继续做好防寒保暖。\\n']\n",
            "[1, 1, 0.9977109, '国家统计局今天公布：2017年全国规模以上工业企业实现利润总额75187.1亿元，较上年增长21%。增速比2016年加快12.5个百分点，是2012年以来增速最高的一年。\\n']\n",
            "[1, 1, 0.9974436, '经过五年攻关，中科院神经科学研究所成功克隆出两只猕猴“中中”和“华华”，这也是世界首例通过体细胞克隆技术诞生的灵长类动物。25日，国际期刊《细胞》以封面文章形式发布了这一重大突破。\\n']\n",
            "[1, 1, 0.9985842, '今天，中国铁路总公司所属18家铁路局集团公司与50家大型企业签署2018年度运量运能互保协议。根据协议，铁路部门今年将保证大宗货物运量超过20亿吨。\\n']\n",
            "[1, 1, 0.99860024, '今天凌晨，汕昆高速英红特大桥顺时针旋转，成功跨越位于下方的京广高铁，精准到达预定部位，这是国内首例高速公路桥梁转体跨越高铁。\\n']\n",
            "[1, 1, 0.9984506, '今天，教育部留学服务中心推出多项服务新举措，包括留学归国人员可在线办理学历学位认证、取消之前认证申请材料中对文凭证书翻译件的要求等。\\n']\n",
            "[1, 1, 0.9984523, '为期三年的中国制造海外形象维护“清风”行动结束，全国海关累计查获侵权商品5.8万批次，涉及货物数量1.2亿件，案值5.52亿元。\\n']\n",
            "[1, 1, 0.99900424, '青海三江源地区发现野生水獭种群，在刚刚过去的一个月里，先后记录到超过40次的水獭活动。水獭是国家二级保护动物，对河流水质要求较高。\\n']\n",
            "[1, 1, 0.9788784, '韩国庆尚南道密阳市的一家医院今早发生火灾，已造成37人死亡，143人受伤。中国驻釜山总领馆方面表示，事件中没有中国人伤亡的消息。\\n韩国当地时间26日早晨7点30分左右，密阳市的世宗医院突然起火，造成严重人员伤亡。据密阳消防署介绍，火灾源于医院1层的急诊室，随后火势迅速蔓延。遇难者主要位于医院的1层和2层，死因多为窒息。据悉，发生火灾的世宗医院是一所疗养型医院，这家医院内有大量行动不便的患者在此长期疗养，另外也有一部分普通患者就诊。据报道，火灾发生时，医院内有约177名患者，另有7名医院工作人员。\\n今天早晨的大火持续了约2个小时，经消防人员扑救，最终得到控制。伤者和其他患者也被转移至附近医院。目前，消防人员在建筑内展开进一步搜索，遇难人数有可能还会上升。\\n']\n",
            "[1, 1, 0.9934632, '25日，土耳其军队继续对叙利亚阿夫林地区的库尔德武装进行打击。当天土耳其总统埃尔多安视察了位于土叙边境附近的一处军事要地。\\n当地时间25日凌晨，土耳其军队以及受土耳其支持的叙利亚反对派武装，继续在阿夫林地区展开行动，与当地叙利亚库尔德武装发生交火。与此同时大量土耳其坦克和士兵出现在土耳其临近叙利亚的边境地区，进行新一轮部署。\\n当天，土耳其总统埃尔多安视察了土耳其南部哈塔伊省、靠近土叙边境的的一处军事指挥中心，听取了军方关于阿夫林地区的战事汇报。此前一天，埃尔多安表示，土耳其军队在阿夫林的军事行动进展顺利。下一步，土耳其军队将继续向东攻打叙北部重镇曼比季等地，直到将库尔德武装从土耳其边境地区彻底清除。\\n此外，土耳其外长恰武什奥卢25日表示，美国国务卿蒂勒森谈到在叙利亚境内靠近土边境地区建立纵深30公里安全区的问题，但土耳其在与美国重建互信前不会与美国讨论在叙利亚建立安全区的问题。\\n恰武什奥卢强调，因为美国没有遵守对土耳其的承诺，土美间的信任受损。他说，美国总统特朗普表示美国不会向叙利亚库尔德武装提供武器，土耳其要听其言观其行。\\n']\n",
            "[2, 2, 0.9148524, '新一轮叙利亚和谈25日在奥地利首都维也纳召开。由于叙利亚政府及反对派拒绝直接进行谈判，联合国秘书长叙利亚问题特使德米斯图拉当天分别与双方进行了会谈。会谈就叙利亚新宪法的相关问题展开讨论，计划持续两天。叙利亚反对派代表24日表示，将在此次谈判期间决定是否参加本月底在索契举行的叙利亚全国对话大会。\\n2016年年初以来，在联合国主导下，叙利亚政府和反对派代表已在日内瓦举行了八轮和谈，但因为分歧严重几乎没有进展。\\n']\n",
            "[2, 2, 0.9832517, '25日，由中国发起成立的全球能源互联网发展合作组织在伦敦与英国皇家工程院签署合作备忘录，双方将在可再生能源、全球能源互联等领域开展联合研究并共享信息。\\n据介绍，该组织的宗旨是推动构建全球能源互联网，以清洁和绿色方式满足全球电力需求。帮助解决世界能源资源紧缺、环境污染、气候变化等问题，促进清洁能源在全球范围优化配置。\\n']\n",
            "[2, 2, 0.99690044, '俄罗斯最新改装的图-160M战略轰炸机25日升空亮相，俄罗斯总统普京当天观摩了新机的飞行，他表示，新机型的发动机性能及打击力量都得到了大幅度提高，是俄核打击体系的重要力量。\\n图-160M战略轰炸机是目前世界上最大的可变后掠翼超音速战略轰炸机。一次加油续航里程可达12000公里，可发射搭载核武器的远程巡航导弹。\\n']\n",
            "[0, 0, 0.9999889, '习近平总书记在十九大报告中指出：“实施乡村振兴战略，建立健全城乡融合发展体制机制和政策体系。”按照总书记的要求，海南积极推动城乡发展一体化、促进城乡共同繁荣。在习近平新时代中国特色社会主义思想指引下，海南抓住建省办特区三十周年的契机，积极谋划、主动作为、争创范例，以一分部署、九分落实的干劲，加快建设美好新海南。\\n岁末年初，按照习近平总书记在十九大报告中提出的“实施乡村振兴战略”的要求，海南各级干部围绕“美丽海南百镇千村”建设展开大调研，进村入户带动村民从改变村容村貌做起，因地制宜科学规划，靠高科技提高农产品品质，按高标准规划路、水、电、气、光纤“五网”建设，补短板，打基础。\\n这几天，地处偏远山区的琼中县堑对村的路修通了，返乡青年胡开君新建的7间民宿也将在春节开张迎客，借力政府的扶持，胡开君的致富梦想更有了底气。\\n元月1日，海南正式实施新的《省市县发展综合考核评价暂行办法》，在取消12个市县GDP考核基础上，把“美丽海南百镇千村”建设作为重要一项列入其中，特别强调能不能贯彻新发展理念、能不能与百姓共享资源红利、能不能最大限度保护资源并发挥最佳效益，是引进项目的重要“门槛”。用新办法、新路子推动新发展。\\n按照十九大报告中提出的：“推动互联网、大数据、人工智能和实体经济深度融合”的要求，在推进乡村振兴的同时，海南还着力推进大数据应用创新提升城市治理能力。新年刚过，由海口市政府部门联手打造的一款超级APP吸引市民争相下载，实名注册用户超过20万；这款应用集纳了海南省海口市近40个部门的100多项公共信息与服务，可三个月前，这个项目还因为各部门间的信息“篱笆墙”，一时难以推进。\\n2017年12月，习近平总书记在中央政治局第二次集体学习时强调：要建立健全大数据辅助科学决策和社会治理的机制，实现政府决策科学化、社会治理精准化、公共服务高效化。按照总书记的要求，海南打破壁垒、联合攻关，让互联互通真正落地。\\n去年底，以“数据多跑路、群众少跑腿”为理念设计的“椰城市民云”上线。\\n目前海南全省政务信息共享率已超过80%，预计2018年实现100%，下一步，海南将继续推动政务信息的整合、共享和应用，把数据用活，实现数据和实体经济紧密结合，提高企业、社会和政府的运行效率，逐步把海南建设成为数据岛、智能岛。\\n']\n",
            "[0, 0, 0.99998677, '进入新时代，人民群众对美好生活的需要更加广泛，对公平、正义、法治、安全提出了更高要求。面对新使命，全国公安机关坚持以人民为中心的发展思想，以新担当新作为，开启了护航平安中国的新征程。\\n人民公安为人民，就要把人民群众关心的事情做好。努力让人民的获得感、幸福感、安全感更加充实、更有保障、更可持续。1月12日，104名电信网络诈骗犯罪嫌疑人从老挝被中国警方押解回国，涉及全国多地的300多起电信网络诈骗案件成功告破，涉案金额3000多万元。保护好老百姓的钱袋子，严厉打击盗抢骗等侵财犯罪，用正义之剑守护人民群众的切身权益。\\n党的十九大以来，面对我国经济社会发展进入新时代的现实形势，公安部做出专项部署，严厉打击非法集资、网络传销等涉众型经济犯罪，防控金融风险，保障社会稳定。\\n新时代警务工作，面对新形势，就要有新方法、新技术。全国公安机关在实战中积极推进智能化建设，对各类违法犯罪实施精准打击。家住湖北武汉的快递员小连，在送餐过程中被人偷走了电动车。警方此前给辖区居民车辆免费安装的定位芯片，在这个时候派上了大用场，按照民警手中寻车探测仪提示的轨迹，警方在案发后两小时就抓获了犯罪嫌疑人。\\n把握住科技创新，为公安工作赢得了先机。太原民警创造性地找到了快速检测地沟油的方法，一张小小的试纸，几分钟便能让地沟油现原形。在云南宣威市公安局的便民服务大厅里，机器人助手“奂奂”可以实现人机对话引导群众，使老百姓办事更便捷。科技正在助力公安工作提档升级。\\n围绕便民利民，公安改革快马加鞭。从今年2月1日起，公安部将正式实施八项出入境管理新举措，群众申请办理普通护照和港澳台通行证将会更加方便。让数据多跑路、群众少跑腿，这一多一少的变化，带给人民群众的是实实在在的获得感。\\n要打造一支忠诚过硬的公安队伍，就要规范执法、从严治警。全国公安机关改作风、强纪律，深入推进公安执法规范化，2017年12月，《关于公安机关办理经济犯罪案件的若干规定》正式印发，明确强调坚持惩罚犯罪与保障人权并重。公安部开展专项巡查，集中整治不作为、乱作为等群众反映强烈的执法问题，将公安工作的根脉深深地扎在人民群众之中，有力提升了公安执法水平和公信力。\\n']\n",
            "[0, 0, 0.9999828, '农业部最新发布，按照中央关于农村改革要“扩面、提速、集成”的要求，从今年起，我国农村集体产权制度改革将在条件成熟的省探索整省试点，同时选择50个地市开展整市试点，并将试点县市区扩大到300个。\\n农业部初步统计，我国集体所有的资源性资产达66.9亿亩，经营性资产约3万亿元，数目庞大。借鉴试点经验，今年将全面实施农村集体资产清产核资，摸清资源性资产和经营性资产家底，并确认权属关系，确保实现2019年基本完成清产核资、2021年基本完成股份合作制改革的目标。\\n']\n",
            "[0, 0, 0.99447364, '农业部公布我国农产品监测情况：2017年，我国主要农产品监测合格率达到97.8%，其中，蔬菜、水果、茶叶的农残抽检合格率分别达到97%、98%、98.9%，畜禽产品和水产品的兽药残留抽检合格率分别为99.5%和96.3%，均达到我国开展监测以来历史最好水平。三聚氰胺连续8年监测全都合格；“瘦肉精”监测合格率处于历史最好水平。\\n今年，农产品质量安全例行监测指标将由94项增加到122项，重点抽检蔬菜、水果等5大类百姓日常消费的大宗鲜活农产品。\\n']\n",
            "[0, 0, 0.99998826, '驻村扶贫，不走过场扎实为民办实事；驻村期满，村民联名请愿极力挽留。今天的最美基层干部，带你一起来认识内蒙古驻村干部解良。\\n隆冬时节，在内蒙古察右中旗阿令朝村，养殖场、磨房、油坊……红红火火的集体经济给山村注入一派生机。\\n时间倒退三年，2015年5月，当解良来驻村扶贫时，阿令朝村可以说村穷、人穷，村集体账上没有一分钱。村里一半以上的人外出打工，常住人口104户，有97户都是贫困户。\\n解良经过走访、调查、与村两委班子研究，逐渐形成了“建立合作社，发展集体经济”的扶贫思路。\\n要想干事，得先赢得民心。谁家有人生病下不了地，解良帮忙把医生请到家；谁家老人过世没钱安葬，他又自掏腰包；2015年底，羊肉价格大跌，村民的羊肉卖不出去，解良发动亲戚朋友购买，还去商场超市推销。\\n渐渐地，解良得到了村民的认可，村里新建了养殖棚圈，合作社开始起步。可这时，解良一年的驻村期满，将回所在单位——自治区党委党史研究室。知道这个消息后，57位村民联名给他单位写请愿书，摁红手印挽留解良。\\n留下来的解良成天琢磨集体经济。他整合扶贫资金，在村里养殖效益更高的黑驴，又办起了石磨面粉加工厂、胡麻油加工厂。三年来，阿令朝村已有36户贫困户脱贫，村民年人均纯收入从2600元达到4600多元。\\n']\n",
            "[0, 0, 0.9999818, '今天，中央气象台继续发布暴雪橙色预警。连日来，全国多地出现低温严寒，局地遭遇大到暴雪，为最大限度降低给群众生产、生活带来的不利影响，各地各级政府积极采取措施，迎战寒潮天气。\\n从24日开始，安徽69个县市出现不同程度积雪，其中48个县市积雪深度超过10厘米。当地环卫、路政、交通等部门加班加点，昼夜进行扫雪除冰。\\n迎战风雪，依靠人力，也需要科学的技术手段。在河南信阳，通过数字城管信息管理系统，协调各职能部门及时作出处理。\\n这几天，吉林长春的最低气温超过零下30度。气温太低，公交车无法启动，车队工作人员每天夜间提前到岗，为全市3000多辆露天停放的公交车预热。\\n雨雪冰冻，给各地人们的出行带来不便。在湖北武汉，降雪导致机场跑道结冰，应急小分队迅速出动展开除冰作业。空管部门还为武汉天河机场开辟了一条绿色通道。\\n持续的强降雪，造成各地的用电负荷连创新高。浙江、贵州、湖南、福建、山西等地的电力部门组织应急抢修小分队，顶着暴风雪开展线路故障巡视。\\n为减少雨雪冰冻对农业的影响，江苏、江西、甘肃等地的农技人员深入田间地头，进行技术指导。在南京溧水区傅家边草莓种植基地，虽然遭遇一夜的降雪，但5000亩种植大棚没发生任何垮塌。这归功于农技人员给选用的新型抗压大棚。\\n在我国最北端的黑龙江漠河，当地气温持续走低。为保障居民温暖过冬，当地供热部门加大供暖力度。\\n雨雪天容易发生意外，各地医疗卫生机构及时启动医疗救援应急预案，在西安全市57家二级以上综合医院开通了滑倒摔伤绿色应急通道。\\n']\n",
            "[0, 0, 0.9999876, '资源大省山西通过环境保护倒逼产业转型，按照生态优先原则，出实招硬招促进生态环境改善，走出了一条绿色转型发展之路。\\n这几天，太重集团厂区的7台210吨的燃煤锅炉正在逐步拆除，附近10万用户的供热已经转变为清洁取暖。\\n这些锅炉原计划还要再服役两年，但为了减少对大气的污染，这些锅炉提前下岗了。目前，仅在太原，就已拆除1614台燃煤锅炉，减少散煤燃烧400万吨。\\n转型之路需要培育新型动能，山西下大力气培育新能源、高端装备制造业。在山西转型综改示范区晋中园区，第10万辆新能源汽车整车下线。\\n现在，这里已引进新兴产业项目62个，投资970亿。\\n到2022年，山西的制造业增加值比重将从12%提高到15%，煤炭产业增加值占比要从15%降到11%，制造业将替代煤炭成为山西工业第一大产业，实现历史性的“结构反转”。\\n']\n",
            "[0, 0, 0.99998724, '黑龙江省牡丹江市通过打造特色农业合作社，培育新型农业经营主体，实现小农户和现代农业发展有机衔接，帮助农民走上了致富路。\\n寒冬腊月正是北方蔬菜生产的淡季。可在牡丹江宁安市，冬闲变成了冬忙。随着第一茬韭菜的成熟，合作社的种植户拿到了2018年的第一笔收入，一斤4块多的价格比过去翻了近一番。\\n因为担心土地承包到期后政策有变化，李恒军原本一直是单打独斗的种植散户。十九大后，土地承包期延续的政策，让像李恒军这样的农户吃了定心丸，敢于在土地上加大投入，纷纷主动要求加入合作社。\\n农民心里有了底，该怎么干，又成了大家伙关心的问题。合作社把目光瞄准绿色生态“寒地蔬菜”产业，通过在冬季种植猴头菇、韭菜等反季节农产品，取得了高收益。为了进一步扩大种植规模，不久前，由政府财政资金担保，牡丹江宁安市首家县级农业信贷担保公司成立，解决了资金难题。用土地的承包权和经营权作抵押，农户与合作社就可以办理贷款，而且利息也比银行低两到三成。\\n目前，牡丹江宁安市11家合作社依靠贷到的4200多万元，发展起多种反季节农产品，并且通过农业信贷担保公司，与多家企业签订长期供货订单，带动当地4000多户农民走上致富路。\\n']\n",
            "[0, 0, 0.99998504, '今年是改革开放40周年。中央电视台心连心艺术团今天来到深圳前海慰问奋战在改革开放第一线的各行各业的职工。演出以“改革开放再出发”为主题，突出牢记使命、继续前进，思想再解放、改革再深入、工作再抓实，推动全面深化改革，在新起点上实现新突破。\\n演出内容涵盖歌舞、杂技、相声等，全面展现了深圳经济特区改革开放以来所取得的辉煌成就，展望了改革开放再一次出发的光明前景。精彩的节目，嬴得观众一阵阵掌声。\\n前海承担着自由贸易试验、粤港澳合作、“一带一路”建设、创新驱动发展“四大国家战略使命”等在内的14个国家战略定位，是“特区中的特区”。2017年，前海新推出制度创新成果111项，其中42项全国领先；新引进汇丰前海证券等港企2400多家，新孵化港澳青年创新创业团队81个，启动深港设计创意产业园建设，前海新城建设展现新风貌。\\n']\n",
            "[1, 1, 0.99623024, '银监会确定2018年要严控对高负债企业融资、严控个人贷款违规流入股市和房市，打好防控化解金融风险攻坚战，使金融服务实体经济的能力明显增强。\\n']\n",
            "[1, 1, 0.99828964, '“良渚古城遗址”日前被正式推荐为2019年世界文化遗产申报项目。遗址位于浙江杭州市北郊，真实、完整地保存至今，可以实证距今5000年前中国长江流域史前社会稻作农业发展的高度成就。\\n']\n",
            "[1, 1, 0.99906296, '近日，郑州铁路警方捣毁一个特大制贩假火车票窝点，收缴大批制假贩假设备，缴获各类假火车票1万6千多张，票面价值150多万元。目前，涉案的5名犯罪嫌疑人已被刑事拘留。\\n']\n",
            "[1, 1, 0.9967366, '欣赏一下辽代皇家游牧祭祀的盛况，喝上一口热热的鱼汤，今天，辽宁康平卧龙湖冬捕正式拉开大幕，挖掘展现千年辽文化，也体现渔民对丰收的期盼。\\n']\n",
            "[1, 1, 0.98645216, '中共十九大精神对外宣介团近日访问了埃塞俄比亚、肯尼亚。宣介团举办了中共十九大精神专题介绍会、研讨会等多项活动，向埃、肯各界全面宣介十九大主要精神和重要成果，深入解读习近平新时代中国特色社会主义思想，并且介绍了中国共产党加强党建的成功做法和经验。\\n埃塞俄比亚、肯尼亚各界代表高度评价习近平新时代中国特色社会主义思想，热切希望进一步加强同中共的友好关系，深化治党治国经验交流互鉴。\\n']\n",
            "[1, 1, 0.9790683, '美国财政部26日宣布再对9家实体和21名个人实施制裁，从而对俄罗斯继续施压。对此，俄罗斯外交部表示，美国毫无意义的制裁不会有任何作用，俄方保留回应的权利。\\n根据美国财政部的声明，新增制裁名单中包括3名个人和两家实体，他们与俄罗斯向克里米亚运送4台涡轮机有关，这些涡轮机由一家俄德合资企业生产。\\n声明称，新制裁措施的目的是“保持对俄罗斯的制裁压力，直至其完全履行在明斯克协议中的承诺”。根据规定，受到制裁的个人和实体在美国境内的资产将被冻结，美国公民不得与其进行交易。\\n对此俄罗斯外交部26日回应说，美国新一轮对俄制裁只会使美国企业蒙受经济损失，美国打算中断与俄罗斯的经济以及其他往来是对方的权利，俄方也会保留回应的权利；美国以俄罗斯干涉乌克兰冲突为由再度对一些与俄罗斯有关的个人和企业实施制裁，持续向俄罗斯施压，这一举措无法掩盖美国煽动乌克兰内战的事实。\\n俄罗斯外交部表示，美国驻俄大使洪博培几小时前还在俄罗斯《莫斯科时报》上发表文章，表达希望改善美俄关系的愿望，但美国政府的举措显然与此相反。\\n2014年年初以来，围绕乌克兰问题和克里米亚问题，美俄之间展开相互制裁，俄美关系陷入困境。\\n']\n",
            "[1, 1, 0.995552, '阿富汗首都喀布尔市区人流密集区今天发生爆炸。根据最新消息，爆炸已造成至少40人死亡，140人受伤。阿富汗塔利班宣称对爆炸袭击负责。\\n当地警方称，此次爆炸为自杀式袭击，袭击发生在当地时间中午12点50分左右，地点位于喀布尔市中心公立的共和国医院大门前，紧邻阿富汗内政部以及多个非政府组织办公室。据目击者称，爆炸时传出巨响，周围楼房窗户也发生剧烈震动，现场可以看到大量浓烟。目前，爆炸发生附近区域道路已经封闭，大批伤者送往附近医院治疗。\\n据了解，事发地为喀布尔市中心的闹市区路口处，现场人、车流量较大，预计伤亡人数将进一步上升。\\n就在20日，喀布尔洲际酒店遭武装分子袭击，造成18人死亡，其中包括14名外国公民。阿富汗塔利班宣称制造了这次袭击。\\n']\n",
            "[2, 2, 0.9921649, '叙利亚政府代表和反对派代表26日在维也纳达成协议，同意在大马士革东郊东古塔地区实施全面停火，从叙利亚时间27日零点起生效，允许人道主义援助进入被围困地区，交换被俘人员等。东古塔地区是叙反政府武装在首都郊区的重要据点，被政府军包围长达4年之久。叙政府军方面曾于去年7月宣布在东古塔地区实施停火。近两个月来，该地区冲突再度升级，造成大量人员伤亡。\\n']\n",
            "[2, 2, 0.99160665, '第72届联合国大会主席莱恰克26日发表声明，呼吁所有联合国会员国在今年韩国平昌冬季奥运会和冬季残奥会期间响应“奥林匹克休战”倡议。莱恰克说，希望所有会员国用具体行动在地方、国家、区域及全球层面上促进和平与和谐。他同时呼吁世界上所有武装冲突的交战方能够在“奥林匹克休战”期间实施真正的停火。\\n“奥林匹克休战”是国际奥委会根据古希腊奥林匹克休战传统而设计的一项和平活动。\\n']\n",
            "[2, 2, 0.9878182, '德国联邦议院第一大党团联盟党和第二大党社民党26日在柏林开启组阁谈判，商讨组建大联合政府的具体安排。德国总理默克尔与社民党主席舒尔茨参加了当天的会谈。各方此后将就18个议题展开分组讨论，谈判有望在两周内完成。\\n按照社民党计划，如果组阁谈判取得成果，将由全体党员投票作出是否参与新一届政府的最终决定。如果进展顺利，新一届德国政府有望在3月底前组建。\\n']\n",
            "[2, 2, 0.997642, '非洲联盟贸易与工业委员穆钱加25日宣布，为加速非洲大陆一体化进程，非盟将在本届峰会期间启动“非洲航空运输单一市场”。该市场的启动将有助于推动非洲贸易及制造业和服务业跨境投资，创造30万个直接就业机会和200万个间接就业机会，对非洲一体化以及社会经济发展意义重大。\\n第30届非盟峰会系列会议近日在埃塞俄比亚举行，峰会聚焦非洲国家反腐，非盟改革、非洲一体化等重要议题。\\n']\n",
            "[2, 2, 0.9848026, '美国疾病控制和预防中心官员26日说，今冬美国的季节性流感是自2009年以来最严重的一次，已导致至少37名儿童丧生。今冬美国流行的主要是甲型H3N2流感病毒，美国已有49个州连续3周达到“广泛传播”级别，也就是每个州都有超过50%的地区出现流感。\\n']\n",
            "[0, 0, 0.99998796, '2014年9月出版的《习近平谈治国理政》，近日由中央宣传部（国务院新闻办公室）会同中央文献研究室、中国外文局修订，改称《习近平谈治国理政》第一卷，由外文出版社面向海内外再版发行。\\n《习近平谈治国理政》第一卷收入了习近平总书记在党的十八大闭幕后至2014年6月13日期间的重要著作，共有讲话、谈话、演讲、答问、批示、贺信等79篇，分为18个专题。截至目前，该书以中、英、法、俄、阿、西、葡、德、日等24个语种、27个版本面向海内外出版发行，受到广泛关注和好评，为广大干部群众学习领会习近平新时代中国特色社会主义思想发挥了重要作用，为国际社会了解当代中国和中国共产党提供了重要文献。\\n党的十九大后，为帮助国内外读者系统了解掌握习近平新时代中国特色社会主义思想的精神实质和丰富内涵，2017年11月《习近平谈治国理政》第二卷出版发行。同时，应广大读者需要，对第一卷进行再版。\\n《习近平谈治国理政》第一卷、第二卷是有机统一的整体，集中反映了习近平新时代中国特色社会主义思想的发展脉络和主要内容，生动记录了以习近平同志为核心的党中央团结带领全党全国各族人民在新时代坚持和发展中国特色社会主义的伟大实践，充分体现了中国共产党为推动构建人类命运共同体、促进人类和平与发展崇高事业贡献的中国智慧和中国方案，是国内外读者学习掌握习近平新时代中国特色社会主义思想和党的十九大精神的权威读本。\\n当前，全党全社会正在深入学习《习近平谈治国理政》第二卷。第一卷的再版，对于推动习近平新时代中国特色社会主义思想和党的十九大精神深入人心，激励广大干部群众为决胜全面建成小康社会、开启全面建设社会主义现代化国家新征程、实现中华民族伟大复兴而奋斗，具有重大而深远的意义。\\n']\n",
            "[0, 0, 0.99998885, '习近平总书记在中央全面深化改革领导小组第二次会议上强调，2018年是改革开放40周年，做好改革工作意义重大。作为改革开放的先行地，浙江省通过深化“最多跑一次”改革来撬动各领域的改革，用改革的实际行动和担当加快建设“审批事项最少、办事效率最高、政务环境最优、群众和企业获得感最强”的省份。\\n新年伊始，浙江就吹响了将“最多跑一次”改革进行到底的号角，相继推出企业投资项目“标准地”、商事登记“证照分离”试点等10多项深化改革措施。\\n在十九大报告中，习近平总书记把坚持以人民为中心作为新时代坚持和发展中国特色社会主义的重要内容。按照总书记的要求，浙江省的“最多跑一次”改革由省委顶层设计，各地主动而为、大胆探索，目前这一改革理念已经在当地化为实践，由承诺变为现实，“最多跑一次”实现率达到87.9%、满意率达到94.7%。党中央的精神正在多个领域得到进一步深化和集中体现。\\n前不久，湖州市德清县成交了全国第一块“标准地”，成为浙江深化“最多跑一次”改革的一个范例。除了解决了原本让企业头疼的办证难、审批烦、流程多等问题，更重要的是，这一次政府帮企业办齐了土地所有的标准“准生证”。\\n所谓的“标准地”，指的是“标准建设用地”，地本身的规划建设标准、能耗标准、污染排放标准、产业导向标准、单位产出标准等，过去是谁拍到了谁一一去办理。现在都由政府帮忙办好，跟着拍出的土地一起出让，彻底让企业摆脱了跑十几家部门、盖各种各样的章，也不见得能拿到权威“准生证”的困扰。\\n“最多跑一次”改革，不仅仅方便了群众和企业办事，更重要的是，促进了治理体系和治理能力的现代化，更好地建设人民满意的服务型政府。\\n前不久，中央深改办明确要求浙江“最多跑一次”改革向全国推广。作为承担了全国上百项改革重担的浙江，急需一批敢闯敢试、担责有为的党员干部，为此，浙江在全国率先实行容错免责机制，就是为担当者担当，让改革者有为。\\n2018年，浙江省将通过实现行政权力事项全覆盖，网上办理、零上门比例大幅提高等，撬动改革重要领域和关键环节取得实质性重大进展，为国家治理体系和治理能力现代化提供浙江素材。\\n']\n",
            "[0, 0, 0.99998885, '国务院总理李克强28日在中南海紫光阁会见日本外相河野太郎。\\n李克强表示，当前中日关系保持改善势头。我们注意到近期日方在对华关系上的正面信息，但两国关系仍面临一些不确定因素，可谓乍暖还寒。中日关系改善势头来之不易，需要倍加珍惜。在今年中日和平友好条约缔结40周年之际，希望日方处理好历史等敏感问题，妥善管控分歧，使中日关系重返正常发展轨道。\\n李克强指出，中日关系不仅事关两国，对本地区和世界也有重要影响。希望日方以史为鉴，面向未来，给两国各界以良好预期，为拓展互利合作，重启有关对话机制、推动东亚地区合作营造良好氛围。\\n河野太郎表示，日方愿同中方相向而行，共同努力，进一步改善和深化日中关系。日方期待尽早举行新一轮日中韩三国领导人会议，欢迎李克强总理正式访问日本。\\n']\n",
            "[0, 0, 0.99666923, '日前，水利部、发改委、环保部等10部委联合部署“湖长制”的推进工作，今后将严格控制湖泊的开发利用行为，限期完成存在黑臭水体的湖泊和入湖河流整治。并将湖长制纳入全面推行河长制的考核评价体系。此外，要求各地抓紧制定“一湖一策”方案，力争今年底前，在全国所有行政区域，建立省、市、县、乡四级湖长体系。\\n']\n",
            "[0, 0, 0.99996114, '今天，全球首台应用我国自主研发的三代核电技术“华龙一号”建造的核电机组——福清核电5号机组，成功完成压力容器吊装工作，机组建设进入核心部件全面安装阶段。\\n经过近6个半小时的吊装工作，下午17点07分，重达300多吨的压力容器被成功吊入底座。核电机组的压力容器是用来盛放核燃料进行核反应释放的容器，是核反应堆的核心部件。\\n“华龙一号”是我国自主研发的第三代核电技术，其安全性相比目前普遍使用的二代和二代改进型核电机组大幅提高，特别是在极端事故条件下，可72小时无需人工干预保证核反应堆安全。而它的经济性也优于当前主流三代核电技术。除在国内投入建造外，我国已在巴基斯坦开工建设两台“华龙一号”核电机组，并与阿根廷、英国等多个国家达成了建造合作意向。“华龙一号”正在成为中国制造走出国门的一张新名片。\\n']\n",
            "[0, 0, 0.99998, '我国多地持续大范围的降雪，给人们的生活带来诸多不便，寒冷冬日里，大雪纷飞中，那些昼夜忙碌的身影，守护着人们的平安。\\n中东部地区自北向南气温持续下降，导致大部地区道路积雪结冰。安徽多地普降大雪，合肥积雪最深达到30厘米，驻地解放军、武警派出多路官兵扫雪除冰，并随时待命，保证及时到达雪情现场。湖南衡阳启动应急预案，所有民警全员上路，24小时不间断在道路上来回巡逻、撒盐除冰。江苏南京今天凌晨4点出动10万余人，动用机械、车辆4500多辆，在规定时间、指定区域扫雪除冰。截至今天上午8点，南京主要道路、重点地区已全部打通。\\n大雪导致江西南昌城区内树枝倒伏，一些树枝距离路面高度只有一米多。当地展开对城市路面的巡查，及时处理被冰凌压断的树枝。\\n从24日开始，浙江多地出现中到大雪，局部暴雪，给当地老百姓的生活带来诸多不便。浙江德清乾元镇的党员干部们冒着雨雪天气，连夜上门巡查和转移危房住户，并为困难家庭送去新鲜蔬菜等物资。\\n为保障居民家中供暖正常，吉林长春供暖维修工人们每天坚持在零下二十几度的室外工作，巡查供热管线，抢修管道漏点。\\n极寒天气，不仅人需要保暖，动车组也需要“保温”。为了防止因夜晚气温过低造成动车组车内设备出现异常，武汉动车段每晚都派专人对动车组进行保温作业。\\n持续降雪还影响到广西浙江等地百姓用电安全，浙江桐庐等地山区降下20厘米的大暴雪，树木倒伏导致乡村供电线路受损，当地电力部门紧急抢修，确保百姓用电安全。\\n眼下，不少外出务工人员都陆续踏上回乡路。在贵州桐梓县黄莲乡，当地设立了返乡人员服务站，温暖他们的回家路。\\n']\n",
            "[0, 0, 0.999988, '下面我们来认识最美基层干部——54岁的王洪旗，他是党的十九大代表，也是天津武清三街村党支部书记，担任村干部18年来，他带领村民修整道路、发展经济，让村容村貌焕然一新。\\n这条路就是王洪旗带领村民们两次翻修出来的。三街村虽然位于北京和天津两大城市的交界处，但过去一直是个脏乱村。尤其是路，一下雨就泥泞不堪。2001年，当选三街村党支部书记的王洪旗，下决心干的第一件事就是修路。\\n当时村里账面上没钱，王洪旗就带领村干部，垫上两年工资，四处筹集物料，硬是把土路变成了砖路，后来又进一步硬化为水泥路面，方便村民们出行。\\n这两年，他还带领全村进行了“厕所革命”，90%的村民都用上抽水马桶。一些居民家门口还修了花坛，过去的脏乱村变得干净整洁。\\n环境改善的同时，王洪旗还想着怎么带领村民过上好日子。三街村地理位置优越，可大部分人在外头做生意，村里的地经常没人管理。王洪旗经过调研，在村民代表大会上提出，可以把村里的300多亩土地租给镇里使用，村民的地，租金归村民自己；村集体的机动地，租金被当做集体收入，定期反给村民。\\n党的十九大提出实施乡村振兴战略，这让身为十九大代表的王洪旗很振奋，他也有了很多的谋划。\\n']\n",
            "[0, 0, 0.999988, '从去年起，河南省推出大病补充医疗保险制度，提高医保报销比例，极大缓解困难群众看病难。\\n今天是河南省渑池县贫困户韩华出院的日子。前年韩华被诊断得了脑瘤，为做手术，家里拉下50多万元的饥荒。手术后还得每个月住一次院化疗，一次就得一万多。现在小韩每次出院，心里都轻松多了。\\n去年6月起，河南省在全国率先推出大病补充医疗保险制度，在基本医保、大病保险之后，对贫困户在内的困难群体医疗费用给予再次报销。患者可以“先诊疗后付费”，还不用垫押金，在省、市、县、乡四级定点医疗机构都可以实现各项医保“一站式”即时结算，大幅度减轻了看病负担。渑池县还针对贫困户实施住院费用减免的普惠政策。\\n半年多来，渑池县因病致贫的3304户当中，已有1240名贫困住院患者受益，累计减免各项费用19.5万多元。\\n截至目前，河南省已有860万名贫困人口和特困救助供养对象、城乡低保对象和困境儿童被纳入大病“托底”保障网，基本实现应保尽保。其中，享受大病补充保险待遇的贫困人口达到25.7万人次。\\n']\n",
            "[0, 0, 0.99998444, '福建省是我国第二大侨乡，海外福建籍同胞达到1580万。十九大以来，福建省通过实地宣讲、开辟专栏等方式，向海内外侨胞侨眷宣讲十九大精神。\\n当地时间1月27日，在匈牙利首都布达佩斯，福建明溪商会的华侨们聚在一起，听华侨潘惠清讲解十九大精神。\\n像潘惠清这样的侨胞，之所以能在海外给大家宣讲，得益于他们在国内对十九大精神的认知。十九大以来，福建省组建宣讲小组，到省内的侨乡、侨企进行宣讲，并且抓住海外侨胞回国访问的机会，介绍十九大精神。\\n']\n",
            "[0, 0, 0.9998629, '这两天，“我们的中国梦——文化进万家”慰问演出活动，在内蒙古兴安盟科右中旗上演。\\n演出在科右中旗乌兰牧骑表演的《科尔沁欢歌》中拉开序幕，悠扬的歌声、优美的舞姿，赢得现场观众阵阵热烈的掌声。\\n整场节目形式多样，艺术家们精湛的技艺和精彩的演出，让当地群众在家门口就品到了一道文化大餐。\\n演出现场，表彰了获得科右中旗2017“全旗脱贫攻坚奖”的先进集体和个人。中宣部为建档立卡贫困户赠送了电视机和电脑。\\n活动期间，文化文艺小分队还分成几路，到小学、街道、福利中心等地，开展慰问活动，为农牧民营造了欢乐祥和的节日氛围。\\n']\n",
            "[0, 0, 0.9999855, '如今住在城里，左邻右舍、楼上楼下住几年也不一定认识。在江苏南通，“邻里”自治的基层管理体系，让市民们渐渐找回了浓浓的邻里情。\\n在南通市任港街道，88岁的杨秀珍是独居老人。三年前，杨奶奶隔壁搬来新邻居，戎春兰一家，在社区牵线搭桥下，两家结成了互助家庭，甚至连家门钥匙都给对方配了一套。\\n每天，戎春兰帮助杨奶奶买菜烧饭，戎春兰夫妇经营卤菜店，经常晚回家，杨奶奶则帮他们照顾女儿。两家人能够结缘，是源于2012年崇川区开展的“邻里自治”基层管理体系，每300户组成一个“邻里”单位，大家选出理事长、理事、楼长等，为大家服务。\\n“邻里”自治后，化解了很多社区难题。南园社区18号院没有物业，小区里缺40个停车位，居民很头疼。社区成立“幸福邻里”后，不但划了停车线，还出面协调周边商户，让居民临时停车。\\n']\n",
            "[1, 1, 0.998261, '春运开启之际，公安部交管局发出交通安全预警。近五年数据显示，春运期间私家车肇事及发生在乡县公路的事故较为集中，提醒广大司机不要超员载客、超速行驶、疲劳驾驶，避免夜间行车，乘客遇违法行为及时举报。\\n']\n",
            "[1, 1, 0.998196, '我国首个中医药服务标准化研究基地在广东普宁建成，将在中医药健康服务模式、服务方式、服务领域以及“智慧药房”系统构建等方面进行标准化研究，探索以互联网为依托的中医健康管理新模式。\\n']\n",
            "[1, 1, 0.99850947, '27日起，甘肃兰州中川国际机场启用全流程人脸识别登机。旅客获得电子登机牌后，借助前沿网络信息和生物识别技术，从安检到登机，无需打印登机牌，全程人脸识别，实现无纸化通关。\\n']\n",
            "[1, 1, 0.8373533, '21日到24日，习近平总书记特使、中联部部长宋涛访问古巴，通报中共十九大情况。\\n访古期间，宋涛向古共中央第一书记劳尔·卡斯特罗转达了习近平总书记的口信，表示中方愿同古方一道，深化肝胆相照的友谊，开展互利双赢的合作，推动中古两党两国关系不断迈上新台阶。\\n劳尔表示古共高度关注和评价中共十九大的重大意义和成就，表示古巴共产党愿与中共加强交流互鉴，促进古经济社会模式更新进程。\\n在古期间，宋涛还向古共中央政治局通报了中共十九大主要精神。\\n']\n",
            "[1, 1, 0.9867475, '24日到26日， 中共十九大精神对外宣介团访问加拿大，会见加政府、政党、议会领导人，并举行十九大精神专题宣介会，阐释了习近平新时代中国特色社会主义思想的精神实质、丰富内涵和世界意义。加方表示，珍视十九大为加中关系发展带来的新机遇，愿推动两国关系不断向前发展。\\n']\n",
            "[1, 1, 0.73267764, '在瑞士达沃斯第48届世界经济论坛年会期间，多位嘉宾表示，赞赏中国领导人提出的倡议和理念，并对中国领导人兑现承诺的气魄和能力印象深刻。\\n英国前首相布莱尔说，西方领导人通常会提出很多设想、但不一定能实现，而中国领导人说到做到，他对此印象深刻。\\n布莱尔还表示，中国提出的“一带一路”倡议非常重要。\\n多位与会嘉宾也高度评价中国近年来增强的全球影响力。\\n']\n",
            "[1, 1, 0.97783273, '土耳其政府27日说，土耳其方面收到美方的保证，美方称不会再向叙利亚库尔德武装提供武器。\\n根据土耳其总统府发表的声明，美国总统国家安全事务助理麦克马斯特26日与土耳其总统发言人卡伦通话时称，美国今后不再向叙利亚库尔德武装“人民保护部队”提供武器，以回应土耳其方面的安全考量。土耳其外交部长恰武什奥卢随后敦促美方采取切实行动，同时呼吁美国立即从叙利亚曼比季撤出军事人员。白宫方面目前还没有就土耳其的声明作出回应。\\n在土美两国通话当天，土耳其总统埃尔多安说，土耳其军队将把战线向东推进，越过幼发拉底河，一直打到叙利亚东部与伊拉克交界地区。这意味着土耳其将横扫叙利亚库尔德人在叙土边境的控制区，包括目前美军驻扎的曼比季。\\n27日，土耳其发动的“橄榄枝行动”进入第八天。土耳其军方当天发表声明说，自行动开始以来，已经消灭了447名库尔德武装成员。\\n']\n",
            "[2, 2, 0.87011033, '阿富汗公共卫生部28日说，27日发生在首都喀布尔市中心的自杀式汽车炸弹袭击死亡人数已上升至103人，另有235人受伤。据阿富汗内政部消息，袭击者当时驾驶的是一辆满载炸药的救护车。红十字国际委员会对袭击者利用救护车发动袭击的行为表示强烈谴责。爆炸发生后阿富汗安全部队在现场逮捕了4名涉嫌参与袭击的嫌疑人。\\n阿富汗塔利班宣称制造了袭击事件。\\n']\n",
            "[2, 2, 0.9956887, '据捷克统计部门的计票结果显示，在26日举行的总统选举第二轮投票中，现任总统泽曼的得票率为51.58%，领先竞争对手捷克科学院前院长德拉霍什，赢得连任。泽曼在获胜后对支持者说，将继续倾听民众的声音。\\n73岁的泽曼曾任众议院主席、政府总理，在2013年当选总统。在今年1月12日举行的总统选举首轮投票中，没有总统候选人得票数过半，位居前两位的泽曼和德拉霍什进入第二轮投票。\\n']\n",
            "[2, 2, 0.997313, '波兰27日在南部小镇奥斯威辛举行纳粹集中营解放73周年纪念活动，波兰总理莫拉维茨基表示，奥斯威辛集中营的存在时刻提醒我们，历史不应被遗忘，更不应被否定。\\n奥斯威辛集中营是纳粹德国在波兰境内设立的最大集中营，数据显示，纳粹德国在这里杀害了至少110万人。\\n1945年1月27日，苏联红军解放了奥斯威辛集中营。1月27日后来被联大定为“国际大屠杀纪念日”。\\n']\n",
            "[2, 2, 0.93796355, '国际奥委会27日发表声明，确认批准俄罗斯奥委会提交的参加2018年平昌冬奥会俄罗斯运动员名单，169名俄罗斯运动员获得参赛资格。一些俄罗斯主力选手未能出现在名单中。\\n']\n",
            "[0, 0, 0.99998903, '习近平总书记在十九大报告中指出，实施区域协调发展战略，以疏解北京非首都功能为“牛鼻子”推动京津冀协同发展，高起点规划、高标准建设雄安新区。\\n在习近平新时代中国特色社会主义思想指引下，河北省紧抓历史性窗口期和战略性机遇期，认真贯彻落实党中央的重大决策部署，不断激发高质量发展的强大动能。\\n这段时间，河北围绕“高质量发展”，推出一系列政策举措。不久前召开的省委九届六次全会，做出全面推动高质量发展的决定。正在召开的省两会，又把“以高质量发展打造竞争新优势”作为未来政府工作总体思路之一。\\n那么，“高质量发展”的着力点在哪里？结合京津冀协同发展这个国家战略，河北首先从办好三件大事做起。\\n把产业承接作为推进京津冀协同发展的重要抓手，岁末年初，河北大动作不断。在廊坊，30多万平米的京津冀大数据创新应用中心建设加速；在白沟，2000多家来自北京动物园服装批发市场的商户正式营业；在沧州，近80家北京医药企业入驻当地生物医药产业园。\\n与此同时，京津冀生态环保联防联控也在不断深化。十九大后，北京、天津、保定平原生态过渡带等重大生态工程加快推进，三地空气质量和重点污染源数据现已实现信息共享。河北自身对环境治理的督察执法力度，也在今年继续加强。\\n今年，河北还将制定新一轮重点领域三年滚动计划方案，努力在交通、生态环保、产业等方面取得新进展。协同发展的机遇，正加速转化为河北发展的新优势。\\n设立雄安新区，是以习近平同志为核心的党中央深入推进京津冀协同发展作出的一项重大决策部署。眼下，河北正按照总书记提出的“世界眼光、国际标准、中国特色、高点定位”的要求，组织国内外专家团队编制各项规划，扎实推进各项建设。\\n隆冬时节，雄安新区市民服务中心建设现场一派忙碌。这是雄安新区第一个基础设施项目，承担着政务服务、规划展示等多项功能。整个项目工期比传统模式缩短40%，建筑垃圾比传统建筑项目减少80%以上。\\n精心规划、加紧推进的还有冬奥会的各项筹备工作，现在，张家口赛区场馆和相关建设规划已获国家批准，包括张家口奥运村在内的多个项目将在今年开工建设。\\n服务大战略，开创新局面，坚持高质量发展的河北，正让京津冀协同发展不断向深度广度拓展。\\n']\n",
            "[0, 0, 0.9999888, '十二届全国人大常委会第三十二次会议29日上午在北京人民大会堂开幕，张德江委员长主持。受中共中央委托，中共中央政治局常委、宪法修改小组副组长栗战书作中共中央关于修改宪法部分内容的建议的说明。\\n栗战书在作说明时指出，我国现行宪法是根据党的十一届三中全会确定的路线方针政策、于1982年12月4日由五届全国人大五次会议通过并公布施行的。30多年来的实践充分表明，我国宪法是符合国情、符合实际、符合时代发展要求的好宪法，必须长期坚持、全面贯彻。\\n栗战书说，1982年宪法公布施行后，在党中央领导下，全国人大分别于1988年、1993年、1999年、2004年先后4次对1982年宪法即我国现行宪法的个别条款和部分内容作出必要的、也是十分重要的修正。\\n栗战书强调，自2004年宪法修改以来，党和国家的事业又有许多重要变化。我国宪法必须随着党领导人民建设中国特色社会主义实践的发展而不断发展。宪法修改是事关全局的重大立法活动，必须在党中央集中统一领导下进行。这次宪法修改的总体要求是，高举中国特色社会主义伟大旗帜，全面贯彻党的十九大精神，坚持以马克思列宁主义、毛泽东思想、邓小平理论、“三个代表”重要思想、科学发展观、习近平新时代中国特色社会主义思想为指导，坚持党的领导、人民当家作主、依法治国有机统一，把党的十九大确定的重大理论观点和重大方针政策特别是习近平新时代中国特色社会主义思想载入国家根本法，体现党和国家事业发展的新成就新经验新要求，在总体保持我国宪法连续性、稳定性、权威性的基础上推动宪法与时俱进、完善发展，为新时代坚持和发展中国特色社会主义、实现“两个一百年”奋斗目标和中华民族伟大复兴的中国梦提供有力宪法保障。这次宪法修改要遵循以下原则：坚持党的领导，坚持中国特色社会主义法治道路，坚持正确政治方向；严格依法按程序进行；充分发扬民主、广泛凝聚共识，确保反映人民意志、得到人民拥护；坚持对宪法作部分修改、不作大改，做到既顺应党和人民事业发展要求，又遵循宪法法律发展规律。\\n会议审议了全国人大常委会委员长会议关于提请审议全国人大常委会关于召开十三届全国人大一次会议的决定草案的议案。\\n会议还审议了有关任免案。\\n']\n",
            "[0, 0, 0.9999891, '十二届全国人大常委会第一百零九次委员长会议29日下午在北京人民大会堂举行，张德江委员长主持会议。\\n会议听取了全国人大常委会法制工作委员会主任沈春耀作的关于讨论中共中央关于修改宪法部分内容的建议的情况、全国人大常委会关于提请审议宪法修正案草案的议案和宪法修正案草案代拟稿的汇报。\\n会议听取了全国人大常委会副委员长兼秘书长王晨作的关于审议召开十三届全国人大一次会议的决定草案情况的汇报及任免案情况的汇报等。\\n委员长会议确定，根据常委会会议的审议意见，对上述议案和草案作进一步审议修改后，提交第一百一十次委员长会议决定是否交付十二届全国人大常委会第三十二次会议闭幕会表决。\\n']\n",
            "[0, 0, 0.9999881, '全国人大常委会委员长张德江29日在人民大会堂与智利参议长萨尔迪瓦举行会谈。\\n张德江说，智利是中国在拉美和亚太地区的重要合作伙伴，在发展对华关系上长期走在中拉关系前列。过去两年，习近平主席和巴切莱特总统实现互访，推动两国关系进入全面战略伙伴关系新阶段。中方始终从战略高度重视发展同智利的关系，愿同智方共同努力，积极落实两国元首达成的重要共识，推动中智全面战略伙伴关系持续向前发展。\\n张德江说，智利是第一个同中国全国人大建立交流机制的拉美国家，两国立法机关迄今已举行了11次机制交流会议，为增进了解、促进合作发挥了积极作用。中国全国人大重视进一步加强与智利议会的友好交往，希望双方继续立足两国关系大局，着眼增进两国人民福祉，深化务实合作，促进共同发展。一是相互支持。要坚定支持对方维护本国核心利益和实现发展振兴，支持对方办好自己的事情。二是共享机遇。要积极作为，加快政府间合作协议的批准进程，为企业合作、投资合作提供优质友好、法制健全的投资环境，切实保障双方投资者合法权益。三是共应挑战。要加强治国理政经验交流互鉴，在互学互鉴中共同提高，更好地应对各种风险和挑战。\\n萨尔迪瓦说，智方始终高度重视对华关系，将积极参与“一带一路”建设，加强与中方在国际事务中的配合。智利议会愿深化与中国全国人大的友好交往，充分发挥双方交流机制的作用，助力两国关系发展。他重申，智方将一如既往恪守一个中国原则。\\n王晨参加会谈。\\n']\n",
            "[0, 0, 0.99998885, '中共中央政治局常委、国务院扶贫开发领导小组组长汪洋25日到29日在云南怒江调研脱贫攻坚工作。他强调，要认真贯彻党的十九大精神，落实习近平总书记关于在全党大兴调查研究之风的重要指示，切实加强扶贫领域调查研究工作，实事求是地完善扶贫政策，增强政策的针对性和可操作性，推动因地制宜精准扶贫，提高脱贫实效，确保党中央脱贫攻坚决策部署在基层落地生根，坚决打好精准脱贫攻坚战。\\n怒江傈僳族自治州集高山峡谷、民族地区、边疆地区、深度贫困地区于一体，全州贫困发生率高达42%，是贫中之贫、坚中之坚。汪洋到泸水市称杆乡、洛本卓乡和福贡县鹿马登乡，了解易地扶贫搬迁集中安置进展；回访福贡县匹河怒族乡托坪村，详细询问帮扶举措落实情况；到贡山独龙族怒族自治县独龙江乡，实地察看产业扶贫工作；沿着陡峭山路步行数小时在高海拔的贡山县普拉底乡贫困村，走访贫困户。调研期间，分别与州、县、乡、村四级书记个别谈心，与驻村帮扶干部、第一书记等座谈交流，听取对帮扶政策的意见建议。\\n汪洋充分肯定怒江州脱贫攻坚工作取得的积极进展。他强调，脱贫攻坚进入攻坚拔寨、啃硬骨头的关键阶段，做到精准施策，首先是政策要精准。要深入脱贫攻坚一线开展调查研究，认真查摆整改政策不精准、基层难执行等问题，以扶贫政策的精准促进帮扶工作的精准。要完善考核办法，创造条件让基层从实际出发开展工作。要在确保实现“两不愁、三保障”基础上，着眼长远，积极稳妥推进贫困地区产业发展、基础设施改善、社会文明建设等，促进脱贫攻坚和实施乡村振兴战略有机衔接。根本改变贫困地区落后面貌，必须久久为功，绝不能急于求成。\\n']\n",
            "[0, 0, 0.99998647, '本月中旬，第二场“新时代新气象新作为”大型主题采访活动在陕西延安举行。半个月来，来自全国30多家媒体的100多名记者在这里聆听延安故事，感受党的十九大后延安的新气象。\\n在延安杨家岭中共七大会址，参加“新时代新气象新作为”主题采访活动的记者们上了一堂生动的党课。\\n在延川县梁家河村，习近平总书记当年在这里插队的故事，让记者们对“初心”这两个字有了更深的理解。\\n']\n",
            "[0, 0, 0.9999871, '吉林建立上万个覆盖城乡的“新时代传习所”，1500多名基层宣讲员采取通俗易懂的形式，把党的方针政策送到百姓身边，推动习近平新时代中国特色社会主义思想和党的十九大精神深入人心。\\n在敦化市雁鸣湖镇小山村的农家炕头上，一场十九大精神宣讲会正在进行，宣讲员是村里的致富带头人。这两年，小山村的农民吃上了旅游饭，年人均收入近万元。十九大报告中，第二轮土地承包到期后再延长三十年的政策，给大伙吃了个定心丸。\\n为推动党的十九大精神进企业、进农村、进机关、进校园、进社区、进军营、进网站，吉林先后建成10480个“新时代传习所”，宣讲员是当地的理论专家、机关干部、致富能人等，他们通过面对面宣讲、网上宣讲等形式，让党的政策深入人心。\\n目前，吉林各地的“新时代传习所”已开展宣讲3万多场，听众100多万人次。\\n']\n",
            "[0, 0, 0.9999863, '在风雪中保障“民生命脉”，在严寒里守护万家温暖。低温雨雪冰冻天气来袭之时，那些忙碌在一线的身影，成为这个寒冬里美丽的风景。\\n随着春节临近，不少人踏上了归乡之路。连日来的雨雪低温天气导致贵州黔南州境内的国道210线部分线路严重结冰，当地不间断铲雪融冰，确保这条“回家的路”畅通。\\n冰滑的路面上，总有人伸出援手。在湖北宜昌，一辆公交车被困在了半坡上，大家纷纷上前帮忙。\\n低温雨雪冰冻天气造成南方一些地方的群众受灾。江西南昌打造“志愿服务中心”，为市民排忧解难。从25日开始，浙江长兴煤山镇就陆续转移孤寡老人等困难群众，将他们就近安置到福利中心或敬老院。\\n抵抗冰雪恶劣天气，少不了先进工具。浙江湖州的电力一线工人们应用智能机器人巡检，进行精确的导航和定位。浙江新昌海拔900多米的天姥山，电力工人24小时监测线路、登塔除冰。安徽合肥的这种铲雪车通过滚刷和融雪剂的滚动搅拌，能加大融雪面积。而在江苏南京街头，这辆高温热熔车车身底部可达到700度，能以每小时1公里的速度融化积雪。\\n雨雪冰冻天气对京沪、京广、沪蓉等列车运行造成严重影响。北京、上海、济南、武汉、南宁等铁路局集团公司积极调整列车运行，日均开行旅客列车7172列，最大限度满足旅客出行需求。日均组织开行货物列车17156列，确保了重点物资的运输。\\n']\n",
            "[1, 1, 0.9971336, '今天，《关于推进农业高新技术产业示范区建设发展的指导意见》发布，明确到2025年，布局建设一批国家农业高新技术产业示范区，打造具有国际影响力的现代农业创新高地、人才高地、产业高地。\\n']\n",
            "[1, 1, 0.9985976, '记者从中储粮集团获悉，2017年中晚籼稻最低收购价收购将于本月底结束。另外，粳稻最低收购价收购政策也将于2月底结束。今年秋粮主产区仓容紧张、库存量连创新高，中储粮累计启动了2117个收购库点，有效避免了农民“卖粮难”。\\n']\n",
            "[1, 1, 0.997824, '记者今天从全国安全生产工作会议上了解到， 2017年全国共发生各类生产安全事故5.3万起、死亡3.8万人，同比下降16.2%和12.1%。另外较大事故、重特大事故、特别重大事故均出现下降。\\n']\n",
            "[1, 1, 0.99861443, '中国消费者协会今天发布2017年消费投诉分析显示：汽车及零部件、通讯类产品、服装居商品投诉前三位。服务类投诉同比上升16.72%，部分共享单车企业不能履约退还押金，导致相关投诉量激增；以网络购物为主的远程购物投诉量居服务类投诉首位。\\n']\n",
            "[1, 1, 0.9987855, '由于今年春节较晚，造成节后探亲流、务工流、学生流等返程客流高度叠加，节后售票连续6天超过千万张。网络售票占比高达近80%。据12306大数据显示，最热门线路包括深圳到广州，广州到武汉，广州到重庆，上海到武汉等。\\n']\n",
            "[1, 1, 0.9988411, '受近期冷空气持续影响，渤海莱州湾海域进入海冰期，海冰覆盖面积超2000平方公里，厚度达5到10厘米。海冰以浮冰为主，对船舶航行、水下作业影响很大，东营胜利油田海下作业已全部停止，当地260艘渔船停泊在东营中心渔港。\\n']\n",
            "[1, 1, 0.99880934, '为更好地对越冬候鸟精细管护，最近，云南会泽黑颈鹤国家级自然保护区给25只越冬候鸟穿上了卫星追踪定位“小马甲”。跟踪候鸟活动，了解候鸟离开保护区的迁徙路线，以及候鸟夏天在哪里繁殖等等。\\n']\n",
            "[1, 1, 0.8575747, '叙利亚全国对话大会将于明天在俄罗斯南部城市索契正式举行，各方代表今天陆续抵达。\\n据俄罗斯媒体报道，预计将有超过1500名叙利亚各界代表参加大会，涵盖叙利亚不同政治派别。多个国家和国际组织的代表作为观察员参会，包括联合国秘书长叙利亚问题特使德米斯图拉。而叙利亚主要反对派宣布抵制这次大会。\\n土耳其政府与叙利亚库尔德人的矛盾因土方正在阿夫林进行的军事行动而激化，不过俄罗斯外交部方面27日说，由于叙利亚库尔德人在叙利亚政治进程中占有一席之地，其代表将参加此次索契大会，不过俄方还没有透露参会库尔德人代表的具体身份。\\n据俄方介绍，大会议题包括举行总统选举、叙利亚战后重建等，俄方希望大会通过讨论为叙利亚新宪法的制定奠定基础。\\n分析人士认为，俄罗斯、土耳其和伊朗三国倡导的叙利亚全国对话大会将成为叙利亚问题继日内瓦和谈与阿斯塔纳和谈之外的第三个和谈平台。叙利亚全国对话大会和日内瓦和谈均涉及政治改革进程，其中这次对话大会更多注重全体叙利亚人参与，而阿斯塔纳和谈的主要议题是实现停火。\\n']\n",
            "[1, 1, 0.99259657, '也门政府军和南方过渡委员会的武装力量28日在也门临时首都亚丁爆发激烈冲突，已造成至少10人死亡，超过100人受伤。\\n28日当天，亚丁的多个地区都爆发了冲突。据报道，在亚丁豪尔迈克塞尔区，也门政府军总统卫队对由南方过渡委员会支持者组成的示威人群开火，南方过渡委员会的武装力量随后赶来并与政府军激烈交战。南方过渡委员会在冲突中夺取了亚丁北部一个重要军营及一些政府大楼。此后，由于双方都下令克制，冲突在28日晚上逐渐得到平息。\\n上周，南方过渡委员会以腐败和管理不善为由，要求总统哈迪在28日前罢免总理本·达格尔，并称也门政府军应为这场冲突负全部责任。\\n也门政府否认南方过渡委员会的说法，指责该委员会组织的示威活动是政变。就在南方过渡委员会提出的28日最后期限到来之时、也就是冲突爆发数小时前，也门政府下令禁止该委员会的和平示威活动。同时也门政府表示，也门南方所有反政府力量必须解散。\\n2011年，也门国内爆发动乱，南部地区的分裂势力趁机发展壮大。2014年，也门胡塞武装夺取首都萨那，迫使总统哈迪前往沙特避难。2015年，在沙特等多国联军的支援下，支持哈迪的政府军和部落武装夺回亚丁省，但也门南方仍有一些势力要求独立。2017年5月，南方过渡委员会成立，并一直与多国联军之一的阿联酋关系密切。\\n']\n",
            "[1, 2, 0.8316308, '第30届非盟首脑会议28日在埃塞俄比亚首都亚的斯亚贝巴非盟总部开幕。本届峰会系列会议的主题为“赢得反腐败斗争的胜利：一条非洲转型的可持续之路”。非盟委员会主席法基在开幕式上说，要加快非盟改革步伐，以增强非盟的战斗力，加快推进非洲一体化进程。各成员国应把解决腐败问题放在首位。\\n非盟目前共有55个成员国，非盟首脑会议是非盟的最高权力机构，一年举办两次。\\n']\n",
            "[2, 2, 0.9964214, '芬兰现任总统尼尼斯托28日在当天举行的芬兰总统选举中获62.7%的选票。根据首轮投票中获得半数以上选票的候选人直接胜出的原则，尼尼斯托成功连任，成为芬兰1994年以来首位在大选首轮当选的候选人。\\n尼尼斯托现年69岁，曾任芬兰联合党主席、司法部长和财政部长以及议会议长。尼尼斯托的第二任期将于2024年结束。\\n']\n",
            "[2, 2, 0.99624854, '波兰议会众议院26日通过法案，禁止使用“波兰死亡集中营”等词语来描述二战期间纳粹设立在波兰的集中营，防止人们认为波兰参与了二战期间的大屠杀。法案还需得到波兰参议院和总统批准才能生效。\\n以色列政府27日表示，法案歪曲大屠杀历史，会模糊德国人在大屠杀期间得到波兰帮助的历史真相。对此波兰政府表示，波兰人与犹太人一样是纳粹的受害者，许多波兰人在二战期间冒着生命危险帮助犹太人，但他们的牺牲没有得到足够认可。\\n']\n",
            "[2, 2, 0.99535424, '28日，韩朝首支女子冰球联队在韩国忠清北道镇川运动员村举行首次共同训练，为即将到来的韩国平昌冬奥会作准备。双方运动员身着不同颜色队服，在联队总教练、韩国女子冰球队现任教练的指导下进行了训练。\\n韩朝两国代表团将在平昌冬奥开幕式上举“朝鲜半岛旗”共同入场。在女子冰球比赛中，两国奥运史上首次联合组队参赛，具体由朝鲜增派12名球员和1名官员加入韩国现有的23名球员当中。\\n']\n",
            "[2, 2, 0.99775314, '一场强降雪28日覆盖伊朗大部分地区，伊朗全国30个省有超过20个受影响。首都德黑兰市区内部分地区积雪达80厘米，德黑兰部分地区电力供应中断。通往德黑兰的多条高速公路封闭，德黑兰霍梅尼国际机场也被迫关闭，全国大部分航班取消。中小学和一些政府机构宣布放假。\\n伊朗此前正经历数十年来最严重的干旱。伊朗媒体评论说，希望此次入冬后的首场强降雪能缓解旱情。\\n']\n",
            "[2, 2, 0.99685055, '2018年澳大利亚网球公开赛男单决赛28日在墨尔本举行。卫冕冠军、36岁的瑞士老将费德勒经历五盘大战，最终战胜克罗地亚名将、赛会6号种子西里奇，第六度捧起澳网男单冠军奖杯。这是费德勒职业生涯中第7次杀入澳网男单决赛，此前6场决赛中，他仅输过一场。\\n凭借此次墨尔本封王，费德勒也成功改写男子网坛的历史，成为第一位独揽20座大满贯奖杯的选手。这20座大满贯奖杯中有8座来自温网、6座来自澳网，另外还有5个美网冠军和1个法网冠军。\\n']\n",
            "[0, 0, 0.9999872, '刚刚结束的内蒙古自治区十三届人大一次会议，选举产生了自治区第十三届全国人大代表。在内蒙古参选的中央提名的代表候选人习近平同志，以全票当选第十三届全国人大代表。\\n“人民代表人民选，人民领袖人民爱！”人大代表们纷纷表示，在以习近平同志为核心的党中央坚强领导下，内蒙古自治区经济社会发展取得历史性成就，正在与全国人民共同经历从富起来到强起来的伟大历史进程。习近平总书记全票当选全国人大代表，是500多名自治区人大代表的共同意愿，是2500多万草原儿女的由衷心声，更是13亿多各族人民忠诚党的核心、拥戴人民领袖的生动体现。\\n']\n",
            "[0, 0, 0.9999889, '中共中央政治局1月30日召开会议，听取和审议《中央政治局常委会听取和研究全国人大常委会、国务院、全国政协、最高人民法院、最高人民检察院党组工作汇报和中央书记处工作报告的综合情况报告》。中共中央总书记习近平主持会议。\\n会议对全国人大常委会、国务院、全国政协、最高人民法院、最高人民检察院党组和中央书记处2017年的工作给予充分肯定，同意其对2018年的工作安排。\\n会议认为，党的领导是中国特色社会主义最本质的特征，是全党全国各族人民共同意志和根本利益的体现，是决胜全面建成小康社会、夺取新时代中国特色社会主义伟大胜利的根本保证。坚持党的领导，首先要坚持维护党中央权威和集中统一领导。全党同志要牢固树立政治意识、大局意识、核心意识、看齐意识，把维护党中央权威和集中统一领导作为最高政治原则和根本政治规矩来执行，始终在思想上政治上行动上同以习近平同志为核心的党中央保持高度一致。\\n会议强调，今年是贯彻党的十九大精神的开局之年，是改革开放40周年，是决胜全面建成小康社会、实施“十三五”规划承上启下的关键一年。全国人大常委会、国务院、全国政协、最高人民法院、最高人民检察院党组要坚决维护党中央权威和集中统一领导，认真学习贯彻习近平新时代中国特色社会主义思想和党的十九大精神，以更好的精神状态和更高的工作水准，推动党中央大政方针和决策部署落地生根。要把党的政治建设摆在首位，抓好党组自身建设，认真履行全面从严治党主体责任，推动全面从严治党向纵深发展。中央书记处要自觉在中央政治局、中央政治局常委会领导下开展工作，把握学习宣传贯彻习近平新时代中国特色社会主义思想和党的十九大精神这条主线，进一步在协助党中央推进全面从严治党上聚焦发力，深入调查研究，推动党中央交办的任务落实见效。\\n会议还研究了其他事项。\\n']\n",
            "[0, 0, 0.9999847, '应国家主席习近平邀请，荷兰王国国王威廉-亚历山大将于2月7日至8日对中国进行工作访问。\\n']\n",
            "[0, 0, 0.99998903, '十二届全国人大常委会第三十二次会议30日下午在北京人民大会堂闭幕。张德江委员长主持会议。会议经表决，决定将全国人大常委会关于提请审议宪法修正案草案的议案提请十三届全国人大一次会议审议。\\n会议表决通过了全国人大常委会关于召开十三届全国人大一次会议的决定。根据决定，十三届全国人大一次会议于2018年3月5日在北京召开。\\n会议经表决，任命何新为全国人大常委会副秘书长。\\n会议还表决通过了其他任免案。\\n在会议完成各项表决事项后，张德江发表讲话。\\n张德江说，会议期间，常委会组成人员认真学习讨论中共中央关于修改宪法部分内容的建议，全票通过了全国人大常委会关于提请审议宪法修正案草案的议案和宪法修正案草案，决定提请十三届全国人大一次会议审议，圆满完成了党中央交付全国人大常委会的重大政治任务。\\n张德江指出，会议通过的宪法修正案草案，把党的十九大确定的重大理论观点和重大方针政策特别是习近平新时代中国特色社会主义思想载入国家根本法，体现党和国家事业发展的新成就新经验新要求。贯彻落实党中央关于宪法修改的总体要求和原则，在总体保持我国宪法连续性、稳定性、权威性的基础上，推动宪法与时俱进、完善发展，必将更好地发挥宪法的规范、引领、推动、保障作用，更好地为新时代坚持和发展中国特色社会主义、实现“两个一百年”奋斗目标和中华民族伟大复兴的中国梦提供有力宪法保障。\\n张德江强调，全国人大常委会要以这次修宪为契机，全面担负起宪法法律赋予的各项职责，深入推进科学立法、严格执法、公正司法、全民守法，继续完善以宪法为核心的中国特色社会主义法律体系，加强对宪法法律实施情况的监督检查，推动依法治国、依宪治国工作提高到一个新水平。\\n张德江说，这次会议作出决定，十三届全国人大一次会议于2018年3月在北京召开。从现在到大会召开，只有一个多月时间，要着力抓好以下工作：一是做好十三届全国人大代表资格审查工作，二是做好代表依法履职各项工作，三是做好十三届全国人大一次会议组织筹备工作，四是做好工作衔接，确保本届各项工作目标任务圆满完成，确保新一届全国人大及其常委会履职开好局起好步。\\n']\n",
            "[0, 0, 0.9999867, '日前，全国政协十二届常委会第二十四次会议审议通过了关于召开政协第十三届全国委员会第一次会议的决定，决定全国政协十三届一次会议于2018年3月3日在北京召开。\\n日前，全国政协十二届常委会第二十三次会议审议通过了关于部分修改《中国人民政治协商会议章程》的决定。《中国人民政治协商会议章程（修正案）》（草案）已经全国政协十二届常委会第二十四次会议审议通过，建议提交全国政协十三届一次会议审议。\\n']\n",
            "[0, 0, 0.9999887, '十九大报告指出，要以“一带一路”建设为重点，加强创新能力开放合作，形成陆海内外联动、东西双向互济的开放格局。\\n南向临海临边，北向背靠内陆，位置优越的广西，在习近平新时代中国特色社会主义思想指引下，抓住“一带一路”建设机遇，实施更加积极主动的开放带动战略，以开放促发展。\\n岁末年初，广西对外开放通道建设好消息不断。广西开往波兰的中欧班列首发，全程11000公里；重庆至广西至新加坡的海铁联运实现常态化开行，形成一条以重庆为运营中心，以广西、贵州、甘肃为关键节点的中新南向通道。\\n广西与东盟多国海陆相连，拥有多个重要港口，在我国区域开放布局中，占据重要地位。在自治区两会上，如何落实好十九大精神，利用好区位优势，加快开放发展成为代表委员们热议的话题。2018年，广西把“提升开放型经济水平”作为重点工作，以开放促改革、促发展。\\n围绕衔接“一带一路”重要门户这个战略目标，十九大后，广西全面落实党中央精神，出台《2018年至2020年加快推进中新互联互通南向通道建设工作方案》，以海运为枢纽，通过与西部兄弟省区市合作，融合互通多种运输方式，推动中新互联互通南向国际大通道建设。\\n围绕南向通道建设，广西已经确定2018年的30多个重点项目，总投资1400多亿元，其中包括北部湾区域性国际航运中心、跨境铁路公路、北向高铁等等，还将在桂西地区建设成一批内陆无水港。\\n高水平的开放，带动的是深层次的结构调整。目前，东盟国家相继在广西合作共建产业园；北部湾经济区逐步形成现代临海工业体系。\\n随着“一带一路”建设的加快推进，曾经是开放末梢的广西正逐步走向开放前沿。今年，广西将进一步提升开放型经济水平，完善海关特殊监管区建设，加快东兴、凭祥国家重点开发开放实验区和中越跨境经济合作区的发展，并实施第二轮加工贸易倍增计划。\\n']\n",
            "[0, 0, 0.9999882, '以习近平同志为核心的党中央高度重视对生活困难党员和老党员的关怀帮助。日前，经中央领导同志同意，中央组织部从代中央管理党费中划拨15670万元，专门用于2018年春节期间走访慰问生活困难党员和老党员，重点是贫困地区、受灾地区、困难单位的生活困难党员和老党员，生产工作一线、脱贫攻坚一线的党员干部，以及村（社区）老骨干、因病致贫的特困群众和因公牺牲党员、干部家庭。\\n']\n",
            "[0, 0, 0.9999873, '今天，国务院新闻办公室就2017年工业通信业发展情况举行发布会。2017年，我国规模以上的工业增加值增速达到了6.6%，处于2015年以来最好的水平。工业运行更稳，经济效益更好，结构调整更优，先进制造业发展更快，成为我国2017年工业运行的几个特点。\\n此外，在一些制造业重点领域，核心技术“卡脖子”问题初步解决；一批数字化车间和智能工厂初步建成，在信息通信领域，我国5G技术研发进入第三阶段，2018年将推动5G系统设备基本达到预商用水平。\\n']\n",
            "[0, 0, 0.9999875, '1月15日开始，“新时代新气象新作为”大型主题采访活动启动，全国30多家媒体的100多名记者扎根在延安，用半个月时间挖掘新时代革命老区的新变化。\\n在延安吴起县，记者们认真听着当地干部群众扎根荒山20年，头顶烈日、冒着风沙退耕还林、种草植树的故事。如今这里不仅生态环境得到了改善，老百姓也靠着经济林走上了脱贫路，实实在在的变化激发了记者们的报道灵感。\\n同样是扶贫，安塞区南沟村则通过实施“三变改革”让村民鼓起了腰包。资源变资产、资金变股金、农民变股东的做法让记者们捕捉到了采访线索。\\n基层是选题的富矿，人民是故事的源泉。采访期间，记者们不断深入贫困山区、田间地头，将镜头锁定老百姓，寻找发展背后的感人故事，通过手中的笔，记录新时代革命老区的新气象。\\n']\n",
            "[0, 0, 0.9999302, '国防科工局今天宣布，我国首颗X射线天文卫星“慧眼”完成在轨测试，正式投入使用。\\n“慧眼”全称硬X射线调制望远镜卫星，于2017年6月15日成功发射。该卫星应用我国科学家首创的成像方法，能够对黑洞、中子星等高能天体释放出的X射线进行探测，通过研究这些射线，科学家就能获取高能天体的大小，质量等重要信息。此前我国科学家要获取相关信息只能使用国外卫星数据，而“慧眼”卫星则打破了这一局面。\\n在轨测试期间，“慧眼”卫星开展了多个天区的扫描成像观测和对特定天体的定点观测，取得了黑洞及中子星双星观测、伽马射线暴探测等初步科学成果。2017年10月16日，多国科学家联合宣布人类首次直接探测到来自双中子星合并所产生的引力波，“慧眼”卫星在其中发挥了重要作用。\\n据介绍，“慧眼”卫星投入使用，将为我国科学家提供大批高质量观测数据，使我国在黑洞、中子星等天体的研究领域取得大量原创性科学成果。\\n']\n",
            "[0, 0, 0.99996954, '今天，最高人民法院和最高人民检察院分别召开发布会，发布有关保护产权和企业家合法权益典型案例，为产权司法保护提供案例示范。\\n最高人民法院今天发布了7起涉产权典型案例，这其中包括一起行政强制拆迁赔偿案，申请人许水云位于浙江省金华市婺城区的两个门面房在拆迁补偿尚未谈妥前，即被政府强制拆除，经最高人民法院审理认为，政府进行行政拆迁时，必须遵守先补偿再拆迁原则，政府强制拆迁的行为违法，应承担申请人的合理损失。\\n典型案例中还包括一起保护企业家产权的案件，沈阳北鹏房地产开发公司的董事长和总经理刘杰、刘华两姐弟在2008年7月因涉嫌非法占用农地罪被辽宁公安机关抓捕，北鹏公司在将2000万元汇入辽宁省公安厅指定账户后，刘杰和刘华被取保候审。\\n2014年6月，辽宁本溪中院做出判决：刘杰、刘华犯非法占用农地罪，免于刑事处罚。随后北鹏公司向辽宁省公安厅提交《赔偿申请书》，要求返还2000万扣押款，并支付扣押期间财产损失，未果。\\n2015年12月2日，最高人民法院赔偿委员会审理后做出赔偿决定，要求辽宁省公安厅返还侦查期间扣押的2000万元人民币，并支付相应的利息损失83万元。\\n最高人民检察院今天也发布了4起办理涉产权刑事申诉典型案例，分别是赛格集团有限公司申诉案，赵守帅申诉案，月亮湾装饰设计有限公司申诉案，长康实业有限公司申诉案。2017年，最高人民检察院对13件涉产权刑事申诉、国家赔偿案件挂牌督办，目前已依法纠正7件。\\n']\n",
            "[0, 0, 0.9999864, '这几天，新一轮的雨雪天气在持续。寒冷的天气里，一个个奔波劳碌的身影，让冰冷的冬日有了温度。\\n安徽安庆连降暴雪，怀宁县一名37岁的孕妇29日凌晨突然临产，怀宁县调度政府、派出所、医院三方联动转运临产孕妇。\\n在湖北南漳、浙江兰溪，大雪导致电线和10千伏高压线被压断，直接影响到当地农民群众的生产生活。电力工人冒严寒以最快的速度抢修，很快恢复了供电。\\n冬日里的姜汤，寒风中的干粮，都让南京江宁的扫雪队员和甘肃的货车司机感受到了温暖。\\n这两天，新疆奇台县夜间气温达到零下38度，近百辆运煤大货车油管被冻住，无法前行。奇台县派出民警带上200个馕、带上修理工前往救援。\\n这两天，交警跪在雪地推车、双手举着光缆的照片，刷爆了武汉市民和浙江湖州的朋友圈。\\n当天早上，武汉的廖先生驾车到江汉一桥上桥处，由于桥面结冰，雪特别厚，让他遇到了麻烦。执勤民警曹勇和同事看到这一幕，赶紧过来帮忙。\\n']\n",
            "[1, 1, 0.99836385, '今天，“海洋六号”科考船完成了深海地质和大洋科考任务，返回广东。本次科考任务历时219天，航程近53000千米，在西太平洋科考人员开展了海洋矿产资源调查、海洋环境与生物调查等工作，取得多项创新性成果。\\n']\n",
            "[1, 1, 0.9682604, '《新时代面对面》网上座谈会今天举行，来自中央党校、教育部、社科院、人民大学的专家学者，围绕习近平新时代中国特色社会主义思想和党的十九大精神、2018年通俗理论读物《新时代面对面》的主要内容和创新之处，与网友进行面对面交流。\\n']\n",
            "[1, 1, 0.9984341, '中国农业发展银行今天发布，2017年累计发放粮棉油收购贷款3062亿元，支持收购粮食2927亿斤，棉花295万吨，发挥了收储资金供应主渠道作用。\\n']\n",
            "[1, 1, 0.9982533, '农业部今天发布，作为农业供给侧结构性改革的重要举措，今年，我国将首次调减非优势产区水稻面积，调减范围包括部分低产区及生态脆弱区，减缓库存压力的同时进一步优化种植结构。\\n']\n",
            "[1, 1, 0.99818116, '教育部日前发布了《普通高等学校本科专业类教学质量国家标准》。《国标》涵盖了普通高校本科专业目录中全部92个本科专业类；从专业的概述、适用专业范围等四大方面对各高校制定相应专业培养目标提出了原则要求。\\n']\n",
            "[1, 1, 0.9987727, '今年首趟支援广东春运的 “支南列车”，昨天下午抵达东莞东站。据了解，今年春运，广铁集团将接收“支南列车”共计39组，主要用于珠三角开往川、渝、赣、鄂、湘、豫等方向，以运送外出务工人员返乡为主。\\n']\n",
            "[1, 1, 0.99856186, '空军后勤部联合两家军民融合战略合作单位，采取远程指挥、异地共联、军地协同的方式，在北京成功组织云南、陕西两地三型无人机，实施联合补给演练，提升空军部队复杂条件下快速补给和持续保障能力。\\n']\n",
            "[1, 1, 0.9847094, '29日，土耳其在叙利亚北部阿夫林地区发起的军事行动进入第十天，目前土军已占领一个战略要地并继续推进。\\n土耳其军方高官29日视察了土军不久前攻占下来的战略要地巴尔赛亚山，巴尔赛亚山是叙利亚西北部一处高地，位于土方控制的叙利亚城镇阿扎兹，和阿夫林地区的库尔德武装阵地之间，属于战略性高地。土耳其及其盟友、叙利亚反对派武装“叙利亚自由军”将以此为跳板，继续推进。\\n由俄罗斯、土耳其和伊朗推动的叙利亚全国对话大会30日在俄罗斯索契召开，部分叙利亚反对派参加了大会。土耳其与叙利亚库尔德人的矛盾激化，曾一度给大会蒙上阴影。最终，叙利亚库尔德人只能以个人名义参会。\\n分析称，土俄两国一致希望顺利举办叙利亚全国对话大会，因此土耳其在叙利亚的军事行动对参会各方的直接影响有限。土耳其的军事行动虽然令土耳其与美国这两个北约盟友之间的分歧进一步扩大，但在一定程度上增强了土耳其在叙利亚问题上的话语权，同时俄罗斯、土耳其、伊朗三方在叙利亚问题上的合作更紧密。而在打击叙利亚库尔德人问题上，土耳其也将会借此次大会，寻求更多支持。\\n']\n",
            "[1, 1, 0.99451244, '俄罗斯国防部29日表示，俄军当天在黑海上空成功地拦截一架试图接近俄边境的美军侦察机。美国国务院称俄方应该停止这一不安全的举动。\\n俄国防部发布的媒体公告说，俄军当天在黑海国际水域上空探测到一架不明飞行器正试图接近俄罗斯边境，俄防空部队立即派遣一架苏-27战机升空拦截，该战机抵近目标后辨认出不明飞行器为美军一架电子侦察机。\\n公告称俄战机在向基地汇报情况后执行了伴飞任务，并一直与其保持安全距离。美军机遭拦截后随即改变航向飞离，俄战机安全返回。\\n美国国务院当天发表声明，认为俄罗斯军机此举为“不安全”行为并对此表示最高级别关切。声明称双方飞机最近距离只有1.5米左右，俄战斗机甚至直接从美侦察机前方飞过。美方呼吁俄方停止这些增加双方误判风险、危及飞行员安全的行为。\\n近年来，俄罗斯与北约在黑海地区的较量逐渐升级，双方战机多次在该海域上空遭遇。俄国防部去年9月还公布评估报告，将黑海地区的复杂形势列为俄面临的主要威胁之一。\\n']\n",
            "[2, 2, 0.926461, '当地时间29日晚，美国财政部公布了一份被称为“克里姆林宫报告”的名单，其中列入了114名俄罗斯政界人士和96名商业人士，包括俄罗斯总理梅德韦杰夫、外长拉夫罗夫、总统新闻秘书佩斯科夫等多名政要。名单上的一些人已经受到美国的制裁，其他人可能也将会面临美国制裁。此举遭到俄罗斯方面的强烈反对，认为这是企图直接影响俄罗斯将于3月举行的总统选举，并称俄罗斯不会被制裁措施吓到。\\n']\n",
            "[1, 2, 0.926146, '韩国统一部方面29日说，朝鲜当晚通知韩方取消原定于2月4日在朝鲜金刚山地区举行的朝韩联合文艺演出。朝方在通报中说，韩国媒体持续发布舆论侮辱朝方有关参加平昌冬奥会的具有诚意的措施，不得不取消联合文艺演出。韩国政府对此深表遗憾，同时强调，迈出改善朝韩关系的第一步不容易，南北应在相互尊重和理解的基础上，履行好已经达成协议的事项。\\n']\n",
            "[2, 2, 0.527275, '以沙特阿拉伯为首的多国联军29日呼吁近日在亚丁爆发冲突的也门政府与南部阵营之间实现停火，通过谈判来解决分歧。多国联军还重申对也门哈迪政府的支持，并暗示在事态恶化情况下不排除采取军事干预的可能。\\n']\n",
            "[0, 0, 0.99998903, '中共中央政治局1月30日下午就建设现代化经济体系进行第三次集体学习。中共中央总书记习近平在主持学习时强调，建设现代化经济体系是一篇大文章，既是一个重大理论命题，更是一个重大实践课题，需要从理论和实践的结合上进行深入探讨。建设现代化经济体系是我国发展的战略目标，也是转变经济发展方式、优化经济结构、转换经济增长动力的迫切要求。全党一定要深刻认识建设现代化经济体系的重要性和艰巨性，科学把握建设现代化经济体系的目标和重点，推动我国经济发展焕发新活力、迈上新台阶。\\n这次中央政治局集体学习，由中央政治局同志自学并交流体会，刘鹤、孙春兰、李希、李强、李鸿忠、陈全国、陈敏尔、胡春华、蔡奇就这个问题作了重点发言，中央政治局各位同志听取了他们的发言，并就有关问题进行了讨论。\\n习近平在主持学习时发表了讲话。他指出，建设现代化经济体系，这是党中央从党和国家事业全局出发，着眼于实现“两个一百年”奋斗目标、顺应中国特色社会主义进入新时代的新要求作出的重大决策部署。国家强，经济体系必须强。只有形成现代化经济体系，才能更好顺应现代化发展潮流和赢得国际竞争主动，也才能为其他领域现代化提供有力支撑。我们要按照建设社会主义现代化强国的要求，加快建设现代化经济体系，确保社会主义现代化强国目标如期实现。\\n习近平强调，现代化经济体系，是由社会经济活动各个环节、各个层面、各个领域的相互关系和内在联系构成的一个有机整体。要建设创新引领、协同发展的产业体系，实现实体经济、科技创新、现代金融、人力资源协同发展，使科技创新在实体经济发展中的贡献份额不断提高，现代金融服务实体经济的能力不断增强，人力资源支撑实体经济发展的作用不断优化。要建设统一开放、竞争有序的市场体系，实现市场准入畅通、市场开放有序、市场竞争充分、市场秩序规范，加快形成企业自主经营公平竞争、消费者自由选择自主消费、商品和要素自由流动平等交换的现代市场体系。要建设体现效率、促进公平的收入分配体系，实现收入分配合理、社会公平正义、全体人民共同富裕，推进基本公共服务均等化，逐步缩小收入分配差距。要建设彰显优势、协调联动的城乡区域发展体系，实现区域良性互动、城乡融合发展、陆海统筹整体优化，培育和发挥区域比较优势，加强区域优势互补，塑造区域协调发展新格局。要建设资源节约、环境友好的绿色发展体系，实现绿色循环低碳发展、人与自然和谐共生，牢固树立和践行绿水青山就是金山银山理念，形成人与自然和谐发展现代化建设新格局。要建设多元平衡、安全高效的全面开放体系，发展更高层次开放型经济，推动开放朝着优化结构、拓展深度、提高效益方向转变。要建设充分发挥市场作用、更好发挥政府作用的经济体制，实现市场机制有效、微观主体有活力、宏观调控有度。以上几个体系是统一整体，要一体建设、一体推进。我们建设的现代化经济体系，要借鉴发达国家有益做法，更要符合中国国情、具有中国特色。\\n习近平指出，建设现代化经济体系，需要扎实管用的政策举措和行动。要突出抓好以下几方面工作。一是要大力发展实体经济，筑牢现代化经济体系的坚实基础。实体经济是一国经济的立身之本，是财富创造的根本源泉，是国家强盛的重要支柱。要深化供给侧结构性改革，加快发展先进制造业，推动互联网、大数据、人工智能同实体经济深度融合，推动资源要素向实体经济集聚、政策措施向实体经济倾斜、工作力量向实体经济加强，营造脚踏实地、勤劳创业、实业致富的发展环境和社会氛围。二是要加快实施创新驱动发展战略，强化现代化经济体系的战略支撑，加强国家创新体系建设，强化战略科技力量，推动科技创新和经济社会发展深度融合，塑造更多依靠创新驱动、更多发挥先发优势的引领型发展。三是要积极推动城乡区域协调发展，优化现代化经济体系的空间布局，实施好区域协调发展战略，推动京津冀协同发展和长江经济带发展，同时协调推进粤港澳大湾区发展。乡村振兴是一盘大棋，要把这盘大棋走好。四是要着力发展开放型经济，提高现代化经济体系的国际竞争力，更好利用全球资源和市场，继续积极推进“一带一路”框架下的国际交流合作。五是要深化经济体制改革，完善现代化经济体系的制度保障，加快完善社会主义市场经济体制，坚决破除各方面体制机制弊端，激发全社会创新创业活力。\\n']\n",
            "[0, 0, 0.99998915, '中共中央、国务院日前就全面深化新时代教师队伍建设改革提出意见。《意见》共有六项二十七条。\\n《意见》强调，百年大计，教育为本；教育大计，教师为本。坚持兴国必先强师，深刻认识教师队伍建设的重要意义和总体要求。《意见》阐述了全面深化新时代教师队伍建设改革的战略意义、指导思想、基本原则和目标任务。\\n《意见》提出，经过5年左右努力，教师培养培训体系基本健全，职业发展通道比较畅通，事权人权财权相统一的教师管理体制普遍建立，待遇提升保障机制更加完善，教师职业吸引力明显增强。教师队伍规模、结构、素质能力基本满足各级各类教育发展需要。\\n到2035年，教师综合素质、专业化水平和创新能力大幅提升，培养造就数以百万计的骨干教师、数以十万计的卓越教师、数以万计的教育家型教师。教师管理体制机制科学高效，实现教师队伍治理体系和治理能力现代化。教师主动适应信息化、人工智能等新技术变革，积极有效开展教育教学。尊师重教蔚然成风，广大教师在岗位上有幸福感、事业上有成就感、社会上有荣誉感，教师成为让人羡慕的职业。\\n《意见》还就着力提升思想政治素质，全面加强师德师风建设；大力振兴教师教育，不断提升专业素质能力；深化教师管理综合改革，切实理顺体制机制；不断提高地位待遇，真正让教师成为令人羡慕的职业；切实加强党的领导，全力确保政策举措落地见效等方面的工作提出了具体要求。\\n']\n",
            "[0, 0, 0.9999888, '31日下午，国务院总理李克强在北京人民大会堂举行仪式，欢迎英国首相特雷莎·梅对我国进行正式访问。这是特雷莎·梅担任英国首相后首次正式访华。\\n全国政协副主席王家瑞出席欢迎仪式。\\n军乐团奏英、中两国国歌。\\n随后，李克强陪同特雷莎·梅检阅了中国人民解放军三军仪仗队。\\n']\n",
            "[0, 0, 0.9999887, '欢迎仪式后，李克强和特雷莎·梅举行中英总理年度会晤。\\n李克强表示，中英关系多年来一直走在中国同西方国家关系前列。2015年，习近平主席成功访英，两国宣布构建面向21世纪全球全面战略伙伴关系。新形势下，双方要把握机遇，相向而行，共同推动中英之间的“黄金关系”在新的历史方位上加速前行。\\n——相互尊重，巩固政治互信。密切高层往来，发挥总理年度会晤等高层对话机制顶层设计作用，规划合作，妥处分歧。\\n——加强发展战略对接，扩大双向开放。加强“一带一路”、核电高铁、金融、高技术贸易、第三方市场等领域合作，扩大双向投资，提升高技术产品在双边贸易中的比重。中方愿适时审视启动“沪伦通”准备工作。\\n——不断完善中英“大人文”交流格局，密切双向人员往来。\\n李克强强调，中英同为世界重要经济体和联合国安理会常任理事国，都是经济全球化、贸易和投资自由化、便利化的坚定支持者。中方愿同英方加强在国际地区事务中的沟通协调，为促进世界和平发展贡献力量。\\n特雷莎·梅表示，我愿利用此访进一步提升进入“黄金时代”的英中全面战略伙伴关系。英中两国经济高度互补，双边经贸投资保持持续发展的良好势头，这符合两国及两国人民的共同利益。英方愿推进同中方“一带一路”建设的合作，探索在创新、金融、保护知识产权、人工智能等领域的合作，英方欢迎中国扩大对英投资，深化人文交流。\\n会谈后，两国总理共同见证了经贸、金融、航空、海关、卫生、检验检疫、智慧城市等领域多项双边合作文件的签署。\\n']\n",
            "[0, 0, 0.9999878, '随后，两国总理共同会见记者并回答提问。\\n双方积极评价会晤成果。李克强表示，中英关系继续稳定发展符合两国共同利益，也有利于地区乃至世界的和平、稳定与繁荣。当前英国面临脱欧的新形势，但中英关系不会因为英欧关系的变化而变化，我们愿继续本着相互尊重、平等相待、互利共赢的原则，推动中英关系再上新台阶。\\n李克强指出，当前世界经济出现复苏向好的积极势头，各方应倍加珍惜，共同促进贸易投资自由化便利化，推动经济全球化进程，使自由贸易惠及两国和更多国家，共同发出合作共赢的强烈信号，给世界市场以稳定的预期。\\n特雷莎·梅表示，英中经济互补性强，英方愿同中方加强各领域交流与合作，深化更加强有力的英中伙伴关系。\\n']\n",
            "[0, 0, 0.9999891, '全国人大常委会委员长张德江今天主持召开座谈会，听取部分全国人大代表对《全国人民代表大会常务委员会工作报告（征求意见稿）》的意见建议。\\n张德江说，十二届全国人大常委会坚持尊重代表主体地位，不断深化和拓展代表工作，支持和保障代表依法履职。连续五年在起草常委会工作报告的过程中，召开部分全国人大代表座谈会，听取代表的意见建议，这是常委会加强同代表联系，充分发挥代表作用的重要举措。\\n座谈会上，代表们高度评价十二届全国人大及其常委会的工作，对常委会工作报告征求意见稿总体表示赞成。一致认为，全国人大常委会紧紧围绕党和国家工作大局依法履职，勇于担当、善于作为，立法效率和质量明显提升，坚持问题导向、回应人民群众关切，监督力度和实效进一步增强，积极推动地方人大工作完善发展，人大工作开创了新局面、取得了新成就。\\n张德江表示，十二届全国人大常委会所取得的工作成绩，根本在于以习近平同志为核心的党中央坚强领导，在于习近平新时代中国特色社会主义思想科学指引。十二届全国人大代表忠实代表人民的利益和意志，恪尽职守、勤勉工作，为发展社会主义民主政治、建设社会主义法治国家作出了积极贡献。\\n张德江指出，人民代表大会制度是坚持党的领导、人民当家作主、依法治国有机统一的根本政治制度安排，必须长期坚持、不断完善。中国共产党领导是人民代表大会制度的本质要求和最大优势，是做好人大工作的根本保证和关键所在。我们要深入学习贯彻习近平新时代中国特色社会主义思想，牢固树立“四个意识”，不断增强“四个自信”，坚决维护习近平总书记权威和核心地位，坚决维护以习近平同志为核心的党中央权威和集中统一领导，全面担负起宪法法律赋予的各项职责，不折不扣贯彻落实党中央决策部署，做好人大各项工作，维护人民根本利益，推动人民代表大会制度与时俱进。\\n王晨参加座谈会。\\n']\n",
            "[0, 0, 0.9999892, '中共中央政治局常委、国务院副总理汪洋31日在京主持召开国务院旅游工作部际联席会议第五次全体会议。他强调，要全面贯彻党的十九大精神，以习近平新时代中国特色社会主义思想为指导，紧扣我国社会主要矛盾变化，大力推动旅游业提质增效和转型升级，实现高质量发展，打造国民经济战略性支柱产业和综合性幸福产业。\\n汪洋指出，党的十八大以来，在以习近平同志为核心的党中央坚强领导下，我国旅游业改革发展取得历史性成就。2017年人均出游达3.7次，出境旅游人数居世界第一位，旅游业对国民经济和社会就业的综合贡献率超过10%，战略性支柱产业地位更加突出。\\n汪洋强调，我国旅游业进入黄金发展期，也处在矛盾凸显期，发展不平衡不充分的问题比较突出。要坚持创新发展，深化供给侧结构性改革，发展全域旅游，推动旅游业发展质量变革、效率变革、动力变革。要坚持协调发展，优化旅游业发展格局，扎实推进新一轮“厕所革命”，助力乡村振兴和区域协调发展。要坚持绿色发展，将“绿水青山就是金山银山”的理念贯穿到旅游发展全过程，实现生态效益与经济效益有机统一。要坚持开放发展，深化“一带一路”旅游国际合作，办好国家旅游年等活动，积极参与全球旅游治理，实现互利共赢。要坚持共享发展，坚持以人民为中心的发展思想，构建包容普惠的旅游发展机制，整顿旅游市场秩序，更好彰显旅游业的民生价值。\\n汪洋强调，春节将迎来旅游高峰，要把旅游安全放在首位，落实地方政府、旅游企业、监管部门责任，严防重特大旅游安全事件发生。\\n']\n",
            "[0, 0, 0.9999889, '经李克强总理签批，国务院日前印发《关于全面加强基础科学研究的若干意见》，对全面加强基础科学研究作出部署。\\n《意见》明确了我国基础科学研究三步走的发展目标。提出到本世纪中叶，把我国建设成为世界主要科学中心和创新高地。涌现出一批重大原创性科学成果和国际顶尖水平的科学大师，为建成富强民主文明和谐美丽的社会主义现代化强国和世界科技强国提供强大的科学支撑。\\n《意见》从五个方面提出了全面加强基础科学研究的20项重点任务。一是完善基础研究布局。二是建设高水平研究基地。三是壮大基础研究人才队伍。四是提高基础研究国际化水平。五是优化基础研究发展机制和环境。\\n']\n",
            "[0, 0, 0.99998534, '日前，中央纪委公开曝光了八起扶贫领域腐败和作风问题典型案例。\\n这8起案例分别是：\\n河北省隆化县扶贫和农业开发办公室原党组成员、副主任王金柱在扶贫项目上为他人谋取利益并从中收受财物等问题；\\n辽宁省康平县柳树屯蒙古族满族乡党委原书记杨宇新套取扶贫资金等问题；\\n湖北省红安县七里坪镇石家咀村原党支部书记、村委会主任石生富等人截留五保资金等问题；\\n湖南省湘西土家族苗族自治州农业机械管理局原党组成员、副局长钟昌文骗取扶贫资金等问题；\\n广东省兴宁市水口镇洋槐村原党支部书记、村委会主任刘雨等人违规收受财物、套取挪用扶贫资金等问题；\\n广西壮族自治区融安县桥板乡党委原书记王时林非法占有扶贫项目资金等问题；\\n贵州省龙里县扶贫开发局原局长范玉旭索取、收受钱款等问题；\\n新疆维吾尔自治区喀什市阿瓦提乡民政办低保专干麦麦提江·喀日挪用挥霍低保资金问题。\\n有关涉案人员均受到党纪政纪处分，涉嫌犯罪的已移送司法机关，侵占和违规收受资金均已追缴，其中有的已发放给群众。\\n中央纪委有关负责人指出，要更加突出问责，对党委政府主体责任、纪委监督责任和有关职能部门监管职责不落实的，坚决追究责任。\\n']\n",
            "[0, 0, 0.9999847, '国务院新闻办今天举行2018年春运新闻发布会，国家发改委、交通运输部、公安部等7部门负责人介绍了今年春运的特点和运力安排。\\n2018年春运2月1日启动，3月12日结束，40天时间全国旅客发送量预计达29.8亿人次，与去年基本持平。去年全国铁路新增线路3000多公里，东南沿海进出成渝地区的客流压力有望缓解。\\n春运期间公安部启动交通执法大检查确保道路运输安全。预计今年春运节后客流叠加，单日客运量将超过1亿人次，交通部门将加大运力调配。\\n']\n",
            "[0, 0, 0.99957526, '平昌冬奥会中国体育代表团今天在北京正式成立。本届冬奥会中国体育代表团将派出82名运动员，参加5个大项、12个分项、55个小项的比赛，这也是参赛项目最多的一届冬奥会，其中单板滑雪平行大回转、自由式滑雪U型场地、女子跳台滑雪、雪车等项目都是首次获得冬奥会参赛资格。2018年平昌冬奥会将于2月9日至25日在韩国平昌举行，本届奥运会将进行7个大项，102个小项的比赛。中国代表团将在短道速滑、花样滑冰、自由式滑雪空中技巧等几个项目上向金牌发起冲击。\\n']\n",
            "[0, 0, 0.999853, '2018年最值得人们观赏的天象之一就是发生在今天晚上的月全食天象，只要天气晴好，我国各地的人们都可以欣赏到月全食的壮观景象。\\n本次月全食从北京时间1月31日19点48分开始“初亏”，20点52分进入“食既”状态，此时月球将全部进入地球的本影区域，之后的1小时16分，人们可以看到古铜色“红月亮”悬挂于夜空的壮美景色。当晚22点08分月全食进入“生光”阶段，月球将逐渐走出地球本影，23点11分“复圆”标志着月全食结束。\\n从科学的角度来说，当一个公立的月份中出现第二次满月，我们称其为蓝月，今天的月亮恰属于近地点满月，所以又称为超级月亮，上次出现这种超级蓝色红月亮奇观还是在152年以前。今晚我台新闻频道将首次把中科院国家天文台望远镜的视频信号引入电视屏幕，带领观众实时观看月全食。同时，央视新闻移动网、新闻客户端、官方微博将从18:30开始全程直播本次月全食，欢迎收看。\\n']\n",
            "[1, 1, 0.9969646, '今天公布的1月份中国制造业采购经理指数为51.3%，已连续16个月位于51%以上的景气区间，制造业继续保持稳步扩张走势。受春节假日临近等因素影响，消费品制造业加快增长。\\n']\n",
            "[1, 1, 0.99773824, '国家统计局今天公布，2017年全国规模以上文化及相关产业企业实现营业收入91950亿元，比上年增长10.8%，增速提高3.3个百分点，继续保持较快增长。\\n']\n",
            "[1, 1, 0.99841297, '环保部今天通报，《大气污染防治行动计划》第一阶段目标全面实现，2017年全国74个重点城市优良天数比例为73.4%，比2013年上升7.4个百分点，重污染天数比2013年减少51.8%。\\n']\n",
            "[1, 1, 0.9979446, '第41次《中国互联网络发展状况统计报告》今天发布。截至2017年12月，我国网民规模7.72亿，互联网普及率达55.8%，超过全球平均水平4.1个百分点；超六成网民使用线上政务服务和线下移动支付。\\n']\n",
            "[1, 1, 0.9984694, '中央文明办今天在湖南长沙举办全国道德模范与身边好人现场交流活动，并发布2018年1月“中国好人榜”。其中，十余年义务献血万余毫升的公交司机袁亮坤等108人被广大网友推举为“中国好人”。\\n']\n",
            "[1, 1, 0.99868125, '今天，湖北武汉市常青路主线转体桥实现了81度顺时针转体，成功跨越汉口火车站铁路轨道，与引桥精准对接顺利合龙，这也是我国首个规模最大的不平衡转体桥工程。\\n']\n",
            "[1, 1, 0.998629, '“冬游西藏 共享地球第三极”活动今天发布，从2018年2月1日到4月30日，西藏将对旅游者实行一系列特殊优惠政策，其中，布达拉宫、纳木错等所有A级景区将免费对游客开放。\\n']\n",
            "[1, 1, 0.79121554, '俄罗斯总统普京30日说，美国财政部日前发布“克里姆林宫报告”是不友好行为，进一步破坏两国关系，但俄方暂时不会采取反制行动。\\n普京当天在莫斯科表示，制定所谓的名单对俄罗斯进行威胁、恐吓，限制俄罗斯的发展都是没有意义的。俄方暂时不会采取反制行为。他同时呼吁人们用更多精力关注俄罗斯自身经济社会发展。\\n美国财政部29日公布的这份报告列出俄罗斯约200名政界和商业人士。美国财政部长姆努钦30日表示，出台这份名单只是“第一步”，在未来的一个月到几个月内，美国政府会出台针对俄罗斯的新制裁措施。\\n']\n",
            "[2, 2, 0.9130463, '叙利亚全国对话大会30日决定成立专职宪法制定与改革工作的叙利亚宪法委员会，初步确定一份150名候选人名单。名单将交给联合国秘书长叙利亚问题特使德米斯图拉，由他决定宪法委员会形式及构成人员。\\n德米斯图拉对此次大会表示满意，认为成立宪法委员会意味着叙利亚危机的政治解决由理论进入实践阶段。他说，此次会谈成果将作为联合国主导的日内瓦叙利亚和谈进程的一部分。\\n']\n",
            "[2, 2, 0.9932161, '美国总统特朗普30日在国会发表其执政以来的首次国情咨文演讲，他呼吁国会通过跨党派支持的基础设施投资法案，推动未来10年内至少投资1.5万亿美元用于改造年久失修的公路和桥梁等基础设施。\\n分析人士指出，增加基建投资是特朗普政府今年主推的经济政策之一，但由于国会共和、民主两党在移民、边境安全等议题上分歧严重，基建投资拨款势必成为两党政治博弈的焦点。\\n']\n",
            "[2, 2, 0.99672085, '韩国统一部31日表示，由45人组成的韩国滑雪代表团当天乘坐包机，从江原道襄阳机场飞往朝鲜元山市葛麻机场，赴朝鲜马息岭滑雪场开展为期两天的联合训练。\\n按照日程安排，韩朝运动员在第一天的训练中，将进行自由式滑雪训练，第二天的训练则将进行联合训练和友谊赛。2月1日合训结束后，朝方代表团将与韩方代表团一同乘机访问韩国。\\n']\n",
            "[2, 2, 0.95837826, '30日，也门南方过渡委员会的武装力量突破也门政府军的防守，占领也门临时首都亚丁，数百名政府军士兵和高级官员被捕。政府军方面表示，总理本·达格尔已乘飞机前往安全地带。也门内政部当天呼吁沙特阿拉伯领导的多国联军作出干预决定。\\n']\n",
            "[0, 0, 0.9999873, '国家主席习近平1日在钓鱼台国宾馆会见来华进行正式访问的英国首相特雷莎·梅。\\n习近平首先请特雷莎·梅转达对伊丽莎白二世女王的亲切问候和良好祝愿。习近平指出，英国是最早承认新中国的西方大国。建交以来，两国各领域合作硕果累累。2015年我对英国进行了成功访问，双方共同揭开了中英关系“黄金序章”。中方愿同英方一道，推动中英关系在新时代健康稳定发展，为两国人民带来更多福祉，为世界繁荣稳定提供更多助力。\\n习近平强调，当前，世界多极化、经济全球化、社会信息化、文化多样化深入发展，人类命运休戚与共，和平、发展、合作、共赢已经成为时代主流。中英双方应顺应时代潮流，结合两国各自发展阶段和合作需求，赋予中英关系新的时代内涵，共同打造“黄金时代”增强版。一要提升中英关系“黄金时代”战略性，从战略高度和全局角度看待和规划双边关系未来发展。继续办好战略、财金、人文等高层对话机制，不断夯实“黄金时代”的政治基础。加强两国立法机构、政党、两军对话交流，增进相互理解。尊重和照顾彼此核心利益和重大关切，以建设性方式处理好敏感问题。二要增强中英关系“黄金时代”务实性，推动两国经贸合作再上新台阶。加强两国发展战略对接，深化在金融、核电、投资等领域合作，探索在人工智能、绿色能源、数字经济、共享经济等新业态的合作。中方支持经济全球化和贸易自由化。“一带一路”是公开、透明、开放、包容、互利共赢的倡议，秉持共商、共建、共享的原则，在市场规律和国际规则下运作。中英双方可以在“一带一路”框架内开展更大范围、更高水平、更深层次的互利合作。三要拓展中英关系“黄金时代”全球性，深化在联合国、二十国集团、世界贸易组织等多边机构内交流合作，推动解决气候变化等全球性挑战，共同促进世界和平与稳定。四要促进中英关系“黄金时代”包容性，发扬两国文明兼收并蓄、博采众长的传统理念，加强人文交流，增进两国交往和友谊，夯实两国关系民意基础，为促进东西方文明交流互鉴、不同文明国家“和合共生”树立典范。\\n特雷莎·梅转达了伊丽莎白二世女王对习近平主席的亲切问候。特雷莎·梅表示，我赞同习近平主席对英中关系的评价。习主席2015年对英国成功的国事访问，开启了英中关系的“黄金时代”，推动了两国各领域关系的深入发展。英方在许多全球性问题上同中方看法相近，重视中方在国际事务中重要作用。习主席去年在世界经济论坛的讲话广受国际社会欢迎。习近平主席提出的“一带一路”合作倡议具有深远的世界影响，希望英中开展“一带一路”合作，促进全球和区域经济增长。英国主张自由贸易，愿同中方加强贸易、投资、科技、环境、人文、互联网等领域务实合作，密切在重大国际和地区问题上沟通协调，共同致力于推进英中面向21世纪全球全面战略伙伴关系。\\n杨洁篪等参加会见。\\n']\n",
            "[0, 0, 0.9999889, '国务院总理李克强1月31日晚在人民大会堂与特雷莎·梅同出席中英企业家委员会成立大会暨第一次会议的企业家代表举行座谈。\\n两国总理听取了中英企业家代表的发言。李克强表示，中英经贸合作已经驶入“快车道”，双向投资进一步扩大，双边贸易向着更趋健康平衡的方向发展。在当前世界经济复苏回暖的背景下，中英企业家委员会的成立有利于进一步深化双方合作。随着中国经济持续转型升级，中英经贸合作空间更加广阔。双方要以开放的姿态、包容的心态推动合作，把握好自由贸易与公平贸易之间的辩证统一，在双向开放中相互促进、实现共赢。\\n李克强指出，随着中国改革开放进一步深入，我们将继续优化外商进入中国市场的准入和审批程序，也希望英方对中方企业的投资审查更加公开透明平等。欢迎两国企业家为中英互利合作建言献策，为两国经贸合作注入新动力。中国政府愿同英国政府相向而行，倾听两国企业家的呼声，采取切实措施解决中英企业合作中存在的问题，使中英互利合作不断走深走实。\\n特雷莎·梅表示，英国脱欧后将继续保持开放，英中有望建立更广泛的经贸关系，开启新的合作时代和伙伴愿景。期待双方共同建设“全球化英国”和“全球化中国”，造福两国和世界人民。\\n来自中英两国金融、能源、电信、汽车、医药、交通等领域的30余家企业负责人出席。与会企业家围绕中英经贸、投资、市场准入、创新合作、知识产权保护、三方合作等问题进行深入交流。\\n']\n",
            "[0, 0, 0.99998766, '全国人大常委会委员长张德江1日在人民大会堂会见了英国首相特雷莎·梅。\\n张德江说，2015年习近平主席成功访英，开启了中英关系“黄金时代”。习近平主席此次与首相女士的会晤必将推动中英面向21世纪全球全面战略伙伴关系取得更大发展。中国全国人大与英国议会定期交流富有成效，促进了相互了解和合作。两国立法机关应积极推动落实两国领导人达成的重要共识，保持友好交往，开展立法、监督、治国理政等方面交流互鉴，为增进政治互信、拓展经贸合作、扩大人文交流创造良好的政策和法律环境，共同促进中英关系“黄金时代”顺利发展。\\n特雷莎·梅说，英方高度重视英中关系，支持两国立法机关友好交往，愿加强与中方在各领域交流合作。\\n王晨参加会见。\\n']\n",
            "[0, 0, 0.9999881, '全国政协今天上午在政协礼堂举行已故知名人士的夫人2018年春节茶话会，大家欢聚一堂，畅叙友情，共贺新春。全国政协主席俞正声出席茶话会。\\n全国政协副主席杜青林在茶话会上回顾了在以习近平同志为核心的党中央坚强领导下，2017年党和国家事业取得的重大成就，介绍了过去一年人民政协工作取得的重要进展。杜青林说，牢记昨天才能把握今天，不忘本来才能开辟未来。此时此刻，我们更加思念为民族解放、国家富强、人民幸福鞠躬尽瘁、无私奉献的老一辈革命家，更加思念与中国共产党风雨同舟、荣辱与共的党外朋友。在革命、建设、改革各个时期，各位老大姐始终不渝同至亲至爱的伴侣共甘苦，始终不渝同祖国共命运，始终不渝同人民共奋斗。你们高尚的精神境界、炽热的家国情怀和不凡的历史功绩，永远值得尊重敬仰和继承发扬。全国政协将一如既往做好保障工作，真心尊重、真诚关爱、真情服务各位老大姐，也希望老大姐们一如既往关心支持政协事业，常回家看看，多提宝贵意见。\\n全国政协副主席兼秘书长张庆黎主持茶话会。茶话会上，文艺工作者表演了精彩的节目。\\n']\n",
            "[0, 0, 0.9999881, '党的十九大报告指出，坚持陆海统筹，加快建设海洋强国。海岸线超过3300公里的山东省，在习近平新时代中国特色社会主义思想指引下，坚定走向海洋，服务国家战略，培育高质量发展新动能。\\n进入2018年，山东推动海洋经济高质量发展的步伐不断加快。国外贸易往来港口增至700多个；“烟台造”海洋牧场平台开建；海洋装备类国家质检中心投入试运行，填补国内空白。\\n山东，海域面积近16万平方公里，港口年吞吐量超过15亿吨。十九大后，全省上下都在思考，如何在海洋强国建设中交出山东答卷？\\n最近几个月，山东展开密集调研，摸清海洋的家底实情、基础数据，完善政策规划，全省海洋发展战略规划领导小组也挂牌成立，正在召开的全省两会把加快发展海洋经济作为今年的重点工作。\\n做强海洋经济，山东向创新要动力！拥有众多国家级海洋科技平台、海洋科研院所的山东，今年将加快发展海洋高技术产业，打造青岛、烟台、威海、潍坊海洋生物产业集群，形成具有国际影响力的海洋科技创新中心。\\n这段时间，正在实施的山东“透明海洋”科技创新工程传来捷报，由海洋国家实验室主导的4000米深海Argo观测浮标研制成功，这使我国具备了对全球海洋4000米水深的持续观测能力，未来将广泛应用于海洋仪器装备等新兴产业。\\n按照十九大提出“陆海统筹”的发展思路，今年山东将整合沿海港口资源，优化口岸布局，谋划推进青岛港、渤海湾港、烟台港、日照港四大集团建设，同时打造全国深远海开发战略保障基地。\\n眼下在青岛西海岸新区，国家海洋基因库不断丰富；一条世界领先的海藻生物生产线马力全开，从海洋公共服务业到海洋生物产业，从陆海到深海，海洋经济可持续发展的广度和深度不断拓展。\\n走向海洋，山东把海洋生态文明建设放在重要位置。2018年，山东将重点实施海岸带综合保护与利用试点工作，在全省沿海全域推行“湾长制”，并把海洋环保重要指标，纳入全省经济社会发展综合考核体系。\\n走向海洋，山东为自己定下新目标：2018年，全省海洋经济实现产值1.6万亿元，年均增长10%。\\n']\n",
            "[0, 0, 0.99998665, '第十三届全国人民代表大会第一次会议和政协第十三届全国委员会第一次会议，将分别于2018年3月5日和3月3日在北京开幕。全国人大常委会办公厅和全国政协办公厅今天宣布，欢迎中外记者届时前来采访。\\n十三届全国人大一次会议、全国政协十三届一次会议将在北京市复兴路乙11号梅地亚中心设立新闻中心，负责接待和安排中外记者对两个会议的采访。新闻中心将于2月27日正式开展工作。\\n凡要求采访两个会议的记者需提出申请。中央新闻单位记者向新闻中心提出申请，地方随团记者由各代表团向新闻中心提出申请，香港特别行政区记者向中央人民政府驻香港特别行政区联络办公室提出申请，澳门特别行政区记者向中央人民政府驻澳门特别行政区联络办公室提出申请，台湾地区记者向国务院台湾事务办公室提出申请，外国驻华记者向新闻中心提出申请，外国临时来华记者向中国驻所在国使领馆或我外交部授权的签证机构提出申请。记者报名截止日期为2月25日。\\n为方便记者采访，两个会议新闻中心网页将及时发布采访信息及与采访相关的资讯。\\n']\n",
            "[0, 0, 0.999979, '在国务院新闻办公室今天举行的新闻发布会上，民政部部长黄树贤介绍，2017年民政部门对全国41000多个养老院进行了拉网式排查，养老服务体系加快构建，全国民办养老机构同比增长7.8%，社区养老服务设施和互助型养老设施同比分别增长41.3%和22.9%。\\n农村低保标准均达到国家扶贫标准。全国城乡低保平均标准较上年分别增长9.4%和14.9%。残疾人两项补贴制度全面实施，分别惠及1000多万残疾人。\\n']\n",
            "[0, 0, 0.9999867, '国家税务总局今天发布的数据显示，2017年全国税收收入12.6万亿，同比增长了8.7%。税收与经济增长的协调性明显增强。\\n税收是经济变化最直接的标尺，数字背后，我国经济结构正发生着积极变化。\\n工业结构优化升级成效明显，通用设备、专用设备、通信设备等高端制造业税收增长均超过20%。\\n新动能蓬勃发展。互联网和相关服务、软件和信息技术服务行业税收分别增长55.1%和36%，推动经济向高质量发展迈进。\\n减税降负效果明显，企业活力日渐增强。2017年，仅“营改增”就为企业减税9186亿元，比2016年多减了3450亿元。小微企业所得税减半征收政策给企业减税454亿元；针对科技型中小企业以及创业投资企业等推出的税收优惠措施，给相关行业带来了200多亿元的减税大礼包，市场主体的积极性得到了充分调动。\\n']\n",
            "[0, 0, 0.99998313, '由中宣部组织的2018年“新春走基层”大型主题采访活动暨春运宣传启动仪式今天在中国铁路总公司举行。\\n今年的新春走基层是在全党全国深入学习贯彻习近平新时代中国特色社会主义思想和党的十九大精神热潮中展开的，具有特殊重要的意义。\\n中宣部、中央网信办、国家新闻出版广电总局、中国记协、各省区市党委宣传部有关负责同志，21家中央和地方媒体负责同志及骨干编辑记者，交通运输部、铁路局、民航局相关负责同志和职工代表共180人参加启动仪式。人民日报、新华社、铁路总公司负责同志及中央电视台记者分别做了发言。\\n全体人员还集体参观了全国铁路调度指挥中心。\\n启动仪式后，参会的编辑记者兵分三路，奔赴北京12306大数据中心、北京火车站、上海复兴号高铁、广州夜间高铁检修点、农民工专列等基层工作一线开展采访报道。\\n']\n",
            "[0, 0, 0.99996305, '2018年春运从今天开始，至3月12日结束，为期40天，预计全国旅客发送量将达到29.8亿人次。重点车站从今天凌晨起加开春运临客。\\n今天，预计全国铁路发送旅客814万人次。除北京地区之外、广州、武汉、西宁等地今天共增开旅客列车460列。春运期间，北京上海铁路部门在太原等地扩大“复兴号”开行范围，西成高铁、兰渝铁路、渝贵铁路等新线首次投入春运，加大了进出西南地区的运力供给。\\n此外为提高出行体验，铁路部门增大智能化投入，升级互联网订餐系统，在杭州、郑州、合肥、济南、沈阳等火车站加大“刷脸”进站、智能导航等设备投入。\\n今年春运期间，民航预计2月12、13号迎来出行最高峰，民航局安排近3万班春节包机，每天提供超过210万个座位。\\n由交通运输部、全国总工会等五部委发起的情满旅途活动，以及团中央等六部门共同发起的 “暖冬行动”，今天同时启动。14万余名青年志愿者分批次上岗服务春运，在南方摩托大军返乡途中，中石化开通13辆免费“爱心大巴”。\\n全国铁路公安机关全力组织开展专项行动，截至目前，全国铁警确保春运平稳有序，破获倒票和盗抢骗案件2266起。\\n']\n",
            "[0, 0, 0.9999872, '这两天，来自中央党校、中国社科院的专家学者，走进北京的社区和高校，举办《新时代面对面》座谈会，让十九大精神更加深入人心。\\n在北京报国寺社区，专家和居民像拉家常一样为大家答疑解惑，现场交流既有高度，更有温度。\\n在北京大学，围绕“青年学生怎样才能更好地学习领会十九大精神”“高校如何坚守思想阵地，让优秀青年更好地肩负时代使命”等一个个问题，专家学者和师生展开了热烈讨论。\\n']\n",
            "[0, 0, 0.99998814, '毫不动摇巩固和发展公有制经济，毫不动摇鼓励、支持、引导非公有制经济发展，是党中央始终坚持的重大原则。一批国有企业通过混合所有制改革，优势互补、竞争合作，引入市场机制，追求高质量发展。\\n贺卫东是中电长城网际系统应用有限公司的总经理，他告诉记者，长城网际集中100多家企业安全防护资源建立的国家级聚合式信息安全云服务平台NISSP，已成为国内第一个通过公安部增强级云安全认证的云安全防护平台。\\n2012年7月，中国电子引入以网络攻防领域知名创业企业家贺卫东领衔的职业化经营团队，启动了混合所有制改革。随后在团队持股32.9%的基础上，又实施了骨干员工持股计划，骨干员工持股占比11.1%，基本搭建起了比较有吸引力、有持续性的人才激励机制。\\n长城网际建立“同股同权”的公司治理机制，实行市场化人员选聘和管理，提升企业发展活力。\\n有了长城网际成功的经验，中国电子在全国范围内搭建35个产业园区，吸引民营企业共同创业，已经孵化出超过30家上市公司。\\n']\n",
            "[0, 0, 0.99998665, '石家庄安建桥警务站主任吕建江，从警13年，一直扎根基层岗位，为百姓“解难事、干实事”，去年12月，他突发心脏病去世，年仅47岁。\\n很多市民认识吕建江，是从他的微博“老吕叨叨”上开始的，打开这个微博，全都是为老百姓办事、服务的内容。\\n这是2010年拍摄的一段影像，那时，吕建江刚刚创建了河北省首家网上警务室，并开通了首个民警实名微博，网友的问题五花八门，老吕的回答不厌其烦。\\n很快，老吕的实名微博赢得了近3万名铁杆粉丝，比他所在的警务站辖区人口还多一倍。吕建江成了闲不下来的人：孕妇羊水破了打不着车，找他；孤寡老人房子漏了，找他……以至于知道他网名“老吕叨叨”的人，远远超过了知道他本名的人。许多网友专门“@”他寻求帮助，就像辖区许多群众到警务站“点名”找他办事一样。\\n2017年12月1日，吕建江因劳累过度、心脏病突发，永远地离开了他的家人。\\n']\n",
            "[1, 1, 0.9979416, '国家统计局今天公布，截止2017年年末，全国农村贫困人口比上年末减少1289万人，贫困发生率比上年末下降1.4个百分点。贫困地区农村居民人均可支配收入加快增长。\\n']\n",
            "[1, 1, 0.9977239, '商务部消息，2017年我国批发零售业、住宿、餐饮业等国内贸易主要行业实现增加值10.7万亿元，首次突破10万亿元，占国内生产总值比重约13%，仅次于制造业，成为国民经济大产业。\\n']\n",
            "[1, 1, 0.9982695, '国家食药监总局和科技部日前联合印发《关于加强和促进食品药品科技创新工作的指导意见》，重点支持创新药、儿童专用药、临床急需以及罕见病治疗药物医疗器械研发。食药监总局对创新药品予以优先审批。\\n']\n",
            "[1, 1, 0.99864995, '今天，江西赣州举行客家民俗展演及踩街文化活动，九狮拜象、客家山歌等非遗节目让群众大饱眼福。客家人有农历新年前半个月开始迎新春的习俗，今年将举办百姓大舞台、全民阅读等近百场文化惠民活动。\\n']\n",
            "[1, 1, 0.99268556, '土耳其1月20日在叙利亚北部发起针对叙利亚库尔德武装的军事行动以来，一直面临多方压力。1月31日，俄罗斯外交部表态说，叙利亚北部的形势令人担忧。\\n1月31日，俄罗斯外交部发言人扎哈罗娃表示，土耳其在叙利亚北部边境阿夫林地区展开军事行动以来，已经有数百人丧生，其中包括一些平民。扎哈罗娃说，俄罗斯方面对叙北部的形势表示担忧。\\n另据报道，叙利亚阿夫林地区的库尔德官员说，阿夫林西部的两个城镇当天遭到火箭弹袭击，造成12名平民受伤。对此，土耳其军方表示，当天打击了22个叙库武目标，但否认袭击涉及平民。\\n此外，法国总统马克龙1月31日警告土耳其说，打击叙库武不应该成为土耳其入侵叙利亚的借口，他呼吁土耳其尊重叙利亚主权。对此，土耳其总理耶尔德勒姆当天回应称，马克龙的说法是彻底的误解，“橄榄枝行动”只是为肃清土叙边境的“恐怖分子”，是为了保护土耳其的国土安全，并非侵略。\\n']\n",
            "[1, 2, 0.9481186, '美国国务院1月31日发表声明说，由于巴勒斯坦伊斯兰抵抗运动“哈马斯”领导人哈尼亚涉嫌参与多起针对以色列公民的恐怖袭击，决定将其列入全球恐怖分子名单。\\n对此“哈马斯”和巴勒斯坦其他派别表示强烈反对。哈马斯发言人说，美国的决定违反国际法，这也证明美国偏袒以色列，他要求美国收回这一决定，停止采取敌对政策和立场。哈马斯成立于1987年，一直拒绝承认以色列并反对与其进行任何和谈。\\n']\n",
            "[2, 2, 0.9925682, '2月1日，由朝鲜体育省副相元吉宇率领的朝鲜运动员代表团抵达韩国平昌。据悉朝鲜代表团共32人，除团长外还有10名选手、3名教练员以及18名随团工作人员。朝鲜代表团入境后首先在平昌冬奥会运动员村进行选手登记，之后将入住江陵选手村。加上已于上月25日抵达韩国的12名朝鲜女子冰球选手，参加本届平昌冬奥会的22名朝鲜选手已经全部抵韩。\\n']\n",
            "[0, 0, 0.9999886, '中央军委慰问驻京部队老干部迎新春文艺演出2日下午在京举行。中共中央总书记、国家主席、中央军委主席习近平，向在座的军队老同志，向全军离退休老干部，致以节日问候和新春祝福。\\n战歌铿锵唱响强军梦，军威雄壮奋进新时代。为建立、保卫、建设新中国，为国防和军队建设作出突出贡献的驻京部队老干部在中国剧院欢聚一堂，喜迎新春佳节。\\n下午4时许，习近平来到老同志中间，全场响起热烈掌声。习近平同大家亲切握手，关切询问他们的身体和生活情况，共同回顾党的十八大以来党、国家、军队事业取得的历史性成就、发生的历史性变革。老同志们很振奋，一致表示要更加紧密地团结在以习近平同志为核心的党中央周围，全面深入贯彻党的十九大精神，以习近平新时代中国特色社会主义思想为指导，贯彻习近平强军思想，牢固树立“四个意识”，自觉坚定“三个维护”，满怀信心迎接强国强军新时代。\\n“中国新时代，跟着你初心不改；中国新时代，跟着你开创未来……”演出在交响乐与合唱《奋进新时代》激昂的旋律中拉开序幕。《强军步伐》《红色血脉》《壮丽航程》3个乐章贯穿传承红色基因、担当强军重任的思想内涵，尽展形式多样、生动活泼的文艺轻骑队风采。舞蹈《春风满军营》《练练练》，男声组合《王杰的枪我们扛》《七十五厘米》，表演唱《誓死出击·我要胜利》等节目，铺展出一幅幅矢志强军、备战打仗的精武画卷，彰显了新时代革命军人苦练精兵、敢打必胜的战斗风貌。全新编排的《南湖的船党的摇篮》《南泥湾》《打靶归来》《在希望的田野上》等经典歌曲，唤起人们对激情岁月的美好回忆，引起强烈共鸣。“前进向前进，跟着必胜的信仰；前进向前进，实现复兴的伟大梦想……”领唱与合唱《光荣与梦想》《不忘初心》《一起出发》《未来已来》等歌曲，气势恢宏、催人奋进，抒发了建设世界一流军队、实现中华民族伟大复兴中国梦的壮志豪情。演出在大合唱《三大纪律八项注意》中结束，表达了人民军队坚定维护核心、坚决听从指挥的如磐信念。\\n许其亮、张又侠、范长龙、常万全、魏凤和、李作成、苗华、张升民、赵克石、吴胜利、马晓天一同观看。\\n观看演出的还有军委机关各部门、驻京大单位领导和驻京部队官兵代表。\\n']\n",
            "[0, 0, 0.9999893, '中共中央总书记、国家主席、中央军委主席习近平2日在京接见武警部队第三次党代表大会全体代表，代表党中央和中央军委，对武警部队第三次党代会的召开表示热烈的祝贺，向各位代表和武警部队全体官兵致以诚挚的问候。\\n下午3时30分许，习近平来到人民大会堂北大厅，全场响起热烈掌声。习近平同代表们亲切握手。\\n武警部队第三次党代会是在党中央决定调整武警部队领导指挥体制后，经中央军委批准召开的。会议的主要任务是：全面贯彻习近平新时代中国特色社会主义思想和党的十九大精神，深入贯彻习近平强军思想，认真落实习主席对武警部队的训词要求，积极适应新时代新使命新体制，总结工作，分析形势，部署任务，动员广大官兵坚定不移走中国特色强军之路，努力建设强大的现代化武装警察部队，坚决完成党和人民赋予的新时代使命任务。习近平高兴地同大家合影留念。\\n许其亮、张又侠和魏凤和、李作成、苗华、张升民等参加接见。\\n']\n",
            "[0, 0, 0.99998856, '国家主席习近平2月2日同意大利总统马塔雷拉互致贺电，祝贺中意合作的电磁监测试验卫星（张衡一号）在酒泉发射成功。\\n习近平在贺电中指出，中意两国在电磁监测试验卫星项目合作中取得的重大成果，是中意全面战略伙伴关系的重要体现，将有力提升两国利用航天技术对地球电磁环境的监测能力和水平，为地震预警、防灾减灾发挥重要作用，服务两国经济社会发展。中方高度重视中意关系，愿同意方一道努力，加强两国各领域交流合作，推动中意全面战略伙伴关系深入发展，更好造福两国和两国人民。\\n马塔雷拉在贺电中表示，电磁监测试验卫星的成功发射是两国重要合作成就，体现了双方在科研领域的坚实伙伴关系。意方愿同中方一道努力，推动各领域合作取得更多成果。\\n']\n",
            "[0, 0, 0.999989, '31日，中共中央政治局常委、国务院总理李克强主持召开座谈会，听取教科文卫体界人士和基层代表对《政府工作报告（征求意见稿）》的意见建议。\\n国务院副总理张高丽，中共中央政治局常委、国务院副总理汪洋出席。\\n会上，9位代表发了言。李克强说，在以习近平同志为核心的党中央领导下，我国各项事业取得来之不易的成就。要进一步释放人民群众的智慧和力量，进一步解决好人民群众最关心最直接最现实的利益问题。\\n武汉大学窦贤康、西湖高等研究院施一公、中科院陈志明就教育均衡、人才培养、基础研究等提了建议，李克强说，推动高质量发展需要高素质人才，要创造公平环境，支持高水平公办、民办教育发展。要进一步完善政策，把基础研究的“冷板凳”捂热，没有数理化等基础学科的“深蹲助跑”，就无法实现原始创新和技术突破的“起跳跨跃”。\\n敦煌研究院樊锦诗、演员黄渤就保护文化遗产、发展影视产业谈了看法。李克强说，要用科技手段保护好传统文化遗存，多出品位格调高的文化产品，使中华优秀文化传承光大。泰达心血管病医院刘晓程、中国女排郎平就深化医改和全民健身提了建议。李克强说，医疗卫生和体育健身是健康中国大厦的重要支柱，要增加社会领域服务短板供给，提升群众生活品质。\\n来自湖南浏阳家庭农场的孔蒲中和山西临猗快递的李朋璇提了建议。李克强说，要培育新型农业经营主体，支持快递等新产业新业态发展，政府要以人民为中心，倾听民声，在与社会良性互动中改进工作。\\n刘延东、马凯、杨晶参加。\\n']\n",
            "[0, 0, 0.99998856, '全国人大常委会委员长张德江2日在人民大会堂与毛里求斯国民议会议长哈努曼吉举行会谈。\\n张德江说，中国与毛里求斯传统友谊深厚。长期以来，两国关系始终健康顺利发展。双方政治互信不断增强，各领域务实合作成果丰硕，在国际和地区事务中密切配合。习近平主席高度重视发展中国同非洲友好合作关系。中非合作论坛约翰内期堡峰会召开两年多来，中毛积极落实峰会成果，不仅促进了毛里求斯及非洲发展，也带动了中非合作转型升级。希望双方继续用好中非合作论坛和“一带一路”两大平台，全面推进中毛友好合作，更好造福两国和两国人民。\\n张德江说，中国全国人大同毛里求斯国民议会长期保持良好的合作关系。希望双方继续积极开展治国理政经验交流，在涉及彼此核心利益和重大关切问题上相互支持，不断巩固两国关系的政治基础；支持本国政府为深化两国关系出台相应政策举措，为双方务实合作提供可靠的法律和政策支持；积极发挥广泛联系人民的优势，促进双方文化、教育、旅游等领域交流，不断夯实两国友好的社会基础。\\n哈努曼吉说，毛里求斯国民议会重视发展与中国全国人大的友好关系，愿以双方合作谅解备忘录的签署为契机，进一步加强各层级交往，积极推动各领域务实合作，为两国关系发展注入新的活力。\\n张德江和哈努曼吉还共同出席了中国全国人大与毛里求斯国民议会合作谅解备忘录的签字仪式。\\n王晨参加上述活动。\\n']\n",
            "[0, 0, 0.9999885, '2018年对台工作会议1日至2日在京举行。中共中央政治局常委、国务院副总理汪洋出席会议并讲话。他强调，深入学习贯彻党的十九大精神和习近平总书记对台工作重要思想，是当前及今后一个时期对台工作的首要政治任务。习近平总书记对台工作重要思想是习近平新时代中国特色社会主义思想的重要组成部分，是开展新时代对台工作的基本遵循和行动指南。我们必须长期坚持、一以贯之，在学懂弄通做实上下功夫，在对台工作中坚决贯彻落实，推动对台工作在新时代有新气象、新作为。\\n汪洋表示，党的十八大以来，以习近平同志为核心的党中央准确研判形势、科学决策部署，主导两岸关系大局。在各地区各部门共同努力下，对台工作稳中有进，经受了重大考验，取得了重要进展。\\n汪洋指出，当前及今后一个时期台海形势更加复杂严峻，对台工作面临风险挑战。要坚持一个中国原则和“九二共识”，坚决反对和遏制任何形式的“台独”分裂，积极扩大两岸经济文化交流合作，持续深化两岸经济社会融合发展，逐步为台湾同胞在大陆学习、创业、就业、生活提供与大陆同胞同等的待遇，推动两岸同胞共同弘扬中华文化，促进心灵契合。\\n汪洋强调，我们要更加紧密地团结在以习近平同志为核心的党中央周围，不忘初心，牢记使命，以时不我待、只争朝夕的精神状态，奋发有为，攻坚克难，贯彻落实好中央对台决策部署，为推动两岸关系和平发展、推进祖国和平统一进程作出新贡献。\\n杨洁篪主持会议。\\n']\n",
            "[0, 0, 0.9999882, '中共中央政治局常委、中央巡视工作领导小组组长赵乐际2日出席十九届中央第一轮巡视工作动员部署会并讲话。会议传达学习了习近平总书记关于巡视工作重要指示精神。赵乐际强调，要深入学习贯彻习近平新时代中国特色社会主义思想和党的十九大精神，落实十九届中央纪委二次全会部署，运用好党的十八大以来巡视工作成功经验，在坚持中深化、在深化中发展，扎扎实实做好十九届中央巡视工作。\\n赵乐际指出，要牢牢把握政治巡视定位，自觉以习近平新时代中国特色社会主义思想为指导，坚决维护习近平总书记党中央的核心、全党的核心地位，坚决维护党中央权威和集中统一领导。要深入监督检查各级党组织和党员领导干部践行“四个意识”、贯彻党章和党的十九大精神情况，保证全党统一意志、统一行动、步调一致前进。要在党的全面领导上聚神、加强党的建设上聚力、推进全面从严治党上聚焦，切实解决党的观念淡漠、组织涣散、纪律松弛、管党治党宽松软等问题。\\n赵乐际强调，要着力发现违反政治纪律和政治规矩、领导干部腐败、群众身边不正之风、违反中央八项规定精神、干部不担当不作为、违规选人用人等突出问题。做深做细基础工作，高质量完成一届任期内巡视全覆盖任务。构建上下联动监督网，使巡视巡察制度更加科学、更加严密、更加有效。按照信念过硬、政治过硬、责任过硬、能力过硬、作风过硬要求，打造高素质专业化巡视队伍。\\n杨晓渡主持会议，陈希宣布十九届中央第一轮巡视组长授权任职及任务分工决定。\\n']\n",
            "[0, 0, 0.99998474, '经党中央批准，十九届中央第一轮巡视将对河北、山西、辽宁、黑龙江、江苏、福建、山东、河南、湖南、广东、海南、四川、贵州、宁夏、住房和城乡建设部、商务部、文化部、海关总署、国家体育总局、国家食品药品监督管理总局、国家统计局、新华社、中国核工业集团有限公司、中国华电集团有限公司、中国远洋海运集团有限公司、中粮集团有限公司、中国通用技术（集团）控股有限责任公司、中国储备粮管理集团有限公司、中国旅游集团公司、中国邮政集团公司等30个地方、单位党组织开展常规巡视。根据《中国共产党巡视工作条例》规定，对第一轮巡视省区涉及的沈阳、大连、哈尔滨、南京、厦门、济南、青岛、广州、深圳、成都等10个副省级城市党委和人大常委会、政府、政协党组主要负责人，一并纳入巡视范围。\\n']\n",
            "[0, 0, 0.99998224, '应韩国总统文在寅和国际奥委会主席巴赫邀请，中共中央政治局常委韩正将作为国家主席习近平特别代表赴韩国，出席于2月9日在平昌举行的第23届冬季奥林匹克运动会开幕式。\\n']\n",
            "[0, 0, 0.99998844, '党的十九大报告指出，要增强改革创新本领，保持锐意进取的精神风貌。正处在转型发展关键期的山西，在习近平新时代中国特色社会主义思想指引下，瞄准前进路上最重的担子，最难啃的骨头，在多项重大改革上全面发力。\\n正值隆冬，山西省为期五十天的全省干部大调研却让三晋大地一片火热。省市县三级干部共三万余人全覆盖式的调研，目的只有一个，深入一线摸实情，寻找改革发力点，谋划发展新格局。\\n以习近平新时代中国特色社会主义思想为指引，山西在这场大调研中，要求全省干部不回避问题，不回避难题。\\n山西因煤而兴，也曾经受煤所累。瞄准发展目标，山西在深化供给侧结构性改革上发力。眼下，在同煤集团大斗沟矿，工人们正在井下拆除最后的轨道和管线，春节后，这座煤矿将被彻底关闭。\\n而与此同时，同煤集团8座千万吨级现代化矿井集群正在抓紧建设。\\n深化供给侧结构性改革，山西把打造国家转型综改试验区作为重要抓手。为了在新兴产业上谋求突破，营商环境上的一系列配套改革正在加速跟进。在转型综改示范区内，企业投资项目审批已经由26个公章，简化为一枚审批专用章。\\n现在，位于太原和晋中的转型综改示范区内，已吸引了62个项目落地，总投资额近千亿元。\\n瞄准发展目标，山西在监察体制改革上动真格、重实效。十九大后，在加强党对反腐败工作统一领导等八个方面，都推出相应改革举措，为全省转型发展营造良好政治生态。去年末，山西向乡镇派驻监察员这项工作，就得到了干部群众的好评。\\n瞄准发展目标，山西一系列民生领域改革也向纵深推进。十九大后，山西全省119个县级医疗集团全部挂牌运行，住房租赁市场展开试点，环境容量指标实现应用。\\n2018年，山西推出30多项改革试点清单，努力用改革创新打开转型发展新天地。\\n']\n",
            "[0, 0, 0.99997133, '这两天，由中共中央宣传部、中国文学艺术界联合会主办的“我们的中国梦——文化进万家”文化文艺小分队慰问演出走进陕西铜川，为人们带来一场场文化演出。\\n1日晚上，慰问演出在歌舞表演《盛世欢歌》中拉开序幕，艺术家们带来相声、口技、快板等表演，精彩纷呈的节目赢得了观众的阵阵掌声。\\n文化下基层，情浓年更浓。活动期间，文化文艺小分队来到照金镇北梁村、小丘镇原党村等地送春联慰问。为助力铜川耀州区打赢脱贫攻坚战，晚会现场，慰问小分队还为乡亲们赠送了电脑、电视、台历和挂历。\\n']\n",
            "[1, 1, 0.9985566, '财政部、环保部等四部门近日联合印发通知，由中央财政拿出180亿元作为对长江经济带生态保护修复奖励资金，推动长江经济带上下游11省市建立流域横向生态补偿机制。 \\n']\n",
            "[1, 1, 0.9983662, '中国物流与采购联合会今天发布的1月份中国物流业景气指数为54.2%，受季节性因素影响，较上月有所回落，但由于节日备货以及居民消费增加等因素的影响，食品和农副产品相关市场较为活跃。\\n']\n",
            "[0, 1, 0.99996704, '今天15时51分，我国在酒泉卫星发射中心用长征二号丁运载火箭将电磁监测试验卫星“张衡一号”发射升空，卫星顺利进入预定轨道。“张衡一号”卫星主要用于监测全球空间电磁场等物理现象，它的成功发射，使我国成为世界上少数拥有在轨运行高精度地球物理场探测卫星的国家之一。\\n']\n",
            "[1, 1, 0.9981651, '最高人民法院与中央电视台联合举办的“2017年推动法治进程十大案件”评选活动揭晓，徐玉玉被电信诈骗案、于欢故意伤害案等案件入选。入选的案例涵盖刑事、民事、行政、审判监督等多个司法审判领域。\\n']\n",
            "[1, 1, 0.99588084, '外交部海南全球推介活动今天在北京举行，主题是“新时代的中国：美好新海南 共享新机遇”。来自160多个国家和国际组织的240多位外交官出席推介活动。\\n']\n",
            "[1, 1, 0.99797535, '国际大体联执委会今天宣布，福建晋江获得2019-2025年连续四届“国际大体联世界杯”举办权。这项世界大学生最高级别的足球赛，每两年举办一届。\\n']\n",
            "[1, 1, 0.9981613, '今天是第22个“世界湿地日”，中国主场宣传活动在广州海珠国家湿地公园举办，今年主题为“湿地——城镇可持续发展的未来”，我国新增8个国际重要湿地，自此我国国际重要湿地已达57个。\\n']\n",
            "[1, 1, 0.9988539, '近日，黄河山西平陆段出现大面积结冰现象，从高空俯瞰，冰层与栖息越冬的大天鹅们交织在一起，形成一道独特的冬日黄河美景。今年来这里越冬的大天鹅已达8000只左右。\\n']\n",
            "[1, 1, 0.9815298, '中共十九大精神对外宣介团近日先后访问了奥地利、荷兰和瑞典。访问期间，宣介团全面介绍了中共十九大有关情况和主要成果，重点阐释了习近平新时代中国特色社会主义思想的丰富内涵和习近平总书记提出的人类命运共同体理念。\\n当地政界、智库、媒体等人士积极评价中共十九大的世界意义，表示希望抓住中国发展带来的机遇，进一步加强在“一带一路”框架下的互利合作。\\n']\n",
            "[1, 1, 0.9622251, '1日，国际体育仲裁法庭对39名俄罗斯运动员的上诉请求作出裁定，推翻了此前国际奥委会的处罚决定。国际体育仲裁法庭认为，其中28人的案件证据不足，取消处罚，并恢复他们在索契冬奥会上的成绩。另外11人被证明违反了反兴奋剂条例，但处罚由终身禁止参加奥运会改为禁止参加平昌冬奥会。\\n俄罗斯总统普京对28名俄运动员被取消处罚表示欢迎，称这证明了大部分俄罗斯运动员是清白的。\\n']\n",
            "[2, 2, 0.97928107, '土耳其军方1日说，已经基本控制叙利亚阿夫林北部区域。自上月20日“橄榄枝行动”开始以来，土耳其军队共击毙了约790名武装人员，其中包括库尔德武装和极端组织成员。土耳其军方同时还打击了伊拉克境内的库尔德武装。\\n而随着土耳其在叙利亚境内战事的推进，土耳其东南部边境城镇多次遭到来自叙利亚境内火箭弹的袭击，造成4人死亡，60多人受伤。 \\n']\n",
            "[1, 2, 0.9898527, '2月2日是斯大林格勒保卫战胜利75周年纪念日。当天，俄罗斯在当年的斯大林格勒、也就是现在的伏尔加格勒，举行隆重的阅兵纪念活动。俄罗斯各军种徒步方队、武器装备编队、飞行编队等依次接受检阅，其中包括S-300反导系统、卡-52武装直升机、苏-30战机等先进装备。受阅方队及装备均来自俄罗斯南部军区。\\n斯大林格勒保卫战扭转了苏德战场的攻守态势，被认为是二战的转折点。\\n']\n",
            "[2, 2, 0.997872, '1日，美国洛杉矶一所中学教室内发生枪击案，2名学生中枪，另有3人在混乱中受轻伤。一名15岁男生被击中头部，伤势严重，但没有生命危险。警方在事发后拘捕了一名12岁少女，并查获了她携带的枪支。警方称这名少女是枪击案“相关人”。\\n据统计，2017年，全美共发生65起校园枪击案。今年仅截至2月1日，全美就已经发生了14起校园枪击事件。\\n']\n",
            "[0, 0, 0.99998903, '习近平总书记在十九大报告中提出，实施乡村振兴战略，要坚持农业农村优先发展，加快推进农业农村现代化。在习近平新时代中国特色社会主义思想指引下，我国大粮仓黑龙江省加快农业供给侧结构性改革，大力发展现代农业，当好维护国家粮食安全的“压舱石”。\\n这两天，北大仓的粮食收储进入了春节前的高峰期。2017年，黑龙江省粮食产量超过了1200亿斤，继续保持全国第一，实现“14连丰”。站在新起点，黑龙江农业该怎么干？2018年省委的决定是，全面实施乡村振兴战略，争当新时代农业现代化建设排头兵。\\n当好维护国家粮食安全的“压舱石”，发力点是加速现代农业转型升级。目前，黑龙江已经有1400个现代农机合作社，实现了土地的大规模连片机械化种植。今年，黑龙江的目标是建设1000公里高标准科技示范带，创建省级科技园100个。现在趁着农闲，大家正在学习种植技术。\\n不仅多种粮，还要种好粮。今年，黑龙江将进一步深化农业供给侧结构性改革，主打优质高效作物、绿色食品等。最近，黑龙江省委深改组出台文件，提出做强做优绿色食品产业，为今年春耕指明了方向。\\n种出好粮，还要卖出好价钱，让农民有更高收入。为促进小农户与现代农业有效衔接，黑龙江省通过组织推介会、搭建网络平台等办法，引导农户主动对接市场。黑龙江政府打造的粮食销售电商平台“大米网”已覆盖全省8800多个行政村，新年首月销售额超8亿元。\\n当好“压舱石”，还得有好的制度保障，按照十九大报告的精神，黑龙江正在积极推进农村集体产权制度改革，农村集体资产股份权能改革经验正在推广，土地确权登记，农村承包地“三权”分置改革正在进行。\\n']\n",
            "[0, 0, 0.9999889, '全国人大常委会委员长张德江3日上午在人民大会堂出席香港特别行政区政府和香港“一带一路”总商会联合举办的“国家所需、香港所长——共拓‘一带一路’策略机遇”论坛并发表主旨演讲。\\n张德江指出，习近平主席提出共建“一带一路”倡议5年来，在各方共同努力下，“一带一路”从理念转化为行动，从愿景转变为现实。政策沟通不断深入，国际影响与日俱增；设施联通不断加强，陆海天网立体发展；贸易畅通不断提升，合作纽带日益巩固；资金融通不断扩展，多元投融资支撑体系加快建设；民心相通不断深化，人文交流丰富多彩。\\n张德江表示，支持港澳参与和助力“一带一路”建设，是贯彻落实中共十九大精神的重要举措。希望香港各界人士和内地有关机构、企业在共同推进“一带一路”建设的过程中，瞄准国家所需，主动对接国家发展战略；发挥香港所长，合力提升优势互补效应；增强创新意识，不断打造多元合作平台；弘扬丝路精神，积极促进人文交流。\\n香港特别行政区行政长官林郑月娥在致辞中表示，习近平主席去年在达沃斯论坛上发表的演讲得到了国际社会普遍欢迎。香港将以“一国两制”为根，融入国家发展大局，充分发挥区位、先发、专业化服务和人文等优势，在金融与投资、基础设施建设与航运、经贸交流与合作、民心相通、推动粤港澳大湾区建设、加强对接合作与争议解决服务等方面担当重要角色，为推动“一带一路”建设和国家发展作出新贡献。\\n杨洁篪、王勇、陈元以及中央有关部门、部分内地企业负责人、商会组织代表出席了论坛和有关活动。\\n']\n",
            "[0, 0, 0.9999878, '乡村振兴，产业兴旺是重点。新战略新开局，各部门、各地区共同发力，加快实现我国由农业大国向农业强国转变。\\n今年是实施乡村振兴战略的开局之年，农业部启动“农业质量年”行动，其中的重要举措就是新制订修订农药残留标准1000项，并增加100个果菜茶生产大县开展有机肥替代化肥试点。\\n国家政策引导着农业发展方式转变，在茶叶生产大县安徽金寨，当地严格了绿色发展补贴机制，过去茶农只要申请使用有机肥就能领到补贴。如今，只有茶园土壤和茶树叶片通过检测，补贴资金才会入卡。\\n今年，国家将实施质量兴农战略；10个省份作为试点探索农产品质量安全追溯示范；200个县全面推进畜禽粪污资源化利用。\\n中央在提升农业发展质量、做大做强农业的同时，还加快培育乡村发展新动能。构建农村一二三产业融合发展体系，大力开发农业多种功能，让农民合理分享全产业链增值收益。\\n就在前些天，国家发改委、农业部等七部门联合启动首批国家农村产业融合发展示范园创建，148个示范园探索农村一二三产业融合发展。四川仁寿示范园依托当地枇杷特色产区的第一产业优势，扩建枇杷加工基地，做强第二产业，同时吸引农民将枇杷园、闲置房屋等入股，发展第三产业乡村旅游。\\n乡村振兴战略，为新时代的农业发展绘制出路线图。到2020年，农业综合生产能力稳步提升，农业供给体系质量明显提高，农村一二三产业融合发展水平进一步提升；到2035年，农业结构得到根本性改善；到2050年，农业强的目标全面实现。\\n']\n",
            "[0, 0, 0.99998784, '今年，国家将制定打赢蓝天保卫战三年作战计划，确保大气污染治理在2020年取得更大成效。\\n《大气污染防治行动计划》发布实施5年来，第一阶段全国空气质量改善目标目前已经全面实现。2017年，全国74个重点城市优良天数比例为73.4%，比2013年上升7.4个百分点，重污染天数比2013年减少51.8%。但总体来看，我国空气污染情况依然严峻。\\n今年，国家将制定打赢蓝天保卫战三年作战计划，重点治理区域是京津冀及周边、长三角、汾渭平原，将加快产业结构、能源结构和运输结构调整，狠抓秋冬季重污染天气应对。争取2018年PM2.5未达标的地级及以上城市平均浓度同比下降2%，到2020年，全国地级及以上城市优良天数比例达到80%。\\n今年，环保部还将开展第一轮中央环保督察整改情况“回头看”。针对污染防治攻坚战的关键领域，组织开展机动式、点穴式专项督察。全面开展省级环保督察，基本实现地市级城市督察全覆盖，推进环境保护督察完善化制度化。\\n']\n",
            "[0, 0, 0.99998784, '新春将至，年味渐浓。我们的记者继续走进基层、深入一线，为您记录节日里的喜庆祥和，一起迎接新时代的明媚春天。从今天起，《新闻联播》推出“新春走基层”系列报道。\\n青海化隆回族自治县属于六盘山集中连片特困地区，一直都是国家扶贫开发的重点县。近些年来，在政府的大力扶持下，化隆县从一碗拉面里找到了独具青海特色的脱贫致富新路子，帮助超过5万贫困群众改变了命运。\\n正午的广州，食客攒动，作为一种中式快餐，遍布在广州市区近1700家的青海化隆拉面，如今已经在这个美食之都占有了一席之地。这间开在机场旁边的小拉面店虽然位置有些偏僻，但平均每天也有800到1000元的营业收入。两年前，老板苗金财还在家乡放羊，2016年，37岁第一次走出大山，苗金财一脚就迈进了广州城。\\n青海省海东市化隆回族自治县是苗金财的家乡，这个国家级贫困县位于全国14个集中连片特困地区的六盘山区。2016年，化隆县财政拿出4000万元推广拉面“带薪在岗实训+创业”计划，苗金财和妻子马玉花就是第一批1020名精准扶贫对象的受益者。\\n像这样的培训会每个月至少都要举办一次，鼓励农村富余劳动力积极学习拉面技术之外，最重要的还是要吸引建档立卡的贫困户能尽快加入这个精准扶贫计划。\\n“带薪在岗实训+创业”计划的扶贫资金按人头精准分配，政府拨款给安排贫困户实训的拉面店7000元，用于拉面技能培训，获得资金的拉面店要保证贫困户在打杂跑堂期间每人每月不低于2500到3000元的收入。除此之外，政府还要连续两年每年奖励精准扶贫户5000元，如果两年内学会了拉面自己想开店，政府再提供5万元3年的贴息贷款。一年下来，苗金财和妻子不仅学会了手艺，还攒下了6万块钱。\\n“一人拉面全家致富”的背后是一场更大的拉面产业布局。1月26日，化隆县召开重要会议，分布在全国各地的拉面办主任都赶回县里集中述职，还要签订新一年的工作目标责任书。2018年，辐射全国1.5万家化隆拉面店的“中央大厨房”要正式在广州、上海等大城市启动清真食品统一配送的试点工作。\\n位于化隆县西部的海北藏族自治州也属于集中连片贫困地区，“拉面扶贫”也正在影响这里。\\n马青云，青海扶贫拉面产业培训服务中心负责人，今年中心要为全国各地的拉面店统一冷链配送牛羊肉，其中有1万只就将来自青海湖边的这个天然草场。\\n2017年，遍布在全国270多个大中城市的青海化隆拉面，实现营业性收入120亿元。以生态养殖为生的牧民们，今年因为这碗拉面，也开始和几千公里之外的世界产生了联系。\\n']\n",
            "[0, 0, 0.99997663, '进入春运三天来，铁路客流持续增加，今天全国铁路预计发送旅客880万人次。重点车站、热门线路推出一系列贴心服务，进一步提升旅客的出行体验。\\n最新数据显示，自春运售票启动以来，全国铁路已累计发售车票3.5亿张，其中网购车票占比首次达到80%。\\n与往年不同的是，今年九成以上的旅客在网购车票时不需要再填写验证码。不光是买票不用出门，进站时间也进一步压缩。在北京南站，京沪高铁和京津城际的七个快速进站厅全部开启。\\n今年春运，广州首次实现刷脸上车，在广州南站的广珠城际线上，旅客在验票上车的闸机口前站立一秒钟，就会自动验证通行。\\n首次投入春运的复兴号列车进一步扩大开行范围，上海等长三角地区新增17对复兴号列车，不光是旅客乘车更加舒适，沿线车站的智能监控系统也成为旅客返乡路上的好帮手。几天前，陈先生一家在南京南站准备检票候车时，突然发现小儿子不见了，接警后，铁路警方立即启动智能监控系统。\\n经过多方努力，陈先生一家人终于团聚，顺利踏上了回家的路。\\n']\n",
            "[0, 0, 0.99998784, '岁末年初，各地各部门又到了年终考核的时候，为了防止“材料出政绩”等形式主义、官僚主义，湖北省委、省纪委加强了对实际工作现场的检查。\\n群众是否满意，成了湖北省落实党风廉政建设责任制年终考核的一项重要指标。\\n在2017年度的年终考核中，湖北省一方面通过考核组牵头测评进行明察，另一方面通过实地暗访掌握第一手情况，明察与暗访的结果互相印证，不仅让考核成绩更加真实，更让群众手中握有了官员政绩考核的发言权。\\n在落实党风廉政建设责任制年终考核的部署中，湖北省要求各级考核组坚决改掉坐会议室、听汇报、看材料的模式，将更多的时间和精力投入明察暗访，通过下沉基层，以下看上，对照检查工作落实情况，紧盯是否存在层层重复开会、以会议落实会议以及写材料、制文件机械照抄，出台制度决策“依葫芦画瓢”等问题。\\n湖北省一系列年终考核的改革措施不仅让基层干部不再疲于迎接检查，而且可以抽出精力，更高质量地落实各项工作，也使得考核的指挥棒作用变得更加有效、务实。\\n']\n",
            "[0, 0, 0.99998593, '李进祯，是宁夏同心县常年工作在扶贫一线的乡镇干部，去年10月，在工作岗位上突发心梗去世，年仅52岁。\\n在李进祯生命的最后时刻，面对赶来医院看他的同事，说的还是工作上的事。\\n李进祯在兴隆乡当财政所所长，是乡里的“大管家”，这里属于贫困山区，脱贫任务重，从乡里后勤保障的支出，到各类扶贫资金的发放，都需要李进祯操心。\\n2015年，村民马俊和另外4个贫苦户成为李进祯的帮扶对象。马俊家有3个孩子都在上学，家里没有收入来源，李进祯帮马俊担保贷款、发展养牛。\\n此后，李进祯多次帮马俊做担保贷款，现在马俊家已经养了17头牛，成功脱贫。在李进祯去世后，妻子王学红整理他的遗物时，看到了丈夫高中时期笔记本上的一段话。\\n']\n",
            "[0, 0, 0.9999785, '春节临近，上海开展多种形式的新春文化活动，传承中华民俗文化、展现时代风采。\\n在上海，豫园灯会迎来第24个年头，今年的主题是“新时代美好生活”。\\n写春联、送福字。在华东师范大学，百位学子、书法家，共同书写新年愿景。\\n同时，上海“红色文艺轻骑兵”开展慰问演出和文化惠民活动将超过200场。\\n']\n",
            "[1, 1, 0.99837506, '中国黄金协会今天最新数据显示，2017年我国黄金产量426.142吨，与去年同期相比，减产27.344吨，同比下降6.03%，但仍然连续11年保持世界第一。\\n']\n",
            "[1, 1, 0.9984704, '今天，西藏公路特长隧道矮拉山隧道顺利贯通。该隧道全长4800米，位于国道317线西藏昌都江达县，是四川进入藏东地区的重要通道。\\n']\n",
            "[1, 1, 0.9987994, '在海关总署的统一指挥下，福州海关近日联合多地海关，开展打击走私活体山羊专项行动，抓获37名犯罪嫌疑人，打掉3个从中缅边境走私山羊犯罪团伙。\\n']\n",
            "[1, 1, 0.99815506, '第二十四届四川自贡国际恐龙灯会昨晚开幕，130余组大中型彩灯照亮夜空。今年，灯会的部分灯组使用了废旧玻璃药瓶等环保材料，凸显绿色环保理念。\\n']\n",
            "[2, 1, 0.8778723, '国际残奥委会2日宣布，邀请朝鲜参加2018年平昌冬季残奥会。\\n国际残奥委会方面表示，如果朝鲜接受邀请，朝鲜代表团可与韩国代表团在3月举行的冬残奥会开幕式上举“半岛旗”共同入场，这也将是朝韩双方在残奥会上首次共同入场。国际残奥委会还表示，朝鲜2名残疾人滑雪运动员将获得外卡参赛资格。\\n平昌冬残奥会定于3月9日到18日举行。截至目前，朝鲜方面尚未对是否接受国际残奥委会的邀请作出表态。此前，朝鲜从未参加冬季残奥会。\\n在冬残奥会之前，第23届冬季奥运会定于本月9日到25日首先在平昌举行，届时朝韩代表团将共同入场。而据韩国平昌奥组委2日发布的消息，韩国和朝鲜运动员村入村仪式分别定在7日和8日举行。朝鲜参赛选手共有22人，其中包括与韩国组建联队的女子冰球选手12人。韩国则派出144名选手参赛。\\n此外，据朝中社3日报道，按照朝韩双方1月达成的共识，朝鲜和韩国滑雪运动员1月31日和2月1日在朝鲜马息岭滑雪场进行了各种滑雪技术动作的共同训练。\\n']\n",
            "[2, 2, 0.99743575, '美国国防部2日发布新版《核态势评估》报告，要求美政府研发新型核武器，提高核威慑力。报告提出要在近期改进部分潜射弹道导弹，使其可以搭载低当量核武器，远期将发展一种可携带核弹头的舰载巡航导弹。报告还允许美国扩大核武器的使用情景，不排除在未受到核打击时率先使用核武器。\\n不少核武专家担心，报告夸大了美国面临的威胁，提出了不切实际的计划，恐向国际社会传递错误信号，引发新一轮核竞赛。\\n']\n",
            "[2, 2, 0.9939475, '土耳其军方2日发表声明说，土耳其军队1月20日在叙利亚北部阿夫林地区开展军事行动以来，已经打死了823名武装分子，包括叙利亚库尔德武装、库尔德工人党和极端组织成员等。\\n土耳其认为叙利亚库尔德武装是被土政府列为恐怖组织的库尔德工人党在叙利亚的分支。叙利亚政府则强烈谴责土耳其在阿夫林发起军事行动，认为这是对叙利亚主权的“野蛮侵犯”。\\n']\n",
            "[2, 2, 0.99581355, '巴勒斯坦总统府2日发表公报说，巴方呼吁建立新的国际多边机制推动停滞多年的巴以和谈。公报说，巴方有恢复和谈意愿，以色列和美国媒体近期指责巴总统阿巴斯不愿展开和谈的说法是不负责任的。\\n巴以和谈2014年起陷入停滞状态。美国总统特朗普去年12月宣布承认耶路撒冷为以色列首都，导致巴勒斯坦强烈不满，巴美关系降至冰点。巴方表示不再接受美国作为巴以和平进程的调解方。\\n']\n",
            "[2, 2, 0.997737, '法国陆军两架直升机2日在一次军事训练中坠毁于法国东南部瓦尔省的一个湖泊附近，造成5名军方人员死亡，他们分别来自法国陆军航空学校和法国波城特种部队直升机团。\\n调查人员表示，两架直升机在起飞后很短时间内就坠毁了，有可能是在空中发生了碰撞。不过坠毁的具体原因目前仍在调查中。\\n']\n",
            "[2, 2, 0.99644303, '玻利维亚近日连续遭遇暴雨并引发洪灾，已造成6人死亡，全国9个省中的7省均受到影响。洪水导致大量房屋被淹，约5万居民失去家园。玻利维亚全国还有约3万多处农田受到洪水影响。由于灾情严重，玻利维亚政府已经成立了灾情紧急应对委员会，军方也参与到救灾工作中。\\n']\n",
            "[2, 2, 0.99362725, '在玻利维亚的邻国阿根廷，持续的暴雨也引发了洪水。阿根廷西北部皮科马约河部分河段决堤，沿岸至少1万居民紧急转移到避难所。\\n']\n",
            "[0, 0, 0.9999889, '习近平总书记在十九大报告中提出：创新是引领发展的第一动力。在习近平新时代中国特色社会主义思想指引下，中部省份安徽向创新型省份转变，发挥从源头创新到技术开发、成果转化、企业孵化，再到新兴产业的全链条式竞争优势，努力走出一条具有安徽特色的创新路径。\\n临近春节，合肥离子医学中心的科研人员正在抓紧对超导加速器医疗装置组装调试，这个装置将实现对肿瘤的集中定点爆破，可以避免对好细胞的破坏，其中最关键的超导部件将在节前调试完毕。\\n把核心技术转化为动力，让前沿科技受益于百姓。十九大后，站在新起点上，如何开创发展新局面，安徽的抓手是，下好创新这步先手棋。\\n要领跑，就得有领跑的项目。现在，合肥已拥有“全超导托卡马克”“同步辐射光源”“稳态强磁场”三大科技前沿装置。今年，安徽还要建设大气环境立体探测等一批新的重大科学装置，形成大科学装置集群。\\n创新离不开人才。今年，安徽省出台多项举措，提出开辟人才激励“绿色通道”、人才引进“绿色通道”、人才职称“绿色通道”，在医疗、教育、落户上全部绿灯，让创新科技人才进得来、留得住、干得好。\\n创新平台加上人才新政策，带来人才的加速流入。就在上个月，十几名海外留学博士陆续来到安徽，加入科技部承担的锂离子动力电池关键材料研发项目，攻克电池容量偏小的难题。\\n为了激发更大的活力，十九大后，安徽推出“政府投资入股、上市后股份奖励”等新型扶持方式支持企业创新。这家生产液晶玻璃基板的企业最大的受益就是在政府支持下一个国家实验室落户于此。\\n让企业成为创新主体。2018年，安徽还将开展企业研发准备金、创新券制度试点。发展科技融资担保、科技保险等新业务，重点支持科技创新企业，76项创新改革任务正全面展开。\\n']\n",
            "[0, 0, 0.9999888, '中共中央、国务院日前印发《关于实施乡村振兴战略的意见》。《意见》指出，实施乡村振兴战略，是党的十九大作出的重大决策部署，是决胜全面建成小康社会、全面建设社会主义现代化国家的重大历史任务，是新时代“三农”工作的总抓手。\\n党的十八大以来，在以习近平同志为核心的党中央坚强领导下，我们坚持把解决好“三农”问题作为全党工作重中之重，持续加大强农惠农富农政策力度，扎实推进农业现代化和新农村建设，全面深化农村改革，农业农村发展取得了历史性成就，为党和国家事业全面开创新局面提供了重要支撑。\\n《意见》强调，农业农村农民问题是关系国计民生的根本性问题。没有农业农村的现代化，就没有国家的现代化。当前，我国发展不平衡不充分问题在乡村最为突出，主要表现在：农产品阶段性供过于求和供给不足并存，农业供给质量亟待提高；农民适应生产力发展和市场竞争的能力不足，新型职业农民队伍建设亟需加强；农村基础设施和民生领域欠账较多，农村环境和生态问题比较突出，乡村发展整体水平亟待提升；国家支农体系相对薄弱，农村金融改革任务繁重，城乡之间要素合理流动机制亟待健全；农村基层党建存在薄弱环节，乡村治理体系和治理能力亟待强化。实施乡村振兴战略，是解决人民日益增长的美好生活需要和不平衡不充分的发展之间矛盾的必然要求，是实现“两个一百年”奋斗目标的必然要求，是实现全体人民共同富裕的必然要求。\\n《意见》要求，举全党全国全社会之力，以更大的决心、更明确的目标、更有力的举措，推动农业全面升级、农村全面进步、农民全面发展，谱写新时代乡村全面振兴新篇章。\\n到2020年，乡村振兴取得重要进展，制度框架和政策体系基本形成。农业综合生产能力稳步提升，农业供给体系质量明显提高，农村一二三产业融合发展水平进一步提升；农民增收渠道进一步拓宽，城乡居民生活水平差距持续缩小；现行标准下农村贫困人口实现脱贫，贫困县全部摘帽，解决区域性整体贫困；农村基础设施建设深入推进，农村人居环境明显改善，美丽宜居乡村建设扎实推进；城乡基本公共服务均等化水平进一步提高，城乡融合发展体制机制初步建立；农村对人才吸引力逐步增强；农村生态环境明显好转，农业生态服务能力进一步提高；以党组织为核心的农村基层组织建设进一步加强，乡村治理体系进一步完善；党的农村工作领导体制机制进一步健全；各地区各部门推进乡村振兴的思路举措得以确立。\\n到2035年，乡村振兴取得决定性进展，农业农村现代化基本实现。农业结构得到根本性改善，农民就业质量显著提高，相对贫困进一步缓解，共同富裕迈出坚实步伐；城乡基本公共服务均等化基本实现，城乡融合发展体制机制更加完善；乡风文明达到新高度，乡村治理体系更加完善；农村生态环境根本好转，美丽宜居乡村基本实现。\\n到2050年，乡村全面振兴，农业强、农村美、农民富全面实现。\\n《意见》还全面阐述了新时代实施乡村振兴战略的重大意义；实施乡村振兴战略的总体要求；并对提升农业发展质量，培育乡村发展新动能；推进乡村绿色发展，打造人与自然和谐共生发展新格局；繁荣兴盛农村文化，焕发乡风文明新气象；加强农村基层基础工作，构建乡村治理新体系；提高农村民生保障水平，塑造美丽乡村新风貌；打好精准脱贫攻坚战，增强贫困群众获得感；推进体制机制创新，强化乡村振兴制度性供给；汇聚全社会力量，强化乡村振兴人才支撑；开拓投融资渠道，强化乡村振兴投入保障；坚持和完善党对“三农”工作的领导等方面的工作提出了具体要求。\\n']\n",
            "[0, 0, 0.9999884, '今年的中央一号文件指出，乡村振兴，生态宜居是关键。国家持续加大生态保护力度，加强农村基础设施建设，让农村成为安居乐业的美丽家园。\\n新年新作为，今年全国全面实行湖长制，保护一湖碧水。紧随着湖长制，今年还将在全国探索推行林长制，保护全国30多亿亩森林。国家有政策，基层有实践。在浙江省安吉县余村，村里的生活污水都经过无害化处理，达标排放。垃圾实行分类集中处理，家禽进行生态绿色养殖，保护绿水青山已经成为大家的自觉行为。您现在看到的，是安吉余村村民戴淑芬结婚的场景，跟过去相比，传统的烟花爆竹声没了，代替它的是欢快的打鼓声。\\n为了保护绿水青山，2013年到2017年，中央财政5年累计安排6592亿元，支持农业生态建设。今年，开始实施农村人居环境整治三年行动，保护乡村山水田园景观，提升村容村貌。\\n生态环境好了，还要宜居。水电路气房等农村基础设施，是农民宜居的重要保障。在曾经最难走的蜀道——四川巴中市巴州区，一条总投资6.8亿元，连接深山区乡村和巴中市区的道路正在施工。\\n不仅是道路，今年，在基本解决农村饮水安全的基础上，中央投资76亿，用于巩固提升工程质量。今年，将集中力量推进建档立卡贫困户等重点对象危房改造。\\n根据中央一号文件提出的目标，到2020年，农村基础设施建设深入推进，农村人居环境明显改善，美丽宜居乡村建设扎实推进。到2035年，农村生态环境根本好转，美丽宜居乡村基本实现。到2050年，农村美的目标全面实现。\\n']\n",
            "[0, 0, 0.9999416, '云南大理至瑞丽的大瑞铁路，眼下正在紧张施工，其中的关键性工程大柱山隧道，2008年开始施工，最初预计五年完工，但是十年过去了，隧道仍未贯通。因为地质条件太复杂，预计工人们在这个隧道里还需要再奋战三年。\\n这里是云南保山与大理交界的地方，建设中的大瑞铁路从这里跨过澜沧江，这条半山腰的瀑布就来自大柱山隧道，从入口往里走4.5公里，我们来到了隧道的工作面上。\\n工人们正在侧面的岩壁上打孔泄水，水流冲得钻机都无法作业，为了换钻头，一个工友试图用身体挡一下水柱，上了两三次都失败了。\\n水压太大，工人们经常要停工等待泄水。2008年，项目负责人姜栋来到大柱山的时候，当时预计五年完工。\\n隧道里每隔不远，就放一些救生设备，以备涌水失控时，可以让工人逃生。\\n工人们正在进行的是支护作业，焊接顶上的钢板必须得抬头，可一抬头，涌出的水就遮住了眼睛，大家只能用手摸着一点点地干。隧道里的水温只有17度左右，长时间泡着，身体受不了，干一会就得去防护洞里缓一缓。\\n现在每天24小时不间断施工，可以向前推进两米，这就算快的了。之前的一个断面，他们干了两年多，平均每天才挖20厘米，涌水、突泥，在这里都是家常便饭。\\n因为特殊的地质条件，大型机械无法进场施工，14公里长的隧道，靠的大都是人工作业。原定五年的工期，十年还没干完。\\n在澜沧江边坡地上的简易工区，十年前随手种下的小树，现在已经长成了大树。当年意气风发的一群小伙子，也已经人到中年。\\n因为施工条件艰苦，十年间工人换了有四五千人，喷浆班班长老林，在这里待了七年，是工人中时间最长的一个。\\n姜栋说，和他一起已经坚守十年的工友，有一个约定，等隧道通车，一定要带着家人坐上首发车，从这里去昆明。\\n这个春节，大柱山隧道像往年一样依然24小时施工，向最后的2300米发起冲刺。大瑞铁路修通后，从大理到瑞丽的时间，将由原来的六个小时缩短为三个小时，为当地经济发展提供加速度。\\n']\n",
            "[0, 0, 0.999988, '而随着年的脚步越来越近，越来越多的人已经踏上了回家的路。这两天恰逢今年春运开始之后的第一个周末，全国各地铁路客流增幅明显，各地车站推出了多种人性化服务，让回家的路更加温暖。\\n就在春运开始前不久，福建龙岩火车站开始进行转场施工，原本接入老站台的铁路线，要一毫米都不差地接入新站台。\\n为了不耽误白天行车，转场选在晚上，出动了1500多名工人，100多台大小机械。1.5公里的作业区间内，同时展开四个作业面的施工。\\n为了这次转场快速、准确的完成，施工方已经演练了近一年。寒夜里，1500多人有条不紊地忙碌了八个半小时，第二天上午，乘客们已经在新站台上下车了。\\n这一建设速度，也引发了外国媒体的关注。英国《每日邮报》说：名副其实的高速铁路！1500名工人9小时完成新站的铁路接驳。今日俄罗斯电视台表示：震撼的速度，中国工人九小时完成新站改造。\\n今天，全国铁路共增开旅客列车697列，预计发送旅客920万人次，广州南站客流量居首，发送旅客30万人次。\\n为了让人们的春节回家路走得更顺畅，成都东站的铁路部门第一次与地铁公司联动，使铁路旅客在换乘地铁时不用再次安检，就能进站乘车。\\n在江西南昌、江苏南京等地，新增了高铁快运服务，帮助旅客把不能带入高铁，或者不想随身携带的物品，直接在火车站通过快递寄回家。\\n在甘肃兰州、浙江湖州等地，志愿服务也让那些回家路上的人们，在匆忙的旅途上多了一份依靠。辽宁盘锦火车站，把工人回家的票送到工地。河南郑州从报名的6000多人中筛选出了2000多名志愿者，在火车站、机场等地，开展应急救援、医疗救护等志愿服务。\\n']\n",
            "[0, 0, 0.99997824, '今天是24节气里的立春，春天代表生命与希望，我国各地民间在立春这天，都有很多独特的习俗，表达美好的愿望。\\n上午八点，喊春、鞭打春牛等立春特色民俗活动在北京上演，20多名小学生扮演成牛童、春姑娘，走街串巷，为沿途居民传递春天的祝福。在北京古观象台，人们用柳条鞭打“春牛”，寓意来年风调雨顺、五谷丰登。\\n迎接“立春”，黑龙江、四川等地包春卷、吃春饼，用“咬春”来祈祷新的一年有个好彩头。为了表达对来年的期望，甘肃张掖花寨乡的村民穿着节日盛装，舞起社火，喜迎立春。\\n立春这天，人们也会出城“探春”，寻找春意。辽宁绥中县百亩樱桃大棚里，满眼春色与冰天雪地形成鲜明对比。在云南洱源松鹤村，三万多亩梅花迎来盛花期，远远望去，漫山遍野，甚是好看。山东济南趵突泉公园的腊梅迎春绽放、浓香扑鼻。江西南昌的湾里区太阳谷里，人们漫步花海，感受难得的大美春光。\\n']\n",
            "[0, 0, 0.999951, '国家旅游局统计显示，今年春节，预计我国出境游人次将达到650万，规模为历史之最。文明出游将为中国加分。数据显示，部分境外受访者普遍认可中国出境游客文明素质较5年前有所提升，近半数受访者表示，中国游客的文明素质普遍有了提高。\\n未来三年，国家旅游局将选出一万名“中国好游客、中国好导游”，并创建一千个文明旅游示范企业，有效提升中国公民的文明旅游素质。\\n']\n",
            "[2, 0, 0.9770881, '国际田联世界室内巡回赛德国卡尔斯鲁厄站今天凌晨进行，在60米决赛中，身处第六道的中国短跑名将苏炳添以领先第二名近一个身位的优势夺得了自己的赛季第二个冠军，其6秒47的成绩也比自己之前所保持的亚洲纪录快了0.03秒。此前苏炳添在柏林的比赛中跑出6秒55，获得冠军。\\n']\n",
            "[1, 1, 0.9985274, '就近期局部地区出现的电煤库存下降的情况，国家发改委日前表示，发改委、交通部和铁路总公司已采取相关措施，集中力量组织运输。目前，全国统调电厂平均存煤在15天左右的合理范围。\\n']\n",
            "[1, 1, 0.99160993, '《改革开放再出发》——中央电视台“心连心”艺术团赴深圳前海慰问演出，今晚20：09在我台综合频道播出。此次慰问演出主题为“我们的中国梦”，展现了深圳经济特区改革开放以来所取得的辉煌成就。\\n']\n",
            "[1, 1, 0.9987554, '近日，55名涉嫌冒充“公检法”实施电信网络诈骗的犯罪嫌疑人，被天津公安机关从印度尼西亚押解回国，已查明的诈骗金额近550万元。\\n']\n",
            "[1, 1, 0.9925509, '中央气象台消息，今天，川西高原、贵州中西部等地有小雪或雨夹雪，云南东部、贵州西部局地有冻雨。未来三天，先后受两股弱冷空气影响，华北大部、黄淮等地将有4到6级风，阵风可达7级。\\n']\n",
            "[1, 1, 0.99882567, '黄河入海口处的山东黄河三角洲国家级自然保护区内，吸引了10万多只候鸟来此越冬，大天鹅、丹顶鹤、东方白鹳、白鹤等60多种鸟类，或在冰面、水中漫步，或在空中盘旋飞翔，给黄河口增添了生机和活力。\\n']\n",
            "[1, 1, 0.98665035, '中共十九大精神对外宣介团近日先后访问哈萨克斯坦、塔吉克斯坦和土库曼斯坦，为三国各界人士专场宣介十九大精神，着重解读习近平新时代中国特色社会主义思想的丰富内涵，以及习近平总书记在中国共产党与世界政党高层对话会上重要主旨讲话精神。\\n三国与会人士盛赞中共十九大的重大意义和丰硕成果，表示愿进一步加强与中国共产党的治党治国经验交流，推动双边关系深入发展。\\n']\n",
            "[1, 1, 0.99405897, '俄罗斯一架战机3日在叙利亚西北部伊德利卜省被恐怖组织“征服阵线”击落，飞行员丧生。\\n据俄罗斯国防部3日发布的消息，当天俄军一架苏-25战机在伊德利卜省执行对地攻击任务时被便携式防空导弹击落。俄方确认击落俄战机的导弹发射自恐怖组织“征服阵线”控制的伊德利卜省某区域。飞行员成功弹射跳伞，但在与武装分子交火中丧生。俄驻叙部队随后对该区域实施精确打击，共打死30多名“征服阵线”武装分子。\\n目前叙利亚政府军正在伊德利卜省与“征服阵线”武装分子作战。俄战机频繁在伊德利卜执行空袭任务配合叙利亚政府军的收复行动。\\n“征服阵线”当天在社交媒体上发表声明称，当时这架俄军战机正在对伊德利卜省萨拉基卜市进行空袭，一名该组织成员使用便携式防空导弹将其击落。\\n俄罗斯国家杜马也就是议会下院国防委员会副主席什维特金3日表示，此次击落俄战机的导弹显然是由叙利亚境外提供，俄方有必要对该导弹来源和该组织获得导弹的途径展开调查。\\n']\n",
            "[1, 1, 0.99456227, '国际奥委会新闻发言人3日表示，日前被国际体育仲裁法庭取消禁赛处罚的15名俄罗斯运动员在经过个人审查之后，或许有机会以被邀请的形式参加平昌冬奥会。\\n国际奥委会新闻发言人马克·亚当斯3日表示，国际奥委会将保留对解禁运动员上诉的权利，同时将成立一个专门的小组对这15人进行个人审查，然后再做出是否让他们参加平昌冬奥会的决定，最终决定会在9日平昌冬奥会开幕前公布。\\n这15人曾被判定在2014年索契冬奥会期间违反了反兴奋剂条例，受到终身禁止参加奥运会的处罚。但本月1日，国际体育仲裁法庭裁定，因证据不足接受他们的上诉，恢复了他们的成绩和奖牌，并取消对他们终身禁赛的处罚。另有13名同样被取消处罚的运动员则已经退役或因无法公布的原因不会争取参加平昌冬奥会。\\n国际奥委会去年12月5日禁止俄罗斯代表团参加平昌冬奥会，但会邀请符合条件的运动员以“来自俄罗斯的奥林匹克运动员”名义参加个人或集体项目，目前已有169名来自俄罗斯的运动员已经获得批准参加平昌冬奥会。\\n']\n",
            "[2, 2, 0.99525183, '巴勒斯坦解放组织执行委员会3日晚作出决定，落实该组织中央委员会决议，要求巴勒斯坦政府立即全面断绝与以色列的接触。直至以方承认以1967年边界为基础的巴勒斯坦国，放弃吞并东耶路撒冷，停止在约旦河西岸地区建造犹太人定居点。巴方重申，拒绝美国总统特朗普违反国际准则而强行推动解决巴以纷争的解决方案，美国应停止盲目偏袒以色列的做法。巴方不会因为美国停止援助的威胁而妥协。\\n']\n",
            "[2, 2, 0.9973128, '意大利中部城市马切拉塔3日发生一起枪击事件，至少6名非洲人受伤，其中1人重伤。凶手为一名28岁的当地男子，当地媒体报道说，这一枪击事件带有强烈的种族倾向，事件可能与几天前马切拉塔一起尼日利亚人涉嫌杀害意大利少女案有关。嫌疑人曾是极右翼政党地方选举的候选人，并在其竞选纲领中提出要“控制移民”。\\n']\n",
            "[2, 2, 0.99717885, '当地时间3日凌晨，美国俄亥俄州一列载有化学品的货运列车发生脱轨事故。该列车共有135节车厢，总长度超过1.6公里，其中有14节车厢发生脱轨。事发时，列车上有两名列车员，均没有受伤。不过导致了丙烷等化学品泄漏，附近的一条公路被临时封闭。目前事故原因尚不清楚。\\n']\n",
            "[2, 2, 0.9964169, '2日到3日，克罗地亚出现强降雪天气，部分地区的积雪最厚处达到1米，沿海地区约30个村庄的电力供应中断。从2日晚上开始，克罗地亚已发生了超过200起交通事故，多条高速公路被迫封闭。当地政府建议附近居民在恶劣天气下减少出行。\\n']\n",
            "[0, 0, 0.99998873, '习近平总书记在十九大报告中指出：加快边疆发展，确保边疆巩固、边境安全。内蒙古自治区在习近平新时代中国特色社会主义思想指引下，筑牢生态屏障和安全屏障，推动高质量发展，努力打造祖国北疆亮丽风景线。\\n这段时间，瞄准“筑牢生态屏障”这个发展目标，内蒙古各级干部正展开密集调研，摸清生态基础数据，完善发展规划，确保各项环保举措的精准。\\n作为我国北方面积最大、种类最全的生态功能区，内蒙古在新时期的生态安全屏障体系该怎样构建？对这个事关高质量发展的重大问题，十九大后，自治区重点研究部署，提出2018年要完成生态红线划定，建立河湖名录，全面实行河长制、湖长制。\\n林业生态是内蒙古生态建设的主战场。十九大后，内蒙古结合实际，规划了以大兴安岭、阴山、贺兰山——三山，沙漠、沙地——两沙，平原区、黄土丘陵区、阴山北麓风蚀沙化区、阿拉善荒漠戈壁区——四区为主的“三山两沙四区”林业生态建设主体框架。加大力度推动区域绿化及原生植被保护。今年，全区要完成造林1000万亩以上，完成沙地综合治理300万亩。\\n加快生态文明建设，内蒙古的绿色发展步伐不断提速。这个冬天，内蒙古东部第一次实现了大面积风电供热。为了实现生态美、百姓富，今年内蒙古把清洁能源、节能环保、生态旅游等作为重点打造的产业。\\n眼下，在鄂尔多斯大草原，首届冰雪那达慕火热举行，八方游客纷至沓来，带火了当地的乡村经济。绿色发展，正为当年这个因煤而兴的地方，不断注入新活力。\\n“确保边疆巩固”的发展理念，是党中央从发展全局做出的重要部署。十九大后，内蒙古也推出一系列新举措，筑牢安全屏障，提升社会治理水平。针对草原牧区地域辽阔、法律服务半径大的实际问题，自治区加快推进公共法律服务平台建设。在锡林郭勒盟苏尼特左旗，今年设立的“巡回审判联系点”，有效解决了服务农牧民群众最后一公里的问题。\\n2018年，内蒙古还将完善立体化社会治安防控体系，推进信访法治化建设，做好社会矛盾排查化解工作，进一步筑牢祖国北疆安全稳定的屏障。\\n']\n",
            "[0, 0, 0.9999891, '新华社2月4日播发通讯《让农民致富奔小康的道路越走越宽广——党的十八大以来以习近平同志为核心的党中央关心农村公路发展纪实》。\\n文章指出，党的十八大以来，习近平总书记多次就农村公路发展作出重要指示，要求建好、管好、护好、运营好农村公路，对农村公路助推广大农民脱贫致富奔小康寄予了殷切期望。近年来，“四好农村路”建设取得了实实在在的成效，为农村特别是贫困地区带去了人气、财气，也为党在基层凝聚了民心。\\n']\n",
            "[0, 0, 0.99998915, '中国传统节日新春佳节到来之际，国务院总理李克强2月5日下午在人民大会堂亲切会见在华工作的部分外国专家并同他们座谈。\\n李克强首先代表中国政府，向所有在华工作的外国专家致以诚挚问候和新春祝福。他认真听取了诺贝尔经济学奖得主菲尔普斯、德国工程院院士弗莱舍、中国科学院外籍院士霍普克罗夫特等的发言，并同他们互动交流。\\n李克强表示，在以习近平同志为核心的中共中央坚强领导下，去年中国经济稳中向好、好于预期，全年经济增长6.9%，实现7年以来首次增长加速，对世界经济增长的贡献率超过30%。经济结构持续优化，消费增长对经济增长的贡献率近60%，城镇新增就业超过1350万。下一步，我们将继续坚持稳中求进工作总基调，坚持新发展理念，推进供给侧结构性改革，建设现代化经济体系。同时应对好各种风险挑战。\\n李克强指出，今年是中国改革开放40周年。我们将以此为契机，继续全面深化改革，进一步扩大开放，加快形成全面开放新格局，推动高质量发展。\\n李克强强调，随着中国对外开放的大门越开越大，我们将实施更加积极的吸引外国人才政策，继续为各国朋友来华工作生活营造更好环境，提供更高质量的服务。落实好5至10年多次往返签证、“一证”许可、“一网”管理、扩大“绿卡”发放、放宽申请永久居留条件等便利措施。希望各位外国专家为中国发展建设建言献策，积极参与中国创新发展、产业升级、结构调整，共创共享发展机遇。\\n马凯、杨洁篪、杨晶、万钢出席上述活动。\\n']\n",
            "[0, 0, 0.9999887, '中央精神文明建设指导委员会5日上午召开第一次全体会议，中共中央政治局常委、中央精神文明建设指导委员会主任王沪宁主持会议并讲话。他表示，要坚持以习近平新时代中国特色社会主义思想为指导，增强“四个意识”，坚定“四个自信”，扎实做好精神文明建设各项工作，更好构筑中国精神、中国价值、中国力量，为在新的历史起点上进行伟大斗争、建设伟大工程、推进伟大事业、实现伟大梦想提供强大精神动力。\\n会上，中央文明委10家成员单位负责同志作了发言。\\n王沪宁表示，做好今年精神文明建设工作，要聚焦学习宣传贯彻习近平新时代中国特色社会主义思想和党的十九大精神这个主线，推动学习宣传贯彻往实里走、往深里走、往心里走，引导干部群众自觉维护习近平总书记党中央的核心、全党的核心地位，维护党中央权威和集中统一领导。要主动自觉服务党和国家工作大局，在贯彻新发展理念、推进供给侧结构性改革、打赢三大攻坚战中积极作为。要深入推进社会主义核心价值观建设，加强理想信念教育和革命精神教育，弘扬中华优秀传统文化，抓好青少年思想道德建设，深化群众性精神文明创建活动。要强化问题导向，每年扎扎实实推动解决几件实事，让群众有更多获得感、幸福感、安全感。要加强党对精神文明建设工作的领导，落实主体责任，推动新时代精神文明建设开创新局面。\\n刘延东、黄坤明出席会议。\\n']\n",
            "[0, 0, 0.9999889, '近日，中共中央办公厅、国务院办公厅印发了《农村人居环境整治三年行动方案》，并发出通知，要求各地区各部门结合实际认真贯彻落实。\\n《方案》提出，到2020年，实现农村人居环境明显改善，村庄环境基本干净整洁有序，村民环境与健康意识普遍增强。东部地区、中西部城市近郊区等有基础、有条件的地区，人居环境质量全面提升，基本实现农村生活垃圾处置体系全覆盖，基本完成农村户用厕所无害化改造，厕所粪污基本得到处理或资源化利用，农村生活污水治理率明显提高，村容村貌显著提升，管护长效机制初步建立。\\n中西部有较好基础、基本具备条件的地区，人居环境质量较大提升，力争实现90%左右的村庄生活垃圾得到治理，卫生厕所普及率达到85%左右，生活污水乱排乱放得到管控，村内道路通行条件明显改善。\\n地处偏远、经济欠发达等地区，在优先保障农民基本生活条件基础上，实现人居环境干净整洁的基本要求。\\n《方案》还就农村人居环境整治的重点任务，发挥村民主体作用，强化政策支持，扎实有序推进，保障措施等方面的工作提出了具体意见和要求。\\n']\n",
            "[0, 0, 0.9999884, '今天，国务院新闻办公室举行发布会，解读中央一号文件的相关情况。\\n中央农村工作领导小组办公室负责人介绍说，2018年中央一号文件，对实施乡村振兴战略做出全面部署，明确了总体思路、重点任务和重大政策举措。实施乡村振兴战略，是决胜全面建成小康社会、全面建设社会主义现代化国家的重大历史任务，是新时代做好“三农”工作的新旗帜和总抓手。\\n中央一号文件提出，实施乡村振兴战略，要充分体现农业农村优先发展的原则。\\n对于大家普遍关心的农村宅基地改革问题，中央农村工作领导小组办公室相关负责人表示，农村宅基地“三权分置”与承包地“三权分置”有很大不同，中央鼓励承包地经营权流转、适度集中，但宅基地就不能鼓励集中到少数人手里。在改革过程中，要坚守底线，适度放活宅基地和农房使用权。要严格实行土地的用途管制，严禁下乡利用农村宅基地建设别墅大院和私人会馆。\\n']\n",
            "[0, 0, 0.99998856, '今年中央一号文件指出，乡村振兴，生活富裕是根本。中央和地方多措并举，努力拓宽农民增收新渠道，提高农村民生保障水平，塑造美丽乡村新风貌。\\n作为乡村振兴战略的开局之年，农业部对外宣布：今年启动新型职业农民培训工程，全面建立职业农民制度。\\n趁着农闲，江苏东海抓紧培训职业“飞手”，农药精确配比，无人机精准操作，掌握了这些技能，这些职业农民就要在春耕中大显身手了。\\n为了促进农村劳动力转移就业和农民增收，今年，国家实施乡村就业创业促进行动，将高标准创建100个农村创新创业示范园。\\n在拓宽农民增收渠道的同时，中央还提升农村民生保障水平，减少农民的部分支出。今年，中央全面启动实施统一的城乡居民基本医保制度，减轻农民看病负担；中央一号文件提出，优先发展农村教育事业，全面改善薄弱学校基本办学条件。\\n在山东德州，当地组织城镇优质学校点对点帮扶农村薄弱学校，有了县城名校的老师，樊屯村小学的孩子们感受到了书法、民乐等国粹的魅力。\\n乡村振兴战略，正在为6亿农民带来更多福祉：到2020年，农民增收渠道进一步拓宽，城乡居民生活水平差距持续缩小，现行标准下农村贫困人口实现脱贫；到2035年农民就业质量显著提高，相对贫困进一步缓解，共同富裕迈出坚实步伐；到2050年，农民富的目标全面实现。\\n']\n",
            "[0, 0, 0.9999872, '近段时间，气温变化，流感来袭，各类突发疾病升高，各大医院的门诊和急诊显得格外忙碌。今天的《新春走基层》我们就来为您讲述北京大学人民医院急诊科的故事。\\n夜班医生张婷和同事们正在奋力抢救一位白血病患者。自从来到急诊科，29岁的张婷体验到了完全不同的人生。\\n就在几天前，她刚刚经历了执业以来最黑暗的一段时间。\\n张婷在自己的朋友圈里这样写道：家属激动地说医生不能理解他们。我说我们医生真的很难过，我甚至都不忍心走近你的父亲。医务工作者不是不哭不难过，只是很多时候别人看不到他们的眼泪。\\n这一夜，急诊科共接诊了100多位患者。新的一天来临，急诊室的忙碌仍在继续。\\n护士长周颖，清早来接班的第一件事就是查房。\\n急诊科里有很多这样八九十岁的病人，周颖像哄孩子一样哄着这些老人，也因此她和病人家属结下了特殊的感情。\\n医护人员的细心照料，感动了病人家属。于是，急诊科的同事就把周颖介绍给了刘建平的儿子。就这样，医患之间的相互理解，成就了一段医患佳缘。\\n婚后的周颖，应对工作中出现的各种状况，更加成熟稳重。\\n周颖耐心地等待病人发完脾气，然后心平气和地和他交流了病情。在急诊科的十年，通过自己的努力奋斗，周颖从护士做到了护士长，并在工作中收获了自己的家庭幸福，这让她更加坚定当初的选择。\\n采访的最初，我们总记不住这些“急诊人”的模样，因为她们始终戴着口罩。很多患者，也不知道是谁挽救了自己的生命。他们每天的奋斗，不仅仅是为了自己的幸福，更是为了患者们的家庭幸福。\\n']\n",
            "[0, 0, 0.9999835, '春运第五天，各地运输部门采取多种措施，保障大家平安回家。\\n老家在贵州黔东南州雷山县的余尖耶，顺利在杭州城站火车站外来务工人员专用窗口买到了回贵州的火车票。\\n今年春运，东部地区多地火车站为务工人员输出量较大的地区旅客，预留部分春运增开列车的车票。\\n票买得顺利，路上也要走得顺心。春运第五天，全国铁路预计发送旅客900万人次，加开临客740列。\\n公路方面，受降雪和路面结冰影响，江西、四川、贵州、云南和新疆五省区部分高速和国省干线局部路段一度封闭，造成车辆滞留。\\n在贵州六盘水，高速部门搭起27个临时便民服务站，给受天气影响通行受阻的司乘人员提供服务。而为了保障摩托大军返乡路走得顺畅，从广东到广西，沿途志愿服务站的队伍也在不断扩大。\\n']\n",
            "[0, 0, 0.9999792, '2017年，浙江公安、文化、扫黄打非等多部门联合整治网络游戏赌博行为，查处了一大批涉嫌网络赌博的典型案件。\\n2017年初，浙江杭州民警发现APP“战鱼德州圈”涉嫌网络赌博，该平台注册用户共计10.8万多人，遍布全国80多个地市，涉案金额上亿元。经过近7个月的侦破，先后抓获犯罪嫌疑人102人。\\n浙江警方查处的网络赌博案件大都与网络游戏平台有关。\\n2017年7月，浙江台州民警发现四川人肖某某伙同他人，架设玖发棋牌、大鱼棋牌等多个涉赌棋牌游戏平台，非法获利总额超过8.5亿元。\\n2017年7月，浙江兰溪警方发现张某某等人开设“柒零”游戏赌博网站，组织人员使用游戏积分进行赌博。\\n2014年6月以来，犯罪嫌疑人徐某等人通过运营“和天下”“千岛湖”两个棋牌游戏平台，组织赌博。\\n2017年，浙江共侦破涉及利用网络游戏网站、APP开设赌场的刑事案件21起，抓获犯罪嫌疑人653名，扣押涉案资金近10亿元。\\n']\n",
            "[0, 0, 0.9999585, '2018年央视狗年春晚今天在央视一号演播大厅进行首次全要素联排。\\n据导演组介绍，今年春晚整台节目将聚焦新风尚、振奋新精神，弘扬新梦想，着力打造欢乐、喜庆、祥和的节日气氛。晚会继续以央视一号演播大厅为核心，携手四个分会场，突出中国元素、民族符号、地域文化。\\n作为历年央视春晚的重点，语言节目将按照“讲品位、讲格调、讲责任，抵制低俗、庸俗、媚俗”的原则，讲百姓的语言、说身边的故事，抒发真切的情感，带去阖家的快乐。题材既有反映“一带一路”建设和中非人民友谊，也有体现海峡两岸人民割舍不断的同胞亲情等。节目汇集全国老、中、青三代优秀演员，让观众在欢声笑语中应接不暇。\\n而舞蹈、杂技魔术类节目则大胆创新，新创作的时代主题歌曲寓意深远、旋律优美、极易传唱,既有浓浓的中华文化韵味，也融入国际元素。\\n据介绍，今天的首次联排时长已经超过5个小时，而历年春晚的时长约4个半小时左右，也就是说通过5次联排，才能最终确定哪些节目可以登上2018年央视春晚的舞台。\\n']\n",
            "[1, 1, 0.99825144, '近日，位于三亚西南110公里莺歌海盆地超高温高压井—乐东10-2-1完成了测试作业。超高温高压钻井技术的突破对勘探开发我国南海深层油气、推进南海万亿大气区体系建设具有重要意义。\\n']\n",
            "[1, 1, 0.99865127, '我国人口最少的乡——西藏山南市隆子县玉麦乡3日连上国家主电网，结束了依靠小水电供电的历史。截至目前，西藏383个边境村实现主电网延伸覆盖，占全区边境村总数的60%。\\n']\n",
            "[2, 1, 0.8369534, '第34次南极科学考察的“向阳红01”船科考队员，4日在南极大陆附近的乔治王岛近距离观测到50多头鲸鱼，这是科考人员近期观测到鲸鱼密度最高的一次。\\n']\n",
            "[1, 1, 0.99637026, '以原新疆军区后勤部长甘祖昌先进事迹为素材的32集电视剧《初心》，今晚开始在央视综合频道黄金时段播出，该剧讲述了甘祖昌带领乡亲们艰苦奋斗，改变家乡落后面貌的感人故事。\\n']\n",
            "[2, 1, 0.989514, '据朝中社5日报道，朝鲜高级别代表团将访问韩国，出席平昌冬奥会开幕式，朝方代表团将由朝鲜最高人民会议常任委员会委员长金永南率领。韩国总统府青瓦台对此表示欢迎。\\n青瓦台发言人表示，金永南是迄今为止访韩的最高级别朝方官员。金永南访韩反映出朝鲜希望南北关系改善、冬奥会成功举办的意愿，展现了朝方富有诚意的姿态。\\n1月9号，朝韩在板门店举行高级别会谈后发表共同声明，就朝方参加平昌冬奥会、双方举行军事部门会谈等事项达成一致。朝方表示将派遣高级别代表团和民族奥林匹克委员会代表团参加平昌冬奥会。\\n朝韩双方还商定，朝方将派遣由三池渊管弦乐团140多人组成的艺术团访韩，在江陵和首尔演出。对此，韩国统一部5日说，朝方派出访韩演出的艺术团将于6日乘坐“万景峰92”号轮船抵达韩国。5日当天，由23名后勤保障人员组成朝鲜艺术团的先遣队已经入境韩国。\\n']\n",
            "[2, 1, 0.7090856, '近日，北半球不少国家和地区都遭受到了暴雪和严寒天气。俄罗斯首都莫斯科市过去两天暴雪成灾，造成1人死亡、4人受伤。\\n俄罗斯首都莫斯科3日、4日遭遇强降雪天气，积雪厚度达到62厘米，降雪量创下了本世纪以来同期最高纪录。市内大批树木和高压线被积雪压垮，局部地区出现供电中断。\\n强降雪导致市内交通事故激增，仅3日一天莫斯科就发生19起交通事故。莫斯科市出动约15000辆铲雪车，近7万名清洁工人参与除雪工作。\\n4日，西班牙包括首都马德里在内的多地普降大雪，全国有18条交通要道被迫关闭。而在斯洛文尼亚、克罗地亚和波黑，大雪伴着狂风席卷了数百个村庄，道路被切断，路上事故不断。\\n']\n",
            "[2, 2, 0.9900354, '国际奥委会5日宣布，拒绝邀请15名俄罗斯运动员、教练员参加平昌冬奥会，同时声明说，国际体育仲裁法庭取消对俄罗斯运动员禁赛的判决“没有充分的理由”。\\n由于在索契冬奥会期间违反了反兴奋剂条例，国际奥委会纪律委员会去年宣布，43名俄罗斯冬季项目运动员终身禁止参加奥运会。但国际体育仲裁法庭本月1日裁定，对提出上诉的28名俄罗斯运动员取消禁赛处罚。俄罗斯方面希望，在这28人中，15名运动员可以及时参加平昌冬奥会。\\n']\n",
            "[2, 2, 0.99640614, '美国一列客运列车4日在南卡罗来纳州行驶时与一列货运列车相撞，造成2人死亡、100多人受伤。\\n出事的客运列车上载有139名乘客和8名乘务人员。事发时客运列车的运行速度达到约每小时94公里，事发原因很可能是客运列车驶入了错误的轨道。\\n']\n",
            "[0, 0, 0.9999889, '新春佳节来临之际，中共中央总书记、国家主席、中央军委主席习近平6日下午在人民大会堂同各民主党派中央、全国工商联负责人和无党派人士代表座谈并共迎新春。习近平代表中共中央，向各民主党派中央、全国工商联新当选的领导班子成员表示热烈祝贺，向各民主党派、工商联和无党派人士，向统一战线广大成员致以诚挚问候和新春祝福。他强调，中国特色社会主义进入新时代，多党合作要有新气象，思想共识要有新提高，履职尽责要有新作为，参政党要有新面貌，引导广大成员增进对中国共产党和中国特色社会主义的政治认同，使新时代多党合作展现出勃勃生机。\\n全国政协主席俞正声，中共中央政治局常委汪洋、王沪宁、韩正出席。\\n民革中央主席万鄂湘、民盟中央主席丁仲礼、民建中央主席郝明金、民进中央主席蔡达峰、农工党中央主席陈竺、致公党中央主席万钢、九三学社中央主席武维华、台盟中央主席苏辉、全国工商联主席高云龙先后发言，分别介绍了各民主党派、工商联在中共中央亲切关怀和大力支持下，顺利召开全国代表大会、圆满完成换届工作情况以及下一步工作打算。无党派人士代表郭雷也作了发言。他们表示，将深入学习贯彻中共十九大精神，以习近平新时代中国特色社会主义思想为指导，深化政治交接，加强自身建设，围绕中共十九大确定的目标任务，发挥特色优势，积极履职尽责，为决胜全面建成小康社会、夺取新时代中国特色社会主义伟大胜利作出新的更大贡献。\\n在认真听取大家的发言后，习近平作了重要讲话。他表示，再过几天，就是中华民族的传统节日春节了。我们在这里同各位新老朋友欢聚一堂，畅叙友情，共迎新春，感到十分高兴。\\n习近平强调，2017年是党和国家发展进程中具有里程碑意义的一年，也是多党合作事业取得重大成就的一年。各民主党派、工商联和无党派人士维护中共中央权威和集中统一领导，在凝心聚力、服务大局上取得了重大成就。大家围绕“深入推进‘一带一路’建设”和“大力振兴和提升实体经济”等关系国计民生的重大问题，深入考察调研，踊跃建言献策，提出意见和建议150多件，为中共中央科学决策和有效施策提供了重要参考。同志们深入开展脱贫攻坚民主监督，为打赢脱贫攻坚战作出了积极贡献。各民主党派、工商联成功召开全国代表大会，选举产生了新一届领导班子和领导机构，为多党合作事业长远发展注入了新的活力。\\n习近平指出，2018年是全面贯彻中共十九大精神的开局之年，是决胜全面建成小康社会、实施“十三五”规划承上启下的关键之年。我们要坚持稳中求进工作总基调，统筹推进“五位一体”总体布局，协调推进“四个全面”战略布局，一步一个脚印，踏踏实实干好工作。我们要以全面深化改革的实际行动庆祝改革开放40周年，继续沿着改革开放的康庄大道奋勇前进。\\n习近平强调，学习贯彻中共十九大精神是全党全国各族人民的首要政治任务，也是各民主党派、工商联和无党派人士的首要政治任务。希望大家认真学习贯彻中共十九大精神，学懂弄通做实，自觉把思想和行动统一到中共十九大作出的重大决策部署上来，牢固树立“四个意识”，坚定“四个自信”。要认真开展“不忘合作初心，继续携手前进”主题教育活动，组织中共中央发布“五一口号”70周年系列纪念活动，重温多党合作历史，弘扬优良传统。\\n习近平指出，新时代中国特色社会主义为多党合作更好发挥作用提供了广阔舞台。希望大家把履职思路和重点统一到新时代中国特色社会主义战略部署上来，在服务大局中找准履职尽责的切入点，围绕打好防范化解重大风险、精准脱贫、污染防治的攻坚战，深入一线开展调查研究，提出真知灼见，为中共中央决策提出参考。要按照精准扶贫、精准脱贫的要求，扎实推进脱贫攻坚民主监督，为打赢脱贫攻坚战作出贡献。要引导广大成员正确认识改革发展中遇到的各种困难和问题，协助做好矛盾化解工作，为决胜全面建成小康社会营造良好社会环境。\\n习近平强调，领导13亿多人的社会主义大国，中国共产党既要政治过硬，也要本领高强。执政本领建设是中国共产党自身建设的重要方面。同志们要把参政工作做好，也要不断提高本领。要加强民主党派思想、组织、制度特别是领导班子建设，建立健全民主集中制、民主生活会制度以及各项议事决策制度，增进班子成员团结，提高各级领导班子成员的政治把握能力、参政议政能力、组织领导能力、合作共事能力、解决自身问题能力，把中国特色社会主义参政党建设提高到新水平。习近平希望工商联加强自身建设，做好代表人士教育培养，更好发挥桥梁纽带和助手作用。\\n座谈会后，习近平等党和国家领导人同各民主党派中央、全国工商联新老负责人和无党派人士代表等亲切握手。习近平等同大家合影留念。应邀出席的还有全国政协副主席董建华、何厚铧、梁振英。\\n丁薛祥、刘鹤、杨晓渡、陈希、郭声琨、黄坤明、尤权，中央有关部门负责同志参加活动。\\n']\n",
            "[0, 0, 0.9999889, '全国人大常委会委员长张德江6日在人民大会堂会见出席中蒙议会定期交流机制会议的蒙古国家大呼拉尔副主席恩赫阿木格楞。\\n张德江说，中蒙山水相依，中蒙友好符合两国和两国人民的根本利益。习近平主席高度重视发展中蒙全面战略伙伴关系。中国全国人大愿与蒙古国家大呼拉尔一道，用好定期交流机制平台，着力加强交流合作，尊重彼此核心利益和重大关切，夯实两国关系政治基础；分享治国理政和立法经验，完善务实合作的法律保障，扩大两国友好的社会基础，为双方更好把握方向、抓住机遇、面向未来，实现中蒙关系更快更好发展作出贡献。\\n恩赫阿木格愣说，蒙古国家大呼拉尔愿加强与中国全国人大的友好交往，助力两国关系发展。\\n向巴平措参加会见。\\n']\n",
            "[0, 0, 0.99998873, '中共中央政治局常委、国务院副总理汪洋6日走访在京的全国性宗教团体，向全国宗教界人士致以新春祝福。他强调，要全面贯彻党的宗教工作基本方针，坚持我国宗教中国化方向，积极引导宗教与社会主义社会相适应，团结广大宗教界人士和信教群众为全面建成小康社会、实现中华民族伟大复兴的中国梦作出新贡献。\\n汪洋分别走访了中国佛教协会、中国道教协会、中国伊斯兰教协会以及中国天主教爱国会、主教团等在京的全国性宗教团体。他指出，党的十八大以来，以习近平同志为核心的党中央坚持和发展党的宗教工作理论方针政策，充分尊重和保护宗教信仰自由，提升宗教事务管理法治化水平，支持爱国宗教团体加强自身建设，宗教工作不断创新推进。各宗教团体发挥桥梁纽带作用，在维护社会稳定和民族团结、加强自身建设、参与公益慈善、开展对外交往等方面做了大量工作。事实充分证明，宗教界和广大信教群众是建设中国特色社会主义事业的积极力量。\\n汪洋强调，宗教界要认真学习贯彻习近平新时代中国特色社会主义思想和党的十九大精神，抓好全国宗教工作会议精神和新修订《宗教事务条例》的贯彻落实，继续弘扬爱国爱教优良传统，坚持我国宗教中国化方向，深入挖掘教义教规中符合时代进步要求的积极因素，团结引导广大宗教界人士和信教群众更加紧密地团结在党和政府周围。各级党委、政府要关心、支持宗教团体建设，帮助宗教团体和宗教界人士解决实际问题。\\n尤权参加了走访。\\n']\n",
            "[0, 0, 0.9999873, '党的十九大报告中提出，要“加快建设制造强国，加快发展先进制造业，推动互联网、大数据、人工智能和实体经济深度融合。”在习近平新时代中国特色社会主义思想的指引下，湖南把智能制造作为牵引产业升级和经济转型的“牛鼻子”，紧紧围绕高质量发展，吹响了“创新湖南”的集结号。\\n地处中部的湖南既不沿边，又不靠海，如何让制造大省变为制造强省？十九大后，湖南抓住长株潭及衡阳地区作为《中国制造2025》发展示范区的机遇，把智能制造作为新形势下制造业转型升级的突破口，以推动高质量发展作为下一步经济发展的目标。\\n岁末年初，湖南制造喜讯不断。国产首台常压换刀超大直径盾构机在湖南沅江隧道投入使用。国内首台柴、电双动力作业混凝土湿喷机在中联重科下线。全球首列简化没有轨道的智轨列车即将在湖南株洲运营。一年来，湖南在制造业领域诞生的全国首台套产品数量名列全国第一，是湖南向“智能制造”转型升级的生动注脚。\\n然而，智能制造不能是支柱型大企业一枝独秀，一些中小企业往往因为缺少专业人才、转型成本过高，对升级望而却步，这是湖南迫切要破解的一个难题。\\n为此，湖南出台《智能制造工程专项行动方案》，特别是针对有升级需求的中小企业，从财税、用地等诸多方面量身定制扶植套餐。\\n像湖南宁乡这家医药装备企业，在研发传感器等智能设备的过程中，先后获得中央、省、市各级创新资金和项目资金扶持超过1亿元，在刚刚结束的2017年度国家科学技术奖励大会上，他们研发的药剂高效分装成套设备，捧回了国家科技进步二等奖。\\n今年湖南将牢牢把握智能制造这一核心，进一步夯实智能制造标准、核心支撑软件、工业互联网等智能制造三大基础，大力推进智能制造关键技术装备在制造强省12大重点产业领域的集成应用。\\n']\n",
            "[0, 0, 0.9999882, '近年来，我国的“四好农村路”建设取得重大进展。《新闻联播》从今天起推出相关系列报道，今天播出第一集《加快四好农村路建设 聚人气 添财气》。\\n阿坝州小金县是四川藏区的深度贫困县，地形地貌以高原和高山峡谷为主，因此全县一半的行政村都在偏远的高半山上。很多老百姓一辈子甚至连县城都没去过。\\n2009年，交通运输部启动定点扶贫阿坝州小金县，目前已经安排交通定点扶贫项目197个，修建、改建农村公路900多公里。就连地处海拔2600米的城门村，也成功在悬崖峭壁上开凿出唯一的出村路。\\n刚刚过去的2017年，国家进一步加大对农村公路的投资倾斜力度。安排中央投资超过950亿元，其中超过80%用于贫困地区。\\n']\n",
            "[0, 0, 0.9998874, '今天，港珠澳大桥主体工程完成交工验收。验收结果表明，港珠澳大桥主体工程质量保证体系完善，符合设计及技术规范要求，工序控制严格，工程质量可靠，具备通车试运营条件，同意交付使用。\\n港珠澳大桥主体工程集桥、岛、隧于一体，包含九洲、江海和青州三座通航斜拉桥，约20公里的非通航孔桥，6.7公里的海底隧道，以及连接桥梁和隧道的东西两座人工岛，采用双向六车道技术标准，设计速度100km/h。\\n港珠澳主体工程建设条件异常复杂，环保要求极高。项目建设涉及台风、航道、水纹、工程地质、航空限高、防洪等多方面要求，标准体系需要综合考虑内地、香港、澳门三地体系的融合。\\n接下来，港珠澳大桥管理局将配合三地完成系统联调联试，为大桥正式通车做好准备。\\n']\n",
            "[0, 0, 0.9999823, '83年前，中国工农红军“飞夺泸定桥”谱写了长征史上的壮丽篇章。今天，在泸定桥附近，超大跨径钢桁梁悬索桥兴康特大桥顺利完成合拢。\\n“兴康特大桥”地处四川甘孜藏区，是在建的雅康高速公路当中难度最大的工程之一。今天，泸定大渡河兴康特大桥钢桁梁主体结构顺利合龙。\\n兴康特大桥是一座建设在高海拔、高地震烈度带、复杂风场环境下的超大跨径钢桁梁悬索桥，全长1411米，被誉为“川藏第一桥”。这座大桥与当年红军长征飞夺泸定桥的所在地泸定铁索桥，相距只有几公里。两座桥梁都是悬索桥，过去的泸定铁索桥，跨度103米。而今，这座跨度1100米的兴康特大桥，是正在建设的雅康高速公路的控制性工程。雅康高速建成后，甘孜藏区将第一次拥有高速公路，助力沿线经济社会实现跨越式发展。\\n']\n",
            "[0, 0, 0.9999812, '今天，国务院新闻办举行中外记者见面会，邀请浙江德清、贵州湄潭、宁夏永宁的三位县委书记，畅谈如何实施乡村振兴战略。\\n虽然三位书记所在县的乡村产业发展、基础设施、生态环境等各不相同，但他们对实施乡村振兴战略却有共识。\\n三位县委书记表示，今后，要立足所在县生态、产业、特色小镇的优势，力促乡村振兴，满足当地农民对美好生活的需要。\\n']\n",
            "[0, 0, 0.99997455, '今天，国务院新闻办公室举行发布会，商务部有关负责人介绍，今年春节市场总体平稳有序，重点零售企业商品备货量同比增加10%-15%，各大批发市场、超市生活必需品的备货量比平时增加30%-40%。目前，雨雪地区没有出现脱销断档的情况。文化部有关负责人表示，春节期间将组织42支文艺小分队赴各地开展新春慰问活动200多场；各级公共图书馆、博物馆等公共文化机构节日期间将照常免费向公众开放。国家旅游局有关负责人表示，为了保障节日旅游市场秩序平稳有序，从2月1日至3月15日，开展市场整治“利剑行动”，严厉打击黑导非法执业和强迫消费等违法违规行为。\\n']\n",
            "[0, 0, 0.99997896, '送欢乐下基层，送文化进万家，中国文联文艺志愿服务团日前赴多地慰问，在春节前夕为各地群众送上新春祝福。\\n连日来，中国文联和各全国文艺家协会组织63支文艺志愿者小分队，深入到新疆阿拉尔、山东临沂、黑龙江绥化、江苏靖江、陕西紫阳和广东珠海、茂名等地, 480多名各门类文艺工作者在建筑工地、城镇广场、田间地头举办慰问活动，不仅为当地群众送去高水准的文艺演出，还建立了“基层电影之家”，开展声乐培训、摄影讲座、展览展示等活动近百场，把“送文化”与“种文化”密切结合，拓展文艺惠民和文艺扶贫的措施和渠道，直接惠及基层群众达18万余人。\\n']\n",
            "[0, 0, 0.9996623, '面对复杂的网络游戏市场，多家游戏公司近日纷纷承诺，将依法依规经营，履行社会责任。\\n正值寒假，如何丰富青少年的假期生活，中国教育电视台创新编排，推出了艺术教育公开课、国防教育公开课等节目。\\n目前国内网络游戏生产企业有数千家，业内人士认为，应该建立企业自查自纠机制，健全国家监管和评价体系。\\n']\n",
            "[1, 1, 0.9985356, '今天，昌吉—古泉1100千伏特高压直流输电线路长江大跨越工程南岸跨越塔封顶。该工程起自新疆准东（昌吉）换流站，止于安徽皖南（古泉）换流站。建成后将推动新疆能源基地的火电、风电、太阳能发电打捆外送，保障华东地区电力可靠供应。\\n']\n",
            "[1, 1, 0.9980915, '5日，我国首个无人机配送运营试点在陕西落地，通过打造多式联运的无人机物流配送网络，积累海量飞行数据和物流配送样本，为国家探索适合无人机物流配送安全运营的技术手段、管理模式、规范标准。\\n']\n",
            "[1, 1, 0.99863756, '今天，我国首个“重拾行走计划”项目在京启动。该项目由中国国际神经科学研究所主办，旨在让脊髓截瘫患者能够重新直立行走，通过人的脑电信号直接控制下肢穿戴的体外金属骨骼设备，并借助动力，辅助瘫痪肢体实现行走。\\n']\n",
            "[1, 1, 0.9983241, '今天，山东潍坊至莱西高铁开工，全线长122.2千米，设计时速350公里，计划2020年底通车。\\n']\n",
            "[1, 1, 0.9975282, '今天，中俄友好、和平与发展委员会地方合作理事会会议在哈尔滨举行，来自北京、上海、黑龙江等十五个省市代表与俄罗斯哈巴罗夫斯克边区、滨海边区等地区代表参会，就多个相关议题进行探讨。\\n']\n",
            "[2, 1, 0.99182034, '马尔代夫法律事务部长沙库尔5日宣布，马尔代夫总统亚明已正式发布命令，从当天开始全国实行为期15天的紧急状态。\\n沙库尔表示，亚明总统承诺将确保所有马尔代夫人以及在马尔代夫生活和访问的外国人的安全。马尔代夫警方今天宣布，已经逮捕最高法院大法官赛义德和另外一名法官，马尔代夫反对党联盟的重要领导人、前总统加尧姆也被逮捕。\\n本月1日马尔代夫最高法院突然发布裁决令，要求政府无罪释放另一位前总统纳希德等9名反对派领导人。随后，反对派支持者走上街头游行庆祝，并与警方发生冲突。舆论普遍认为，最高法院的裁决，意在为纳希德回马尔代夫参加今年的总统大选扫清障碍。纳希德之前因违反反恐法被判13年监禁。2016年年初，纳希德赴英国治病，至今没有回国。\\n']\n",
            "[2, 1, 0.99095625, '俄军一架战机3日在叙利亚被击落，战机飞行员跳伞之后丧生。5日，俄罗斯国防部宣布追授这名阵亡飞行员最高荣誉、“俄罗斯联邦英雄”称号和“金星勋章”。\\n俄军方证实，阵亡飞行员是俄空天部队的少校菲利波夫。本月3日菲利波夫驾驶一架苏-25战机，在叙利亚伊德利卜省执行任务时遭到便携式防空导弹袭击，他向军方通报情况后弹射出舱，在地面遭到恐怖组织武装分子的围攻并受重伤，最后在距离敌人数十米时引爆了手榴弹。\\n俄罗斯媒体5日报道称，俄罗斯国防部已经下令，为确保安全要求在叙利亚执行任务的战机保持在5000米以上的飞行高度。俄总统新闻秘书佩斯科夫表示，叙利亚恐怖组织所拥有的便携式防空导弹，对在叙执行任务的所有战机都构成了威胁。\\n']\n",
            "[2, 2, 0.9972171, '5日纽约股市三大股指大幅下挫，其中道琼斯指数盘中一度大跌将近1600点。到收盘时，道指、标普和纳斯达克指数跌幅分别为4.6%，4.1%，3.78%。分析人士认为，当天美股大跌主要是市场出现恐慌性抛售。自2009年以来，美国股市已经持续了长达9年的牛市行情，道指也从6000多点飙升至26000点附近，处于历史高位，一有风吹草动就有可能引发资金出逃。此外，美联储加息超预期，美国债券收益率持续走高，引发通胀担忧也是推动美股暴跌的因素。\\n而受美股拖累，今天亚太和欧洲主要股指均出现大幅下跌。\\n']\n",
            "[2, 2, 0.9966524, '美国国务院5日表示，美国和俄罗斯都在过去7年内履行了核裁军条约要求，两国将在下个月内交换战略核武器库数据。美俄签署的《削减和限制进攻性战略武器条约》2011年2月生效。条约规定，双方应在7年内将各自部署的核弹头削减至1550枚以下，部署的运载工具不超过700件。美方称执行该条约让美俄战略关系更加“稳定、透明和可期”。\\n']\n",
            "[0, 0, 0.9999883, '国家主席习近平和夫人彭丽媛7日在中南海会见荷兰国王威廉-亚历山大和王后马克西玛。\\n习近平说，威廉-亚历山大国王和王后在中国传统新春佳节到来之际访华，我们感到格外高兴。2014年，我对荷兰进行国事访问，同你共同确定了中荷开放务实的全面合作伙伴关系新定位，为两国合作制定了发展目标和规划。在双方共同努力下，我们达成的共识和互访成果得到落实，两国关系进入了历史最好时期，双方相互尊重彼此核心利益和重大关切，政治互信不断深化，贸易、投资、创新、人文等各领域交往合作成果丰硕。中荷关系正站在新起点上，面临新的发展机遇，相信在新的一年里，两国将通过共建“一带一路”开展更多的互利合作。\\n威廉-亚历山大国王首先向习近平主席和中国人民拜年，祝愿新的一年里中国取得新成就，荷中关系取得新发展。威廉-亚历山大表示，我祝贺中共十九大成功召开，中国发展有着光明的未来。荷兰始终高度重视发展对华关系，相信“一带一路”倡议将给荷兰带来更多机遇，荷方愿积极参与共建进程。荷兰愿参加首届中国国际进口博览会。荷方希望同中方加强在国际和地区事务中的合作。\\n丁薛祥等参加会见。\\n']\n",
            "[0, 0, 0.9999883, '2月7日，国家主席习近平同俄罗斯总统普京分别向中俄地方合作交流年开幕式致贺辞。\\n习近平在贺辞中指出，中俄两国是山水相连的友好邻邦，两国人民世代毗邻而居，友谊源远流长。地方是中俄开展全方位互利合作的重要力量。我和普京总统共同决定，2018年至2019年举办中俄地方合作交流年，相信这项重大活动将激发两国地方合作热情，挖掘双方合作潜力，带动更多地方、企业、民众加入中俄友好合作和共同发展事业，为中俄关系持续健康稳定发展提供更加强劲的动力。\\n习近平强调，中俄两国都处于国家发展和民族复兴的重要时期，发展蓝图高度契合，地方合作大有可为。相信两国政府和各地方将密切合作、精心组织，将中俄地方合作交流年打造成中俄关系的新亮点，共同开创中俄关系美好未来。\\n普京在贺辞中表示，俄中全面战略协作伙伴关系快速向前发展，双方合作范围持续拓展，合作内容不断丰富。地方合作是俄中关系的重要组成部分。俄中地方合作交流年这项规模宏大的活动是对双方互办国家主题年传统的延续，旨在加强俄各联邦主体和中国各地方的联系和互利合作。双方将在地方合作交流年框架内举办上百项活动，包括投资推介会，贸易、工业和农业展览会，研讨会，艺术节，团组互访等。两国地方代表还将在圣彼得堡国际经济论坛、东方经济论坛、俄中博览会框架内积极交流接触。相信俄中地方合作交流年有助于双方落实各领域富有前景的倡议，充分开发地方合作的巨大潜能。\\n']\n",
            "[0, 0, 0.9999863, '中共中央政治局常委、国务院副总理汪洋7日在哈尔滨与俄罗斯副总理兼总统驻远东联邦区全权代表特鲁特涅夫举行中国东北地区和俄罗斯远东及贝加尔地区政府间合作委员会双方主席会晤并出席中俄地方合作交流年开幕式。开幕式上，汪洋和特鲁特涅夫分别宣读了习近平主席和普京总统的贺辞并分别致辞。\\n汪洋说，过去的一年，在习近平主席和普京总统的战略引领下，中俄全面战略协作伙伴关系继续高水平运行，各领域合作全面推进，取得了新的重要成果，中国作为俄第一大贸易伙伴国、主要外资来源国的地位得到进一步巩固。\\n汪洋指出，地方合作是中俄关系的基础。在各界人士的共同努力下，中俄地方交流合作已基本实现领域和地域全覆盖，中国同俄远东地区贸易快速增长，投资合作方兴未艾，互联互通项目进展顺利，人文交流日益热络。中方赞赏俄方近期出台多项推动远东开发、便利人员往来的新举措，相信这些举措将推动中国东北和俄罗斯远东地区各领域合作取得更多成果。两国要以举办地方合作交流年为契机，进一步完善合作机制和平台、加强规划对接、明确重点合作项目、优化营商环境、密切人文合作交流，让中俄地方交流合作希望的种子开花结果。\\n特鲁特涅夫表示，中国是俄罗斯最重要的政治、经济合作伙伴之一，两国各领域合作前景广阔。俄方愿同中方一道，加快互联互通基础设施建设，落实便利化措施，进一步挖掘中俄各地区间发展的潜力，推动双方合作不断深化。\\n']\n",
            "[0, 0, 0.9999892, '国务院总理李克强2月7日主持召开国务院常务会议，听取办理两会代表委员建议和提案情况汇报，推进依法科学民主决策提升政府工作水平；部署进一步采取市场化债转股等措施降低企业杠杆率，促进风险防控提高发展质量；通过《快递暂行条例（草案）》。\\n会议指出，办理全国人大代表建议和政协委员提案，是政府依宪施政依法行政、以科学民主决策回应社会关切和服务人民的重要体现。国务院每年都部署建议提案办理工作。5年来，各部门共办理建议提案58773件，其中2017年办理建议7471件、提案3665件，分别占当年总数的89.4%和87%，推动较好解决了一大批事关改革发展和群众利益的问题。今年两会在即，各部门要做好新一届代表委员建议提案办理工作，主动听取意见，限时办结，力戒形式主义。按照应公开尽公开原则，主动公开办理结果。对答复中承诺的事项持续推进落实，用实效取信于民。\\n会议指出，落实党的十九大精神和中央经济工作会议部署，采取市场化法治化手段积极稳妥降低企业杠杆率，是推进供给侧结构性改革的重要任务，有利于打好防范化解重大风险攻坚战、提高发展质量效益。去年以来，通过各方努力，降杠杆取得积极成效。要继续把国企作为重中之重，结合国企改革、去产能、降成本等举措，进一步推动降杠杆。一是出台国企资产负债约束机制，支持通过增资扩股、引入战略投资者等充实资本，推进混合所有制改革。二是完善企业债务重组政策，解决“僵尸企业”破产费用保障问题，建立政府、企业、银行依法合理分担损失机制。三是支持股权投资机构参与市场化债转股。制定筹措稳定的中长期低成本股权投资资金的办法。研究依托资本市场开展转股资产交易。四是加强市场化债转股实施机构力量，支持符合条件的银行、保险机构新设实施机构。五是规范引导市场化债转股项目提高质量，推动已经签订的债转股协议金额尽早落实。\\n会议通过《快递暂行条例（草案）》。按照国务院要求，草案再次向社会征求意见并修改，在促进快递行业发展、保障快递安全、保护各方合法权益的基础上，立足包容审慎监管，对快递服务车辆等强制性规定作了调整，完善了无法投递快件的处理程序，增加了鼓励共享末端设施、诚信体系建设等内容。\\n会议还研究了其他事项。\\n']\n",
            "[0, 0, 0.999989, '国务院总理李克强2月7日下午在人民大会堂会见荷兰国王威廉-亚历山大。\\n李克强表示，当前中荷关系发展势头强劲，2014年以来，习近平主席同国王陛下成功互访，有力促进了中荷关系发展。中方愿同荷方保持高层交往，推进互利合作，推动中荷关系在相互尊重、平等相待、互利共赢的基础上持续向前发展。\\n李克强指出，荷兰在农业及农业技术、港口物流及管理等方面处于世界前列。中方愿同荷方深化上述领域合作，扩大贸易规模，加强技术交流，促进通关便利化，推动“一带一路”倡议同荷方发展战略更好对接。\\n威廉-亚历山大表示，荷中关系处于历史最好时期。荷兰是中国在欧盟内第三大贸易伙伴，也是中国进入欧盟的门户。欢迎中国扩大对荷投资，愿同中方加强贸易往来，深化农业、物流运输等合作，进一步双向开放市场。\\n']\n",
            "[0, 0, 0.9999885, '党的十九大报告指出，要牢固树立社会主义生态文明观，推动形成人与自然和谐发展现代化建设新格局，为保护生态环境作出我们这代人的努力。被称为三江之源的青海省，在习近平新时代中国特色社会主义思想指引下，坚持生态保护第一，全面推进生态文明先行区建设，确保一江清水向东流。\\n年初，在青海三江源地区，来自北京的野生动物调查小组一个月内记录到了40多次野生水獭活动，这意味着三江源存在着健康的野生水獭种群。水獭，被称为河流生态系统良好的指示物种。\\n不但水獭种群得到恢复；藏羚羊种群数量也达到了7万多只；青海湖湟鱼资源量由不足3000吨恢复到8万吨，增长了近30倍；雪豹更是从过去难觅踪影到频频现身。\\n为此，一系列举措正在青海全面推进。在三江源国家公园，生态管护员们刚刚配置了新设备，可以通过卫星，实时将巡护数据、视频、语音等传递给指挥中心，这在面积辽阔、人员稀少的三江源地区尤为重要。\\n除了装备全面提升，生态管护员的收入也大大增加，从每年6000多元提高到两万多元，这得益于十九大后，三江源国家公园设立生态公益岗位，每家都有一人从事生态管护岗位，让牧民们吃上“生态饭”。\\n今年1月26日，《三江源国家公园总体规划》出台，这是我国第一个国家公园总体规划，明确到2035年，三江源国家公园将实现对三大江河源头自然生态系统的完整保护，建成现代化国家公园。\\n在保护好环境的同时，青海还将着力发展循环经济和绿色产业。就在几天前，我国首个新能源大数据创新园区投入运营，它可以为入驻新能源企业提供信息通道、数据存储分析等“数据公寓”式服务。\\n青海的新能源产业在加速成长。光伏、风能等可再生能源占全省装机总容量的82.8%，经测试全省可实现连续7天全清洁能源供电，打破了由葡萄牙保持的连续全清洁能源供电时间的世界纪录；华为、比亚迪等企业也纷纷瞄准青海，投建了云计算大数据中心和锂电池产业基地。\\n']\n",
            "[0, 0, 0.9999804, '近日，中宣部在湖南省长沙市、贵州省贵阳市召开两场推动习近平新时代中国特色社会主义思想深入人心、落地生根理论工作座谈会。大家围绕学习宣传贯彻习近平新时代中国特色社会主义思想和党的十九大精神进行深入座谈交流，认真总结党的十八大以来推动理论宣传教育大众化通俗化的成功经验，研究部署下一步工作，不断推动学习宣传贯彻习近平新时代中国特色社会主义思想往深里走往实里走往心里走。\\n']\n",
            "[0, 0, 0.99995977, '近日，中央文明办负责同志带领慰问组，分赴甘肃、宁夏、四川、新疆等26省（区、市），登门看望慰问全国道德模范，转达中央领导同志的亲切问候，送上帮扶资金和新春祝福。\\n2007年以来，中宣部、中央文明办等6部门联合开展了六届全国道德模范评选表彰活动，共评选出333名全国道德模范。中宣部、中央文明办先后出资1700多万元，帮扶全国道德模范191人次。各地也对本地区的各类道德模范开展走访慰问，采取有效举措，解决实际困难，落实关爱帮扶措施，引导人们关心关爱、崇尚学习道德模范。\\n']\n",
            "[0, 0, 0.9999877, '近年来，我国的“四好农村路”建设已经解决了大约500个乡镇，7万个建制村通硬化路，初步形成了以县城为中心、乡镇为节点、建制村为网点，遍布农村、连接城乡的农村公路交通网络。为农村特别是贫困地区带去了人气、财气，也为党在基层凝聚了民心。\\n这两天，在土窑洞里住了一辈子的郝阿姨正忙着剪窗花，准备搬新家。\\n郝阿姨的新家是山西吕梁临县为帮助老百姓“挪穷窝、斩穷根”启动的整村移民搬迁项目。这个移民工程在建设过程中还同步设计、同步施工了高标准的“四好农村路”。\\n截至去年底，我国乡镇和建制村通硬化路的比率分别达到99.24%和98.34%，农村迎来新风貌。山东蒙阴县岱崮镇大崮村，当地人都爱路，护路，道路保洁员赵玉芳每天拾掇路比拾掇家都勤。\\n路好了，包括大崮村在内，方圆25平方公里的8个乡村联合发展起一村一景的岱崮地貌旅游区。\\n2017年全国乡村游人数约25亿人次，旅游消费超过1.4万亿元。预计“十三五”期间，将有800万人靠乡村游脱贫。\\n']\n",
            "[1, 0, 0.9897551, '今天，国新办举行“四好农村路”建设和交通运输供给侧结构性改革发布会。全国农村公路总里程已达396万公里，99.2%的乡镇和98.3%的建制村通了沥青路、水泥路，99.1%的乡镇和96.5%的建制村通了客车。6亿农民“出门硬化路、抬脚上客车”的梦想成为现实。\\n']\n",
            "[0, 0, 0.99926937, '2月6日23时50分，台湾花莲县附近海域发生6.5级地震。截至发稿时，地震已造成7人遇难，250多人受伤，仍有85人失联。地震发生后，国台办、海协会紧急启动涉台突发事件应急机制，大陆方面表示愿意提供包括派遣救援队在内的救灾协助。\\n花莲大地震发生的那一刻，恰好有行车记录仪拍摄到花莲市区一栋大楼倒塌的瞬间，扬起的烟尘弥漫整条街道。当时还有倒塌楼房内的受困民众紧急呼喊，对外求救。\\n地震发生时，岛内多地有震感。据台湾灾害应变部门介绍，灾情集中于花莲县花莲市，市区内有多处大楼倒塌、倾斜。其中，一栋11层的饭店在一阵摇晃之后往下塌陷，三楼变成一楼。\\n地震发生后，台湾警消部门紧急投入救援，全台各地赶到的搜救人员持续搜救，希望能在关键72小时内将所有受困人员救出。\\n地震还导致3.5万户停水，200户停电，40处道路损坏，苏花公路一度中断。\\n据台湾方面公布的消息，目前已发现6名大陆游客在地震中受伤，大多为轻伤，不过其中1名来自福建的游客伤情较为严重，截至发稿时，仍在加护病房救治。\\n地震发生后，国台办、海协会紧急启动涉台突发事件应急机制，了解灾情和救灾情况。2月7日上午，国台办主任张志军与花莲县长傅崐萁紧急通电话，海协会会长陈德铭致电花莲县有关方面，向在地震中遇难的台湾同胞表达沉痛哀悼，向受伤受灾的台湾同胞表示诚挚慰问，并表示愿意提供包括派遣救援队在内的救灾协助。中华全国台湾同胞联谊会7日中午发表慰问信，向台湾花莲地震受灾乡亲表达关切和慰问，表示愿竭尽所能提供一切帮助，希望两岸同胞团结一心、携手相助、共渡难关。\\n']\n",
            "[0, 0, 0.9999834, '为了营造寒假、春节期间良好的网络氛围和健康向上的舆论环境，湖南采取一系列措施净化网游文化市场。\\n去年9月，在湖南某山区县，年仅15岁的唐某某将其邻居杀害，案发一周后投案自首。目前，犯罪嫌疑人已被刑事拘留，案件已移送检察机关。\\n据办案民警了解，唐某某从小学六年级开始玩网络暴力游戏，直到初二的时候就有一种想体验现实生活中杀人的刺激感觉。\\n为了引导青少年正确使用网络，湖南省300多家网络运营企业定期举办培训班和座谈会，增强企业自主管理能力和自律责任，在源头上确保网络内容的合法性。\\n与此同时，湖南省网吧技术监管平台刚刚完成升级换代，可对全省8500家网吧24小时视频监控。\\n']\n",
            "[1, 1, 0.9957141, '今天，航天员群体先进事迹报告会在人民大会堂举行。航天员景海鹏等代表从不同角度介绍了航天员群体的先进事迹。航天员大队组建20年来，先后圆满完成6次载人航天飞行任务。\\n']\n",
            "[1, 1, 0.99791485, '中国人民银行今天公布的外汇储备规模数据显示，2018年1月末，外汇储备规模为3.16万亿美元，较2017年末上升215亿美元，连续第十二个月出现回升。\\n']\n",
            "[1, 1, 0.99806273, '蒙华铁路陕北黄土高原地区最长重载铁路隧道顺利贯通，这也是世界上一次性建成里程最长的重载铁路。蒙华铁路连接蒙陕甘宁能源“金三角”与华中地区，全长1837公里，是我国规模最大的运煤专线。\\n']\n",
            "[1, 1, 0.99686337, '今天上午，参加平昌冬奥会的中国体育代表团在江陵运动员村举行了升旗仪式，同时宣布曾夺得三枚冬奥会金牌的短道速滑队队员周洋将担任开幕式上中国代表团的旗手。\\n']\n",
            "[0, 1, 0.9999746, '中国空军今天发布消息，空军苏-35战机近日飞赴南海参加联合战斗巡航任务，这是空军履行新时代使命任务、开展实战化军事训练的务实行动。\\n苏-35是多用途战斗机，具备制空作战和对地、海面目标精确打击能力。苏-35战机开展实战化军事训练，有助于增强空军远程远海作战能力。中国空军表示，一以贯之坚持科技兴训、依法治训、按纲实训，全面推进新时代练兵备战、不断提升新时代打赢能力。\\n']\n",
            "[2, 1, 0.97554904, '6日，在国际田联室内巡回赛第二站德国杜塞尔多夫站男子60米的决赛中，28岁的中国选手苏炳添以6秒43的成绩率先冲过终点，并将自己4日刚刚创造的亚洲纪录再次提高0.04秒。他的这一成绩在男子60米田径历史上排名第五。国际田联官网称苏炳添跑出了本届赛事“田赛最强表现”。\\n']\n",
            "[1, 1, 0.99827653, '第四届全国青少年冬季阳光体育大会昨晚在哈尔滨开幕，在4天赛期里，参赛运动员将进行速度滑冰、高山滑雪等8个竞技类项目和雪地足球、冰上龙舟等4个群体类项目比赛。\\n']\n",
            "[1, 1, 0.9987427, '鄱阳湖保护区最新监测数据显示，目前飞抵鄱阳湖越冬栖息的候鸟数量有60多万只，达到入冬以来峰值，包括大雁、小天鹅、鸿雁、白鹤、灰鹤、东方白鹳等63种候鸟。\\n']\n",
            "[0, 1, 0.992109, '央视春晚今天进行了第二次彩排，今年的春晚将继续以央视一号演播大厅为中心，同时携手贵州黔东南、广东珠海、山东曲阜及泰安和海南三亚四个分会场，打造“喜气洋洋、欢乐吉祥”的节日盛况。\\n贵州黔东南分会场坐落于全国最大的侗族村寨之一肇兴侗寨。这里素有“侗乡第一寨”的美誉。节目艺术化地将民族特色与时代新风融于一体，呈现出各族人民迈进新时代的自豪感和获得感。\\n广东珠海分会场取景港珠澳大桥和珠海长隆海洋王国，展现引领创新的“科技、生态、文化”三位一体。节目将运用光影技术和前沿科技，打造出一幅幅梦幻绚烂的盛大场景，记录下幸福人民迎接新年、欢庆新春、祝福新时代的喜悦心情。\\n山东分会场选址于孔子故里曲阜和文化名城泰安两地，借用现代舞台技术，展现出山东人民“有朋自远方来”的豪爽热情和国泰民安的美好祝愿。\\n海南分会场位于三亚的国际邮轮港，这里是中国第一个国际邮轮专用港口。主题节目将在海陆空三维领域中，立体化地设置表演元素，营造出嘉年华的喜庆氛围和欢腾的新春景象。\\n']\n",
            "[1, 1, 0.853802, '土耳其总统埃尔多安6日表示，土耳其军队将扩大在叙利亚北部的军事行动范围，进入阿夫林以东的曼比季地区。\\n埃尔多安当天在议会发表演讲时指责美国支持“人民保护部队”等库尔德武装进入曼比季地区，称土耳其军队将进入曼比季，并继续在阿夫林地区的军事行动。\\n埃尔多安还要求驻扎在曼比季的美军尽快撤离。土耳其副总理博兹达此前警告说，如果在曼比季的美军被误认为敌方人员，不排除可能受到攻击。\\n曼比季位于叙利亚北部，靠近土耳其边境，战略位置重要，目前为库尔德武装所控制。\\n埃尔多安当天还宣布，自1月份在叙利亚北部发动“橄榄枝”军事行动以来，土耳其军队已经消灭了1000多名敌对武装分子。\\n']\n",
            "[2, 2, 0.59346026, '马尔代夫最高法院6日宣布，将撤消释放前总统纳希德等反对派领导人的裁决。马尔代夫总统办公室随后发表声明称，欢迎最高法院的这一决定。\\n本月初，马尔代夫最高法院先后发布裁决令，要求释放前总统纳希德等9名反对派领导人，并称将弹劾不执行裁决的总统亚明。亚明5日宣布实施为期15天的全国紧急状态，警方还逮捕了首席大法官等司法行政部负责人。\\n']\n",
            "[2, 2, 0.98888725, '7日，朝鲜冬奥访问团一行280人抵达韩国，访问团包括朝鲜体育相金日国等4名朝鲜奥委会成员、跆拳道示范团、记者，以及229名拉拉队员，他们由陆路抵达韩方南北出入境事务所。朝鲜拉拉队将在平昌冬奥会期间为朝鲜选手、韩朝女子冰球联队和部分比赛的韩国选手加油助威。这是继2002年朝鲜派拉拉队员参加釜山亚运会之后，时隔16年再次派出拉拉队访韩。\\n']\n",
            "[2, 2, 0.99726516, '巴勒斯坦政府6日宣布组建部长级委员会，负责断绝与以色列在政治、经济等领域的联系，巴勒斯坦政府还将研究使用其他货币或发行本国货币替代目前使用的货币以色列谢克尔。\\n去年12月，美国总统特朗普宣布美国承认耶路撒冷为以色列首都，引发巴勒斯坦强烈不满。巴解组织执行委员本月3日决定，落实中央委员会有关巴以和平协议无效的决议，并要求巴勒斯坦政府立即全面断绝与以色列的接触。\\n']\n",
            "[2, 2, 0.99781686, '6日，美国太空探索技术公司的重型运载火箭“重型猎鹰”携带一辆红色特斯拉跑车，从位于卡纳维拉尔角的肯尼迪航天中心发射升空。“重型猎鹰”是现役世界最强大运载火箭，第一级由3枚“猎鹰9”的一级火箭捆绑而成，拥有27个发动机，发射时的推力相当于18架波音747飞机，能将64吨载荷送入近地轨道。发射约8分钟后，它两侧的助推器同时在发射场附近陆地回收成功，但中间的火箭芯级落入海中，没能按计划降在回收船上。目前，火箭第二级正飞向地球与火星间的椭圆形绕日轨道。\\n']\n",
            "[0, 0, 0.9999879, '2月8日，中共中央总书记、国家主席习近平与越共中央总书记阮富仲互致新年贺信。\\n习近平在贺信中表示，值此中越两国人民的传统节日春节即将到来之际，我代表中国共产党和中国人民并以我个人的名义，向总书记同志，并通过你向越南共产党和越南人民致以诚挚的新春问候和祝福。习近平表示，刚刚过去的2017年是中越关系发展进程中具有重要意义的一年。我同总书记同志再次实现历史性互访，我们达成的广泛共识已经转化为两国交流合作的累累硕果。2017年中越“一带一路”与“两廊一圈”战略对接迈出重要步伐，双边贸易额实现1000亿美元目标，人员往来近1000万人次，两国人民从双边关系发展中有了更多的获得感。\\n习近平指出，2018年是中越建立全面战略合作伙伴关系的第十个年头。展望未来，中国共产党愿同越南共产党一道，加强对中越关系发展的政治引领，弘扬传统友谊，深化全面合作，不断拓展中越关系发展广度和深度，更好为两国和两国人民谋幸福、为社会主义事业谋发展、为人类社会进步事业作贡献。两党两国高层特别是最高领导人保持经常接触，对双边关系发展发挥着关键的战略引领作用。我愿同总书记同志保持密切沟通，携手推动中越关系行稳致远、更上层楼。\\n阮富仲在贺信中表示，值此越中两国传统佳节戊戌年春节来临之际，我谨代表越南党和人民，向您并通过您向中国党和人民致以最美好的新春祝福。阮富仲表示，去年越中关系保持良好发展势头，两党两国最高领导人实现互访，各领域合作取得积极进展。2018年对越中关系是具有重要意义的一年。我希望并愿同您一道，加强对各层级各部门的指导，在现有合作成果基础上，进一步着力巩固政治互信，提升各领域务实合作的水平和质量，继续推动越中全面战略合作伙伴关系持续向好发展。\\n']\n",
            "[0, 0, 0.999989, '习近平总书记在党的十九大报告中指出，我国经济已由高速增长阶段转向高质量发展阶段。江苏，以制造业起步，实体经济见长，但长久以来，江苏的实体经济大而不强。十九大后，江苏在习近平新时代中国特色社会主义思想指引下，把实体经济高质量发展作为目标，为我国经济升级作出“江苏贡献”。\\n2018年新年刚过，江苏省提出了“6个高质量”发展要求，多个地市密集出台政策。南通正规划建设创新社区；扬州出台了知识产权13条新政，以保护创新成果；而无锡、常州等沿江8市正申报创建“中国制造2025”国家级示范区。\\n元旦刚过，南京市出台今年“一号文件”，文件里列出10大举措，拿出30亿元的真金白银支持创新。例如，初创科技企业盈利前3年经济贡献全额返还，对有突出贡献的科创人员，政府还会根据其年收入再按比例重奖。\\n“给钱”是外在激励，南京还触碰体制问题。新成立的31家研发机构，全部由事业性质转为企业，过去体制问题造成的融资、销售难题得以破解。\\n南京先进激光技术研究院，过去一出新技术，科研人员就带着技术出去创业了；现在，一场企业化股份制改革，让情况发生了变化。\\n如果说科技创新是产业由高速发展转向高质量发展中的火车头，提供牵引，那么淘汰落后产能则是为火车减负，腾出车厢装载优质资源。\\n苏州，这座工业城市，企业密集。在全国0.09%的国土面积上，创造了全国2.1%的GDP，但土地开发强度已经达到了“天花板”。为此，苏州在全国率先建立工业企业资源集约利用信息系统平台，通过考核企业亩均产值、单位能耗等六大要素，为企业精准画像、排定等级，最终以差异化电价、水价等资源使用费，倒逼企业走高质量发展之路。\\n不仅在苏州，去年，江苏全省累计化解水泥产能510万吨、平板玻璃产能330万重量箱，关闭落后低端化工企业1421家，今年还将继续关闭750家，让高质量发展带来“金山银山”，也守住绿水青山。\\n']\n",
            "[0, 0, 0.9999735, '在祖国版图的西北角，阿尔泰山的南麓，驻守着新疆军区某边防团白哈巴边防连，官兵常年担负着172公里边境线的守防任务，这里冬季雪深路险，只能够依靠军马巡逻执勤。军马饲养员王鑫，是一位相马、养马、驯马的好手，当兵11年累计完成109次长线巡逻任务。在春节前夕，记者随着王鑫再次踏上巡逻路。\\n我们见到王鑫时，他正在为巡逻挑选军马。这次巡逻全程超过130公里，沿途翻雪山、过冰河、穿越原始丛林和无人区，历时4天3夜。\\n长线巡逻连队每年至少组织十次，临近春节，官兵们更是加强执勤巡逻的力度。\\n摔下马背的托里肯是第一次参与长线巡逻，他骑的马受惊跑远，王鑫赶紧骑马追回。\\n这是中哈界河——阿克哈巴河的支流，也是通往巡逻点位985水准点的必经之路。\\n这次有惊无险的过河让王鑫想起了自己死里逃生的经历。\\n军马驮着几近昏迷的王鑫跑了30多公里。一直跑到连队的大门口。\\n3年前，母亲邮寄给王鑫一只口琴，此后的每次巡逻他都带在身上。\\n大家加快行进速度，很快就到一对哈萨克族老夫妇的家了。\\n这时气温已经降至零下30摄氏度，指导员在搭好的帐篷四周打了几发空包弹，利用空气中弥漫的硝烟味来驱赶可能来袭的野兽。王鑫告诉我们，这已经是他第10次参加春节前的冬季长线巡逻了。\\n王鑫家在陕西，父母分别在深圳和北京打工，唯一的妹妹也在外地工作，一家四口分居四地，上一次全家团圆还是在九年前。\\n男儿有泪不轻弹，忠孝岂能求两全，11年来，他和战友并肩前行，脚步愈加坚定。\\n']\n",
            "[0, 0, 0.99998754, '在新春佳节即将来临之际，全国双拥工作领导小组、民政部、中央军委政治工作部，向全国双拥模范城(县)、双拥模范单位和个人发出慰问信，致以节日的问候，号召更加紧密地团结在以习近平同志为核心的党中央周围，以习近平新时代中国特色社会主义思想为指导，全面深入贯彻党的十九大精神,聚焦经济社会发展和部队备战打仗，以时不我待只争朝夕的精神投入工作，不断开创军政军民团结新局面，凝聚起同心共筑中国梦强军梦的磅礴力量。\\n']\n",
            "[0, 0, 0.9997948, '海关总署统计显示，今年1月份，我国货物贸易进出口总值2.51万亿元人民币，比去年同期增长16.2%，其中出口1.32万亿元，增长6%；进口1.19万亿元，增长30.2%；贸易顺差1358亿元，收窄59.7%，贸易方式结构有所优化。\\n1月份，通过海关跨境电商管理平台进出口62.3亿元，同比增长96.3%跨境电商进出口快速增长，成为我国外贸增长的新亮点。\\n']\n",
            "[0, 0, 0.9999884, '春节将至，日前，中央纪委对八起违反中央八项规定精神典型问题进行公开曝光。中央纪委有关负责人指出，这八起问题既涉及党政机关，也涉及企事业单位，既有老问题老现象，也有新动向新表现，而且还有在节假日期间顶风违纪，再次表明“四风”具有顽固性反复性，反弹回潮的隐患不容忽视，作风建设永远在路上。\\n这八起典型问题分别是：\\n国家邮政局党组成员、副局长刘君等人接受管理服务企业宴请、收受礼品问题；\\n公安部办公厅统计处原副处长彭科违规出入私人会所、接受可能影响公正执行公务的旅游安排等问题；\\n福建省政府投资项目评审中心原党组成员、总经济师郑灵借调研之机公款旅游问题；\\n重庆市綦江区农委副主任张在彬等人工作日午间违规饮酒、篆塘镇党委副书记吴高强等人违规公务接待问题；\\n山西省武乡县人大常委会原党组书记、主任郝炳宏借其子结婚之机敛财问题；\\n云南省姚安县委常委、宣传部长吴东等人违规公款吃喝问题；\\n中国邮政储蓄银行浙江省分行办公室原主任赵啸红等人违规公款购买消费高档白酒问题；\\n辽宁省大连市自来水集团管网探测有限公司董事长夏军借出差之机旅游等问题。\\n中央纪委有关负责人强调，2018年春节将至，党员领导干部特别是党组织主要负责人要严格要求自己，带头反对歪风邪气，带头弘扬优良作风，在清正廉洁过年过节上发挥“头雁效应”，以上率下带动其他党员干部切实转变过节风气。纪检监察机关要采取扎实措施，紧盯违规公款吃喝、违规收礼送礼、公车私用、公款旅游、滥发钱物、接受可能影响公正执行公务的宴请和娱乐活动安排等节日期间易发的具体问题，加大监督检查力度，发现一起坚决查处一起，并点名道姓通报曝光，持续保持纠正“四风”工作高压态势，营造风清气正的节日氛围。\\n']\n",
            "[0, 0, 0.99998194, '日前，由公安部和中宣部、中央综治办等24个部门参加的打击整治枪支爆炸物品违法犯罪部际联席会第一次全体会议在京召开，决定自2月7日起至2019年底，在全国范围内开展为期2年的专项行动。近年来，全国各地区持续开展缉枪治爆、打击网络贩枪等专项打击行动，深入开展易制爆化学品和寄递物流专项整治，消除了一大批涉枪涉爆隐患。5年来，各地公安机关共收缴各类非法枪支101.2万支，子弹5661万发、炸药1477.2万公斤、雷管3138.9万枚。2017年，我国发生持枪犯罪案件、爆炸案件均为58起，比2012年分别下降了八成多、六成多，已成为世界上枪爆违法犯罪发案率最低的国家之一。据介绍，此次专项行动将突出缉枪、治爆、净网三个重点，严厉打击境内制贩、境外走私、网上贩卖等突出犯罪，摧毁源头窝点，追缴枪爆物品。\\n']\n",
            "[0, 0, 0.9999862, '又到腊月二十三，过了小年是大年。从这天开始，中国人就开始忙年了，扫房、赶集、办年货……春节渐行渐近，年味越来越浓。\\n“二十三 糖瓜粘”。河南武陟县小董乡，几家“老字号”糖坊，制作了一根重八斤八两，长三米一八的巨型芝麻糖。\\n从小年开始各地的传统文化活动就不断档，会一直持续到元宵节。在北京，飞叉、举刀、小车会，传统的非遗演出热闹开场。\\n在唐山，南湖春节灯会今天盛装开幕。在古城青州，春联大集上500多名书法爱好者挥毫泼墨送祝福。\\n今天，徐州的志愿者们为500多位老人奉上了尊老敬老的饺子宴，在莱芜，600多名富裕起来的村民聚在一起吃起了小年宴；吉林通化、福建东山，慰问演出“小分队”，小年这天，也开始了年前大走访。\\n在零下40度左右的漠河，小年这天游客们在泼水成冰的游戏里，感受到了别样的年味。\\n返乡途中也有浓浓的年味，在G1226次高铁动车上，传承了40年的列车春晚开演了。\\n']\n",
            "[0, 0, 0.99993503, '今天铁路部门开行多趟务工专列，送务工人员返乡过年。\\n2月8日，春运迎来铁路出行的小高峰，全国铁路预计发送旅客930万人次，预计增开旅客列车904列。而为了帮助在外的务工人员顺利返乡，多地都增开务工专列。\\n铁路武汉局连续第13年开行动车组专列免费送500名在武汉工作的务工人员返乡。\\n列车员准备了丰富多彩的文艺活动，还建起了流动的动车“讲习所”，与务工人员进行十九大精神知识问答。\\n此外，沈阳今天也开行了今年春运的首趟务工专列，广州、西安、南昌等地加开了多趟“夜间高铁”，保障旅客能够顺利返乡。\\n']\n",
            "[0, 0, 0.99998677, '在过去，义乌的农村电影放映常常遭遇窘境。\\n怎么突破窘境？这两年，义乌市启动了农村电影放映体制改革试点，把民营资本引入公共文化领域，吸引民间资本在工业园区、外来人口集中的地方，建设标准化的室外放映点，在乡镇建设固定的农村影院，票价每张8元起步，更多的让利于群众，而对于公益放映的电影，政府每场补助影院200多元。2017年，义乌市公益电影年放映6000场以上，观影人次逾40万。\\n']\n",
            "[1, 0, 0.99815494, '近日，多部门统一行动，对网络游戏违法违规行为和不良内容进行集中整治，得到老师和家长的普遍认可。\\n很多老师表示，要共同维护网络环境的安全，注重对学生社会主义核心价值观的培养。\\n']\n",
            "[1, 0, 0.5028495, '台湾花莲县附近海域6日深夜发生6.5级地震，造成重大灾情。据台湾地区灾害应变中心消息，截至8日18时，台湾花莲地震遇难人数增至10人，272人受伤就医，失联7人，已有3名大陆游客遇难，还有一名遇难者是否是大陆身份有待确认。\\n地震导致台湾花莲4处建筑物受损，其中花莲云门翠堤大楼严重倾斜，仍有多人被困，包括5名大陆游客。台湾方面先后出动1000多搜救人员抢救受困民众。然而楼板严重挤压、余震不断、天气恶劣，搜救困难重重。\\n台气象部门统计，继6日23时50分花莲发生6.5级地震后，又先后出现上百起余震，为花莲近50年来所未见。\\n大陆各界心系花莲受灾同胞纷纷伸出援手。国台办、海协会会同大陆有关部门，与花莲方面保持密切联系沟通，跟踪灾区动态，表达慰问与提供协助之意，做好随时赴台救援和提供救助设备的准备。同时高度关切灾区大陆游客安危，协调有关方面协助罹难大陆游客家属赴台处理善后。海峡两岸旅游交流协会驻台人员已在当地开展协助工作。此外，中国红十字会决定向台湾红十字组织提供100万元人民币紧急救灾款。\\n']\n",
            "[1, 1, 0.9981345, '由中宣部理论局等组织的《新时代面对面》赠书活动，近日在湖南、四川、贵州等三省开展。主办方向基层干部群众、高校师生等代表赠送了书籍，并就大家关心的问题进行了现场交流。\\n']\n",
            "[1, 1, 0.9982963, '国家发展改革委近日下达中央预算内投资8亿元，支持内蒙古、辽宁、吉林等13个省区的人口较少民族聚居行政村基础设施、基本公共服务设施等4个领域项目建设。\\n']\n",
            "[1, 1, 0.9964397, '经过20多天的连续施工，我国第五个南极科考站——罗斯海新站正式在恩克斯堡岛奠基，建成后将填补我国在西南极地区的考察站空白。预计新站建成还需要4年时间。\\n']\n",
            "[1, 1, 0.99673975, 'CCTV网络春晚将于今晚八点半在CCTV-3综艺频道和央视网多终端同步与观众见面。网络春晚以“网筑强国梦、智汇新时代”为主题，集中展示我国科技领域取得的卓越成果。还将融合大屏小屏，推出融媒体产品。\\n']\n",
            "[2, 1, 0.97615933, '第23届冬季奥运会将于9日在韩国平昌开幕。平昌冬奥会组委会表示，各项准备工作已经就绪。\\n据组委会介绍，来自92个国家和地区的2925名运动员确认参加本届冬奥会。本届赛事大部分雪上项目比赛在平昌进行，所有冰上运动在江陵举行，高山滑雪滑降比赛在旌善进行。\\n平昌冬奥会中国体育代表团共有181人，其中运动员82人，将参加冬奥会5个大项、12个分项、55个小项的比赛，两届冬奥会冠军周洋将担任平昌冬奥会开幕式中国代表团旗手。\\n']\n",
            "[2, 1, 0.97018373, '国际奥委会主席巴赫7日表示，本届奥委会将有6个新的国家(地区)奥委会实现冬奥会首秀；目前门票已经售出78%。国际奥委会6日宣布了筹办奥运的新规，包含上百项改革措施，将帮助未来的奥运东道主节省开支。巴赫说，2022年北京冬奥组委在执行新规方面做得非常好，能够为执行奥运新规树立标杆。\\n']\n",
            "[2, 1, 0.6974861, '据朝鲜劳动党机关报《劳动新闻》今天报道，朝鲜外务省官员7日表示，朝鲜代表团在即将开始的访韩行程中没有和美方会面的意象，朝鲜代表团访韩只是参加平昌冬奥会。朝鲜不会将类似冬奥会的体育庆典作为政治空间利用，奉劝美方谨慎行事。\\n美国副总统彭斯7日在访日期间说，朝鲜借平昌冬奥“搞宣传活动”，美国将很快出台最强硬的对朝制裁措施。不过彭斯此前曾表示，不排除在冬奥会期间与朝鲜官员会面的可能性。\\n']\n",
            "[1, 1, 0.5309741, '彭斯和朝鲜最高人民会议常任委员会委员长金永南将出席平昌冬奥会9日的开幕式。就在今天上午，朝鲜在首都平壤举行人民军建军70周年阅兵活动，朝鲜中央电视台在下午播出了阅兵录像画面。朝鲜上月宣布，正式将建军节从4月25日改到平昌冬奥会开幕的前一天、2月8日。\\n']\n",
            "[2, 2, 0.99692005, '德国联盟党和社民党7日就联合组阁协议达成一致。除各领域主要政策外，双方还确定了未来政府各部门领导权在党派间的分配情况。社民党全党近期将投票决定是否参加组阁。若投票结果支持参加组阁，新政府有望在3月底前组建成功。\\n去年9月德国举行联邦议院选举后，联盟党先同自民党和绿党尝试组阁，但未获成功。今年1月，社民党特别党代会同意同联盟党展开组阁谈判。\\n']\n",
            "[2, 2, 0.9967717, '波兰总统杜达6日签署法案，法案将任何所谓波兰对犹太人大屠杀等负有责任的言论认定为犯罪，最高可判3年监禁。据称，波兰此举意在将波兰与纳粹德国在波兰实施的犯罪分开，防止人们认为波兰参与了二战大屠杀。\\n人们习惯性地将纳粹德国二战期间建在波兰的集中营称为“波兰死亡集中营”。以色列政府表示，波兰通过的法案是在试图隐瞒大屠杀罪行。波兰政府则认为，波兰人与犹太人同为二战纳粹受害者，许多波兰人还冒险帮助犹太人。不过也有研究资料显示，部分波兰人曾参加对犹太人的屠杀。\\n']\n",
            "[2, 2, 0.978036, '欧盟委员会7日发布报告，将今明两年欧元区经济增长预期从去年11月预测的2.1%和1.9%分别上调至2.3%和2.0%。\\n欧盟委员会负责经济和金融事务的委员莫斯科维奇表示，欧元区经济出现了金融危机以来所没有过的增长率，失业率和政府赤字持续下降，投资也终于出现了“有意义的”增长。\\n']\n",
            "[0, 0, 0.99998903, '习近平总书记高度重视我国冰雪运动的发展，他强调，要以北京冬季奥运会为契机，把竞技体育搞得更好、更快、更高、更强，同时大力发展群众体育，通过全民健身实现全民健康，进而实现全面小康目标。社会各界牢记总书记嘱托，竞技体育实现多项突破，群众冬季运动广泛开展。\\n在韩国平昌训练馆里，李琰教练正在指导中国短道速滑队进行赛前训练。她将带领武大靖、周洋、范可新等运动员再次向奥运奖牌发起冲击。作为培养过多名世界冠军的教练，李琰曾经两次得到习近平总书记的接见。李琰表示，总书记对冰雪运动的关心，让自己倍感温暖，而总书记去年2月份在北京视察2022年冬奥会冰上项目场馆时、对全面开展冰雪运动提出的要求，更让自己和同事们感到责任重大。\\n四年前的索契冬奥会上，习近平总书记看望中国体育代表团，鼓励运动员赛出成绩，超越自我，实现从体育大国向体育强国迈进的目标。四年来，按照总书记的要求，体育系统统筹全国资源，力争强项更强，同时抓紧补短板，冰雪运动进入了发展的快车道。中国雪车队是第一次参加冬奥会，作为我国体育领域跨项跨界选材的探索，练了11年铅球的邵奕俊，两年前跨项转成雪车运动员。\\n中国是一个13亿多人口的大国，体育是重要的社会事业，也是前景十分广阔的朝阳产业。习近平总书记去年1月在河北崇礼考察时再次强调，我们申办北京冬奥会，一个重要目的就是推动我国冰雪运动快速进步，推动全民健身广泛开展。\\n曾经四次参加冬奥会的自由式滑雪空中技巧世界冠军李妮娜，退役后不仅致力于青少年队员的培养，同时还积极推动冬季运动普及活动，让更多群众参与到冰雪运动当中。\\n四年来，一系列推动冰雪运动发展的文件陆续出台，冬季运动在全国广泛开展。全国大众冰雪季、青少年冬季阳光体育大会等全国性冰雪推广活动，让冰雪运动走进社区，走进学校。近日我国热带地区首座奥林匹克标准冰球场刚刚落户三亚。\\n北冰南移、北雪南展，从冰天雪地的北国到仍然烈日炎炎的海南岛，各种形式的雪场和冰场吸引着越来越多的人参与到冰雪运动上来。尤其是北京冬奥会申办成功后，滑雪更成为热门运动健身项目，每逢周末，国内各大滑雪场都是人流络绎不绝。据不完全统计，去年我国冰雪产业规模达3976亿元，到2020年预计将达到6000亿元。\\n']\n",
            "[1, 0, 0.98694944, '第二十三届韩国平昌冬季奥林匹克运动会开幕式韩国时间20点、北京时间19点已经拉开了帷幕，现在呢我们就去看一下开幕式现场的情况。\\n首先进行的是开幕式文艺表演的环节。在文艺表演结束之后，将进行升奥林匹克五环旗、代表团入场仪式、火炬点火仪式等环节。\\n应韩国总统文在寅和国际奥委会主席巴赫的邀请，中共中央政治局常委韩正，作为中国国家主席习近平特别代表，出席本届冬奥会的开幕式。\\n本届冬奥会从9日开幕到25日闭幕，一共是历时17天。届时，92个国家和地区的2925名参赛选手将在7个大项、102个小项当中展开激烈的争夺。那么在本届冬奥会上呢，中国体育代表团一共是派出了181人，其中运动员82人，他们将参加5个大项、12个分项、55个小项的比赛。\\n']\n",
            "[0, 0, 0.9999889, '国务院总理李克强2月9日上午在中南海紫光阁会见印度尼西亚外长蕾特诺。\\n李克强表示，中国和印尼同为发展中大国，在维护地区和平、促进共同发展方面拥有广泛共同利益。中方高度重视发展同印尼的关系，愿同印尼密切高层交往，将“一带一路”倡议同印尼发展战略更好衔接，推动基础设施等重点领域合作取得更多成果，为中国同印尼关系的发展注入新动力。\\n李克强强调，中方愿以中国—东盟建立战略伙伴关系15周年为契机，同包括印尼在内的所有东盟伙伴一道努力，推动中国东盟关系迈上新台阶，为本地区的和平稳定与发展繁荣贡献力量。\\n蕾特诺表示，印尼方愿同中方加强高层互访，扩大经贸合作，深化人文交流，推进雅万高铁建设。欢迎中方积极参与印尼“三北综合经济走廊”建设。\\n']\n",
            "[0, 0, 0.9999888, '中共中央政治局常委、国务院副总理汪洋9日在京出席首届世界海关跨境电商大会并发表主旨演讲。\\n汪洋指出，跨境电商是当今互联网时代发展最为迅速的贸易方式。近年来，中国政府秉持鼓励创新、包容审慎、协同共管的理念，不断创新发展模式、夯实基础设施、完善管理政策、健全风险防控，推动跨境电商在发展中规范、在规范中发展，闯出了一条具有中国特色的跨境电商发展之路。\\n汪洋强调，跨境电商为更多国家、更多企业、更多群体带来了新的发展机遇，是构建开放型世界经济的重要支撑。国际社会应以更前瞻的视野、更包容的心态、更协同的步调，促进跨境电商可持续发展。一要相互开放市场，在守好风险底线的基础上，最大程度降低准入门槛，推动贸易自由化便利化。二要秉持共商共建共享原则，携手构建共同遵循的监管标准，在实践中不断完善。三要完善合作与协调机制，各国海关应加快推进信息互换、监管互认、执法互助。有关部门要加快推进“单一窗口”建设，打破信息“孤岛”。四要共同推进“一带一路”建设，提高互联互通水平，帮助欠发达国家培养跨境电商人才，缩小“数字鸿沟”。\\n本次会议由中国海关总署与世界海关组织共同举办，来自125个国家和地区的海关、政府部门、有关国际组织、企业界、学术届代表一千余人出席会议。\\n']\n",
            "[0, 0, 0.99998695, '近年来，我国农村公路的建设加速了人流、物流在城乡间的流动，为加快推进农业农村现代化提供了更好保障。\\n春节前，山东临沂大田庄乡闵超经营的网店生意特别红火。\\n2014年，当地开始“四好农村路”建设，物流配送网络顺利向农村延伸，时令水果现场包装，立马就能发货。\\n物流瓶颈打通，客运服务也在同步推进。在福建永安小陶镇，当地人能像城里人一样预约出行。\\n城乡居民出行公共服务均等化加速推进。在实现人畅其行，货畅其流的同时，各地还加强对农村公路的养护。\\n在河北秦皇岛的黑峪沟村，护路员谢有良每天都会骑着电动车在路上仔细检查。\\n村有护路员、乡有监管员、县有路政员。目前，河北省已经基本建立了完整的县、乡、村三级管护体系。\\n']\n",
            "[0, 0, 0.99998826, '十九大报告指出，“让贫困人口和贫困地区同全国一道进入全面小康社会是我们党的庄严承诺”。作为全国6个重点扶贫省份之一的四川，5年间贫困人口数量从750万减少到了171万，这得益于当地下“绣花功夫”，坚持精准扶贫的努力实践。\\n这两天，甘孜州道孚县鲜水镇鲁都村的牦牛养殖合作社进行了今年第一次分红。\\n以前的鲁都村，村民分散居住在海拔3800米的大山上，高寒环境给人们的生产生活带来很多不便。2017年7月，政府筹建的易地扶贫新房建成，村民们搬到离县城不足2公里的新居。借助地缘优势，村里还成立了合作社，指导农户分散养殖52头牦牛，生产酥油、酸奶、鲜奶等制品进城销售，所得收益全部分配给村民。\\n易地搬迁，产业扶贫，靠的是政府好政策。过去5年，四川省通过精准识别，因人因户施策，使全省587万人成功脱贫，贫困地区农村居民人均可支配收入年均增速达10%以上，而全省贫困发生率则从11.5%降到2.7%。四川乐山井研县还通过建设脱贫幸福村，由政府购买服务，为失能、半失能贫困群众提供集中帮扶，解决子女的后顾之忧。\\n打赢脱贫攻坚战，更要打好脱贫攻坚战。在精准实施国家扶贫普惠政策的同时，四川省还创新举措，瞄准普惠政策覆盖不到的盲点，创立了产业扶持、教育救助、卫生救助、小额信贷分险四项扶贫基金，让脱贫群众再添保障。\\n截至2017年底，四川省“四项扶贫基金”累计规模达108亿元，共惠及175万户贫困群众。普惠政策织大网，四项基金补盲点，四川省用“绣花功夫”精准脱贫，取得令人欣喜的成绩。就在上个月，四川省还启动了精准脱贫“千日攻坚”行动，剑指脱贫攻坚剩下171万贫困人口，68个贫困县的硬骨头。 \\n']\n",
            "[0, 0, 0.99998635, '为贯彻落实党中央、国务院《关于开展扫黑除恶专项斗争的通知》精神，全国各级政法机关积极部署，重拳打击各类涉黑涉恶违法犯罪活动。\\n针对涉黑涉恶问题突出的重点地区、重点行业和重点领域，全国各级政法机关依法侦办、起诉、审理了一批黑恶势力违法犯罪案件。云南昆明警方对一长期盘踞在城乡结合部，操纵、经营地下卖淫违法犯罪的涉黑团伙实施了集中抓捕；河南周口警方在沈丘县打掉了一个强迫交易，垄断建筑材料市场的家族式涉黑犯罪团伙；河北省高级人民法院对金洪武黑社会性质组织犯罪案件做出终审宣判，法院审理认为金洪武等人以暴力、威胁等手段，寻衅滋事、故意伤害、强迫交易、干扰村民自治组织选举、串通竞拍，依法判处金洪武有期徒刑25年。\\n日前，最高人民法院、最高人民检察院、公安部、司法部四部门发布通告，公布了全国扫黑除恶举报网站、举报信箱和举报电话，敦促涉黑涉恶违法犯罪人员停止违法犯罪活动，主动投案自首。\\n政法机关将继续贯彻中央通知精神，对黑恶势力及其保护伞坚持打早打小，依法严惩。\\n']\n",
            "[0, 0, 0.9999296, '中国空军新闻发言人申进科大校今天发布消息，中国自主研制的新一代隐身战斗机歼-20，开始列装空军作战部队，向全面形成作战能力迈出重要一步。\\n歼-20战机于2016年11月参加中国珠海国际航展，首次公开进行飞行展示；2017年7月参加庆祝中国人民解放军建军90周年阅兵，首次以战斗姿态展示在世人面前，标志着空军向空天一体、攻防兼备的目标迈出了新的步伐。\\n歼-20战机交付空军后，实战实训逐步展开，飞行人才稳步成长，在空军“红剑-2017”体系对抗演习中发挥重要作用，为空军新质作战能力的提升打下基础。\\n空军发言人表示，空军正在向全疆域作战的现代化战略性军种迈进，成为有效塑造态势、管控危机、遏制战争、打赢战争的重要力量。歼-20战机列装空军作战部队，将进一步提升空军综合作战能力，有助于空军更好的肩负起维护国家主权、安全和领土完整的神圣使命。\\n']\n",
            "[0, 0, 0.99998784, '今天（9日），国务院新闻办介绍了2017年全国人大代表建议和政协委员提案办理的情况，办理数量保持在高位。\\n据统计，人力资源和社会保障部、交通运输部、工业和信息化部牵头办理的建议提案分别达到398件、321件和350件。\\n从办理实效来看，各部门在推动稳增长、促改革、调结构、惠民生、防风险方面出台了一系列有针对性的政策措施。\\n']\n",
            "[0, 0, 0.99960107, '银监会今天发布最新数据，2017年底，我国银行业金融机构本外币资产252万亿元，同比增长8.7%。反映银行业运行安全性的指标中，商业银行资本充足率为13.65%，比2016年末上升0.37个百分点；商业银行不良贷款率1.74%，与2016年末持平。\\n当前我国银行业运行稳健，风险可控。同时，服务实体经济的能力进一步提升。到去年底，银行业用于小微企业的贷款和涉农贷款余额都达到31万亿元，同比分别增长15.1%和9.6%。\\n']\n",
            "[0, 0, 0.9999874, '四川省邛崃市天台山镇，有一户人家远近闻名。一家三代七人，全部扎根山区为教育，把一代又一代的山村孩子送出大山。今天的新春走基层我们走近这一家三代人，倾听他们扎根乡村教育接力奋斗的故事。\\n这几天，四川邛崃天台山镇，年味儿越来越浓。\\n集市上，这一声声亲切的“吴老师”，叫的是吴松，但又不仅仅是吴松一个人。\\n坐落在天台山镇境内的太和九年制学校，辐射周边5个行政村、9000多村民，这里几乎每家每户都有吴家教过的学生。\\n吴松是吴家的第三代乡村教师。师范毕业后，他放弃城里的工作机会，回到家乡，成了太和学校第一位体育老师。但那个时候，学校几乎连块像样的操场都没有。\\n吴松的爷爷吴世雄是吴家的第一个“吴老师”，1953年他主动从城里回到太和乡教书，一教就是29年。当年，经常有家境贫困的孩子交不上两三元的学费，爷爷用自己十七八块的月工资，帮了一个又一个。同在村小教书13年的奶奶，也把许多濒临辍学的孩子找回了学校。受他们影响，吴松的妈妈后来也做了老师，并坚持了26年。\\n离学校200米远是吴松的家。刚进屋时，已经87岁高龄的奶奶正一个人安静地在窗口读书。吴松说，一家人当中最爱学习的就是奶奶。耳朵虽然听不见了，但奶奶每天都要学习好几个小时。吴家的客厅、卧室、门廊，到处都是书，奶奶走到哪里就看到哪里；对不熟悉的词汇，还会查字典之后抄写在小本子上。\\n好学不倦、尊教重德的家风在吴家每个人心里扎了根。吴松教了13年体育之后，又根据学校需要先后教过数学、物理和化学；爱人黄玉英则一直是太和学校的金牌数学老师；吴松的妹妹和妹夫也都在隔壁村镇的中学教书近20年。\\n身处邛崃最偏僻的山乡，曾经有几次走出去的机会摆在吴松和爱人面前，但最终他们都放弃了，因为这里有希望，也有一家人的初心。吴家三代从教的67年间，太和地区上万人完成了小学和初中学业，数千人考上了高中和大学，如今，他们在各自的岗位上耕耘着，收获着和幸福着。\\n']\n",
            "[1, 1, 0.9985113, '央行今天发布消息，全国性商业银行从1月中旬开始陆续使用期限为30天的临时准备金动用安排CRA，累计释放临时流动性近2万亿元，满足了春节前现金投放的需要。\\n']\n",
            "[1, 1, 0.99816763, '国家统计局今天公布数据显示，1月份，全国居民消费价格指数CPI同比上涨1.5%，涨幅比上月回落0.3个百分点，其中食品价格下降0.5%，非食品价格上涨2.0%。\\n']\n",
            "[1, 1, 0.997673, '今天（9日）记者从证监会获悉，原油期货将于3月26日在上海国际能源交易中心挂牌交易。\\n']\n",
            "[1, 1, 0.9987604, '今天，国家海洋局发布了《南极活动环境保护管理规定》，境内组织前往南极，禁止任何个人和机构，私自带入有毒、有害物质以及非本土动物进入南极，并禁止猎捕或获取南极哺乳动物及动植物整体或部分样本。\\n']\n",
            "[1, 1, 0.9959336, '截至今天（9日）下午16点，台湾花莲强震已经造成12人遇难，其中大陆游客4人，270多人轻重伤，仍然失联的五人都是大陆游客。此次震灾重建户数量粗略估算超过300户。\\n']\n",
            "[0, 1, 0.9997241, '以中国美食为题材，体现中国人文传统和生活智慧的纪录片《舌尖上的中国》第三季开播仪式今天在北京举行，该片共8集，每集50分钟，从2月19日（正月初四）开始，分别在央视综合频道、纪录频道和央视财经、中文国际、军事农业频道播出，并向全媒体平台推送。作为中央电视台出品，秉承中国文化价值理念的现象级纪录片，《舌尖上的中国》第三季不仅是对前两季题材内容上的延续，更是在品牌内涵上的一次创新。\\n']\n",
            "[0, 1, 0.9998592, '2018年通俗理论读物《新时代面对面》出版发行以来，走进社区、农村、机关、网络，架起基层群众学习学懂弄通十九大精神的桥梁，受到普遍欢迎。详情请看今晚焦点访谈播出的节目《带你读懂新时代》。\\n']\n",
            "[1, 1, 0.9984734, '央视少儿频道春节特别节目《过年啦》今天起和小朋友见面。节目中，少儿频道的主持人们化身寻宝特工队员，在珠海、长春两地展开神秘、有趣的寻宝之旅。节目将持续到2月15日。\\n']\n",
            "[1, 1, 0.9978128, '2018“书春日”大型主题直播活动今天在央视网举行，来自全国各地的书法家、书法爱好者以及各行业群众通过央视网演播室和设在京沪高铁、北京、贵州、黑龙江等地的直播点书写春联，祝福新年。\\n']\n",
            "[1, 1, 0.99339247, '朝鲜高级别代表团今天中午乘专机抵达韩国，出席平昌冬奥会开幕式。\\n代表团一行今天早些时候从平壤乘专机出发，直飞仁川国际机场。代表团由朝鲜最高人民会议常任委员会委员长金永南率领，成员还包括朝鲜劳动党中央委员会第一副部长金与正、国家体育指导委员会委员长崔辉、祖国和平统一委员会委员长李善权。\\n开幕式前，金永南参加了韩国总统文在寅为到访各国政要举行的招待会，文在寅将在10日会见朝鲜高级别代表团并共进午餐。代表团将于11日返回朝鲜。\\n就在8日晚，正在韩国访问的朝鲜艺术团在江原道江陵艺术中心举行了首场艺术演出。艺术团表演了朝鲜歌曲、韩国民谣以及多首世界经典名曲。11日，朝鲜艺术团还将在首尔进行演出。\\n']\n",
            "[1, 1, 0.99467224, '美国主导的国际联盟8日空袭了叙利亚亲政府武装人员，造成人员伤亡。叙利亚外交部对此表示谴责。\\n据叙利亚媒体报道，8日凌晨，代尔祖尔省东北部的亲政府武装人员正在该地区打击极端组织和叙利亚库尔德武装主导的“叙利亚民主军”，国际联盟战机对亲政府武装人员阵地进行了空中打击，造成数十人伤亡。\\n国际联盟和“叙利亚民主军”也都证实了这一空袭，并称空袭是因为叙利亚民主军受到了亲政府武装的无理攻击。美国国防部当天也表示，美国并不想与叙利亚政府发生冲突。此前，国际联盟曾经多次以联军及其支持的叙利亚反对派武装及库尔德武装受到威胁为由，打击叙利亚亲政府武装。\\n叙利亚外交部8日发表声明，谴责此次空袭是美国主导的国际联盟发动的“又一次侵略”和“支持恐怖主义”的行动，凸显美国对叙利亚政策的“侵略”本质。\\n对此，俄罗斯方面表示，8日的冲突发生在代尔祖尔省一处油田附近，“叙利亚民主军”和美军控制着这里的一座炼油厂。因此，美军目前非法部署在叙利亚的目的已经不再是打击极端组织，而是意图非法侵占叙利亚的国有资产。\\n']\n",
            "[2, 2, 0.9969867, '俄罗斯中央选举委员会8日终审核定8名竞选人获得新一届总统候选人身份，其中包括以独立候选人身份参选的现任总统普京、俄罗斯联邦共产党推荐的格鲁季宁、知名电视节目主持人索布恰克等。俄总统选举将于3月18日举行。全俄舆论研究中心日前公布的民调显示，普京支持率为69.9%，排在第二位的格鲁季宁支持率为7.2%。\\n']\n",
            "[2, 2, 0.9815413, '联合国负责反恐事务的副秘书长沃龙科夫8日表示，尽管极端组织在伊拉克、叙利亚以及菲律宾南部遭受重大挫败，但是已经分散成实施恐怖活动的小团伙，并通过勒索和设立检查站等手段获取资金。目前该组织在阿富汗、埃及以及非洲一些地区仍然活跃，企图重新在利比亚立足。与极端组织的斗争远没有结束，国际社会亟须采取统一行动。\\n']\n",
            "[0, 0, 0.99998885, '习近平总书记在十九大报告中提出，创新是引领发展的第一动力，是建设现代化经济体系的战略支撑。在习近平新时代中国特色社会主义思想指引下，处于爬坡过坎关键期的东北老工业基地吉林，突出科技创新核心地位，加强创新体系、平台和能力建设，努力走出一条具有吉林特色的振兴发展新路。\\n新年里，诞生在吉林的科技成果喜讯不断：中车长客成功研制出具有自主知识产权的世界首辆全碳纤维复合材料地铁车体；“一箭六星”升空，“吉林一号”组星系统又增加了2名新成员，在轨卫星数量达到10颗。\\n作为老工业基地，如何走出一条质量更高、效益更好、结构更优、优势充分释放的振兴发展新路？吉林省的思路是，下好创新这步先手棋。\\n吉林拥有62所高校、121个科研院所，“有中生新”，首先得利用好这些资源，依托中科院长春光机所研发力量，吉林布局“卫星+”产业，打造发展新引擎。眼下，航天信息产业园正式投产，未来，这里将形成近百亿元的产业集群。\\n老工业基地要振兴，还得能“无中生有”。十九大后，中关村信息谷创新中心、长春璀璨产业园等一批重大创新项目先后落地吉林。为扶持这些项目，吉林出台一系列政策。现在，在国家级创业创新示范基地长春新区，科技型中小企业可以使用政府发放的创新券，购买检验检测、专利代理等中介服务。\\n创新离不开人才，如何让人才引得进、留得住？不久前，吉林省出台了18条人才新政，从公共服务、创新创业扶持政策等四个方面出台了激励措施。\\n新政策留住了优秀人才。两个月来，仅长春就引进各领域人才2485人，从本科生到博士生，不仅能获得一次性安家费，还可以入住政府补贴30%的人才公寓。\\n创新更需要好机制。今年，吉林要建8个省级重点实验室，下一步将主动对接国家“科技创新2030—重大项目”，推动与国内外重点创新园区的长期互动合作。\\n2018年，吉林省还推出工业转型升级三年行动计划，着力打造汽车、石化、农产品加工、医药和装备五大支柱产业。\\n']\n",
            "[0, 0, 0.9999893, '中共中央政治局常委、国务院副总理汪洋9日在京出席民营企业家迎春座谈会，向广大民营企业家表达党中央、国务院的新春慰问，并就助力打好三大攻坚战听取意见建议。他强调，坚决打好防范化解重大风险、精准脱贫、污染防治三大攻坚战，是党的十九大作出的重大部署，是决胜全面建成小康社会内在要求，也是当前和今后一个时期经济社会发展重大任务，民营企业要充分发挥自身优势，勇于承担社会责任、统筹当前和长远利益，积极为打好三大攻坚战贡献民企智慧和力量。\\n汪洋强调，打好三大攻坚战将为我国建设社会主义现代化国家打下坚实基础，同时也将为民营经济实现高质量发展创造有利的经济和社会环境。希望广大民营企业家在这历史性的变革中，进一步提升自身能力，健全完善风险管控机制，强化自我约束，创新产品服务，推动产业优化升级。要继续深入参与“万企帮万村”精准扶贫行动，促进贫困地区产业发展和贫困人口就业增收。要坚定走绿色发展道路，认真执行生态环境保护制度，努力形成节约资源和保护环境的产业结构。\\n汪洋强调，毫不动摇鼓励支持引导非公有制经济发展，是坚持和完善我国社会主义基本经济制度的重要内容。各地区各部门要优化营商环境，稳定政策预期，依法维护民营企业合法权益，为民营企业发展创造良好条件。\\n中共中央书记处书记、中央统战部部长尤权主持会议。部分民营企业代表在座谈会上作了发言，并就打好三大攻坚战提出了意见建议。\\n']\n",
            "[0, 0, 0.99984556, '当地时间2月8日下午，应邀出席韩国平昌冬奥会开幕式的习近平主席特别代表、中共中央政治局常委韩正在首尔青瓦台会见韩国总统文在寅。\\n韩正转达了习近平主席对文在寅的问候，他表示，中韩是天然的合作伙伴。去年12月，总统先生对中国进行了成功的国事访问。今年伊始，习近平主席同你通了电话。两国元首就发展中韩关系、加强在重大地区国际问题上的协调达成重要共识。中方愿同韩方一道，沿着两国元首共识指明的方向，坚持相互尊重和支持，全面开展各层级沟通与对话，进一步活跃交流与合作，妥善处理好敏感问题，增进相互理解与信任。\\n韩正说，近期朝鲜半岛形势发生积极变化，韩朝双方以平昌冬奥会为契机重启对话，开展合作，南北关系改善取得进展。中方支持韩朝双方和解合作，希望有关各方相向而行，为进一步缓和半岛形势、推动半岛问题政治解决进程共同作出努力。\\n文在寅请韩正转达对习近平主席的亲切问候，感谢韩正作为习近平主席特别代表出席平昌冬奥会开幕式。他说，韩中关系正站在新的起点上，韩方愿同中方一道，推动韩中战略合作伙伴关系取得新发展，韩方赞赏中方在朝鲜半岛问题上发挥的积极作用，愿同中方保持沟通协调，推动半岛南北对话延续下去，通过和平手段解决半岛问题。\\n当地时间2月9日，韩正在平昌分别会见国际奥委会主席巴赫、联合国秘书长古特雷斯。\\n会见巴赫时，韩正表示，中国将全面兑现申办2022年北京冬奥会承诺，坚持绿色、共享、开放、廉洁办奥，为世界奉献一届精彩、非凡、卓越的冬奥会。巴赫表示，国际奥委会将同中方密切合作，确保北京冬奥会圆满成功。\\n会见古特雷斯时，韩正表示，习近平主席提出的构建新型国际关系、构建人类命运共同体的重要理念已写入联合国大会和安理会决议，日益成为国际共识。中国坚定支持联合国在国际事务中发挥积极作用。古特雷斯表示，联合国高度重视中国的国际地位和影响，愿同中方密切合作。\\n当晚，韩正在平昌出席了第二十三届冬季奥林匹克运动会开幕式。平昌冬奥会是党的十九大之后中国体育代表团参加的首次重大综合性国际体育赛事，也是检验备战2022年北京冬奥会阶段性成果的“前哨战”。\\n开幕式前，韩正专程到江陵“中国之家”看望中国体育代表团，并出席文在寅夫妇为各国和地区领导人等国际贵宾举办的欢迎招待会。\\n']\n",
            "[1, 0, 0.8999009, '2018平昌冬奥会昨晚在韩国平昌开幕，整个开幕式以“和平”为主题，在展示奥林匹克精神的同时，也点燃了奥运激情。\\n北京时间2月9日晚7点，平昌冬奥会开幕式正式开始，开幕式以“和平”为主题，象征奥运五环的五个儿童开启了冒险之旅，返回到神话时代，在天、人、自然的和谐共存中，呼应奥林匹克精神，体现出人们对和平的珍惜和渴望。\\n随后，91个代表团按照韩语字母表的顺序依次入场，中国代表团在旗手周洋的带领下第65个入场。平昌冬奥会中国代表团共派出82名运动员，参加5个大项、12个分项、55个小项的比赛，参赛项目总数创下了历史新高。\\n代表团入场仪式的焦点是最后登场的朝鲜、韩国代表团，两国运动员手举朝鲜半岛旗共同入场，这是冬奥会历史上朝韩第一次联合入场。\\n在国际奥委会主席巴赫致辞后，韩国总统文在寅宣布平昌冬奥会正式开幕。滑雪运动员与1200多个无人机一起展示了奥运五环，将开幕式再次推向高潮。最后，备受瞩目的此次冬奥会奥运圣火点燃仪式，由韩国花样滑冰名将、也是平昌冬奥会的形象大使金妍儿完成。\\n在未来16个比赛日中，将进行7个大项，102个小项的角逐。10日下午，本届冬奥会的首枚金牌由瑞典选手卡拉在越野滑雪双追逐赛中获得。在已经展开的花样滑冰团体赛、冰壶混双、自由式滑雪雪上技巧等比赛中，中国运动员正常发挥。北京时间18点开始的短道速滑男子1500米比赛，中国队派出韩天宇、武大靖和许宏志三人参赛，虽然比赛中意外不断，但中国的三名运动员均晋级半决赛，金牌将于10日晚20点30分左右产生。\\n']\n",
            "[0, 0, 0.99997485, '郑州北站是亚洲作业量最大的货车编组站，京九和陇海铁路在这里交汇。春运期间，南下和北上的日用品、生鲜、煤炭等物资要在这里重新编组，能不能准时抵达目的地，就要看这样一群自称为“解钩手”的年轻人的功夫了。\\n在轨道旁不停跑来跑去的这个人叫陈林，今年29岁，去年刚在全站大比武里得了第一，被人称作“无敌解钩手”。说起“解钩手”的工作，简单来讲，就是伴随着时速10公里左右仍在移动的货车车厢，用最快的速度摘掉车厢之间的连接钩。\\n由于车厢在静止状态下完成解钩然后再去编组，会大大影响编组效率，所以“解钩手”们必须在动态下作业。货车被拖进工作区以后，陈林他们这些“解钩手”，就要像给车厢点名一般，按照计划解钩，然后车厢就会自动走向各个股道。陈林他们一个班工作12个小时，平均要解组50列货车，每列货车有60节车厢，一列货车最多要解钩二三十次。所以，这份工作除了危险，其实还挺费鞋。\\n作为亚洲作业量最大的列车编组站，郑州北站一天要安排货车24000节。所以“解钩手”们四班倒，除了白班，还有夜班。春运期间，别看货运要给客运让路，但却是最忙的时候。他们必须见缝插针加快编组，让运往各地的日用品、生鲜食品、燃煤、油品按时抵达。\\n郑州最近刚刚下过雪，加上刮风，室外待一会儿就冻透了。但记者发现，每次见到陈林他们这些“解钩手”，都穿得很少。\\n为了保证操作的精准和效率，所有的“解钩手”们，上岗后都不会穿太多。别看既危险又辛苦，陈林他们自己说起自己的工作，却透着一股子“轻松”。\\n现在，工作6年的陈林，因为表现突出，已经带了4个徒弟了。\\n春运的到来，对陈林他们这些“解钩手”们来说，意味着真正的大战开始了。尤其是大年三十过后，旅客们顺利回到故乡，大量临客停运，货运迎来了发车的黄金时间。大年夜、初一、初二，就在万家团圆、举杯庆贺的时候，也正是他们挥汗如雨、分秒必争的时刻。\\n']\n",
            "[0, 0, 0.9999876, '贵州罗甸县麻怀村党支部书记邓迎香，带领乡亲们开洞修路、发展产业，让一个山沟沟里的贫困村脱贫致富。\\n这段时间，麻怀村养殖基地里的200多头黑毛猪到了出栏的时候，每天都会有采购商开车来村子里挑选，而以前这里是个不通路的贫困村。\\n1999年，邓迎香和大伙儿协商后决定，凿出一条出山的隧道。2011年，隧道完工，麻怀村靠发展生态农业和中药材产业，甩掉了贫困村的帽子。\\n']\n",
            "[0, 0, 0.9999754, '连日来，文化部及其所属文艺院团和相关单位赴全国各地开展文化文艺小分队演出和慰问活动，在春节前夕为各地群众送上新春祝福。\\n这是中央民族乐团在山东省临沂市沂南县铜井镇举办的“基层户外音乐会”，演员们为观众带来了《沂蒙山小调》《沂蒙颂》等众多深受当地百姓喜爱的歌曲。\\n在广西凭祥，中国儿童艺术剧院的“优秀儿童剧走进边陲重镇”公益演出项目，将经典儿童剧《伊索寓言》和《小吉普·变变变》送到了校园里。\\n春节期间，文化部共将组织42支文艺小分队分赴贵州、江苏、内蒙古等地开展新春慰问活动，为全国人民提供丰富的“文化大餐”。\\n']\n",
            "[0, 0, 0.99995387, '在山东济南，来自京杭大运河沿线5省12个城市的非遗项目同台展演，交流非遗文化，也拉开了山东非物质文化遗产月展演展览的序幕。\\n山东通过立法设立“非物质文化遗产月”，促进非遗融入现代生活。今年非遗月期间，将举办700多场文化活动。近年来，山东不断完善非遗保护工作机制，传统工艺类企业和经营业户达到110万个，从业人员300万人，年营业收入1267亿元，非遗传承活力不断增强。\\n']\n",
            "[0, 0, 0.9999811, '春运高峰来临，各地铁路部门推出多项服务举措，保障旅客在高峰期走得了、走得好。\\n2月10日，全国铁路预计发送旅客990万人次，增开旅客列车888列。武汉局协调公交部门每晚开行17趟夜行公交，方便乘坐“夜行高铁”深夜抵达车站的旅客回家。南宁局在广西百色等高铁站开行去往凌云等11个县的接驳班车，解决乘客返乡最后一公里的问题。\\n济南西站则把管内5个高铁车站候车区内公共卫生间的93个洗手池改造成恒温温水。长春站把原本硬质的航空座椅全都改为具备自助按摩功能的软座沙发。太原、南昌等地车站与所经各次列车建立服务联动，及时交换老幼病残孕等重点旅客需要帮扶信息。南京南站招募专业急救志愿服务队进驻车站开展急救志愿保障工作。\\n']\n",
            "[1, 1, 0.9983156, '中石油公布的最新数据显示，2017年中石油天然气产量达到1033亿立方米，同比增长5.3%，首次突破千亿方，“绿色贡献”相当于一年新植树木14.2亿棵。\\n']\n",
            "[1, 1, 0.99878156, '在全国公安机关打击“盗改销”手机专项工作中，云南昆明警方打掉一个在公交站台人为制造拥挤、相互掩护扒窃手机的特大犯罪团伙，抓获犯罪嫌疑人62名，查扣被盗手机2000多部。\\n']\n",
            "[1, 1, 0.9975532, '由中央电视台、中国楹联学会等单位主办的2018年全球春节春联征集活动落下帷幕，220副获奖春联亮相央视活动官网。活动启动以来，征集春联作品近3.2万副。线下书写活动先后在北京、上海、纽约、多伦多、伦敦等国内外20多个城市开展。\\n']\n",
            "[1, 1, 0.99890715, '随着积雪融化，新疆库尔勒市杜鹃河上天鹅等800多只越冬禽鸟在水中嬉戏，这也是野生天鹅连续第13个年头飞到库尔勒越冬。\\n']\n",
            "[1, 1, 0.9907241, '叙利亚国家电视台援引叙利亚军方的消息称，以色列军方10日向叙利亚中部的一处空军基地发动侵略行动，叙利亚防空部队开火回应，击落了一架以军战机。\\n叙利亚军方称，当天以军战机袭击了叙中部霍姆斯市附近的T4空军基地。叙利亚防空部队开火回击击中多架以军战机。叙利亚媒体报道称，其中，以色列一架F-16战机被击落。另据叙利亚媒体报道，当地时间10日上午，以色列向大马士革西部目标发射了数枚导弹，袭击目标是叙利亚共和国卫队的设施，部分导弹被叙利亚防空部队拦截。大马士革郊区传出了爆炸声。\\n而据以色列军方10日发表的声明，当天一架伊朗无人机从叙利亚起飞进入以色列领空，被以方拦截，以军出动战机打击了伊朗在叙利亚的控制中心。以军方还证实了一架F-16战机被击落的说法，并称飞机坠落在以色列北部，两名受伤的飞行员已经被送往医院救治。随后，以军对叙利亚发起又一轮空袭，打击叙利亚12处目标，并指责伊朗侵犯以色列主权。\\n去年12月和今年1月，以色列曾多次向包括首都大马士革在内的叙境内多处目标发射导弹。叙防空系统对这些导弹均进行了拦截。\\n']\n",
            "[1, 1, 0.99543184, '韩国总统文在寅10日在青瓦台会见了到访的朝鲜高级别代表团，朝鲜方面向文在寅发出访朝邀请。\\n据青瓦台的消息，韩国总统文在寅当天会见了朝鲜高级别代表团，并与代表团共进了午餐。参加会见的朝方代表包括朝鲜最高人民会议常任委员会委员长金永南、朝鲜劳动党中央委员会第一副部长金与正、朝鲜国家体育指导委员会委员长崔辉、朝鲜祖国和平统一委员会委员长李善权。 \\n在会见期间，朝鲜劳动党中央委员会第一副部长金与正作为朝鲜最高领导人金正恩特使，向文在寅转交了朝鲜最高领导人金正恩的亲笔信，金正恩邀请文在寅在方便的时候访问朝鲜。\\n文在寅表示，希望今后创造条件，实现访朝。他还说，为实现南北关系发展，一定需要朝美之间尽早对话，望朝方能积极与美国展开对话。\\n此前一天，朝鲜高级别代表团乘专机抵达韩国仁川机场，出席了9日晚举行的平昌冬奥会开幕式。据青瓦台的消息，韩国总统文在寅10日晚和朝鲜最高人民会议常任委员会委员长金永南一起在江陵观看韩朝女子冰球联队与瑞士队的比赛，为韩朝联队加油助威。\\n按计划，朝鲜高级别代表团11日结束对韩国为期三天的访问乘专机返回朝鲜。\\n']\n",
            "[2, 1, 0.77170753, '9日，“2018年中国·尼泊尔跨国春节联欢晚会”在尼泊尔首都加德满都举行。\\n晚会在歌舞《欢欢喜喜过大年》喜庆热烈的气氛中拉开帷幕。欢快的中国传统民族舞蹈、古筝弹奏以及尼泊尔传统歌舞等节目，赢得了现场观众阵阵掌声。包括尼泊尔总统班达里夫人在内的尼泊尔各界人士400多人观看了演出。\\n此次晚会由国务院新闻办公室支持、指导。近年来，类似的“跨国春晚”已经在柬埔寨、老挝、缅甸等多国举办，反响很好，吸引了越来越多的国家加入。\\n']\n",
            "[2, 2, 0.99642944, '韩国总统文在寅9日在平昌会见日本首相安倍晋三时表示，《韩日“慰安妇”协议》签署后，受害者和韩国国民均表示无法接受，要真正解决问题，应恢复受害者的名誉和尊严，治愈她们的心灵创伤。安倍则称，协议的履行不应受政府更替影响，希望韩政府信守承诺。\\n2015年，日本与当时的朴槿惠政府签署该协议，但文在寅出任总统后，韩方多次对协议表达不满。\\n']\n",
            "[1, 2, 0.9933376, '俄罗斯奥委会9日发布公告称，国际体育仲裁法庭驳回47名期望参加平昌冬奥会的俄运动员与教练员的上诉请求，使他们无缘本次冬奥会，俄方对此表示遗憾。 \\n当天，俄国家杜马（议会下院）发布声明称，俄罗斯大部分运动员不能参赛，损害了建立在诚实竞赛原则上的奥林匹克精神。由于涉及在2014年索契冬奥会期间使用兴奋剂，这些运动员与教练员被国际奥委会剥夺参加奥运会的权利，他们也就此向国际体育仲裁法庭提起上诉。另有169名来自俄罗斯的运动员经由严格审查获得批准以中立身份参加平昌冬奥会。\\n']\n",
            "[2, 2, 0.9495322, '9日，欧盟委员会英国“脱欧”谈判首席代表巴尼耶表示，欧盟与英国在过渡期问题上存在着重大分歧，双方没有达成过渡期协议。\\n本月6日到9日，英国与欧盟针对“脱欧”过渡期协议展开首轮谈判。欧盟之前公布的立场文件显示，在过渡期期间，英国将不再是欧盟成员国，英国可以进入欧盟单一市场，但需要继续遵守欧盟所有的法规，包括在此期间引入的新法规等。对此，英国“脱欧”事务大臣戴维斯表示，欧盟此举是“十分粗鄙的行为”。\\n']\n",
            "[1, 2, 0.9720316, '当地时间9日清晨，美国总统特朗普签署了国会两院通宵投票通过的拨款法案，美国联邦政府在数小时“技术性”停摆之后恢复运营，这也是过去一个月内美国政府的第二次停摆。9日通过的临时拨款法案可使政府维持运行至3月23日。美国联邦政府预算向来是两党政治博弈的焦点和筹码。由于两党未能在2018财年开始前就本财年各联邦政府部门的具体支出方案达成一致，过去几个月联邦政府一直依靠临时拨款法案运营。\\n']\n",
            "[0, 0, 0.99998754, '习近平同志2017年10月18日在中国共产党第十九次全国代表大会上所作的报告《决胜全面建成小康社会，夺取新时代中国特色社会主义伟大胜利》的英文、法文、西班牙文、德文、日文、俄文、阿拉伯文、葡萄牙文、越南文、老挝文等10个语种单行本已由外文出版社出版，即日起面向海外公开发行。\\n']\n",
            "[0, 0, 0.9999888, '习近平总书记在十九大报告中指出，实施区域协调发展战略，以疏解北京非首都功能为“牛鼻子”推动京津冀协同发展。北京市在习近平新时代中国特色社会主义思想的指引下，围绕“建设一个什么样的首都，怎样建设首都”这一重大问题，不断深化认识，拉出任务清单，进一步形成生动实践。\\n进入2018年，北京市启动了新一轮“疏解整治促提升”专项行动，全年计划拆除违法建设面积4000万平方米，疏解提升市场159个，调整医院、学校等公共服务资源空间布局，留白增绿，补齐便民设施。\\n2014年、2017年，习近平总书记两次考察北京，为在雾霾、堵塞、拥挤中困顿的北京开出了治理“大城市病”的处方，一场有序疏解非首都功能的攻坚战由此打响。\\n这座大楼的前身是北京“动批”商圈有名的天皓成服装批发市场，如今有了一个新名字——“宝蓝金融创新中心”，入驻的企业既有拥有世界顶级无人机技术的高新企业，也有已经上市的互联网金融企业。虽然面积只有“动批”商圈的3%，但是每年产生的经济效益超过了原来整个“动批”的总和。\\n“动批”商圈的第一家服装批发市场，如今也在变身全民健身中心，工作人员正在加紧为建设标准冰球场和冰壶球场做最后的测量。随着有序疏解非首都功能的稳步推进，“建设一个什么样的首都”格局更为清晰，并逐步形成共识。\\n社区周边腾退出来的公共空间怎么利用？北京还在多个区开展试点让老百姓说了算。这两天，朝阳区潘家园街道的居民议事厅里，小区里拆违腾出来的空间如何利用正在热议当中。\\n十九大以后，北京将严格控制城乡建设用地总规模，到2020年由现在的2945平方公里减到2860平方公里左右，到2035年减到2760平方公里左右。确保核心区建筑规模负增长，中心城区规划建筑规模动态零增长。\\n与此同时，北京启动了新一轮大气污染防治行动计划，紧扣当前污染源的变化，从严查处尾气排放超标车辆；新一轮百万亩平原造林绿化工程，进一步强化让森林进入城市；刚刚发布的《十大高精尖产业指导意见》为全市产业新发展勾勒出“路线图”。北京市政府投入200亿元发起的科技创新基金、引导社会资本1000亿元集中投入“硬科技”原始创新。以科技创新为核心带动全面创新。\\n']\n",
            "[0, 0, 0.9999888, '十二届全国人大常委会第一百一十一次委员长会议11日上午在北京人民大会堂举行。会议决定，十二届全国人大常委会第三十三次会议于2月23日至24日举行。张德江委员长主持会议。\\n十二届全国人大常委会第三十三次会议的一项重要任务是为即将召开的十三届全国人大一次会议做好准备工作。委员长会议建议，常委会第三十三次会议审议全国人大常委会工作报告稿，听取全国人大常委会办公厅关于十三届全国人大代表选举工作情况的报告，审议十二届全国人大常委会代表资格审查委员会关于十三届全国人大代表的代表资格的审查报告，审议十三届全国人大一次会议议程草案、主席团和秘书长名单草案、列席人员名单草案。\\n委员长会议建议的常委会第三十三次会议议程还有：审议委员长会议关于提请审议关于实行宪法宣誓制度的决定修订草案的议案，审议全国人大常委会执法检查组关于检查种子法实施情况的报告，审议十二届全国人大常委会代表资格审查委员会关于个别第十二届全国人大代表的代表资格的报告，审议中央军事委员会关于提请审议批准增补人民解放军选举委员会成员的议案，审议有关任免案。\\n委员长会议上，全国人大常委会副委员长兼秘书长王晨就十二届全国人大常委会第三十三次会议议程草案和日程安排意见作了汇报。全国人大常委会有关副秘书长，全国人大有关专门委员会、常委会有关工作委员会和代表资格审查委员会负责人就常委会第三十三次会议有关议题等作了汇报。\\n']\n",
            "[0, 0, 0.999989, '国务院副总理、国务院食品安全委员会主任张高丽11日主持召开国务院食品安全委员会第五次全体会议并讲话。会议总结5年来食品安全工作，讨论有关文件，研究2018年重点工作原则意见，部署春节期间和全国“两会”前食品安全工作。\\n中共中央政治局常委、国务院食品安全委员会副主任汪洋出席会议。\\n张高丽表示，党中央、国务院高度重视食品安全工作。过去5年，食品安全工作取得明显成效。下一步，要认真贯彻习近平新时代中国特色社会主义思想和党的十九大精神，推动食品安全治理体系和治理能力现代化，确保人民群众“舌尖上的安全”。\\n张高丽强调，做好食品安全工作，要坚持产管并重，严格把好食品安全每一道关口。要坚持标本兼治，促进食品产业高质量发展。要坚持德法并举，推动在全社会形成尚德守法、共治共享的食品安全文化。要坚持点面结合，推广先进典型经验带动食品安全治理水平整体提升。要扎实做好春节和全国“两会”期间食品安全工作，让人民群众过上一个安全祥和快乐的春节。要坚持党政同责，切实担负起促一方发展、保一方平安的政治责任。把食品安全各项工作抓实抓好抓出成效。\\n汪洋强调，要认真贯彻落实党的十九大精神，积极适应我国社会主要矛盾变化，加快健全标准体系，夯实监管基层基础，创新监管方式方法，落实属地管理责任，进一步提升食品安全监管能力和水平。要加强监管执法，强化行业自律，鼓励公众监督，督促生产经济者履行主体责任、诚信守法经营。要深入推进供给侧结构性改革，促进农业和食品产业高质量发展。\\n']\n",
            "[0, 0, 0.99998903, '中共中央政治局常委、国务院副总理汪洋11日出席全国性宗教团体负责人座谈会，共庆新春佳节，并代表中共中央和习近平总书记向全国宗教界人士和广大信教群众致以新春的祝福。\\n汪洋在听取各宗教团体负责人发言后说，2017年是党和国家事业发展进程中具有里程碑意义的一年，也是宗教工作创新推进的一年。各宗教团体坚持中国化方向，引导广大信教群众紧密团结在党和政府周围，为促进民族团结、宗教和顺、社会和谐作出了积极贡献。\\n汪洋强调，2018年是贯彻党的十九大精神开局之年。宗教界要继续深入学习贯彻习近平新时代中国特色社会主义思想和党的十九大精神，认真落实中央关于宗教工作的重大决策部署，更好地坚持我国宗教中国化方向，不断引导宗教与社会主义社会相适应；更好地运用法治思维和方式处理矛盾问题，加强对信教群众的宗教政策法规宣传教育；更好地培养高素质的宗教界人才，推进爱国宗教人士队伍建设；更好地开展宗教团体思想建设、制度建设、教风建设、充分发挥好对信教群众的正确引领作用。各地各部门要一如既往地支持宗教团体的工作，充分尊重和维护宗教界的合法权益，帮助宗教团体加强自身建设，及时解决影响宗教关系和谐的突出问题。\\n国务院副总理刘延东，中共中央书记处书记、中央统战部部长尤权出席座谈会。中国佛教协会、中国道教协会、中国伊斯兰教协会、中国天主教爱国会、中国基督教三自爱国运动委员会有关负责人在座谈会上作了发言。\\n']\n",
            "[0, 0, 0.99998736, '“当干部就应该能吃亏”，这是河南省濮阳县西辛庄村党支部书记李连成常挂在嘴边的话。27年来，他带领群众把西辛庄从一个落后的贫困村，变成了富裕的文明村。\\n早上6点半，天还没亮，西辛庄的村干部们已经在农民礼堂打扫卫生了。每天早饭前义务劳动1小时，已经是西辛庄20多年的传统。\\n30年前，李连成靠种植大棚蔬菜，成为村里第一个万元户。1991年8月，同样渴望脱贫的村民推选李连成为村支部书记。上任之初，李连成就立下誓言，要带领老百姓脱贫。村里发展大棚蔬菜，他免费提供技术；贫困户没有资金，他就把自己的大棚无偿转给贫困户。\\n前些年，渐渐富起来的西辛庄村搞新村规划建设，李连成给自家选的宅基地却是村南一个臭水坑。李连成又吃了“亏”，但西辛庄的新村建设却顺利推行。西辛庄村也从人均收入不足700元，发展成现在人均收入超过28000元、固定资产达6000万元的富裕村。\\n']\n",
            "[0, 0, 0.9999734, '李连成为村民利益让自己吃亏，表面上看，他失去了一些物质利益，但收获的是村民的信任和拥护，这是花多少钱都买不来的无价之宝。党的基层干部为老百姓的利益吃亏受累，这正从细微处体现了我们党一切以人民为中心的执政理念。\\n']\n",
            "[0, 0, 0.99997234, '今年春运是西成高铁正式开通运营后的第一个春运，它把西安至成都的运行时间由过去最快11个小时缩短为3个多小时，因此这条新蜀道备受青睐。但还有一条老蜀道依然在运行，那就是宝成铁路。宝成铁路上，宝鸡至广元之间的6063次绿皮火车运行整整60年了。这趟穿越秦岭的慢车，已成为了沿线百姓的铁路公交车。\\n冬季的秦岭，白雪皑皑，银装素裹，每当6063次绿皮小火车驶过的时候，长长的汽笛声才能划过它的寂静。窗外天寒地冻，小慢车里却是一片热火朝天的景象。\\n这些产自陕西山里的农副产品正通过6063次穿越秦岭的小慢车，运送到终点站四川省广元市，在那里这些山货能卖个更好的价钱。\\n山民们背一趟山货，利润也就是几十块钱，所以车费也就得精打细算了。而这趟6063次小慢车起步价1块，最高票价宝鸡到广元21块5，价格二十多年来一直没变，成了山民们出行最实惠的选择。\\n1958年1月1日，宝成铁路正式建成通车，这趟秦岭小慢车开始运行。60年来，虽然几经车次变更，但它已经成为了沿线老百姓生活的一部分。它行经陕、甘、川三省，单程运行350公里，最高时速不超过每小时70公里，往返运行24个小时，38个车站，逢站必停。因为站站停，票价低，沿线老百姓赶集、上学、探亲都离不开它。 \\n为了孩子们的安全，同时方便他们学习，小慢车的乘务员们专门为学生设置了独立的“通学车厢”，定做了特制的大桌板，还通过职工募捐的方式，为孩子们准备了用于阅读的书籍。\\n寒来暑往，沿线的学生和家长都和小慢车的乘务员熟悉了，家长经常直接把孩子交给列车乘务员，到站后由乘务员把孩子们送下车。\\n几十年来，小慢车把一批批孩子送出了大山，撑起了他们的求学梦。\\n这个正和孩子们聊天的车长就是向宝林，53岁的他在宝成线上跑了几十年了，说话热情又温和。向车长对沿线的山民还有着更深的感情。当年他的父亲作为宝成铁路的建设者从四川来到了陕西茨坝，定居于此，他就出生在这。在宝成铁路沿线长大、工作，沿线的山民和他之间早已都是家乡人一般了。\\n在老宝成线上跑了一辈子，向车长说，身边的列车越来越多，速度也越来越快。去年底，他又见证了西成高铁这条新蜀道的开通运行。在“快”节奏的时代下，老乡们依然对这趟小慢车情有独钟。由于山区没有其他公共交通工具，这趟穿越秦巴贫困地区的小慢车，已成为山里人的铁路公交车，惠及贫困人口300多万。这几年，尽管小慢车的运营仍处于亏损状态，西安铁路局还是先后投入了1000多万元用于改善7对公益小慢车的设施设备，为了山里百姓的出行需求，小慢车还将继续开行下去。\\n']\n",
            "[0, 0, 0.9999876, '国务院新闻办公室今天召开发布会，解读《关于全面加强基础科学研究的若干意见》。科技部有关专家表示，《意见》明确了我国基础科学研究“三步走”的发展目标。《意见》提出，要瞄准世界科技前沿，强化基础研究，深化科技体制改革，促进基础研究与应用研究融通创新发展，着力实现前瞻性基础研究、引领性原创成果重大突破，全面提升创新能力。\\n']\n",
            "[0, 0, 0.9999733, '今天是腊月二十六，人们在张灯结彩办年货的喜庆忙活里，准备迎接即将到来的新春佳节。无处不在的浓浓年味提醒着人们，年，真的就要到了。\\n春节临近，年味体现在琳琅满目的年货里。在江西萍乡，白源街道的年货大集上，当地政府为3000多位贫困农民搭起了一个土特产的销售平台。3天下来，线上线下的交易额就近200万。\\n在安徽当涂的年货街上，你可以边吃边买边玩，还可以欣赏非遗演出。\\n在江苏阜宁，热气腾腾的包子出炉了，年味十足的老传统，让人又体味着忙年的快乐。\\n年味还体现在城市的大街小巷里。深圳城区更换了立体花坛，挂起了大红灯笼。这副长73米，宽10米的巨幅春联格外提气。\\n年味还洋溢在返乡的列车上。在上海虹桥开往烟台的G461次列车上，乘务人员挨个车厢为返乡旅客送春联、送灯笼，奉上祝福。\\n年货齐全、祝福满满，新春佳节的文化大餐格外丰富。\\n在浙江德清，“我们的村晚”热闹开场，传统中糅合了现代元素，时尚里流淌着乡土气息。\\n春节期间，“我们的村晚”将在浙江的8000多个农村文化礼堂陆续上演。\\n在湖北武汉，政府免费给市民发放了20万张景区门票，从正月初二到正月十五，武汉的主要景区免费开放。旅游惠民还将贯穿2018全年，将免费派送100万张武汉主要景区和乡村旅游点免费入园券。\\n花灯扮靓古堡，民俗尽显年味。在河北承德，皇家灯会盛大开园。集彩灯、冰雕和民俗表演为一体的彩灯嘉年华，营造出年文化的浓厚氛围。\\n在山西晋城，新春庙会火热进行，在十万盏造型各异、不同时代的花灯映衬下，这座明清古堡美轮美奂。\\n']\n",
            "[0, 0, 0.9997502, '在昨晚进行的平昌冬奥会短道速滑女子3000米接力预赛中，我国4名选手打破冬奥会纪录，顺利晋级决赛。\\n昨晚进行的短道速滑女子3000米接力预赛，由周洋、范可新、曲春雨和韩雨桐组成的中国队滑出了4分05秒315，创造了新的冬奥会纪录，并以小组第一的身份晋级决赛。\\n女子500米预赛中，中国选手同样表现不俗，范可新、韩雨桐、曲春雨携手晋级1/4决赛。\\n']\n",
            "[1, 1, 0.9973439, '11日一早，台湾花莲地震中最后失联的大陆游客一家五口的家属在北京台办工作人员的陪同下，前往云门翠堤大楼现场了解情况、致哀悼念。截至目前，花莲6.5级地震已造成17人遇难，其中包括9名大陆游客。\\n']\n",
            "[1, 1, 0.9984591, '2月10日，作为应对冬季天然气调峰保供的重要途径的我国地下储气库，日调峰供气量突破9000万立方米，创历史新高，比去年同期增加1400多万立方米。入冬以来，已累计供气达66亿立方米。\\n']\n",
            "[1, 1, 0.9987251, '国家发改委今天表示，进入2月份以来，电厂供煤明显增加，2月1日到8日，日均供煤632万吨，比1月下旬增长7%，日均耗煤615万吨，比1月下旬下降5%，可用天数15天，库存正逐步提高。\\n']\n",
            "[1, 1, 0.9979182, '武警部队体制改革后举行首期新军事训练大纲集训。来自武警部队的200多名军事主官、分管领导按照《中国人民解放军军事训练条例（试行）》展开集训，全面提升实战化军事训练水平。\\n']\n",
            "[1, 1, 0.99305946, '连日来，中华全国总工会2018年春节“送温暖”活动全面展开。22路慰问团奔赴各地，走访慰问一线职工、困难职工和农民工，帮助解决他们的后顾之忧，把党和政府的关怀送到基层。\\n']\n",
            "[1, 1, 0.99749386, '大型文博探索类节目《国家宝藏》本季的收官之夜将于今晚19：30在央视综艺频道播出。九大馆长将再次齐聚国宝舞台，现场揭晓最终进入特展的9件国宝名单。\\n']\n",
            "[1, 1, 0.9924457, '以色列国防军10日说，为报复叙利亚击落以色列战机，以军当天再次出动战机，对叙利亚防空系统和叙境内的伊朗军事设施等目标进行空袭。\\n以色列国防军发言人说，这次以军空袭的目标包括叙利亚第四装甲师的8个目标，伊朗在叙利亚建立的4个军事设施。所有目标都被击中，以军战机全部安全返航。该发言人称，以军受到来自地面约20枚萨姆导弹的反击。\\n根据以色列国防部的说法，10日凌晨，一架伊朗无人机从叙利亚起飞进入以色列领空，被以方拦截；作为报复以军打击了叙利亚的一个空军基地，在行动中以军一架F-16战机被叙利亚击落。\\n以色列总理内塔尼亚胡10日晚上说，伊朗和叙利亚必须为当天发生的事件负责。内塔尼亚胡说，伊朗的行动表明它在叙利亚建有军事基地，企图借叙利亚领土对以色列发动攻击。\\n伊朗外交部10日发表声明指责以方的言论是“荒唐的”。声明说，以色列战机近期不断入侵叙利亚领空，而叙利亚军队击落了其中一架，作为一个主权国家，叙利亚“有权捍卫领土完整，反对外来入侵”。伊朗外交部还强调，伊朗只是在叙利亚政府的邀请下，向叙境内派遣了军事顾问。\\n此外，俄罗斯总统网站发布新闻公告称，俄罗斯总统普京和以色列总理内塔尼亚胡10日晚上通电话，重点讨论了叙利亚和以色列边境局势问题。俄方呼吁冲突各方保持克制，避免采取进一步激化地区局势的举动。\\n在打击极端组织的战斗取得明显进展后，以叙边境的紧张局势近期不断升级。去年12月2日和4日，以色列两次向大马士革市郊发射导弹。今年1月9日，以色列对叙利亚境内多处目标发射导弹。叙利亚防空系统对这些导弹进行了拦截。\\n']\n",
            "[2, 2, 0.59120935, '据叙利亚通讯社10日报道，一架土耳其军用直升机当天在叙北部阿勒颇省阿夫林地区上空被击落。报道说，直升机被击落的位置在阿夫林西北部拉乔镇。叙利亚库尔德武装当天也证实了在阿夫林地区击落土耳其直升机的消息。\\n1月20日，土耳其对阿夫林地区发起军事行动，打击叙利亚库尔德武装“人民保护部队”。\\n']\n",
            "[2, 2, 0.9928959, '印度总理莫迪10日访问巴勒斯坦约旦河西岸城市拉姆安拉，这是历史上印度总理首次访问巴勒斯坦。巴勒斯坦国总统阿巴斯说，巴方愿同印度在安全和反恐领域加强合作，并重申了建立以东耶路撒冷为首都的巴勒斯坦国的目标。莫迪称，印度重视巴勒斯坦的利益，希望能尽快建立一个拥有独立主权的巴勒斯坦国。\\n访问期间，印度和巴勒斯坦签署了价值4100多万美元的协议。\\n']\n",
            "[2, 2, 0.9973351, '10日，哥伦比亚东北部的塞萨尔省连续发生两起针对桥梁和道路的爆炸袭击，造成道路交通中断，所幸没有造成人员伤亡。哥伦比亚军方说，这些袭击是该国反政府武装“民族解放军”所为。 \\n“民族解放军”是哥伦比亚目前唯一的反政府武装，此前曾与哥政府进行多轮和平谈判，但1月29日，哥伦比亚总统桑托斯宣布，“民族解放军”在境内制造多起炸弹袭击，政府决定暂停与其和谈。\\n']\n",
            "[0, 0, 0.99998903, '中华民族传统节日——春节来临之际，中共中央总书记、国家主席、中央军委主席习近平10日来到驻四川部队某基地，深入发射工位和技术厂房，看望慰问部队官兵，代表党中央和中央军委，向全体解放军指战员、武警部队官兵、民兵预备役人员致以诚挚问候和新春祝福。他强调，要认真贯彻党的十九大精神，深入贯彻新时代党的强军思想，坚持政治建军、改革强军、科技兴军、依法治军，聚焦备战打仗，加快创新发展，全面提高履行使命任务能力，为实现党在新时代的强军目标作出新的更大贡献。\\n2月的川西大地山青水碧、和风送暖，处处洋溢着春的气息。下午4时许，习近平来到某基地发射场。他一下车，就前往发射工位。高大的发射塔架巍然伫立，十分壮观。习近平边听介绍，边看发射场布局说明图，详细了解发射场结构功能，不时询问有关问题。工作人员介绍三号发射工位功能齐全，可以发射多种型号火箭和航天器，创造了我国航天史上多个第一，习近平点头称赞。不远处的二号发射工位已执行数十次发射任务，按计划将于近日发射北斗三号卫星。\\n指挥大厅内，基地官兵正在紧张有序地忙碌着，习近平很关心北斗三号卫星发射任务准备情况，特意来到这里看望大家。看到习主席到来，大家非常激动，全体起立，报以热烈掌声。习近平同工位上的官兵一一握手。习近平同科技人员亲切交谈，详细询问每名同志的科研工作和生活情况。\\n听到大家扎根山沟、献身航天，取得多项发明专利，习近平露出赞许的目光。习近平了解了卫星发射准备工作，叮嘱大家保持精益求精的工作作风，确保万无一失。\\n春节将至，习近平对基层官兵十分牵挂，他专门通过视频慰问了部队，向官兵及其家人致以新春祝福。海水拍打着礁石，溅起浪花朵朵。习近平同西沙某测控点官兵通话，海岛环境能不能适应，过年准备得怎么样……习近平问得很具体。\\n得知岛上驻防条件比较完善，春节期间安排了包饺子、卡拉OK、棋牌和球类比赛，习近平很高兴，叮嘱要安排好节日期间战士们的生活，让大家过一个欢乐祥和的春节。滨海某发射测试站椰风习习，部队官兵精神抖擞在发射塔架下列队集结，通过视频向习主席拜年。\\n习近平向他们表示感谢，勉励他们牢记肩负使命，锐意改革创新，争取更大成绩。\\n离开指挥大厅，习近平来到一处技术厂房，通过展板详细了解基地发展历程情况，对基地为中国航天事业作出的重要贡献给予充分肯定。习近平亲切接见基地所属有关部队副团级以上干部，并发表重要讲话。习近平强调，要强化使命担当，坚定航天报国志向，坚定航天强国信念，弘扬“两弹一星”精神、航天精神，创造更多中国奇迹。\\n习近平强调，要强化打赢本领，大抓实战化军事训练，深化战法训法研究探索，提升航天发射和作战能力，融入全军联合作战体系，为建设世界一流军队、建设航天强国提供坚实支撑。要强化改革创新，加快推进转型发展，坚持向科技创新要战斗力，加强核心关键技术攻关，保持国际竞争主动权。要强化政治保证，加强思想政治建设，抓好各级党组织建设，做好抓基层打基础工作，全面从严教育管理部队，确保部队绝对忠诚、绝对纯洁、绝对可靠。\\n12日，长征三号乙运载火箭以雷霆万钧之势拔地而起，将北斗三号卫星成功发射到浩瀚太空。基地官兵牢记习主席嘱托，实现了筑梦九天的又一次胜利进军，向祖国和人民送上了一份特殊的新春祝福。\\n12日下午，习近平在成都亲切接见了驻蓉部队师以上领导干部和建制团单位主官。习近平同大家合影留念。\\n张又侠等参加活动。\\n']\n",
            "[0, 0, 0.99998844, '国家主席习近平2月12日就俄罗斯客机坠毁事件向俄罗斯总统普京致慰问电。\\n习近平在慰问电中表示，惊悉贵国一架客机坠毁，造成全体乘客和机组人员不幸遇难。我谨代表中国政府和中国人民，并以我个人的名义，对所有遇难者表示沉痛的哀悼，向遇难者家属表示深切的同情和诚挚的慰问。\\n同日，国务院总理李克强也就此向俄罗斯总理梅德韦杰夫致慰问电。\\n']\n",
            "[0, 0, 0.99998903, '新华社今天全文播发赵乐际同志在中国共产党第十九届中央纪律检查委员会第二次全体会议上的工作报告，题目是《以习近平新时代中国特色社会主义思想为指导，坚定不移落实党的十九大全面从严治党战略部署》。报告对2018年纪检监察工作作出部署，要求各级纪检监察机关以习近平新时代中国特色社会主义思想为指导，贯彻落实党的十九大战略部署，忠实履行党章和宪法赋予的职责，紧紧围绕坚持和加强党的全面领导，紧紧围绕维护习近平总书记党中央的核心、全党的核心地位，紧紧围绕维护党中央权威和集中统一领导，坚持党要管党、全面从严治党，坚持稳中求进工作总基调，监督检查党章执行和党的十九大精神贯彻落实情况，以党的政治建设为统领，全面推进党的各项建设，深化国家监察体制改革，持之以恒正风肃纪，深入推进反腐败斗争，营造风清气正的良好政治生态，强化自我监督、自觉接受监督，建设忠诚干净担当的纪检监察干部队伍，为决胜全面建成小康社会提供坚强保证。\\n']\n",
            "[0, 0, 0.99998546, '今天，我国在西昌卫星发射中心以“一箭双星”方式成功发射两颗北斗导航卫星，这是北斗三号工程第三次全球组网卫星发射，北斗系统全球组网稳步推进。\\n这两颗卫星属于中圆地球轨道卫星，卫星进入工作轨道后，将与此前发射的四颗北斗三号导航卫星组网运行。\\n北斗三号系统攻克了上百项关键技术，星上设备90%实现国产化，完全自主可控。随着北斗地基增强系统的建成完善，可以提供米级甚至毫米级的服务，中国只用20年时间赶超美俄40余年的技术水平。\\n目前，北斗系统已被广泛应用于气象水文、交通运输、森林防火、电网运行等几十个重要领域，在应急处突、抢险救灾等重大任务中发挥着重要作用。按照规划，我国将在2020年完成30余颗北斗卫星全球组网，具备全球服务能力。\\n']\n",
            "[0, 0, 0.9999863, '国务院新闻办今天举行新闻发布会介绍我国深化医改情况，我国医改在重点领域和关键环节取得了突破性进展。\\n目前我国基本医保参保人数超过13.5亿，参保率稳定在95%以上。去年城乡居民基本医保人均财政补助标准提高到450元，城乡居民大病保险使患者医疗费用报销比例平均提高12个百分点左右。健康扶贫工程使农村贫困人口医疗费用个人自付比例从2016年的43%下降到2017年的19%。\\n我国多项主要健康指标已优于中高收入国家平均水平，人均预期寿命从2010年的74.83岁提高到2016年的76.5岁。世卫组织、世界银行等机构发布报告认为，中国在实现全民健康覆盖方面迅速迈进，基本医疗卫生服务可及性更加均衡。\\n']\n",
            "[0, 0, 0.999983, '春节的脚步越来越近，全国各地已经是张灯结彩，浓浓的年味扑面而来。\\n今年的秦淮灯会昨晚在南京亮灯。万盏灯火下，古都金陵再现流光溢彩、桨声灯影的璀璨夜景。高铁、c919大飞机等元素彰显出当今中国在科技、经济等领域的卓越成就。\\n花灯点燃了人们的节日热情。在四川南充、重庆万盛、河南郑州等地，璀璨的灯光里，大家已经开始提前庆祝新春的到来。\\n俗话说，二十七，赶大集，在云南昆明，眼下正是各种鲜花集中上市的时候，100多类、2000多种鲜切花，让全国各地的花商和当地市民眼花瞭乱，大家都要赶着在节前选好自己中意的花卉。\\n同样爱花的还有广州，虽然传统花市明天才开，但提前迎客的水上花市，已经让人们领略到了岭南水乡的风采。\\n年味还可以从各地不同的民俗中去感受。在江西南昌县蒋巷镇北望村，黄河灯阵吸引了十里八乡的群众。\\n安徽黄山屯溪老街，大型民俗踩街活动已经开始，300多人走街串巷，为市民和游客献上一道道徽文化盛宴。\\n在山东曲阜，孔府门前舞狮闹春，送上新年祝福。\\n今天，在广西崇左市中越边境的大新县，当地的壮族同胞已经进入了春节“狂欢”模式，人们穿着壮族传统的节日盛装，载歌载舞，共同欢聚。\\n']\n",
            "[0, 0, 0.999959, '春节来临之际，国家新闻出版广电总局及其所属文艺院团和相关单位赴全国各地开展文化文艺小分队慰问和演出活动，为群众送上新春祝福。\\n在陕西汉中和榆林，国家新闻出版广电总局的服务台前，一排崭新的数字电影放映机吸引了大家的目光，这些电影机以及2万2千册图书将会送往基层农村。有了数字电影放映机，老乡们在村里的活动室就能看到最新的大片。\\n在北京喜剧院，中国广播艺术团为首都观众带来相声小品专场演出。2017年至今，中国广播艺术团已在全国24个省市，组织了70多场丰富多彩的惠民演出活动。\\n']\n",
            "[0, 0, 0.9999878, '奋斗才能实现幸福生活。27年来，河南省濮阳县西辛庄村党支部书记李连成，带领村民种大棚、办企业、招商引资，将一个贫困村，建设成拥有20多家企业，年产值19亿元的文明村。\\n2018年元旦刚过，李连成给村里招商引资来的腰果厂正式投入生产。腰果的原材料来自非洲的尼日利亚、科特迪瓦等国，加工后和本地产的葡萄干、核桃组成的坚果产品，不仅打开了销路，还提高了身价。\\n这次建厂，西辛庄村投资2000多万，占股40%。全村200多户，一户不落，全都入股。村民们不仅可以到厂里打工，还可以享受分红。担任村支部书记27年来，李连成带领西辛庄村，相继创办了20多家规模以上企业，带动周边168家中小加工厂，村里年产值19亿元。\\n宽阔的马路、整洁的村舍、现代化的厂房，曾经的贫困村，早已脱胎换骨。\\n']\n",
            "[0, 0, 0.9999824, '著名归侨、法学家、教育家和社会活动家，中国致公党的杰出领导人，中国人民政治协商会议第九届、十届全国委员会副主席，中国致公党第十一届、十二届中央委员会主席，中国共产党的优秀党员罗豪才同志，因病于2018年2月12日9时02分在北京逝世，享年83岁。\\n15省区市划定生态保护红线\\n国务院近日批准包括京津冀、长江经济带和宁夏在内的15省区市生态保护红线划定方案。生态保护红线总面积约61万平方公里，占15省区市国土面积的1/4左右，主要为生态功能极重要和生态环境极敏感脆弱地区。\\n']\n",
            "[1, 1, 0.9976254, '中宣部、网信办、全国“扫黄打非”办等5部委近日作出部署，2月上旬至4月下旬进一步开展针对网络直播平台传播低俗色情暴力等违法有害信息和儿童“邪典”动漫游戏视频的集中整治行动。\\n']\n",
            "[1, 1, 0.998092, '中国科学院A类战略性先导科技专项“地球大数据科学工程”今天正式启动，专项为期五年，设置了数字一带一路、全景美丽中国等九个项目，对于技术创新、重大科学发现和宏观决策等具有重要意义。\\n']\n",
            "[1, 1, 0.9988918, '春运开始至今，各地铁路公安机关已经为旅客找回遗失财物8174起，总价值达1400余万元。据统计，旅客遗失财物85%以上发生在进站安检和到站下车，警方提醒旅客预留充裕时间进站，看好行李物品。\\n']\n",
            "[1, 1, 0.99780613, '今天下午进行的平昌冬奥会单板滑雪U型池资格赛上，中国队刘佳宇以第一轮87.75分位列第二位，和排在第六位的蔡雪桐一起晋级决赛。决赛将于北京时间明天上午9点举行。\\n']\n",
            "[1, 1, 0.99699605, '央视《国家宝藏》特展今天在故宫博物院开幕。故宫博物院藏石鼓、湖北省博物馆藏云梦睡虎地秦简等九件推选出的国宝级文物当场揭晓，至此，《国家宝藏》第一季圆满收官，节目中共介绍了27件国家一级文物。\\n']\n",
            "[1, 1, 0.99847585, '春节前夕，来自四川的4只熊猫宝宝来到辽宁沈阳。虽然是头一回和观众见面，可是表演起绝活儿一点都不含糊，就地十八滚、抱球滚，小家伙们憨态可掬的功夫杂耍，为观众提前送上了新年祝福。\\n']\n",
            "[1, 1, 0.888675, '11日，俄罗斯一架载有71人的客机在莫斯科附近坠毁，机上人员全部遇难。根据中国驻俄罗斯大使馆了解到的情况，机上没有中国乘客。\\n失事飞机的型号为安-148，隶属于俄罗斯萨拉托夫航空公司，机龄7年。飞机原计划从莫斯科前往俄罗斯西南部城市奥尔斯克，起飞大约6分钟后坠毁。机上71人中包括65名乘客和6名机组人员。\\n飞机残骸散落在坠机地点周边至少一公里的范围内。失事客机的两个黑匣子都已经被找到，俄罗斯侦查委员会目前正对空难展开调查。据媒体援引侦查委员会的消息说，初步报告显示，飞行员没有报告任何技术故障，也没有发出无线电呼救信号。当天莫斯科及其附近地区气象条件也没有异常。\\n']\n",
            "[2, 2, 0.97390246, '由朝鲜最高人民会议常任委员会委员长金永南率领的朝鲜高级别代表团11日晚乘专机返回平壤，结束了为期三天的对韩国的访问。朝鲜劳动党机关报《劳动新闻》12日报道说，这次访问受到外界广泛关注，被寄予厚望，是改善朝韩关系和营造半岛和平环境的契机，富有意义。\\n']\n",
            "[2, 2, 0.972367, '11日，数十万伊朗民众在全国范围内举行集会，纪念伊斯兰革命胜利39周年。伊朗总统鲁哈尼在德黑兰自由广场举行的纪念集会上说，当天的集会代表了民众的呼声，是对美国企图撕毁伊朗核协议的有力回应，伊朗不会屈服于来自美国的威胁。\\n1月12日，美国总统特朗普宣布最后一次延长对伊朗核问题的制裁豁免期，同时要求国会和欧洲国家同意修改协议条款，否则，美国将立即退出协议。\\n']\n",
            "[2, 2, 0.9959055, '埃及军方12日发表声明说，军方近两天在西奈半岛和尼罗河三角洲等地展开大规模反恐行动，旨在彻底清除这些地区的恐怖分子和极端分子。军方在行动中击毙了12人，逮捕了92人。\\n埃及北西奈省一座清真寺去年11月遭恐怖分子袭击，造成300多人死亡。埃及总统塞西随后要求安全部队在三个月的时间内清除盘踞在西奈的恐怖分子。\\n']\n",
            "[0, 0, 0.9999891, '中华民族传统节日农历春节来临之际，中共中央总书记、国家主席、中央军委主席习近平来到四川，就贯彻落实党的十九大精神以及中央经济工作会议、中央农村工作会议精神进行调研，看望慰问各族干部群众，向全国各族人民致以美好的新春祝福。\\n初春的巴蜀大地，春寒料峭，蕴含着勃勃生机。2月10日至13日，习近平在四川省委书记王东明、省长尹力陪同下，来到凉山彝族自治州、阿坝藏族羌族自治州、成都市等地，深入村镇、企业、社区，考察脱贫攻坚和经济社会发展工作，在汶川考察灾后恢复重建发展情况，给各族干部群众送去党中央的亲切关怀。\\n地处四川西南部的凉山彝族自治州，是全国最大的彝族聚居区和四川省民族类别、少数民族人口最多的地区。由于自然条件差和发展相对不足，该州是全国集中连片深度贫困地区之一，17个县市中11个为国家扶贫开发工作重点县。习近平十分惦记这里的群众。11日上午，雪后的大凉山艳阳高照，沿途雾凇银光闪闪。习近平乘车沿着坡急沟深的盘山公路，往返4个多小时，深入大凉山腹地的昭觉县三岔河乡三河村和解放乡火普村看望贫困群众。\\n三河村平均海拔2500多米，是一个彝族贫困村。习近平沿着石板小路步行进村，察看村容村貌和周边自然环境，他先后走进村民吉好也求、节列俄阿木两户贫困家庭看望。习近平详细观看门前的扶贫联系卡，同主人亲切拉家常，询问生活过得怎么样，发展什么产业，收入有多少，孩子有没有学上。他饶有兴趣地听10岁小女孩吉好有果唱《国旗国旗真美丽》，并带头鼓掌。在村民节列俄阿木家，习近平同村民代表、驻村扶贫工作队员围坐在火塘边，一起分析当地贫困发生的原因，谋划精准脱贫之策。大家用朴实生动的语言表达了见到总书记的喜悦和幸福，畅叙了党和政府对彝族同胞的关怀关爱，述说了脱贫攻坚行动给乡亲们带来的大量实惠，人人都边说边激动得流泪。习近平饱含深情地说，我一直牵挂着彝族群众，很高兴来到这里，看到大家日子一天天好起来，心里十分欣慰。得知近年来村里大力发展种养业，引进优良品种的牛猪羊，家家户户种植了马铃薯、核桃、花椒，农民收入持续增加，习近平十分高兴。他强调，发展特色产业、长期稳定致富，都需要人才。要培养本地人才，引导广大村民学文化、学技能，提高本领，还要移风易俗，通过辛勤劳动脱贫致富。习近平指出，我们搞社会主义，就是要让各族人民都过上幸福美好的生活。全面建成小康社会最艰巨最繁重的任务在贫困地区，特别是在深度贫困地区，无论这块硬骨头有多硬都必须啃下，无论这场攻坚战有多难打都必须打赢，全面小康路上不能忘记每一个民族、每一个家庭。\\n解放乡火普村是易地扶贫搬迁的新村，搬迁新房沿公路依山而建。习近平走进贫困户吉地尔子家的新居，在院内平台远眺火普村全貌，听取该村推进易地扶贫搬迁、彝家新寨新村建设、产业扶贫和公共服务保障等情况介绍，随后进屋察看住房功能布局，了解一家人生产生活情况。习近平指出，这里的实践证明，易地扶贫搬迁是实现精准脱贫的有效途径，一定要把这项工作做好做实。搬迁安置要同发展产业、安排就业紧密结合，让搬迁群众能住下、可就业、可发展。\\n离开村子时，身着彝族盛装的村民们排起长队，齐声向总书记问好，向总书记拜年。村党支部书记代表村民向总书记献上彝族传统服饰查尔瓦，表达对总书记的爱戴之情。习近平同乡亲们亲切握手，祝乡亲们新春吉祥、生活越来越好。村民们又动情唱起《留客歌》，掌声、歌声、欢呼声在村子里久久回荡。\\n当天下午，习近平从西昌前往成都，一下飞机，便来到天府新区考察。天府新区于2014年10月获批为国家级新区。习近平结合视频、沙盘、展板，详细了解兴隆湖生态治理成果、沿湖产业规划布局、中国（四川）自由贸易试验区建设情况。他指出，天府新区是“一带一路”建设和长江经济带发展的重要节点，一定要规划好建设好，特别是要突出公园城市特点，把生态价值考虑进去，努力打造新的增长极，建设内陆开放经济高地。\\n电子信息产业是实体经济的重要产业，习近平十分关心这一领域的最新进展。在成都中电熊猫显示科技有限公司，习近平听取了公司总体情况和四川省成都市电子信息产业情况介绍，察看企业自主可控网络信息安全产品，并深入车间观看新一代液晶面板生产工艺流程。他勉励企业抢抓机遇，积极发展军民融合产业，提高企业自主创新能力和国际竞争力，推动中国制造向中国创造转变、中国速度向中国质量转变、中国产品向中国品牌转变。\\n今年是“5·12”汶川特大地震10周年。10年前的那场大地震，山崩地裂、满目疮痍，给人民生命财产造成巨大损失。灾区恢复重建怎么样？群众日子过得怎么样？习近平十分牵挂。12日上午，他专程来到阿坝州汶川县映秀镇，这里是汶川特大地震震中地。10年前地震发生后不久，习近平就冒着余震来这里考察抗震救灾情况，慰问受灾群众。10年过去了，这里发生了翻天覆地的变化，一片祥和安宁。习近平首先来到漩口中学遗址，向汶川特大地震罹难同胞和在抗震救灾中捐躯的英雄敬献花篮，并三鞠躬。他叮嘱一定要把地震遗址保护好，使其成为重要的爱国主义教育基地。\\n之后，习近平前往映秀镇场镇。这里街道规划有序，店铺林立，年味很浓。习近平在街道入口处下车，结合展板听取汶川特大地震灾后恢复重建及发展情况汇报。他强调，灾后恢复重建发展取得历史性成就，展现了中国共产党的坚强有力领导和我国社会主义制度的优越性，要在推动产业发展、民生改善等方面继续发力，把人民家园建设得更加美好。\\n蒋维明一家在这里经营“茶祥子”制茶坊，带动了当地一批群众靠采茶制茶脱贫致富。一家人热情邀请总书记到店里看一看。习近平察看了传统黑茶制茶工序，亲自体验酥油茶制作流程。听说店里的窝窝茶远销“一带一路”沿线，习近平希望他们精益求精、创造名牌，为“一带一路”建设多作贡献。\\n不远处的博爱新村饭店正忙着准备午餐。习近平来到店前，关切询问生意好不好，一年能挣多少钱。店主杨云刚向总书记汇报，托党的福，小店旺季淡季客人都不少，收入养活全家6口人还有富余。习近平听后很高兴。在主人邀请下，他愉快地参与炸酥肉、磨豆花，边体验边同一家人交流，一幅其乐融融的场景。习近平同闻迅赶来的居民群众亲切交谈，祝大家在用勤劳双手建设美好生活上取得更大成绩。\\n离开映秀镇，习近平又来到率先推行农村集体产权制度改革的成都市郫都区战旗村考察。该村是全国文明单位、四川集体经济十强村，村集体资产达到4600万元，集体经济年收入超过460万元，村民人均可支配收入超过2.6万元。习近平进入“精彩战旗”特色产业在线服务大厅，察看特色农副产品，观摩人人耘“互联网+共享农业”互动种养平台操作和蜀绣等手工艺品展示，还自己花钱买下一双当地群众做的布鞋。习近平强调，党的十九大提出实施乡村振兴战略，这是加快农村发展、改善农民生活、推动城乡一体化的重大战略，要把发展现代农业作为实施乡村振兴战略的重中之重，把生活富裕作为实施乡村振兴战略的中心任务，扎扎实实把乡村振兴战略实施好。\\n春节在即，村里照全家福、写春联福字、包汤圆等新春民俗活动丰富多彩。习近平每到一处，都驻足同群众交流，他说：“我是人民的勤务员，让人民过上好日子是我们共产党人的初心、宗旨。”临行前，村民们欢呼着簇拥上来，向总书记拜年，习近平热情同村民们打招呼，祝乡亲们安逸舒适、新春快乐、阖家幸福。\\n13日上午，习近平听取了四川省委和省政府工作汇报，对四川各项工作取得的成绩给予肯定，希望四川深入贯彻党的十九大精神和新时代中国特色社会主义思想，全面落实党中央决策部署，锐意进取，埋头苦干，推动治蜀兴川再上新台阶。\\n习近平指出，党的十九大指明了党和国家事业前进方向，为中国这艘承载着13亿多人的巨轮前行立起了新航标。全党全国全社会要把党的十九大精神参悟透、领会好，更好把握党的十九大各项战略部署的整体性、关联性、协同性，把学习贯彻党的十九大精神同把握党的十八大以来我们进行伟大斗争、建设伟大工程、推进伟大事业、实现伟大梦想的实践贯通起来。要多调研、摸实情，盯住抓、抓到底，崇尚实干、力戒空谈、精准发力，让改革发展稳定各项任务落下去，让惠及百姓的各项工作实起来。\\n习近平强调，我国经济已由高速增长阶段转向高质量发展阶段，建设现代化经济体系是我国发展的战略目标。要夯实实体经济，深化供给侧结构性改革，强化创新驱动，推动城乡区域协调发展，优化现代化经济体系的空间布局。要抓好生态文明建设，让天更蓝、地更绿、水更清，美丽城镇和美丽乡村交相辉映、美丽山川和美丽人居有机融合。要增强改革动力，形成产业结构优化、创新活力旺盛、区域布局协调、城乡发展融合、生态环境优美、人民生活幸福的发展新格局。\\n习近平指出，要牢固树立以人民为中心的发展思想，常怀忧民、爱民、惠民之心，采取针对性更强、覆盖面更大、作用更直接、效果更明显的举措，解决好同老百姓生活息息相关的教育、就业、医疗卫生、社会保障、社会稳定等民生问题，使人民获得感、幸福感、安全感更加充实、更有保障、更可持续。要坚持抓发展、抓稳定两手都要硬，深化民族团结进步教育，促进各民族共同团结奋斗、共同繁荣发展。要认真贯彻落实党中央关于在全国开展扫黑除恶专项斗争的重大决策部署，把社会稳定工作做得更细致、更扎实、更紧密。\\n习近平强调，党的十九大把党的政治建设摆在突出位置，强调党的政治建设是党的根本性建设，这是有深远考虑的，也是有充分理论和实践依据的。要坚持党中央权威和集中统一领导，增强“四个意识”，做到党中央提倡的坚决响应、党中央决定的坚决照办、党中央禁止的坚决杜绝。要认真学习贯彻党的十九届二中全会精神，教育引导广大党员、干部牢固树立宪法意识，带头尊崇宪法、学习宪法、遵守宪法、维护宪法、运用宪法。要严格执行新形势下党内政治生活若干准则，全面加强和规范党内政治生活，涵养积极健康的党内政治文化，营造风清气正的良好政治生态。\\n丁薛祥、刘鹤和中央有关部门负责同志陪同考察。\\n']\n",
            "[0, 0, 0.9999887, '春节前夕，中共中央总书记、国家主席、中央军委主席习近平等党和国家领导人分别看望或委托有关方面负责同志看望了江泽民、胡锦涛、李鹏、朱镕基、李瑞环、吴邦国、温家宝、贾庆林、宋平、李岚清、曾庆红、吴官正、李长春、罗干、贺国强、刘云山和田纪云、迟浩田、姜春云、王乐泉、王兆国、回良玉、刘淇、吴仪、曹刚川、曾培炎、王刚、孟建柱、郭金龙、王汉斌、何勇、赵洪祝、王丙乾、邹家华、王光英、铁木尔·达瓦买提、彭珮云、周光召、曹志、李铁映、司马义·艾买提、何鲁丽、丁石孙、许嘉璐、蒋正华、顾秀莲、热地、盛华仁、路甬祥、乌云其木格、华建敏、陈至立、周铁农、司马义·铁力瓦尔地、蒋树声、桑国卫、唐家璇、梁光烈、戴秉国、肖扬、韩杼滨、贾春旺、叶选平、杨汝岱、任建新、宋健、钱正英、孙孚凌、胡启立、赵南起、毛致用、王忠禹、李贵鲜、张思卿、张克辉、郝建秀、徐匡迪、张怀西、李蒙、廖晖、白立忱、陈奎元、阿不来提·阿不都热西提、李兆焯、黄孟复、张梅颖、张榕明、钱运录、孙家正、李金华、郑万通、邓朴方、厉无畏、陈宗兴、王志珍等老同志，向老同志们致以诚挚的节日问候，衷心祝愿老同志们新春愉快、健康长寿。\\n老同志们对此表示感谢，高度评价以习近平同志为核心的党中央带领全党全军全国各族人民开创新时代中国特色社会主义事业新局面所取得的历史性成就，对习近平总书记作为党中央的核心、全党的核心表示衷心拥护。老同志们希望全党全国各族人民更加紧密地团结在以习近平同志为核心的党中央周围，高举中国特色社会主义伟大旗帜，以习近平新时代中国特色社会主义思想为指导，全面深入贯彻党的十九大精神，锐意进取，埋头苦干，为决胜全面建成小康社会、夺取新时代中国特色社会主义伟大胜利作出新的贡献。\\n']\n",
            "[0, 0, 0.9999866, '2月10日18时许，香港新界大埔公路发生重大交通事故，一辆公交双层巴士失事侧翻，造成19人死亡、60多人受伤。香港特别行政区政府迅速采取应急措施予以处置。\\n事故发生后，中共中央总书记、国家主席、中央军委主席习近平在第一时间了解有关伤亡和救助情况，指示中央政府驻香港联络办负责人向林郑月娥行政长官转达他对此次事故遇难者的哀悼、对遇难者家属及受伤者的亲切慰问，并要求香港特别行政区政府全力做好遇难者善后、受伤者救治及其家属抚慰等工作。习近平还对香港特别行政区政府及时开展有关应急处置工作予以肯定。\\n李克强、张德江也请中央政府驻香港联络办转达哀悼和慰问。\\n']\n",
            "[0, 0, 0.99998844, '新春佳节来临之际，习近平主席来到驻四川部队某基地，看望慰问部队官兵，并向三军将士致以诚挚问候和新春祝福。全军和武警部队官兵备感温暖，纷纷表示要坚决贯彻落实习主席重要讲话精神，全面提高履行使命任务能力。\\n习主席深入发射工位和技术厂房，同科技人员亲切交谈，详细询问每名同志的科研工作和生活情况并发表重要讲话，担当北斗发射重任的一线科技人员们最有感触。\\n受到习主席接见的科技人员代表张润红，她的奋斗目标是成为我国第一位“01”号女指挥员。\\n在西安卫星测控中心和远望号航天测量船上，北斗三号的后续跟踪测控任务正在执行，习主席的重托更坚定了他们的航天报国志向。\\n东风洒雨露，汇入天地春。统帅的深情牵挂，是三军将士奋进新时代、实现新作为的不竭动力。全军官兵将士一致表示，要领悟厚爱之情、牢记使命之托，自觉投身改革、矢志建功立业。\\n作为新质作战力量的空军航空兵某部飞行员们正在万米高空演练新战法。任务间隙，他们认真收看了习主席视察驻川某基地的新闻。\\n']\n",
            "[0, 0, 0.99998903, '12日至13日，中共中央政治局常委、国务院总理李克强在吉林白城市镇赉县考察，向人民群众祝贺新春。\\n隆冬的集贸市场热闹红火。摊主们告诉总理今年销售比往年更好。李克强说，这说明群众生活又有了改善。他掏钱购买当地产的大米，强调要保持粮价平稳，保护农民种粮积极性。几位摊主说现在通过互联网销售产品，生意比以前更旺。李克强说，电商已不再是城里人专利，也给农民带来便利，有利于更好释放消费潜力。他还对购物群众说，二十七、赶大集，祝福大家大吉大利。\\n打赢精准脱贫攻坚战是以习近平同志为核心的党中央作出的重大战略部署。李克强来到大兴安岭南麓集中连片特困地区镇赉县英华村的贫困户家中，查看口粮、取暖情况并送上年货和祝福。他坐到炕上，乡亲们向他说起心里话。一位贫困户说他靠打工供了两个孩子上大学，另一个老乡则讲起他在外打拼如今把孩子送进县城幼儿园，一位放假的大学生说将来要把父母接进城。李克强说，中国人很勤劳，一代一代努力奋斗，育子孝老，这种精神了不起。听到村民办起养鹅合作社，李克强勉励他们农业副业务工一起搞，拓宽增收门路。村支书反映村里发展缺项目，李克强说，各级政府要顺应群众新期待，加大力度脱贫攻坚，既保障群众基本生活，又促进稳定致富。\\n在长途汽车站，李克强与返乡探亲的外出务工人员交谈，询问工资是否足额拿到。听到大家肯定答复，李克强高兴地说，要继续做好这项工作，坚决把恶意欠薪的黑心者打入黑名单。考察途中，李克强特意停车看望工作中的环卫工人，感谢他们带来干干净净的新春。\\n李克强牵挂困难群众生活。他来到待改造的棚户区，听取居民反映困难，叮嘱随行部门要对困难群众再进行筛查，落实好保障措施，对有特殊困难的给予临时救助。在县福利院，李克强为老人们送上新衣服，并挂上“福”“寿”中国结向老人们拜年。他说，敬老爱老是中华民族美德。老年人辛苦一生，为国家和家庭都付出很多。要汇聚政府社会家庭各方力量，让老人们安享晚年。\\n考察中，李克强充分肯定近几年吉林经济社会发展稳中有进、稳中向好所取得的成绩，这也表明东北老工业基地振兴大有希望、大有可为。要全面贯彻党的十九大精神，以习近平新时代中国特色社会主义思想为指导，奋力在改革开放中实现东北全面振兴。\\n']\n",
            "[0, 0, 0.999989, '中共中央政治局常委、中央书记处书记王沪宁13日上午，代表习近平总书记和党中央看望文化界知名人士和科技专家，向他们致以诚挚问候，向广大文化工作者和科技工作者致以新春祝福。\\n王沪宁首先来到著名男高音歌唱家吴雁泽家中，关切询问吴雁泽身体和生活情况，称赞他为民族声乐表演作出的成绩，听取他对传承民族艺术等的建议。随后王沪宁来到两院院士、我国歼8Ⅱ飞机总设计师顾诵芬家中，对他88岁高龄仍致力于推动我国飞机动力技术创新发展表示敬意，顾诵芬对航空工业技术骨干人才培养提出建议。在看望北京大学物理学教授、中国科学院院士陈佳洱时，王沪宁对他倾心发展科教事业、培养优秀人才表示感谢，陈佳洱建议国家加大对基础研究支持力度、加强青年科技人才培养。在中国译协主要创建者之一宋书声家中，王沪宁对他为马克思主义经典著作翻译研究作出的贡献给予充分肯定，并就加强党的思想理论建设听取他的建议。\\n文化界知名人士和科技专家对习近平总书记和党中央的亲切关怀表示感谢，对党的十八大以来党和国家事业取得的历史性成就高度赞誉，对党的十九大确立的加快建设创新型国家、推动社会主义文化繁荣兴盛等战略部署深表赞同。王沪宁表示，发展新时代文化和科技事业，要求文化工作者和科技工作者认真学习贯彻习近平新时代中国特色社会主义思想和党的十九大精神，树立高度的文化自信和创新自信，扎实做好文化建设和科技创新各项工作。\\n中共中央政治局委员、中组部部长陈希，中共中央政治局委员、中宣部部长黄坤明陪同看望。\\n']\n",
            "[0, 0, 0.99998474, '逛逛大集，买买年货，看看花灯。这个春节就在一派喜气洋洋的气氛中，越来越近了。\\n广州越秀西湖花市今天开市了，这个有着百年历史的传统花市，今年共设立了163个档口，开市第一天，预计就将迎来超过40万人次的市民和游客。\\n要过年了，人们可以到江苏泗阳的集市上选购一些土特产，也可以到福建泉州去吃上一顿邻里宴。或者你路过广西南宁，在南宁东站花一元钱，买上一本自己喜欢的书。到了冰城哈尔滨，人们欣赏的就是如梦如幻的冰灯。临近春节，每天都有近五万来看冰灯的人。\\n花灯也已经点亮了大连、晋城的夜，赣州、惠州的夜。昨晚，在广州地标建筑广州塔，迎春灯光秀更是点燃了现场观众迎接新春的热情。它以珠江两岸和广州新中轴线夜景为背景，联动花城广场现场音乐进行灯光表演。\\n从昨晚开始，中央电视台复兴路办公区主楼，也展示了一场灯光秀。它分为“祝福新时代”“央视春晚伴您过年”“春节好”三个篇章。从除夕之夜开始，还将同步直播和重播央视春晚。\\n']\n",
            "[0, 0, 0.9999301, '在今天上午进行的平昌冬奥会单板滑雪女子U型场地决赛中，中国选手刘佳宇摘得银牌。首轮比赛，刘佳宇高质量完成动作，以85.50分排名第二。刘佳宇第二轮加大了难度，出色完成了“外转900”，将分数提高到89.75。最终她凭借这一分数，成功摘得银牌。这不仅是中国在这个项目上的首枚奥运奖牌，也是本届平昌冬奥会中国的第一枚奖牌。\\n']\n",
            "[0, 0, 0.99998534, '记者从最高人民检察院获悉，第十八届中共中央政治局原委员、重庆市委原书记孙政才涉嫌受贿一案，由最高人民检察院侦查终结，经依法指定管辖，移送天津市人民检察院第一分院审查起诉。近日，天津市人民检察院第一分院向天津市第一中级人民法院提起公诉。\\n检察机关在审查起诉阶段依法告知了被告人孙政才享有的诉讼权利，并讯问了被告人孙政才，听取了其辩护人的意见。天津市人民检察院第一分院起诉指控：孙政才利用其担任中共北京市顺义区委书记、北京市委常委、市委秘书长、农业部部长、中共吉林省委书记、中央政治局委员、重庆市委书记等职务上的便利，为他人谋取利益，非法收受他人巨额财物，依法应当以受贿罪追究其刑事责任。\\n']\n",
            "[0, 0, 0.9999872, '日前，经中共中央批准，中共中央纪委对中央宣传部原副部长、中央网信办原主任鲁炜严重违纪问题立案审查。\\n经查，鲁炜严重违反政治纪律和政治规矩，阳奉阴违、欺骗中央，目无规矩、肆意妄为，妄议中央，干扰中央巡视，野心膨胀，公器私用，不择手段为个人造势，品行恶劣、匿名诬告他人，拉帮结派、搞“小圈子”；严重违反中央八项规定精神和群众纪律，频繁出入私人会所，大搞特权，作风粗暴、专横跋扈；违反组织纪律，组织谈话函询时不如实说明问题；违反廉洁纪律，以权谋私，收钱敛财；违反工作纪律，对中央关于网信工作的战略部署搞选择性执行；以权谋色、毫无廉耻。利用职务上的便利为他人谋取利益并收受巨额财物涉嫌受贿犯罪。\\n鲁炜身为党的高级干部，理想信念缺失，毫无党性原则，对党中央极端不忠诚，“四个意识”个个皆无，“六大纪律”项项违反，是典型的“两面人”，是党的十八大后不收敛、不知止，问题严重集中，群众反映强烈，政治问题与经济问题相互交织的典型，性质十分恶劣、情节特别严重。依据《中国共产党纪律处分条例》等有关规定，经中央纪委常委会会议研究并报中共中央批准，决定给予鲁炜开除党籍、开除公职处分；收缴其违纪所得；将其涉嫌犯罪问题、线索及所涉款物移送有关国家机关依法处理。\\n联播快讯\\n']\n",
            "[1, 0, 0.9983929, '商务部发布的最新数据显示，2018年1月，我国境内投资者共对全球99个国家和地区进行了非金融类直接投资，累计实现投资695.1亿元人民币，同比增长30.5%，已连续三个月实现同比正增长。\\n']\n",
            "[1, 0, 0.9981289, '《星光大道》2017年度总决赛今晚在我台综合频道八点档播出。9组选手将分为三个战队，带来风格各异的曲目，他们进行三关的比拼角逐出年度总冠军。冠军选手还将获得春晚彩排的邀请。\\n']\n",
            "[2, 0, 0.5920434, '朝鲜最高领导人金正恩12日会见了访问韩国归来的朝鲜高级别代表团。金正恩说，韩国对此次朝方代表团的访问尽力提供了方便，他对此表示感谢。他还表示，最重要的是以本届冬奥会为契机，进一步提升朝韩双方营造的和解与对话的良好氛围，继续积累良好成果。朝鲜高级别代表团在韩访问期间向韩国总统文在寅转交了金正恩的亲笔信，并转达了金正恩对文在寅访问朝鲜的口头邀请。\\n']\n",
            "[2, 0, 0.99294245, '12日,俄罗斯侦查委员会初步调查显示，失事的安－148型客机在触地坠毁后爆炸起火，飞机残骸散落区域面积约30公顷，搜寻工作预计将持续7天。此外，客机黑匣子记录显示，起飞之前飞行员可能已经察觉到飞机出现了故障。但坠机原因仍在调查之中。\\n']\n",
            "[2, 0, 0.92908055, '首尔中央地方法院今天一审宣判，判处韩国前总统朴槿惠“亲信干政”案的核心人物崔顺实有期徒刑20年，并处罚款180亿韩元，约合人民币1亿元。\\n崔顺实被控贿赂、共谋滥用总统权力等共18项罪名，其中有13项罪名与朴槿惠构成共谋，分析认为崔顺实案的宣判将会直接影响到朴槿惠案的审判。\\n']\n",
            "[2, 0, 0.9952852, '美国白宫12号公布了2019财年共计4.4万亿美元规模的年度预算，提议大幅增加国防军事开支至7160亿美元，规模创2010年以来新高。用于增强美国武装力量、导弹防御能力等。预算还提议削减医疗保险、环保研究等非国防开支。新财年预算还需提交国会审议。\\n']\n",
            "[2, 0, 0.95812297, '伊拉克重建国际会议12号在科威特城开幕，这是打击极端组织取得胜利后举行的首次伊拉克重建国际会议。伊拉克规划部部长朱迈利说，伊拉克重建需要882亿美元资金，用于铁路、机场和炼油厂等100多个大中型项目。\\n']\n",
            "[0, 0, 0.99998885, '中共中央、国务院14日上午在人民大会堂举行2018年春节团拜会。中共中央总书记、国家主席、中央军委主席习近平发表重要讲话，代表党中央、国务院，向全国各族人民，向香港特别行政区同胞、澳门特别行政区同胞、台湾同胞和海外侨胞拜年。\\n党和国家领导人李克强、张德江、俞正声、张高丽、栗战书、汪洋、王沪宁、赵乐际、韩正等出席团拜会，李克强主持。\\n人民大会堂宴会厅灯火辉煌、暖意融融，各界人士2000多人欢聚一堂、共迎新春，欢声笑语间洋溢着喜庆祥和的节日气氛。\\n上午10时，在欢快的乐曲声中，习近平等党和国家领导人步入大厅，全场响起热烈掌声。\\n习近平在讲话中指出，时间是最客观的见证者。过去的一年，全党全军全国各族人民团结一心、锐意进取，推动中国特色社会主义各项事业取得新的重大成就。我国经济发展独领风骚，深化改革多点突破，依法治国深入实施，人民生活继续改善，脱贫攻坚有力推进，国防和军队建设开创新局，全方位外交成果丰硕，从严治党全面推进。特别是我们召开了党的十九大，全面总结了党的十八大以来党和国家各项事业取得的成就和经验，指明了新时代中国特色社会主义发展方向，擘画了到本世纪中叶我国发展的宏伟蓝图，开启了全面建设社会主义现代化国家新征程。\\n习近平强调，这些成绩，同党和人民长期奋斗的成就一起，像涓涓细流汇成江海，推动“中国号”巨轮驶入新的水域。近代以后久经磨难的中华民族，在百折不挠的奋斗中迎来了从站起来、富起来到强起来的伟大飞跃。中国的伟大发展成就是中国人民用自己的双手创造的，是一代又一代中国人接力奋斗创造的。让我们向所有为伟大祖国发展进步、为中华民族独立强盛作出贡献的老英雄、老模范、老战士、老同志、老前辈致以最崇高的敬意。\\n习近平指出，春节是新的开始，预示着新的希望。2018年是全面贯彻中共十九大精神的开局之年，是决胜全面建成小康社会、实施“十三五”规划承上启下的关键之年，也是改革开放40周年。面对波谲云诡的国际形势、艰巨繁重的国内改革发展稳定任务，全党全军全国各族人民要紧密团结在党中央周围，全面贯彻党的十九大精神，坚持以马克思列宁主义、毛泽东思想、邓小平理论、“三个代表”重要思想、科学发展观、新时代中国特色社会主义思想为指导，增强“四个意识”，坚定“四个自信”，坚持稳中求进工作总基调，以真抓的实劲、敢抓的狠劲、善抓的巧劲、常抓的韧劲，统筹推进“五位一体”总体布局，协调推进“四个全面”战略布局，一步一个脚印把既定的行动纲领、战略决策、工作部署变为现实，继续朝着我们确立的伟大目标奋勇前进。\\n习近平强调，团聚最喜悦，团圆最幸福，团结最有力。春节是万家团圆的日子。中华民族历来重视家庭，家和万事兴。国家富强，民族复兴，最终要体现在千千万万个家庭都幸福美满上，体现在亿万人民生活不断改善上。千家万户都好，国家才能好，民族才能好。我们要积极培育和践行社会主义核心价值观，弘扬中华民族传统美德，把爱家和爱国统一起来，把实现个人梦、家庭梦融入国家梦、民族梦之中，用我们4亿多家庭、13亿多人民的智慧和力量，汇聚起夺取新时代中国特色社会主义伟大胜利、实现中华民族伟大复兴中国梦的磅礴力量。\\n习近平指出，只有奋斗的人生才称得上幸福的人生。奋斗是艰辛的，艰难困苦、玉汝于成，没有艰辛就不是真正的奋斗，我们要勇于在艰苦奋斗中净化灵魂、磨砺意志、坚定信念。奋斗是长期的，前人栽树、后人乘凉，伟大事业需要几代人、十几代人、几十代人持续奋斗。奋斗是曲折的，“为有牺牲多壮志，敢教日月换新天”，要奋斗就会有牺牲，我们要始终发扬大无畏精神和无私奉献精神。奋斗者是精神最为富足的人，也是最懂得幸福、最享受幸福的人。\\n习近平强调，新时代是奋斗者的时代。我们要坚持把人民对美好生活的向往作为我们的奋斗目标，始终为人民不懈奋斗、同人民一起奋斗，切实把奋斗精神贯彻到进行伟大斗争、建设伟大工程、推进伟大事业、实现伟大梦想全过程，形成竞相奋斗、团结奋斗的生动局面。\\n习近平指出，改革开放40年来，我们以敢闯敢干的勇气和自我革新的担当，闯出了一条新路、好路，实现了从“赶上时代”到“引领时代”的伟大跨越。今天，我们要不忘初心、牢记使命，继续以逢山开路、遇水架桥的开拓精神，开新局于伟大的社会革命，强体魄于伟大的自我革命，在我们广袤的国土上继续书写13亿多中国人民伟大奋斗的历史新篇章！\\n团拜会上，习近平等党和国家领导人来到大家中间，同大家亲切握手，互致问候、祝福新春。文艺工作者表演了精彩的节目。\\n中共中央、全国人大常委会、国务院、最高人民法院、最高人民检察院、全国政协、中央军委领导同志和老同志出席团拜会。\\n参加团拜会的还有中央党政军群各部门及北京市负责同志，各民主党派中央、全国工商联负责人和无党派人士代表，离退休老同志代表，著名专家学者及首都各界人士代表。\\n']\n",
            "[0, 0, 0.9999893, '中共中央总书记、国家主席、中央军委主席习近平12日在四川成都市主持召开打好精准脱贫攻坚战座谈会，听取脱贫攻坚进展情况汇报，集中研究打好今后3年脱贫攻坚战之策。习近平向奋战在脱贫攻坚第一线的广大干部和贫困地区各族群众致以新春祝福。\\n习近平强调，打好脱贫攻坚战是党的十九大提出的三大攻坚战之一，对如期全面建成小康社会、实现我们党第一个百年奋斗目标具有十分重要的意义。要清醒认识把握打赢脱贫攻坚战面临任务的艰巨性，清醒认识把握实践中存在的突出问题和解决这些问题的紧迫性，不放松、不停顿、不懈怠，提高脱贫质量，聚焦深贫地区，扎扎实实把脱贫攻坚战推向前进。\\n中共中央政治局常委、国务院副总理汪洋出席座谈会。\\n习近平是在四川考察期间召开这次座谈会的。座谈会上，四川省委书记王东明、广西壮族自治区党委书记彭清华、贵州省委书记孙志刚、云南省委书记陈豪、西藏自治区党委书记吴英杰、甘肃省委书记林铎、青海省委书记王国生、宁夏回族自治区党委书记石泰峰、新疆维吾尔自治区党委书记陈全国参加并提供书面发言；西藏昌都市委书记阿布，新疆喀什地委书记李宁平，云南昭通市镇雄县委书记翟玉龙，青海黄南州河南县委书记韩华，广西崇左市龙州县金龙镇党委书记黎峰，贵州黔南州福泉市仙桥乡党委书记杨时江，四川广元市苍溪县白驿镇岫云村党支部书记李君，甘肃天水市清水县土门镇梁山村党支部书记冯小明，公安部办公厅秘书处主任科员、贵州黔西南州兴仁县新龙场镇民裕村第一书记程显臣，福建福州市闽侯县副县长、宁夏固原市隆德县委常委、副县长樊学双发言。他们从不同角度和层面介绍脱贫攻坚情况，交流工作体会，提出打好脱贫攻坚战的意见和建议。习近平不时同他们讨论有关问题。\\n在听取大家发言后，习近平发表了重要讲话。他指出，党的十八大以来，党中央从全面建成小康社会要求出发，把扶贫开发工作纳入“五位一体”总体布局、“四个全面”战略布局，作为实现第一个百年奋斗目标的重点任务，作出一系列重大部署和安排，全面打响脱贫攻坚战。脱贫攻坚力度之大、规模之广、影响之深，前所未有，取得了决定性进展。\\n习近平强调，我们加强党对脱贫攻坚工作的全面领导，建立各负其责、各司其职的责任体系，精准识别、精准脱贫的工作体系，上下联动、统一协调的政策体系，保障资金、强化人力的投入体系，因地制宜、因村因户因人施策的帮扶体系，广泛参与、合力攻坚的社会动员体系，多渠道全方位的监督体系和最严格的考核评估体系，形成了中国特色脱贫攻坚制度体系，为脱贫攻坚提供了有力制度保障，为全球减贫事业贡献了中国智慧、中国方案。\\n习近平指出，在脱贫攻坚伟大实践中，我们积累了许多宝贵经验。一是坚持党的领导、强化组织保证，落实脱贫攻坚一把手负责制，省市县乡村五级书记一起抓，为脱贫攻坚提供坚强政治保证。二是坚持精准方略、提高脱贫实效，解决好扶持谁、谁来扶、怎么扶、如何退问题，扶贫扶到点上扶到根上。三是坚持加大投入、强化资金支持，发挥政府投入主体和主导作用，吸引社会资金广泛参与脱贫攻坚。四是坚持社会动员、凝聚各方力量，充分发挥政府和社会两方面力量作用，形成全社会广泛参与脱贫攻坚格局。五是坚持从严要求、促进真抓实干，把全面从严治党要求贯穿脱贫攻坚工作全过程和各环节，确保帮扶工作扎实、脱贫结果真实，使脱贫攻坚成效经得起实践和历史检验。六是坚持群众主体、激发内生动力，充分调动贫困群众积极性、主动性、创造性，用人民群众的内生动力支撑脱贫攻坚。这些经验弥足珍贵，要长期坚持并不断完善和发展。\\n习近平强调，脱贫攻坚面临的困难挑战依然巨大，需要解决的突出问题依然不少。今后3年要实现脱贫3000多万人，压力不小，难度不小，而且越往后遇到的越是难啃的硬骨头。脱贫攻坚工作中的形式主义、官僚主义、弄虚作假、急躁和厌战情绪以及消极腐败现象仍然存在，有的还很严重。行百里者半九十。必须再接再厉，发扬连续作战作风，做好应对和战胜各种困难挑战的准备。\\n习近平指出，全面打好脱贫攻坚战，要按照党中央统一部署，把提高脱贫质量放在首位，聚焦深度贫困地区，扎实推进各项工作。为此，他提出8条要求。\\n第一，加强组织领导。各级党政干部特别是一把手必须以高度的历史使命感亲力亲为抓脱贫攻坚。贫困县党委和政府对脱贫攻坚负主体责任，一把手是第一责任人，要把主要精力用在脱贫攻坚上。中央有关部门要研究制定脱贫攻坚战行动计划，明确3年攻坚战的时间表和路线图，为打好脱贫攻坚战提供导向。\\n第二，坚持目标标准。确保到2020年现行标准下农村贫困人口全部脱贫，消除绝对贫困；确保贫困县全部摘帽，解决区域性整体贫困。稳定实现贫困人口“两不愁三保障”，贫困地区基本公共服务领域主要指标接近全国平均水平。既不能降低标准、影响质量，也不要调高标准、吊高胃口。\\n第三，强化体制机制。落实好中央统筹、省负总责、市县抓落实的管理体制。中央统筹，就是要做好顶层设计，在政策、资金等方面为地方创造条件，加强脱贫效果监管。省负总责，就是要做到承上启下，把党中央大政方针转化为实施方案，促进工作落地。市县抓落实，就是要从当地实际出发，推动脱贫攻坚各项政策措施落地生根。要改进考核评估机制，根据脱贫攻坚进展情况不断完善。\\n第四，牢牢把握精准。建档立卡要继续完善，精准施策要深入推进，扎实做好产业扶贫、易地扶贫搬迁、就业扶贫、危房改造、教育扶贫、健康扶贫、生态扶贫等重点工作。\\n第五，完善资金管理。强化监管，做到阳光扶贫、廉洁扶贫。要增加投入，确保扶贫投入同脱贫攻坚目标任务相适应。要加强资金整合，防止资金闲置和损失浪费。要健全公告公示制度，省、市、县扶贫资金分配结果一律公开，乡、村两级扶贫项目安排和资金使用情况一律公告公示，接受群众和社会监督。对脱贫领域腐败问题，发现一起严肃查处问责一起，绝不姑息迁就。\\n第六，加强作风建设。党中央已经明确，将2018年作为脱贫攻坚作风建设年。要坚持问题导向，集中力量解决脱贫领域“四个意识”不强、责任落实不到位、工作措施不精准、资金管理使用不规范、工作作风不扎实、考核评估不严格等突出问题。要加强制度建设，扎紧制度笼子。\\n第七，组织干部轮训。打好脱贫攻坚战，关键在人，在人的观念、能力、干劲。要突出抓好各级扶贫干部学习培训。对县级以上领导干部，重点是提高思想认识，引导树立正确政绩观，掌握精准脱贫方法论，培养研究攻坚问题、解决攻坚难题能力。对基层干部，重点是提高实际能力，培育懂扶贫、会帮扶、作风硬的扶贫干部队伍。要吸引各类人才参与脱贫攻坚和农村发展。要关心爱护基层一线扶贫干部，激励他们为打好脱贫攻坚战努力工作。\\n第八，注重激发内生动力。贫困群众既是脱贫攻坚的对象，更是脱贫致富的主体。要加强扶贫同扶志、扶智相结合，激发贫困群众积极性和主动性，激励和引导他们靠自己的努力改变命运。改进帮扶方式，提倡多劳多得，营造勤劳致富、光荣脱贫氛围。\\n习近平强调，打赢脱贫攻坚战，中华民族千百年来存在的绝对贫困问题，将在我们这一代人的手里历史性地得到解决。这是我们人生之大幸。让我们共同努力，一起来完成这项对中华民族、对整个人类都具有重大意义的伟业。只要全党全国各族人民齐心协力、顽强奋斗，脱贫攻坚战一定能够打好打赢。\\n丁薛祥、刘鹤参加会议，中央和国家机关有关部门负责同志、有关省区负责同志及分管扶贫工作同志、有关市州负责同志参加会议。\\n']\n",
            "[0, 0, 0.9999883, '春节前，习近平总书记来到四川调研，他深入少数民族贫困地区、5·12地震灾区和农村社区的寻常百姓家，访贫问苦，温暖着巴蜀大地人民的心。\\n昭觉县三岔河乡三河村地处大凉山，平均海拔2520米，全村有建档立卡贫困户151户789人，贫困人口占到近一半，是典型的彝族聚居贫困村。在这里，总书记走进贫困户热烈友聪的家。\\n习近平总书记坐在彝家火塘边，与大伙儿一起唠家常，询问大家生活得怎么样。\\n解放乡火普村处于地质灾害区，过去村民住的都是土坯房。实施易地扶贫搬迁后，村民们搬进了安全地带，住上了新房。\\n今年是“5·12”汶川特大地震10周年。10年来，习总书记一直牵挂着灾区的重建，牵挂着村民收入。\\n在映秀，总书记走进杨云刚开的博爱新村饭店，拿起菜单看价格、算民生账。当年震后，总书记到映秀视察灾情，与杨云刚见过一面。这次再见到总书记，杨云刚准备了很多话。\\n总书记的一言一行让每一个见到他的群众打心眼儿里佩服。在成都市郫都区战旗村，总书记向非遗传承人赖淑芳详细询问了布鞋的制作工艺、产量、销量等情况。\\n让赖淑芳没有想到的是，当她提出，全村人委托她向总书记赠送一双布鞋时，总书记却自己掏钱买了一双。\\n']\n",
            "[0, 0, 0.99998695, '明天出版的人民日报将发表评论员文章，题目是《奋斗是幸福的》。\\n']\n",
            "[0, 0, 0.999983, '明天就是大年三十了，在祖国各地，从南至北，从城市到乡村，洋溢着浓浓的年味。\\n在陕西西安，大唐芙蓉园新春灯会，百余组形态各异的水陆花灯，上演着一场视觉盛宴。在江西南昌，位于青云谱区的花博园内，十万盏霓虹彩灯，堆叠成59组巨型彩灯造型，点亮城市的夜空。\\n多彩的花灯、火红的灯笼也扮靓了安徽合肥、江苏宿迁、河北张家口等地。甘肃兰州沿黄河风景线精心打造灯光景观，市民可随时感受“街树千光照，花灯满城焰”的节日氛围。\\n浓浓的年味也充满了村头巷尾。在山西太原，村民们加入到“非遗”节目的表演里。在河南信阳，打糍粑大赛如火如荼。在浙江长兴，彩龙舞进了千年古村，而绍兴丹家村的搡年糕，则让人们尽情品尝舌尖上的年味。\\n在成都杜甫草堂，一幅幅笔墨潇洒、文辞飞扬的春联，为市民送去了美好的新年祝福。在武汉民俗文化节上，非遗传承人教小朋友吹糖人，传递浓浓的年味儿。\\n浓浓的年味也在别样的新春活动里。哈尔滨700多名足球小将，来一场雪地足球比赛欢度节日；来自“一带一路”沿线国家的小朋友，与11个成都志愿者家庭，在文化交流中迎接新年。在南昌开往北京的“井冈山号”列车上，一场热闹精彩的联欢晚会温暖了旅客的回家路。在山东青州，年宵花市上3000多种鲜花俏销，为节日添彩。\\n']\n",
            "[0, 0, 0.99982893, '明天就是大年三十，今天各地持续节前客流高峰。全国铁路预计发送旅客955万人次，预计加开763列临客。铁路春运客流已连续6天保持900万人次以上高位运行。今天分别有超过92万、175万和135万人次离开北京、上海、广州。在南昌、南宁、哈尔滨等车站，歌舞快闪等活动给候车旅客带来温馨欢乐，成都、呼和浩特等铁路局集团公司等在列车上办春晚、送春联，一路欢歌笑语伴旅途。沈阳铁路公安推出微警务平台，旅客通过扫描二维码实现手机终端图片、视频、语音、文字等形式 ，向报警平台准确传递信息和详细位置。\\n今天公路出行以中长途为主，从15号零点开始，全国收费公路对七座及七座以下的小客车免收通行费。今天全国民航迎来节前客流最高峰，比去年同期增加近15%。\\n']\n",
            "[0, 0, 0.94893813, '平昌冬奥会花样滑冰双人滑的比赛今天进行了短节目的争夺，中国头号组合隋文静、韩聪的《哈里路亚》以82.39分获得短节目第一名，领先第二名0.71分。这也刷新了他们个人短节目的最好成绩，于小雨、张昊也以一套高质量的动作获得75.58分，排在第五名，创造了他们的职业生涯新高。\\n自由滑的比赛将于北京时间明天上午9:30分举行，届时，两对中国组合将向金牌发起冲击。\\n']\n",
            "[0, 0, 0.98136806, '春节期间，我台各频道精心准备了多个特别节目和特别报道，用一道道文化大餐陪您过大年。\\n央视除了在除夕夜为您奉上春节联欢晚会这道文化大餐外，综合频道推出大型文化节目《经典咏流传》，以“和诗以歌”的形式，将传统诗词经典融入现代流行元素。\\n《舌尖上的中国》（第三季）将在综合频道和纪录频道同步播出，本季的主题是“品味中国品尝人生”。综艺频道推出《新春喜剧之夜》和《新春相声大联欢》，用各种喜剧形式，让您新春乐翻天。\\n中文国际频道播出《记住乡愁》第四季，展现古镇风貌、梳理古镇传统文化传承。音乐频道推出的春节特别节目《唱响新时代》，采取主会场与分会场多地联动的形式，用音乐和文化来记录祖国的美丽山河，让广大人民群众共享文化发展成果。\\n新闻频道春节节目以“欢乐中国年 启航新时代”为主题进行特别编排。围绕这一主题的灯光秀，将以直播形式展示各地城市地标的夜景灯光，反映中国人民在新时代的获得感、幸福感、安全感和迸发出来的创造力。除夕特别节目《一年又一年》将从除夕上午开始，一起陪您过大年，并伴您看春晚。\\n《正月里来是新春》融媒体特别节目，为您呈现各地过大年的喜庆气氛。新创文化节目《非常年夜饭》，用感人的故事，展现特殊群体的工作生活状态、精神面貌和家国情怀。同时，春节期间央视新闻频道派出80路、近200名记者深入各地一线，继续打造传统品牌栏目“新春走基层”。\\n中国国际电视台首次将移动客户端和社交平台作为春节节目推送主渠道，加强微视频制作，进行特别设计和安排，着重讲述中国传统年俗民俗的精神内涵，体现中国文化的全球影响力。\\n']\n",
            "[1, 1, 0.99797374, '商务部数据显示：1月份全国新设立外商投资企业5197家，同比增长158.6%；实际使用外资803.6亿元人民币，同比增长0.3%。其中，11个自贸试验区实际使用外资同比增长55.2%。\\n']\n",
            "[1, 1, 0.998578, '文化部决定即日起至4月底，在全国范围内开展网络表演市场专项规范整治行动。重点整治内容包括：价值导向问题严重，编造虚假信息；未要求网络表演者实名注册并采取有效方式进行核实等。\\n']\n",
            "[1, 1, 0.9829123, '中国春节临近，多个国际组织负责人和多国政要送上了对中国人民的新春祝福。\\n']\n",
            "[1, 1, 0.9834707, '春节将近，全球多个城市的地标都点亮了“中国红”。\\n13日，一段红绸舞拉开了美国纽约帝国大厦的春节点灯仪式。在13日和15日两个晚上，帝国大厦楼顶都会闪亮红、黄、蓝、白四色彩灯，并以“春回大地”“阳春白雪”“生机盎然”“姹紫嫣红”“共庆佳节”为主题，寓意欢乐、繁荣、和平与吉祥。帝国大厦大堂两侧橱窗内还同时展出了狗年生肖等庆新春艺术作品。\\n南非德班市政厅门前也被“中国红”点缀得别具风情。\\n位于加拿大和美国边境地区的尼亚加拉大瀑布，日前首次为迎接中国春节而穿上了“红妆”，瀑布呼啸而下，激起的水雾在红色灯光的映照下，仿佛变成一团红色的“柔纱”。\\n意大利米兰市地标、约230米高的裕信银行塔，巴西累西腓大桥也在中国春节临近之际以中国元素进行装扮，传递出浓浓的中国年味儿。\\n']\n",
            "[2, 2, 0.898299, '叙利亚方面13日警告以色列，如果今后再次在叙利亚领土上发动袭击，将会予以坚决回击。不过以色列国防部长利伯曼当天早些时候表示，以方在军事行动方面“没有任何限制，也不接受任何限制，以方将回击每一个挑衅”。10日，以色列以报复叙利亚击落其战机为由，对叙利亚防空系统等叙利亚境内目标进行了空袭。\\n']\n",
            "[2, 2, 0.97826433, '以色列警方13日晚宣布，已经完成对总理内塔尼亚胡涉嫌两起贪腐案的调查，有足够证据证明内塔尼亚胡涉嫌贿赂罪、欺诈罪和背信罪，其行为“违反公众利益”。警方已建议检方起诉内塔尼亚胡。内塔尼亚胡随后表示，警方对他的调查没有任何依据，贪腐指控是对他和他的家庭的诽谤。\\n']\n",
            "[2, 2, 0.99640954, '独联体下属的航空委员会13日发布公报说，11日失事的俄罗斯安-148型客机坠毁原因可能是飞机上负责监测并传送大气数据的空速管在空中结冰，使飞行员获得错误航速信息，进而引发一连串“特殊情况”导致飞机失事。空速管原本配有加热系统，但被异常关闭。黑匣子记录的数据显示，客机起飞后，升至距地高度1300米、飞行时速达465公里时开始出现“特殊情况”。\\n']\n",
            "[0, 0, 0.99998856, '在春节来临之际，国家主席习近平2月14日给香港“少年警讯”成员回信，感谢他们寄送亲手制作的新春贺卡，勉励他们好好学习、健康成长、早日成才，并向香港广大青少年致以诚挚的问候和节日的祝福。\\n习近平在回信中说，很高兴收到你们亲手制作的新春贺卡。你们很用心，字也写得认真，你们的祝福让我很感动，谢谢你们！\\n习近平指出，贺卡上的照片让我想起了去年在“少年警讯”永久活动中心跟你们见面的情景。你们个个朝气蓬勃，展现了香港青少年向上向善的精神风貌。祖国和香港的未来，寄托在年轻一代身上。希望你们读万卷书、行万里路，多学点历史，多了解点国情，开阔视野，增长见识，锤炼本领，早日成才，以实际行动服务香港、报效国家。\\n“少年警讯”成立于1974年，是香港警方下属组织，是对香港青少年进行法治教育和爱国主义教育的重要平台，迄今已累计吸引100万名青少年参与，会员超过21万人。去年6月30日，习近平在香港考察了“少年警讯”永久活动中心暨青少年综合训练营，看望了正在训练的香港青少年。近日，当时参加见面活动的郭宏晞、罗颢凝等22位“少年警讯”成员亲手制作了一张新春贺卡，表达对习近平主席的节日祝福，并期望能与习主席再次见面。\\n']\n",
            "[0, 0, 0.9999889, '今天是大年三十，习近平总书记昨天在2018年春节团拜会上，代表党中央、国务院，向全国各族人民，向香港特别行政区同胞、澳门特别行政区同胞、台湾同胞和海外侨胞拜年。习近平总书记说，国家富强，民族复兴，最终要体现在千千万万个家庭都幸福美满上，体现在亿万人民生活不断改善上。千家万户都好，国家才能好，民族才能好。\\n万家团圆的日子里，祖国各地的人们在节日的欢乐祥和之中，尽享生活的美好、体味奋斗的幸福。\\n习近平强调，团聚最喜悦，团圆最幸福，团结最有力。春节是万家团圆的日子，中华民族历来重视家庭，家和万事兴，新春新时代，预示新希望。\\n从2月14日到21日，北京市按重大节日等级开启景观照明，今晚的亮灯将持续到初一凌晨1点，传统的红灯笼、中国结，点缀着长安街和北京中轴线，随时随地让人们感受着红火热闹的浓浓年味。\\n生活美了，年味就足，人们在尝美食、品民俗的活动中，体验着无处不在的幸福感。\\xa0\\n陕西榆林古街上，传统的非遗表演让游客们过了一把瘾；西施故里诸暨200多米长的板凳龙，走村串巷，沿街送福。\\n在江苏沭阳、安徽铜陵的大集上，满眼的红火也散发着浓浓的乡情。\\n春节是万家团圆的日子，也是享受亲情的时刻。\\n在武汉江欣苑社区，“家和万事兴”，在这个社区大家庭里得到了最好的体现。\\n懂得幸福、享受幸福。过年了，富起来的青岛平度百姓，扭秧歌、包饺子，迎新春。在四世同堂的孙成亮家中，全家老小欢聚一堂过大年！\\n在贵州平塘，“中国天眼”核心区的491户搬迁户，春节前夕搬进了新家。\\n在哈尔滨双城区久援村，满族传统的团圆饭开席了。\\n坚守在岗位上的辽宁舰航母上的官兵们，贴福字、写春联，装扮一新。\\n西藏军区来自五湖四海的官兵们，享受了精美的年夜饭，体验家的味道。同样坚守岗位的还有乌兰牧骑队员，海岛、公路、铁路的职工们，他们对习总书记说的“只有奋斗的人生才称得上幸福的人生”这句话深有体会。\\n内蒙古伊金霍洛旗有138个嘎查村，春节期间乌兰牧骑队员分成2到3个小分队，保证春节期间在每个嘎查村都演一场。\\xa0\\n']\n",
            "[0, 0, 0.9999886, '现在播送【央视评论】《勇做新时代的奋斗者》。“新时代是奋斗者的时代”“奋斗本身就是一种幸福”。习近平总书记在2018年春节团拜会上发表的重要讲话，点燃了亿万人民奋进新时代的奋斗激情。在这辞旧迎新的时刻，如何以奋斗者的精神风貌迎接新时代的第一春，有着格外重要的蕴意。\\n“幸福都是奋斗出来的。”党的十八大以来，以习近平同志为核心的党中央，开新局谱新篇，带领我们砥砺奋进，取得一系列举世瞩目的巨大成就，我们比历史上任何时候都更接近中华民族伟大复兴的梦想。今天的这一切，无不是全党全军全国各族人民在人民领袖习近平的带领下奋斗出来的。\\n“莫道君行早，更有早行人”。我们要勇做新时代的奋斗者，不忘初心，牢记使命，在奋斗中启航新时代、奋进新时代！\\n']\n",
            "[0, 0, 0.9999865, '明天出版的人民日报将发表评论员文章，题目是《千家万户好，国家才能好》。\\n']\n",
            "[0, 0, 0.98063815, '过年这个时候，大家聚在一起，就特别爱聊聊这一年过得怎么样，下一年有什么打算，您一肚子的话，除了和亲朋好友说，还可以拿起手机自拍，对着镜头说说，和大家伙儿一起分享您的获得感。\\n']\n",
            "[0, 0, 0.999972, '我们的节目播出的时候，千家万户都已经坐在餐桌旁，守在厅堂里，心情好，笑开颜，歌声不断酒不断，期待我们共同的精神年夜饭，那就是2018年的春晚。\\n']\n",
            "[0, 0, 0.99998516, '过年是咱们中国人一年中最隆重的节日，过年是每个中国人血液里流淌的情节。今年过年您是回家？还是坚守？您是举家出游？还是寻找忘不了的乡愁？您心里的年味是什么？您又有什么新打算呢？从今天起，我们推出海采节目《你在哪里过年》，听大伙说说，“过年”里那些忘不了的情怀。\\n']\n",
            "[0, 0, 0.9990279, '这几年，会说中国话的外国人越来越多，说得好的也越来越多，今天出场的是一对小网红。美国知名投资家吉姆·罗杰斯的两个女儿不光是字正腔圆，而且明显是非常顺溜地有了汉语思维。一起看看姐俩怎么用中国话拜年。\\n']\n",
            "[0, 0, 0.97090673, '平昌冬奥会花样滑冰双人滑自由滑的比赛今天上午进行，伴着普契尼歌剧《图兰朵》的经典旋律，我国选手隋文静/韩聪自由滑拿下153.08分，最终以总分235.47分夺得一枚银牌。冠军被德国组合萨维琴科和马索特获得。\\n钢架雪车男子个人赛今天在奥林匹克滑行中心开赛，这是中国选手在该项目奥运会上首次亮相，两轮过后耿文强以1分42秒38的总成绩在全部30名选手中排名第13。\\n']\n",
            "[0, 1, 0.99853605, '今天，全国节前交通客流高峰已平稳度过，铁路预计发送旅客550万人次，增开旅客列车279列，长途客流今天有所下降，而短途探亲客流随着多条高铁新线的投运，同比明显增长明显。全国公路车流量今天达到节前最低点，零时起收费公路已开始免费通行，民航首都机场今天客流回落，计划保障航1523架次，运送旅客24万多人次。\\n']\n",
            "[1, 1, 0.99291766, '中央气象台预计，除夕夜到初一，全国降水较少，大部地区气温较为舒适，将在好天气陪伴下迎来农历新年。初二起，中东部地区自西向东将迎来较大范围的雨雪，气温也将下降4-8摄氏度。\\n']\n",
            "[1, 1, 0.99772286, '随着天气转暖，黄河壶口段的冰凌开始融化，壶口瀑布再次呈现在人们面前，在宛如一排排冰山的冰凌间，黄河水奔腾咆哮、勇往直前，气势蔚为壮观。\\n']\n",
            "[1, 1, 0.81268483, '在中国农历狗年新春来临之际，一些国际组织领导人和多国政要向中国人民致以节日的问候。\\n']\n",
            "[1, 1, 0.9949651, '连日来，中国驻多国使领馆举行春节招待会，与驻在国政要、友人及侨胞等各界人士欢聚一堂，喜迎新春佳节。\\n中国驻俄罗斯大使馆的新春招待会特别邀请了俄罗斯科技、教育、文化等领域的汉学家们。与会嘉宾表示，十九大之后，中国发展势头会更加强劲，期待中国改革开放的成功经验能够惠及世界更多国家。\\n在中国驻美国大使馆及各地领馆举行的新春招待会上，各界人士祝贺中国春节，并祝愿中美关系更加稳健成熟，在相互尊重基础上实现长期稳定发展。\\n中国驻英国、法国、泰国、黎巴嫩、秘鲁等国使馆也举办了各类迎新春活动，与当地各界人士欢聚一堂，共庆佳节。\\n']\n",
            "[2, 2, 0.8585389, '当地时间14日晚，一场名为“当广州遇见巴黎”的海外新春花市活动在法国巴黎地标性建筑大皇宫举行，喜迎中国新春佳节。“小蛮腰”与埃菲尔铁塔、粤剧脸谱与歌剧脸谱、中法花卉等广州与巴黎最醒目的符号投影展现出中法文化的积极互动。\\n']\n",
            "[2, 2, 0.99726516, '南非总统祖马14日在行政首都比勒陀利亚宣布辞去总统职务，立即生效。\\n祖马的总统任期本应到2019年。去年12月，副总统拉马福萨接替祖马出任执政党非国大主席职位后，南非政界要求祖马让出总统职位的呼声越来越高。非国大此前表示，若祖马坚持不辞职，将于15日在议会发起对他的不信任投票。\\n起航新时代\\n：大年除夕，辞旧迎新，祝您和和美美、团团圆圆、大吉大利。\\n新一年，新气象，让我们用各个城市灯光秀的流光溢彩来迎接新春，启航新时代。\\n']\n",
            "[0, 0, 0.9999873, '辞旧迎新、万家欢聚之际，习近平总书记在2018年春节团拜会上发表的重要讲话，点燃了亿万人民奋进新时代的奋斗激情，共筑中国梦的磅礴力量。大家在欢度新春的同时，表示要以奋斗者的精神风貌迎接新时代的第一春。\\n除夕之夜，人们用璀璨的灯光装扮夜空，用真挚的祝福传递喜悦。\\n在古城西安处处张灯结彩，一派节日胜景；在江西南昌，新年的钟声承载着人们对美好生活的向往；河南商丘的非遗项目火龙舞钢花飞，红火喜庆；在浙江衢州，一段段有关奋斗的“中国故事”映照在1800多年的古城墙上。\\n在河北张家口，流传了500多年的打树花，寄托着劳动人民对美好生活的向往，在冬日温暖着人们的记忆，感受着浓浓年味。\\n奋斗更体现在脱贫攻坚的路上。大年初一，四川大凉山深处的昭觉县火普村，村民们已经开始忙着准备春耕了。前几天习近平总书记刚刚来到这里，跟大家拉家常，共谋精准脱贫之策。\\n大红灯笼挂起来，喜庆春联贴上来，在习近平总书记视察过的福建宁德磻溪镇赤溪村，去年底全村所有建档立卡贫困户已经全部实现脱贫。\\n奋斗的时代，欢庆的新春。\\n在这个春节，北京多地庙会人气爆棚，年味儿十足。百姓既能亲身体验“皇城文化”，还能现场目睹非遗传承人的拿手绝活。\\n在南京栖霞山，听留左大鼓，看栖霞龙舞，人们感受传统文化带来的震撼；在湖南长沙，退休老同志挥毫泼墨，为社区百姓送上新春祝福；在云南宣威，168桌团圆年夜饭开席，苗族同胞身着盛装喜迎新年。\\n在贵州毕节，长达150米的长桌宴，各民族同胞唱起敬酒歌，赞美好日子、表达好心情，处处洋溢着幸福喜悦。\\n团圆、团聚、团结是节日里各地百姓的共同主题。在江苏扬州甘泉街道焦巷村，当地推出了文明有礼二十四条，180位村民同吃年夜饭、共享幸福年，热闹当中又洋溢着文明之风。\\n除夕之夜，新疆吐鲁番市的1万多名各族教师住进了5.3万多名学生家中，跟他们一起吃团圆饭。\\n在奋斗中启航新时代！在西藏日喀则兰巴拉边境检查站，战士们坚守在海拔5300多米的雪山上迎接新年的到来。在黑龙江哈尔滨，交警冒着零下20摄氏度严寒，保证节日里人们的安全出行。\\n']\n",
            "[0, 0, 0.9999885, '2018农历新春，新时代的朝阳已跃出地平线。\\n新时代开启新征程。站在新征程的起点上，我们庆幸，习近平总书记成为带领中国人民实现伟大梦想的掌舵者和领航者——这是历史和人民的选择；我们庆幸，习近平新时代中国特色社会主义思想，成为指引我们实现中华民族伟大复兴的理论灯塔和思想旗帜。\\n新时代需要深化改革。2018年将迎来改革开放40周年，改革开放仍是当代中国发展进步的不二选择。我们唯有牢记习近平总书记的嘱托，逢山开路，遇水架桥，将改革进行到底。\\n新时代需要实干家。伟大的梦想绝不是轻轻松松、敲锣打鼓就能实现的。大到一个国家，小至一个家庭，幸福都是奋斗出来的。我们要像习近平总书记要求的那样：不驰于空想、不骛于虚声，一步一个脚印，踏踏实实干好工作。\\n2018，让我们再次出发，在脚踏实地的奋斗中，启航新时代。\\n']\n",
            "[0, 0, 0.9999871, '明天出版的人民日报将发表评论员文章，题目是《书写“引领时代”的历史新篇章》。\\n']\n",
            "[0, 0, 0.99998784, '新华社今天播发长篇通讯《行程万里 人民至上——习近平总书记春节考察足迹回访》。\\n']\n",
            "[0, 0, 0.99998033, '新时代要文化新气象，中央电视台2018年春节联欢晚会以“喜气洋洋、欢乐吉祥”为主题，浓墨重彩地展现出全民大联欢、普天同喜庆的节日气氛，为除夕守岁的人们献上了文化盛宴。\\n晚会以中央电视台一号演播厅为主会场，设置了贵州黔东南、广东珠海、山东曲阜、泰安和海南三亚四个分会场。整场晚会在欢天喜地的年节氛围中，展示万紫千红的新春天，万千气象的新时代。\\n语言类节目一直是观众最为关注的节目类型，今年相声、小品题材广泛，涵盖了讽刺官僚主义、倡导社会公德、友情亲情等众多内容。其中，两岸演员合作的《回家》，透着割舍不断的同胞情。\\n2018年对于中国来说，是意义非凡的一年。今年春晚的歌曲也以优美的旋律体现新时代、新风貌。王菲、那英20年后重聚首，用歌曲《岁月》带我们一起回望走过的年年岁岁。韩磊用一首《再一次出发》表现了人们满怀豪情踏上新征程的自信和决心。\\n《我的春晚我的年》回溯了央视春晚走过的35年历程。\\n今年春晚还设计了一个特别环节“国宝回归”，巨幅画作《丝路山水地图》重回祖国母亲怀抱的曲折故事感动了众多观众。\\n伴随着春晚的歌声、笑声，很多仍在回家路上的人们在机场、火车站度过了自己的除夕夜。\\n在网络上，春晚也成为人们点击和互动最热烈的话题。仅央视新闻新媒体各平台，春晚相关直播及报道的播放阅读量就超过了1.94亿。\\n']\n",
            "[0, 0, 0.99998635, '巨大的变化，就在我们身边，一天天发生，一点点积累。老百姓更多的获得感，是新时代最鲜明的色彩。自己拍，尽兴说，一起进入今天的《了不起 新时代》。\\n']\n",
            "[0, 0, 0.99996024, '大年初一，全国大部地区天气以晴到多云为主，各地旅游活动丰富多彩，节日气氛喜庆祥和，全国旅游市场运行良好。\\n在国家级非物质文化遗产北京厂甸庙会，一场有趣、有内涵的文化庙会将持续到大年初五，以文会友，彰显悠久历史和丰厚底蕴。在广东肇庆揭阳等地，隆重的新春龙狮大巡游活动热闹开启，龙狮队伍竞相欢舞，沿着主要街道巡游，为民众送上新春祝福。冬奥会带动冰雪游升温，黑龙江各地举办冰雪特色活动，掀起冰雪闹新春，龙江过大年的热潮，除夕当天，游客数量突破5万人次，创下今冬以来新高。\\n据国家旅游局数据中心综合测算，除夕当天全国旅游接待总人数0.56亿人次，同比增长9.06%；实现旅游收入642亿元，同比增长8.78%。从城市到乡村，从国内到出境，春节假期首日均迎来大量游客。\\n值得关注的是，中央气象台预计，明天起，中东部地区将逐渐迎来雨雪天气，冷空气活动较为频繁，先后有两股冷空气将自西北地区影响我国大部。南方大部地区多阴雨，江汉南部、江淮、江南北部等地的部分地区有中到大雨。气象专家提醒，请公众及时关注最新天气预报信息，做好保暖措施，注意出行安全。\\n']\n",
            "[0, 0, 0.9999803, '打拼了一年，心里话说给谁听？团聚了，过日子的甘苦和谁分享？一起来看《春节海采：你在哪里过年》。\\n']\n",
            "[0, 0, 0.9999429, '今天是2018年藏历新年，西藏、四川、云南、甘肃、青海等地的藏族群众一起欢度佳节。\\n在拉萨布达拉宫脚下的宗角禄康公园，来自自治区歌舞团、藏剧团等单位的近百名演员，给市民们带来了一场精彩的文艺演出。\\n在拉萨市曲水县四季吉祥村，这个易地扶贫搬迁的村庄，大家特意聚在一起，迎接新年的第一天。\\n在四川甘孜州甘孜县，象征丰收、吉祥的“糌粑大战”如期而至。\\n在甘肃天祝藏族自治县，当地藏族群众，喝着醇香的青稞美酒，跳起热烈的锅庄舞，一起庆祝佳节，分享美好的生活。\\n']\n",
            "[0, 0, 0.99867356, '都说中国话很难学，但是说得顺溜的外国人越来越多。为什么？因为中国文化的吸引力，因为中国发展的魅力。\\n']\n",
            "[0, 0, 0.99857163, '平昌冬奥会花样滑冰赛场今天进行了男单短节目的争夺。中国选手金博洋的《卧虎藏龙》得到103.32分排名第四，有希望在明天的自由滑比赛中冲击奖牌。昨天的双人滑比赛，德国组合萨维琴科/马索特夺得冠军，其中34岁的萨维琴科是第五次征战冬奥会。\\n昨晚进行的自由式滑雪女子空中技巧资格赛，中国名将徐梦桃以99.37分的成绩晋级决赛。决赛于今晚7点进行。\\n高山滑雪比赛中，奥地利选手梅耶以1分24秒44的成绩获得男子超级大回转冠军。女子回转金牌被征战雪场14年的瑞典老将汉斯多特以总成绩1分38秒63获得。\\n']\n",
            "[1, 0, 0.9711911, '新春佳节到来，联合国秘书长古特雷斯、联合国教科文组织总干事阿祖莱、英国、法国的领导人等政要送上了他们的美好祝愿。\\n']\n",
            "[1, 0, 0.9183742, '除夕当晚，澳大利亚悉尼的标志性建筑悉尼歌剧院点亮红色灯光，喜迎中国年。埃及首都开罗的地标性建筑——开罗塔也举行了点亮“中国红”活动。\\n在俄罗斯圣彼得堡，当地的地标性建筑——瓦西里岛海神柱为庆祝春节燃起了长明火。\\n在美国休斯敦，休斯敦火箭队主场体育馆披上了中国红，除舞狮表演、“恭喜发财”等祝福字样，球员的队服上也印上了中文“火箭”字样。此外，纽约哈德孙河畔也举行了烟火表演，以金色和红色为主题，象征喜庆吉祥。\\n']\n",
            "[2, 2, 0.99003106, '南非国民议会15日选举非洲人国民大会主席、代总统拉马福萨为南非新总统，接替于14日宣布辞职的祖马。65岁的拉马福萨当选后在议会发表讲话说，“我们的目标是进一步改善人民生活”。拉马福萨今天将发表国情咨文，阐明如何打击腐败等问题。\\n祖马的总统任期原本应于2019年结束，但本月13日，非国大以涉嫌贪腐为由要求祖马立即辞职。\\n']\n",
            "[2, 2, 0.95902365, '美国国务卿蒂勒森15日抵达土耳其访问，讨论两国关系及是否在土耳其和叙利亚边境建立安全区问题。美国官员称，蒂勒森与土耳其总统埃尔多安举行了“开诚布公和富有成果”的会谈，但没有透露具体会谈结果。最近一个月以来，土耳其在叙利亚北部展开针对库尔德武装“人民保护部队”的军事行动，而该武装是美国支持的武装力量的主要组成部分，两国关系因此受到影响。\\n启航新时代\\n大年初一精神爽，新春佳节福满门。\\n让我们继续跟着灯光秀直播，去领略锦绣中国的盎然生机。\\n']\n",
            "[0, 0, 0.9999889, '鞭炮声中，春天的脚步近了；祝酒歌里，奋斗的新一年开局了。让贫困地区的老百姓过上好日子，是我们的奋斗目标之一，也是习近平总书记心中永远的牵挂。十八大以来，总书记50多次赴基层考察调研，每逢春节都要看望慰问困难群众，几乎走遍了全国的集中连片特困地区。《新闻联播》推出系列报道《总书记的牵挂·一枝一叶总关情》，今天带您去总书记曾经到过的贫困地区，看一看精准扶贫带给当地生活的巨大变化，感受总书记的关切激发出的无穷活力。\\n正值隆冬，四川大凉山海拔2000多米的盘山公路上，车队蜿蜒前行，这是总书记连续第六个年头到基层看望困难群众。\\n走进大山，总书记专门问起了地处大凉山深处的“悬崖村”。这个坐落在山顶上的小村庄，村民们从山底到山顶，需要攀爬落差800米的悬崖、几百级藤梯。\\n总书记一直记挂着这个小村庄，这几年新装了上山钢梯，新通了手机信号、宽带，有了光伏路灯，村里人也开始发展特色种植、乡村旅游。\\n春节前，村里又开通了货运索道，油橄榄苗坐着索道上了山。\\n“橄榄花开幸福来”。习总书记说：“让几千万农村贫困人口生活好起来，是我心中的牵挂”。为了这份牵挂，在太行山深处的河北阜平顾家台村，总书记同乡亲们促膝相坐，共商脱贫之策；为了这份牵挂，在大草原的蒙古包里，总书记和乡亲们一起算产业账；为了这份牵挂，在自古“瘠苦甲天下”的甘肃定西，总书记走进元古堆村村民马海龙家，询问粮食够不够吃，看病有没有保障。\\n以人民为中心，与人民心贴心，这是习近平总书记鲜明的执政理念。\\n一句“我是人民的勤务员”，饱含着对人民最深沉的爱。这份爱，更体现在这些年党中央精准扶贫、精准脱贫的基本方略里。在湖南湘西十八洞村，习近平总书记首次提出精准扶贫；在陕西、贵州调研考察扶贫工作时，提出“六个精准”；在中央扶贫开发工作会上，围绕精准扶贫、精准脱贫这个重大问题，习近平总书记作出了一系列深入阐释。由此，精准扶贫的理念成为贫困地区广大干部群众砥砺奋进的动力，上万个贫困村的命运开始改变。\\n宁夏永宁县闽宁镇原隆移民村，在产业扶贫的带动下，如今人均可支配收入已经达到了11976元。总书记心中牵挂的，在这里正一步步变为现实。\\n党的十八大以来，全国农村累计脱贫6853万，相当于一个中等规模国家的人口总量，创造了一个奇迹。眼下，我国仍有3046万农村贫困人口。广大干部群众正牢记嘱托，在脱贫路上扎实前行。\\n天地之大，黎元为先。带领一个13亿多人口的大国战胜贫困、实现小康，这是人类历史上亘古未有的壮举。联合国2030年可持续发展议程确定的减贫目标，将在中国提前十年实现。\\n']\n",
            "[0, 0, 0.9999772, '今天是农历的大年初二，按照传统礼俗，女婿要回门，拜年要出门，门里门外都热闹，东西南北年味浓。\\n欢欢喜喜逛庙会，红红火火过大年。在山东枣庄，台儿庄古城里，舞龙舞狮、威风锣鼓等20多项民俗展演，让游客们大饱眼福。在北京最大规模的庙会——地坛庙会上，重头戏“仿清祭地”上演，为庙会增加喜庆年味的同时，也让人们了解了历史。在河南永城，芒砀山正在举行民俗旅游文化节，不止有踩高跷、竹马旱船、莲花落，还有难得一见的傩戏表演。在贵州都匀，独具本土特色的苗族竹竿舞，吸引不少游客一起互动。\\n一边是锣鼓歌舞欢快热烈，一边是传统手艺赚足人气。在山东滕州、山西晋城、辽宁盘锦等地的庙会上，剪纸、吹糖人让游客们目不暇接。在江西南昌正在举办的“说民俗、展民俗”活动现场，“民俗、非遗展示体验区”里，孩子们画出一幅幅充满童趣的年画。\\n在昆明世博园的庙会现场，人们在万花丛中欣赏民俗表演，品尝小吃美食。\\n大江南北，过年的习俗各有不同，但喜庆的气氛一样浓烈。从今天开始，一连三天，广州市将在市区繁华路段，举办有史以来最大的花车巡游。用时令鲜花装饰的花车，充分体现了岭南文化的魅力。\\n在内蒙古锡林郭勒盟多伦县，一场别开生面的冰上龙舟大赛火热上演。在一米多厚的冰面上，选手们用特制的马蹄形冰钎触碰冰面，发出有节奏的声响，在200米的冰上赛道上，大家你追我赶。\\n四川宜宾的竹乡舞龙灯表演、深圳社区居民自发的巡游表演等把新年的味道烘托得格外浓烈。在海南三沙，热闹欢腾的舞狮表演走进岛礁、渔村，处处洋溢着喜庆。在浙江德清，莫干山镇南路村，村口的小广场上，热闹的舞龙火热上演。\\n']\n",
            "[0, 0, 0.99998045, '新春时节，很多人坚持在岗位上过年，大家拍自己，说发展，一起来看今天的《了不起新时代》。\\n']\n",
            "[0, 0, 0.99934494, '中国外文局今天首次发布了《中国话语海外认知度调研报告》，报告显示：近两年中国话语以汉语拼音的形式在国外的接触度和理解度都大幅提升，拼音和汉字“中为洋用”正在成为英语圈国家的一种新现象。\\n在这份报告中，认知度排在前100名的中国词，文化类所占比重最大，春节、重阳等中国传统节日悉数上榜。一个有趣的现象是，过去不少翻译成英文的中国词，开始被汉语拼音替代。比如熊猫，外国人不光知道panda，还知道这个憨态可掬家伙的中文叫法“熊猫”。还有饺子，过去叫dumpling，现在越来越多的外国人，直接叫它JIAOZI，最新版的《牛津英语词典》也把拼音“JIAOZI”收录进去。\\n经济类词汇“人民币”的外媒传播度和民众知晓度也十分抢眼。无论在美国纽约曼哈顿、还是英国伦敦金融城，伴随人民币国际化进程加速，汉语“人民币”不仅成为高频词，还成了金融圈的必修中文词。\\n值得注意的是，“一带一路”“十三五”“中国梦”，一系列由中国定义、带有鲜明中国特色的词语也以原汁原味的方式走进世界。\\n']\n",
            "[0, 0, 0.98508257, '除了这些“中为洋用”的字词之外，外国人还对什么样的中国词感兴趣呢？我们继续来看一下。\\n']\n",
            "[0, 0, 0.99995255, '接下来继续打开话匣子，说说我的年，进入今天的《春节海采：你在哪里过年》，晒晒普通中国人的开心事、欢乐年。\\n']\n",
            "[0, 0, 0.9999814, '今天是大年初二，许多人在家过节后开始执行出游计划，旅游消费进入快速释放期，春节假期迎来了出游小高峰。而气象预报显示，从今日开始，我国中东部地区有一次雨雪天气过程，北方地区多冷空气活动，提醒大家出门要注意保暖。\\n新春伊始，全国旅游市场稳中有升，探亲访友、短途休闲旅游迅速升温，出游人数大幅增加。经国家旅游局数据中心综合测算，截止到17日，全国旅游接待总人数0.87亿人次，同比增长10.6%，实现旅游收入1107亿元，同比增长10.7%。春节假日前三天，全国旅游接待总人数累计2.14亿人次，实现旅游收入累计2582亿元。\\n据中央气象台预报，未来两天，受冷空气影响，西北地区大部、华北北部等地将有4～6℃降温，局地降温达8～10℃以上，南方大部地区多阴雨，其中江汉南部、江淮、江南北部等地的部分地区有中到大雨，游客出行需防寒及注意交通安全。\\n']\n",
            "[0, 0, 0.99998456, '寒冬假日里，为确保电能源源不断地输向千家万户，大唐托克托发电公司职工冒着零下20多度的低温坚守岗位，全力保障电力供应。\\n在大唐托克托发电公司的生产车间，12台火电机组马力全开。今年1月份，该电厂的发电量超过32亿千瓦时，再创历史新高。强大的电能供应，离不开电煤的有效供给。\\n目前，电厂职工全员上岗，24小时轮班作业抢卸电煤，每天电煤接卸量达7万吨左右。除此之外，煤矿产区、电企、铁路等相关部门已启动了相应的应急机制，通过三方协调，及时掌握运力、燃煤库存等信息，全力保障燃煤供运畅通无阻。\\n']\n",
            "[0, 0, 0.9996278, '在昨晚进行的平昌冬奥会自由式滑雪空中技巧女子决赛中，32岁的老将张鑫、首次参加冬奥会的小将孔凡钰凭借稳定的发挥分别获得银牌和铜牌。冠军被白俄罗斯选手库斯科娃获得。\\n今天上午进行的花样滑冰男单自由滑比赛中，我国选手金博洋以自由滑194.45分，总分297.77排名第四，创造了我国男单选手在冬奥会历史上最好的名次。日本名将羽生结弦再次发挥出了高水平，他以自由滑206.17分，总分317.85的总成绩蝉联冠军，也成为66年来卫冕该项目金牌的第一人。\\n女子冰壶循环赛继续进行，由麻敬宜、刘金莉、周妍、王冰玉组成的中国女子冰壶队第八局拿到三分成为转折，加局后手拿到一分，最终以7比6险胜日本队，收获冬奥会开赛以来的第二胜。\\n']\n",
            "[1, 1, 0.9982633, '2月1日至16日，春运的前16天，全国铁路日均电煤装车48370车，同比增加9335车，同比增长24%。\\n']\n",
            "[1, 1, 0.9983848, '据国家新闻出版广电总局电影局初步统计，2月16日大年初一全国电影票房为12.61亿元，观影人次为3217万，比去年初一（1月28日）分别增长了55.93%和50.53%，创下新的单日电影市场纪录。\\n']\n",
            "[1, 1, 0.9751303, '连日来，庆祝中国春节的活动在全球多国举行，展现中华文化的独特魅力，也让当地民众体会到春节欢乐祥和的气氛。\\n新春伊始，阿联酋多个知名地标建筑都举办了春节主题灯光秀。世界最高建筑哈利法塔披上了红色的外衣，数万盏LED灯组合变幻出万里长城、中国龙等具有中国元素的画面。哈利法塔下的音乐喷泉也随着小提琴协奏曲《梁祝》的音乐，为各国游客送去新春的祝福。迪拜知名地标建筑“帆船酒店”的外墙上，也中文投影打出“新春在迪拜，让好事发生”的字样。\\n16日，迪拜还举行大型春节巡游，当地华人华侨以及国际友人组成的30个方队参加了巡游。\\n在芬兰首都赫尔辛基，第十二届中国春节庙会让当地人感受到浓浓的中国春节气氛。不少芬兰年轻人参加了舞龙舞狮活动。分布在火车站、步行街的十二生肖动物冰雕让当地人了解中国生肖文化，来自北京的艺术家展示了具有民族特色的手工艺品。商业街的大屏幕上还播出了中国中央电视台的春节晚会。\\n16日，“欢乐春节”活动在泰国曼谷唐人街拉开帷幕。泰国诗琳通公主亲自拉下了庆典启动闸门。中泰两国的艺术家们在开幕式上表演了两国传统舞蹈。夜幕降临后，舞狮和包青天戏剧依次上演。\\n“中国文化周”活动在巴西著名旅游城市里约热内卢举行，来自贵州的彝族、苗族艺术家们表演了各具特色的民族歌舞，其中包括被列为国家级非物质文化遗产的木鼓舞、吹木叶等民间绝活。中国小吃、书法和传统工艺品、针灸等展示，让巴西民众大开眼界。\\n16日，纽约纳斯达克证券交易所举行了特别的开市敲钟仪式，庆祝中国农历狗年的到来。\\n']\n",
            "[2, 1, 0.98922306, '美国司法部16日宣布，负责“通俄门”调查的特别检察官米勒已经对13名俄罗斯公民以及三家俄罗斯实体机构正式提起诉讼，理由是他们涉嫌干预2016年美国总统大选。起诉书称：这些俄罗斯公民和和机构假借美国身份，在社交媒体上散播政治广告，以支持当时的总统候选人特朗普，对另一位候选人希拉里·克林顿进行诽谤，其行为构成了针对美国的“信息战”。起诉书没有提及特朗普团队是否存在“通俄”行为。\\n美国总统特朗普随后表示，俄方在2014年就开始反美宣传，当时他还没有宣布将参选，他还强调其竞选团队与俄方没有瓜葛。\\n俄罗斯外交部长拉夫罗夫16日强调，俄罗斯“不能也不会”干预美国大选，美国司法部的调查结果缺乏证据。\\n']\n",
            "[2, 1, 0.96415097, '16日，土耳其外长恰武什奥卢在会见到访的美国国务卿蒂勒森后表示，两国同意建立一个机制解决两国在伊拉克、叙利亚、反恐以及领事保护等方面存在的问题，缓解双边紧张关系。恰武什奥卢再次重申，美方支持的叙利亚库尔德武装必须从叙北部曼比季撤走。\\n蒂勒森说，美土关系正处于一个“危机点”，美国认为土耳其应在叙利亚北部阿夫林进行的军事行动中保持克制。\\n']\n",
            "[1, 2, 0.85218656, '当地时间16号下午5点39分，也就是北京时间今天7点39分，墨西哥瓦哈卡州皮诺特帕－德唐路易斯以南发生7.2级地震，震源深度约为10公里。目前没有人员死亡的报告。地震发生时，首都墨西哥城和南部瓦哈卡州、恰帕斯州，中部普埃布拉州和西部米却肯州都有震感，共有大约100万户断电，瓦哈卡州至少有50座建筑受损。地震发生后，又发生了200多次余震。根据美国太平洋海啸预警中心的消息，这次地震不会引发海啸。\\n']\n",
            "[2, 2, 0.996429, '埃塞俄比亚部长会议16日发布消息说，该国从当天开始进入全国紧急状态，但没有透露紧急状态具体期限。部长会议表示，实行紧急状态是为应对不稳定局势并维护国家秩序。埃塞俄比亚总理海尔马里亚姆已经于15日提交辞职申请。\\n因部分民众对政策不满，近两年多来，埃塞俄比亚部分地区局势紧张，近日，奥罗米亚州等地再次发生示威抗议活动。\\n']\n",
            "[2, 2, 0.9913752, '第54届慕尼黑安全会议16日在德国慕尼黑开幕，中东地缘危机、全球秩序、朝核问题等成为会上各方关注重点。\\n主办方会前发布年度安全报告称，全球地缘政治和安全风险不断升级，大国博弈加剧，民粹主义、单边主义盛行，现有国际秩序体系遭遇前所未有的冲击。德国国防部长冯德莱恩在开幕式上说，确保地区局势的和平与稳定，不能仅仅依靠军事手段，而应通过在动乱地区建立稳定的政治、经济秩序来实现。\\n启航新时代\\n新春佳节看美景，流光溢彩中国年。\\n请继续跟着我们的灯光秀镜头，去领略城市的光影魅力，感受新时代的璀璨旋律。\\n']\n",
            "[0, 0, 0.999989, '习近平总书记在2018年春节团拜会的重要讲话中指出，国家富强，民族复兴，最终要体现在千千万万个家庭都幸福美满上，体现在亿万人民生活不断改善上。\\n中华民族历来重视家庭。习近平总书记一直把千万个家庭的美好生活作为治国理政的奋斗目标，将脱贫攻坚摆在了治国理政的突出位置。\\n从太行脚下到大别山区，从陇中定西到吕梁深处、大凉山间……总书记身体力行走遍全国14个集中连片特困地区。党的十八大以来，中国创造了人类减贫史上前所未有的奇迹。\\n“国家好，民族好，大家才会好”。家国一体休戚相关的情怀从来就是中华民族精神谱系中的理想。个人前途与国家命运唯有同频共振才能奏出最美的乐章。\\n“草木萌发，春山可望”，党的十九大后的第一个春天已经到来。让我们在人民领袖习近平的带领下，以家国情怀汇聚起亿万家庭与个体的智慧和力量，奋进在第一春、奋进在新时代！\\n']\n",
            "[0, 0, 0.99998057, '热热闹闹度新春，万紫千红中国年。大年初三，大江南北的人们在一派喜气洋洋的气氛中，欢度佳节。\\n在安徽黄山的屯溪老街，欢庆的踩街活动贯穿了这个春节。由当地百姓组成的踩街队，在喧天的锣鼓声中，踏遍老街每个角落。\\n在湖南娄底新化县，迎春活动格外热闹。那里不仅有保存完整的苗瑶特色古村落，还有新化山歌、梅山武术等非物质文化遗产。\\n在浙江诸暨，三江新村的非遗布龙格外有讲究。86名高手组成的舞龙队，表演了12个舞龙造型，让布龙腾飞翻滚，迎丰收、送祝福。\\n在四川遂宁的龙凤古镇、新疆若羌县的街道上、江西高安的梅家村，人们踏着喜庆的鼓点，和着欢快的节拍，沉浸在喜庆祥和的气氛里。\\n在重庆酉阳龚滩古镇，每到过年的时候，当地都会举办非遗项目的展演，演员是当地土家族苗族各个寨子里的村民，原生态的表演让远道而来的游客感受到了当地民俗文化的魅力。\\n在深圳，春节期间，不少市民趁着天气晴好举家外出，游园赏景。在开园不久的人才公园、香蜜公园，满眼湖光花景，成为市民尽享和煦暖阳的热门去处，大家在节日里享受生态建设带来的“绿色福利”。\\n威风的锣鼓敲起来，武术擂台比起来，在江苏溧阳天目湖南山竹海，游客们赏美景，品民俗，寻年味儿，尽享春节的喜悦。\\n在昆明黑龙潭公园，绿萼、丰后、美人梅等品种的梅花相继绽放，为游客送上了一园如画美景。\\n从大年初二开始，吉林长白山就热闹了起来，全国各地的人都到这里来体验戏雪乐趣。各种冰雪游戏，游客可以自己选择。\\n忙碌了一年的草原牧民们，春节里则进行了一场刺激的赛马，牧马人扬鞭驰骋在冰雪草原上。\\n过年了，更不能忘记看花灯。河南开封上元花灯、山西大同古都灯会等都纷纷亮相，五彩缤纷中，给人们不同的文化体验，更感受到新春的喜庆吉祥。\\n']\n",
            "[0, 0, 0.9998534, '今天是春节假期第四天，游客出行持续增长，短途为主的探亲访友、中近程旅游、赶庙会、亲子游、都市休闲游数量持续活跃。四川、广东、湖南、江苏、河南、安徽等地接待游客量居前。今天，黄山景区虽然飘雨，但接待游客仍达3万余人次。北京故宫初二和初三的客流量均达8万人上限。三亚的自驾游或散客成为主流，到海南享受阳光沙滩已经成为不少北方人的时尚旅游之选。\\n经国家旅游局数据中心综合测算，春节前四天，全国旅游接待总人数累计2.87亿人次，同比增长11.1%，实现旅游收入3527亿元，同比增长11.6%。\\n中央气象台监测显示，今天起雨雪天气开始影响我国西北地区东部和南方，今天到初六，南方将连续有两次降雨天气过程，甘肃、陕西、山西等地有降雪。20日起，新一股冷空气将影响我国，多地气温将下降4到8摄氏度。雨雪地区人们出行要注意交通安全。\\n']\n",
            "[0, 0, 0.99996006, '俗话说“三六九，往外走”。大年初三，全国铁路、公路客流大幅回升，预计铁路发送旅客902万人次。重点火车站、高速公路服务区都推出了贴心服务，送旅客温暖出行。\\n今天铁路客流以短途探亲、旅游为主，返程客流开始逐渐升温。从武汉前往宜昌、十堰、襄阳等周边城市的短途客流明显增多。乘坐渝贵铁路动车组前往春城昆明旅游成为川渝地区民众过年新风尚，目前成都、重庆前往昆明的动车组车票基本售罄。从大连到沈阳方向的高铁通过扩大列车编组、动车组重联，满足短途旅客出行需求。\\n从早上7：05至晚上20：35，每天74趟高铁路车往返西安与成都之间，平均11分钟一趟，西成高铁实现公交化开行。\\n在提升运力的同时，铁路部门采取多种措施服务旅客出行。北京三大火车站设置爱心服务区、母婴室、儿童娱乐区，为旅客提供温馨舒适的候车环境。南昌局集团公司在鹰潭、厦门、武夷山等热门旅游目的地列车到达、出发集中时段，加密景区和车站接驳公交的开行班次，方便旅客出行。\\n公路方面，从江苏去往上海，苏州去往无锡等方向的车流量较大，出现阶段性车辆排队、缓行现象。珠三角地区的莞佛高速、以及去往广州、深圳方向的回程车流大幅上扬。春运期间，全国共有23个省市区的885对高速公路服务区建有充电设施，投入运营的6402个充电桩方便新能源车车主出行。\\n民航方面，春节假期前三天平均航班正常率超过90%。\\n']\n",
            "[0, 0, 0.72660446, '中国农历狗年新春到来之际，多种形式的庆祝活动在世界多地举行，展现中国传统节日文化的无穷魅力。\\n连日来，“欢乐春节”系列活动在多国举行。在意大利首都罗马，“欢乐春节”活动献上了一道精彩的年味大餐。浙江婺剧艺术团的精彩演出，让在场观众领略了国家级非物质文化遗产婺剧的魅力。《抬花轿》等经典剧目、徽胡独奏、民族舞蹈博得观众热烈掌声。\\n在美国芝加哥，“欢乐春节”庆祝活动17日在一场新春音乐会中拉开序幕。中国重庆市川剧院和浙江交响乐团联袂奉献了一台中西合璧、跨越古今的演出，令在场的美国观众感受到多彩的中华文化，也让华侨华人听到了久违的乡音。美国加州、华盛顿州、北卡罗来纳州17日还同时举办“文化寻力·中国春节文化集会”活动，中国学生和非物质文化遗产传承人走进美国校园，与师生共庆春节。中国学生代表展示了木偶、抖空竹等项目。中国非遗传承人则展示了汉秀、面塑等传统技艺。\\n今年是中美洲国家巴拿马与我国建交后的首个农历新年。“欢乐春节·京风津韵”2018巴拿马春晚，大年初一、初二连续两天在巴拿马城精彩亮相。来自北京和天津的艺术家为当地民众和华人华侨奉上精彩的古典舞、民族舞、戏曲、中西民乐等表演。演出大厅外，还有京津非物质文化遗产展示等活动。\\n在阿根廷首都布宜诺斯艾利斯，“欢乐春节”庙会由“画龙点睛”开场，舞龙舞狮瞬间点燃了全场气氛。民族歌舞、杂技、武术等代表中国传统文化的表演，一如既往地受到欢迎。\\n在新加坡，今年已经是连续第32年以“春到河畔”为主题举行春节活动。今年“春到河畔”的灯饰以家为主轴，体现春节与家人团聚的传统。现场还有写春联、猜灯谜、吃美食等活动。\\n在乌克兰西部历史文化名城利沃夫，市中心的市集广场张灯结彩，热气腾腾的中国饺子让人们赞不绝口，狗年生肖饰品琳琅满目，奇幻灯光秀表达了热爱中国的主题，精彩的舞龙表演将气氛渲染得更加热闹。\\n']\n",
            "[1, 0, 0.885984, '春节是中国人一年当中最重要的传统节日。对于春节，不少驻华大使也有着自己独特的理解和感受。一起来看看驻华大使们眼中的春节以及他们用中文送上的新春祝福。\\n']\n",
            "[0, 0, 0.9998941, '在昨晚进行的平昌冬奥会短道速滑女子1500米的决赛中，中国小将李靳宇奋勇夺得一枚银牌。\\n17岁的李靳宇是闯入1500米决赛的唯一一名中国选手，她也是决赛7人中年纪最小、大赛经验最少的新生力量。比赛中，李靳宇一直采用跟滑战术，最后时刻她抓住对手的降速点，连续完成超越，最终以2分25秒703的成绩为中国队锁定一枚银牌。韩国选手崔敏静夺得冠军。\\n自由式滑雪空中技巧男子资格赛昨晚结束，中国队的齐广璞、贾宗洋和刘忠庆均闯进决赛，决赛于今晚19点开始。\\n']\n",
            "[1, 1, 0.9983749, '深水起重铺管船“海洋石油201”今天在南海北部湾海域圆满完成了长达195公里的海底管线铺设，实现南海海域全季节海上施工，这是我国迄今为止自主铺设的最长海底管线。\\n']\n",
            "[1, 1, 0.5217061, '诗词唱经典，中国正流行。今晚八点，央视综合频道将播出《经典咏流传》。用经典传唱把古诗与古曲相融，讲述了相扶相助、相濡以沫等中华民族爱的美德。\\n']\n",
            "[1, 1, 0.7948188, '伊朗阿塞曼航空公司一架载有66人的航班今天在伊朗伊斯法罕省南部塞米罗姆市附近的山区坠毁。阿塞曼航空方面表示，机上60名乘客和6名机组成员全部遇难。\\n这架飞机于当地时间今天早上5点，也就是北京时间今天上午9点半起飞，原定从伊朗首都德黑兰飞往伊朗西南部亚苏季，起飞约50分钟后从雷达上消失。伊朗迈赫尔通讯社援引塞米罗姆市长的话报道说，由于坠机地有大雾，救援直升机暂时无法进入，目前救援人员正通过陆路赶往现场。伊朗方面表示，将对坠机原因展开调查。\\n据悉，坠毁的伊朗飞机为一架ATR－72型民航客机，该机型一般用于短途民航飞行。\\n']\n",
            "[2, 2, 0.9883269, '17日，以色列靠近加沙地带南部的边境地区一处爆炸装置忽然引爆，导致4名以色列士兵受伤。以色列军方表示，爆炸装置是袭击分子在16日一场游行活动中安装的。以军随后打击了巴勒斯坦伊斯兰抵抗运动（哈马斯）位于加沙地带的多处军事目标。巴勒斯坦卫生部18日宣布，2名巴勒斯坦人在以色列的轰炸中被炸死。 \\n']\n",
            "[2, 2, 0.9951321, '英国首相特雷莎·梅17日在慕尼黑安全会议上发表讲话，表示英国希望在“脱欧”后依然与欧盟在安全方面保持密切合作，呼吁欧盟尽快与英国就“脱欧”后的安全合作问题启动安全条约谈判，以便能够在2019年年底前达成协议。她还表示，“脱欧”已成定局，英国不会就此举行第二次全民公投。对此，欧盟委员会主席容克表示，安全条约谈判应与英国“脱欧”谈判相区分，不应“混为一谈”。\\n']\n",
            "[2, 2, 0.98135924, '美国联邦调查局16日说，上月初曾收到有关佛罗里达州校园枪击案嫌疑人克鲁兹的线报，但没有作出反应。美国司法部部长塞申斯表示，已下令审查司法部和美国联邦调查局处理潜在暴力事件的流程。\\n佛罗里达州南部帕克兰市一所高中14日发生枪击事件，造成17人死亡。数千人17日在事发高中旁边举行集会，呼吁国会出台更加严格的枪支管控法案。\\n启航新时代\\n东风化雨新时代，大地阳和中国年。\\n让我们跟随镜头，透过光影，感受新春佳节祖国各地争芳斗艳的良辰美景。\\n']\n",
            "[0, 0, 0.99998844, '国家主席习近平2月19日就伊朗客机坠毁事件向伊朗总统鲁哈尼致慰问电。\\n习近平在慰问电中表示，惊悉贵国一架客机坠毁，造成全体乘客和机组人员不幸遇难。我谨代表中国政府和中国人民并以我个人的名义，对遇难者表示沉痛的哀悼，向遇难者家属表示深切的慰问。\\n']\n",
            "[0, 0, 0.99998915, '两年前的今天，习近平总书记来到中央电视台调研，给了央视人莫大的鼓舞。当天下午，在党的新闻舆论工作座谈会上，习近平总书记发表重要讲话，就新的时代条件下做好党的新闻舆论工作做出战略部署，并提供了根本遵循和行动指南。两年来，中央电视台牢记总书记的殷切嘱托，坚持正确的政治方向和舆论导向，切实提高党的新闻舆论传播力、引导力、影响力、公信力。\\n今天开始，网友们打开央视新闻客户端，会看到一个全新上线的频道——传习录频道。传习录频道分为要闻篇、勤政篇、思想篇等九大板块，让广大网友更好地了解习近平新时代中国特色社会主义思想。央视网今天发布微视频《新时代 向心力》和《记录伟大的时代》，展现了新闻工作者两年来在习近平总书记“2·19”重要讲话指引下，为党和人民发声，为新时代鼓与呼。\\n两年来，中央电视台牢记习近平总书记提出的48字职责使命，以习近平新时代中国特色社会主义思想为指引，肩负壮大主流思想舆论的责任与担当，以习近平新闻舆论思想为行动指南，加强传播能力建设和创新发展，让党的主张成为时代最强音。\\n进入2017年，中央电视台以迎接宣传贯彻党的十九大为主线，围绕中心，服务大局。 系列节目“砥砺奋进的五年”，全面展示了党的十八大以来，我国取得的历史性成就和发生的历史性变革。《将改革进行到底》、《不忘初心 继续前进》等七部大型政论专题片，恢弘大气、视野宏阔、画卷绚丽，唱强唱响新时代主旋律。\\xa0\\n2017年10月，中国共产党第十九次全国代表大会召开。中央电视台精心设计，浓墨重彩展示大会的空前盛况。“党代表通道”、“扬帆再起航”等节目，全面准确解读十九大报告内容和十九大精神。十九大闭幕后，《新闻联播》推出系列报道《在习近平新时代中国特色社会主义思想指引下》、《新时代、新气象、新作为》等，全方位、多层次、多角度宣传各地各部门学习贯彻党的十九大精神的实际行动。\\n群众在哪里，新时代的故事就在哪里。中央电视台记者编辑坚持百姓情怀、人民本色，践行习近平总书记“俯下身、沉下心、查实情、说实话、动真情”的要求，与基层群众同吃同劳动，记录百姓生活。《幸福都是奋斗出来的》、《在扶贫攻坚主战场上》、《春运故事》、《非常年夜饭》等新春走基层报道，反映时代变迁以及人民对美好生活的向往、追求。\\n坚持理念、内容创新和方法、手段创新相结合，习近平总书记强调新闻舆论工作“要主动借助新媒体传播优势”，两年来主流媒体快速推进深度融合发展，形成了全方位、多层次、多声部的新型主流舆论格局。央视新闻探索“电视+”与“互联网+”的契合点，各平台累计用户达到3.65亿。央视新闻移动网上线运行一年，共发起直播近5800场，平均每天16场，发布短视频20万条，矩阵号入驻277家。拍客视频上传通道也在今天正式开通，实现了双向深度互动。央视新闻原创微视频《初心》创全网时政微视频传播新纪录12.36亿，形成全网首屏、首页持续发布的“现象级”传播。央视网全面升级融合平台和服务能力，推进台网深度融合，为央视节目提供一站式传播保障。\\n在中央电视台调研时，习近平总书记指出，要多设计一些融思想性、艺术性于一体的好栏目，多创办一些脍炙人口、寓教于乐的好节目。《中国诗词大会》、《国家宝藏》、《经典咏流传》等一大批精品文化节目在电视屏幕上呈现，传承中华优秀文化，彰显文化自信。央视2018年春晚接地气、有新意、表真情，以“喜气洋洋 欢乐吉祥”为主题，凸显全民大联欢、普天同喜庆的节日氛围。\\n联接中外，沟通世界。秉持总书记“加强国际传播能力建设，增强国际话语权”的要求，2016年岁末，中国国际电视台开播，致力打造全新外宣旗舰媒体。《聚焦中国》、《中国方案》 、《中国大格局》等系列报道，向世界传递中国发展的自信心。G20杭州峰会、“一带一路”国际高峰论坛、金砖国家领导人厦门会晤等一系列主场国际活动也成为对外传播的窗口，讲好中国故事，传播中国形象，向世界发出更响亮的中国声音。\\n']\n",
            "[0, 0, 0.9999887, '两年前的今天，习近平总书记在党的新闻舆论工作座谈会上发表重要讲话，开辟了党的新闻舆论工作从理论到实践的新境界。这篇马克思主义纲领性文献，与五年多来习近平总书记围绕党的新闻舆论工作发表的其他重要讲话一起，成为习近平新时代中国特色社会主义思想的重要组成部分，是新时代党的新闻舆论工作的根本遵循和重要指引。\\n两年来，广大新闻舆论工作者以习近平新时代中国特色社会主义思想为指引，自觉实践党的新闻舆论工作48字职责使命，贴近实际、贴近生活、贴近群众，努力提升新闻舆论工作的传播力、引导力、影响力、公信力，主旋律更加响亮，正能量更加强劲。\\n新时代党的新闻舆论工作要有新作为。我们要自觉以习近平新时代中国特色社会主义思想统领一切工作，用脚步丈量祖国大地，永葆人民情怀，记录伟大时代，在开拓创新中巩固和壮大主流舆论阵地，让习近平新时代中国特色社会主义思想成为时代的最强音！\\n']\n",
            "[0, 0, 0.9999763, '春节假期，团圆了的人们举家出游，白天观花海、晚上看灯会，尽享浓浓年味儿。\\n新春佳节，当北方还是春寒料峭，南方很多地方已经百花齐放，进入了踏青赏花的节奏。\\n花城广州，今年不光有传统花市、迎春花展，多个赏花点也已经花开满城，百万葵园的海棠、花城广场的郁金香，都把节日装点的多姿多彩。赏花，在这里感受的是节日文化的创新和传承。\\n在海南三亚，人们不光晒沙滩，还能“赏花海”，玫瑰谷的千亩玫瑰、水稻公园的三角梅，都是春节里的人气景点。\\n这两天，贵州兴义的万亩油菜花也竞相绽放，一片金黄。赏花，在这里感受的是美丽乡村的生态变迁。\\n南国春来早，赏花正当时。在广西南宁青秀山，500多种兰花、45万株郁金香进入观赏的最佳时节，春节这几天吸引了游客将近23万人次。赏花，在这里感受的是五彩斑斓的幸福生活。\\n白天看花海，到了晚上，花灯也如海。璀璨缤纷的各式花灯，让夜晚的年味儿更加浓郁。\\n欢乐灯会是深圳最具影响力的花灯展，今年打造的60多组大型彩灯，让“纯正中国年”这个主题格外耀眼。全新LED技术、电脑编程制作等一系列科技元素的运用，给人们带来了一场视觉艺术的盛宴。\\n春节期间，10万多盏花灯点亮了山东淄博的夜空。1600多个特色灯组，既有展示祖国发展的伟大成就，也有表现中华优秀传统文化。\\n从南到北，过年几乎都有花灯，但这花灯的造型、工艺、讲究可各不相同。福建龙岩的芷溪花灯，已经有超过300年的历史，每盏灯都由99盏油灯组成。这个春节，一年一度的游花灯活动热闹非凡。\\n龙腾贺新春，红火中国年。江西黎川舞的是板凳龙，明朝就有了，重点在一个“闹”字，要的是喜庆。江苏句容舞的是花岸“龙灯”，讲究的是全村齐上阵。重庆铜梁，舞的是火龙，祈愿的是新年风调雨顺。热烈的锣鼓声中，两条巨龙翻、滚、转、穿、跳，不断变换着姿态和队形。依靠铁水打出的火花，闪亮夜空。\\n在“杂技之乡”河北吴桥，杂技民俗表演是这里年俗活动的主角，原汁原味的绝技绝活表演，重现了老吴桥庙会的盛况。\\n']\n",
            "[0, 0, 0.99943006, '今年过年，您是举家出游？还是寻找忘不了的乡愁？在朋友圈里您都晒了哪些幸福和自豪？请看《春节海采·你在哪里过年》。\\n']\n",
            "[0, 0, 0.9999719, '今天是春节假期第五天，各地景区客流量保持平稳，春节假期后半程外出游览增多，全国热门景区热度普遍上涨，民俗游仍然最受大家欢迎。今天泰山景区游客突破30万人次，创历史新高，登弘德楼祈福国泰民安，成为众多游客的首选。尽管细雨蒙蒙，扬州瘦西湖景区却迎来游览小高峰，具有地方特色的传统非遗项目成为亮点。而北京故宫、颐和园、圆明园客流热度仍然居高不下，成为春节旅游首都必去的三大热点景区。\\n今天正逢24节气中的雨水，南方大部地区持续阴雨。中央气象台监测显示，从明天起，新一股冷空气开始影响我国大部地区，西北地区东部和青藏高原东部有降雪或雨夹雪，日平均气温将下降4到8℃，部分地区降温10℃以上。人们出行要注意防寒保暖，交通安全。\\n']\n",
            "[0, 0, 0.9999717, '春节假期已经过半了，旅游、探亲和返程客流叠加。今天，全国铁路客流发送量继续维持在900万以上的高位，公路、民航客流平稳。\\n今天，全国铁路预计发送旅客950万人次，比昨天多出了近50万人次，计划增开旅客列车636列。南宁、武汉、昆明、南昌等地旅游客流大幅增加，铁路部门加开短途列车，方便旅客换乘；北京、成都、沈阳、哈尔滨等地铁路部门加开以高铁为主的春运临客120对，首次投入春运的西成高铁在高峰时段实现每10分钟发一班。\\n今天，全国公路迎来部分返程客流，各大城市周边和热门景区周边车流量加大，道路通行状况良好，民航方面，今天全国民航计划飞行航班15920班次。预计返程高峰会在正月初六形成，交通部门提醒旅客错峰返程。\\n']\n",
            "[0, 0, 0.99973863, '今天是平昌冬奥会开幕后的第10个比赛日。自由式滑雪男子空中技巧决赛昨晚进行，中国队三位选手齐广璞、贾宗洋和刘忠庆出战。由于齐广璞和刘忠庆相继出现失误，只有索契冬奥会铜牌得主贾宗洋一人闯进了最后一轮决赛。贾宗洋最后一个出场，他顶住压力，顺利完成难度系数4.525的空中动作后，落地也未出现大的失误，最终以128.05分夺得亚军。冠军被乌克兰选手阿布拉缅科获得，他的成绩仅比贾宗洋高了0.46分。\\n在今天进行的自由式滑雪女子U型场地比赛中，15岁的中国小将张可欣预赛两轮发挥出色，以81.00分成绩闯入了决赛，决赛将在明天进行。小将张可欣被看做中国的未来之星，在2017-2018赛季国际雪联自由式滑雪U型场地世界杯中国站比赛中，她一举夺得金牌并成功地拿到了奥运资格。\\n']\n",
            "[1, 1, 0.99826515, '人力资源和社会保障部、国务院扶贫办等四部门将于2月20日至3月30日在全国开展“2018年春风行动”，通过政策宣讲、开设专场招聘等方式，帮助农村劳动力转移就业和返乡下乡创业。\\n']\n",
            "[1, 1, 0.9987795, '今年起黄河流域将实行禁渔期制度。禁渔区包括黄河干流，扎陵湖、鄂陵湖等3个主要通江湖泊，以及白河、黑河等13条主要支流的干流河段。每年4月1日至6月30日为禁渔期。\\n']\n",
            "[1, 1, 0.99847966, '环境保护部日前批准了《船舶水污染物排放控制标准》，将从7月1日起开始实施。新标准在名称、污染物范围等方面进行了修改，并增加了在饮用水水源保护区内不得排放生活污水的规定。\\n']\n",
            "[1, 1, 0.99831283, '今天，长江三峡工程南线船闸启动实施为期33天的停航检修，三峡工程北线船闸将采取单向通过、定时换向方式运行。换向周期原则上为48小时换1次。\\n']\n",
            "[1, 1, 0.9875866, '《舌尖上的中国》第三季今晚8点在央视综合频道、纪录频道首播。本季《舌尖上的中国》共8集，拍摄美食达400多种，从烹饪器具到地方小吃，从各类宴席到四季节气，为观众呈现视觉及精神大餐。\\n']\n",
            "[1, 1, 0.999044, '在成都大熊猫繁育研究基地，大熊猫在皑皑白雪的室外活动场地里尽情玩耍。这些白雪是工作人员在过年期间从周边雪山运进来的，为的是能更好地还原大熊猫野外的自然生存环境。\\n']\n",
            "[0, 1, 0.9998973, '中国的春节已逐渐成为世界性节日，今年春节期间，浓浓的中国年味文化大餐又一次香飘海外，欢乐喜庆的活动也为全世界披上了节日盛装。\\n大年初三这天，英国伦敦特拉法加广场锣鼓喧天、彩旗招展。近70万英国民众、华侨华人和外国游客共庆中国年。这也成为亚洲地区以外规模最大的春节庆祝活动。广场中心搭建的舞台上，“文化中国·四海同春”艺术团表演的富有浓郁中国特色的节目，尽显东方文明古国的文化魅力。以狗和中英两国特色文化为主题装扮的花车巡游也得到了沿途众多观众的喝彩。伦敦本地电视台当天还对这场庆祝活动进行了全程直播。\\n近年来，过春节也成了俄罗斯年轻人的一种时尚活动。在圣彼得堡举办的“欢乐春节”系列活动中，绵竹年画、武胜剪纸、汶川藏羌原生态歌舞等带有浓厚中国特色的表演，让当地人尽享中国传统文化大餐。当地中小学生还表演了一场有着中国风味的“春晚”。而在莫斯科市中心的一家中国主题书店，“喜迎中国年”主题活动，吸引了不少中国文化爱好者前来学过“中国年”。\\n在毛里求斯首都路易港，花车巡游、广场庆典、跨国春晚等庆祝活动热闹上演。早在1961年，毛里求斯就将春节列为法定节假日，今年的“欢乐春节”庆祝活动还恰逢毛里求斯独立50周年，这些活动也拉开了独立庆典的序幕。 \\n春节期间，阿联酋首都阿布扎比的法拉利公园，也变成了中国文化的展示平台。舞狮表演、川剧变脸、杂技、武术轮番登场，一只栩栩如生的电子毛绒大熊猫“欢欢”则引来中外小朋友争相合影留念。\\n在大雪纷飞的克罗地亚首都萨格勒布，上百盏红灯笼点亮了夜空，成了一道迷人的景观。\\n“冰上龙舟”赛则是今年加拿大渥太华“欢乐春节”的重头戏之一，晶莹的冰面上，一艘艘轻盈的龙舟冲出起跑线，没有飞溅的浪花，却一样扣人心弦。\\n']\n",
            "[1, 1, 0.9935816, '据叙利亚官方通讯社今天报道，叙利亚新政府武装将在未来数小时内进驻叙利亚北部阿夫林地区。就在18日，叙利亚库尔德武装一名高级官员透露，他们与叙利亚政府达成协议，叙政府军将在两天内进驻阿夫林地区，以对抗土耳其的军事行动。\\n据这名官员透露，叙利亚政府与库尔德武装达成“纯军事性”的协议，叙利亚政府军将进驻阿夫林地区并沿土叙边境部署，以对抗土耳其军队对阿夫林地区进行的“橄榄枝行动”。不过这名官员还表示，叙利亚库尔德武装内部对协议存在反对声音，协议能否最终执行还存在变数。\\n叙利亚政府目前还没有证实这一消息。叙利亚库尔德武装发言人也表示，叙利亚政府军还没有回应库尔德武装要求其协助保卫阿夫林的请求。 \\n目前，叙利亚北部局势异常复杂。土耳其将叙利亚库尔德武装视为被其列为恐怖组织的库尔德工人党在叙利亚的分支。美国则将叙利亚库尔德武装视为合作伙伴。借助美国的支持，叙利亚库尔德武装近年来势力不断壮大，在人数和控制区域上，已经成为叙利亚最强的势力之一，对叙利亚未来走向具有举足轻重的影响。\\n']\n",
            "[2, 1, 0.5496423, '伊拉克军警部门今天发布消息说，有极端组织武装分子伪装成政府军，在首都巴格达以北袭击了亲政府武装。据美联社报道，这次袭击已造成27人死亡。\\n去年12月9日，伊拉克总理阿巴迪宣布解放伊拉克全境，取得打击极端组织的历史性胜利。但是之后，极端组织在伊拉克多地发动了多次袭击。\\n']\n",
            "[2, 2, 0.996295, '为期三天的第54届慕尼黑安全会议18日结束。在最后一天的会议中，以色列总理内塔尼亚胡拿着据称是伊朗的无人机残骸，指责伊朗在中东对以色列建立包围圈并试图改变地区现状，并称今后如有必要，会直接对伊朗动手。而伊朗外长扎里夫指责内塔尼亚胡的举动像在进行马戏团表演。\\n10日，以色列军方击落了一架伊朗无人机，随后以军一架F-16战机在空袭叙利亚境内所谓伊朗军事设施时，被叙利亚政府军击落，这让以色列与伊朗的关系进一步紧张。\\n']\n",
            "[2, 2, 0.9805591, '俄罗斯西南部达吉斯坦共和国18日发生枪击事件，1名袭击者当天持枪向参加节庆活动的人群射击，造成5人死亡，5人受伤，袭击者被击毙。据俄罗斯内务部消息，袭击者为22岁的当地男性居民，其行凶动机可能与极端组织在俄分支机构有联系。极端组织也已宣布负责。\\n']\n",
            "[2, 2, 0.99682564, '伊朗紧急救援组织19日继续搜寻18日失事客机的残骸，目前搜救人员已经抵达坠机地点附近的山区，而飞机坠毁地点海拔较高，目前仍有雪和大雾，给搜救带来困难。伊朗业内人士认为，事发地附近天气恶劣，而失事的ATR-72型客机对严寒天气适应能力有限，飞行员可能不得不降低飞行高度，不幸造成飞机撞山。 \\n']\n",
            "[2, 2, 0.9858813, '印度尼西亚北苏门答腊省锡纳朋火山19日上午发生剧烈喷发，喷出的火山灰超过5000米。目前尚未造成人员伤亡，但数千居民生活受到影响。锡纳朋火山近年来进入活跃期，自2015年6月以来，该火山一直处于最高警戒级别状态。\\n']\n",
            "[2, 2, 0.99736065, '澳大利亚警方19日宣布截获了一批毒品，总重量达330千克。澳大利亚警方称，上个月警员在一艘货船上发现了这批毒品。当时这些毒品被藏在两个起重机的机械吊臂里，用集装箱运往南澳大利亚州阿德莱德。警方顺藤摸瓜，在16日逮捕了涉嫌贩运这批毒品的3名犯罪嫌疑人。警方透露，这是迄今在南澳大利亚州缴获的最大一批毒品。\\n警方表示，目前尚不清楚这批毒品的来源，据分析可能来自东南亚地区。\\n启航新时代\\n一年好处是新春，春在千家万户中。\\n今天节目的最后，让我们继续跟随镜头，一起观赏这灯光秀里的胜景繁华。\\n']\n",
            "[0, 0, 0.9999886, '“三农”问题是关系国计民生的根本性问题。党的十八大以来，习近平总书记情系农业、情系农村、情系农民，每年都要深入农村调研，对“三农”问题提出了一系列战略性、前瞻性、创造性的思想和要求。迈进新时代，充满希望的田野上，广阔天地，大有可为。\\n新春佳节之际，本台记者沿着总书记的足迹，来到那些他曾经调研过的田间地头、科研院所，感受中国农村巨大的变化，蓬勃的活力。\\n安徽凤阳县小岗村，中国农村改革的主要发源地。新年里，村里人锣鼓花轿，踩街划旱船，一派喜气洋洋。\\n说起2016年习近平总书记来村里考察，村民严金昌还很激动。\\n在小岗村，总书记访农户、下麦田，对土地流转、农田整治等工作一一过问，详细了解。他说：“唯改革才有出路，改革要常讲常新。”\\n牢记总书记嘱托，这两年小岗村在新一轮农村改革中，完善土地确权，发展集体经济，实现了从“户户包田”到“人人持股”的跨越。春节前，合作社的每个村民都领到了分红。\\n实现中国梦，基础在“三农”。党的十八大以来，习近平总书记每年的调研足迹，定有农村，必问“三农”。在吉林延边朝鲜族农家，总书记盘腿而坐，同村民探讨粮食增产增收；在江苏镇江草莓种植基地，总书记与种植户共商现代高效农业建设；在湖南矮寨特大悬索桥旁，总书记关切询问乡村路网建设情况。“三农”发展，始终是总书记心中的牵挂。\\n土地是农民的根，也是农村改革的核心。2013年7月，习近平总书记来到武汉农村综合产权交易所，了解涉农产权交易，尤其是土地流转交易情况，强调要好好研究农村土地所有权、承包权、经营权三者的关系。\\n自此，我国开启了土地“三权分置”改革大幕。2016年，中央出台《关于完善农村土地所有权承包权经营权分置办法的意见》，土地三权分置改革在全国全面铺开。继家庭联产承包责任制之后，中国农业又一次实现重大制度创新。\\n受惠于这项改革，春节前农民周厚冰用1500多亩土地经营权抵押贷款590万。\\n藏粮于地，藏粮于技。农业的现代化，同样是总书记调研的重点。2013年11月，习近平总书记来到山东省农科院，小麦栽培专家王法宏当时就在总书记身边。\\n现在，越来越多像王法宏一样的专家，扎根农村，服务农民。五年来，全国粮食产量连续创历史新高，农民收入增速连续5年快于城镇居民。\\n情系三农，牵挂中更具方略。习近平总书记在十九大报告中提出“实施乡村振兴战略”，“三农”工作在新时代有了总抓手。\\n实现百年奋斗目标，最艰巨最繁重的任务在农村，最大的潜力和后劲也在农村。希望的田野上，广大干部群众正以奋斗的激情，谱写新时代乡村全面振兴的新篇章。\\n']\n",
            "[0, 0, 0.9999883, '“小康不小康，关键看老乡”，全面建成小康社会，基础在农业，难点在农村，关键在农民。从陕北梁家河的窑洞起步，无论身居何位，人民领袖习近平对农业、农村、农民一直有着深厚的感情，对“三农”问题一直有着持续而深刻的思考。党的十八大以来，习近平总书记亲自擘画“三农”发展战略，提出了系统全面的新思想、新论断、新要求。\\n“三农”问题始终是我们党治国理政的重大课题。\\n“中国要强，农业必须强；中国要美，农村必须美；中国要富，农民必须富”。习近平“三农”思想，有着宏大深远的战略思维，全面科学的系统思维，坚定清醒的底线思维，真挚深沉的人民情怀。\\n春天是播种希望的季节，让我们在习近平“三农”思想指引下，用奋斗的双手让农业强起来、让农村美起来、让农民富起来，在全面小康路上一个都不少、一个也不掉队！\\n']\n",
            "[0, 0, 0.99998546, '今年春节，人们的选择正向多元化发展。从体验传统民俗，到各种时尚专业的运动，每天都可以过得不重样。\\n正月初五在民间叫“破五”。安徽九华山今天凌晨，就有数万名游客上山，祈盼新一年的日子更有滋有味。\\n天津古文化街今天是人山人海，选年画、挑泥人，这些春节的传统文化符号，尽管年年有，却年年也看不厌。来了还得带点东西走，这款寓意中国梦的“梦娃”，就在今年格外的受欢迎。\\n在河北山海关，京韵大鼓、杂技绝活、特色美食一一亮相，这两天每天都有7万人来到这里找年味儿。\\n看过了民俗，滑雪、潜水这些运动项目今年春节也格外受欢迎，大家都想在运动场上过个动感春节。在吉林长白山，这条落差高达百米的专业雪道上，很多人一大早就起来体验四溅的雪花、飞身而下的速度与激情，但他们并不都是专业运动员，很多是爱好滑雪的发烧友。\\n在辽宁和黑龙江，春节里不少家长趁着假期带着孩子来学习滑雪，有了市场需求，雪场就专门开辟了儿童雪道，配备专门的教练和辅助器材，为的是让更多孩子从小感受冰雪运动的乐趣。\\n选择用运动方式，过个健康节的人还有不少。浙江长兴的700多个全民健身点每天早早就预定一空，网球、篮球最受欢迎；扬州瘦西湖上，每天都有100多名冬泳爱好者在这迎风破浪；广东深圳春节期间，十几个大型体育场馆特定时段免费对外开放。\\n在海南陵水等地，除了海滩和海鲜，春节里潜水等水上运动项目很火，大部分潜水点都要提前预订，想找教练就更得排队了。在水下，人们可以近距离观赏珊瑚、狮子鱼、斑马鱼等海底风光。除了潜水，帆船、水上飞人等特色项目也很受欢迎。\\n家门口就能看大戏，曾经是不少人的梦想，现如今这在很多地方都已经实现。江西高安新修的剧场春节投入使用，当地的采茶戏吸引很多人举家前来。\\n今年春节，各地的很多博物馆也都有春节专场。河南安阳的中国文字博物馆精心准备了“金犬贺岁——十二生肖大拜年”系列活动，专门排演的儿童舞台剧，集知识性、趣味性、互动性于一体，很受孩子喜欢。\\n']\n",
            "[0, 0, 0.999987, '节日期间，记者走进东部战区空军航空兵某旅的战斗值班室。地处防空一线，这里每天都有各种各样的战斗指令下达，一架架战机挂载实弹，随时准备升空。特级飞行员李松柏就是这个部队近两年执行紧急升空任务次数最多的人。\\n随着一声警报响起，特级飞行员李松柏与战友驾驶战机携带实弹划破长空，远方的海域上空，未知的凶险在等着他。像今天这样的紧急任务，李松柏已经执行过近百次了。\\n几分钟前，我方雷达探测到一处不明空情，指挥员随即下达命令对其进行查证。\\n经过查证，这次空情是一个被吹到空中的异形空飘物。李松柏立刻联系地面指挥所，研判确定位置信息，查证是否为标定的异常空情。\\n空防无小事，在24小时不间断运行的警戒雷达上，有针尖大的异常数据，都需要李松柏和他的战友们即时升空，进行查证处置。李松柏所在的部队，地处东海前哨，自划定东海防空识别区以来，部队每年战斗起飞数百架次处置特殊空情。\\n两架外军战机正从侧后方高速接近我战机，意图对我进行滋扰。\\n这个动作，需要李松柏的身体承受五个载荷。\\n“落地请开手机”，这是李松柏与妻子心照不宣的默契。有人在天上守望着地上的和平，有人在地上牵挂天上的星星。\\n新年开训以来，部队不仅要展开多个险难课目的训练，而且节假日期间空防安全压力很大，今年春节，李松柏又一次站在战备值班的岗位上。\\n']\n",
            "[0, 0, 0.9999514, '今天是大年初五，可能一些朋友已经开始准备离家的行囊。那么，今年过年，您都有哪些不一样的新感受？新春里来，您又有哪些新打算？请看今天的《春节海采：你在哪里过年》。\\n']\n",
            "[0, 0, 0.99374056, '中国外文局日前发布《中国话语海外认知度调研报告》，一批代表了中国经济、科技发展的词语纷纷上榜。\\n在经济类榜单上，“中国制造”的汉语拼音认知度在榜单上虽排第79，但其对应的“Made in China”无疑闻名全球。如果说易购、价廉曾是“中国制造”的主要特质，如今“中国制造”继续风靡全球则主要依靠自主创新。其中，“高铁”是认知度最高的中国创新。此外，由中国企业定义的互联网管理新模式的拼音“人单合一”进入到了美国斯坦福、英国剑桥、瑞士洛桑IMD等世界著名学府的课堂上。在眼下最火的人工智能领域，中国人研制出了技术领先的神经网络处理器，在国际顶级计算机会议上，研究者用拼音“电脑”“大电脑”来命名了他们的新技术。\\n随着中国对外开放进程的加快，越来越多的中国词也开始融入了外国人的日常生活。在澳大利亚，一度很流行的中国词“代购”还有了新含义。\\n']\n",
            "[0, 0, 0.9984211, '今天是春节假期第六天，根据国家旅游局监测，全国各地景区游客量平稳，城市周边游火爆，城市周边小镇及赏花温泉等项目游客量突出。\\n在云南罗平，100万亩油菜花盛开，芳香四溢，当地举办了小火车观花海、热气球观花海等丰富多彩的活动，吸引大量游客前来赏花踏青。\\n持续阴雨的安徽黄山景区，今天上午出现了云海景观，与前两天进山车辆持续高涨的形势相比，今天返程车辆明显增多，周边的游客还可利用假期最后一天错峰游览。\\n春节假期，陕西秦始皇帝陵博物院也迎来客流高峰，截至今天，接待观众超过37万人次，同比增长40%以上。\\n中央气象台预计，明后两天南方阴雨还会持续，西北地区东部等地有降雪，同时新一股冷空气也将给我国大部地区带来大风降温，局地降温可达10℃以上，返程的朋友们要提前关注目的地天气，及时调整着装，谨防感冒。\\n']\n",
            "[0, 0, 0.91917056, '今天，全国铁路部门增开列车914列，预计发送旅客1060万人次。重庆，武汉，南宁，阜阳，太原，兰州等地增开务工专列，加开省内短途列车，满足外出务工和探亲出行需求。增加运力的同时，武汉、成都、济南、南昌等地火车站增加人脸识别系统和应急快速通道，北京各车站增开夜间公共交通线路，提高旅客通行效率。\\n全国路网今天流量明显上升，受降雪及路面结冰影响，河北、新疆境内部分路段暂时封闭。受海上团雾影响，琼州海峡多次停航。明天是假期最后一天，预计将迎来返程客流最高峰。\\n']\n",
            "[0, 0, 0.9999533, '平昌冬奥会今天进入第12个比赛日，将产生5枚金牌。\\n在昨晚的速度滑冰男子500米决赛上，第一次参加冬奥会的中国20岁小将高亭宇以34秒65的成绩为中国代表团再添一枚铜牌，这枚铜牌也是中国冬奥历史上在速度滑冰男子项目上获得的首枚奖牌。冠军由挪威选手洛伦森获得。\\n今天上午进行的自由式滑雪U型场地女子决赛中，首次参加冬奥会的15岁小将张可欣，在第1轮滑出了73分的个人3轮最好成绩，最终名列第9。\\n女子冰壶循环赛，中国队第五局后手拿到三分，最终7-5击败加拿大队，目前中国队四胜四负，依然保留晋级四强的希望。明天中国队将对阵瑞典队。\\n']\n",
            "[1, 1, 0.9970781, '春节期间，全国各级安监部门加强对烟花爆竹、人员密集场所及节日期间停产和节后复产复工高危行业企业的安全监管，坚决遏制重特大事故发生。\\n']\n",
            "[0, 1, 0.99995744, '吉林省日前出台一系列人才新政，加大对创新创业人才的扶持力度，最高给予200万安家补贴，不拘一格吸引、选拔、留住老工业基地振兴急需人才。为此，吉林省在多个重点城市举办投资创业恳谈会。近五年，吉林省累计申请专利7.7万件、授权4.3万件，科技进步贡献率达到55.5%。\\n']\n",
            "[1, 1, 0.99854857, '在广州，大熊猫三胞胎“萌帅酷”拿出耍萌绝招向全国人民拜年。过了这个年，熊猫三姐弟就三岁半了，春节期间饲养员为他们准备了竹笋竹叶、胡萝卜、窝窝头等丰盛的大餐。\\n']\n",
            "[1, 1, 0.99893403, '昨天，湖南张家界天门山国家森林公园迎来短暂降雪，景区在白天出现了美丽雪景和雾凇景观，令游客们欣喜不已，纷纷拍照留念。春节假期，公园还开通了索道、公路AB双线进山，初一至初四景区共计接待游客7万多人，比去年同期增长2%。\\n']\n",
            "[0, 1, 0.9996862, '连日来，各色中国春节庆祝活动在世界各地持续精彩呈现，凸显中国传统节日文化的魅力，也为各国民众增添乐趣。\\n19日晚，“文化中国·四海同春”大型慰侨演出亮相泰国第二大城市清迈。40多位优秀演员精心编排了十几个体现中华文化的文艺节目。中国经典歌曲、传统戏曲、民族舞蹈、器乐表演等，让现场1000多名华侨华人及当地民众领略了中华文化的博大精深和独特魅力。\\n意大利首都罗马的华侨华人举办了一场热闹的春节庙会。维多利奥公园被红灯笼和彩色的“中国风”纸伞装扮一新。意大利武术学校的舞龙舞狮，当地华侨身着节日盛装的腰鼓表演，赢得阵阵掌声。剪窗花、写福字、包饺子等展示，成为当地民众了解中华文化的重要窗口。\\n在匈牙利布达佩斯举行的“欢乐春节·美丽中国春”大型文化活动上，中国传统美食成为这里最受欢迎的食物，舞台上表演少林武术的也不止有华人面孔。写毛笔字、用筷子让当地孩子们上了一堂生动的中华文化教育课。\\n在埃及，一场“欢乐春节”大庙会亮相旅游名城沙姆沙伊赫。包括世界各地游客在内的两千多人一起欣赏了一台高水平的中国艺术盛宴。现场手工艺人展示的青瓷、根雕、米塑等非物质文化遗产项目，吸引不少人驻足观看。\\n来自成都天府文化艺术团的表演艺术家还将“欢乐春节”带到了黎巴嫩南部的维和营地。这是联合国驻黎巴嫩临时部队第一次举办如此大规模的文化活动。杂技抖空竹、川剧变脸以及各类古典民乐和传统舞蹈表演，吸引了来自各国的维和官兵。\\n']\n",
            "[1, 1, 0.9775286, '土耳其政府19日警告叙利亚政府军不要介入阿夫林战事、支持正与土军交战的库尔德武装“人民保护部队”。\\n19日，土耳其副总理博兹达在政府内阁会议后对媒体表示，土耳其将继续推进在阿夫林的军事行动，叙利亚政府军如果介入阿夫林战事，将造成叙利亚进一步分裂，并在地区造成“灾难性后果”。正在约旦访问的土耳其外长恰武什奥卢也表示，如果叙政府进入阿夫林支持库尔德武装，土耳其军队将无法被阻挡。\\n此前，多家叙利亚媒体报道称，部分亲叙利亚政府的武装人员将很快进入阿夫林，不过相关媒体随后否认了这一消息。据报道，亲政府武装目前确已在阿夫林附近集结。但截至目前，并没有任何亲叙利亚政府武装进入阿夫林，叙利亚政府也没有公开宣布进驻阿夫林的计划。\\n此外，叙利亚库尔德武装“人民保护部队”发言人19日也表示，并未与叙政府达成进驻协议。\\n']\n",
            "[2, 2, 0.9970089, '以色列19日成功进行“箭－3”式弹道导弹拦截系统测试。以方表示，测试旨在完善系统性能，并再次验证以色列多层反导体系实力。此前，“箭－3”式反导系统拦截测试因不同原因两次取消。\\n“箭”式反导系统由以色列和美国联合开发，旨在在大气层外拦截洲际导弹、特别是携带核弹头和生化弹头的导弹，是为数不多的能在高空中途拦截和摧毁导弹的系统之一。“箭－3”式反导系统拦截测试2015年12月首获成功，并于2017年1月投入使用。\\n']\n",
            "[1, 2, 0.96150666, '据伊朗半官方通讯社今天报道，经过大规模搜寻，18日坠毁伊朗客机的残骸已经找到。伊朗伊斯兰革命卫队在塞米罗姆地区的德纳山发现了坠机残骸和遇难者遗体。\\n18日，这架阿塞曼航空公司的客机原定从首都德黑兰飞往西南部城市亚苏季，但起飞50分钟后从雷达上消失，坠毁在塞米罗姆附近，机上65人无一生还。\\n']\n",
            "[2, 2, 0.9970974, '美国国会代表团19日访问古巴。代表团将在古巴停留数天，计划与古巴官员以及各界人士会谈，以此推动美古间的贸易和交流。代表团团长、美国参议员莱希此前曾多次访问古巴。\\n去年8月以来，美国称其多名驻古巴外交官疑遭“声波攻击”，撤回了部分使馆人员和家属，同时驱逐十余名古巴驻美国外交人员，致使美古关系紧张。古巴政府曾多次重申没有对美驻古外交官进行类似攻击。\\n']\n",
            "[0, 2, 0.9425325, '春风布德泽，山水生光辉。\\n节目最后，我们一起踩着春天的脚步，欣赏早春二月的千红万紫。\\n']\n",
            "[0, 0, 0.9999888, '习近平总书记指出：“只要还有一家一户乃至一个人没有解决基本生活问题，我们就不能安之若素；只要群众对幸福生活的憧憬还没有变成现实，我们就要毫不懈怠团结带领群众一起奋斗。对困难群众，我们要格外关注、格外关爱、格外关心。”\\n十八大以来，以习近平同志为核心的党中央，坚持以人民为中心的发展理念，全力保障和改善民生，百姓有了更多更实在的获得感。新春佳节之际，本台记者走进习近平总书记曾经调研过的林区、养老院，我们一起去看一看，那里的人们，生活有了什么样的变迁。\\n灯笼挂起来，秧歌扭起来，这个春节，黑龙江小兴安岭伊春林区格外热闹，2016年，习近平总书记曾来这里看望大家。新春佳节，他们要向总书记汇报家乡的新变化。\\n刘养顺家有四人是林场职工，靠伐木为生。2014年，当地全面禁止天然林商业性采伐后，他家和大多数林场职工一样，失去了收入来源。2016年5月，来小兴安岭考察的习近平总书记，来到了他们家。\\n在刘养顺家，总书记聊起了他家的收入、开销。在同一家人及邻居们座谈时，总书记一一询问林区停伐后他们主要做什么，日常生活和就业等还有哪些困难。\\n牢记总书记嘱托，伊春把安置林区职工就业作为最大民生。对就业困难职工，开发公益性岗位和社保政策兜底；对林业富裕人员，则通过发展林下经济、开办园区、组织劳务输出等，引导转岗就业。刘养顺他们利用资源优势，开办农家乐、民宿，吃上了旅游饭。\\n十八大以来，总书记50多次赴基层考察调研，每到一处，民生领域都是他关注的重点。在山西岢岚，总书记坐在村民家的炕沿上，细细询问每年收入多少？最大的支出是什么？在江苏镇江，总书记向村民了解看病方便不方便、医疗费用贵不贵。在天津，总书记和高校毕业生、失业人员、农村富余劳动力等代表座谈，关切询问大家的就业问题。在内蒙古兴安盟阿尔山市，总书记冒着零下30多度的严寒，摸火墙、察地窖，叮嘱当地干部要加快棚户区改造。\\n2013年12月28日，总书记来到北京四季青敬老院，了解老人们的生活。今年春节，记者再次来到敬老院，老人们说，这两年变化挺大的。\\n这里的老人平均年龄82岁。养老院除了照料老人生活外，还配备了医务室，提供常见病的诊疗服务。老人的生活也丰富多彩，有书画班、读报组、文艺队、时装队。\\n党的十八大以来，中央出台一系列举措，补短板、兜底线、出实招，为老百姓织密民生福祉的保障网。从2013年到2017年，全国企业退休人员基本养老金“五连涨”；城乡新增就业连续5年保持在1300万人以上；社会养老保险覆盖9亿多人；建成全球最大的基本医疗保障网，覆盖13.5亿人；保障安居工程、教育惠民政策等一项项民心工程，让群众有了更多获得感、幸福感。\\n']\n",
            "[0, 0, 0.9999884, '民生连着民心，民心连着党心。人民领袖习近平以其对国情民情的深刻体察和真挚浓厚的人民情怀，将以人民为中心的思想深深植根于执政理念之中，系统谋划和谱写惠及十三亿多人的民生大文章。\\xa0\\n回放十八大以来习近平总书记50多次深入基层的考察调研，每一次他都要进百姓家看一看，听一听，聊一聊。调研之后，他也都要主持召开座谈会，研究落实举措。总书记最牵挂的人就是普通百姓。\\n中国特色社会主义进入新时代，以习近平同志为核心的党中央对保障和改善民生提出了新目标、做出了新部署。只要还有一家一户乃至一个人没有解决基本生活问题，我们就不能安之若素；只要群众对幸福生活的憧憬还没有变成现实，我们就要毫不懈怠团结带领群众一起奋斗。\\n力量源自人民、一切为了人民。人民领袖崇高的人民情怀，必将激励我们在新时代砥砺奋进、为实现人民对美好生活的向往而不懈奋斗！\\n']\n",
            "[0, 0, 0.9999886, '新华社今天播发长篇通讯《谱写新时代改革新篇章——以习近平同志为核心的党中央全面深化改革启示录》。\\n文章以改革开放40周年的宏阔视角，系统回顾了党的十八大以来以习近平同志为核心的党中央推进全面深化改革的历史进程，展现了习近平总书记非凡的政治勇气、深厚的人民情怀、深邃的历史眼光、宽广的国际视野、科学的辩证思维、强烈的创新精神，深刻揭示了习近平总书记全面深化改革重要思想的实践基础、科学内涵和重大理论与现实意义，阐明了站在更高起点谋划和推进改革必须遵循的原则和启示。\\n']\n",
            "[0, 0, 0.999987, '在这个春节假期，不少人开启了文化度假的过节模式，逛博物馆、泡书店、看演出，一道道精神大餐陪伴人们度过了一个难忘的假期。\\n今天上午，浙江省博物馆举办的“寻找国家宝藏 解读文化密码”活动正式开场，不少家长带着孩子来到这里，深入了解文物背后的故事。这块出土自良渚文化遗址的玉琮，在一毫米的宽度内雕刻了四条细线，更是游客们参观的焦点。前不久，中央电视台《国家宝藏》节目对全国九大博物馆的文物进行了详细介绍，让文物“活”起来，也带动了全国的文物游览热潮。北京故宫博物院的石鼓、南京博物院里的大报恩寺琉璃塔拱门、竹林七贤与荣启期砖画，湖北省博物馆里的云梦睡虎地秦简等，游客们看过电视后，更想亲眼目睹文物的风采。\\n除了博物馆，与书为伴也是很多人的假期选择。春节期间，超过6万人来到北京图书大厦，同比增长20%。在天津，滨海新区图书馆每天十点开馆，一早就有读者在门外排起长队。\\n春节假期，看场电影也是个好选择。《捉妖记2》、《西游记女儿国》等国产影片颇受欢迎。初步统计，假期几天共有1.02亿人次走进电影院，全国票房超过了40亿元。\\n这几天，传统京剧、经典作品音乐会和爱尔兰踢踏舞剧在北京国家大剧院的舞台轮番上演，5台戏20场的售票率都超过了9成，总共一万多人来到这里看戏剧听音乐。在北京海淀工人文化宫，儿童剧《哪吒闹海》每天两场演出，场场爆满。\\n看历史品文化，年画、剪纸等民俗体验游红火之间透出节日的喜庆。在四川德阳，游客可以自制绵竹年画，还可以根据自己的喜好进行上色，做出专属于自己独一无二的特色年画。\\n在山东曲阜，来自台湾、浙江等地的小朋友参加研学游，身着汉服聆听民俗讲解，从经典故事中享受着国学的魅力。\\n在安徽合肥，送到社区的“文化年货”赢得了阵阵掌声。黄梅戏、相声、歌舞、庐剧等形式多样的表演，既有过年气氛，又有文化熏陶。\\n']\n",
            "[0, 0, 0.99995905, '正月里来闹花灯，欢欢喜喜过大年。这几天，各地灯会陆续亮相，五彩缤纷的花灯点亮了节日的夜晚，也表达了人们对美好生活的向往和祝福。\\n流传于浙江省海宁的硖石灯彩以针刺花纹独树一帜，这几天，海宁市南关厢历史街区人头攒动，赏灯逛街，市民们在这里流连忘返。\\n安徽省黄山市宏潭村，伴随着喧闹的炮竹声和锣鼓声，十余米长的滚龙在盘旋穿梭、热闹非凡，浓浓的“年味儿”扑面而来\\xa0\\xa0\\xa0\\n江西省南昌县蒋巷镇北望村，黄河灯阵吸引了十里八乡的群众携家带口前来走阵。灯阵共有99道弯，顺利地走一圈，就寓意着来年风调雨顺，平平安安。\\n灯彩起源我国汉代，人们在节日期间扎结花灯，象征“彩龙兆祥，民阜国强”。两千多年来，灯彩在各地形成了风格各异、五彩缤纷的花灯和灯会，如今，在我国非遗保护政策的扶持下，灯彩也被赋予全新的内涵与生命力。\\n']\n",
            "[0, 0, 0.9999877, '33年，她推着轮椅在候车室和站台间走了20多万公里，凭着一颗真心，树起了全国闻名的服务品牌。过完这个春运，她就要退休了，可还是每天奔波在一线。今天，就让我们一起走近北京火车站的客运员——李素萍。\\n马上就要退休了，可李素萍的名字还是出现在了今年春节的值班表上。不光是在候车室，安检通道、验证验票口，只要是旅客有需求，她就会马上出现。一位旅客排队进站时突然昏倒，李素萍听到有人呼救，赶紧跑了过去。\\n这样的好人，李素萍当了三十多年。1985年，她在北京火车站当上了客运服务员。当时这是个“三班倒”的岗位，主要是照顾老幼病残孕旅客。后来只有李素萍一个人留了下来，让人没想到的是，她一个人在这个岗位上奋斗了十年，换来了“素萍服务组”这个响当当的品牌。\\n连续加班、熬夜，李素萍颈椎病犯了，可她根本没时间休息，送完旅客刚坐下来没几分钟，一个小伙子找到李素萍，说自己的母亲刚做完手术，想借用轮椅，李素萍赶紧推上轮椅，把老人接进了素萍服务室。\\n从候车室到站台的这段路，李素萍推着轮椅走得很慢，每次遇到地上有坎儿或者需要转弯的地方，她都特别地小心。\\n跟列车长交接好，李素萍已经出了一身汗，直到她下了车，老人还在挥手告别。就这样，无数次的挥手之间，她用一颗真心温暖了旅客回家的路。\\n2018年春运将于3月12日结束，那一天正是李素萍的生日，到时候她将告别素萍服务组，告别北京火车站。\\n虽然就要离开这个岗位，但她仍然会给那些需要常年接送的旅客留电话。\\n现在，“素萍服务组”已经是有14人的大家庭，她像对待孩子一样，把自己几十年摸索出的经验，认真地教给她的徒弟们。\\n']\n",
            "[0, 0, 0.99998134, '今天，是春节长假的最后一天，回家过年的人们，又要开始奔赴工作岗位了。离家出发时，你的行囊里装进了多少家人的亲情？挥手再见时，父母又给了你哪些叮咛？接下来一起来看《春节海采：你在哪里过年》\\n']\n",
            "[0, 0, 0.99985546, '今年春节恰逢藏历新年，雪域高原节日气氛浓厚，来自海内外的游客和西藏各族群众一起欢度佳节。\\n在西藏山南措美县哲古村，藏戏、歌曲、小品等节目这几天轮番上演。从内地返回家乡的大学生们也参与其中、自编自演。\\n这个藏历新年，很多农牧民群众乔迁新居。在阿里地区的普兰县，农牧民群众穿上华美的藏袍，在扶贫安置新村跳起锅庄、互致祝福。\\n这个春节，西藏自治区开展的“冬游西藏·共享地球第三极”活动，吸引了大批内地游客到西藏过年、旅游。\\n在千年古刹大昭寺和八廓街，信教群众转经、朝佛，为新年祈福，各地游客在古城感受别样年俗，呈现出一派喜庆、祥和的节日氛围。在八廓街已经住了30多年的老居民格桑次仁告诉记者，这个新年格外热闹喜庆。\\n“冬游西藏·共享地球第三极”活动从2月1日开始，将持续到4月30日，这期间来藏游客将享受景区门票、酒店住宿、交通等一系列优惠政策。这个春节，由于布达拉宫等主要景区实施门票免费等举措，拉萨、林芝等地的冬季游客接待量实现历史性突破，酒店、民宿等入住率都超过50%，为近10年来冬季同期最好水平。\\n']\n",
            "[0, 0, 0.99998367, '今天是大年初六，也是春节小长假的最后一天，很多朋友已经陆续踏上了返程，全国交通客流高位运行。\\n铁路今天预计发送旅客达1180万人次，中转大站郑州火车站，增设换乘“绿色通道”，武汉、沈阳等火车站增加实名制验证通道，济南站增设客流智能监控手段。未来几天南昌等地将加开前往上海、广州、福州等方向的夜间高铁列车。春节期间，成渝高铁、西成高铁等新开高铁线路基本趟趟满员。\\n全国公路今天迎来春运客流最高峰，京港澳等主要高速路段车速缓慢。受大雾影响，连日来多次短暂停航的琼州海峡，今天早些时候各港口通航恢复正常，预计明起天气转好车辆滞留将得到缓解。\\n春运前二十日，全国铁路、道路、水路、民航共累计发送旅客13.83亿人次，春节期间全国航班正常率达91.39%，共运送旅客约1140万人次。\\n']\n",
            "[0, 0, 0.6276895, '昨晚进行的平昌冬奥会短道速滑男子500米预赛中，世界排名第一的中国选手武大靖以40秒264的成绩顺利晋级，并打破了该项目的奥运会纪录。另外两名中国选手任子威、韩天宇也成功晋级下一轮比赛。\\n短道速滑女子3000米接力决赛中，中国队派出周洋、范可新、曲春雨、李靳宇参赛。比赛前半程中国队一直处于领先位置，不过在最后一棒交接过程中，被韩国队超过。最后韩国队率先撞线冲过终点，中国队排名第二。随后裁判判罚中国队和加拿大队犯规被取消参赛成绩。银牌和铜牌分别被意大利队和荷兰队获得。\\n']\n",
            "[1, 1, 0.99814326, '商务部最新统计数字显示，从除夕到正月初六，全国零售和餐饮企业实现销售额约9260亿元，比去年春节黄金周增长10.2%。品质消费成为今年春节消费市场的一大亮点。\\n']\n",
            "[0, 1, 0.9999718, '来自国家旅游局的综合统计，今年春节长假，全国共接待游客3.86亿人次，同比增长12.1%；旅游人数再创新高。实现旅游收入4750亿元，同比增长12.6%。广东、四川、湖南、江苏、河南等省份接待游客人数排名靠前。\\n春节期间，都市休闲、海岛度假、冰雪游、避寒游受到游客欢迎，中远程旅游和本地休闲两极分化特征明显。\\xa0\\xa0\\n']\n",
            "[1, 1, 0.9982701, '国家质检总局、国家标准委近日发布新修订《快递封装用品》系列国家标准，根据减量化、绿色化、可循环的要求，对快递包装减量提出新要求。倡导快递包装袋采用生物降解塑料，减少白色污染。\\n']\n",
            "[1, 1, 0.99868345, '春节期间，消防部门重点对人员密集场所、石油化工单位、烟花爆竹集中燃放区和重大节庆活动场所进行流动巡防和现场监护，全国共发生火灾12025起，死亡51人，火灾起数同比下降12.8%。\\n']\n",
            "[1, 1, 0.9986013, '国家工商总局日前发出关于开展互联网广告专项整治工作的通知，集中整治危害人民群众人身安全的食品、保健食品、药品广告；含有欺骗误导消费者、损害人民群众财产利益的金融投资、收藏品等五类虚假违法互联网广告。\\n']\n",
            "[1, 1, 0.99624056, '中央气象台消息，今明两天，影响我国的降雨天气将有所减弱，降雨主要集中在江南、华南一带；但受到冷空气影响，这一带地区的气温明显下降。而北方的雨雪也将转至东北和新疆地区。目前正值春运返程高峰，应注意雨雪天气给交通带来的不利影响。\\n']\n",
            "[1, 1, 0.97156763, '据叙利亚国家电视台20日报道，支持政府的叙利亚武装当天已经进入了叙利亚北部的阿夫林地区。\\n亲政府武装的车队从叙利亚北部城市阿勒颇的集结点出发，抵达阿夫林地区。叙利亚通讯社称，亲政府武装将帮助当地民众抗击土耳其军队。\\n另有报道说，亲叙政府武装车队进入后，土耳其军队开始加强对阿夫林地区的炮击。在遭到炮击后，这支部队一度后撤10公里，最终经过迂回，进入阿夫林市中心并在阿夫林市内举行游行庆祝活动。\\n土耳其总统埃尔多安20日证实了加强炮击阿夫林地区的消息。他重申土耳其在阿夫林推进军事行动的决心，反对叙政府介入该地区战事。埃尔多安还说，土耳其军队将在未来数天内，包围阿夫林地区。\\n针对目前的局势，俄罗斯外长拉夫罗夫20日表示，土耳其如果真的想要保障其边境地区安全，需要与叙利亚政府通过直接对话来解决。 拉夫罗夫强调，希望不要出现以库尔德武装问题为借口来制造地区混乱的情况。\\n']\n",
            "[2, 2, 0.9864536, '马尔代夫议会20日晚上召开特别会议，批准将全国紧急状态延长30天。根据宪法，由于目前仍处于全国紧急状态，因此本次特别会议对议员出席人数没有特定要求。当天议会全部85名议员中有40人参与会议，38人投赞成票。\\n本月初，马尔代夫最高法院先后发布裁决令，要求释放前总统纳希德等9名反对派领导人，亚明5日宣布实施为期15天的全国紧急状态。\\n']\n",
            "[1, 2, 0.96374696, '巴勒斯坦总统阿巴斯20日呼吁国际社会接受巴勒斯坦为联合国正式会员国，并承认以1967年边界为基础、以东耶路撒冷为首都的独立巴勒斯坦国。阿巴斯当天在联合国安理会举行的审议巴勒斯坦问题公开会上说，巴方呼吁在2018年年中依据国际法和联合国相关决议召开一次国际会议，期待包括巴以双方以及地区和国际攸关方在内的广泛的国际参与。\\n']\n",
            "[0, 2, 0.9954996, '春日江山丽，和风花草香。\\n节目的最后，让我们一起走进万物生长的季节，融入欣欣向荣的新时代。\\n']\n",
            "[0, 0, 0.9999892, '中共中央政治局常务委员会2月22日召开会议，听取河北雄安新区规划编制情况的汇报。中共中央总书记习近平主持会议并发表重要讲话。\\n会议指出，规划建设雄安新区，是以习近平同志为核心的党中央对深化京津冀协同发展作出的又一项重大决策部署，是一项历史性工程，对承接北京非首都功能、探索人口密集地区优化开发模式、调整优化京津冀空间结构、培育推动高质量发展和建设现代化经济体系的新引擎具有重大现实意义和深远历史意义。\\n会议认为，在党中央领导下，在国务院有关部委和京津两市大力支持下，河北省会同京津冀协同发展领导小组办公室、专家咨询委员会等方面，深入调查论证，充分听取各方意见，反复修改完善，雄安新区规划编制工作取得重要进展。\\n会议强调，雄安新区规划和建设要全面贯彻党的十九大精神，以习近平新时代中国特色社会主义思想为指导，坚持世界眼光、国际标准、中国特色、高点定位。要贯彻高质量发展要求，创造“雄安质量”，在推动高质量发展方面成为全国的一个样板。要围绕打造北京非首都功能集中承载地，顺应自然、尊重规律，构建合理城市空间布局。要结合区域文化、自然景观、时代要求，形成中华风范、淀泊风光、创新风尚的城市风貌。要同步规划建设数字城市，努力打造智能新区。要坚持生态优先、绿色发展，努力建设绿色低碳新区。要按照国家部署建设一批国家级创新平台，努力打造创新驱动发展新区。要布局高效交通网络，落实职住平衡要求，形成多层次、全覆盖、人性化的基本公共服务网络。\\n会议要求，要深化规划内容和完善规划体系，尽快研究提出支持雄安新区加快改革开放的措施，适时启动一批基础性重大项目建设，确保新区建设开好局、起好步。\\n会议强调，建设雄安新区是千年大计、国家大事，要保持历史耐心，稳扎稳打，一茬接着一茬干，努力建设高水平的社会主义现代化城市。\\n会议还研究了其他事项。\\n']\n",
            "[0, 0, 0.99998873, '习近平总书记在十九大报告中指出：要增强改革创新本领，保持锐意进取的精神风貌，推动形成全面开放新格局。\\n作为我国改革开放前沿和窗口的上海市，在习近平新时代中国特色社会主义思想指引下，以“等不起”的紧迫感、“慢不得”的危机感，全力推动改革开放更上层楼，争作新时代的排头兵。\\n2018年伊始，上海市委负责同志首次调研的主题就是“改革开放再出发”，寻找发展中的瓶颈问题，摸清痛点、堵点，寻找改革发力点。\\n新一轮改革开放，上海在优化营商环境上破题。最近两个月，上海取消和调整87项行政审批，浦东推出优化营商环境“二十条”，多项为国内首创。\\n这一批进口鲜奶刚刚落地浦东机场，第二天就能在超市上架，是检放模式的改革，为企业挤掉了8天的检验流程，让鲜奶通关“零等待”。\\n十九大后，上海用一系列大刀阔斧的改革，跑出了营商环境的“上海速度”。政府建设项目审批由串联改为并联，审批速度向国际最好水平看齐；进口彩妆审批改备案，让最新潮流与全球同步；报税大厅新技术，让企业“刷脸”办税。\\n党的十九大报告，系统回答了新时代要不要开放、要什么样的开放、如何更好地推动开放等重大命题。上海，正努力将中央精神落地生根。春节刚过，已经有不少国家的贸易商赶赴上海，为9个月后的中国国际进口博览会作准备，这是我国2018年重要的主场外交。\\n一系列改革新政，让上海越来越有吸引力。荷兰的诺贝尔化学奖得主费林加教授，刚刚在上海拥有了以他的名字命名的联合研究中心，将带领科研团队，研发智能新材料。\\n今后，国际顶尖科学家将在上海得到“中国绿卡”，共同打造东方科研高地。上海还将在资金扶持，体制创新等方面，推进科创中心建设。\\n今后五年，上海将基本建成国际经济、金融、贸易、航运中心和社会主义现代化国际大都市，形成具有全球影响力的科技创新中心基本框架。\\n']\n",
            "[0, 0, 0.99998903, '近日，中共中央办公厅、国务院办公厅、中央军委办公厅印发《关于开展军民融合发展法规文件清理工作的通知》，对军民融合发展法规文件清理作出全面部署。\\n《通知》指出，开展法规文件清理是全面贯彻党的十九大精神，深入实施军民融合发展战略，认真落实习近平总书记“优化军民融合发展的制度环境，坚决拆壁垒、破坚冰、去门槛”重要指示的具体举措。做好法规文件清理工作，有助于解决当前军民融合发展的突出矛盾和现实问题，有利于增强法规制度的协调性、时效性、针对性，更好发挥法规制度的规范、引导、保障作用。\\n《通知》明确了需要清理的文件范围和4个方面14条清理标准。\\n《通知》要求，负责清理的单位要按照清理范围，对法规文件逐一研究确定是否纳入清理目录，全面清理不留死角，做到应清必清、务求彻底。要坚持开门清理，广泛征求相关部门、市场主体、行业协会、专家学者意见和建议。建立清理长效机制，实行定期清理与日常清理相结合、清理与备案审查相结合，加强清理后续跟踪检查，确保清理效果落到实处。中央军民融合办适时对清理工作开展督促检查。\\n']\n",
            "[0, 0, 0.9999891, '明天出版的人民日报将刊发“宣言”署名文章：《艰苦奋斗再创业》。\\n文章认为，习近平总书记强调指出，新时代中国特色社会主义是我们党领导人民进行伟大社会革命的成果，也是我们党领导人民进行伟大社会革命的继续，必须一以贯之进行下去。这既是充满哲思的揭示，也是铿锵豪迈的宣言。在新的历史起点上，做到一以贯之推进社会革命和自我革命，惟有永葆革命精神和革命斗志，艰苦奋斗再创业。\\n文章指出，中国共产党的光辉历程、社会主义在中国的凯歌行进，就是一部开天辟地的创业史、从未停歇不断再创业的奋斗史。中国共产党人始终如一地践行着初心、履行着使命，一次又一次向人民交出亮丽的成绩单，铸就了不断再创业的伟大精神。\\n文章指出，党的十九大报告就是中国共产党带领亿万人民再创业的规划书、任务书，我们正在做的和将要做的都是史无前例的创举。砥砺奋进新时代、面向未来再创业，我们无比坚定、无比自信、无比豪迈。\\n文章指出，新时代是奋斗者的时代，“幸福都是奋斗出来的”，“奋斗本身就是一种幸福”。时代的考题已经列出，我们的答卷正在进行，要发扬革命精神、埋头实干苦干、练就高强本领，以必胜信念争取胜利。待到理想化宏图，我们可以欣慰地对自己说，自豪地对世界说，骄傲地对后人说：我们是中华民族伟大复兴的创业者！\\n']\n",
            "[0, 0, 0.99997157, '四川省凉山彝族自治州，是全国最大的彝族聚居区。55岁的彝族阿婆马海阿牛，生活在凉山州越西县，这里是国家扶贫开发工作的重点县，今天我们就来为您讲述他们的脱贫故事。\\n清晨7点，再过20分钟，成昆线上从普雄开往攀枝花的5633次列车就要发车了。\\n5633次列车从普雄到西昌沿途停靠14个车站，辐射两个县十几个乡镇，都是深度贫困地区，这趟“慢火车”从1971年开始运行至今已经有48年，也是沿线彝族同胞出行的重要通道，最低票价仅2元。\\n彝族阿婆马海阿牛和丈夫在普雄站上了火车，她的背篓里装满了鸡，在火车上，她从老乡手里又买了3只鸡。\\n马海阿牛和丈夫对“慢火车”有着特殊的感情，因为贫穷，15岁时她就不得不辍学，开始用“慢火车”做小生意，并且在火车上结识了丈夫。三个儿子出生后，虽然她每天辛苦劳作，但由于各种条件所限，贫穷始终如影随形。\\n三个儿子到了读书的年龄，马海阿牛果断地将孩子们都送进了学校，因为她坚信“知识改变命运”。田里收入微薄，供不起孩子读书，夫妻俩就通过火车起早贪黑地做小生意，卖过猪羊鸡鸭甘蔗土豆，硬是用这肩上的竹背篓，一筐筐地背出了孩子们走出大山、走出贫困的希望。\\n这张照片是当时三个孩子获奖后拍摄的，也是他们小时候唯一的照片。后来，他们都考上重点大学，从高中到大学，累计获得国家教育扶贫资金7万多元。大学毕业后，三兄弟原本都能留在成都工作，但他们却都返回了家乡，在乡镇做公务员。\\n三兄弟的毕业证都是由妈妈保存着，因为对马海阿牛来说，这是最珍贵的。治贫先治愚、扶贫先扶智，从2015年开始，凉山州也把教育扶贫作为治本之策，创办“一村一幼”幼教点达3070个。现在，越来越多彝族家长也有了马海阿牛的“教育梦”，乘坐慢火车去县城读书的孩子一年比一年多。\\n马海阿牛最小的儿子海来伍达如今在阿雷村驻点扶贫已经三年多了，全村133个贫困户538人的情况，他都烂熟于心。74岁阿你阿呷是村里年龄最大的贫困户，她跟两个孙女相依为命，海来伍达几乎每天都来看她。今年，阿婆得到了低保补助、养老保险、医疗保险等各项扶贫政策的福利，由国家出资新建的搬迁房也已完成，年后就将搬进新家。\\n2014年凉山州开展精准扶贫以来，这四年，彝族乡亲们身后的土坯房，已经变成了结实的砖瓦房，累计有206.2万农民群众搬入新居。这四年，凉山州减少贫困人口46万多人，减少贫困村954个。这四年，像马海阿牛的两个儿子一样，2497名第一书记，9000多名扶贫干部扎根在凉山扶贫的主战场上。\\n']\n",
            "[0, 0, 0.9999809, '今天是正月初七，全国铁路春运返程客流叠加，继续保持高位运行。\\n今天，全国铁路预计发送旅客1180万人次，增开旅客列车1207列，务工流，学生流，探亲流高度叠加。为应对返程客流高峰，上海、济南、沈阳、贵州、广西等多地铁路部门都加大运力投入，采取增开客车、扩大列车编组、动车组重联运行、延长售票营业时间等多项便民利民措施，最大限度地满足旅客出行需求。针对返程客流集中的特点，合肥两大火车站实施精准开车，缓解去往北上广等重点地区的出行压力。\\n公路方面，今天零点开始，全国高速公路车流量恢复正常。受大雾影响，山东、河南、湖北等地十五条高速路段今天上午一度关闭，中午前后陆续恢复正常通行。\\n民航方面，2018年春节假期期间，民航共运送旅客1140万人次，航班正常率超90%。\\n']\n",
            "[0, 0, 0.7149492, '从18日起，受琼州海峡连续大雾天气影响，海南海口三大港口出现连续间断性停航，上万车辆在港口附近滞留。为了让旅客尽早返程，海口全力应对车辆滞留。\\n今天凌晨，琼州海峡再次出现短暂停航，到早上6:30分左右恢复通航。但受广东徐闻海安港口运输能力下降影响，海口市各港口及周边道路车辆积压情况依然严重。\\n此次琼州海峡出现连续大雾天气，最浓时能见度小于200米。面对数万等待归家的旅客，海口启动港口滞留应急一级预案，利用通航间歇尽快渡客。同时，与广东湛江合作，加大疏运力度。\\n为减少交通压力，今天，除参与应急值守和一线服务保障的部门、单位外，海口市其余部门和单位临时调休，25日补班。海口警方日均出动超过2000警力人次，24小时执勤。\\n由于滞留时间较长，当地在路面每隔大约100米左右增设一座移动公厕，每隔约1公里设医疗救护点。城管、环卫、民政等部门从凌晨到深夜不间断为滞留旅客提供伴随式服务。\\n为了保障旅客顺利出岛，这几天，400多名志愿者走上街头发放免费食品、矿泉水。\\n截至目前，海口秀英港、新海港、南港三大港口共发送车辆4万多辆，旅客十余万人次。据交警部门统计，截至今天下午4点，在海口滞留需要过海的车辆仍有约1.4万辆。当地气象部门预测，未来48小时，海口还会有大雾，建议返程车辆暂时先不要前往海口三港。\\n']\n",
            "[0, 0, 0.9999877, '广西把精准扶贫与精神扶贫相结合，引导贫困群众依靠辛勤劳动脱贫致富。\\n在广西合山，春节刚过，以贫困村第一书记、结对干部为主体的思想扶贫帮扶队伍就已经走村串户开始工作。当地把“不想脱贫”、“不敢脱贫”等作为破解“精神贫困”的主攻方向。黎桂兰，爱人患病，生活困难。帮扶干部一方面给她宣讲扶贫政策，一方面帮她发展种植。一个春节假期，草莓大棚就为她带来了2000多元的收入。\\n把贫困户的脱贫积极性和信心调动起来后，智力扶贫紧随其后，当地开展了种植养殖、家政服务等技能培训，13000人掌握了技术，有了致富门路。\\n']\n",
            "[1, 1, 0.99842626, '春节期间，公安交管部门每天投入15万警力对重点道路进行疏导管控。公安消防部门向各地派出4万多个检查组开展火灾隐患排查，发现整改火灾隐患26.4万处。全国治安秩序良好。\\n']\n",
            "[1, 1, 0.99870306, '今天，重庆30多万人参加春季义务植树，计划种植黄桷树、柳树等适宜树种380万株。重庆市委、市政府决定，从今年起，每年春节后的第一个工作日，在全市开展义务植树活动。\\n']\n",
            "[1, 1, 0.99848855, '春节假期，成都武侯祠大庙会人头攒动，民俗表演、文化展览等轮番登场，假期七天共接待游客超过67万人次。\\n']\n",
            "[1, 1, 0.9981062, '最高人民检察院决定对33件破坏生态环境公益诉讼案件线索予以挂牌督办。这33件案件线索发案于河北、山西、甘肃等11个省、自治区，涉及水、大气、土壤等多类型的环境污染。\\n']\n",
            "[0, 1, 0.9999187, '连日来，中国春节庆祝活动为世界披上了节日盛装，中国传统文化渐渐沁入当地民心，绽放独特魅力。\\n今年春节，“全球点亮中国红”“海外春节庙会”“跨国春晚”“四海同春”等具有浓郁中国年味的各类迎春活动在多国举行。不仅越来越多的国家和城市将春节定为法定节假日，当地人也更多地参与到欢庆的队伍中来。\\n在多伦多举行的春节庙会活动上，加拿大总理特鲁多前往现场献上祝福。\\n位于唐宁街的英国首相府也张灯结彩，庆祝春节。\\n今年，有近70万各界人士在伦敦特拉法加广场共庆中国年，连续16年举办的春节庆典已经植根伦敦，成为当地一项传统文化活动。\\n随着春节庆祝活动规模不断扩大，越来越多的外国人在逛庙会、看演出的同时，对中国的传统文化的了解和认识也更加深入。\\n“行走的年夜饭”也是今年春节活动的亮点之一。从尼罗河畔的开罗，到冬奥会举办地平昌，再到中美洲的巴拿马城，“年夜饭”飘香世界多国，名厨们精湛的技艺赢得各国食客纷纷赞叹。\\n伦敦、纽约、巴黎、悉尼、迪拜……象征新春的红色灯光和节日焰火点亮了夜空。春节，承载着中国人的文化基因和情感需求，在喜庆的氛围中呼应着世界人民对美好生活的向往，传递着构建人类命运共同体的美好愿景。\\n']\n",
            "[0, 1, 0.99921876, '平昌冬奥会短道速滑最后一个比赛日今天晚上进行，在刚刚结束的男子500米决赛当中，中国选手武大靖以39秒584破世界纪录的成绩夺得冠军，这是本届冬奥会上中国体育代表团获得的第一枚金牌。在今晚六点开始的四分之一决赛当中，武大靖以39秒80的成绩还打破了这个项目的世界纪录。\\n']\n",
            "[2, 1, 0.9787594, '20日，中国第5批赴马里维和部队授勋仪式在位于马里加奥地区的联合国马里多层面综合稳定团“超级营地”举行，395名中国维和官兵全部获得联合国和平荣誉勋章。\\n中国第5批赴马里维和部队由170人的警卫分队、155人的工兵分队和70人的医疗分队组成，他们预计在今年5月中旬完成交接任务，返回国内。\\n']\n",
            "[1, 1, 0.99445146, '据叙利亚媒体21日报道，第二批支持政府的叙利亚武装人员已经进入叙北部阿夫林地区，准备参加抗击土耳其军队的战斗。\\n叙利亚通讯社报道说，在第一批人员抵达24小时后，新一批亲政府的武装人员抵达阿夫林，并被部署到相关阵地。阿夫林地区的库尔德武装发表声明，对亲政府的叙利亚武装人员进驻表示欢迎。\\n不过，土耳其总统发言人卡林21日否认了叙利亚媒体的说法，卡林说，在土耳其炮火的压制下，亲政府的叙利亚武装乘坐大约50辆皮卡车撤回到阿勒颇以东。卡林还强调，土耳其政府推进“橄榄枝”行动的决心没有改变。\\n而在位于叙利亚首都大马士革东郊的东古塔地区，从18日开始，叙利亚政府军和反政府武装的冲突急剧激化。叙利亚政府军对反政府武装发动连续炮击和空袭，反政府武装则发射迫击炮弹予以还击。据叙利亚媒体报道，政府军正计划对大马士革附近的反政府武装据点发动大规模进攻，以彻底消除大马士革面临的威胁。\\n']\n",
            "[2, 2, 0.9952141, '加沙地带市政联盟主席希贾齐21日说，外界持续超过十年的封锁造成加沙地带人道主义状况持续恶劣，燃料短缺造成目前每天停电超过20个小时、污水处理系统无法运转，市政部门已无力为当地居民提供最低限度的服务，进入紧急状态。希贾齐呼吁有关各方介入，防止人道主义状况进一步恶化。\\n巴勒斯坦伊斯兰抵抗运动（哈马斯）2007年夺取加沙地带实际控制权后，以色列开始对加沙地带实施全面封锁。\\n']\n",
            "[2, 2, 0.9965289, '尼日利亚约贝州政府21日证实，极端组织“博科圣地”19日晚袭击了位于该州达普奇地区的一所女子技术学校，一度有90多名女学生失踪。军方随后展开救援，救回部分女生。据学生家长说，有76名女生获救，2人死亡，尚有13人失踪。\\n“博科圣地”在当地语言中意为“西方教育的罪恶”，他们反对年轻人特别是女孩接受学校教育，多次绑架妇女儿童。2014年，该组织武装分子劫持了276名女学生，目前仍有100多人下落不明。\\n']\n",
            "[0, 0, 0.99998885, '习近平总书记在党的十九大报告中指出，贯彻新发展理念，建设现代化经济体系，必须坚持质量第一、效益优先，推动经济发展质量变革、效率变革、动力变革。\\n天津市在习近平新时代中国特色社会主义思想指引下，认真落实京津冀协同发展战略，不断加快创新驱动和转型升级步伐，为高质量发展注入强劲动力。\\n进入2018年，围绕“推动京津冀协同发展”这个国家战略，天津进一步加强政策规划，把工作重点放在全面提升服务和协作水平上。\\n服务协同发展大局。今年，天津将完善连接雄安新区、京冀周边城市的交通网络，加强生态环保联防联控，加快建设一批高水平承接平台。作为京津两地政府首个合作共建的示范园区，滨海——中关村科技园建设步伐不断提速，这段时间又有40多家企业签约入驻，成立仅一年多的园区，累计落户企业近400家。\\n依托滨海——中关村科技园，今年天津还全力构建“1+16”承接格局，打造16个各具优势的承接载体。在北辰区，高端装备制造成为主打；在东丽区，成熟的产学研合作机制，吸引来一批北京的科研院所落户；在滨海新区，国家超算天津中心积极对接三地企业，一条“京津冀大数据走廊”正在加紧建设。\\n如今，京津冀全面协同、深度融合的发展格局正在形成，天津还紧紧抓住这个历史性窗口期，提出在2018年加快建设现代化经济体系，推动传统产业智能化、绿色化改造。\\n最近，位于天津西青区的这家生产传感器的企业，就利用政府补贴的350万元，对生产线进行了智能化升级改造，企业年产值预计可提高50%。\\n天津还把大数据、云计算、人工智能和实体经济的深度融合，作为推动高质量发展的主要抓手。十九大后，中国新一代人工智能发展战略研究院开始运行；涵盖了智能制造、智慧城市等内容，旨在打造“天津智港”的“1+10”行动计划发布施行。从软件到硬件，从创新力到竞争力，天津现代化产业体系迎来全面升级。\\n依靠创新形成新动能、激发新动力。2018年，天津还将推动6000家以上企业实现创新转型，培育壮大新一代信息技术、新材料等十大高端产业集群。\\n']\n",
            "[0, 0, 0.9999887, '近日，中共中央印发《中央党内法规制定工作第二个五年规划（2018-2022年）》。《规划》深入贯彻落实习近平新时代中国特色社会主义思想和党的十九大精神，着眼于到建党100周年时形成比较完善的党内法规制度体系，对今后五年党内法规制度建设进行顶层设计，提出了指导思想、目标要求、重点项目和落实要求，是推进新时代党内法规制度建设的重要指导性文件。\\n《规划》提出，要适应新时代坚持和加强党的全面领导、以党的政治建设为统领全面推进党的各项建设的需要，到建党100周年时形成以党章为根本、以准则条例为主干，覆盖党的领导和党的建设各方面的党内法规制度体系，并随着实践发展不断丰富完善。党内法规制度质量明显提高，执行力明显提升，系统性、整体性、协同性明显增强。\\n']\n",
            "[0, 0, 0.9999892, '十二届全国人大常委会第三十三次会议23日上午在北京人民大会堂开幕。张德江委员长主持会议。\\n为落实党的十九大精神和十九届二中全会精神，适应深化国家监察体制改革的需要，完善宪法宣誓制度，进一步弘扬宪法精神、彰显宪法权威，全国人大常委会委员长会议提出了关于提请审议《全国人大常委会关于实行宪法宣誓制度的决定（修订草案）》的议案。受委员长会议委托，全国人大常委会法制工作委员会副主任张勇作了说明。\\n为稳步推进实施股票发行注册制改革，进一步发挥资本市场服务实体经济的基础功能，国务院提出了关于提请审议关于延长授权国务院在实施股票发行注册制改革中调整适用证券法有关规定期限的决定草案的议案。受国务院委托，中国证券监督管理委员会主席刘士余作了说明。\\n这次常委会会议的一项重要任务是为召开十三届全国人大一次会议做准备。为此，会议审议了全国人大常委会工作报告稿，审议了委员长会议关于提请审议十三届全国人大一次会议议程草案、主席团和秘书长名单草案、列席人员名单草案等议案。\\n会议听取了全国人大常委会副秘书长信春鹰作的全国人大常委会办公厅关于十三届全国人大代表选举工作情况的报告。截至2018年1月底，35个选举单位共选举产生第十三届全国人大代表2980名。总体来看，十三届全国人大代表具有广泛的代表性，保证了各地区、各民族、各方面都有适当数量代表的要求。\\n会议审议了全国人大常委会代表资格审查委员会主任委员马馼作的关于十三届全国人大代表的代表资格的审查报告。经审查，35个选举单位的十三届全国人大代表的选举符合法律规定，2980名代表的代表资格全部有效，提请全国人大常委会确认并公布代表名单。\\n会议听取了全国人大常委会副委员长张宝文作的关于检查种子法实施情况的报告。报告指出，国务院和地方各级政府积极贯彻实施修订后的种子法，种子法确定的基本制度和各项法律规定得到了较好落实，但也发现了一些问题。执法检查组建议，要坚持用法治方式推动现代种业发展，夯实现代种业发展基础，提升种业自主创新能力，确保良种供应安全，加强基层监管能力建设，加强知识产权保护。\\n会议还审议了全国人大常委会代表资格审查委员会关于个别十二届全国人大代表的代表资格的报告，审议了中央军事委员会关于提请审议批准增补人民解放军选举委员会成员的议案，审议了有关任免案。\\n']\n",
            "[0, 0, 0.99998915, '十二届全国人大常委会第一百一十三次委员长会议23日下午在北京人民大会堂举行，张德江委员长主持。\\n会议听取了全国人大法律委员会主任委员乔晓阳作的关于实行宪法宣誓制度的决定修订草案审议结果的报告、对关于延长授权国务院在实施股票发行注册制改革中调整适用证券法有关规定期限的决定草案审议结果的报告。\\n会议听取了全国人大常委会副委员长兼秘书长王晨作的关于审议十三届全国人大代表的代表资格的审查报告和十三届全国人大一次会议议程草案、主席团和秘书长名单草案、列席人员名单草案情况的汇报，关于审议个别十二届全国人大代表的代表资格的报告、中央军委关于提请审议批准增补人民解放军选举委员会成员的议案和任免案情况的汇报。\\n委员长会议决定，将上述议案和草案提请常委会会议进一步审议修改后，提交第一百一十四次委员长会议决定是否交付十二届全国人大常委会第三十三次会议闭幕会表决。\\n']\n",
            "[0, 0, 0.9999892, '中共中央政治局常委、国务院扶贫开发领导小组组长汪洋23日在京主持召开国务院扶贫开发领导小组第二十二次全体会议，学习贯彻习近平总书记在四川成都打好精准脱贫攻坚战座谈会上的重要讲话精神，研究部署下一阶段脱贫攻坚工作。他强调，新年伊始，在全党上下深入学习贯彻党的十九大精神、脱贫攻坚进入啃硬骨头的关键时期，习近平总书记再次深入深度贫困地区调研，部署相关工作，向全党全社会发出了新的动员令，意义重大深远。要深刻领会习近平总书记扶贫开发重要战略思想，牢固树立“四个意识”，坚决打好精准脱贫攻坚战。\\n汪洋强调，脱贫攻坚取得决定性进展，但仍存在困难挑战，要始终保持清醒头脑，坚持以问题为导向不断改进工作，提高脱贫质量和成效。中央部门要勇于自我革命，进一步提高“中央统筹”的工作水平，以政策的精准促进工作的精准。对经过实践检验行之有效的制度和做法，要继续坚持并不断完善。优化政策供给，增强政策举措适应性，给基层精准施策创造更大的自主空间，支持地方从实际出发，积极探索创新。改进考核监督，进一步做到因地制宜、精准到位，更多体现“省负总责”原则。取消与脱贫攻坚无关的搭车任务和验收指标，为基层帮扶工作减负。要切实做好顶层设计，扎实推进扶贫领域作风建设，加强扶贫干部培训，为“市县抓落实”、扎实推进脱贫攻坚创造条件。\\n']\n",
            "[0, 0, 0.99997485, '在四川夹江的大山深处，有一座代号为“909”的三线基地。它曾是我国核动力秘密研发地，研发出了第一代核潜艇陆上模式反应堆，也正是在这里，孕育了当今全球领先的核电技术——华龙一号。\\n在四川成都的中国核动力研究设计院，华龙一号数字化控制系统安全级平台正在进行调试，它是核电的中枢神经，可以确保反应堆、环境和公众的安全。\\n不亲手造出每一个核心部件，就走不完自主创新的全过程。中国核动力从无到有的信心和底气，是更早以前在四川夹江的大山里浇筑的，这是中国第一代核潜艇的秘密研发地。\\n1968年，高星斗和来自全国各地的八千军民一起来到夹江，成为“搞水电”的神秘人。核潜艇的核心技术——核动力的研制地就确定在了这里。\\n如果说核潜艇是巨龙，那么核动力装置就是这条巨龙的心脏，这颗心脏能不能达到令潜艇持续航行的要求，在下水前必须先建一个环境条件一模一样的陆上模式堆进行模拟实验。\\n这是当年中国第一代核潜艇陆上模式反应堆厂房，锈迹斑斑的墙体是它进行水下实验的地方，曾经，两座弧形墙壁之间的堆舱浸在足足8米深的水中。1970年8月30日是极不寻常的一天，核反应堆将要首次实现满功率运行。这意味着它的运行功率终于达到了预期设计目标，可以安全投入使用。\\n就在陆上模式堆满功率运行仅仅四个月后，1970年12月26日，中国自主研制的第一艘核潜艇成功下水。艇上零部件有4.6万个，需要的材料多达1300多种，没有用国外一颗螺丝钉。\\n如今，近半个世纪过去了，用于第一代核潜艇研制的陆上模式堆也完成了它的使命光荣退役，而就在拆除屏蔽墙的过程中，技术人员们在铅块底下发现了这样一句字迹模糊的话：“孩子们，辛苦了。”\\n我们不知道是谁偷偷写下了这句问候，我们只知道，那时的他们风华正茂，其中很多人告别妻儿，只身来到这个与世隔绝的深山，甚至不知道自己将要执行的绝密任务是什么。但他们唯一可以确认的是，他们即将开创的事业将与国家前途紧密相连，与民族命运息息相关。他们写下这句“辛苦了”，他们相信，在反应堆退役的那一刻，这句话终将跨越时空，展现在孩子们眼前。\\n']\n",
            "[0, 0, 0.99987894, '农业部今天公布，2018年全国轮作休耕面积扩大到2400万亩，比上一年翻一番。中央财政拟安排约50亿元给予支持。轮作指的是在同一年度间有顺序地轮换种植不同作物，改变单一作物常年对土壤养分的过度消耗。休耕则是在可种作物的季节停止种植活动，目的是为了恢复地力。今年轮作休耕范围向地下水超采区和生态退化区扩大，轮作面积在东北四省区的基础上，新增江苏、江西的小麦稻谷低质低效区；休耕范围将新疆塔里木河流域、黑龙江寒地井地下水超采区纳入试点范围。\\n轮作休耕试点开展两年来，在增加有效供给和农药化肥减量方面已取得一定效果。\\n']\n",
            "[0, 0, 0.9999705, '北京时间今天18点半，平昌冬奥会的短道速滑颁奖仪式在奖牌广场举行，五星红旗在广场两次升起。\\n18点50分，男子500米颁奖仪式开始，武大靖站上了最高领奖台，五星红旗高高升起。\\n在昨晚的短道速滑男子500米比赛中，武大靖以39秒584的成绩第一个冲过终点，他不仅无可争议地夺得冠军，还两次刷新了该项目的世界纪录。\\n压轴上演的男子5000米接力决赛，刚刚夺金的武大靖又和队友韩天宇、许宏志和陈德全一起参赛，此前的预赛，中国队曾刷新了该项目的奥运会纪录。最终中国队以6分32秒035的成绩拼下一枚银牌，匈牙利队获得冠军。至此，平昌冬奥会短道速滑项目的比赛全部结束，中国短道队在平昌冬奥会的成绩被定格在1金2银。\\n']\n",
            "[0, 0, 0.99996954, '全国铁路春运返程客流进入节后高峰，连续三天旅客发送量超千万人次，各地火车站纷纷推出便民措施保障出行。\\n今天全国铁路预计发送旅客1150万人次，增开旅客列车1147列。连续三天旅客发送量超千万人次，创铁路今年春运客流目前最高峰。\\n从武汉、上海、南昌、广州往外走的旅客量大幅增加。成贵、渝万和渝贵等线路返程客流持续增加。贵阳火车站将原经老川黔线的8对普速列车调整到渝贵铁路运行，乘车时间从原来的10小时缩短到了4小时左右，满足了旅客多元化出行。为确保务工人员顺利返程，成都铁路部门为外出务工人员集中地预留了七万张左右的车票。\\n为应对客流高峰，各地车站纷纷推出便民措施保障出行。南昌、厦门、沈阳、长春等站引入医疗、应急、手语等专业志愿者团队。南宁、柳州、玉林站增开爱心哺乳室。泰山站推出“七色”爱心服务卡，根据不同颜色区分重点旅客出行需求。襄阳、宜昌等站在前广场增设移动公厕，为购票和站外候车旅客提供方便。\\n']\n",
            "[0, 0, 0.999956, '连日来，大雾导致琼州海峡多次停航，加上春节黄金周返程高峰，海口三个港口仍有上万辆汽车、数万名旅客滞留。为尽快疏解滞留旅客，海南省全力以赴进行疏导，做好服务保障。\\n今天，琼州海峡的能见度超过3000米，当地运输部门按照“船靠就装，装满就走”的原则，加快滞留车辆输运速度。\\n但随着离岛车辆不断涌入，运输压力仍然很大，各个港口滞留车辆超过1万辆 。\\n从18日清晨起，琼州海峡接连出现能见度不足1000米的大雾天气，海南海事部门先后14次下达停航通知。为尽快让滞留旅客过海回家，连日来，海南众多部门通力配合，昼夜疏导滞留旅客。\\n目前，海南省与广东省海峡办开启联合办公，协调两省船运企业，增加艘次，尽可能提高船舶装载效率。海口市成立了由13家单位组织的现场指挥部，建立半小时信息报送发布机制，引导旅客错峰出行。当地公安、城管、交警、环卫等部门彻夜坚守，提供服务保障。\\n这几天，间断性停航造成车辆滞留海口，海南离岛机票也一票难求。民航局已协调航空公司增加运力，加快疏导旅客。\\n']\n",
            "[0, 1, 0.9998959, '最高人民法院今天发布执行和解、执行担保和仲裁裁决执行三个执行司法解释，将于3月1日开始施行。此次《执行和解规定》明确了执行和解与执行外和解的区分标准，赋予了申请执行人选择权；《执行担保规定》明确，人民法院可以根据申请执行人的申请，直接裁定执行担保财产或者保证人的财产；《仲裁裁决执行规定》明确赋予了案外人申请不予执行的权利。\\n']\n",
            "[1, 1, 0.99857724, '今天，四川盆地到江南一带遭遇大雾天气，局地能见度不足200米，浙江湖州部分高速采取交通管制，江西吉安近300辆车辆滞留收费站。而在北方部分地区，受冷空气影响，明天将迎10℃以上降温。\\n']\n",
            "[1, 1, 0.99875605, '截至目前，黄河内蒙古段槽蓄水量达13.65亿立方米，接近14.1亿立方米的历史最大槽蓄水量均值，防凌汛形势严峻。为确保黄河顺利开河，内蒙古沿河各地加大巡查和河道管护力度，并把多余冰凌分散引出，进一步消除安全隐患。\\n']\n",
            "[1, 1, 0.99860024, '这两天，江西三清山出现壮丽的瀑布云景观。大片云雾聚集在峡谷中，吸引了不少游人前来。\\n']\n",
            "[1, 1, 0.9987618, '早春二月，在安徽歙县卖花渔村，盛开的梅花姹紫嫣红，构成一幅田园风景图，吸引了不少新春赏花的市民来游玩。\\n']\n",
            "[1, 1, 0.98376596, '位于叙利亚首都大马士革东郊的东古塔地区的冲突近日持续升级。西方媒体报道称，冲突造成包括不少平民在内的大量人员伤亡，叙利亚政府对此负有责任。叙利亚政府则表示，政府是在回击反政府武装对大马士革的袭击。\\n有媒体报道称，东古塔地区近几日的冲突已导致至少416人死亡、超过2100人受伤。叙政府军和俄罗斯战机被指向住宅区和医疗设施投掷炸弹。对此，叙利亚政府和俄方均予以否认，叙政府还指责反政府武装将平民当作人盾。\\n此外，还有报道说，叙政府向东古塔投放了呼吁平民撤离的传单，上面还印有安全撤离路线。\\n东古塔位于大马士革东部郊区，处于反政府武装控制下。叙政府在2013年就已完成对东古塔的包围，而为防止叙利亚进一步分裂，叙政府决定首先收复北部边境重镇阿勒颇，达到目的后，开始将目标转向东古塔。但由于东古塔属于城镇地区，建筑密集，加上反政府武装在那里长期布局，政府军只能逐栋楼推进，经常遭到伏击，伤亡惨重，推进缓慢。\\n当地时间22日，联合国安理会就东古塔问题召开紧急公开会，讨论科威特和瑞典提出的一份呼吁“在叙全境实施30天停火”决议草案。但由于各方分歧严重，尚未就草案达成一致。\\n中国常驻联合国代表马朝旭当天表示，当务之急是支持叙利亚各方在联合国斡旋下，尽快恢复谈判，寻求各方均可接受的解决方案。\\n俄罗斯常驻联合国代表涅边贾说，在叙停火很重要，但草案缺乏可行的实施细节，俄方会提出修正意见。涅边贾还谴责一些媒体和组织发动舆论战，制造谣言，抹黑叙利亚政府，为推进叙利亚和平进程制造障碍。\\n']\n",
            "[2, 1, 0.98659414, '韩国政府22日发表声明，强烈抗议日本政府派遣副部长级官员参加地方政府举行的所谓“竹岛日”纪念活动。\\n声明强调，无论从历史、地理还是国际法上来说，独岛（也就是日本所称的竹岛）都毋庸置疑是韩国的固有领土。声明敦促日本政府停止不当主张，正视历史。\\n当天，部分韩国民众也在日本驻韩国大使馆门前举行抗议集会。\\n独岛（也就是日本所称的“竹岛”）位于朝鲜半岛东部海域，面积约0.18平方公里。韩国、朝鲜和日本都宣称对该岛拥有主权，而韩国实际控制这一岛屿。\\n日本岛根县1905年正式将该岛纳入其所谓的管辖范围。2005年3月，岛根县议会通过了将每年2月22日定为所谓“竹岛日”的条例，并从次年起在每年的2月22日举行纪念活动。\\n']\n",
            "[2, 2, 0.9969936, '据俄罗斯《消息报》22日报道，俄罗斯国防部日前开始为军队高级指挥官配备新型俄制加密手机。这款手机造价11.5万卢布、约合人民币1.29万元，可以通过民用移动网络进行通话，但使用俄方的加密军事通讯线路。手机还能有效规避物理干扰，并可在摄氏零下20℃至零上50℃的温度内运行。专家称，借助这一设备，俄军指挥官可在任何有网络的地方对军队进行安全、有效的指挥。\\n']\n",
            "[2, 2, 0.9846073, '22日，一支来自美国的民间代表团在约旦河西岸城市拉姆安拉会见巴勒斯坦代表，了解巴勒斯坦人对目前巴以局势的看法。这期间，部分巴勒斯坦人在会场外抗议，表示不欢迎美国人来访。美方人员离开时，还遭到抗议者投掷的鸡蛋袭击。\\n美国总统特朗普去年12月宣布，美国承认耶路撒冷是以色列的首都，引发巴勒斯坦方面强烈不满。\\n']\n",
            "[2, 2, 0.9969671, '22日，日本高田公司在美国的核心子公司“TK控股”宣布，以6.5亿美元、约合41.3亿元人民币的民事罚金，就高田气囊在美国导致至少22人死亡一事与美国44个州的检方达成和解。\\n据调查，高田安全气囊充气设备在一些情况下可能发生破裂，致伤乘客。因大量召回安全气囊，高田公司财务状况急剧恶化，该公司与“TK控股”均已申请破产保护。\\n']\n",
            "[2, 2, 0.9936379, '美国私企太空探索技术公司22日发射一枚“猎鹰9”火箭，在将一颗西班牙卫星送入轨道的同时，还搭载了太空探索技术公司为其卫星互联网项目发射的首批测试卫星。太空探索技术公司将搭建所谓“星链”网络，目的是从太空向地球提供无处不在的高速互联网接入服务。\\n']\n",
            "[0, 0, 0.9999889, '中共中央政治局2月24日召开会议，决定今年2月26日至28日在北京召开中国共产党第十九届中央委员会第三次全体会议。中共中央总书记习近平主持会议。\\n会议讨论了中共中央政治局向中央委员会作的工作报告。\\n中共中央政治局听取了《中共中央关于深化党和国家机构改革的决定》稿在党内外一定范围征求意见的情况报告，讨论了《深化党和国家机构改革的方案》稿，决定根据这次会议讨论的意见进行修改后将文件稿提请十九届三中全会审议。\\n会议指出，党和国家机构职能体系是中国特色社会主义制度的重要组成部分，是我们党治国理政的重要保障。党的十八大以来，以习近平同志为核心的党中央明确提出，全面深化改革的总目标是完善和发展中国特色社会主义制度、推进国家治理体系和治理能力现代化。我们适应统筹推进“五位一体”总体布局、协调推进“四个全面”战略布局的要求，加强党的领导，坚持问题导向，突出重点领域，深化党和国家机构改革，在一些重要领域和关键环节取得重大进展，为党和国家事业取得历史性成就、发生历史性变革提供了有力保障。当前，面对新时代新任务提出的新要求，党和国家机构设置和职能配置同统筹推进“五位一体”总体布局、协调推进“四个全面”战略布局的要求还不完全适应，同实现国家治理体系和治理能力现代化的要求还不完全适应。\\n会议强调，深化党和国家机构改革，是新时代坚持和发展中国特色社会主义的必然要求，是加强党的长期执政能力建设的必然要求，是社会主义制度自我完善和发展的必然要求，是实现“两个一百年”奋斗目标、建设社会主义现代化国家、实现中华民族伟大复兴的必然要求。全党必须统一思想、坚定信心、抓住机遇，在全面深化改革进程中，下决心解决党和国家机构职能体系中存在的障碍和弊端，更好发挥我国社会主义制度优越性。要以加强党的全面领导为统领，以国家治理体系和治理能力现代化为导向，以推进党和国家机构职能优化协同高效为着力点，改革机构设置，优化职能配置，深化转职能、转方式、转作风，提高效率效能，为决胜全面建成小康社会、开启全面建设社会主义现代化国家新征程、实现中华民族伟大复兴的中国梦提供有力制度保障。\\n会议讨论了向第十三届全国人民代表大会第一次会议推荐的国家机构领导人员建议人选和向政协第十三届全国委员会第一次会议推荐的全国政协领导人员建议人选。\\n会议确定将以上内容作为十九届三中全会的议题。\\n会议讨论了国务院拟提请第十三届全国人民代表大会第一次会议审议的《政府工作报告》稿。会议认为，过去5年，面对极其错综复杂的国内外形势，以习近平同志为核心的党中央团结带领全国各族人民砥砺前行，推动经济社会发展取得历史性成就、发生历史性变革。刚刚过去的2017年，经济社会发展主要预期目标全面实现，一些重要指标好于预期，经济运行呈现出增长与质量、结构、效益相得益彰的良好局面。\\n会议强调，今年是全面贯彻党的十九大精神的开局之年，是改革开放40周年，是决胜全面建成小康社会、实施“十三五”规划承上启下的关键一年。做好政府工作，要在以习近平同志为核心的党中央坚强领导下，以邓小平理论、“三个代表”重要思想、科学发展观、习近平新时代中国特色社会主义思想为指导，全面深入贯彻党的十九大和十九届二中全会精神，坚持和加强党的全面领导，坚持稳中求进工作总基调，坚持新发展理念，紧扣我国社会主要矛盾变化，按照高质量发展的要求，统筹推进“五位一体”总体布局和协调推进“四个全面”战略布局，坚持以供给侧结构性改革为主线，统筹推进稳增长、促改革、调结构、惠民生、防风险各项工作，大力推进改革开放，创新和完善宏观调控，推动质量变革、效率变革、动力变革，特别在打好防范化解重大风险、精准脱贫、污染防治的攻坚战方面取得扎实进展，引导和稳定预期，加强和改善民生，促进经济社会持续健康发展。\\n会议指出，实现今年经济社会发展目标任务，要保持宏观政策连续性稳定性，实施好积极的财政政策和稳健的货币政策。要深入推进供给侧结构性改革，加快建设创新型国家，深化基础性关键领域改革，坚决打好三大攻坚战，实施乡村振兴战略，推进区域协调发展战略，扩大消费和促进有效投资，推动形成全面开放新格局，提高保障和改善民生水平。要全面加强政府自身建设，坚持依宪施政、依法行政，提高政府效能，更好为人民服务。\\n会议还研究了其他事项。\\n']\n",
            "[0, 0, 0.9999802, '著名归侨、法学家、教育家和社会活动家，中国致公党的杰出领导人，中国人民政治协商会议第九届、十届全国委员会副主席，中国致公党第十一届、十二届中央委员会主席，中国共产党的优秀党员罗豪才同志的遗体，24日在北京八宝山革命公墓火化。\\n罗豪才同志因病于2018年2月12日9时02分在北京逝世，享年83岁。\\n24日上午，八宝山革命公墓礼堂庄严肃穆，哀乐低回。正厅上方悬挂着黑底白字的横幅“沉痛悼念罗豪才同志”，横幅下方是罗豪才同志的遗像。罗豪才同志的遗体安卧在鲜花翠柏丛中，身上覆盖着鲜红的中国共产党党旗。\\n上午9时许，习近平、李克强、张德江、俞正声、张高丽、栗战书、汪洋、赵乐际、韩正等，在哀乐声中缓步来到罗豪才同志的遗体前肃立默哀，向罗豪才同志的遗体三鞠躬，并与罗豪才同志亲属一一握手，表示慰问。\\n罗豪才同志病重期间和逝世后，习近平、李克强、张德江、俞正声、张高丽、栗战书、汪洋、王沪宁、赵乐际、韩正、江泽民、胡锦涛等同志，前往医院看望或通过各种形式对罗豪才同志逝世表示沉痛哀悼并向其亲属表示深切慰问。\\n党和国家有关领导同志前往送别或以各种方式表示哀悼。中央和国家机关有关部门负责同志，罗豪才同志生前友好和家乡代表也前往送别。\\n']\n",
            "[0, 0, 0.99998915, '十二届全国人大常委会第三十三次会议在完成各项议程后，24日下午在北京人民大会堂闭幕。张德江委员长主持闭幕会。\\n会议表决通过了修订后的全国人大常委会关于实行宪法宣誓制度的决定，通过了全国人大常委会关于延长授权国务院在实施股票发行注册制改革中调整适用证券法有关规定期限的决定。\\n会议原则通过了全国人大常委会工作报告稿。委员长会议将根据审议意见对报告稿作必要修改完善后，提请十三届全国人大一次会议审议。委员长会议提议，由张德江委员长代表常委会向十三届全国人大一次会议作工作报告。\\n会议表决通过了全国人大常委会代表资格审查委员会关于十三届全国人大代表的代表资格的审查报告，确认2980名代表的代表资格全部有效，决定会后发表公告，公布十三届全国人大代表名单。\\n会议表决通过了全国人大常委会代表资格审查委员会关于个别十二届全国人大代表的代表资格的报告。\\n会议表决通过了全国人大常委会关于撤销杨晶同志的国务委员、国务院秘书长职务的决定。\\n会议表决通过了全国人大常委会批准任命中国人民解放军选举委员会个别委员的名单。\\n会议还表决通过了其他任免案。\\n会议表决通过了十三届全国人大一次会议议程草案，决定提请十三届全国人大一次会议预备会议审议；通过了十三届全国人大一次会议主席团和秘书长名单草案，决定提请十三届全国人大一次会议预备会议审议；通过了十三届全国人大一次会议列席人员名单。\\n会议在完成各项表决事项后，张德江发表讲话。\\n张德江说，本次会议是十二届全国人大常委会最后一次例会。本次会议修订通过的关于实行宪法宣誓制度的决定，贯彻党的十九大和十九届二中全会精神，完善了誓词中有关奋斗目标的表述，增加了与监察委员会有关的内容，规定了宣誓仪式应当奏唱国歌。\\n张德江指出，会议审议通过代表资格审查报告，确认35个选举单位选举的2980名代表的代表资格全部有效。为新一届全国人民代表大会依法行使职权奠定了坚实基础。\\n张德江指出，十三届全国人大一次会议召开在即。开好这次会议，对贯彻落实习近平新时代中国特色社会主义思想和党的十九大精神，实现党中央确定的各项目标任务，保证党和国家事业承前启后、继往开来，具有十分重要的意义。要进一步把思想和行动统一到党中央的决策部署上来，确保十三届全国人大一次会议胜利召开、圆满成功。\\n']\n",
            "[0, 0, 0.9999877, '日前，经中共中央批准，中央纪律检查委员会对十八届中央书记处书记、国务委员兼国务院秘书长杨晶严重违纪问题立案审查。\\n经查，杨晶同志严重违反政治纪律和政治规矩、廉洁纪律，长期与不法企业主、不法社会人员不当交往，为对方利用其职务影响实施违法行为、谋取巨额私利提供便利条件，其亲属收受对方财物。在审查中，杨晶同志能够认错、悔错。\\n依据《中国共产党纪律处分条例》等有关规定，经中央纪委常委会会议研究并报中央政治局会议审议，决定给予杨晶同志留党察看一年、行政撤职处分，降为正部长级，按程序办理。\\n']\n",
            "[0, 0, 0.99998844, '全面贯彻党的十九大精神，以永远在路上的执着把全面从严治党引向深入。今天，随着十九届中央巡视组进驻了河南省、国家食品药品监督管理总局、新华社和中国核工业集团有限公司，十九届中央第一轮巡视的30个地区和单位进驻全部完成。\\n2月22日一大早，春节假期后第一个工作日，十九届中央第一轮巡视进驻工作正式拉开帷幕。\\n根据中央巡视工作的统一部署，中央巡视工作领导小组有关成员和各中央巡视组组长首先向被巡视地区和单位党组织主要负责人传达了习近平总书记关于巡视工作的重要讲话精神。中央巡视工作领导小组副组长杨晓渡、陈希参加了巡视进驻工作。\\n记者在现场了解到，十九届中央第一轮巡视将牢牢把握政治巡视定位，贯彻巡视工作方针，坚持以习近平新时代中国特色社会主义思想为指导，以“四个意识”为政治标杆，突出问题导向，盯住关键少数，查找政治偏差。\\n巡视期间，各中央巡视组将聚焦坚持和加强党的全面领导、新时代党的建设总要求、全面从严治党，以党的政治建设为统领，把坚决维护以习近平同志为核心的党中央权威和集中统一领导作为根本政治任务，围绕党的政治建设、思想建设、组织建设、作风建设、纪律建设和夺取反腐败斗争压倒性胜利等方面，深入检查被巡视党组织学习贯彻习近平新时代中国特色社会主义思想情况，贯彻落实党章和党的十九大精神情况，落实意识形态工作责任制情况，选人用人和基层党组织建设情况，执行中央八项规定精神和整治“四风”情况，党规党纪执行情况，领导干部廉洁自律和整治群众身边腐败问题情况，以及十八届中央巡视整改落实等情况。\\n据了解，此次巡视还将被巡视地区涉及的10个副省级城市党委和人大常委会、政府、政协党组主要负责人纳入巡视监督范围，巡视组将对有关重要情况进行专题了解。\\n各中央巡视组将在被巡视地区和单位工作3个月，其间设立专门值班电话和邮政信箱，受理反映被巡视地区和单位党组织领导班子及其成员、下一级党组织领导班子主要负责人和重要岗位领导干部问题的来信来电来访。其他不属于巡视受理范围的信访问题，将按规定由被巡视地区和单位及有关部门认真处理。\\n']\n",
            "[0, 0, 0.99997586, '春运还在继续，全国铁路客流保持高位运行，累计发送旅客已突破2亿人次。今天，琼州海峡航道通航条件良好，海口市出岛滞留车辆呈下降趋势。\\n今天全国铁路预计发送旅客1150万人次。\\n为应对客流高峰，武汉等火车站新安装立体安检仪，提高出行安全系数；兰州火车站很多青年志愿者活跃在服务一线，他们帮大家拿行李、做引导、维持车站秩序，并帮助乘客使用自助售取票机。\\n今天公路出行整体畅通，预计明天下午两点至四点大中城市将迎来返程车流高峰，特别是长三角、珠三角车流将明显增长。\\n今天，海口出岛车辆大滞留进入第6天。琼州海峡能见度在1000米以上，通航条件良好。53艘轮渡在航道上快速运转，平均每小时运送超过1000辆车出岛。截至今天下午五点半，海口港口内外的滞留车辆由之前的上万辆下降至8000多辆，滞留车辆等待上车的时间也缩短了一半。气象部门预计，今天夜间至明天早晨琼州海峡还会有雾，出岛车辆滞留情况还将持续一到两天。\\n']\n",
            "[0, 0, 0.9999812, '新春佳节里，福建和陕西通过文艺活动，不仅让老百姓享受了一场节日文化大餐，还把新时代新生活的美好愿景送进了千家万户。\\n假期里，福建省芳华越剧团把戏台搬到了福州三坊七巷的非遗博览苑。剧团采用小品、戏曲、魔术等形式，排演了多个文艺节目。\\n以春节为契机，福建展开宣讲文艺巡演、文化惠民服务活动。在福建省海峡民间艺术馆里，主题楹联书法展正在展出，为市民新春假期又提供了一个好去处。\\n为了让年味更浓，福建还举办了“两岸小围炉——海峡两岸少儿春节联欢晚会”等文艺演出，本土特色吸引了不少观众。\\n民间文艺尽显传统文化魅力。在陕西，花车巡游闪亮登场，中华大鼓、韩城行鼓等多支鼓乐组成庞大鼓阵，热闹的民俗活动吸引了八方游客。\\n不仅如此，这两天咸阳民间艺术展正式开展，群众系列文化展演活动在安康举行，为陕西市民献上了一道又一道文化大餐。\\n']\n",
            "[1, 0, 0.99348027, '韩国平昌冬奥会明晚就要落下帷幕，作为下届冬奥会主办城市的北京将在闭幕式上从平昌接过奥运旗帜，并进行“八分钟”的表演，标志着冬奥会正式进入北京时间。今天上午，北京冬奥组委和“北京八分钟”表演团队在平昌召开联合发布会，介绍北京冬奥会的准备情况。\\n据介绍，北京冬奥会将秉持绿色、共享、开放和廉洁的办赛理念，共计划使用3个赛区的26个场馆，其中大部分是对现有场馆进行改造完成的，以符合国际奥委会环保、节约的办赛宗旨。\\n“北京八分钟”表演昨晚进行了排练，总导演张艺谋表示，希望通过这八分钟向世界人民展示中国的精彩。另据介绍，北京冬奥组委在春节期间推出的“冬奥有我”新媒体互动活动，参与人数已经超过7000万，参与者的头像将有机会出现在闭幕式北京八分钟的表演上。\\n']\n",
            "[1, 1, 0.9978081, '国家统计局今天发布数据显示，1月份，70个大中城市中，一线城市新建商品住宅销售价格环比由上月持平转为下降，二三线城市新建商品住宅和二手住宅销售价格环比涨幅回落。\\n']\n",
            "[1, 1, 0.99831927, '国家发改委、民政部等40个部门和单位联合签署备忘录，明确26条激励措施和24条惩戒措施，对慈善捐赠领域相关主体，实施守信联合激励和失信联合惩戒，标志着慈善领域正式纳入社会信用管理体系。\\n']\n",
            "[1, 1, 0.99873227, '民政部日前公布了第三批40家涉嫌非法社会组织名单，目前已公布255家，各地已查处取缔300多个，公众可通过民政部官方网站或官微查询社会组织合法性，以免上当受骗。\\n']\n",
            "[1, 1, 0.9988014, '2017年，祁连山青海境内的监测红外相机一共拍摄到251次雪豹影像，其中在油葫芦区域内拍摄到5只雪豹幼崽、4只成年雪豹同框的珍贵画面。此外，红外相机还拍摄到23种野生兽类和54种野生鸟类。\\n']\n",
            "[1, 1, 0.9818744, '联合国安理会23日临时决定，将一份敦促叙利亚全境停火30天的决议草案推迟至当地时间24日中午，也就是北京时间明天凌晨进行表决。\\n这份决议草案呼吁有关各方停火，解除对叙利亚首都大马士革东郊东古塔地区等4个区域的围困，确保运输通道畅通，以维持对这些区域居民食品和药品的供应。但停火不包含打击极端组织、“基地”组织的军事行动。\\n俄罗斯与美国、英国、法国等国对这份决议草案分歧明显。俄罗斯方面称，支持这份决议草案的前提是确保冲突各方都能遵守停火决议。俄罗斯外长拉夫罗夫当天表示，东古塔地区交火问题的根源在于恐怖组织“征服阵线”及其同伙长期占据当地，并时常对叙利亚首都大马士革市区发动攻击，位于该市内的俄驻叙大使馆及周边区域屡遭攻击，但俄方从未看到美国及其盟友把“征服阵线”视为打击对象，并拒绝就“征服阵线”遵守安理会的决议草案作出保证。而美英法等国则认为，俄罗斯的这一要求只是为了给叙政府军在战场上争取更多时间。\\n23日是东古塔地区冲突升级的第六天，据“叙利亚人权观察组织”称，六天来，东古塔地区已有462人死亡。而据叙利亚官方媒体的报道，反政府武装对大马士革的炮击造成一人死亡、58人受伤。\\n']\n",
            "[2, 1, 0.9043315, '美国国务院23日宣布，美国设在耶路撒冷的大使馆计划于5月开馆。巴勒斯坦警告美国不要一意孤行。\\n美国国务院发言人诺尔特当天发表声明称，这一开馆时间恰逢以色列建国70周年。新的美国大使馆将临时设在美国驻耶路撒冷总领事馆的领事业务办公地，并将于明年年底前完成扩建。美国正在寻找合适地址修建永久性驻以色列大使馆，其规划和建设将是一项长期工作。\\n巴勒斯坦总统府当天发表声明，警告美国不要一意孤行，将其驻以色列使馆从特拉维夫迁至耶路撒冷。声明称，美国单方面的行动“无助于实现和平并且没有法律依据”。美国任何不符合国际法的举动只会阻碍地区实现和平、制造消极氛围。\\n去年12月，美国总统特朗普宣布美国承认耶路撒冷为以色列首都，并将启动将美驻以使馆从特拉维夫迁往耶路撒冷的进程。耶路撒冷问题是阻碍巴以和平进程的症结之一。以色列1967年占领东耶路撒冷后，单方面宣布整个耶路撒冷为其“永久、不可分割的”首都。巴勒斯坦方面则要求建立一个以东耶路撒冷为首都的巴勒斯坦国。国际社会普遍不承认以色列对整个耶路撒冷拥有主权。\\n']\n",
            "[1, 2, 0.61314267, '23日是俄罗斯祖国保卫者日。俄罗斯举行了多种纪念活动，缅怀在历次战争中为国捐躯的烈士，并向现役军人致敬。俄罗斯总统普京当天在克里姆林宫出席军功授勋仪式时表示，俄军各军兵种在近年取得应有的发展，俄军战备水平还在叙利亚反恐战争中得到检验，协助叙政府军击溃了恐怖组织。如果放松军队建设，俄罗斯将会遇到想象不到的问题和威胁。\\n']\n",
            "[2, 2, 0.9974149, '美国佛罗里达布劳沃德县警方22日表示，警方调取的监控录像显示，在该县14日发生的校园枪击案中，持枪校警彼得森在第一声枪响后90秒内赶到现场，但却在教学楼外停留了四分钟始终没有进入，而当天的枪击案只持续了六分钟。警方认为，这名校警错过了及时阻止枪手暴行的机会。目前这名54岁的校警在被停职后已经辞职。不过警方目前还没有计划公布这段监控录像。美国总统特朗普23日也指责这名校警没有尽职。14日发生的这起枪击案，造成17人死亡、多人受伤。\\n']\n",
            "[2, 2, 0.99685234, '索马里首都摩加迪沙23日发生两起汽车炸弹袭击事件，其中一起袭击发生在索马里总统府附近，另一起发生在国家情报与安全机构总部附近。两起袭击造成至少38人死亡、多人受伤。与“基地”组织有关联的极端组织索马里“青年党”宣称制造了袭击。\\n']\n",
            "[0, 0, 0.9999889, '中共中央政治局2月24日下午就我国宪法和推进全面依法治国举行第四次集体学习。中共中央总书记习近平在主持学习时强调，决胜全面建成小康社会、开启全面建设社会主义现代化国家新征程、实现中华民族伟大复兴的中国梦，推进国家治理体系和治理能力现代化、提高党长期执政能力，必须更加注重发挥宪法的重要作用。要坚持党的领导、人民当家作主、依法治国有机统一，加强宪法实施和监督，把国家各项事业和各项工作全面纳入依法治国、依宪治国的轨道，把实施宪法提高到新的水平。\\n中国社会科学院学部委员、研究员李林同志就这个问题作了讲解，并谈了意见和建议。\\n习近平在主持学习时发表了讲话。他强调，中国共产党登上中国历史舞台后，在推进中国革命、建设、改革的实践中，高度重视宪法和法制建设。从建立革命根据地开始，我们党就进行了制定和实施人民宪法的探索和实践。新中国成立后，在我们党领导下，1954年9月召开的第一届全国人民代表大会第一次会议通过了《中华人民共和国宪法》，为巩固社会主义政权和进行社会主义建设发挥了重要保障和推动作用，也为改革开放新时期我国现行宪法的制定和完善奠定了基础。\\n习近平指出，党的十一届三中全会开启了改革开放历史新时期，发展社会主义民主、健全社会主义法制成为党和国家坚定不移的方针。我国现行宪法即1982年宪法就是在这个历史背景下产生的。这部宪法深刻总结了我国社会主义建设正反两方面经验，适应我国改革开放和社会主义现代化建设、加强社会主义民主法制建设的新要求，确立了党的十一届三中全会之后的路线方针政策，把集中力量进行社会主义现代化建设规定为国家的根本任务，就社会主义民主法制建设作出一系列规定，为改革开放和社会主义现代化建设提供了有力法制保障。我国宪法是治国理政的总章程，必须体现党和人民事业的历史进步，必须随着党领导人民建设中国特色社会主义实践的发展而不断完善发展。\\n习近平强调，回顾我们党领导的宪法建设史，可以得出这样几点结论。一是制定和实施宪法，推进依法治国，建设法治国家，是实现国家富强、民族振兴、社会进步、人民幸福的必然要求。二是我国现行宪法是在深刻总结我国社会主义革命、建设、改革的成功经验基础上制定和不断完善的，是我们党领导人民长期奋斗历史逻辑、理论逻辑、实践逻辑的必然结果。三是只有中国共产党才能坚持立党为公、执政为民，充分发扬民主，领导人民制定出体现人民意志的宪法，领导人民实施宪法。四是我们党高度重视发挥宪法在治国理政中的重要作用，坚定维护宪法尊严和权威，推动宪法完善和发展，这是我国宪法保持生机活力的根本原因所在。宪法作为上层建筑，一定要适应经济基础的变化而变化。\\n习近平指出，我国宪法实现了党的主张和人民意志的高度统一，具有显著优势、坚实基础、强大生命力。宪法是国家根本法，是国家各种制度和法律法规的总依据。我们坚定中国特色社会主义道路自信、理论自信、制度自信、文化自信，要对我国宪法确立的国家指导思想、发展道路、奋斗目标充满自信，对我国宪法确认的中国共产党领导和我国社会主义制度充满自信，对我国宪法确认的我们党领导人民创造的社会主义先进文化和中华优秀传统文化充满自信。\\n习近平强调，宪法具有最高的法律地位、法律权威、法律效力。我们党首先要带头尊崇和执行宪法，把领导人民制定和实施宪法法律同党坚持在宪法法律范围内活动统一起来。任何组织或者个人都不得有超越宪法法律的特权。一切违反宪法法律的行为，都必须予以追究。要加快形成完备的法律规范体系、高效的法治实施体系、严密的法治监督体系、有力的法治保障体系，形成完善的党内法规体系，用科学有效、系统完备的制度体系保证宪法实施。要完善宪法监督制度，积极稳妥推进合宪性审查工作，加强备案审查制度和能力建设。\\n习近平指出，要加强宪法学习宣传教育，弘扬宪法精神、普及宪法知识，为加强宪法实施和监督营造良好氛围。宪法法律的权威源自人民的内心拥护和真诚信仰，加强宪法学习宣传教育是实施宪法的重要基础。要在全社会广泛开展尊崇宪法、学习宪法、遵守宪法、维护宪法、运用宪法的宣传教育，弘扬宪法精神，弘扬社会主义法治意识，增强广大干部群众的宪法意识，使全体人民成为宪法的忠实崇尚者、自觉遵守者、坚定捍卫者。要坚持从青少年抓起，把宪法法律教育纳入国民教育体系，引导青少年从小掌握宪法法律知识、树立宪法法律意识、养成遵法守法习惯。要完善国家工作人员学习宪法法律的制度，推动领导干部加强宪法学习，增强宪法意识，带头尊崇宪法、学习宪法、遵守宪法、维护宪法、运用宪法，做尊法学法守法用法的模范。\\n']\n",
            "[0, 0, 0.99998766, '中国共产党中央委员会日前向全国人民代表大会常务委员会提出关于修改《中华人民共和国宪法》部分内容的建议。建议修改的内容有二十一处，全文如下：\\n全国人民代表大会常务委员会：\\n根据新时代坚持和发展中国特色社会主义的新形势新实践，中国共产党中央委员会提出关于修改《中华人民共和国宪法》部分内容的建议如下：\\n一、宪法序言第七自然段中“在马克思列宁主义、毛泽东思想、邓小平理论和‘三个代表’重要思想指引下”修改为“在马克思列宁主义、毛泽东思想、邓小平理论、‘三个代表’重要思想、科学发展观、习近平新时代中国特色社会主义思想指引下”；“健全社会主义法制”修改为“健全社会主义法治”；在“自力更生，艰苦奋斗”前增写“贯彻新发展理念”；“推动物质文明、政治文明和精神文明协调发展，把我国建设成为富强、民主、文明的社会主义国家”修改为“推动物质文明、政治文明、精神文明、社会文明、生态文明协调发展，把我国建设成为富强民主文明和谐美丽的社会主义现代化强国，实现中华民族伟大复兴”。这一自然段相应修改为：“中国新民主主义革命的胜利和社会主义事业的成就，是中国共产党领导中国各族人民，在马克思列宁主义、毛泽东思想的指引下，坚持真理，修正错误，战胜许多艰难险阻而取得的。我国将长期处于社会主义初级阶段。国家的根本任务是，沿着中国特色社会主义道路，集中力量进行社会主义现代化建设。中国各族人民将继续在中国共产党领导下，在马克思列宁主义、毛泽东思想、邓小平理论、‘三个代表’重要思想、科学发展观、习近平新时代中国特色社会主义思想指引下，坚持人民民主专政，坚持社会主义道路，坚持改革开放，不断完善社会主义的各项制度，发展社会主义市场经济，发展社会主义民主，健全社会主义法治，贯彻新发展理念，自力更生，艰苦奋斗，逐步实现工业、农业、国防和科学技术的现代化，推动物质文明、政治文明、精神文明、社会文明、生态文明协调发展，把我国建设成为富强民主文明和谐美丽的社会主义现代化强国，实现中华民族伟大复兴。”\\n二、宪法序言第十自然段中“在长期的革命和建设过程中”修改为“在长期的革命、建设、改革过程中”；“包括全体社会主义劳动者、社会主义事业的建设者、拥护社会主义的爱国者和拥护祖国统一的爱国者的广泛的爱国统一战线”修改为“包括全体社会主义劳动者、社会主义事业的建设者、拥护社会主义的爱国者、拥护祖国统一和致力于中华民族伟大复兴的爱国者的广泛的爱国统一战线”。这一自然段相应修改为：“社会主义的建设事业必须依靠工人、农民和知识分子，团结一切可以团结的力量。在长期的革命、建设、改革过程中，已经结成由中国共产党领导的，有各民主党派和各人民团体参加的，包括全体社会主义劳动者、社会主义事业的建设者、拥护社会主义的爱国者、拥护祖国统一和致力于中华民族伟大复兴的爱国者的广泛的爱国统一战线，这个统一战线将继续巩固和发展。中国人民政治协商会议是有广泛代表性的统一战线组织，过去发挥了重要的历史作用，今后在国家政治生活、社会生活和对外友好活动中，在进行社会主义现代化建设、维护国家的统一和团结的斗争中，将进一步发挥它的重要作用。中国共产党领导的多党合作和政治协商制度将长期存在和发展。”\\n三、宪法序言第十一自然段中“平等、团结、互助的社会主义民族关系已经确立，并将继续加强。”修改为：“平等团结互助和谐的社会主义民族关系已经确立，并将继续加强。”\\n四、宪法序言第十二自然段中“中国革命和建设的成就是同世界人民的支持分不开的”修改为“中国革命、建设、改革的成就是同世界人民的支持分不开的”；“中国坚持独立自主的对外政策，坚持互相尊重主权和领土完整、互不侵犯、互不干涉内政、平等互利、和平共处的五项原则”后增加“坚持和平发展道路，坚持互利共赢开放战略”；“发展同各国的外交关系和经济、文化的交流”修改为“发展同各国的外交关系和经济、文化交流，推动构建人类命运共同体”。这一自然段相应修改为：“中国革命、建设、改革的成就是同世界人民的支持分不开的。中国的前途是同世界的前途紧密地联系在一起的。中国坚持独立自主的对外政策，坚持互相尊重主权和领土完整、互不侵犯、互不干涉内政、平等互利、和平共处的五项原则，坚持和平发展道路，坚持互利共赢开放战略，发展同各国的外交关系和经济、文化交流，推动构建人类命运共同体；坚持反对帝国主义、霸权主义、殖民主义，加强同世界各国人民的团结，支持被压迫民族和发展中国家争取和维护民族独立、发展民族经济的正义斗争，为维护世界和平和促进人类进步事业而努力。”\\n五、宪法第一条第二款“社会主义制度是中华人民共和国的根本制度。”后增写一句，内容为：“中国共产党领导是中国特色社会主义最本质的特征。”\\n六、宪法第三条第三款“国家行政机关、审判机关、检察机关都由人民代表大会产生，对它负责，受它监督。”修改为：“国家行政机关、监察机关、审判机关、检察机关都由人民代表大会产生，对它负责，受它监督。”\\n七、宪法第四条第一款中“国家保障各少数民族的合法的权利和利益，维护和发展各民族的平等、团结、互助关系。”修改为：“国家保障各少数民族的合法的权利和利益，维护和发展各民族的平等团结互助和谐关系。”\\n八、宪法第二十四条第二款中“国家提倡爱祖国、爱人民、爱劳动、爱科学、爱社会主义的公德”修改为“国家倡导社会主义核心价值观，提倡爱祖国、爱人民、爱劳动、爱科学、爱社会主义的公德”。这一款相应修改为：“国家倡导社会主义核心价值观，提倡爱祖国、爱人民、爱劳动、爱科学、爱社会主义的公德，在人民中进行爱国主义、集体主义和国际主义、共产主义的教育，进行辩证唯物主义和历史唯物主义的教育，反对资本主义的、封建主义的和其他的腐朽思想。”\\n九、宪法第二十七条增加一款，作为第三款：“国家工作人员就职时应当依照法律规定公开进行宪法宣誓。”\\n十、宪法第六十二条“全国人民代表大会行使下列职权”中增加一项，作为第七项“（七）选举国家监察委员会主任”，第七项至第十五项相应改为第八项至第十六项。\\n十一、宪法第六十三条“全国人民代表大会有权罢免下列人员”中增加一项，作为第四项“（四）国家监察委员会主任”，第四项、第五项相应改为第五项、第六项。\\n十二、宪法第六十五条第四款“全国人民代表大会常务委员会的组成人员不得担任国家行政机关、审判机关和检察机关的职务。”修改为：“全国人民代表大会常务委员会的组成人员不得担任国家行政机关、监察机关、审判机关和检察机关的职务。”\\n十三、宪法第六十七条“全国人民代表大会常务委员会行使下列职权”中第六项“（六）监督国务院、中央军事委员会、最高人民法院和最高人民检察院的工作”修改为“（六）监督国务院、中央军事委员会、国家监察委员会、最高人民法院和最高人民检察院的工作”；增加一项，作为第十一项“（十一）根据国家监察委员会主任的提请，任免国家监察委员会副主任、委员”，第十一项至第二十一项相应改为第十二项至第二十二项。\\n十四、宪法第七十九条第三款“中华人民共和国主席、副主席每届任期同全国人民代表大会每届任期相同，连续任职不得超过两届。”修改为：“中华人民共和国主席、副主席每届任期同全国人民代表大会每届任期相同。”\\n十五、宪法第八十九条“国务院行使下列职权”中第六项“（六）领导和管理经济工作和城乡建设”修改为“（六）领导和管理经济工作和城乡建设、生态文明建设”；第八项“（八）领导和管理民政、公安、司法行政和监察等工作”修改为“（八）领导和管理民政、公安、司法行政等工作”。\\n十六、宪法第一百条增加一款，作为第二款：“设区的市的人民代表大会和它们的常务委员会，在不同宪法、法律、行政法规和本省、自治区的地方性法规相抵触的前提下，可以依照法律规定制定地方性法规，报本省、自治区人民代表大会常务委员会批准后施行。”\\n十七、宪法第一百零一条第二款中“县级以上的地方各级人民代表大会选举并且有权罢免本级人民法院院长和本级人民检察院检察长。”修改为：“县级以上的地方各级人民代表大会选举并且有权罢免本级监察委员会主任、本级人民法院院长和本级人民检察院检察长。”\\n十八、宪法第一百零三条第三款“县级以上的地方各级人民代表大会常务委员会的组成人员不得担任国家行政机关、审判机关和检察机关的职务。”修改为：“县级以上的地方各级人民代表大会常务委员会的组成人员不得担任国家行政机关、监察机关、审判机关和检察机关的职务。”\\n十九、宪法第一百零四条中“监督本级人民政府、人民法院和人民检察院的工作”修改为“监督本级人民政府、监察委员会、人民法院和人民检察院的工作”。这一条相应修改为：“县级以上的地方各级人民代表大会常务委员会讨论、决定本行政区域内各方面工作的重大事项；监督本级人民政府、监察委员会、人民法院和人民检察院的工作；撤销本级人民政府的不适当的决定和命令；撤销下一级人民代表大会的不适当的决议；依照法律规定的权限决定国家机关工作人员的任免；在本级人民代表大会闭会期间，罢免和补选上一级人民代表大会的个别代表。”\\n二十、宪法第一百零七条第一款“县级以上地方各级人民政府依照法律规定的权限，管理本行政区域内的经济、教育、科学、文化、卫生、体育事业、城乡建设事业和财政、民政、公安、民族事务、司法行政、监察、计划生育等行政工作，发布决定和命令，任免、培训、考核和奖惩行政工作人员。”修改为：“县级以上地方各级人民政府依照法律规定的权限，管理本行政区域内的经济、教育、科学、文化、卫生、体育事业、城乡建设事业和财政、民政、公安、民族事务、司法行政、计划生育等行政工作，发布决定和命令，任免、培训、考核和奖惩行政工作人员。”\\n二十一、宪法第三章“国家机构”中增加一节，作为第七节“监察委员会”；增加五条，分别作为第一百二十三条至第一百二十七条。内容如下：\\n第七节\\u3000监察委员会\\n第一百二十三条\\u3000中华人民共和国各级监察委员会是国家的监察机关。\\n第一百二十四条\\u3000中华人民共和国设立国家监察委员会和地方各级监察委员会。\\n监察委员会由下列人员组成：\\n主任，\\n副主任若干人，\\n委员若干人。\\n监察委员会主任每届任期同本级人民代表大会每届任期相同。国家监察委员会主任连续任职不得超过两届。\\n监察委员会的组织和职权由法律规定。\\n第一百二十五条\\u3000中华人民共和国国家监察委员会是最高监察机关。\\n国家监察委员会领导地方各级监察委员会的工作，上级监察委员会领导下级监察委员会的工作。\\n第一百二十六条\\u3000国家监察委员会对全国人民代表大会和全国人民代表大会常务委员会负责。地方各级监察委员会对产生它的国家权力机关和上一级监察委员会负责。\\n第一百二十七条\\u3000监察委员会依照法律规定独立行使监察权，不受行政机关、社会团体和个人的干涉。\\n监察机关办理职务违法和职务犯罪案件，应当与审判机关、检察机关、执法部门互相配合，互相制约。\\n第七节相应改为第八节，第一百二十三条至第一百三十八条相应改为第一百二十八条至第一百四十三条。\\n以上建议，请全国人民代表大会常务委员会依照法定程序提出宪法修正案议案，提请第十三届全国人民代表大会第一次会议审议。\\n\\xa0\\xa0\\xa0\\xa0\\xa0\\xa0\\xa0\\xa0\\xa0\\xa0\\xa0\\xa0\\xa0\\xa0\\xa0\\xa0\\xa0\\xa0\\xa0\\xa0\\xa0\\xa0\\xa0\\xa0\\xa0\\xa0\\xa0\\xa0\\xa0\\xa0\\xa0\\xa0\\xa0\\xa0\\xa0\\xa0\\xa0\\xa0\\xa0\\xa0\\xa0\\xa0\\xa0\\xa0\\xa0\\xa0\\xa0\\xa0\\xa0\\xa0\\xa0\\xa0\\xa0\\xa0\\xa0\\xa0\\xa0\\xa0\\xa0\\xa0\\xa0\\xa0\\xa0\\xa0\\xa0\\xa0\\xa0\\xa0\\xa0\\xa0\\xa0\\xa0\\xa0\\xa0\\xa0\\xa0\\xa0\\xa0\\xa0\\xa0\\xa0 中国共产党中央委员会\\n\\xa0\\xa0\\xa0\\xa0\\xa0\\xa0\\xa0\\xa0\\xa0\\xa0\\xa0\\xa0\\xa0\\xa0\\xa0\\xa0\\xa0\\xa0\\xa0\\xa0\\xa0\\xa0\\xa0\\xa0\\xa0\\xa0\\xa0\\xa0\\xa0\\xa0\\xa0\\xa0\\xa0\\xa0\\xa0\\xa0\\xa0\\xa0\\xa0\\xa0\\xa0\\xa0\\xa0\\xa0\\xa0\\xa0\\xa0\\xa0\\xa0\\xa0\\xa0\\xa0\\xa0\\xa0\\xa0\\xa0\\xa0\\xa0\\xa0\\xa0\\xa0\\xa0\\xa0\\xa0\\xa0\\xa0\\xa0\\xa0\\xa0\\xa0\\xa0\\xa0\\xa0\\xa0\\xa0\\xa0\\xa0\\xa0\\xa0\\xa0\\xa0\\xa0\\xa0\\xa0\\xa0\\xa0 2018年1月26日\\n']\n",
            "[0, 0, 0.999989, '京津冀协同发展工作推进会议25日在北京召开。国务院副总理张高丽主持会议并讲话。会议传达学习贯彻习近平总书记主持召开中央政治局常委会会议听取河北雄安新区规划编制情况汇报时的重要讲话和中央政治局常委会会议精神，讨论修改后的河北雄安新区规划纲要，研究部署下阶段有关工作。\\n张高丽表示，习近平总书记强调，要贯彻高质量发展要求，创造“雄安质量”，在推动高质量发展方面成为全国的一个样板。我们要认真学习贯彻习近平新时代中国特色社会主义思想和党的十九大精神，坚持世界眼光、国际标准、中国特色、高点定位，扎实做好雄安新区规划建设各项工作，努力建设高水平的社会主义现代化城市。\\n在充分肯定京津冀协同发展和雄安新区规划建设取得的进展成效后，张高丽强调，要按照高质量发展要求，深化规划内容、完善规划体系，把新区每一寸土地都规划清楚再开始建设。要抓紧研究制定支持雄安新区加快改革开放的措施，展现我国深化改革开放新形象。要适时启动一批基础性重大项目建设，加快推进前期工作，为新区规划建设开好局、起好步打好基础。要扎实做好管理和服务工作，广泛吸引国内外优秀人才，研究制定新区建设投融资方案，继续抓好房地产、产业、人口等管控工作，为新区规划建设提供有力保障。各有关地方和部门单位要增强“四个意识”，坚定“四个自信”，强化责任担当，加强协调配合，保持历史耐心，稳扎稳打，一茬接着一茬干，把雄安新区规划建设各项工作抓实抓好抓出成效。\\n李鸿忠、蔡奇、王勇参加会议。\\n']\n",
            "[0, 0, 0.9999705, '（新闻联播）：今晚七点，平昌冬奥会闭幕式在平昌奥林匹克体育场举行，17天的赛程已经落下帷幕。在现场，三万五千名观众随着场地中央变化的数字图形一起倒数。102名轮滑演员演绎不同的冬季项目，代表了本届奥运会产生的102枚金牌。闭幕式由4组文艺演出组成。我台奥运频道和体育赛事频道全程直播闭幕式。在各代表团入场环节，短道速滑男子500米金牌得主武大靖将担任中国代表团旗手。8点20分左右，北京将正式从平昌手中接过奥林匹克会旗，主题为“北京2022再见”的北京八分钟表演将向全世界发出邀请，北京欢迎你。在本届冬奥会上，中国体育代表团共获得1金6银2铜，9块奖牌。\\n']\n",
            "[0, 0, 0.99998784, '中国共产党的优秀党员，久经考验的忠诚的共产主义战士，我国农业和经济建设战线的杰出领导人，中国共产党第十三届中央政治局委员，中国人民政治协商会议第八届、九届全国委员会副主席，中共四川省委原书记杨汝岱同志，因病于2018年2月24日17时28分在北京逝世，享年92岁。\\n']\n",
            "[2, 0, 0.9939443, '联合国安理会24日一致通过第2401号决议，决议要求叙利亚全境连续停火至少30天。\\n这份决议呼吁有关各方停火，解除对叙利亚首都大马士革东郊东古塔地区等4个区域的围困，确保运输通道畅通，以维持对这些区域居民食品和药品的供应。\\n东古塔是叙利亚反对派武装在大马士革附近的主要据点。近段时间，叙政府军和反对派武装在东古塔的冲突升级。此前由于俄罗斯与美英法等国家的分歧明显，相关决议草案的投票表决两度推迟。\\xa0\\xa0\\n中国常驻联合国代表马朝旭对决议通过表示欢迎。他表示，政治解决途径是从根本上解除叙利亚人民苦难的唯一出路。\\n']\n",
            "[0, 0, 0.99996626, '第二十三届冬季奥林匹克运动会25日晚在平昌奥林匹克体育场闭幕。中国作为下届冬奥会主办国，在闭幕式上奉献了《2022相约北京》8分钟文艺表演。国家主席习近平通过视频，向全世界发出诚挚邀请——2022年相约北京！\\n平昌奥林匹克体育场座无虚席，以展望未来为主题的闭幕式文艺演出精彩纷呈。历经17天紧张激烈的比赛，运动员们和现场观众共同见证奥林匹克运动的平昌之旅画上句号。闭幕式尾声，“北京8分钟”文艺表演将现场气氛又一次推向高潮。\\n舞台上，22名中国轮滑运动员、2个由运动员扮演的“熊猫信使”以及24个智能机器人共同演绎冰球、冰壶、滑雪等冬季运动项目。借助轮滑运动员滑出的轨迹和高科技实现的影像变化，中国结、中国龙、凤凰、高速铁路、大飞机、航天器等中国元素陆续展示，反映出中国的历史文化和时代风貌；北京冬奥会会徽“冬梦”、蔚蓝的地球、孩童的笑脸、橄榄枝和梅花编织的花环等纷纷呈现，体现了中国推动构建人类命运共同体的大国担当。\\n此时，两只“熊猫信使”出现在大屏幕上，它们正在中国各地收集中国人民向世界发出的诚挚邀请。随后，画面上出现了习近平的身影。他在视频中说：“我和亿万中国人民，欢迎全世界的朋友，2022年相约北京！欢迎你们，欢迎朋友们！”\\n话音落下，“熊猫信使”把来自中国的友好情谊装入信封带到平昌奥林匹克体育场。接着，一个硕大的信封出现在舞台中央。信封开启，习近平和一张张中国人民的笑脸展现出来，向世界发出邀请。信封下方，自1924年首届冬奥会以来的23届冬奥会举办年份依次出现。中国轮滑运动员在现场滑出“2022”的字样，寓意对北京冬奥会的期盼与祝福。\\n在8分钟文艺表演前，国际奥委会主席巴赫将奥运会会旗交到北京市市长、北京冬奥组委执行主席陈吉宁手中。现场高奏中华人民共和国国歌，升起鲜艳的五星红旗。\\n国家主席习近平特别代表、国务院副总理刘延东出席闭幕式。\\n2015年7月31日，北京携手张家口获得了2022年冬奥会举办权。随着平昌冬奥会圣火缓缓熄灭，冬奥会开启“北京周期”。\\n']\n",
            "[0, 0, 0.9999838, '应国家主席习近平邀请，汤加王国国王图普六世将于2月28日至3月8日对中国进行国事访问。\\n']\n",
            "[0, 0, 0.99998885, '习近平总书记在十九大报告中指出，铸牢中华民族共同体意识，加强各民族交往交流交融，促进各民族像石榴籽一样紧紧抱在一起，共同团结奋斗、共同繁荣发展。\\n作为多民族聚居区，新疆在习近平新时代中国特色社会主义思想指引下，以“民族团结一家亲”和联谊活动为载体，将民族团结与脱贫攻坚、改善民生等工作结合推进，不断增强各族群众的获得感、幸福感。\\n在乌鲁木齐，每天都会有上千名“探亲”的自治区机关企事业单位干部职工，乘坐“民族团结一家亲”号列车前往南疆方向。\\n十九大后，新疆推出了“民族团结一家亲”活动，实现了民族团结从“走下来”到“沉下来”再到“住下来”，从“住村里”到“住家里”再到“住进心里”的转变。\\n如今在新疆，民族团结已经融入到日常生活工作学习中，贯穿到学校教育、家庭教育、社会教育各环节各方面。去年以来，参与民族团结联谊活动的人数达到了2500多万人次，各民族相互嵌入式的社会结构和社区环境正在形成。\\n夯实民族团结这个根本基石，新疆不断加大民生改善的力度。2018年，新疆将把本级财政支出的70%以上投入民生领域，并以农村富余劳动力、高中毕业生、就业困难群体为重点，加大政策支持和就业培训力度。\\n不久前，南疆四地州贫困家庭劳动力转移就业扶贫项目启动，计划未来三年帮助十万人实现转移就业。为使大家尽快克服技能、生活和语言障碍，接受转移就业人员的企业，为每人配备了一名熟练工当师傅，帮助大家能留得住、挣上钱。\\n确保和谐稳定发展，新疆还把脱贫攻坚作为重点工作之一。这是几天前，新疆驻村工作队部分成员结束一年驻村经历准备返回原单位时，同村民们依依惜别的场景。\\n新年伊始，新疆又有12000个工作队、76000多名干部参与到了新一轮驻村工作中，实现了全区城乡驻村工作无盲区、无缝隙、无空白区。为保证工作连续性，这批工作队将在基层乡村坚守三年，不脱贫、不脱钩。\\n']\n",
            "[0, 0, 0.9999878, '《中国共产党中央委员会关于修改宪法部分内容的建议》公布后，全国各地广大干部群众表示，坚决拥护关于修改宪法部分内容的建议，把党的十九大确定的重大理论观点和重大方针政策载入国家根本法，必将为新时代坚持和发展中国特色社会主义提供有力宪法保障。\\n各地干部群众认为，我国现行宪法是符合国情、符合实际、符合时代发展要求的好宪法。宪法只有不断适应新形势、吸纳新经验、确认新成果、作出新规范，才能具有持久生命力。\\n将习近平新时代中国特色社会主义思想载入宪法，把党的指导思想转化为国家指导思想，是党和国家事业发展的迫切需要，也是我国宪法完善发展的内在要求。\\n各地干部群众表示，党中央决定对宪法进行适当修改，将使我国宪法更好体现人民意志，更好体现中国特色社会主义制度的优势，更好适应推进国家治理体系和治理能力现代化的要求。\\n']\n",
            "[0, 0, 0.9999869, '京津冀协同发展战略实施四年来，从规划体系的“四梁八柱”基本形成，到交通一体化、生态环保、产业发展等重点领域率先突破，京津冀协同发展正在从蓝图变为现实。\\n协同发展，交通先行。四年来，三地累计打通扩容“断头路”“瓶颈路”800多公里。“轨道上的京津冀”正在形成，京津城际延长线、石济客专、津保铁路、张唐铁路等建成通车，京津城际2017年5月起推行月票制，一体化的交通让京津冀1亿人口逐步迈进1小时交通圈。\\n携手防治污染、守护碧水蓝天，是三地推进协同发展的重要基础，更是广受瞩目的民生工程。从预警会商到涵养水源，再到生态绿化，京津冀三地正在构建起共建共享、标本兼治的生态保障机制。今年1月份，京津冀区域13个城市平均优良天数比例为64.5%，同比上升28.3个百分点。PM2.5和PM10浓度同比均大幅下降。\\n四年来，三地联合推动产业升级实现“1+1+1＞3”的效果，张北云联数据中心、承德大数据产业园区等京津冀大数据走廊项目投产运营，一批重大产业项目加快实施。\\n四年来，三地基本公共服务均等化水平逐步提高，协同发展成果正在惠及更多普通百姓。京津冀230多家医院检验结果互认、医学影像共享，重复检查不用做了；天津和河北在全国率先实现退休人员住院医疗费用跨省市即时结算，三地新农合信息平台完成对接。\\n四年来，作为京津冀协同发展的“牛鼻子”，疏解北京非首都功能工作稳妥推进。关停退出一般制造业企业1992家，调整疏解各类区域型专业市场594家。\\n如今，京津冀协同发展规划体系的“四梁八柱”基本形成。备受瞩目的雄安新区规划框架也已基本成熟。作为首都的两翼，河北雄安新区和北京城市副中心规划建设正在按照高标准、高质量要求稳步推进。\\n']\n",
            "[0, 0, 0.99998885, '近日，中共中央办公厅、国务院办公厅印发了《关于分类推进人才评价机制改革的指导意见》。\\n《指导意见》指出，人才评价是人才发展体制机制的重要组成部分，是人才资源开发管理和使用的前提。当前，我国人才评价机制仍存在分类评价不足、评价标准单一、评价手段趋同、评价社会化程度不高、用人主体自主权落实不够等突出问题，亟需通过深化改革加以解决。\\n《指导意见》强调，要加快形成导向明确、精准科学、规范有序、竞争择优的科学化社会化市场化人才评价机制，建立与中国特色社会主义制度相适应的人才评价制度，努力形成人人渴望成才、人人努力成才、人人皆可成才、人人尽展其才的良好局面，使优秀人才脱颖而出。\\n《指导意见》就分类健全人才评价标准，改进和创新人才评价方式，加快推进重点领域人才评价改革，健全完善人才评价管理服务制度等方面的工作提出了具体意见。\\n']\n",
            "[0, 0, 0.99998516, '日前，国务院办公厅印发《关于推进社会公益事业建设领域政府信息公开的意见》。\\n《意见》重点围绕脱贫攻坚、社会救助和社会福利、教育、基本医疗卫生、环境保护、灾害事故救援、公共文化体育等7个社会高度关注、公益色彩浓厚的领域，部署了相关信息公开工作。\\n']\n",
            "[0, 0, 0.99998385, '今天，在国新办发布会上，人力资源和社会保障部公布2017年全国城镇新增就业达到1351万人，连续五年超过1300万人以上。城镇登记失业率2017年年底达到了3.9%，是2002年以来的新低。\\n社会保险方面，基本养老保险去年底覆盖超过9亿人，基本医疗保险目前覆盖了超13亿人。“基本保险+大病保险”的政策报销水平已经超过80%。异地就医秩序平稳有序，在国家异地就医结算平台上备案的人员超过210万人，近9000家医疗机构并入联网。\\n']\n",
            "[0, 0, 0.9999853, '在国新办今天举行的发布会上，科技部负责人介绍，过去五年，我国科技创新能力显著提升，主要创新指标进入世界前列。\\n2017年，我国国家创新能力排名从2012年第20位升至第17位。国际科技论文总量比2012年增长70%，居世界第二；全国高新技术企业超过13.6万家，提供就业岗位超过2500万个。科技成果转化量质齐升，全国技术合同成交额达1.3万亿元。科技进步贡献率从2012年的52.2%升至2017年的57.5%。2018年，我国将加快实施科技创新2030重大项目和国家科技重大专项，强化面向科技强国的基础研究，深化中央财政科技计划和资金管理改革，加快牵头组织国际大科学计划和大科学工程。\\n']\n",
            "[0, 0, 0.99792016, '全国铁路今天预计发送旅客1042万人次。为应对客流高峰，南昌铁路局今天加开列车83趟。沈阳铁路局动车组“零备用”，175组全部投用，总运力投放创历年春运之最。广州南站投放500辆共享汽车，并协调地铁延长运营时间。\\n受大雾影响，这两天江苏，江西、新疆等地早晚能见度低，部分高速路段会根据天气情况封闭。\\n今天上午，海口市秀英港、新海港、铁路南港运转状态良好，已无过海旅客滞留。当地政府表示，将尽早实现对港口等重点区域天气的精准预报。\\n']\n",
            "[0, 0, 0.99994576, '通俗理论节目——“厉害了，我们的新时代”第二季《乡村振兴战略大家谈》今晚8点在央视新闻频道开播。6集节目分别选取6个有代表性的村庄作为录制场地，邀请全国十多个典型乡村代表作现场交流，通过嘉宾解读、互动问答等方式，全景展现我国农业全面升级、进步和发展的良好态势和美好愿景，激发广大农村干部群众走中国特色社会主义乡村振兴道路，振奋新时代乡村全面振兴新篇章的热情和干劲。\\n']\n",
            "[1, 1, 0.9968403, '全国各地的中小学生陆续迎来春季新学期，多地针对群众关心的教育民生问题出台新政。浙江全省推迟小学一二年级上学时间至早上8点。吉林启动“蓓蕾计划”试点，实施小学生课后免费托管服务。山东省所有高中将全面推行“全员育人导师制”。\\n']\n",
            "[1, 1, 0.998264, '港珠澳大桥连接珠海的核心工程拱北隧道全面建成。隧道全长2741米，下穿陆路出入境口岸拱北口岸，采用双向六车道设计，由三种不同结构的隧道连接而成，最深处在地下30多米。\\n']\n",
            "[1, 1, 0.9977189, '在伦敦进行的2018年乒乓球团体世界杯，北京时间今天凌晨结束全部较量，中国男队3比0战胜日本男队，实现七连冠。中国女队同样3比0横扫日本，第八次蝉联世界杯团体冠军。\\n']\n",
            "[1, 1, 0.9846928, '纪录片《大国重器》第二季将于2月26日至3月5日在央视财经频道播出。央视摄制组行程30万公里，拍摄了60多台代表中国最高制造水平的核心重器，记录迈向现代化经济体系的中国制造故事。\\n']\n",
            "[1, 1, 0.9184644, '据俄罗斯媒体25日报道，叙利亚多个非法武装组织在大马士革附近成立了一个指挥中心。俄方将对其严密监控，以防局势进一步激化。\\n据俄罗斯卫星通讯社援引俄罗斯驻叙利亚冲突各方停火协调中心的消息称，包括“征服阵线”“伊斯兰军”“自由沙姆人伊斯兰运动”在内的5个非法武装组织，在叙利亚首都大马士革东郊东古塔地区成立了所谓的“统一领导中心”。其中“征服阵线”被国际社会认定为恐怖组织。\\n另外，对叙利亚遵守停火情况的监控显示，阿勒颇、拉塔基亚、伊德利卜等地违反停火协议的事件一直没有停止。\\n联合国安理会24日一致通过决议，要求叙利亚全境连续停火至少30天，以确保联合国及其合作伙伴运送医疗和手术设备的人道主义救援车队每周都能“安全、顺畅并持续通过”。\\n另据报道，法国总统府25日发表公报说，法国总统马克龙和德国总理默克尔当天与俄罗斯总统普京进行电话会谈，法德表示愿与俄罗斯共同努力推动叙利亚和平进程。\\n公报说，法德俄三国领导人对联合国安理会通过的有关叙停火的决议表示赞赏。公报说，法德领导人呼吁对叙利亚局势有影响力的各方推动落实这一决议。公报还说，为共同推动叙利亚和平进程，法国外长勒德里昂27日将前往俄罗斯莫斯科与俄方进行会谈。\\n']\n",
            "[1, 1, 0.99098396, '韩国总统府今天发布新闻稿称，韩朝决定在平昌冬奥会之后继续平衡推进半岛停和机制转换、双边关系可持续发展以及国际社会协作。\\n青瓦台国家安全室长郑义溶和朝鲜劳动党中央委员会副委员长金英哲今天在首尔举行午餐会，就推进半岛和平等议题达成一致。双方指出，平昌冬奥弘扬了“和解和平”的奥运精神，为维护半岛和平与修复双边关系提供了富有意义的机会。\\n25日，由金英哲率领的朝鲜高级别代表团抵达韩国，进行为期三天的访问。该代表团的行程包括参加平昌冬奥会闭幕式等。韩国总统文在寅当天在平昌与朝方高级别代表团进行了会谈。文在寅表示，希望南北关系在更广范围内取得更大进展。\\n与此同时，金英哲向文在寅转达了朝鲜国务委员会委员长金正恩改善朝韩关系的意愿，并称朝方有足够意愿与美对话，认为朝韩关系与朝美关系应共同发展。\\n对此，美国白宫25日发表声明称，美方高度关注朝方表态，美国、韩国和国际社会总体上同意与朝鲜对话的最终结果必须是半岛无核化。\\n我外交部发言人陆慷今天表示，要想真正解决半岛核问题，实现半岛形势的根本转圜，朝美直接对话不可或缺，希望朝美双方在对话方面迈出积极步伐。\\n']\n",
            "[2, 2, 0.99764144, '法国内政部长科隆25日说，法国今年初以来已挫败两起恐怖袭击图谋。这两起袭击企图分别针对一个大型体育设施和军队人员。科隆强调，法国尚未“走出”恐怖主义阴影，恐袭风险仍将持续多年。\\n自2015年1月，巴黎发生《查理周刊》恐怖袭击事件后，法国一直面临严峻的反恐形势。\\n']\n",
            "[2, 2, 0.9564468, '英国中部城市莱斯特25日发生一起爆炸事件，导致4人死亡，另有数人受伤。警方发言人称，当地时间25日晚7点半左右，莱斯特欣克利路发生一起严重爆炸，导致一栋大楼倒塌，多栋建筑受损。目前，警方仍在倒塌建筑内搜寻幸存者。爆炸发生后导致周边部分路段关闭，数十栋房屋被暂时封锁。爆炸原因仍在调查，但英国警方已经排除爆炸与恐怖袭击有关。\\n']\n",
            "[2, 2, 0.99746734, '美国中部地区近几天遭遇极端天气，暴雨、洪水、龙卷风等袭击了肯塔基州、田纳西州以及俄亥俄州等地，已造成5人死亡，多人受伤。另有大量房屋和道路受损。其中受灾最为严重的是肯塔基州，该州大部分地区在过去一周经历了暴雨侵袭，并引发洪水泛滥，同时肯塔基州南部最近两天还遭遇了龙卷风的袭击。此外，受恶劣天气影响，俄亥俄州的俄亥俄河水位达到20年来的最高点，导致多条道路被迫封闭。\\n']\n",
            "[2, 2, 0.9963807, '近来，欧洲部分国家遭遇极寒天气。在克罗地亚的代尔尼采，强风和暴雪导致当地多条道路交通被阻断。波黑的比哈奇降雪天气导致一些建筑受损，一所学校的屋顶因积雪过厚被压塌。此外，罗马尼亚、波兰等国家也遭遇了极寒天气。\\n']\n",
            "[1, 2, 0.9175453, '招商局港口控股有限公司收购巴西巴拉那瓜港口项目交割仪式22日在巴西利亚举行。收购巴拉那瓜港是中企第一次涉足巴西港口领域，将进一步密切两国经贸合作。巴拉那瓜港是巴西吞吐能力第二大集装箱码头。\\n']\n",
            "[0, 0, 0.9999872, '在习近平新时代中国特色社会主义思想指引下，地处祖国西南腹地的重庆，充分发挥西部大开发重要战略支点、“一带一路”和长江经济带联结点这两个“点”的特殊区位优势，加快推进“内陆开放高地”和“山清水秀美丽之地”这两个“地”的建设，努力开创产业兴、生态美、百姓富的新局面。\\n新年伊始，长江经济带与丝绸之路经济带的最后一公里被彻底打通，从今年开始，在重庆果园港上岸的货物无需中转，只要装上中欧（重庆）班列，就可以直达德国杜伊斯堡。\\n向西，重庆已连接起陆上丝绸之路；向南，借道贵州、广西，“渝黔桂新”专列直达新加坡，连接起海上丝绸之路。重庆西部大开发战略支点作用得到突显，也为重庆的“内陆开放高地”和“山清水秀美丽之地”建设，打下了坚实基础。\\n在南向通道和中欧班列的作用下，重庆“内陆开放高地”的聚集效应得到显现。原本不产一粒咖啡豆的重庆，通过大通道的带动，如今一跃成为全国最大的咖啡现货交易中心。\\n借助大通道，重庆正在打造大平台。自贸试验区、两江新区、国家自主创新示范区和中新重庆示范项目核心区正在建设，中国（重庆）国际贸易“单一窗口”正式运行。\\n十九大之后，重庆加快提升通关、联运等软件服务。去年11月，海关总署与重庆市合作开发“关铁通”智能关锁，已与哈萨克斯坦海关测试成功。海关人员只需轻轻一扫，即可完成繁琐的通关查验。\\n创新发展、还要绿色发展。按照习近平总书记的要求，重庆坚持生态优先、绿色发展的战略定位，全面落实河长制，实行生态环境损害责任终身追究制；在沿长江所有县城、乡镇兴建污水处理厂、确保长江流出断面水质不低于流入断面。在此基础上，重庆还结合自身多山的实际，探索将整条山脉纳入“山长制”的管理机制。\\n在重庆五届一次人大会议上，重庆提出了打造“山清水秀美丽之地”的细化目标：未来五年，重庆的森林覆盖率要提高到55%左右，城市建成区绿化率达到45%以上，空气优良天数稳定在300天以上，长江干支流水质保持优良。\\n']\n",
            "[0, 0, 0.99998903, '国务院总理李克强2月27日向第五届中德创新大会致贺信。\\n李克强在贺信中表示，当前新一轮科技革命和产业变革席卷全球，科技创新正深刻改变着人类的生产生活方式。中德科技创新合作开创了大国科技合作的先例，为两国务实合作装上了大功率“引擎”。\\n李克强指出，中国经济发展正处在新旧动能转换和结构升级的关键时期。我们将贯彻落实新发展理念，深入实施创新驱动发展战略，促进大众创业、万众创新上水平，加快建设创新型国家。希望中德双方汇集众智、增进共识，深化科技创新交流合作，推动两国经济社会健康发展，为全球经济注入新动力。\\n中德政府间科技合作协定签订40周年暨第五届中德创新大会27日在京举行。两国科技、企业、政府等各界300余名代表出席。\\n']\n",
            "[0, 0, 0.99998903, '近日，中共中央办公厅、国务院办公厅印发了《关于加强知识产权审判领域改革创新若干问题的意见》，并发出通知，要求各地区各部门结合实际认真贯彻落实。\\n《意见》提出，加强知识产权审判领域改革创新，要以完善知识产权诉讼制度为基础，以加强知识产权法院体系建设为重点，以加强知识产权审判队伍建设为保障，不断提高知识产权审判质量效率，加大知识产权司法保护力度，有效遏制侵犯知识产权行为，进一步提升知识产权领域司法公信力和国际影响力，加快推进知识产权审判体系和审判能力向现代化迈进。\\n《意见》还就完善知识产权诉讼制度、加强知识产权法院体系建设、加强知识产权审判队伍建设、加强组织领导等方面的工作提出了具体要求。\\n']\n",
            "[0, 0, 0.9999887, '《中国共产党中央委员会关于修改宪法部分内容的建议》得到了各地干部群众的坚决拥护。大家认为，对宪法进行修改，体现党和国家事业发展的新成就新经验新要求，既顺应党和人民事业发展要求，又遵循宪法法律发展规律，实现党的主张、国家意志、人民意愿的高度统一。\\n十八大以来，党和国家事业取得历史性成就、发生历史性变革，老百姓生活的方方面面也随之发生了很多变化，不断得到改善。大家由衷地感到，在以习近平同志为核心的党中央坚强领导下，老百姓的日子会越来越有奔头。\\n广大干部群众表示，要通过修改宪法，把思想统一到习近平新时代中国特色社会主义思想上来，把力量凝聚到党的十九大确定的重大战略部署上来。\\n']\n",
            "[0, 0, 0.9999766, '今天，国家邮政局和国务院法制办相关负责人出席国务院政策例行吹风会，介绍快递暂行条例草案和快递业发展有关情况。\\n2017年我国快递业务量超过400亿件，连续4年快递业务量位居世界第一。全国快递企业发展到2万家左右，日均服务用户超过2亿人次。快递暂行条例草案进一步明晰了各方面的权利义务。细化了收寄规则，明确了投递规范，规定了查询、投诉、损失赔偿以及无法投递快件处理等规则。强化了监督管理，对违法行为规定了相应的法律责任。\\n快递暂行条例作为行政法规，其效力仅次于邮政法，高于邮政部门规章和规范性文件，是地方性法规、地方政府规章的上位法。\\n']\n",
            "[0, 0, 0.9999855, '环保部今天介绍了打赢蓝天保卫战三年工作计划。指出，目前我国大气污染治理已经进入攻坚阶段。二氧化硫、氮氧化物、烟粉尘、挥发性有机物等大气污染物的排放仍然处于高位，多个城市的空气质量仍然超标。根据“十三五”生态环境保护规划，到2020年，全国地级及以上城市空气质量优良天数比率要超过80%，细颗粒物未达标地级及以上城市浓度要累计下降18%。\\n环保部将继续全面推进“散乱污”企业及集群综合整治，在重点区域实施大气污染物排放限值。继续推进能源结构改革，大幅削减煤炭终端消费总量，并推动全国多个区域空气质量预测预报中心尽快建成并发挥作用。\\n']\n",
            "[0, 0, 0.9999383, '今天，2018两会新闻中心正式启用，开始为参加两会报道的中外媒体记者提供服务。\\n今年全国两会新闻中心主要设置了新闻发布厅、境内记者组、港澳台记者组、外国记者组、采访接待室、通信网络服务室。为了方便记者采访，编发和传输稿件，新闻中心还开设了新闻中心网站，方便记者及时查询大会有关的资料和采访信息；为记者免费提供上网服务，提供部分图书资料和茶歇服务。目前，两会会议期间的记者会正在筹备中，外交部、发改委、财政部等部委的主要负责人都将出席记者会。\\n']\n",
            "[0, 0, 0.999978, '针对新时代超大城市的安全需求，上海公安机关将警务工作与大数据、云计算以及人工智能等尖端技术深度融合，率先在智慧公安建设上发力起跑。\\n上海地铁运营里程世界第一，日均客流超过1000万人次，从今年1月开始，46台智能安检机进驻人民广场等大客流集中的地铁站，乘客安检告别了试喝饮料的时代。\\n安检机上的这两个探头还具备精准记录人流数据功能，通过Wi-Fi传递给后台，一旦发出大客流预警信号，民警可视情采取分流措施。\\n人多、车多、路网多极易造成交通拥堵，如何破解这种难题。上海公安交警将城市管理的绣花功夫下到了信号灯的配时方案上。\\n这是上海中山南路和瑞金路的交叉口，它们采集视频数据、电子警察和互联网地图的使用数据，汇集云端进行大数据分析，将信号配时方案由4套增加到8套，高峰时段每10分钟调整一次。\\n在13个试点路口配时调优后，拥堵指数下降了15%，出行时间减少了8%。\\n今年上海将继续扩大试点面积，逐步在全市启用智能信号灯系统，按照政府主导、市场运作、多方参与、公安融入的原则，上海警方广泛开展共建共治，打造感知泛在、研判多维、指挥扁平、处置高效的精准警务。\\n控江社区是一个智能安防的试点社区，在社区的综合管理平台上，泛感知设备实时看护着小区的安全。从去年10月智慧安防试点以来，辖区入室盗窃案的发案率下降了79.6%，涉黄涉毒警情下降84%。\\n目前上海智慧公安5年建设规划初步编制完成，首批22个技术成熟，实战急需的重点项目已经启动，再造精准警务模式，从应急处置走向风险管控，智慧公安助力上海实现最有序、最安全、最干净的治理目标。\\n']\n",
            "[0, 0, 0.99998665, '在推进脱贫攻坚中，湖南娄底通过倡导“人穷志不穷、脱贫靠自身”，并建立奖勤罚懒等机制，激发群众内生动力。\\n春节前后正是大棚草莓上市的季节，湖南娄底草莓种植户张友华家的草莓每斤可以卖到40元。两年前，张友华还是贫困户，他因赌致贫，一家四口住在四面透风的窝棚里。\\n为了帮助张友华脱贫，扶贫干部多次上门做工作、劝其戒赌，知道他曾在草莓基地打过工、懂技术，就鼓励他种草莓，并帮他流转土地10多亩、借贷3万元作为启动资金。思想通了，这两年张友华靠种草莓脱了贫，去年还建了新房。\\n现在，娄底专门在贫困群众中倡导“人穷志不穷、脱贫靠自身”的思想，有的村还在贫困户中评选勤劳致富模范等，增加其他贫困户的脱贫意志。\\n']\n",
            "[0, 0, 0.9999651, '北京聚德华天、上海杏花楼、苏州采芝斋，这些老字号用传承、创新驻留舌尖“情思”，春节期间客流不断。\\n这几天，聚德华天旗下的北京护国寺小吃总店，纯手工制作的驴打滚、艾窝窝、豌豆黄供不应求。\\n李秀云是护国寺清真小吃第四代技艺传承人，春节期间，护国寺小吃八家直营店收入同比增长15.48%；接待人次同比增长10.83%。\\n老字号也在不断创新。在上海，杏花楼月饼享有盛誉。而今，通过三年的技术改良，研发人员将南方人十分喜爱的咸蛋黄和三种肉松结合在一起，制成了咸蛋黄肉松青团，春节期间销售量继续保持10%以上增长。\\n已经有140多年历史的苏州老店采芝斋，在店内专辟“透明车间”，熬糖、冷却、成型、切割，顾客得以亲见松仁粽子糖等制作全过程。\\n常食常新，老字号碰撞新零售。采芝斋引进现代营销模式销售300多个品种产品，销量约比平时增长10倍以上。\\n']\n",
            "[0, 0, 0.999771, '由中央电视台、中国电影股份有限公司联合出品的纪录电影《厉害了，我的国》，今天在北京举行首映式。\\n电影《厉害了，我的国》以纪录片的形式，在电影银幕上生动再现了我国在扶贫、生态文明建设、医疗保障、国家安全体制等各方面取得的卓越成就。\\n港珠澳大桥最后沉管合龙的紧张和严谨、国产大飞机首飞的激动、复兴号列车飞速疾驰的豪迈，全片在展现众多珍贵历史瞬间的同时，还记录了新时代背景下百姓生活的变迁。\\n据介绍，中央电视台《新闻联播》2017年春节期间，首次推出《厉害了，我的国》系列节目，通过普通人用自拍晒变化，抒发家国情怀，引发广泛的关注和传播。《厉害了，我的国》也成为2017年现象级的新闻节目。十九大前夕，央视六集纪录片《辉煌中国》策划了以“厉害了我的国”为主题的“内容众筹”活动，普通百姓拍摄上传了上万条视频素材，除了供纪录片挑选使用之外，都以“厉害了我的国”为主题，在电视和网上展播。纪录电影《厉害了，我的国》则以央视电视纪录片《辉煌中国》为基础素材，用电影手法进行剪辑加工。\\n纪录电影《厉害了，我的国》将于3月2日开始登陆全国电影院线。\\n']\n",
            "[1, 1, 0.9981913, '今天全国铁路预计发送旅客1026万人次，增开旅客列车866列。新一轮客流高峰将于正月十五元宵节前后到来。公路车流量持续下降，整体通行顺畅。民航今天预计执行航班近16000千架次。\\n']\n",
            "[1, 1, 0.9983742, '曹妃甸港疏港矿石公转铁运输方案3月1日起实施。预计曹妃甸港疏港矿石铁路运量将由目前的每年200万吨增加到1500万吨以上，进而大幅降低矿石公路运输的碳排放水平。\\n']\n",
            "[1, 1, 0.99794805, '科技部今天发布“2017年度中国科学十大进展”。包括实现星地千公里级量子纠缠和密钥分发及隐形传态；首次探测到双粲重子等项目，涵盖了量子物理、新材料、医药卫生等领域的重大突破。\\n']\n",
            "[1, 1, 0.99823153, '2022年北京冬奥会会旗交接徽章今起在全国发行。徽章正面是一个正在迷你雪道上滑行的滑雪人物造型，寓意赛会主办城市的转换。2022年北京冬奥会会徽8组贵金属工艺藏品今天也与百姓见面。\\n']\n",
            "[1, 1, 0.99819225, '今天，我国局部地区迎来大雾天气。在山东烟台、新疆玛纳斯，大雾导致能见度不足60米。在江西因大雾多条高速公路一度关闭。中央气象台预计，明天起，内蒙古、黑龙江、吉林、辽宁的局部地区将有中到大雪。\\n']\n",
            "[0, 1, 0.991451, '通俗理论节目——《厉害了，我们的新时代》第二季《乡村振兴战略大家谈》今晚8点在央视新闻频道播出第二集“产业兴旺”。“三农”专家与农民朋友共话乡村振兴。\\n']\n",
            "[2, 1, 0.9758087, '俄罗斯国防部长绍伊古26日宣布，根据俄罗斯总统普京的命令，自27日起在叙利亚东古塔地区每天实施5小时人道主义停火，并开辟人道主义通道方便平民撤离。\\n绍伊古说，叙利亚东古塔地区的人道主义停火时间为每天9点至14点，从27日开始实施。东古塔地区还为平民撤离专门开辟了人道主义通道，这些通道的坐标和位置将在近期内宣布。\\n绍伊古还指出，东古塔地区并不是叙利亚唯一一个战事紧张的地区，在靠近约旦的边境城市坦夫还有一个处于美国控制下的鲁克班难民营。俄罗斯建议在该地区也建立起人道主义走廊并实现人道主义停火。\\n俄罗斯驻叙利亚停火协调中心发言人叶夫图申科说，俄罗斯采取的这些措施都得到了叙利亚军方的同意，目的是为了帮助平民的转移。他说，叙利亚反政府武装在东古塔地区扣押着至少数百名人质。\\n近期，叙利亚政府军和反政府武装在东古塔地区的冲突升级。联合国安理会24日一致通过决议，要求叙利亚全境连续停火至少30天，不过，安理会停火决议通过以来，叙利亚多地战事并没有停息。\\n']\n",
            "[1, 1, 0.9764947, '当地时间26日凌晨3点44分，北京时间1点44分，位于南太平洋的巴布亚新几内亚发生7.5级地震。据当地媒体报道，地震至少造成31人死亡，另有约300人受伤。中国驻巴新大使馆确认，截至目前没有中国公民在这次地震中伤亡。\\n地震发生在巴布亚新几内亚南高地省、海拉省的交界地区，震源深度约为20公里。随后又发生了十多起5级以上的余震，27日凌晨1点，还发生了一次6.3级的地震。\\n地震造成南高地省首府门迪市建筑倒塌，附近地区还发生了山体滑坡。震区距离首都有500多公里，而且大部分电话线路已被切断，给巴新中央政府了解灾情部署救援造成困难。\\n巴新总理府发表声明说，中央政府已派遣工作团队前往震区，与当地政府共同评估地震造成的影响，巴新国防军也赶往灾区协助有关工作。\\n巴布亚新几内亚地处大陆板块交界处，位于环太平洋火山带，地震频繁。\\n']\n",
            "[2, 2, 0.993011, '俄罗斯总统普京日前签署了《2018-2028年俄罗斯军事装备发展纲要》，确定了未来10年俄军事装备升级和更新计划。俄媒体援引副总理罗戈津的话说，这一发展纲要总规模达19万亿卢布，约合2万亿元人民币。而纲要与之前最大的区别是，很多即将量产的军事装备都经过了叙利亚战场的实战检验，还有200多件军事装备通过了在北极地区极寒气候条件的检验。罗戈津还说，新的发展纲要还包括如何应对北约与美国的军事部署等内容。\\n']\n",
            "[2, 2, 0.9967351, '27日，韩国首尔中央地方法院对前总统朴槿惠涉及案件进行宣判前的最后一次庭审，检方提请法院判处朴槿惠有期徒刑30年，并要求对其处以1185亿韩元、约合人民币6.96亿元的罚款。检方称，朴槿惠滥用总统权限、破坏宪法价值，是韩国首位被弹劾下台的总统，给韩国历史留下无法抹去的污点。朴槿惠并没有出席今天的庭审。一审宣判在4月6日作出。\\n朴槿惠因深陷“亲信干政”丑闻于2017年3月遭弹劾下台，随后被韩国检方以涉嫌收受贿赂、滥用职权等罪名起诉。\\n']\n",
            "[2, 2, 0.99404293, '26日，德国总理默克尔领导的基民盟的代表以压倒性多数投票通过与社民党达成的联合组阁协议。\\n德国去年9月大选后迟迟未能组阁，本月7日，由基民盟和基社盟组成的联盟党终于与支持率第二的社民党就组阁达成协议，双方在移民、税改等主张上各自作出了较大让步。目前，这份协议还需社民党投票通过。如果社民党投票表示支持，新一届政府有望在3月底前组建成功。\\n']\n",
            "[0, 0, 0.9999868, '中国共产党第十九届中央委员会第三次全体会议于2018年2月26日至28日在北京举行。现在全文播送《中国共产党第十九届中央委员会第三次全体会议公报》。\\n中国共产党第十九届中央委员会第三次全体会议公报，2018年2月28日中国共产党第十九届中央委员会第三次全体会议通过。\\n中国共产党第十九届中央委员会第三次全体会议，于2018年2月26日至28日在北京举行。\\n出席这次全会的有，中央委员202人，候补中央委员171人。中央纪律检查委员会副书记和有关方面负责同志列席会议。\\n全会由中央政治局主持。中央委员会总书记习近平作了重要讲话。\\n全会听取和讨论了习近平受中央政治局委托作的工作报告。全会审议通过了中央政治局在广泛征求党内外意见、反复酝酿协商的基础上提出的拟向十三届全国人大一次会议推荐的国家机构领导人员人选建议名单和拟向全国政协十三届一次会议推荐的全国政协领导人员人选建议名单，决定将这两个建议名单分别向十三届全国人大一次会议主席团和全国政协十三届一次会议主席团推荐。全会审议通过了《中共中央关于深化党和国家机构改革的决定》和《深化党和国家机构改革方案》，同意把《深化党和国家机构改革方案》的部分内容按照法定程序提交十三届全国人大一次会议审议。\\n全会充分肯定党的十九届一中全会以来中央政治局的工作。一致认为，面对复杂多变的国际形势、艰巨繁重的国内改革发展稳定任务，中央政治局全面贯彻党的十九大和十九届一中、二中全会精神，高举中国特色社会主义伟大旗帜，坚持以马克思列宁主义、毛泽东思想、邓小平理论、“三个代表”重要思想、科学发展观、习近平新时代中国特色社会主义思想为指导，不忘初心、牢记使命，全面加强党对一切工作的领导，坚持稳中求进工作总基调，勇于创新，扎实工作，统筹推进“五位一体”总体布局，协调推进“四个全面”战略布局，团结带领全党全国各族人民，坚定信心，凝心聚力，只争朝夕，真抓实干，着力全面深化改革、保持经济平稳健康发展，着力全面依法治国、推进中国特色社会主义法治体系建设，全力以赴打好防范化解重大风险、精准脱贫、污染防治的攻坚战，着力全面从严治党、切实转变工作作风，全面推进社会主义经济建设、政治建设、文化建设、社会建设、生态文明建设和党的建设，在决胜全面建成小康社会、开启全面建设社会主义现代化国家新征程上迈出新的步伐，推动党和国家各项事业取得新的成绩。\\n全会认为，开好十三届全国人大一次会议和全国政协十三届一次会议，对动员全党全国各族人民为决胜全面建成小康社会、夺取新时代中国特色社会主义伟大胜利而奋斗具有重大意义。\\n全会提出，深化党和国家机构改革是推进国家治理体系和治理能力现代化的一场深刻变革。党和国家机构职能体系是中国特色社会主义制度的重要组成部分，是我们党治国理政的重要保障。新中国成立后，在我们党领导下，我国确立了社会主义基本制度，逐步建立起具有我国特点的党和国家机构职能体系。在社会主义建设和改革开放过程中，我们党积极推进党和国家机构改革，各方面机构职能不断优化、逐步规范。党的十八大以来，以习近平同志为核心的党中央紧紧围绕完善和发展中国特色社会主义制度、推进国家治理体系和治理能力现代化这个总目标全面深化改革，加强党的领导，坚持问题导向，突出重点领域，深化党和国家机构改革，在一些重要领域和关键环节取得重大进展，为党和国家事业取得历史性成就、发生历史性变革提供了有力保障。\\n全会强调，面对新时代新任务提出的新要求，党和国家机构设置和职能配置同统筹推进“五位一体”总体布局、协调推进“四个全面”战略布局的要求还不完全适应，同实现国家治理体系和治理能力现代化的要求还不完全适应。全党必须统一思想、坚定信心、抓住机遇，在全面深化改革进程中，下决心解决党和国家机构职能体系中存在的障碍和弊端，加快推进国家治理体系和治理能力现代化，更好发挥我国社会主义制度优越性。\\n全会强调，深化党和国家机构改革的指导思想是，全面贯彻党的十九大精神，坚持以马克思列宁主义、毛泽东思想、邓小平理论、“三个代表”重要思想、科学发展观、习近平新时代中国特色社会主义思想为指导，适应新时代中国特色社会主义发展要求，坚持稳中求进工作总基调，坚持正确改革方向，坚持以人民为中心，坚持全面依法治国，以加强党的全面领导为统领，以国家治理体系和治理能力现代化为导向，以推进党和国家机构职能优化协同高效为着力点，改革机构设置，优化职能配置，深化转职能、转方式、转作风，提高效率效能，为决胜全面建成小康社会、开启全面建设社会主义现代化国家新征程、实现中华民族伟大复兴的中国梦提供有力制度保障。深化党和国家机构改革，必须贯彻坚持党的全面领导、坚持以人民为中心、坚持优化协同高效、坚持全面依法治国的原则。\\n全会提出，深化党和国家机构改革的目标是，构建系统完备、科学规范、运行高效的党和国家机构职能体系，形成总揽全局、协调各方的党的领导体系，职责明确、依法行政的政府治理体系，中国特色、世界一流的武装力量体系，联系广泛、服务群众的群团工作体系，推动人大、政府、政协、监察机关、审判机关、检察机关、人民团体、企事业单位、社会组织等在党的统一领导下协调行动、增强合力，全面提高国家治理能力和治理水平。既要立足实现第一个百年奋斗目标，针对突出矛盾，抓重点、补短板、强弱项、防风险，从党和国家机构职能上为决胜全面建成小康社会提供保障；又要着眼于实现第二个百年奋斗目标，注重解决事关长远的体制机制问题，打基础、立支柱、定架构，为形成更加完善的中国特色社会主义制度创造有利条件。\\n全会提出，深化党和国家机构改革的首要任务是，完善坚持党的全面领导的制度，加强党对各领域各方面工作领导，确保党的领导全覆盖，确保党的领导更加坚强有力。要建立健全党对重大工作的领导体制机制，强化党的组织在同级组织中的领导地位，更好发挥党的职能部门作用，统筹设置党政机构，推进党的纪律检查体制和国家监察体制改革。\\n全会提出，转变政府职能，优化政府机构设置和职能配置，是深化党和国家机构改革的重要任务。要坚决破除制约使市场在资源配置中起决定性作用、更好发挥政府作用的体制机制弊端，围绕推动高质量发展，建设现代化经济体系，调整优化政府机构职能，合理配置宏观管理部门职能，深入推进简政放权，完善市场监管和执法体制，改革自然资源和生态环境管理体制，完善公共服务管理体制，强化事中事后监管，提高行政效率，全面提高政府效能，建设人民满意的服务型政府。\\n全会提出，统筹党政军群机构改革，是加强党的集中统一领导、实现机构职能优化协同高效的必然要求。要统筹设置相关机构和配置相近职能，理顺和优化党的部门、国家机关、群团组织、事业单位的职责，完善党政机构布局，深化人大、政协和司法机构改革，深化群团组织改革，推进社会组织改革，加快推进事业单位改革，深化跨军地改革，增强党的领导力，提高政府执行力，激发群团组织和社会组织活力，增强人民军队战斗力，使各类机构有机衔接、相互协调。\\n全会提出，治理好我们这样的大国，要理顺中央和地方职责关系，更好发挥中央和地方两个积极性。要统筹优化地方机构设置和职能配置，构建从中央到地方运行顺畅、充满活力、令行禁止的工作体系，中央加强宏观事务管理，地方在保证党中央令行禁止前提下管理好本地区事务，赋予省级及以下机构更多自主权，合理设置和配置各层级机构及其职能，增强地方治理能力，加强基层政权建设，构建简约高效的基层管理体制。\\n全会提出，机构编制法定化是深化党和国家机构改革的重要保障。要完善党和国家机构法规制度，依法管理各类组织机构，加快推进机构、职能、权限、程序、责任法定化，全面推行政府部门权责清单制度，规范和约束履职行为，让权力在阳光下运行，强化机构编制管理刚性约束，加大机构编制违纪违法行为查处力度。\\n全会强调，深化党和国家机构改革是一个系统工程，各级党委和政府要把思想和行动统一到党中央关于深化党和国家机构改革的决策部署上来，增强“四个意识”，坚定“四个自信”，坚决维护以习近平同志为核心的党中央权威和集中统一领导，把握好改革发展稳定关系，不折不扣抓好党中央决策部署贯彻落实，依法依规保障改革，增强改革的系统性、整体性、协同性，加强党政军群各方面机构改革配合，使各项改革相互促进、相得益彰，形成总体效应。\\n全会号召，全党全国各族人民要紧密团结在以习近平同志为核心的党中央周围，统一思想，统一行动，锐意改革，确保完成深化党和国家机构改革的各项任务，不断构建系统完备、科学规范、运行高效的党和国家机构职能体系，为决胜全面建成小康社会、加快推进社会主义现代化、实现中华民族伟大复兴的中国梦而奋斗！\\n']\n",
            "[0, 0, 0.99998796, '明天出版的人民日报将发表评论员文章，题目是《推进国家治理现代化的一场深刻变革——一论学习贯彻党的十九届三中全会精神》。\\n']\n",
            "[0, 0, 0.999989, '政协第十二届全国委员会第七十一次主席会议28日下午在京召开。全国政协主席俞正声主持并讲话。\\n会议审议通过了全国政协十三届一次会议主席团、常务主席、主席团会议主持人和大会秘书长、副秘书长名单（草案）；全国政协十三届一次会议预备会议日程；全国政协十三届一次会议提案审查委员会人选建议名单（草案）；全国政协十三届一次会议分组办法（草案）和委员小组召集人名单（草案）；全国政协十三届一次会议秘书处机构设置和工作任务（草案）。会议决定将上述有关草案分别提请全国政协十三届一次会议预备会议和全国政协十三届一次会议主席团第一次会议审议。\\n会议推举十二届全国政协主席俞正声在全国政协十三届一次会议上作常委会工作报告、十二届全国政协副主席万钢作提案工作情况的报告。\\n会议确定王国庆担任全国政协十三届一次会议新闻发言人。\\n会议还听取了有关议题和全国政协十三届一次会议筹备工作情况所作的说明和汇报。\\n俞正声在讲话中说，五年来，全国政协紧密团结在以习近平同志为核心的中共中央周围，始终坚持中国共产党领导，坚持人民政协性质定位，坚持围绕中心、服务大局，坚持团结和民主两大主题，坚持发挥政协委员主体作用，在历届政协奠定的良好基础上，坚持在继承中发展、在发展中创新，形成了团结民主、务实进取、蓬勃发展的新局面，彰显了中国特色社会主义制度的优势和特点，在党和国家事业中发挥了不可替代的重要作用、作出了重要贡献。我们要以敬终如始的精神把工作完成好，为十二届政协工作画上圆满的句号，为人民政协事业的继往开来作出应有贡献。\\n']\n",
            "[0, 0, 0.9999887, '国务院副总理、第24届冬季奥林匹克运动会工作领导小组组长张高丽27日会见载誉归来的平昌冬奥会中国体育代表团，向全体运动员、教练员和冬奥组委工作人员转达了党中央、国务院的亲切问候，强调体育战线要认真学习贯彻习近平新时代中国特色社会主义思想和党的十九大精神，牢固树立“四个意识”，坚定“四个自信”，弘扬中华体育精神和奥林匹克精神，实现北京冬奥会办赛精彩参赛出彩。\\n张高丽在听取中国体育代表团汇报后，对大家取得的成绩表示祝贺。\\n张高丽强调，平昌冬奥会落下帷幕，冬奥会“北京周期”已经开启。习近平总书记通过视频向全世界发出了2022年相约北京的诚挚邀请。北京冬奥会是党和国家的一件大事，是全国人民的一件喜事，是全世界的一件盛事。要认真学习贯彻习近平总书记重要讲话和指示批示精神，全面落实“绿色办奥、共享办奥、开放办奥、廉洁办奥”理念，把北京冬奥会办成一届精彩、非凡、卓越的奥运盛会。\\n张高丽表示，实现习近平总书记提出的“办赛精彩，参赛也要出彩”目标，要靠广大运动员、教练员去拼搏、去奋斗、去奉献。希望大家把在北京冬奥会上取得优异成绩作为重要政治任务完成好，不辜负总书记的关心和祖国人民的期待。要提高竞技水平，弘扬中华体育精神和奥林匹克精神，在北京冬奥会上展现出最佳竞技状态和水平，为实现体育强国梦贡献青春和力量。要抓住北京冬奥会难得机遇，推广普及冰雪运动，开创全民健身新局面。\\n刘延东、蔡奇出席会见活动。\\xa0\\xa0\\xa0 \\n']\n",
            "[0, 0, 0.9999879, '经中央军委批准，军委政治工作部组织编写了《军委主席负责制学习读本》日前由解放军出版社出版，印发全军。\\n《读本》共8讲，系统阐述全面深入贯彻军委主席负责制的重大意义，阐释军委主席负责制的形成发展、本质内涵、独特优势，阐明全面深入贯彻军委主席负责制的体制机制保障、实践要求、落实责任等基本问题，是学习贯彻中央军委《关于全面深入贯彻军委主席负责制的意见》的配套读物，是各级开展军委主席负责制学习教育的基本教材。\\n']\n",
            "[0, 0, 0.9999884, '连日来，《中国共产党中央委员会关于修改宪法部分内容的建议》得到了各地干部群众的坚决拥护。大家认为，修改宪法是推进全面依法治国、推进国家治理体系和治理能力现代化的重大举措，符合事业发展需要、顺应人民意愿。\\u3000\\n十八大以来，老百姓的获得感、幸福感体现在方方面面，党和国家事业取得历史性成就、发生历史性变革。习近平新时代中国特色社会主义思想，作为取得这些辉煌成就的根本理论指引，得到了全国人民的高度认同。\\n']\n",
            "[0, 0, 0.99997526, '《中国共产党第十九次全国代表大会报告摘编》（中、英文版），近日由外文出版社在国内外出版发行。《报告摘编》充分反映了十八大以来中国改革开放和社会主义现代化建设取得的历史性成就，充分反映了十九大提出的重要思想、重要观点、重大判断、重大举措。该书法、俄、阿、西、葡、德、日等版本，将于近期陆续在国内外出版发行。\\n']\n",
            "[0, 0, 0.9999884, '国务院新闻办公室今天举行新闻发布会，介绍近日发布的《关于加强知识产权审判领域改革创新若干问题的意见》。该《意见》是由习近平总书记主持召开十九届中央全面深化改革领导小组第一次会议审议通过的，是第一个专门面向知识产权审判的里程碑式的纲领性文件，对于全面加快我国知识产权审判体系和审判能力现代化进程具有重大的现实意义和深远的历史影响。\\n']\n",
            "[1, 0, 0.6708386, '国务院台办、国家发展改革委等29个部门，今天（28日）发布并施行《关于促进两岸经济文化交流合作的若干措施》，涵盖产业、财税、用地、文化等多个领域，着力为台资企业、台湾同胞提供与大陆企业、大陆同胞同等的待遇。\\n联播快讯\\n']\n",
            "[1, 0, 0.99825674, '今天，北京至雄安城际铁路正式开工建设。这条铁路连接雄安新区、北京新机场和北京城区，可实现30分钟从北京城区到达雄安新区，建成后将为新区集中承接北京非首都功能疏解提供有力支撑。\\n']\n",
            "[1, 0, 0.99819654, '今天世界首个电压等级最高的张北柔性直流电网项目开工建设。2020年建成后，将会大规模输送、消纳张北地区清洁能源，实现冬奥会场馆100%清洁能源供电。\\n']\n",
            "[1, 0, 0.99762756, '今天，全国妇联授予余留芬、王雪梅等10位杰出女性全国三八红旗手标兵荣誉称号，表彰她们立足本职工作, 用智慧和汗水在岗位上创造出的骄人业绩。\\n']\n",
            "[1, 0, 0.998322, '今天黑龙江、吉林、辽宁迎来降雪天气，中央气象台发布暴雪黄色预警，预计今夜到明天降雪仍会持续，新增积雪厚度可达5到15厘米。同时，冷空气还会带来大风降温，建议大家合理安排出行，注意交通安全。\\n']\n",
            "[2, 0, 0.7739271, '据叙利亚国家电视台27日报道，由俄罗斯推动的大马士革东郊东古塔地区人道主义停火当天上午正式生效，但停火开始后反政府武装向用于平民疏散的安全走廊发射炮弹，阻挠平民撤离。反政府武装否认展开袭击。\\n']\n",
            "[2, 0, 0.99005646, '据朝中社27日报道，朝鲜和韩国当天在板门店朝方一侧的统一阁举行工作会谈，磋商朝方参加3月的冬残奥会事宜。报道说，会谈通过了联合新闻公报，包含朝方将派民族残疾人奥林匹克委员会代表团和运动员代表团参加冬残奥会、代表团往返路线和日期等内容。\\n']\n",
            "[2, 0, 0.96002775, '美国联邦储备委员会主席鲍威尔27日表示，美国经济稳健增长，就业市场持续向好，尽管近期股市波动，但金融条件仍维持宽松。鲍威尔表示，美联储认为进一步渐进加息将有助于实现充分就业和价格稳定两大政策目标。\\n']\n",
            "[2, 0, 0.99361426, '东京奥组委28日公布了2020年东京夏季奥运会和残奥会吉祥物。吉祥物使用了日本传统图案，同时颇具未来感。东京奥组委表示，共提供了三组备选吉祥物，让650万日本小学生以班级为单位投票进行评选。最终这对吉祥物脱颖而出获得近11万张投票。\\n']\n",
            "[2, 0, 0.99591285, '欧洲多国近日遭来自西伯利亚的寒流袭击，出现大雪低温，至少24人因严寒天气导致的各类灾害死亡。英国大部分地区27日清晨的温度都降至零度以下，英国气象局当天发布次高级琥珀色预警。德国政府因寒潮取消了原定于28日举行的迎接外国元首来访军队检阅仪式。在克罗地亚西北部城镇代尔尼采，积雪厚度182厘米，城镇陷入瘫痪。\\n']\n",
            "[0, 0, 0.99998844, '中共中央2月6日和28日分别举行党外人士座谈会和民主协商会，就《中共中央关于深化党和国家机构改革的决定》、《深化党和国家机构改革方案》、中共中央拟向十三届全国人大一次会议推荐的国家机构领导人员人选建议名单和拟向全国政协十三届一次会议推荐的全国政协领导人员人选建议名单，向各民主党派中央、全国工商联和无党派人士代表通报情况，听取意见。中共中央总书记、国家主席、中央军委主席习近平主持会议并发表重要讲话。\\n李克强、俞正声、栗战书、汪洋、王沪宁、赵乐际、韩正出席会议。\\n习近平在讲话中指出，党和国家机构职能体系是中国特色社会主义制度的重要组成部分，是国家治理体系和治理能力的重要支撑。党和国家机构属于上层建筑，必须适应经济基础的要求。经济不断发展，社会不断进步，人民生活不断改善，上层建筑就要适应新的要求不断进行改革。这是人类社会发展的一条普遍规律。机构改革是一个过程，不会一蹴而就，也不会一劳永逸，需要不断进行调整。\\n习近平强调，这次深化党和国家机构改革，从5个大的方面进行了部署。一是健全党对重大工作的领导体制机制，强化党的组织在同级组织中的领导地位，更好发挥党的职能部门作用，统筹设置党政机构，推进党的纪律检查体制和国家监察体制改革。二是合理配置宏观管理部门职能，深入推进简政放权，完善市场监管和执法体制，改革自然资源和生态环境管理体制，强化事中事后监管，完善公共服务管理体制，提高行政效率。三是完善党政机构布局，深化人大政协司法机构改革，深化群团组织改革，推进社会组织改革，加快推进事业单位改革，深化跨军地改革。四是赋予省级及以下机构更多自主权，构建简约高效的基层管理体制，规范垂直管理体制和地方分级管理体制。五是依法管理各类组织机构，强化机构编制管理刚性约束，严格机构编制管理权限和程序。深化党和国家机构改革，是贯彻落实中共十九大精神的重要内容，是坚持和完善党的领导、完善和发展中国特色社会主义制度、推进国家治理体系和治理能力现代化的重要任务，关系改革开放和社会主义现代化建设全局，关系全面建成小康社会、实现中华民族伟大复兴的中国梦。对深化党和国家机构改革重要性和紧迫性的认识、对改革方案的研究谋划，都要放到时代背景下、站在更高层次上来把握。\\n习近平指出，第十三届全国人民代表大会第一次会议和中国人民政治协商会议第十三届全国委员会第一次会议即将召开，这是继中共十九大胜利召开之后我国各族人民政治生活中的又一件大事。选举产生新一届国家机构和全国政协领导人员，分别是这两个会议的一项重要任务，也是关系全局的一件大事。中共中央对做好新一届国家机构和全国政协换届人事安排工作十分重视，进行了研究部署，在一定范围内进行了酝酿、听取意见。在酝酿过程中，大家认为，新一届国家机构和全国政协领导人员人选的产生，要着眼于统筹推进“五位一体”总体布局和协调推进“四个全面”战略布局，着眼于完善和发展中国特色社会主义制度、推进国家治理体系和治理能力现代化，着眼于加强全国人大、全国政协的工作，团结凝聚各方面力量；要坚持党管干部原则，坚持德才兼备、以德为先，坚持五湖四海、任人唯贤，坚持事业为上、公道正派，严把人选政治关、廉洁关、形象关；要积极稳妥推进国家高层领导的新老交替。经过反复比选、统筹考虑，兼顾方方面面，经中共中央政治局常委会会议和中央政治局会议讨论，提出了新一届国家机构和全国政协领导人员人选建议名单，并提请中共十九届三中全会审议。\\n习近平希望各民主党派、工商联和无党派人士把思想和行动统一到中共中央关于深化改革的一系列决策部署上来，大力支持改革，积极投身改革，为破解难题、深化改革广建良言、广献良策，做好沟通思想、协调关系、理顺情绪、化解矛盾的工作，凝聚广泛共识，为改革营造良好的社会环境、形成强大合力。希望各民主党派、工商联和无党派人士以饱满的政治热情参加全国两会，引导本党派、本界别的代表和委员认真履行职责，传递正能量、发出好声音、展示新形象，确保大会各项任务顺利完成，把两会开成团结民主、风清气正的大会。\\n会上，民革中央主席万鄂湘、民盟中央主席丁仲礼、民建中央主席郝明金、民进中央主席蔡达峰、农工党中央主席陈竺、致公党中央主席万钢、九三学社中央主席武维华、台盟中央主席苏辉、全国工商联主席高云龙、无党派人士代表郭雷等发了言。他们一致赞同《中共中央关于深化党和国家机构改革的决定》，认为中共中央关于深化党和国家机构改革方案、新一届国家机构和全国政协领导人员人选建议名单，都是在广泛征求意见、充分酝酿协商的基础上形成的，体现了中共十九大精神，顺应新时代中国特色社会主义事业发展新形势新任务的要求，表示坚决拥护，并就深化党和国家机构改革、支持加强民主党派自身建设等提出了意见和建议。\\n丁薛祥、王晨、刘鹤、杨晓渡、陈希、郭声琨、黄坤明、尤权、张庆黎出席会议。\\n出席会议的党外人士还有陈昌智、严隽琪、张宝文、韩启德、林文漪、罗富和、齐续春、陈晓光、马培华、刘晓峰、王钦敏和郑建邦、辜胜阻、刘新成、何维、蒋作君、邵鸿、李钺锋、谢经荣、宇如聪等。\\n']\n",
            "[0, 0, 0.9999892, '中共中央1日上午在人民大会堂举行座谈会，纪念周恩来同志诞辰120周年。中共中央总书记、国家主席、中央军委主席习近平发表重要讲话强调，新时代中国特色社会主义的航线已经明确，中华民族伟大复兴的巨轮正在乘风破浪前行。周恩来同志青年时代曾经写下这样的寄语：“愿相会于中华腾飞世界时。”今天，我们可以告慰周恩来同志等老一辈革命家的是：近代以来久经磨难的中华民族迎来了从站起来、富起来到强起来的伟大飞跃。周恩来同志生前念兹在兹的中国现代化的宏伟目标，一定能够在不远的将来完全实现。\\n中共中央政治局常委李克强主持座谈会，中共中央政治局常委栗战书、汪洋、王沪宁、赵乐际、韩正出席座谈会。\\n习近平在讲话中强调，周恩来，这是一个光荣的名字、不朽的名字。每当我们提起这个名字就感到很温暖、很自豪。周恩来同志在为中国人民谋幸福、为中华民族谋复兴、为人类进步事业而奋斗的光辉一生中建立的卓著功勋、展现的崇高风范，深深铭刻在中国各族人民心中，也深深铭刻在全世界追求和平与正义的人们心中。\\n习近平指出，周恩来同志半个多世纪奋斗的人生历程是中国共产党不忘初心、牢记使命历史的一个生动缩影，是新中国孕育、诞生、成长和取得崇高国际威望历史的一个生动缩影，是中国人民在自己选择的革命和建设道路上艰辛探索、不断开拓、凯歌行进历史的一个生动缩影。周恩来同志是近代以来中华民族的一颗璀璨巨星，是中国共产党人的一面不朽旗帜。周恩来同志的崇高精神、高尚品德、伟大风范，感召和哺育着一代又一代中国共产党人。周恩来同志身上展现出来的中国共产党人的崇高精神，是历史的，也是时代的，将激励我们在新时代坚持和发展中国特色社会主义征程上奋勇前进。\\n习近平强调，周恩来同志是不忘初心、坚守信仰的杰出楷模。理想信念是中国共产党人的政治灵魂。中国共产党能够历经挫折而不断奋起，历尽苦难而淬火成钢，归根到底在于千千万万中国共产党人心中的远大理想和革命信念始终坚定执着，始终闪耀着火热的光芒。我们要向周恩来同志学习，不要忘记我们是共产党人，不要忘记我们是革命者，任何时候都不要丧失理想信念，用自己的实际行动坚持和发展中国特色社会主义，为实现共产主义远大理想而努力奋斗。\\n习近平指出，周恩来同志是对党忠诚、维护大局的杰出楷模。我们要向周恩来同志学习，始终严守党的政治纪律和政治规矩，自觉维护党的团结统一，自觉在思想上政治上行动上同党中央保持高度一致，坚定执行党的政治路线，把对党忠诚、为党分忧、为党尽职、为民造福作为根本政治担当，永葆共产党人政治本色。\\n习近平强调，周恩来同志是热爱人民、勤政为民的杰出楷模。“人民总理爱人民，人民总理人民爱”，人民群众用朴素的语言表达了对周恩来同志最真挚的感情。我们党来自人民、植根人民、服务人民，一旦脱离群众，就会失去生命力。我们要向周恩来同志学习，坚持立党为公、执政为民，自觉践行全心全意为人民服务的根本宗旨，把党的群众路线贯彻到治国理政全部活动之中，把人民对美好生活的向往作为奋斗目标，依靠人民创造历史伟业。\\n习近平指出，周恩来同志是自我革命、永远奋斗的杰出楷模。我们党要始终成为马克思主义执政党，自身必须始终过硬。我们要向周恩来同志学习，更加自觉地坚定党性原则，发扬彻底的自我革命精神，不断增强党自我净化、自我完善、自我革新、自我提高的能力，不断增强本领，不断增强党的政治领导力、思想引领力、群众组织力、社会号召力，确保我们党永葆旺盛生命力和强大战斗力。\\n习近平强调，周恩来同志是勇于担当、鞠躬尽瘁的杰出楷模。我们要向周恩来同志学习，敢于担当责任，勇于直面矛盾，善于解决问题，以时不我待、只争朝夕的精神，以钉钉子精神落实好党的十九大作出的各项战略部署，努力创造经得起实践、人民、历史检验的实绩，无愧于时代，无愧于人民，无愧于历史。\\n习近平指出，周恩来同志是严于律己、清正廉洁的杰出楷模。党的作风是党的形象。我们要向周恩来同志学习，牢记手中的权力是党和人民赋予的，是用来为人民服务的，一身正气，两袖清风，自觉接受监督，敬畏人民、敬畏组织、敬畏法纪，拒腐蚀、永不沾，决不搞特权，决不以权谋私，做一个堂堂正正的共产党人。\\n李克强在主持座谈会时说，习近平总书记的重要讲话，回顾了周恩来同志伟大、光荣的一生，高度评价了周恩来同志的丰功伟绩，号召全党全国人民学习周恩来同志的崇高品德和精神风范，对于指导我们党把周恩来同志等老一辈革命家所开创的伟大事业继续推向前进，在新时代坚持和发展中国特色社会主义，具有重大意义。各地区各部门要结合实际认真学习、深刻领会、切实贯彻。要紧密团结在以习近平同志为核心的党中央周围，在习近平新时代中国特色社会主义思想指引下，按照党的十九大的战略部署，锐意进取、埋头苦干，为决胜全面建成小康社会、夺取新时代中国特色社会主义伟大胜利、实现中华民族伟大复兴的中国梦而努力奋斗。\\n座谈会上，中央文献研究室主任冷溶，中央党史研究室主任曲青山，国务院副秘书长丁学东，全国政协副秘书长潘立刚，中央军委委员、中央军委政治工作部主任苗华，江苏省委书记娄勤俭先后发言。\\n部分中共中央政治局委员、中央书记处书记，部分全国人大常委会、国务院、全国政协、中央军委领导同志，中央党政军群有关部门、北京市、江苏省委负责同志，周恩来同志亲属、生前友好、原身边工作人员和家乡代表等出席了座谈会。\\n']\n",
            "[0, 0, 0.9999882, '国家主席习近平1日下午在人民大会堂北大厅举行仪式，欢迎汤加王国国王图普六世对我国进行国事访问。\\n天安门广场上鸣礼炮21响。\\n习近平主席夫人彭丽媛，中共中央政治局委员、国务委员杨洁篪，全国人大常委会副委员长张平，全国政协副主席陈晓光等出席欢迎仪式。\\n陪同图普六世访华的有王后、副首相兼基础设施和旅游大臣、宫务大臣等。\\n军乐团奏汤中两国国歌。\\n图普六世在习近平陪同下检阅中国人民解放军三军仪仗队。\\n图普六世是应习近平的邀请对我国进行国事访问的。\\n欢迎仪式后，习近平主席同图普六世国王举行会谈。两国元首一致同意，在新的历史起点上，推动中汤战略伙伴关系得到新的更大发展。\\n习近平欢迎图普六世在中汤建交20周年之际来华进行国事访问，并对汤加不久前遭受严重飓风灾害表示诚挚慰问。习近平指出，20年前，图普六世国王曾以外交和国防大臣身份来华签署中汤建交公报，为建立和发展中汤关系作出了历史性贡献。希望汤加王室在推动中汤关系发展方面继续发挥积极作用。\\n习近平强调，中国同包括汤加在内的太平洋岛国是同呼吸、共命运、齐发展的好朋友、好伙伴。中共十九大提出要推动建设相互尊重、公平正义、合作共赢的新型国际关系，推动构建人类命运共同体，强调中方将秉持正确义利观和真实亲诚理念，加强同发展中国家团结合作。上述理念和方针将为中汤关系和两国合作开辟更加广阔的前景。\\n习近平指出，中汤要加强高层和各级别交往，增进政治互信，继续在涉及彼此主权、领土完整、国家尊严等问题上相互理解和支持。要扩大两国政府部门、立法机构对话、交流、合作，深挖潜力，积极拓展各领域务实合作，共同推进“一带一路”框架下合作，实现共赢共享发展。中方深知汤加作为小岛屿发展中国家，在经济社会发展过程中面临特殊挑战，愿继续在力所能及范围内为汤方提供不附加任何政治条件的经济技术援助。中国的援助不是单方面给予和简单的输血式援助，而是“授人以渔”。只要中方作出的承诺，都会不折不扣地落实，使当地人民从中汤合作中有更多获得感。中方愿同汤方加强气候变化南南合作，密切同太平洋岛国的交流合作。\\n图普六世表示，祝贺中共十九大去年成功举行。习近平主席是富有远见和智慧的领导人，相信在习近平主席领导下，中国将取得更大成就。汤加高度重视发展同中国的友好关系，由衷感谢中国政府和人民一直以来为汤加经济社会建设提供的宝贵支持和帮助，感谢中国不久前在汤加遭受飓风灾害后第一时间提供救灾援助。汤加赞同中国关于建设新型国际关系的重要主张，愿同中方一道努力，构建人类命运共同体。汤加坚定奉行一个中国政策。汤方愿同中方密切在贸易、基础设施建设、旅游等各领域以及“一带一路”框架下的友好合作，希望中国帮助汤加实现更大发展，应对气候变化的挑战。汤加支持深化太平洋岛国同中国的合作。\\n会谈后，两国元首共同见证了经济技术合作、人力资源开发、教育等领域双边合作文件的签署。双方还发表了《中华人民共和国和汤加王国联合新闻公报》。\\n杨洁篪等参加上述活动。\\n']\n",
            "[0, 0, 0.99998915, '中共中央总书记、国家主席、中央军委主席习近平近日给浙江宁波余姚市梁弄镇横坎头村全体党员回信，勉励他们传承好红色基因，发挥好党组织战斗堡垒作用和党员先锋模范作用，同乡亲们一道，再接再厉、苦干实干，努力建设富裕、文明、宜居的美丽乡村。\\n习近平在回信中说，很高兴收到你们的来信。15年前到你们村的情景我都记得，我一直惦记着乡亲们。这些年，村党组织团结带领乡亲们艰苦奋斗，发展红色旅游，利用绿色资源，壮大特色农业，把村子建设成了远近闻名的小康村、文明村，乡亲们生活不断得到改善，我感到十分欣慰。\\n习近平指出，办好农村的事情，实现乡村振兴，基层党组织必须坚强，党员队伍必须过硬。希望你们不忘初心、牢记使命，传承好红色基因，发挥好党组织战斗堡垒作用和党员先锋模范作用，同乡亲们一道，再接再厉、苦干实干，结合自身实际，发挥自身优势，努力建设富裕、文明、宜居的美丽乡村，让乡亲们的生活越来越红火。\\n梁弄镇位于余姚四明山革命老区，该镇横坎头村是浙东抗日根据地的中心所在地。本世纪初，横坎头还是一个交通闭塞、房屋破旧、村民收入比较低的经济薄弱村。2003年春节前夕，刚刚担任浙江省委书记的习近平专程到梁弄镇和横坎头村考察调研，提出了建设“全国革命老区全面奔小康样板镇”的殷切期望。春节过后不久，习近平又给村里的党员群众回信，鼓励他们加快老区开发建设，尽快脱贫致富奔小康。15年来，遵照习近平的重要指示精神，横坎头村调整产业结构，发挥资源优势，走上了全面小康道路，相继被评为浙江省全面小康示范村、全国文明村。近日，横坎头村全体党员给习近平总书记写信，汇报该村的发展变化情况，表达发挥先锋模范作用、带领群众建设美丽乡村的决心。\\n']\n",
            "[0, 0, 0.99998903, '中共中央政治局常委、国务院总理、党组书记李克强1日主持召开国务院党组会议，学习贯彻党的十九届三中全会精神。\\n会议指出，习近平总书记在全会上作的工作报告，系统总结了党的十九届一中全会以来，中央政治局团结带领全党全国各族人民，推动党和国家各项事业取得的新成绩。全会审议通过了拟向十三届全国人大一次会议推荐的国家机构领导人员人选建议名单和拟向全国政协十三届一次会议推荐的全国政协领导人员人选建议名单。全会审议通过的《中共中央关于深化党和国家机构改革的决定》和《深化党和国家机构改革方案》，明确了深化党和国家机构改革的指导思想、原则、目标和任务，对加快推进国家治理体系和治理能力现代化意义重大。\\n会议强调，各级政府要紧密团结在以习近平同志为核心的党中央周围，把思想和行动统一到党中央关于深化党和国家机构改革的决策部署上来，坚决维护以习近平同志为核心的党中央权威和集中统一领导，不折不扣抓好落实。要以加强党的全面领导为统领，以优化政府机构设置和职能配置为契机，深化转职能、转方式、转作风，围绕推动高质量发展、建设现代化经济体系，深化“放管服”改革，进一步优化营商环境，提高政府宏观管理、市场监管、生态环境管理、公共服务等效能。统筹兼顾做好经济社会发展各项工作，为贯彻党的十九大精神开好局、起好步。\\n张高丽、刘延东、汪洋、马凯、常万全、杨洁篪、郭声琨、王勇出席。\\n']\n",
            "[0, 0, 0.99998885, '国务院总理李克强3月1日下午在人民大会堂会见汤加国王图普六世。\\n李克强表示，汤加是中国在太平洋岛国地区的好朋友、好伙伴。习近平主席同国王陛下举行富有成果的会谈，有力推动两国关系发展。我们赞赏汤方坚定奉行一个中国政策，愿以两国建交20周年为契机，巩固政治互信，将“一带一路”倡议同汤加发展战略更好对接，扩大重大生产项目、基础设施、民生工程、农业技术、农产品等领域务实合作，密切人文交流，推动两国关系不断迈上新台阶。\\n图普六世表示，汤中两国虽相距遥远，但建交20年来双边关系持续稳定健康发展。汤加坚定奉行一个中国政策，愿继续深化双方政治互信，拓展经贸、教育、基础设施、农业食品等领域合作，更好实现互利共赢。\\n当天下午，汤加国王图普六世还前往天安门广场，向人民英雄纪念碑敬献了花圈。\\n']\n",
            "[0, 0, 0.999989, '中共政协第十二届全国委员会党组3月1日下午在京召开会议，传达学习贯彻习近平总书记在党的十九届三中全会上的重要讲话和全会精神，全国政协主席、党组书记俞正声主持会议并讲话。\\n会议认为，党的十九届三中全会审议通过了深化党和国家机构改革的决定和方案，这是以习近平同志为核心的党中央站在党和国家事业发展全局，适应新时代中国特色社会主义发展要求作出的重大决策部署，是着眼实现全面深化改革总目标的重大制度安排，是推进国家治理体系和治理能力现代化的一场深刻变革，对于提高党的执政能力和领导水平，广泛调动各方面积极性、主动性、创造性，有效治理国家和社会，推动党和国家事业发展，具有重大意义。\\n会议强调，要深入学习贯彻习近平总书记在十九届三中全会上关于深化党和国家机构改革的重要论述，深刻认识党和国家机构改革的重大意义，把思想和行动统一到党的十九届三中全会关于深化党和国家机构改革的重大决策部署上来。一要深刻认识党和国家机构改革是推进中国特色社会主义事业发展的必然要求，在党的统一领导下协调行动、增强合力，全面提高国家治理能力和治理水平。二要深刻认识党和国家机构改革是加强党的全面领导的重要举措，进一步增强“四个意识”，坚决维护党中央集中统一领导，坚决拥护党中央关于党和国家机构改革的重大部署，坚定不移把党中央决策部署落到实处。三要坚决贯彻落实党中央关于政协机构改革的决策部署，实现机构职能优化、协同高效。要充分认识开好全国政协十三届一次会议的重大意义，全力以赴地抓好大会各项组织工作，确保会议圆满成功。\\n']\n",
            "[0, 0, 0.9999889, '党的十九届三中全会审议通过了《中共中央关于深化党和国家机构改革的决定》和《深化党和国家机构改革方案》。大家表示，机构改革是国家治理现代化的一场深刻变革，必将为中华民族伟大复兴提供有力制度保障。\\n十八大以来，党和国家机构改革取得重大进展，但面对新时代新任务提出的新要求，机构设置和职能配置同实现国家治理体系现代化还不完全适应。\\n大家认为，全会对深化党和国家机构改革的目标作了明确，必将全面提高国家治理能力和治理水平，推动我国经济社会发展行稳致远。\\n大家表示，要紧密团结在以习近平同志为核心的党中央周围，统一思想，统一行动，锐意改革，确保完成深化党和国家机构改革的各项任务。\\n']\n",
            "[0, 0, 0.99998796, '明天（3月2日）出版的人民日报发表评论员文章，题目是：牢牢把握深化党和国家机构改革的原则——二论学习贯彻党的十九届三中全会精神。\\n']\n",
            "[0, 0, 0.99998885, '全国两会召开在即，今天，出席全国政协十三届一次会议的全国政协委员开始集中向大会报到。\\n今年是政协换届之年，2158名全国政协委员中，一半以上为新面孔，分布广泛，56个民族都有人选，平均年龄55.9岁，注意安排了经济、科技等领域的专家学者和有突出贡献的人选，增加了一线工人和农民数量。普遍具有良好的综合素质和较强的参政议政能力。\\n']\n",
            "[0, 0, 0.99998784, '新时代是奋斗者的时代。冬去春来，全国各地的劳动者正以十足的干劲儿、饱满的热情，奋进在十九大以来的第一个春天。《新闻联播》从今天起推出系列报道《我奋斗 我幸福》，今天播出第一集《无人码头正青春》，我们一起到青岛港认识一群普通劳动者。\\n每天，在青岛港，等候进出港的国内外货轮上百艘。清晨，伊万船长驾驶的货轮驶入港口。距离码头600多米之外的这间远程操控室，直接决定着伊万船长的货船能不能准时离开港口。\\n此时，伊万船长的货轮，正在装载集装箱，10个小时后他接到通知，可以离港口了，这让他很意外，比他计划的整整提前了5个小时。\\n伊万船长的货轮开走了，对他来说，提前了五个小时，就意味着为他节省下停泊费五万美金。\\n三年前，王崇山迎接挑战，从人工码头投入全自动化码头的建设中，成为了全亚洲第一个桥吊远程操控员。但是难题来了，远程操控比起现场人工操作，没有手感。\\n为了解决这些难题，王崇山拿出了蚂蚁啃骨头的劲头，一个月就写下了四五万字的实践操作笔记。\\n争分夺秒和时间赛跑，吃饭休息时也要讨论研究几个问题，对于团队的成员来说，自动化远程操控给了大家一个全新的舞台，每个人都非常珍惜。\\n2017年5月11日，青岛港全自动化码头正式启动，王崇山和他的团队首次吊装就完成了26.1自然箱作业效率，这是全球自动化码头运营以来的最高成绩。这一天，王崇山在朋友圈里，把名字改成了“无人的海边”，写下了这样的留言“不忘初心的坚定，不想旅途的艰难，我将和我的战友们，一往直前。”\\n从常规人工码头，到实现全自动化操作，王崇山说，他感受到了奋斗中的中国。\\n联播快讯\\n']\n",
            "[1, 0, 0.99795616, '国家工商总局公布，2017年我国日均新登记企业达16000多户，商事制度改革继续深化。\\n']\n",
            "[1, 0, 0.99397117, '中央电视台《感动中国2017年度人物颁奖盛典》今晚8点在央视综合频道播出，黄大年、卢永根、谢海华、卓嘎和央宗、黄大发、廖俊波等人入选。此外，颁奖盛典还向塞罕坝林场三代建设者们致敬。\\n']\n",
            "[1, 0, 0.9296462, '3月1日是朝鲜半岛反抗日本殖民统治的“三一运动”爆发99周年纪念日。韩国总统文在寅当天在纪念活动中表示，日本政府不应认为“慰安妇”问题已得到解决，日方关于“慰安妇”问题已经了结的主张无法掩盖其在战争期间犯下的反人类罪行。他希望日本能与亚洲受害邻国真心达成和解，携手面向未来，走上和平共存、共同繁荣的道路。\\n']\n",
            "[0, 0, 0.99998903, '中共中央总书记、国家主席、中央军委主席、中央军民融合发展委员会主任习近平3月2日上午主持召开十九届中央军民融合发展委员会第一次全体会议并发表重要讲话。他强调，党的十九大强调要坚定实施军民融合发展战略，形成军民融合深度发展格局，构建一体化的国家战略体系和能力。我们要深入贯彻党的十九大精神，增强使命感和责任感，真抓实干，紧抓快干，不断开创新时代军民融合深度发展新局面。\\n李克强、张高丽、王沪宁出席会议。\\n会议审议通过了《军民融合发展战略纲要》、《中央军民融合发展委员会2018年工作要点》、《国家军民融合创新示范区建设实施方案》及第一批创新示范区建设名单。\\n会议认为，党的十八大以来，党中央把军民融合发展上升为国家战略，从党和国家事业发展全局出发进行总体设计，组织管理体系基本形成，战略规划引领不断强化，重点改革扎实推进，法治建设步伐加快，军民融合发展呈现整体推进、加速发展的良好势头。\\n会议指出，坚定实施军民融合发展战略，要坚持以习近平新时代中国特色社会主义思想为指导，全面贯彻习近平强军思想，落实总体国家安全观和新形势下军事战略方针，贯彻新发展理念，坚持富国和强军相统一，形成军民融合深度发展格局，构建一体化的国家战略体系和能力，为实现中国梦强军梦提供强大动力和战略支撑。要坚持党中央权威和集中统一领导，坚持深化改革创新，坚持军民协同推进，坚持有序开放合作。要立足我国国情，顺应时代大势，科学把握方向，明确战略目标，强化战略举措，在解决突出问题中实现战略突破，在运筹全局中赢得战略优势。要加快形成军民融合发展组织管理体系、工作运行体系、政策制度体系，推动重点领域军民融合发展取得实质性进展，形成全要素、多领域、高效益的军民融合深度发展格局，初步构建一体化的国家战略体系和能力。\\n会议强调，要准确把握军民融合发展战略任务，推进基础设施统筹建设和资源共享、国防科技工业和武器装备发展、军民科技协同创新、军地人才双向培养交流使用、社会服务和军事后勤统筹发展、国防动员现代化建设、新兴领域军民深度融合。\\n会议指出，要坚持突出重点，勇于攻坚克难，全力做好2018年各项工作。要强化思想和战略引领，推动军民融合发展战略在各地区各部门落地生根，在重点领域、重点区域、重点行业取得实效。要实现关键性改革突破，加快国防科技工业体制、装备采购制度、军品价格和税收等关键性改革，加快破除“民参军”、“军转民”壁垒。要聚焦重点精准发力，培育一批典型，强化示范引领，以点带面推动军民融合发展整体水平提升。要加大法治建设力度，推动军民融合发展综合性立法和重点领域立法进程。\\n会议强调，国家军民融合创新示范区是推动军民融合深度发展的“试验田”，要以制度创新为重点任务，以破解影响和制约军民融合发展的体制性障碍、结构性矛盾、政策性问题为主攻方向，探索新路径新模式，形成可复制可推广的经验做法。要坚持顶层统筹推进和地方主动探索相结合，高起点谋划、高标准实施、高质量建设、高效率推进，着力在体制机制创新、政策制度创新、发展模式创新等方面树立标杆。军地相关部门要加强资源统合、力量整合、政策集成。地方党委和政府要主动作为，推动创新示范取得实实在在成效。\\n中央军民融合发展委员会副主任、委员出席会议，中央和国家机关及军委机关有关部门负责同志列席会议。\\n']\n",
            "[0, 0, 0.99998707, '中国共产党的优秀党员，久经考验的忠诚的共产主义战士，我国农业和经济建设战线的杰出领导人，中国共产党第十三届中央政治局委员，中国人民政治协商会议第八届、九届全国委员会副主席，中共四川省委原书记杨汝岱同志的遗体2日在北京八宝山革命公墓火化。\\n杨汝岱同志因病于2018年2月24日17时28分在北京逝世，享年92岁。\\n2日上午，八宝山革命公墓礼堂庄严肃穆，哀乐低回。正厅上方悬挂着黑底白字的横幅“沉痛悼念杨汝岱同志”，横幅下方是杨汝岱同志的遗像。杨汝岱同志的遗体安卧在鲜花翠柏丛中，身上覆盖着鲜红的中国共产党党旗。\\n上午9时30分许，习近平、李克强、张德江、俞正声、张高丽、栗战书、汪洋、王沪宁、赵乐际、韩正等，在哀乐声中缓步来到杨汝岱同志的遗体前肃立默哀，向杨汝岱同志的遗体三鞠躬并与杨汝岱同志亲属一一握手，表示慰问。\\n杨汝岱同志病重期间和逝世后，习近平、李克强、张德江、俞正声、张高丽、栗战书、汪洋、王沪宁、赵乐际、韩正、江泽民、胡锦涛等同志，前往医院看望或通过各种形式对杨汝岱同志逝世表示沉痛哀悼并向其亲属表示深切慰问。\\n党和国家有关领导同志前往送别或以各种方式表示哀悼。中央和国家机关有关部门负责同志，杨汝岱同志生前友好和家乡代表也前往送别。\\n']\n",
            "[0, 0, 0.999989, '中共十二届全国人大常委会党组2日召开会议，学习贯彻习近平总书记在党的十九届三中全会上的重要讲话和全会精神。全国人大常委会委员长、常委会党组书记张德江主持会议并讲话。\\n会议高度评价党的十九届一中全会以来，以习近平同志为核心的党中央，不忘初心、牢记使命、凝心聚力、真抓实干，在决胜全面建成小康社会、开启全面建设社会主义现代化国家新征程上迈出的新步伐，推动党和国家各项事业取得的新成绩。我们坚信，在习近平新时代中国特色社会主义思想的科学指引下，一定能够夺取新时代中国特色社会主义伟大胜利。\\n会议强调，深化党和国家机构改革，是以习近平同志为核心的党中央从党和国家事业全局高度作出的重大政治决策，是适应新时代中国特色社会主义发展要求提出的重大改革举措。我们要切实把思想和行动统一到党中央决策部署上来，把贯彻落实改革决定和改革方案作为重大政治任务，牢固树立“四个意识”，不断增强“四个自信”，坚决维护习近平总书记党中央的核心、全党的核心地位，坚决维护党中央权威和集中统一领导，不折不扣落实好深化党和国家机构改革任务。\\n会议要求，要以对党和人民高度负责的态度，继续全力以赴、扎实细致地做好十三届全国人大一次会议的各项筹备工作，确保党的主张通过法定程序成为国家意志，确保党中央推荐的人选通过法定程序成为国家机构领导人员，确保大会圆满完成各项预定任务。\\n']\n",
            "[0, 0, 0.9999887, '中国人民政治协商会议第十三届全国委员会第一次会议预备会议2日下午在人民大会堂举行。\\n会议由十二届全国政协主席俞正声主持。\\n十二届全国政协副主席杜青林、韩启德、帕巴拉·格列朗杰、董建华、万钢、林文漪、罗富和、何厚铧、张庆黎、李海峰、陈元、卢展工、周小川、王家瑞、王正伟、马飚、齐续春、陈晓光 、马培华、刘晓峰、王钦敏、梁振英出席预备会议。\\n会议以举手表决等方式，审议通过了政协第十三届全国委员会第一次会议主席团、主席团会议主持人和秘书长名单，政协第十三届全国委员会第一次会议议程和日程以及政协第十三届全国委员会第一次会议提案审查委员会名单。\\n政协十三届一次会议预备会议三项议程进行完毕后，政协十三届一次会议主席团会议主持人汪洋走上主席台，向在座的2000多位十三届全国政协委员鞠躬致意，并依次同在主席台就座的十二届全国政协副主席一一握手。随后，汪洋来到主席台中间与十二届全国政协主席俞正声亲切握手。\\n俞正声在预备会议结束时发表讲话。他说，在全国政协十三届一次会议即将开幕之际，我谨代表十二届全国政协，向新一届政协全体委员和主席团成员，表示热烈的祝贺和崇高的敬意！衷心祝愿全国政协十三届一次会议取得圆满成功，衷心祝愿新一届全国政协在以习近平同志为核心的中共中央坚强领导下，在习近平新时代中国特色社会主义思想指引下，承前启后、继往开来，携手新时代，创造新辉煌，书写人民政协事业发展新的历史篇章，为决胜全面建成小康社会、夺取新时代中国特色社会主义伟大胜利、实现中华民族伟大复兴的中国梦作出新的更大贡献。\\n']\n",
            "[0, 0, 0.99998766, '政协第十三届全国委员会第一次会议主席团第一次会议2日下午在人民大会堂举行。主席团会议主持人汪洋主持会议。\\n会议审议通过了政协第十三届全国委员会第一次会议主席团常务主席名单、政协第十三届全国委员会第一次会议各次全体会议执行主席和主持人名单、政协第十三届全国委员会第一次会议分组办法和委员小组召集人名单、政协第十三届全国委员会第一次会议副秘书长名单、政协第十三届全国委员会第一次会议秘书处机构设置和工作任务。\\n全国政协十三届一次会议主席团常务主席张庆黎、刘奇葆、帕巴拉·格列朗杰、董建华、万钢、何厚铧、卢展工、王正伟、马飚、陈晓光、梁振英在主席台就座。\\n']\n",
            "[0, 0, 0.9999886, '习近平总书记在十九大报告中提出要推动形成全面开放新格局，发展更高层次的开放型经济。十九大以来，广东省践行习近平新时代中国特色社会主义思想，积极开展“大学习、深调研、真落实”活动，实施创新驱动和高质量发展战略，全面构建开放型经济新格局。\\n春节假期刚过，广州市越秀区政务服务中心不断有外商前来咨询和注册。已经在广东扎根30多年的泰国正大集团，今年准备继续扩大在广东的投资。\\n正大集团看好的，正是十九大后广东出台的《进一步扩大对外开放积极利用外资若干政策措施》。这个被称为“外资十条”的政策，从市场准入、财政奖励、用地指标和人才服务等十个方面打造法治化、国际化、便利化的营商环境，进而提高外资质量和水平，形成对外开放新格局。\\n广州南沙港作为“一带一路”沿线重要港口，十九大以后，针对企业头疼的“查验”环节，全新推出“线上海关”，通过引入高科技设备，实现了当天申报、当天放行。\\n开放体现在便利，也体现在高效上。前不久，富士康第10.5代显示器全生态产业园区落户广州增城，项目前期投资达610亿元，是改革开放以来广州单笔投资额最大的先进制造业项目。目前，项目已开始土建施工，明年9月就可以量产。\\n开放让广东更具吸引力。广东省外贸进出口总额连续5年超6万亿元，实际利用外商直接投资居全国前列。仅广州市就有297家世界500强企业进驻，投资项目900多个，而且大多集中在新一代信息技术、新能源等高技术领域。\\n现在，广东省借助粤港澳大湾区建设，打造世界级城市群的有利时机，全面构建开放型经济新格局。广深港高铁、港珠澳大桥加快建设；携手港澳打造国际科技创新中心；实施出入境、跨境交通等一系列重大项目和措施稳步推进。\\n作为经济大省、创新大省、开放大省的广东，正在经济发展质量和结构效益上努力在全国引领示范。\\n']\n",
            "[0, 0, 0.99998766, '《人民日报》今天发表文章《习近平同志在福建宁德工作时反腐倡廉的生动实践——回忆1990年我的一次采访》，同时还配发了评论，题目是《坚定不移的意志 始终如一的情怀》。\\n']\n",
            "[0, 0, 0.9999885, '“在党的统一领导下协调行动、增强合力，全面提高国家治理能力和治理水平”。《中国共产党第十九届中央委员会第三次全体会议公报》一经发布，立刻在广大干部群众中引起热烈反响。\\n大家表示，深化党和国家机构改革，是推进国家治理体系和治理能力现代化的一场深刻变革。面对新形势新任务，我们要统一思想，确保完成深化党和国家机构改革的各项任务。\\n大家表示，只有加强党的全面领导，让党的领导全覆盖，各项工作的主线才能更加清晰，只有优化政府机构设置和职能配置，政府效能才能全面提高，人民才能满意。\\n']\n",
            "[0, 0, 0.99998736, '两会首场新闻发布会今天举行，政协大会新闻发言人王国庆介绍了全国政协十三届一次会议的主要安排。在回答本台记者提出的“对新一届政协委员在新时代履职的期待”时，王国庆表示：“人民政协将把学习贯彻十九大精神和习近平新时代中国特色社会主义思想作为重中之重，以崭新的气象和优异的成绩回应时代和人民的要求。”\\n而在谈到“新时代中国经济发展前景”时，王国庆说，2017年中国经济不仅“颜值”高，“气质”也相当好。新时代中国经济的发展一定会更高质量、更有效率、更可持续，继续发挥世界经济增长的“压舱石”和主引擎作用。会上，发言人还就脱贫攻坚、中小学生减负、新农村建设等多个方面问题回答了记者的提问。\\n']\n",
            "[0, 0, 0.999988, '明天出版的人民日报将发表社论《不负新时代的光荣使命——热烈祝贺全国政协十三届一次会议开幕》。\\n']\n"
          ]
        }
      ]
    },
    {
      "cell_type": "markdown",
      "metadata": {
        "id": "vqziKHN0ynMO"
      },
      "source": [
        "####ROC AUC"
      ]
    },
    {
      "cell_type": "code",
      "metadata": {
        "id": "pzdDHGZU6KYV",
        "colab": {
          "base_uri": "https://localhost:8080/"
        },
        "outputId": "38905eee-c870-4848-e6c4-08c435ccdae7"
      },
      "source": [
        "# Calcualte the ROC AUC score for our model's predictions.\n",
        "score = roc_auc_score(flat_true_labels, flat_predictions)\n",
        "\n",
        "print('ROC AUC: {:.4f}'.format(score))"
      ],
      "execution_count": 38,
      "outputs": [
        {
          "output_type": "stream",
          "name": "stdout",
          "text": [
            "ROC AUC: 0.5144\n"
          ]
        }
      ]
    }
  ]
}